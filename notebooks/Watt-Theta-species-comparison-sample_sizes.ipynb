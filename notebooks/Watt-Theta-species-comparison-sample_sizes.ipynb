{
 "cells": [
  {
   "cell_type": "code",
   "execution_count": null,
   "metadata": {},
   "outputs": [],
   "source": [
    "import intake\n",
    "import allel\n",
    "import numpy as np\n",
    "import matplotlib.pyplot as plt\n",
    "from dask_kubernetes import KubeCluster\n",
    "from dask.distributed import Client\n",
    "import pandas as pd\n",
    "%matplotlib inline\n",
    "\n",
    "import dask.array as da\n",
    "\n",
    "import seaborn as sns\n",
    "sns.set_context('paper')\n",
    "\n",
    "import scipy.stats as ss\n",
    "\n",
    "import functools\n",
    "import zarr\n",
    "\n",
    "import fsspec\n",
    "import random\n",
    "\n",
    "import yaml\n",
    "\n",
    "import dask\n",
    "\n",
    "import gcsfs\n",
    "from pathlib import Path"
   ]
  },
  {
   "cell_type": "markdown",
   "metadata": {},
   "source": [
    "## Setup"
   ]
  },
  {
   "cell_type": "code",
   "execution_count": null,
   "metadata": {},
   "outputs": [],
   "source": [
    "cluster = KubeCluster(n_workers=20)\n",
    "client = Client(cluster)\n",
    "\n",
    "client"
   ]
  },
  {
   "cell_type": "code",
   "execution_count": null,
   "metadata": {},
   "outputs": [],
   "source": [
    "# Use `cache_timeout=0` to prevent object list cache, to avoid recreating map for Zarr consolidated metadata\n",
    "gcs_orig = gcsfs.GCSFileSystem(project='malariagen-jupyterhub', token='cache', cache_timeout=0)\n",
    "gcs =  gcsfs.GCSFileSystem(project='malariagen-jupyterhub', token=gcs_orig.session.credentials, cache_timeout=0)"
   ]
  },
  {
   "cell_type": "code",
   "execution_count": null,
   "metadata": {},
   "outputs": [],
   "source": [
    "cat = intake.open_catalog('https://malariagen.github.io/intake/gcs.yml')\n",
    "cat"
   ]
  },
  {
   "cell_type": "code",
   "execution_count": null,
   "metadata": {},
   "outputs": [],
   "source": [
    "ag3 = cat.ag3\n",
    "ag3"
   ]
  },
  {
   "cell_type": "code",
   "execution_count": null,
   "metadata": {},
   "outputs": [],
   "source": [
    "df_sets = ag3.sample_sets.read()\n",
    "df_sets"
   ]
  },
  {
   "cell_type": "code",
   "execution_count": null,
   "metadata": {},
   "outputs": [],
   "source": [
    "genome_path_gcs = 'gs://vo_agam_release/reference/genome/agamp4/Anopheles-gambiae-PEST_CHROMOSOMES_AgamP4.zarr'\n",
    "genome_store = fsspec.get_mapper(genome_path_gcs)\n",
    "genome = zarr.open_consolidated(genome_store)\n",
    "genome"
   ]
  },
  {
   "cell_type": "code",
   "execution_count": null,
   "metadata": {},
   "outputs": [],
   "source": [
    "df_all_species = pd.DataFrame()\n",
    "for s in df_sets['sample_set'][:-1]:\n",
    "    print(s)\n",
    "    df_species = cat.ag3.species_calls_20200422_aim(sample_set=s).read()\n",
    "    df_species['species'] = df_species.species_gambcolu_arabiensis.copy()\n",
    "    loc_gamb_colu = df_species.species_gambcolu_arabiensis == 'gamb_colu'\n",
    "    df_species.loc[loc_gamb_colu, 'species'] = df_species.species_gambiae_coluzzii[loc_gamb_colu]\n",
    "    df_all_species = df_all_species.append(df_species)\n",
    "    print(df_species.groupby('species').size())"
   ]
  },
  {
   "cell_type": "code",
   "execution_count": null,
   "metadata": {},
   "outputs": [],
   "source": [
    "df_all_species"
   ]
  },
  {
   "cell_type": "code",
   "execution_count": null,
   "metadata": {},
   "outputs": [],
   "source": [
    "chromosomes = ['3R','3L']"
   ]
  },
  {
   "cell_type": "code",
   "execution_count": null,
   "metadata": {},
   "outputs": [],
   "source": [
    "# Determine the output cloud directory path\n",
    "output_cloud_bucket_path = Path(\"jon_brenas_bucket\")\n",
    "output_cloud_zarr_path = output_cloud_bucket_path / 'Watt-Theta.zarr'\n",
    "output_zarr_map = gcs.get_mapper(output_cloud_zarr_path.as_posix())\n",
    "results = zarr.group(output_zarr_map) # Sometimes errors with `overwrite=True`, sometimes errors without, when dir not exist"
   ]
  },
  {
   "cell_type": "code",
   "execution_count": null,
   "metadata": {},
   "outputs": [],
   "source": [
    "# Determine the input cloud directory path for non_n-ness\n",
    "nonn_bucket_path = Path(\"vo_agam_production\")\n",
    "nonn_cloud_zarr_path = nonn_bucket_path / 'resources' / 'observatory' / 'ag.allsites.nonN.zarr'\n",
    "nonn_zarr_map = gcs.get_mapper(nonn_cloud_zarr_path.as_posix())\n",
    "nonn = zarr.group(nonn_zarr_map) # Sometimes errors with `overwrite=True`, sometimes errors without, when dir not exist"
   ]
  },
  {
   "cell_type": "code",
   "execution_count": null,
   "metadata": {},
   "outputs": [],
   "source": [
    "# Determine the input cloud directory path for accessibility\n",
    "accessibility_bucket_path = Path(\"vo_agam_production\")\n",
    "accessibility_cloud_zarr_path = accessibility_bucket_path / 'resources' / 'observatory' / 'non_n_accessibility' / 'non_n_accessibility.zarr'\n",
    "accessibility_zarr_map = gcs.get_mapper(accessibility_cloud_zarr_path.as_posix())\n",
    "accessibility = zarr.group(accessibility_zarr_map) # Sometimes errors with `overwrite=True`, sometimes errors without, when dir not exist"
   ]
  },
  {
   "cell_type": "code",
   "execution_count": null,
   "metadata": {},
   "outputs": [],
   "source": [
    "# Determine the input cloud directory path for species masks\n",
    "gc_pass_bucket_path = Path(\"vo_agam_release\")\n",
    "gc_pass_cloud_zarr_path = gc_pass_bucket_path / 'v3' / 'site_filters' / 'dt_20200416' / 'gamb_colu'\n",
    "gc_pass_zarr_map = gcs.get_mapper(gc_pass_cloud_zarr_path.as_posix())\n",
    "gc_pass = zarr.group(gc_pass_zarr_map) # Sometimes errors with `overwrite=True`, sometimes errors without, when dir not exist"
   ]
  },
  {
   "cell_type": "code",
   "execution_count": null,
   "metadata": {},
   "outputs": [],
   "source": [
    "# Determine the in putcloud directory path for annotations\n",
    "annotations_bucket_path = Path(\"vo_agam_release\")\n",
    "annotations_cloud_zarr_path = annotations_bucket_path / 'reference' / 'genome' / 'agamp4' / 'Anopheles-gambiae-PEST_SEQANNOTATION_AgamP4.12.zarr'\n",
    "annotations_zarr_map = gcs.get_mapper(annotations_cloud_zarr_path.as_posix())\n",
    "annotations = zarr.group(annotations_zarr_map) # Sometimes errors with `overwrite=True`, sometimes errors without, when dir not exist"
   ]
  },
  {
   "cell_type": "code",
   "execution_count": null,
   "metadata": {},
   "outputs": [],
   "source": [
    "codon_position_lg = annotations['codon_position']\n",
    "codon_degeneracy_lg = annotations['codon_degeneracy']\n",
    "seq_cls_lg = annotations['seq_cls']\n",
    "seq_flen_lg = annotations['seq_flen']\n",
    "seq_relpos_start_lg = annotations['seq_relpos_start']\n",
    "seq_relpos_stop_lg = annotations['seq_relpos_stop']"
   ]
  },
  {
   "cell_type": "code",
   "execution_count": null,
   "metadata": {},
   "outputs": [],
   "source": [
    "pos = {}\n",
    "for ch in chromosomes:\n",
    "    pos[ch] = nonn[ch]['variants']['POS']"
   ]
  },
  {
   "cell_type": "code",
   "execution_count": null,
   "metadata": {},
   "outputs": [],
   "source": [
    "codon_position_da = {}\n",
    "codon_degeneracy_da = {}\n",
    "seq_cls_da = {}\n",
    "seq_flen_da = {}\n",
    "seq_relpos_start_da = {}\n",
    "seq_relpos_stop_da = {}\n",
    "for ch in chromosomes:\n",
    "    codon_position_da[ch] = da.from_array(codon_position_lg[ch], chunks='auto')\n",
    "    codon_degeneracy_da[ch] = da.from_array(codon_degeneracy_lg[ch], chunks='auto')\n",
    "    seq_cls_da[ch] = da.from_array(seq_cls_lg[ch], chunks='auto')\n",
    "    seq_flen_da[ch] = da.from_array(seq_flen_lg[ch], chunks='auto')\n",
    "    seq_relpos_start_da[ch] = da.from_array(seq_relpos_start_lg[ch], chunks='auto')\n",
    "    seq_relpos_stop_da[ch] = da.from_array(seq_relpos_stop_lg[ch], chunks='auto')"
   ]
  },
  {
   "cell_type": "code",
   "execution_count": null,
   "metadata": {},
   "outputs": [],
   "source": [
    "codon_position = {}\n",
    "codon_degeneracy = {}\n",
    "seq_cls = {}\n",
    "seq_flen = {}\n",
    "seq_relpos_start = {}\n",
    "seq_relpos_stop = {}\n",
    "for ch in chromosomes:\n",
    "    codon_position[ch] = codon_position_da[ch][[p-1 for p in pos[ch]]]\n",
    "    codon_degeneracy[ch] = codon_degeneracy_da[ch][[p-1 for p in pos[ch]]]\n",
    "    seq_cls[ch] = seq_cls_da[ch][[p-1 for p in pos[ch]]]\n",
    "    seq_flen[ch] = seq_flen_da[ch][[p-1 for p in pos[ch]]]\n",
    "    seq_relpos_start[ch] = seq_relpos_start_da[ch][[p-1 for p in pos[ch]]]\n",
    "    seq_relpos_stop[ch] = seq_relpos_stop_da[ch][[p-1 for p in pos[ch]]]"
   ]
  },
  {
   "cell_type": "code",
   "execution_count": null,
   "metadata": {},
   "outputs": [],
   "source": [
    "CLS_UNKNOWN = 0\n",
    "CLS_UPSTREAM = 1\n",
    "CLS_DOWNSTREAM = 2\n",
    "CLS_5UTR = 3\n",
    "CLS_3UTR = 4\n",
    "CLS_CDS_FIRST = 5\n",
    "CLS_CDS_MID = 6\n",
    "CLS_CDS_LAST = 7\n",
    "CLS_INTRON_FIRST = 8\n",
    "CLS_INTRON_MID = 9\n",
    "CLS_INTRON_LAST = 10\n",
    "\n",
    "feature_cls_names = [\n",
    "    'Unknown',\n",
    "    'Upstream',\n",
    "    'Downstream',\n",
    "    \"5' UTR\",\n",
    "    \"3' UTR\",\n",
    "    \"CDS (first)\",\n",
    "    \"CDS (mid)\",\n",
    "    \"CDS (last)\",\n",
    "    \"Intron (first)\",\n",
    "    \"Intron (mid)\",\n",
    "    \"Intron (last)\",\n",
    "]"
   ]
  },
  {
   "cell_type": "code",
   "execution_count": null,
   "metadata": {},
   "outputs": [],
   "source": [
    "DEG_UNKNOWN = 0\n",
    "DEG_0 = 1\n",
    "DEG_2_SIMPLE = 2\n",
    "DEG_2_COMPLEX = 3\n",
    "DEG_4 = 4\n",
    "\n",
    "degeneracy_names = [\n",
    "    'unknown', '0-fold', '2-fold simple', '2-fold complex', 'f-fold'\n",
    "]"
   ]
  },
  {
   "cell_type": "code",
   "execution_count": null,
   "metadata": {},
   "outputs": [],
   "source": [
    "@functools.lru_cache(maxsize=None)\n",
    "def compute_selections(chrom):\n",
    "    _is_accessible = accessibility[chrom]['is_accessible'][:]\n",
    "    _codon_pos = codon_position[chrom][:]\n",
    "    _codon_deg = codon_degeneracy[chrom][:]\n",
    "    _seq_cls = seq_cls[chrom][:]\n",
    "    _seq_flen = seq_flen[chrom][:]\n",
    "    _seq_relpos_start = seq_relpos_start[chrom][:]\n",
    "    _seq_relpos_stop = seq_relpos_stop[chrom][:]\n",
    "    selections = [\n",
    "        ('First codon position, non-degenerate',\n",
    "         (_is_accessible &\n",
    "          (_codon_pos == 0) & \n",
    "          (_codon_deg == DEG_0)\n",
    "         )\n",
    "        ),\n",
    "        ('Second codon position, non-degenerate',\n",
    "         (_is_accessible &\n",
    "          (_codon_pos == 1) & \n",
    "          (_codon_deg == DEG_0)\n",
    "         )\n",
    "        ),\n",
    "        ('Third codon position, 2-fold simple degenerate',\n",
    "         (_is_accessible &\n",
    "          (_codon_pos == 2) & \n",
    "          (_codon_deg == DEG_2_SIMPLE)\n",
    "         )\n",
    "        ),  \n",
    "        ('Third codon position, 4-fold degenerate',\n",
    "         (_is_accessible &\n",
    "          (_codon_pos == 2) & \n",
    "          (_codon_deg == DEG_4)\n",
    "         )\n",
    "        ),\n",
    "        (\"Intron (\\\\textless 100bp)\",\n",
    "         (_is_accessible & \n",
    "          ((_seq_cls == CLS_INTRON_FIRST) |\n",
    "           (_seq_cls == CLS_INTRON_MID) |\n",
    "           (_seq_cls == CLS_INTRON_LAST)) &\n",
    "          (_seq_flen < 100) & \n",
    "          (_seq_relpos_start > 6) & \n",
    "          (_seq_relpos_stop > 3)\n",
    "         )\n",
    "        ),\n",
    "        (\"Intron (100-200bp)\",\n",
    "         (_is_accessible & \n",
    "          ((_seq_cls == CLS_INTRON_FIRST) |\n",
    "           (_seq_cls == CLS_INTRON_MID) |\n",
    "           (_seq_cls == CLS_INTRON_LAST)) &\n",
    "          (_seq_flen >= 100) &\n",
    "          (_seq_flen < 200) & \n",
    "          (_seq_relpos_start > 6) & \n",
    "          (_seq_relpos_stop > 3)\n",
    "         )\n",
    "        ),\n",
    "        (\"Intron (\\\\textgreater 200bp)\",\n",
    "         (_is_accessible & \n",
    "          ((_seq_cls == CLS_INTRON_FIRST) |\n",
    "           (_seq_cls == CLS_INTRON_MID) |\n",
    "           (_seq_cls == CLS_INTRON_LAST)) &\n",
    "          (_seq_flen > 200) & \n",
    "          (_seq_relpos_start > 6) & \n",
    "          (_seq_relpos_stop > 3)\n",
    "         )\n",
    "        ),\n",
    "        (\"Intron 5' splice site (2bp)\",\n",
    "         (_is_accessible & \n",
    "          ((_seq_cls == CLS_INTRON_FIRST) |\n",
    "           (_seq_cls == CLS_INTRON_MID) |\n",
    "           (_seq_cls == CLS_INTRON_LAST)) &\n",
    "          (_seq_relpos_start < 2)\n",
    "         )\n",
    "        ),\n",
    "        (\"Intron 3' splice site (2bp)\",\n",
    "         (_is_accessible & \n",
    "          ((_seq_cls == CLS_INTRON_FIRST) |\n",
    "           (_seq_cls == CLS_INTRON_MID) |\n",
    "           (_seq_cls == CLS_INTRON_LAST)) &\n",
    "          (_seq_relpos_stop < 2)\n",
    "         )\n",
    "        ),\n",
    "        (\"5' UTR\",\n",
    "         (_is_accessible & (_seq_cls == CLS_5UTR))\n",
    "        ),\n",
    "        (\"3' UTR\",\n",
    "         (_is_accessible & (_seq_cls == CLS_3UTR))\n",
    "        ),\n",
    "        ('Upstream (\\\\textless 1kb from gene)',\n",
    "         (_is_accessible & \n",
    "          (_seq_cls == CLS_UPSTREAM) & \n",
    "          (_seq_relpos_stop < 1000)\n",
    "         )\n",
    "        ),\n",
    "        ('Downstream (\\\\textless 1kb from gene)',\n",
    "         (_is_accessible & \n",
    "          (_seq_cls == CLS_DOWNSTREAM) & \n",
    "          (_seq_relpos_start < 1000)\n",
    "         )\n",
    "        ),\n",
    "        ('Intergenic (\\\\textgreater 10kb from gene)',\n",
    "         (_is_accessible & \n",
    "          (((_seq_cls == CLS_UPSTREAM) & (_seq_relpos_stop > 10000)) | \n",
    "           ((_seq_cls == CLS_DOWNSTREAM) & (_seq_relpos_start > 10000)))\n",
    "         )\n",
    "        ),\n",
    "    ]\n",
    "    #selections = [(k, zarr.array(v)) for k, v in selections]\n",
    "    sel_dict = {k: v for k, v in selections}\n",
    "    return sel_dict #selections"
   ]
  },
  {
   "cell_type": "code",
   "execution_count": null,
   "metadata": {},
   "outputs": [],
   "source": [
    "sel = {'3R': compute_selections('3R')['Third codon position, 4-fold degenerate'], '3L': compute_selections('3L')['Third codon position, 4-fold degenerate']}"
   ]
  },
  {
   "cell_type": "code",
   "execution_count": null,
   "metadata": {},
   "outputs": [],
   "source": [
    "seq_id = '3R'\n",
    "gt = allel.GenotypeDaskArray(da.concatenate([cat.ag3.snp_genotypes(sample_set=ss).to_zarr()[seq_id]['calldata']['GT'] for ss in list(df_sets['sample_set'][:-1])], axis=1))"
   ]
  },
  {
   "cell_type": "markdown",
   "metadata": {},
   "source": [
    "## Functions"
   ]
  },
  {
   "cell_type": "code",
   "execution_count": null,
   "metadata": {},
   "outputs": [],
   "source": [
    "#@functools.lru_cache(maxsize=None)\n",
    "def load_mask(seq_id, datasets, max_miss=.1):\n",
    "#     print('load_mask', seq_id)\n",
    "    # site filters\n",
    "    filter_pass = cat.ag3.site_filters_dt_20200416_gamb_colu.to_zarr()[seq_id]['variants']['filter_pass'][:]\n",
    "    \n",
    "    # missingness\n",
    "    gt = allel.GenotypeDaskArray(da.concatenate([cat.ag3.snp_genotypes(sample_set=ds).to_zarr()[seq_id]['calldata']['GT'] for ds in datasets], axis=1))\n",
    "    n_miss = gt.count_missing(axis=1).compute()\n",
    "    n_samples = gt.shape[1]\n",
    "    low_miss = (n_miss / n_samples) < max_miss\n",
    "    \n",
    "    # combine\n",
    "    mask = filter_pass & low_miss & sel[seq_id]\n",
    "    \n",
    "    return mask\n",
    "\n",
    "#@functools.lru_cache(maxsize=None)\n",
    "def load_mask_arab(seq_id, datasets, max_miss=.1):\n",
    "#     print('load_mask', seq_id)\n",
    "    # site filters\n",
    "    filter_pass = cat.ag3.site_filters_dt_20200416_arab.to_zarr()[seq_id]['variants']['filter_pass'][:]\n",
    "    \n",
    "    # missingness\n",
    "    gt = allel.GenotypeDaskArray(da.concatenate([cat.ag3.snp_genotypes(sample_set=ds).to_zarr()[seq_id]['calldata']['GT'] for ds in datasets], axis=1))\n",
    "    n_miss = gt.count_missing(axis=1).compute()\n",
    "    n_samples = gt.shape[1]\n",
    "    low_miss = (n_miss / n_samples) < max_miss\n",
    "    \n",
    "    # combine\n",
    "    mask = filter_pass & low_miss & sel[seq_id]\n",
    "    \n",
    "    return mask\n",
    "\n",
    "@functools.lru_cache(maxsize=None)\n",
    "def load_pos(seq_id):\n",
    "#     print('load_pos', seq_id)\n",
    "    pos = allel.SortedIndex(cat.ag3.snp_sites.to_zarr()[seq_id]['variants']['POS'])\n",
    "    return pos\n",
    "\n",
    "#@functools.lru_cache(maxsize=None)\n",
    "def get_region(region, datasets, max_miss=.1):\n",
    "    \n",
    "    # unpack region\n",
    "    seq_id, region_start, region_stop = region\n",
    "    \n",
    "    # setup variables\n",
    "    gt = allel.GenotypeDaskArray(da.concatenate([cat.ag3.snp_genotypes(sample_set=ds).to_zarr()[seq_id]['calldata']['GT'] for ds in datasets], axis=1))\n",
    "    pos = load_pos(seq_id)\n",
    "    \n",
    "    # apply mask\n",
    "    mask = load_mask(seq_id, datasets, max_miss)\n",
    "    pos_mask =  allel.SortedIndex(pos[mask])\n",
    "    gt_mask = gt[mask]\n",
    "    gt_mask.compute_chunk_sizes()\n",
    "    \n",
    "    # restrict to genome region\n",
    "    loc_region = pos_mask.locate_range(region_start, region_stop)\n",
    "    pos_region = pos_mask[loc_region]\n",
    "    mask_region = mask[loc_region]\n",
    "    gt_region = gt_mask[loc_region]\n",
    "        \n",
    "    return mask_region, pos_region, gt_region\n",
    "\n",
    "#@functools.lru_cache(maxsize=None)\n",
    "def get_region_arab(region, datasets, max_miss=.1):\n",
    "    \n",
    "    # unpack region\n",
    "    seq_id, region_start, region_stop = region\n",
    "    \n",
    "    # setup variables\n",
    "    gt = allel.GenotypeDaskArray(da.concatenate([cat.ag3.snp_genotypes(sample_set=ds).to_zarr()[seq_id]['calldata']['GT'] for ds in datasets], axis=1))\n",
    "    pos = load_pos(seq_id)\n",
    "    \n",
    "    # apply mask\n",
    "    mask = load_mask_arab(seq_id, datasets, max_miss)\n",
    "    pos_mask = allel.SortedIndex(pos[mask])\n",
    "    gt_mask = gt[mask]\n",
    "    gt_mask.compute_chunk_sizes()\n",
    "    \n",
    "    # restrict to genome region\n",
    "    loc_region = pos_mask.locate_range(region_start, region_stop)\n",
    "    pos_region = pos_mask[loc_region]\n",
    "    mask_region = mask[loc_region]\n",
    "    gt_region = gt_mask[loc_region]\n",
    "        \n",
    "    return mask_region, pos_region, gt_region"
   ]
  },
  {
   "cell_type": "code",
   "execution_count": null,
   "metadata": {},
   "outputs": [],
   "source": [
    "#@functools.lru_cache(maxsize=None)\n",
    "def count_alleles_rdm(gt_region, pop_ids, downsample_size = 0):\n",
    "    \n",
    "    if downsample_size > 0:\n",
    "        pop_ids = np.sort(random.sample(list(pop_ids), downsample_size))\n",
    "    \n",
    "    gt_pop = gt_region.take(pop_ids, axis=1)\n",
    "    \n",
    "    # perform allele count\n",
    "    ac = gt_pop.count_alleles(max_allele=3).compute()\n",
    "    \n",
    "    return ac"
   ]
  },
  {
   "cell_type": "code",
   "execution_count": null,
   "metadata": {},
   "outputs": [],
   "source": [
    "#@functools.lru_cache(maxsize=None)\n",
    "def get_masks_and_windows(datasets):\n",
    "    mask_3L, pos_masked_3L, gt_3L = get_region(region_3L_free, datasets)\n",
    "    mask_3R, pos_masked_3R, gt_3R = get_region(region_3R_free, datasets)\n",
    "\n",
    "    all_mask_3L = load_mask('3L', datasets, .1)\n",
    "    all_mask_3R = load_mask('3R', datasets, .1)\n",
    "\n",
    "    is_accessible_3L = np.zeros(seq_len_3L, dtype=bool)\n",
    "    is_accessible_3L[pos_3L - 1] = all_mask_3L\n",
    "    is_accessible_3R = np.zeros(seq_len_3R, dtype=bool)\n",
    "    is_accessible_3R[pos_3R - 1] = all_mask_3R\n",
    "\n",
    "    windows_euchromatin_3L = allel.equally_accessible_windows(\n",
    "        is_accessible_3L, \n",
    "        size=50_000, \n",
    "        start=1_000_000,\n",
    "        stop=37_000_000\n",
    "    )\n",
    "    windows_euchromatin_3R = allel.equally_accessible_windows(\n",
    "        is_accessible_3R, \n",
    "        size=50_000, \n",
    "        start=15_000_000,\n",
    "        stop=41_000_000\n",
    "    )\n",
    "    return {\n",
    "        'mask': {\n",
    "            '3L': mask_3L,\n",
    "            '3R': mask_3R\n",
    "        },\n",
    "        'pos_masked': {\n",
    "            '3L': pos_masked_3L,\n",
    "            '3R': pos_masked_3R\n",
    "        },\n",
    "        'gt': {\n",
    "            '3L': gt_3L,\n",
    "            '3R': gt_3R\n",
    "        },\n",
    "        'all_mask': {\n",
    "            '3L': all_mask_3L,\n",
    "            '3R': all_mask_3R\n",
    "        },\n",
    "        'is_accessible': {\n",
    "            '3L': is_accessible_3L,\n",
    "            '3R': is_accessible_3R\n",
    "        },\n",
    "        'windows_euchromatin': {\n",
    "            '3L': windows_euchromatin_3L,\n",
    "            '3R': windows_euchromatin_3R\n",
    "        }\n",
    "    }"
   ]
  },
  {
   "cell_type": "code",
   "execution_count": null,
   "metadata": {},
   "outputs": [],
   "source": [
    "#@functools.lru_cache(maxsize=None)\n",
    "def get_masks_and_windows_arab(datasets):\n",
    "    mask_3L, pos_masked_3L, gt_3L = get_region_arab(region_3L_free, datasets)\n",
    "    \n",
    "    all_mask_3L = load_mask_arab('3L', datasets, .1)\n",
    "    \n",
    "    is_accessible_3L = np.zeros(seq_len_3L, dtype=bool)\n",
    "    is_accessible_3L[pos_3L - 1] = all_mask_3L\n",
    "    \n",
    "    windows_euchromatin_3L = allel.equally_accessible_windows(\n",
    "        is_accessible_3L, \n",
    "        size=50_000, \n",
    "        start=1_000_000,\n",
    "        stop=37_000_000\n",
    "    )\n",
    "    return {\n",
    "        'mask': {\n",
    "            '3L': mask_3L\n",
    "        },\n",
    "        'pos_masked': {\n",
    "            '3L': pos_masked_3L\n",
    "        },\n",
    "        'gt': {\n",
    "            '3L': gt_3L\n",
    "        },\n",
    "        'all_mask': {\n",
    "            '3L': all_mask_3L\n",
    "        },\n",
    "        'is_accessible': {\n",
    "            '3L': is_accessible_3L\n",
    "        },\n",
    "        'windows_euchromatin': {\n",
    "            '3L': windows_euchromatin_3L\n",
    "        }\n",
    "    }"
   ]
  },
  {
   "cell_type": "code",
   "execution_count": null,
   "metadata": {},
   "outputs": [],
   "source": [
    "def get_idxs_query(dataset, species = None, location = None, year = None):\n",
    "    samples = cat.ag3.samples(sample_set=dataset).read()\n",
    "    \n",
    "    calls = cat.ag3.species_calls_20200422_aim(sample_set=dataset).read()\n",
    "    # call species - just use AIMs, should be fine\n",
    "    try:\n",
    "        df_species.species_gambcolu_arabiensis.replace({'intermediate': 'intermediate_gambcolu_arabiensis'}, inplace=True)\n",
    "        df_species.species_gambiae_coluzzii.replace({'intermediate': 'intermediate_gambiae_coluzzii'}, inplace=True)\n",
    "    except TypeError:\n",
    "        pass\n",
    "    calls['species'] = calls.species_gambcolu_arabiensis.copy()\n",
    "    loc_gc = calls.species_gambcolu_arabiensis == 'gamb_colu'\n",
    "    calls.loc[loc_gc, 'species'] = calls.species_gambiae_coluzzii[loc_gc]\n",
    "    \n",
    "    meta = samples.merge(calls, on='sample_id', how='left', sort=False)\n",
    "    \n",
    "    query = dataset\n",
    "    loc =  (\n",
    "            (meta.species != '')\n",
    "    )\n",
    "    \n",
    "    if species:\n",
    "        loc = loc & ( (meta.species == species) )\n",
    "        query = query + \"_\" + species\n",
    "        \n",
    "    if location:\n",
    "        loc  = loc & ( (meta.location == location) )\n",
    "        query = query + \"_\" + location\n",
    "\n",
    " \n",
    "    if year:\n",
    "        loc = loc & ( (meta.year == int(year)) )\n",
    "        query = query + \"_\" + year\n",
    "    \n",
    "    idxs = meta[loc].index.values\n",
    "    \n",
    "    return idxs, query"
   ]
  },
  {
   "cell_type": "code",
   "execution_count": null,
   "metadata": {},
   "outputs": [],
   "source": [
    "def compute_wat(query, sample_size, it, m_w, idxs):\n",
    "    result_path = f'{query}_{sample_size}_{it}'\n",
    "    \n",
    "    if result_path in results:\n",
    "        # load previously computed array into memory\n",
    "        wat = results[result_path][:]\n",
    "        return wat\n",
    "    \n",
    "    else:\n",
    "        # run the computation to compute wat - N.B., wat should be a numpy array\n",
    "        ac_3L = count_alleles_rdm(m_w['gt']['3L'], idxs, downsample_size = sample_size)\n",
    "        ac_3R = count_alleles_rdm(m_w['gt']['3R'], idxs, downsample_size = sample_size)\n",
    "        wat_euchromatin_3L, _, _, _ = allel.windowed_watterson_theta(\n",
    "            pos=m_w['pos_masked']['3L'], \n",
    "            ac=ac_3L, \n",
    "            windows=m_w['windows_euchromatin']['3L'], \n",
    "            is_accessible=m_w['is_accessible']['3L']\n",
    "            )\n",
    "        wat_euchromatin_3R, _, _, _ = allel.windowed_watterson_theta(\n",
    "            pos=m_w['pos_masked']['3R'], \n",
    "            ac=ac_3R, \n",
    "            windows=m_w['windows_euchromatin']['3R'], \n",
    "            is_accessible=m_w['is_accessible']['3R']\n",
    "            )\n",
    "        wat = np.concatenate((wat_euchromatin_3L, wat_euchromatin_3R))\n",
    "        \n",
    "        # store results, assuming wat is a numpy array\n",
    "        results.create_dataset(result_path, data=wat)\n",
    "        \n",
    "        return wat"
   ]
  },
  {
   "cell_type": "code",
   "execution_count": null,
   "metadata": {},
   "outputs": [],
   "source": [
    "def compute_wat_arab(query, sample_size, it, m_w, idxs):\n",
    "    result_path = f'{query}_mask_arab_{sample_size}_{it}'\n",
    "    \n",
    "    if result_path in results:\n",
    "        # load previously computed array into memory\n",
    "        wat = results[result_path][:]\n",
    "        return wat\n",
    "    \n",
    "    else:\n",
    "        ac_3L = count_alleles_rdm(m_w['gt']['3L'], idxs, downsample_size = sample_size)\n",
    "        wat_euchromatin_3L, _, _, _ = allel.windowed_watterson_theta(\n",
    "            pos=m_w['pos_masked']['3L'], \n",
    "            ac=ac_3L, \n",
    "            windows=m_w['windows_euchromatin']['3L'], \n",
    "            is_accessible=m_w['is_accessible']['3L']\n",
    "            )\n",
    "        wat = wat_euchromatin_3L\n",
    "        \n",
    "        # store results, assuming wat is a numpy array\n",
    "        results.create_dataset(result_path, data=wat)\n",
    "        \n",
    "        return wat"
   ]
  },
  {
   "cell_type": "code",
   "execution_count": null,
   "metadata": {},
   "outputs": [],
   "source": [
    "def plot_wat_pop(population, start_value = 10, inc = 5, n_it = 5, end_value = None):\n",
    "    dataset = sources_df.loc[population]['sample sets']\n",
    "    country, pop_n, species, year = population.split('_')\n",
    "    if str(type(sources_df.loc[population]['sample sets'])) == \"<class 'pandas.core.series.Series'>\":\n",
    "        l_sources = list(sources_df.loc[population]['sample sets'])\n",
    "    else:\n",
    "        l_sources = [sources_df.loc[population]['sample sets']]\n",
    "    if species == 'arabiensis':\n",
    "        m_w = get_masks_and_windows_arab(l_sources)\n",
    "    else:\n",
    "        m_w = get_masks_and_windows(l_sources)\n",
    "\n",
    "    samples = pd.concat([cat.ag3.samples(sample_set=dataset).read() for dataset in l_sources])\n",
    "   \n",
    "    idxs = list(samples[samples['sample_id'].isin(pops[population])].index)\n",
    "    wat_list = []\n",
    "    dps_list = []\n",
    "    if not end_value:\n",
    "        end_value = len(idxs)\n",
    "\n",
    "    for sample_size in range(start_value, end_value, inc):\n",
    "        for iteration in range(n_it):\n",
    "            if species == 'arabiensis':\n",
    "                wat = compute_wat_arab(population, sample_size, iteration, m_w, idxs)\n",
    "            else:\n",
    "                wat = compute_wat(population, sample_size, iteration, m_w, idxs)\n",
    "            wat_list.append(wat)\n",
    "            dps_list.append(sample_size)\n",
    "    return wat_list, dps_list"
   ]
  },
  {
   "cell_type": "markdown",
   "metadata": {},
   "source": [
    "## Regions"
   ]
  },
  {
   "cell_type": "code",
   "execution_count": null,
   "metadata": {},
   "outputs": [],
   "source": [
    "# reference genome\n",
    "genome = zarr.open_consolidated(\n",
    "    store=fsspec.get_mapper(\n",
    "        'gs://vo_agam_release/reference/genome/agamp4/Anopheles-gambiae-PEST_CHROMOSOMES_AgamP4.zarr'\n",
    "    )\n",
    ")\n",
    "list(genome)"
   ]
  },
  {
   "cell_type": "code",
   "execution_count": null,
   "metadata": {},
   "outputs": [],
   "source": [
    "seq_len_3R = len(genome['3R'])\n",
    "seq_len_3L = len(genome['3L'])"
   ]
  },
  {
   "cell_type": "code",
   "execution_count": null,
   "metadata": {},
   "outputs": [],
   "source": [
    "region_3L_free = '3L', 15_000_000, 41_000_000\n",
    "region_3R_free = '3R', 1_000_000, 37_000_000"
   ]
  },
  {
   "cell_type": "code",
   "execution_count": null,
   "metadata": {},
   "outputs": [],
   "source": [
    "pos_3R = load_pos('3R')\n",
    "pos_3L = load_pos('3L')"
   ]
  },
  {
   "cell_type": "markdown",
   "metadata": {},
   "source": [
    "## Populations"
   ]
  },
  {
   "cell_type": "code",
   "execution_count": null,
   "metadata": {},
   "outputs": [],
   "source": [
    "#Population definitions\n",
    "\n",
    "with open(r'../content/population_definitions.yml') as file:\n",
    "    # The FullLoader parameter handles the conversion from YAML\n",
    "    # scalar values to Python the dictionary format\n",
    "    pops = yaml.load(file, Loader=yaml.FullLoader)"
   ]
  },
  {
   "cell_type": "code",
   "execution_count": null,
   "metadata": {
    "scrolled": true
   },
   "outputs": [],
   "source": [
    "sources_df = pd.read_csv('../content/population_source.csv', names=['population','sample sets'], index_col=0)\n",
    "sources_df"
   ]
  },
  {
   "cell_type": "markdown",
   "metadata": {},
   "source": [
    "## Dataframes"
   ]
  },
  {
   "cell_type": "code",
   "execution_count": null,
   "metadata": {},
   "outputs": [],
   "source": [
    "#df_gambiae = pd.read_csv('Watt-Theta-gambiae.csv')\n",
    "#df_coluzzii = pd.read_csv('Watt-Theta-coluzzii.csv')\n",
    "df_all = pd.read_csv('Watt-Theta.csv')"
   ]
  },
  {
   "cell_type": "markdown",
   "metadata": {},
   "source": [
    "# Waterson's theta computation\n",
    "## Gamb-colu filters"
   ]
  },
  {
   "cell_type": "code",
   "execution_count": null,
   "metadata": {},
   "outputs": [],
   "source": [
    "population = 'ANG_1_coluzzii_2009'\n",
    "country, pop_n, species, year = population.split('_')\n",
    "wat_list, dps_list = plot_wat_pop(population)\n",
    "df_all = pd.DataFrame(data={'dps': dps_list,\n",
    "                            'mean': [np.mean(wat) for wat in wat_list],\n",
    "                            'population': [population] * len(dps_list),\n",
    "                            'country': [country] * len(dps_list),\n",
    "                            'pop_n': [pop_n] * len(dps_list),\n",
    "                            'species': [species] * len(dps_list),\n",
    "                            'year': [year] * len(dps_list)})\n",
    "sns.scatterplot(x = 'dps', y = 'mean', hue = 'population', data=df_all[df_all.dps < 70])\n",
    "df_all.to_csv('Watt-Theta.csv',index=False)"
   ]
  },
  {
   "cell_type": "code",
   "execution_count": null,
   "metadata": {},
   "outputs": [],
   "source": [
    "population = 'BUF_1_coluzzii_2012'\n",
    "country, pop_n, species, year = population.split('_')\n",
    "wat_list, dps_list = plot_wat_pop(population)\n",
    "df_all = df_all.append(pd.DataFrame(data={'dps': dps_list,\n",
    "                            'mean': [np.mean(wat) for wat in wat_list],\n",
    "                            'population': [population] * len(dps_list),\n",
    "                            'country': [country] * len(dps_list),\n",
    "                            'pop_n': [pop_n] * len(dps_list),\n",
    "                            'species': [species] * len(dps_list),\n",
    "                            'year': [year] * len(dps_list)}))\n",
    "sns.scatterplot(x = 'dps', y = 'mean', hue = 'population', data=df_all[df_all.dps < 70])\n",
    "df_all.to_csv('Watt-Theta.csv',index=False)"
   ]
  },
  {
   "cell_type": "code",
   "execution_count": null,
   "metadata": {},
   "outputs": [],
   "source": [
    "population = 'BUF_1_coluzzii_2014'\n",
    "country, pop_n, species, year = population.split('_')\n",
    "wat_list, dps_list = plot_wat_pop(population)\n",
    "df_all = df_all.append(pd.DataFrame(data={'dps': dps_list,\n",
    "                            'mean': [np.mean(wat) for wat in wat_list],\n",
    "                            'population': [population] * len(dps_list),\n",
    "                            'country': [country] * len(dps_list),\n",
    "                            'pop_n': [pop_n] * len(dps_list),\n",
    "                            'species': [species] * len(dps_list),\n",
    "                            'year': [year] * len(dps_list)}))\n",
    "sns.scatterplot(x = 'dps', y = 'mean', hue = 'population', data=df_all[df_all.dps < 70])\n",
    "df_all.to_csv('Watt-Theta.csv',index=False)"
   ]
  },
  {
   "cell_type": "code",
   "execution_count": null,
   "metadata": {},
   "outputs": [],
   "source": [
    "population = 'BUF_1_gambiae_2012'\n",
    "country, pop_n, species, year = population.split('_')\n",
    "wat_list, dps_list = plot_wat_pop(population)\n",
    "df_all = df_all.append(pd.DataFrame(data={'dps': dps_list,\n",
    "                            'mean': [np.mean(wat) for wat in wat_list],\n",
    "                            'population': [population] * len(dps_list),\n",
    "                            'country': [country] * len(dps_list),\n",
    "                            'pop_n': [pop_n] * len(dps_list),\n",
    "                            'species': [species] * len(dps_list),\n",
    "                            'year': [year] * len(dps_list)}))\n",
    "sns.scatterplot(x = 'dps', y = 'mean', hue = 'population', data=df_all[df_all.dps < 70])\n",
    "df_all.to_csv('Watt-Theta.csv',index=False)"
   ]
  },
  {
   "cell_type": "code",
   "execution_count": null,
   "metadata": {},
   "outputs": [],
   "source": [
    "population = 'BUF_1_gambiae_2014'\n",
    "country, pop_n, species, year = population.split('_')\n",
    "wat_list, dps_list = plot_wat_pop(population)\n",
    "df_all = df_all.append(pd.DataFrame(data={'dps': dps_list,\n",
    "                            'mean': [np.mean(wat) for wat in wat_list],\n",
    "                            'population': [population] * len(dps_list),\n",
    "                            'country': [country] * len(dps_list),\n",
    "                            'pop_n': [pop_n] * len(dps_list),\n",
    "                            'species': [species] * len(dps_list),\n",
    "                            'year': [year] * len(dps_list)}))\n",
    "sns.scatterplot(x = 'dps', y = 'mean', hue = 'population', data=df_all[df_all.dps < 70])\n",
    "df_all.to_csv('Watt-Theta.csv',index=False)"
   ]
  },
  {
   "cell_type": "code",
   "execution_count": null,
   "metadata": {},
   "outputs": [],
   "source": [
    "population = 'CAR_1_coluzzii_1994'\n",
    "country, pop_n, species, year = population.split('_')\n",
    "wat_list, dps_list = plot_wat_pop(population, start_value = 5, inc = 1)\n",
    "df_all = df_all.append(pd.DataFrame(data={'dps': dps_list,\n",
    "                            'mean': [np.mean(wat) for wat in wat_list],\n",
    "                            'population': [population] * len(dps_list),\n",
    "                            'country': [country] * len(dps_list),\n",
    "                            'pop_n': [pop_n] * len(dps_list),\n",
    "                            'species': [species] * len(dps_list),\n",
    "                            'year': [year] * len(dps_list)}))\n",
    "sns.scatterplot(x = 'dps', y = 'mean', hue = 'population', data=df_all[df_all.dps < 70])\n",
    "df_all.to_csv('Watt-Theta.csv',index=False)"
   ]
  },
  {
   "cell_type": "code",
   "execution_count": null,
   "metadata": {},
   "outputs": [],
   "source": [
    "population = 'CAR_1_gambiae_1994'\n",
    "country, pop_n, species, year = population.split('_')\n",
    "wat_list, dps_list = plot_wat_pop(population)\n",
    "df_all = df_all.append(pd.DataFrame(data={'dps': dps_list,\n",
    "                            'mean': [np.mean(wat) for wat in wat_list],\n",
    "                            'population': [population] * len(dps_list),\n",
    "                            'country': [country] * len(dps_list),\n",
    "                            'pop_n': [pop_n] * len(dps_list),\n",
    "                            'species': [species] * len(dps_list),\n",
    "                            'year': [year] * len(dps_list)}))\n",
    "sns.scatterplot(x = 'dps', y = 'mean', hue = 'population', data=df_all[df_all.dps < 70])\n",
    "df_all.to_csv('Watt-Theta.csv',index=False)"
   ]
  },
  {
   "cell_type": "code",
   "execution_count": null,
   "metadata": {},
   "outputs": [],
   "source": [
    "population = 'CIV_1_coluzzii_2012'\n",
    "country, pop_n, species, year = population.split('_')\n",
    "wat_list, dps_list = plot_wat_pop(population)\n",
    "df_all = df_all.append(pd.DataFrame(data={'dps': dps_list,\n",
    "                            'mean': [np.mean(wat) for wat in wat_list],\n",
    "                            'population': [population] * len(dps_list),\n",
    "                            'country': [country] * len(dps_list),\n",
    "                            'pop_n': [pop_n] * len(dps_list),\n",
    "                            'species': [species] * len(dps_list),\n",
    "                            'year': [year] * len(dps_list)}))\n",
    "sns.scatterplot(x = 'dps', y = 'mean', hue = 'population', data=df_all[df_all.species == 'coluzzii'][df_all[df_all.species == 'coluzzii'].dps < 70])\n",
    "df_all.to_csv('Watt-Theta.csv',index=False)"
   ]
  },
  {
   "cell_type": "code",
   "execution_count": null,
   "metadata": {},
   "outputs": [],
   "source": [
    "population = 'CMN_1_gambiae_2005'\n",
    "country, pop_n, species, year = population.split('_')\n",
    "wat_list, dps_list = plot_wat_pop(population, start_value=7, inc=1)\n",
    "df_all = df_all.append(pd.DataFrame(data={'dps': dps_list,\n",
    "                            'mean': [np.mean(wat) for wat in wat_list],\n",
    "                            'population': [population] * len(dps_list),\n",
    "                            'country': [country] * len(dps_list),\n",
    "                            'pop_n': [pop_n] * len(dps_list),\n",
    "                            'species': [species] * len(dps_list),\n",
    "                            'year': [year] * len(dps_list)}))\n",
    "sns.scatterplot(x = 'dps', y = 'mean', hue = 'population', data=df_all[df_all.species == 'gambiae'][df_all[df_all.species == 'gambiae'].dps < 70])\n",
    "df_all.to_csv('Watt-Theta.csv',index=False)"
   ]
  },
  {
   "cell_type": "code",
   "execution_count": null,
   "metadata": {},
   "outputs": [],
   "source": [
    "population = 'CMN_2_coluzzii_2013'\n",
    "country, pop_n, species, year = population.split('_')\n",
    "wat_list, dps_list = plot_wat_pop(population, start_value=7, inc=1)\n",
    "df_all = df_all.append(pd.DataFrame(data={'dps': dps_list,\n",
    "                            'mean': [np.mean(wat) for wat in wat_list],\n",
    "                            'population': [population] * len(dps_list),\n",
    "                            'country': [country] * len(dps_list),\n",
    "                            'pop_n': [pop_n] * len(dps_list),\n",
    "                            'species': [species] * len(dps_list),\n",
    "                            'year': [year] * len(dps_list)}))\n",
    "sns.scatterplot(x = 'dps', y = 'mean', hue = 'population', data=df_all[df_all.species == 'coluzzii'][df_all[df_all.species == 'coluzzii'].dps < 70])\n",
    "df_all.to_csv('Watt-Theta.csv',index=False)"
   ]
  },
  {
   "cell_type": "code",
   "execution_count": null,
   "metadata": {},
   "outputs": [],
   "source": [
    "population = 'CMN_3_gambiae_2005'\n",
    "country, pop_n, species, year = population.split('_')\n",
    "wat_list, dps_list = plot_wat_pop(population, start_value=7, inc=1)\n",
    "df_all = df_all.append(pd.DataFrame(data={'dps': dps_list,\n",
    "                            'mean': [np.mean(wat) for wat in wat_list],\n",
    "                            'population': [population] * len(dps_list),\n",
    "                            'country': [country] * len(dps_list),\n",
    "                            'pop_n': [pop_n] * len(dps_list),\n",
    "                            'species': [species] * len(dps_list),\n",
    "                            'year': [year] * len(dps_list)}))\n",
    "sns.scatterplot(x = 'dps', y = 'mean', hue = 'population', data=df_all[df_all.species == 'gambiae'][df_all[df_all.species == 'gambiae'].dps < 70])\n",
    "df_all.to_csv('Watt-Theta.csv',index=False)"
   ]
  },
  {
   "cell_type": "code",
   "execution_count": null,
   "metadata": {},
   "outputs": [],
   "source": [
    "population = 'CMN_4_gambiae_2013'\n",
    "country, pop_n, species, year = population.split('_')\n",
    "wat_list, dps_list = plot_wat_pop(population, start_value=7, inc=1)\n",
    "df_all = df_all.append(pd.DataFrame(data={'dps': dps_list,\n",
    "                            'mean': [np.mean(wat) for wat in wat_list],\n",
    "                            'population': [population] * len(dps_list),\n",
    "                            'country': [country] * len(dps_list),\n",
    "                            'pop_n': [pop_n] * len(dps_list),\n",
    "                            'species': [species] * len(dps_list),\n",
    "                            'year': [year] * len(dps_list)}))\n",
    "sns.scatterplot(x = 'dps', y = 'mean', hue = 'population', data=df_all[df_all.species == 'gambiae'][df_all[df_all.species == 'gambiae'].dps < 70])\n",
    "df_all.to_csv('Watt-Theta.csv',index=False)"
   ]
  },
  {
   "cell_type": "code",
   "execution_count": null,
   "metadata": {},
   "outputs": [],
   "source": [
    "population = 'CMN_5_gambiae_2009'\n",
    "country, pop_n, species, year = population.split('_')\n",
    "wat_list, dps_list = plot_wat_pop(population)\n",
    "df_all = df_all.append(pd.DataFrame(data={'dps': dps_list,\n",
    "                            'mean': [np.mean(wat) for wat in wat_list],\n",
    "                            'population': [population] * len(dps_list),\n",
    "                            'country': [country] * len(dps_list),\n",
    "                            'pop_n': [pop_n] * len(dps_list),\n",
    "                            'species': [species] * len(dps_list),\n",
    "                            'year': [year] * len(dps_list)}))\n",
    "sns.scatterplot(x = 'dps', y = 'mean', hue = 'population', data=df_all[df_all.species == 'gambiae'][df_all[df_all.species == 'gambiae'].dps < 70])\n",
    "df_all.to_csv('Watt-Theta.csv',index=False)"
   ]
  },
  {
   "cell_type": "code",
   "execution_count": null,
   "metadata": {},
   "outputs": [],
   "source": [
    "population = 'CMN_6_gambiae_2009'\n",
    "country, pop_n, species, year = population.split('_')\n",
    "wat_list, dps_list = plot_wat_pop(population)\n",
    "df_all = df_all.append(pd.DataFrame(data={'dps': dps_list,\n",
    "                            'mean': [np.mean(wat) for wat in wat_list],\n",
    "                            'population': [population] * len(dps_list),\n",
    "                            'country': [country] * len(dps_list),\n",
    "                            'pop_n': [pop_n] * len(dps_list),\n",
    "                            'species': [species] * len(dps_list),\n",
    "                            'year': [year] * len(dps_list)}))\n",
    "sns.scatterplot(x = 'dps', y = 'mean', hue = 'population', data=df_all[df_all.species == 'gambiae'][df_all[df_all.species == 'gambiae'].dps < 70])\n",
    "df_all.to_csv('Watt-Theta.csv',index=False)"
   ]
  },
  {
   "cell_type": "code",
   "execution_count": null,
   "metadata": {},
   "outputs": [],
   "source": [
    "population = 'CMN_7_gambiae_2009'\n",
    "country, pop_n, species, year = population.split('_')\n",
    "wat_list, dps_list = plot_wat_pop(population)\n",
    "df_all = df_all.append(pd.DataFrame(data={'dps': dps_list,\n",
    "                            'mean': [np.mean(wat) for wat in wat_list],\n",
    "                            'population': [population] * len(dps_list),\n",
    "                            'country': [country] * len(dps_list),\n",
    "                            'pop_n': [pop_n] * len(dps_list),\n",
    "                            'species': [species] * len(dps_list),\n",
    "                            'year': [year] * len(dps_list)}))\n",
    "sns.scatterplot(x = 'dps', y = 'mean', hue = 'population', data=df_all[df_all.country == 'CMN'][df_all[df_all.country == 'CMN'].dps < 70])\n",
    "df_all.to_csv('Watt-Theta.csv',index=False)"
   ]
  },
  {
   "cell_type": "code",
   "execution_count": null,
   "metadata": {},
   "outputs": [],
   "source": [
    "population = 'DRC_1_gambiae_2015'\n",
    "country, pop_n, species, year = population.split('_')\n",
    "wat_list, dps_list = plot_wat_pop(population)\n",
    "df_all = df_all.append(pd.DataFrame(data={'dps': dps_list,\n",
    "                            'mean': [np.mean(wat) for wat in wat_list],\n",
    "                            'population': [population] * len(dps_list),\n",
    "                            'country': [country] * len(dps_list),\n",
    "                            'pop_n': [pop_n] * len(dps_list),\n",
    "                            'species': [species] * len(dps_list),\n",
    "                            'year': [year] * len(dps_list)}))\n",
    "sns.scatterplot(x = 'dps', y = 'mean', hue = 'population', data=df_all[df_all.country != 'CMN'][df_all[df_all.country != 'CMN'].dps < 70])\n",
    "df_all.to_csv('Watt-Theta.csv',index=False)"
   ]
  },
  {
   "cell_type": "code",
   "execution_count": null,
   "metadata": {},
   "outputs": [],
   "source": [
    "population = 'GAB_1_gambiae_2000'\n",
    "country, pop_n, species, year = population.split('_')\n",
    "wat_list, dps_list = plot_wat_pop(population)\n",
    "df_all = df_all.append(pd.DataFrame(data={'dps': dps_list,\n",
    "                            'mean': [np.mean(wat) for wat in wat_list],\n",
    "                            'population': [population] * len(dps_list),\n",
    "                            'country': [country] * len(dps_list),\n",
    "                            'pop_n': [pop_n] * len(dps_list),\n",
    "                            'species': [species] * len(dps_list),\n",
    "                            'year': [year] * len(dps_list)}))\n",
    "sns.scatterplot(x = 'dps', y = 'mean', hue = 'population', data=df_all[df_all.country != 'CMN'][df_all[df_all.country != 'CMN'].dps < 70])\n",
    "df_all.to_csv('Watt-Theta.csv',index=False)"
   ]
  },
  {
   "cell_type": "code",
   "execution_count": null,
   "metadata": {},
   "outputs": [],
   "source": [
    "population = 'GAM_1_coluzzii_2012'\n",
    "country, pop_n, species, year = population.split('_')\n",
    "wat_list, dps_list = plot_wat_pop(population, inc=2)\n",
    "df_all = df_all.append(pd.DataFrame(data={'dps': dps_list,\n",
    "                            'mean': [np.mean(wat) for wat in wat_list],\n",
    "                            'population': [population] * len(dps_list),\n",
    "                            'country': [country] * len(dps_list),\n",
    "                            'pop_n': [pop_n] * len(dps_list),\n",
    "                            'species': [species] * len(dps_list),\n",
    "                            'year': [year] * len(dps_list)}))\n",
    "sns.scatterplot(x = 'dps', y = 'mean', hue = 'population', data=df_all[df_all.species == 'coluzzii'][df_all[df_all.species == 'coluzzii'].dps < 70])\n",
    "df_all.to_csv('Watt-Theta.csv',index=False)"
   ]
  },
  {
   "cell_type": "code",
   "execution_count": null,
   "metadata": {},
   "outputs": [],
   "source": [
    "population = 'GAM_1_intermediate_2011'\n",
    "country, pop_n, species, year = population.split('_')\n",
    "wat_list, dps_list = plot_wat_pop(population)\n",
    "df_all = df_all.append(pd.DataFrame(data={'dps': dps_list,\n",
    "                            'mean': [np.mean(wat) for wat in wat_list],\n",
    "                            'population': [population] * len(dps_list),\n",
    "                            'country': [country] * len(dps_list),\n",
    "                            'pop_n': [pop_n] * len(dps_list),\n",
    "                            'species': [species] * len(dps_list),\n",
    "                            'year': [year] * len(dps_list)}))\n",
    "sns.scatterplot(x = 'dps', y = 'mean', hue = 'population', data=df_all[df_all.country == 'GAM'][df_all[df_all.country == 'GAM'].dps < 70])\n",
    "df_all.to_csv('Watt-Theta.csv',index=False)"
   ]
  },
  {
   "cell_type": "code",
   "execution_count": null,
   "metadata": {},
   "outputs": [],
   "source": [
    "population = 'GAM_2_coluzzii_2012'\n",
    "country, pop_n, species, year = population.split('_')\n",
    "wat_list, dps_list = plot_wat_pop(population)\n",
    "df_all = df_all.append(pd.DataFrame(data={'dps': dps_list,\n",
    "                            'mean': [np.mean(wat) for wat in wat_list],\n",
    "                            'population': [population] * len(dps_list),\n",
    "                            'country': [country] * len(dps_list),\n",
    "                            'pop_n': [pop_n] * len(dps_list),\n",
    "                            'species': [species] * len(dps_list),\n",
    "                            'year': [year] * len(dps_list)}))\n",
    "sns.scatterplot(x = 'dps', y = 'mean', hue = 'population', data=df_all[df_all.country == 'GAM'][df_all[df_all.country == 'GAM'].dps < 70])\n",
    "df_all.to_csv('Watt-Theta.csv',index=False)"
   ]
  },
  {
   "cell_type": "code",
   "execution_count": null,
   "metadata": {},
   "outputs": [],
   "source": [
    "population = 'GBU_1_intermediate_2010'\n",
    "country, pop_n, species, year = population.split('_')\n",
    "wat_list, dps_list = plot_wat_pop(population)\n",
    "df_all = df_all.append(pd.DataFrame(data={'dps': dps_list,\n",
    "                            'mean': [np.mean(wat) for wat in wat_list],\n",
    "                            'population': [population] * len(dps_list),\n",
    "                            'country': [country] * len(dps_list),\n",
    "                            'pop_n': [pop_n] * len(dps_list),\n",
    "                            'species': [species] * len(dps_list),\n",
    "                            'year': [year] * len(dps_list)}))\n",
    "sns.scatterplot(x = 'dps', y = 'mean', hue = 'population', data=df_all[df_all.species == 'intermediate'][df_all[df_all.species == 'intermediate'].dps < 70])\n",
    "df_all.to_csv('Watt-Theta.csv',index=False)"
   ]
  },
  {
   "cell_type": "code",
   "execution_count": null,
   "metadata": {},
   "outputs": [],
   "source": [
    "population = 'GHA_1_coluzzii_2012'\n",
    "country, pop_n, species, year = population.split('_')\n",
    "wat_list, dps_list = plot_wat_pop(population, start_value=7, inc=1)\n",
    "df_all = df_all.append(pd.DataFrame(data={'dps': dps_list,\n",
    "                            'mean': [np.mean(wat) for wat in wat_list],\n",
    "                            'population': [population] * len(dps_list),\n",
    "                            'country': [country] * len(dps_list),\n",
    "                            'pop_n': [pop_n] * len(dps_list),\n",
    "                            'species': [species] * len(dps_list),\n",
    "                            'year': [year] * len(dps_list)}))\n",
    "sns.scatterplot(x = 'dps', y = 'mean', hue = 'population', data=df_all[df_all.species == 'coluzzii'][df_all[df_all.species == 'coluzzii'].dps < 70])\n",
    "df_all.to_csv('Watt-Theta.csv',index=False)"
   ]
  },
  {
   "cell_type": "code",
   "execution_count": null,
   "metadata": {},
   "outputs": [],
   "source": [
    "population = 'GHA_1_gambiae_2012'\n",
    "country, pop_n, species, year = population.split('_')\n",
    "wat_list, dps_list = plot_wat_pop(population)\n",
    "df_all = df_all.append(pd.DataFrame(data={'dps': dps_list,\n",
    "                            'mean': [np.mean(wat) for wat in wat_list],\n",
    "                            'population': [population] * len(dps_list),\n",
    "                            'country': [country] * len(dps_list),\n",
    "                            'pop_n': [pop_n] * len(dps_list),\n",
    "                            'species': [species] * len(dps_list),\n",
    "                            'year': [year] * len(dps_list)}))\n",
    "sns.scatterplot(x = 'dps', y = 'mean', hue = 'population', data=df_all[df_all.species == 'gambiae'][df_all[df_all.species == 'gambiae'].dps < 70])\n",
    "df_all.to_csv('Watt-Theta.csv',index=False)"
   ]
  },
  {
   "cell_type": "code",
   "execution_count": null,
   "metadata": {},
   "outputs": [],
   "source": [
    "population = 'GHA_2_coluzzii_2012'\n",
    "country, pop_n, species, year = population.split('_')\n",
    "wat_list, dps_list = plot_wat_pop(population)\n",
    "df_all = df_all.append(pd.DataFrame(data={'dps': dps_list,\n",
    "                            'mean': [np.mean(wat) for wat in wat_list],\n",
    "                            'population': [population] * len(dps_list),\n",
    "                            'country': [country] * len(dps_list),\n",
    "                            'pop_n': [pop_n] * len(dps_list),\n",
    "                            'species': [species] * len(dps_list),\n",
    "                            'year': [year] * len(dps_list)}))\n",
    "sns.scatterplot(x = 'dps', y = 'mean', hue = 'population', data=df_all[df_all.species == 'coluzzii'][df_all[df_all.species == 'coluzzii'].dps < 70])\n",
    "df_all.to_csv('Watt-Theta.csv',index=False)"
   ]
  },
  {
   "cell_type": "code",
   "execution_count": null,
   "metadata": {},
   "outputs": [],
   "source": [
    "population = 'GHA_3_coluzzii_2012'\n",
    "country, pop_n, species, year = population.split('_')\n",
    "wat_list, dps_list = plot_wat_pop(population)\n",
    "df_all = df_all.append(pd.DataFrame(data={'dps': dps_list,\n",
    "                            'mean': [np.mean(wat) for wat in wat_list],\n",
    "                            'population': [population] * len(dps_list),\n",
    "                            'country': [country] * len(dps_list),\n",
    "                            'pop_n': [pop_n] * len(dps_list),\n",
    "                            'species': [species] * len(dps_list),\n",
    "                            'year': [year] * len(dps_list)}))\n",
    "sns.scatterplot(x = 'dps', y = 'mean', hue = 'population', data=df_all[df_all.species == 'coluzzii'][df_all[df_all.species == 'coluzzii'].dps < 70])\n",
    "df_all.to_csv('Watt-Theta.csv',index=False)"
   ]
  },
  {
   "cell_type": "code",
   "execution_count": null,
   "metadata": {},
   "outputs": [],
   "source": [
    "population = 'GUI_1_coluzzii_2012'\n",
    "country, pop_n, species, year = population.split('_')\n",
    "wat_list, dps_list = plot_wat_pop(population, start_value=1, inc=1)\n",
    "df_all = df_all.append(pd.DataFrame(data={'dps': dps_list,\n",
    "                            'mean': [np.mean(wat) for wat in wat_list],\n",
    "                            'population': [population] * len(dps_list),\n",
    "                            'country': [country] * len(dps_list),\n",
    "                            'pop_n': [pop_n] * len(dps_list),\n",
    "                            'species': [species] * len(dps_list),\n",
    "                            'year': [year] * len(dps_list)}))\n",
    "sns.scatterplot(x = 'dps', y = 'mean', hue = 'population', data=df_all[df_all.species == 'coluzzii'][df_all[df_all.species == 'coluzzii'].dps < 70])\n",
    "df_all.to_csv('Watt-Theta.csv',index=False)"
   ]
  },
  {
   "cell_type": "code",
   "execution_count": null,
   "metadata": {},
   "outputs": [],
   "source": [
    "population = 'GUI_1_gambiae_2012'\n",
    "country, pop_n, species, year = population.split('_')\n",
    "wat_list, dps_list = plot_wat_pop(population)\n",
    "df_all = df_all.append(pd.DataFrame(data={'dps': dps_list,\n",
    "                            'mean': [np.mean(wat) for wat in wat_list],\n",
    "                            'population': [population] * len(dps_list),\n",
    "                            'country': [country] * len(dps_list),\n",
    "                            'pop_n': [pop_n] * len(dps_list),\n",
    "                            'species': [species] * len(dps_list),\n",
    "                            'year': [year] * len(dps_list)}))\n",
    "sns.scatterplot(x = 'dps', y = 'mean', hue = 'population', data=df_all[df_all.species == 'gambiae'][df_all[df_all.species == 'gambiae'].dps < 70])\n",
    "df_all.to_csv('Watt-Theta.csv',index=False)"
   ]
  },
  {
   "cell_type": "code",
   "execution_count": null,
   "metadata": {},
   "outputs": [],
   "source": [
    "population = 'GUI_2_gambiae_2012'\n",
    "country, pop_n, species, year = population.split('_')\n",
    "wat_list, dps_list = plot_wat_pop(population)\n",
    "df_all = df_all.append(pd.DataFrame(data={'dps': dps_list,\n",
    "                            'mean': [np.mean(wat) for wat in wat_list],\n",
    "                            'population': [population] * len(dps_list),\n",
    "                            'country': [country] * len(dps_list),\n",
    "                            'pop_n': [pop_n] * len(dps_list),\n",
    "                            'species': [species] * len(dps_list),\n",
    "                            'year': [year] * len(dps_list)}))\n",
    "sns.scatterplot(x = 'dps', y = 'mean', hue = 'population', data=df_all[df_all.country == 'GUI'][df_all[df_all.country == 'GUI'].dps < 70])\n",
    "df_all.to_csv('Watt-Theta.csv',index=False)"
   ]
  },
  {
   "cell_type": "code",
   "execution_count": null,
   "metadata": {},
   "outputs": [],
   "source": [
    "population = 'KEN_1_gambiae_2000'\n",
    "country, pop_n, species, year = population.split('_')\n",
    "wat_list, dps_list = plot_wat_pop(population, start_value=7, inc =2)\n",
    "df_all = df_all.append(pd.DataFrame(data={'dps': dps_list,\n",
    "                            'mean': [np.mean(wat) for wat in wat_list],\n",
    "                            'population': [population] * len(dps_list),\n",
    "                            'country': [country] * len(dps_list),\n",
    "                            'pop_n': [pop_n] * len(dps_list),\n",
    "                            'species': [species] * len(dps_list),\n",
    "                            'year': [year] * len(dps_list)}))\n",
    "df_nCMN = df_all[df_all.country != 'CMN']\n",
    "sns.scatterplot(x = 'dps', y = 'mean', hue = 'population', data=df_nCMN[df_nCMN.species == 'gambiae'][df_nCMN[df_nCMN.species == 'gambiae'].dps < 70])\n",
    "df_all.to_csv('Watt-Theta.csv',index=False)"
   ]
  },
  {
   "cell_type": "code",
   "execution_count": null,
   "metadata": {},
   "outputs": [],
   "source": [
    "population = 'KEN_1_intermediate_2012'\n",
    "country, pop_n, species, year = population.split('_')\n",
    "wat_list, dps_list = plot_wat_pop(population)\n",
    "df_all = df_all.append(pd.DataFrame(data={'dps': dps_list,\n",
    "                            'mean': [np.mean(wat) for wat in wat_list],\n",
    "                            'population': [population] * len(dps_list),\n",
    "                            'country': [country] * len(dps_list),\n",
    "                            'pop_n': [pop_n] * len(dps_list),\n",
    "                            'species': [species] * len(dps_list),\n",
    "                            'year': [year] * len(dps_list)}))\n",
    "sns.scatterplot(x = 'dps', y = 'mean', hue = 'population', data=df_all[df_all.species == 'intermediate'][df_all[df_all.species == 'intermediate'].dps < 70])\n",
    "df_all.to_csv('Watt-Theta.csv',index=False)"
   ]
  },
  {
   "cell_type": "code",
   "execution_count": null,
   "metadata": {},
   "outputs": [],
   "source": [
    "population = 'MAL_1_coluzzii_2004'\n",
    "country, pop_n, species, year = population.split('_')\n",
    "wat_list, dps_list = plot_wat_pop(population, inc=2)\n",
    "df_all = df_all.append(pd.DataFrame(data={'dps': dps_list,\n",
    "                            'mean': [np.mean(wat) for wat in wat_list],\n",
    "                            'population': [population] * len(dps_list),\n",
    "                            'country': [country] * len(dps_list),\n",
    "                            'pop_n': [pop_n] * len(dps_list),\n",
    "                            'species': [species] * len(dps_list),\n",
    "                            'year': [year] * len(dps_list)}))\n",
    "sns.scatterplot(x = 'dps', y = 'mean', hue = 'population', data=df_all[df_all.species == 'coluzzii'][df_all[df_all.species == 'coluzzii'].dps < 70])\n",
    "df_all.to_csv('Watt-Theta.csv',index=False)"
   ]
  },
  {
   "cell_type": "code",
   "execution_count": null,
   "metadata": {},
   "outputs": [],
   "source": [
    "df_small = df_all[df_all.country.isin(['MAL','BUF','CIV', 'GUI', 'GAB', 'KEN', 'ANG'])]\n",
    "df_small_coluzzii = df_small[df_small.species == 'coluzzii']\n",
    "sns.scatterplot(x = 'dps', y = 'mean', hue = 'population', data=df_small_coluzzii[df_small_coluzzii.dps < 70])"
   ]
  },
  {
   "cell_type": "code",
   "execution_count": null,
   "metadata": {},
   "outputs": [],
   "source": [
    "population = 'MAL_2_gambiae_2004'\n",
    "country, pop_n, species, year = population.split('_')\n",
    "wat_list, dps_list = plot_wat_pop(population)\n",
    "df_all = df_all.append(pd.DataFrame(data={'dps': dps_list,\n",
    "                            'mean': [np.mean(wat) for wat in wat_list],\n",
    "                            'population': [population] * len(dps_list),\n",
    "                            'country': [country] * len(dps_list),\n",
    "                            'pop_n': [pop_n] * len(dps_list),\n",
    "                            'species': [species] * len(dps_list),\n",
    "                            'year': [year] * len(dps_list)}))\n",
    "df_small = df_all[df_all.country.isin(['MAL','BUF','CIV', 'GUI', 'GAB', 'KEN', 'ANG'])]\n",
    "df_small_gambiae = df_small[df_small.species == 'gambiae']\n",
    "sns.scatterplot(x = 'dps', y = 'mean', hue = 'population', data=df_small_gambiae[df_small_gambiae.dps < 70])\n",
    "df_all.to_csv('Watt-Theta.csv',index=False)"
   ]
  },
  {
   "cell_type": "code",
   "execution_count": null,
   "metadata": {},
   "outputs": [],
   "source": [
    "population = 'MAL_3_coluzzii_2012'\n",
    "country, pop_n, species, year = population.split('_')\n",
    "wat_list, dps_list = plot_wat_pop(population, inc=2)\n",
    "df_all = df_all.append(pd.DataFrame(data={'dps': dps_list,\n",
    "                            'mean': [np.mean(wat) for wat in wat_list],\n",
    "                            'population': [population] * len(dps_list),\n",
    "                            'country': [country] * len(dps_list),\n",
    "                            'pop_n': [pop_n] * len(dps_list),\n",
    "                            'species': [species] * len(dps_list),\n",
    "                            'year': [year] * len(dps_list)}))\n",
    "df_small = df_all[df_all.country.isin(['MAL','BUF','CIV', 'GUI', 'GAB', 'KEN', 'ANG'])]\n",
    "df_small_coluzzii = df_small[df_small.species == 'coluzzii']\n",
    "sns.scatterplot(x = 'dps', y = 'mean', hue = 'population', data=df_small_coluzzii[df_small_coluzzii.dps < 70])\n",
    "df_all.to_csv('Watt-Theta.csv',index=False)"
   ]
  },
  {
   "cell_type": "code",
   "execution_count": null,
   "metadata": {},
   "outputs": [],
   "source": [
    "population = 'MAL_4_gambiae_2012'\n",
    "country, pop_n, species, year = population.split('_')\n",
    "wat_list, dps_list = plot_wat_pop(population)\n",
    "df_all = df_all.append(pd.DataFrame(data={'dps': dps_list,\n",
    "                            'mean': [np.mean(wat) for wat in wat_list],\n",
    "                            'population': [population] * len(dps_list),\n",
    "                            'country': [country] * len(dps_list),\n",
    "                            'pop_n': [pop_n] * len(dps_list),\n",
    "                            'species': [species] * len(dps_list),\n",
    "                            'year': [year] * len(dps_list)}))\n",
    "df_small = df_all[df_all.country.isin(['MAL','BUF','CIV', 'GUI', 'GAB', 'KEN', 'ANG'])]\n",
    "df_small_gambiae = df_small[df_small.species == 'gambiae']\n",
    "sns.scatterplot(x = 'dps', y = 'mean', hue = 'population', data=df_small_gambiae[df_small_gambiae.dps < 70])\n",
    "df_all.to_csv('Watt-Theta.csv',index=False)"
   ]
  },
  {
   "cell_type": "code",
   "execution_count": null,
   "metadata": {},
   "outputs": [],
   "source": [
    "population = 'MAL_5_coluzzii_2004'\n",
    "country, pop_n, species, year = population.split('_')\n",
    "wat_list, dps_list = plot_wat_pop(population, start_value=7, inc=1)\n",
    "df_all = df_all.append(pd.DataFrame(data={'dps': dps_list,\n",
    "                            'mean': [np.mean(wat) for wat in wat_list],\n",
    "                            'population': [population] * len(dps_list),\n",
    "                            'country': [country] * len(dps_list),\n",
    "                            'pop_n': [pop_n] * len(dps_list),\n",
    "                            'species': [species] * len(dps_list),\n",
    "                            'year': [year] * len(dps_list)}))\n",
    "df_small = df_all[df_all.country.isin(['MAL','BUF','CIV', 'GUI', 'GAB', 'KEN', 'ANG'])]\n",
    "df_small_coluzzii = df_small[df_small.species == 'coluzzii']\n",
    "sns.scatterplot(x = 'dps', y = 'mean', hue = 'population', data=df_small_coluzzii[df_small_coluzzii.dps < 70])\n",
    "df_all.to_csv('Watt-Theta.csv',index=False)"
   ]
  },
  {
   "cell_type": "code",
   "execution_count": null,
   "metadata": {},
   "outputs": [],
   "source": [
    "population = 'MAL_5_coluzzii_2014'\n",
    "country, pop_n, species, year = population.split('_')\n",
    "wat_list, dps_list = plot_wat_pop(population)\n",
    "df_all = df_all.append(pd.DataFrame(data={'dps': dps_list,\n",
    "                            'mean': [np.mean(wat) for wat in wat_list],\n",
    "                            'population': [population] * len(dps_list),\n",
    "                            'country': [country] * len(dps_list),\n",
    "                            'pop_n': [pop_n] * len(dps_list),\n",
    "                            'species': [species] * len(dps_list),\n",
    "                            'year': [year] * len(dps_list)}))\n",
    "df_small = df_all[df_all.country.isin(['MAL','BUF','CIV', 'GUI', 'GAB', 'KEN', 'ANG'])]\n",
    "df_small_coluzzii = df_small[df_small.species == 'coluzzii']\n",
    "sns.scatterplot(x = 'dps', y = 'mean', hue = 'population', data=df_small_coluzzii[df_small_coluzzii.dps < 70])\n",
    "df_all.to_csv('Watt-Theta.csv',index=False)"
   ]
  },
  {
   "cell_type": "code",
   "execution_count": null,
   "metadata": {},
   "outputs": [],
   "source": [
    "population = 'MAL_5_gambiae_2014'\n",
    "country, pop_n, species, year = population.split('_')\n",
    "wat_list, dps_list = plot_wat_pop(population)\n",
    "df_all = df_all.append(pd.DataFrame(data={'dps': dps_list,\n",
    "                            'mean': [np.mean(wat) for wat in wat_list],\n",
    "                            'population': [population] * len(dps_list),\n",
    "                            'country': [country] * len(dps_list),\n",
    "                            'pop_n': [pop_n] * len(dps_list),\n",
    "                            'species': [species] * len(dps_list),\n",
    "                            'year': [year] * len(dps_list)}))\n",
    "df_small = df_all[df_all.country.isin(['MAL','BUF','CIV', 'GUI', 'GAB', 'KEN', 'ANG'])]\n",
    "df_small_gambiae = df_small[df_small.species == 'gambiae']\n",
    "sns.scatterplot(x = 'dps', y = 'mean', hue = 'population', data=df_small_gambiae[df_small_gambiae.dps < 70])\n",
    "df_all.to_csv('Watt-Theta.csv',index=False)"
   ]
  },
  {
   "cell_type": "code",
   "execution_count": null,
   "metadata": {},
   "outputs": [],
   "source": [
    "population = 'MAY_1_gambiae_2011'\n",
    "country, pop_n, species, year = population.split('_')\n",
    "wat_list, dps_list = plot_wat_pop(population)\n",
    "df_all = df_all.append(pd.DataFrame(data={'dps': dps_list,\n",
    "                            'mean': [np.mean(wat) for wat in wat_list],\n",
    "                            'population': [population] * len(dps_list),\n",
    "                            'country': [country] * len(dps_list),\n",
    "                            'pop_n': [pop_n] * len(dps_list),\n",
    "                            'species': [species] * len(dps_list),\n",
    "                            'year': [year] * len(dps_list)}))\n",
    "df_small = df_all[df_all.country.isin(['MAY','BUF','CIV', 'GUI', 'GAB', 'KEN', 'ANG'])]\n",
    "df_small_gambiae = df_small[df_small.species == 'gambiae']\n",
    "sns.scatterplot(x = 'dps', y = 'mean', hue = 'population', data=df_small_gambiae[df_small_gambiae.dps < 70])\n",
    "df_all.to_csv('Watt-Theta.csv',index=False)"
   ]
  },
  {
   "cell_type": "code",
   "execution_count": null,
   "metadata": {},
   "outputs": [],
   "source": [
    "population = 'MLW_1_arabiensis_2015'\n",
    "country, pop_n, species, year = population.split('_')\n",
    "wat_list, dps_list = plot_wat_pop(population)\n",
    "df_all = df_all.append(pd.DataFrame(data={'dps': dps_list,\n",
    "                            'mean': [np.mean(wat) for wat in wat_list],\n",
    "                            'population': [population] * len(dps_list),\n",
    "                            'country': [country] * len(dps_list),\n",
    "                            'pop_n': [pop_n] * len(dps_list),\n",
    "                            'species': [species] * len(dps_list),\n",
    "                            'year': [year] * len(dps_list)}))\n",
    "df_small = df_all[df_all.country.isin(['MAY', 'BUF', 'CIV', 'GAB', 'KEN', 'ANG', 'MLW'])]\n",
    "sns.scatterplot(x = 'dps', y = 'mean', hue = 'population', data=df_small[df_small.dps < 70])\n",
    "df_all.to_csv('Watt-Theta.csv',index=False)"
   ]
  },
  {
   "cell_type": "code",
   "execution_count": null,
   "metadata": {},
   "outputs": [],
   "source": [
    "population = 'MOZ_1_gambiae_2004'\n",
    "country, pop_n, species, year = population.split('_')\n",
    "wat_list, dps_list = plot_wat_pop(population)\n",
    "df_all = df_all.append(pd.DataFrame(data={'dps': dps_list,\n",
    "                            'mean': [np.mean(wat) for wat in wat_list],\n",
    "                            'population': [population] * len(dps_list),\n",
    "                            'country': [country] * len(dps_list),\n",
    "                            'pop_n': [pop_n] * len(dps_list),\n",
    "                            'species': [species] * len(dps_list),\n",
    "                            'year': [year] * len(dps_list)}))\n",
    "df_small = df_all[df_all.country.isin(['MAY', 'BUF', 'CIV', 'MOZ', 'GAB', 'KEN', 'ANG'])]\n",
    "df_small_gambiae = df_small[df_small.species == 'gambiae']\n",
    "sns.scatterplot(x = 'dps', y = 'mean', hue = 'population', data=df_small_gambiae[df_small_gambiae.dps < 70])\n",
    "df_all.to_csv('Watt-Theta.csv',index=False)"
   ]
  },
  {
   "cell_type": "code",
   "execution_count": null,
   "metadata": {},
   "outputs": [],
   "source": [
    "population = 'TZA_1_arabiensis_2015'\n",
    "country, pop_n, species, year = population.split('_')\n",
    "wat_list, dps_list = plot_wat_pop(population)\n",
    "df_all = df_all.append(pd.DataFrame(data={'dps': dps_list,\n",
    "                            'mean': [np.mean(wat) for wat in wat_list],\n",
    "                            'population': [population] * len(dps_list),\n",
    "                            'country': [country] * len(dps_list),\n",
    "                            'pop_n': [pop_n] * len(dps_list),\n",
    "                            'species': [species] * len(dps_list),\n",
    "                            'year': [year] * len(dps_list)}))\n",
    "df_small = df_all[df_all.country.isin(['MLW', 'TZA'])]\n",
    "df_small_arab = df_small[df_small.species == 'arabiensis']\n",
    "sns.scatterplot(x = 'dps', y = 'mean', hue = 'population', data=df_small_arab[df_small_arab.dps < 70])\n",
    "df_all.to_csv('Watt-Theta.csv',index=False)"
   ]
  },
  {
   "cell_type": "code",
   "execution_count": null,
   "metadata": {},
   "outputs": [],
   "source": [
    "population = 'TZA_1_gambiae_2015'\n",
    "country, pop_n, species, year = population.split('_')\n",
    "wat_list, dps_list = plot_wat_pop(population)\n",
    "df_all = df_all.append(pd.DataFrame(data={'dps': dps_list,\n",
    "                            'mean': [np.mean(wat) for wat in wat_list],\n",
    "                            'population': [population] * len(dps_list),\n",
    "                            'country': [country] * len(dps_list),\n",
    "                            'pop_n': [pop_n] * len(dps_list),\n",
    "                            'species': [species] * len(dps_list),\n",
    "                            'year': [year] * len(dps_list)}))\n",
    "df_small = df_all[df_all.country.isin(['MAY', 'BUF', 'CIV', 'MOZ', 'GAB', 'KEN', 'ANG', 'TZA'])]\n",
    "df_small_gambiae = df_small[df_small.species == 'gambiae']\n",
    "sns.scatterplot(x = 'dps', y = 'mean', hue = 'population', data=df_small_gambiae[df_small_gambiae.dps < 70])\n",
    "df_all.to_csv('Watt-Theta.csv',index=False)"
   ]
  },
  {
   "cell_type": "code",
   "execution_count": null,
   "metadata": {},
   "outputs": [],
   "source": [
    "population = 'TZA_2_arabiensis_2012'\n",
    "country, pop_n, species, year = population.split('_')\n",
    "wat_list, dps_list = plot_wat_pop(population)\n",
    "df_all = df_all.append(pd.DataFrame(data={'dps': dps_list,\n",
    "                            'mean': [np.mean(wat) for wat in wat_list],\n",
    "                            'population': [population] * len(dps_list),\n",
    "                            'country': [country] * len(dps_list),\n",
    "                            'pop_n': [pop_n] * len(dps_list),\n",
    "                            'species': [species] * len(dps_list),\n",
    "                            'year': [year] * len(dps_list)}))\n",
    "df_small = df_all[df_all.country.isin(['MLW', 'TZA'])]\n",
    "df_small_arab = df_small[df_small.species == 'arabiensis']\n",
    "sns.scatterplot(x = 'dps', y = 'mean', hue = 'population', data=df_small_arab[df_small_arab.dps < 70])\n",
    "df_all.to_csv('Watt-Theta.csv',index=False)"
   ]
  },
  {
   "cell_type": "code",
   "execution_count": null,
   "metadata": {},
   "outputs": [],
   "source": [
    "population = 'TZA_3_arabiensis_2012'\n",
    "country, pop_n, species, year = population.split('_')\n",
    "wat_list, dps_list = plot_wat_pop(population)\n",
    "df_all = df_all.append(pd.DataFrame(data={'dps': dps_list,\n",
    "                            'mean': [np.mean(wat) for wat in wat_list],\n",
    "                            'population': [population] * len(dps_list),\n",
    "                            'country': [country] * len(dps_list),\n",
    "                            'pop_n': [pop_n] * len(dps_list),\n",
    "                            'species': [species] * len(dps_list),\n",
    "                            'year': [year] * len(dps_list)}))\n",
    "df_small = df_all[df_all.country.isin(['MLW', 'TZA'])]\n",
    "df_small_arab = df_small[df_small.species == 'arabiensis']\n",
    "sns.scatterplot(x = 'dps', y = 'mean', hue = 'population', data=df_small_arab[df_small_arab.dps < 70])\n",
    "df_all.to_csv('Watt-Theta.csv',index=False)"
   ]
  },
  {
   "cell_type": "code",
   "execution_count": null,
   "metadata": {},
   "outputs": [],
   "source": [
    "population = 'TZA_4_gambiae_2013'\n",
    "country, pop_n, species, year = population.split('_')\n",
    "wat_list, dps_list = plot_wat_pop(population)\n",
    "df_all = df_all.append(pd.DataFrame(data={'dps': dps_list,\n",
    "                            'mean': [np.mean(wat) for wat in wat_list],\n",
    "                            'population': [population] * len(dps_list),\n",
    "                            'country': [country] * len(dps_list),\n",
    "                            'pop_n': [pop_n] * len(dps_list),\n",
    "                            'species': [species] * len(dps_list),\n",
    "                            'year': [year] * len(dps_list)}))\n",
    "df_small = df_all[df_all.country.isin(['MAY', 'BUF', 'CIV', 'MOZ', 'GAB', 'KEN', 'ANG', 'TZA'])]\n",
    "df_small_gambiae = df_small[df_small.species == 'gambiae']\n",
    "sns.scatterplot(x = 'dps', y = 'mean', hue = 'population', data=df_small_gambiae[df_small_gambiae.dps < 70])\n",
    "df_all.to_csv('Watt-Theta.csv',index=False)"
   ]
  },
  {
   "cell_type": "code",
   "execution_count": null,
   "metadata": {},
   "outputs": [],
   "source": [
    "population = 'UGA_1_gambiae_2012'\n",
    "country, pop_n, species, year = population.split('_')\n",
    "wat_list, dps_list = plot_wat_pop(population)\n",
    "df_all = df_all.append(pd.DataFrame(data={'dps': dps_list,\n",
    "                            'mean': [np.mean(wat) for wat in wat_list],\n",
    "                            'population': [population] * len(dps_list),\n",
    "                            'country': [country] * len(dps_list),\n",
    "                            'pop_n': [pop_n] * len(dps_list),\n",
    "                            'species': [species] * len(dps_list),\n",
    "                            'year': [year] * len(dps_list)}))\n",
    "df_small = df_all[df_all.country.isin(['MAY', 'BUF', 'CIV', 'MOZ', 'GAB', 'KEN', 'ANG', 'TZA', 'UGA'])]\n",
    "df_small_gambiae = df_small[df_small.species == 'gambiae']\n",
    "sns.scatterplot(x = 'dps', y = 'mean', hue = 'population', data=df_small_gambiae[df_small_gambiae.dps < 70])\n",
    "df_all.to_csv('Watt-Theta.csv',index=False)"
   ]
  },
  {
   "cell_type": "code",
   "execution_count": null,
   "metadata": {},
   "outputs": [],
   "source": [
    "population = 'UGA_2_arabiensis_2012'\n",
    "country, pop_n, species, year = population.split('_')\n",
    "wat_list, dps_list = plot_wat_pop(population)\n",
    "df_all = df_all.append(pd.DataFrame(data={'dps': dps_list,\n",
    "                            'mean': [np.mean(wat) for wat in wat_list],\n",
    "                            'population': [population] * len(dps_list),\n",
    "                            'country': [country] * len(dps_list),\n",
    "                            'pop_n': [pop_n] * len(dps_list),\n",
    "                            'species': [species] * len(dps_list),\n",
    "                            'year': [year] * len(dps_list)}))\n",
    "df_small = df_all[df_all.country.isin(['MLW', 'TZA', 'UGA'])]\n",
    "df_small_arab = df_small[df_small.species == 'arabiensis']\n",
    "sns.scatterplot(x = 'dps', y = 'mean', hue = 'population', data=df_small_arab[df_small_arab.dps < 70])\n",
    "df_all.to_csv('Watt-Theta.csv',index=False)"
   ]
  },
  {
   "cell_type": "code",
   "execution_count": null,
   "metadata": {},
   "outputs": [],
   "source": [
    "population = 'UGA_2_gambiae_2012'\n",
    "country, pop_n, species, year = population.split('_')\n",
    "wat_list, dps_list = plot_wat_pop(population)\n",
    "df_all = df_all.append(pd.DataFrame(data={'dps': dps_list,\n",
    "                            'mean': [np.mean(wat) for wat in wat_list],\n",
    "                            'population': [population] * len(dps_list),\n",
    "                            'country': [country] * len(dps_list),\n",
    "                            'pop_n': [pop_n] * len(dps_list),\n",
    "                            'species': [species] * len(dps_list),\n",
    "                            'year': [year] * len(dps_list)}))\n",
    "df_small = df_all[df_all.country.isin(['MAY', 'BUF', 'CIV', 'MOZ', 'GAB', 'KEN', 'ANG', 'TZA', 'UGA'])]\n",
    "df_small_gambiae = df_small[df_small.species == 'gambiae']\n",
    "sns.scatterplot(x = 'dps', y = 'mean', hue = 'population', data=df_small_gambiae[df_small_gambiae.dps < 70])\n",
    "df_all.to_csv('Watt-Theta.csv',index=False)"
   ]
  },
  {
   "cell_type": "markdown",
   "metadata": {},
   "source": [
    "# Arabiensis filters"
   ]
  },
  {
   "cell_type": "code",
   "execution_count": null,
   "metadata": {},
   "outputs": [],
   "source": [
    "population = 'UGA_2_arabiensis_2012'\n",
    "country, pop_n, species, year = population.split('_')\n",
    "wat_list, dps_list, m_w = plot_wat_pop(population)\n",
    "df_arab = pd.DataFrame(data={'dps': dps_list,\n",
    "                            'mean': [np.mean(wat) for wat in wat_list],\n",
    "                            'population': [population] * len(dps_list),\n",
    "                            'country': [country] * len(dps_list),\n",
    "                            'pop_n': [pop_n] * len(dps_list),\n",
    "                            'species': [species] * len(dps_list),\n",
    "                            'year': [year] * len(dps_list)})\n",
    "sns.scatterplot(x = 'dps', y = 'mean', hue = 'population', data=df_arab)"
   ]
  },
  {
   "cell_type": "code",
   "execution_count": null,
   "metadata": {},
   "outputs": [],
   "source": [
    "population = 'TZA_3_arabiensis_2012'\n",
    "country, pop_n, species, year = population.split('_')\n",
    "wat_list, dps_list, m_w = plot_wat_pop(population)\n",
    "df_arab = df_arab.append(pd.DataFrame(data={'dps': dps_list,\n",
    "                            'mean': [np.mean(wat) for wat in wat_list],\n",
    "                            'population': [population] * len(dps_list),\n",
    "                            'country': [country] * len(dps_list),\n",
    "                            'pop_n': [pop_n] * len(dps_list),\n",
    "                            'species': [species] * len(dps_list),\n",
    "                            'year': [year] * len(dps_list)}))\n",
    "sns.scatterplot(x = 'dps', y = 'mean', hue = 'population', data=df_arab)"
   ]
  },
  {
   "cell_type": "code",
   "execution_count": null,
   "metadata": {},
   "outputs": [],
   "source": [
    "population = 'TZA_2_arabiensis_2012'\n",
    "country, pop_n, species, year = population.split('_')\n",
    "wat_list, dps_list, m_w = plot_wat_pop(population)\n",
    "df_arab = df_arab.append(pd.DataFrame(data={'dps': dps_list,\n",
    "                            'mean': [np.mean(wat) for wat in wat_list],\n",
    "                            'population': [population] * len(dps_list),\n",
    "                            'country': [country] * len(dps_list),\n",
    "                            'pop_n': [pop_n] * len(dps_list),\n",
    "                            'species': [species] * len(dps_list),\n",
    "                            'year': [year] * len(dps_list)}))\n",
    "sns.scatterplot(x = 'dps', y = 'mean', hue = 'population', data=df_arab)"
   ]
  },
  {
   "cell_type": "code",
   "execution_count": null,
   "metadata": {},
   "outputs": [],
   "source": [
    "population = 'MLW_1_arabiensis_2015'\n",
    "country, pop_n, species, year = population.split('_')\n",
    "wat_list, dps_list, m_w = plot_wat_pop(population)\n",
    "df_arab = df_arab.append(pd.DataFrame(data={'dps': dps_list,\n",
    "                            'mean': [np.mean(wat) for wat in wat_list],\n",
    "                            'population': [population] * len(dps_list),\n",
    "                            'country': [country] * len(dps_list),\n",
    "                            'pop_n': [pop_n] * len(dps_list),\n",
    "                            'species': [species] * len(dps_list),\n",
    "                            'year': [year] * len(dps_list)}))\n",
    "sns.scatterplot(x = 'dps', y = 'mean', hue = 'population', data=df_arab)"
   ]
  },
  {
   "cell_type": "code",
   "execution_count": null,
   "metadata": {},
   "outputs": [],
   "source": [
    "df_arab.to_csv('Watt-Theta-arab.csv',index=False)"
   ]
  }
 ],
 "metadata": {
  "kernelspec": {
   "display_name": "Python 3",
   "language": "python",
   "name": "python3"
  },
  "language_info": {
   "codemirror_mode": {
    "name": "ipython",
    "version": 3
   },
   "file_extension": ".py",
   "mimetype": "text/x-python",
   "name": "python",
   "nbconvert_exporter": "python",
   "pygments_lexer": "ipython3",
   "version": "3.7.6"
  }
 },
 "nbformat": 4,
 "nbformat_minor": 4
}
