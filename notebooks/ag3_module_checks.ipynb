{
 "cells": [
  {
   "cell_type": "markdown",
   "metadata": {},
   "source": [
    "# Basic checks of the `ag3.py` module\n",
    "- Checks the `release_data` class attributes and methods"
   ]
  },
  {
   "cell_type": "code",
   "execution_count": 1,
   "metadata": {},
   "outputs": [
    {
     "name": "stderr",
     "output_type": "stream",
     "text": [
      "/opt/conda/lib/python3.7/site-packages/dask/dataframe/utils.py:14: FutureWarning: pandas.util.testing is deprecated. Use the functions in the public API at pandas.testing instead.\n",
      "  import pandas.util.testing as tm\n"
     ]
    }
   ],
   "source": [
    "import ag3; "
   ]
  },
  {
   "cell_type": "code",
   "execution_count": 2,
   "metadata": {},
   "outputs": [
    {
     "name": "stdout",
     "output_type": "stream",
     "text": [
      "ag3 version: 0.1.1\n"
     ]
    }
   ],
   "source": [
    "print('ag3 version:', ag3.__version__)"
   ]
  },
  {
   "cell_type": "code",
   "execution_count": null,
   "metadata": {},
   "outputs": [],
   "source": []
  },
  {
   "cell_type": "markdown",
   "metadata": {},
   "source": [
    "## `release_data` class"
   ]
  },
  {
   "cell_type": "code",
   "execution_count": 3,
   "metadata": {},
   "outputs": [],
   "source": [
    "release_data = ag3.release_data()"
   ]
  },
  {
   "cell_type": "code",
   "execution_count": null,
   "metadata": {},
   "outputs": [],
   "source": []
  },
  {
   "cell_type": "markdown",
   "metadata": {},
   "source": [
    "### Sample set lists"
   ]
  },
  {
   "cell_type": "code",
   "execution_count": 4,
   "metadata": {},
   "outputs": [
    {
     "data": {
      "text/plain": [
       "['AG1000G-AO',\n",
       " 'AG1000G-BF-A',\n",
       " 'AG1000G-BF-B',\n",
       " 'AG1000G-BF-C',\n",
       " 'AG1000G-CD',\n",
       " 'AG1000G-CF',\n",
       " 'AG1000G-CI',\n",
       " 'AG1000G-CM-A',\n",
       " 'AG1000G-CM-B',\n",
       " 'AG1000G-CM-C',\n",
       " 'AG1000G-FR',\n",
       " 'AG1000G-GA-A',\n",
       " 'AG1000G-GH',\n",
       " 'AG1000G-GM-A',\n",
       " 'AG1000G-GM-B',\n",
       " 'AG1000G-GM-C',\n",
       " 'AG1000G-GN-A',\n",
       " 'AG1000G-GN-B',\n",
       " 'AG1000G-GQ',\n",
       " 'AG1000G-GW',\n",
       " 'AG1000G-KE',\n",
       " 'AG1000G-ML-A',\n",
       " 'AG1000G-ML-B',\n",
       " 'AG1000G-MW',\n",
       " 'AG1000G-MZ',\n",
       " 'AG1000G-TZ',\n",
       " 'AG1000G-UG',\n",
       " 'AG1000G-X']"
      ]
     },
     "execution_count": 4,
     "metadata": {},
     "output_type": "execute_result"
    }
   ],
   "source": [
    "release_data.all_sample_sets"
   ]
  },
  {
   "cell_type": "code",
   "execution_count": 5,
   "metadata": {},
   "outputs": [
    {
     "data": {
      "text/plain": [
       "['AG1000G-AO',\n",
       " 'AG1000G-BF-A',\n",
       " 'AG1000G-BF-B',\n",
       " 'AG1000G-BF-C',\n",
       " 'AG1000G-CD',\n",
       " 'AG1000G-CF',\n",
       " 'AG1000G-CI',\n",
       " 'AG1000G-CM-A',\n",
       " 'AG1000G-CM-B',\n",
       " 'AG1000G-CM-C',\n",
       " 'AG1000G-FR',\n",
       " 'AG1000G-GA-A',\n",
       " 'AG1000G-GH',\n",
       " 'AG1000G-GM-A',\n",
       " 'AG1000G-GM-B',\n",
       " 'AG1000G-GM-C',\n",
       " 'AG1000G-GN-A',\n",
       " 'AG1000G-GN-B',\n",
       " 'AG1000G-GQ',\n",
       " 'AG1000G-GW',\n",
       " 'AG1000G-KE',\n",
       " 'AG1000G-ML-A',\n",
       " 'AG1000G-ML-B',\n",
       " 'AG1000G-MW',\n",
       " 'AG1000G-MZ',\n",
       " 'AG1000G-TZ',\n",
       " 'AG1000G-UG']"
      ]
     },
     "execution_count": 5,
     "metadata": {},
     "output_type": "execute_result"
    }
   ],
   "source": [
    "release_data.all_wild_sample_sets"
   ]
  },
  {
   "cell_type": "code",
   "execution_count": null,
   "metadata": {},
   "outputs": [],
   "source": []
  },
  {
   "cell_type": "markdown",
   "metadata": {},
   "source": [
    "### Site filters (\"masks\")"
   ]
  },
  {
   "cell_type": "code",
   "execution_count": 6,
   "metadata": {},
   "outputs": [
    {
     "name": "stdout",
     "output_type": "stream",
     "text": [
      "dask.array<from-zarr, shape=(48525747,), dtype=bool, chunksize=(300000,), chunktype=numpy.ndarray> 2L gamb_colu\n",
      "dask.array<from-zarr, shape=(48525747,), dtype=bool, chunksize=(300000,), chunktype=numpy.ndarray> 2L arab\n",
      "dask.array<from-zarr, shape=(48525747,), dtype=bool, chunksize=(300000,), chunktype=numpy.ndarray> 2L gamb_colu_arab\n",
      "dask.array<from-zarr, shape=(60132453,), dtype=bool, chunksize=(300000,), chunktype=numpy.ndarray> 2R gamb_colu\n",
      "dask.array<from-zarr, shape=(60132453,), dtype=bool, chunksize=(300000,), chunktype=numpy.ndarray> 2R arab\n",
      "dask.array<from-zarr, shape=(60132453,), dtype=bool, chunksize=(300000,), chunktype=numpy.ndarray> 2R gamb_colu_arab\n",
      "dask.array<from-zarr, shape=(40758473,), dtype=bool, chunksize=(300000,), chunktype=numpy.ndarray> 3L gamb_colu\n",
      "dask.array<from-zarr, shape=(40758473,), dtype=bool, chunksize=(300000,), chunktype=numpy.ndarray> 3L arab\n",
      "dask.array<from-zarr, shape=(40758473,), dtype=bool, chunksize=(300000,), chunktype=numpy.ndarray> 3L gamb_colu_arab\n",
      "dask.array<from-zarr, shape=(52226568,), dtype=bool, chunksize=(300000,), chunktype=numpy.ndarray> 3R gamb_colu\n",
      "dask.array<from-zarr, shape=(52226568,), dtype=bool, chunksize=(300000,), chunktype=numpy.ndarray> 3R arab\n",
      "dask.array<from-zarr, shape=(52226568,), dtype=bool, chunksize=(300000,), chunktype=numpy.ndarray> 3R gamb_colu_arab\n",
      "dask.array<from-zarr, shape=(23385349,), dtype=bool, chunksize=(300000,), chunktype=numpy.ndarray> X gamb_colu\n",
      "dask.array<from-zarr, shape=(23385349,), dtype=bool, chunksize=(300000,), chunktype=numpy.ndarray> X arab\n",
      "dask.array<from-zarr, shape=(23385349,), dtype=bool, chunksize=(300000,), chunktype=numpy.ndarray> X gamb_colu_arab\n",
      "CPU times: user 375 ms, sys: 14.6 ms, total: 390 ms\n",
      "Wall time: 731 ms\n"
     ]
    }
   ],
   "source": [
    "%%time\n",
    "for seq_id in ['2L', '2R', '3L', '3R', 'X']:\n",
    "    for mask_id in ['gamb_colu', 'arab', 'gamb_colu_arab']:\n",
    "        print(release_data.load_mask(seq_id, mask_id), seq_id, mask_id)"
   ]
  },
  {
   "cell_type": "code",
   "execution_count": null,
   "metadata": {},
   "outputs": [],
   "source": []
  },
  {
   "cell_type": "markdown",
   "metadata": {},
   "source": [
    "### SNP sites (\"variants\")"
   ]
  },
  {
   "cell_type": "code",
   "execution_count": 7,
   "metadata": {},
   "outputs": [
    {
     "name": "stdout",
     "output_type": "stream",
     "text": [
      "dask.array<from-zarr, shape=(48525747, 3), dtype=|S1, chunksize=(524288, 3), chunktype=numpy.ndarray> 2L ALT\n",
      "dask.array<from-zarr, shape=(48525747,), dtype=int32, chunksize=(524288,), chunktype=numpy.ndarray> 2L POS\n",
      "dask.array<from-zarr, shape=(48525747,), dtype=|S1, chunksize=(524288,), chunktype=numpy.ndarray> 2L REF\n",
      "dask.array<from-zarr, shape=(60132453, 3), dtype=|S1, chunksize=(524288, 3), chunktype=numpy.ndarray> 2R ALT\n",
      "dask.array<from-zarr, shape=(60132453,), dtype=int32, chunksize=(524288,), chunktype=numpy.ndarray> 2R POS\n",
      "dask.array<from-zarr, shape=(60132453,), dtype=|S1, chunksize=(524288,), chunktype=numpy.ndarray> 2R REF\n",
      "dask.array<from-zarr, shape=(40758473, 3), dtype=|S1, chunksize=(524288, 3), chunktype=numpy.ndarray> 3L ALT\n",
      "dask.array<from-zarr, shape=(40758473,), dtype=int32, chunksize=(524288,), chunktype=numpy.ndarray> 3L POS\n",
      "dask.array<from-zarr, shape=(40758473,), dtype=|S1, chunksize=(524288,), chunktype=numpy.ndarray> 3L REF\n",
      "dask.array<from-zarr, shape=(52226568, 3), dtype=|S1, chunksize=(524288, 3), chunktype=numpy.ndarray> 3R ALT\n",
      "dask.array<from-zarr, shape=(52226568,), dtype=int32, chunksize=(524288,), chunktype=numpy.ndarray> 3R POS\n",
      "dask.array<from-zarr, shape=(52226568,), dtype=|S1, chunksize=(524288,), chunktype=numpy.ndarray> 3R REF\n",
      "dask.array<from-zarr, shape=(23385349, 3), dtype=|S1, chunksize=(524288, 3), chunktype=numpy.ndarray> X ALT\n",
      "dask.array<from-zarr, shape=(23385349,), dtype=int32, chunksize=(524288,), chunktype=numpy.ndarray> X POS\n",
      "dask.array<from-zarr, shape=(23385349,), dtype=|S1, chunksize=(524288,), chunktype=numpy.ndarray> X REF\n",
      "dask.array<from-zarr, shape=(15363, 3), dtype=|S1, chunksize=(15363, 3), chunktype=numpy.ndarray> Mt ALT\n",
      "dask.array<from-zarr, shape=(15363,), dtype=int32, chunksize=(15363,), chunktype=numpy.ndarray> Mt POS\n",
      "dask.array<from-zarr, shape=(15363,), dtype=|S1, chunksize=(15363,), chunktype=numpy.ndarray> Mt REF\n",
      "dask.array<from-zarr, shape=(27274988, 3), dtype=|S1, chunksize=(524288, 3), chunktype=numpy.ndarray> UNKN ALT\n",
      "dask.array<from-zarr, shape=(27274988,), dtype=int32, chunksize=(524288,), chunktype=numpy.ndarray> UNKN POS\n",
      "dask.array<from-zarr, shape=(27274988,), dtype=|S1, chunksize=(524288,), chunktype=numpy.ndarray> UNKN REF\n",
      "dask.array<from-zarr, shape=(135155, 3), dtype=|S1, chunksize=(135155, 3), chunktype=numpy.ndarray> Y_unplaced ALT\n",
      "dask.array<from-zarr, shape=(135155,), dtype=int32, chunksize=(135155,), chunktype=numpy.ndarray> Y_unplaced POS\n",
      "dask.array<from-zarr, shape=(135155,), dtype=|S1, chunksize=(135155,), chunktype=numpy.ndarray> Y_unplaced REF\n",
      "CPU times: user 602 ms, sys: 18.7 ms, total: 620 ms\n",
      "Wall time: 1.13 s\n"
     ]
    }
   ],
   "source": [
    "%%time\n",
    "# NOTE: mask is not tested here\n",
    "for seq_id in ['2L', '2R', '3L', '3R', 'X', 'Mt', 'UNKN', 'Y_unplaced']:\n",
    "    for field in ['ALT', 'POS', 'REF']:\n",
    "        print(release_data.load_variants(seq_id, field=field, mask=None), seq_id, field)"
   ]
  },
  {
   "cell_type": "code",
   "execution_count": null,
   "metadata": {},
   "outputs": [],
   "source": []
  },
  {
   "cell_type": "markdown",
   "metadata": {},
   "source": [
    "### SNP genotypes (\"calldata\")"
   ]
  },
  {
   "cell_type": "code",
   "execution_count": 8,
   "metadata": {},
   "outputs": [
    {
     "name": "stdout",
     "output_type": "stream",
     "text": [
      "dask.array<from-zarr, shape=(48525747, 81, 4), dtype=int16, chunksize=(300000, 50, 4), chunktype=numpy.ndarray> AG1000G-AO 2L AD\n",
      "dask.array<from-zarr, shape=(48525747, 81), dtype=int16, chunksize=(300000, 50), chunktype=numpy.ndarray> AG1000G-AO 2L GQ\n",
      "dask.array<from-zarr, shape=(48525747, 81, 2), dtype=int8, chunksize=(300000, 50, 2), chunktype=numpy.ndarray> AG1000G-AO 2L GT\n",
      "dask.array<from-zarr, shape=(48525747, 81), dtype=int16, chunksize=(300000, 50), chunktype=numpy.ndarray> AG1000G-AO 2L MQ\n",
      "dask.array<from-zarr, shape=(60132453, 81, 4), dtype=int16, chunksize=(300000, 50, 4), chunktype=numpy.ndarray> AG1000G-AO 2R AD\n",
      "dask.array<from-zarr, shape=(60132453, 81), dtype=int16, chunksize=(300000, 50), chunktype=numpy.ndarray> AG1000G-AO 2R GQ\n",
      "dask.array<from-zarr, shape=(60132453, 81, 2), dtype=int8, chunksize=(300000, 50, 2), chunktype=numpy.ndarray> AG1000G-AO 2R GT\n",
      "dask.array<from-zarr, shape=(60132453, 81), dtype=int16, chunksize=(300000, 50), chunktype=numpy.ndarray> AG1000G-AO 2R MQ\n",
      "dask.array<from-zarr, shape=(40758473, 81, 4), dtype=int16, chunksize=(300000, 50, 4), chunktype=numpy.ndarray> AG1000G-AO 3L AD\n",
      "dask.array<from-zarr, shape=(40758473, 81), dtype=int16, chunksize=(300000, 50), chunktype=numpy.ndarray> AG1000G-AO 3L GQ\n",
      "dask.array<from-zarr, shape=(40758473, 81, 2), dtype=int8, chunksize=(300000, 50, 2), chunktype=numpy.ndarray> AG1000G-AO 3L GT\n",
      "dask.array<from-zarr, shape=(40758473, 81), dtype=int16, chunksize=(300000, 50), chunktype=numpy.ndarray> AG1000G-AO 3L MQ\n",
      "dask.array<from-zarr, shape=(52226568, 81, 4), dtype=int16, chunksize=(300000, 50, 4), chunktype=numpy.ndarray> AG1000G-AO 3R AD\n",
      "dask.array<from-zarr, shape=(52226568, 81), dtype=int16, chunksize=(300000, 50), chunktype=numpy.ndarray> AG1000G-AO 3R GQ\n",
      "dask.array<from-zarr, shape=(52226568, 81, 2), dtype=int8, chunksize=(300000, 50, 2), chunktype=numpy.ndarray> AG1000G-AO 3R GT\n",
      "dask.array<from-zarr, shape=(52226568, 81), dtype=int16, chunksize=(300000, 50), chunktype=numpy.ndarray> AG1000G-AO 3R MQ\n",
      "dask.array<from-zarr, shape=(23385349, 81, 4), dtype=int16, chunksize=(300000, 50, 4), chunktype=numpy.ndarray> AG1000G-AO X AD\n",
      "dask.array<from-zarr, shape=(23385349, 81), dtype=int16, chunksize=(300000, 50), chunktype=numpy.ndarray> AG1000G-AO X GQ\n",
      "dask.array<from-zarr, shape=(23385349, 81, 2), dtype=int8, chunksize=(300000, 50, 2), chunktype=numpy.ndarray> AG1000G-AO X GT\n",
      "dask.array<from-zarr, shape=(23385349, 81), dtype=int16, chunksize=(300000, 50), chunktype=numpy.ndarray> AG1000G-AO X MQ\n",
      "dask.array<concatenate, shape=(48525747, 780, 4), dtype=int16, chunksize=(300000, 50, 4), chunktype=numpy.ndarray> ['AG1000G-AO', 'AG1000G-X'] 2L AD\n",
      "dask.array<concatenate, shape=(48525747, 780), dtype=int16, chunksize=(300000, 50), chunktype=numpy.ndarray> ['AG1000G-AO', 'AG1000G-X'] 2L GQ\n",
      "dask.array<concatenate, shape=(48525747, 780, 2), dtype=int8, chunksize=(300000, 50, 2), chunktype=numpy.ndarray> ['AG1000G-AO', 'AG1000G-X'] 2L GT\n",
      "dask.array<concatenate, shape=(48525747, 780), dtype=int16, chunksize=(300000, 50), chunktype=numpy.ndarray> ['AG1000G-AO', 'AG1000G-X'] 2L MQ\n",
      "dask.array<concatenate, shape=(60132453, 780, 4), dtype=int16, chunksize=(300000, 50, 4), chunktype=numpy.ndarray> ['AG1000G-AO', 'AG1000G-X'] 2R AD\n",
      "dask.array<concatenate, shape=(60132453, 780), dtype=int16, chunksize=(300000, 50), chunktype=numpy.ndarray> ['AG1000G-AO', 'AG1000G-X'] 2R GQ\n",
      "dask.array<concatenate, shape=(60132453, 780, 2), dtype=int8, chunksize=(300000, 50, 2), chunktype=numpy.ndarray> ['AG1000G-AO', 'AG1000G-X'] 2R GT\n",
      "dask.array<concatenate, shape=(60132453, 780), dtype=int16, chunksize=(300000, 50), chunktype=numpy.ndarray> ['AG1000G-AO', 'AG1000G-X'] 2R MQ\n",
      "dask.array<concatenate, shape=(40758473, 780, 4), dtype=int16, chunksize=(300000, 50, 4), chunktype=numpy.ndarray> ['AG1000G-AO', 'AG1000G-X'] 3L AD\n",
      "dask.array<concatenate, shape=(40758473, 780), dtype=int16, chunksize=(300000, 50), chunktype=numpy.ndarray> ['AG1000G-AO', 'AG1000G-X'] 3L GQ\n",
      "dask.array<concatenate, shape=(40758473, 780, 2), dtype=int8, chunksize=(300000, 50, 2), chunktype=numpy.ndarray> ['AG1000G-AO', 'AG1000G-X'] 3L GT\n",
      "dask.array<concatenate, shape=(40758473, 780), dtype=int16, chunksize=(300000, 50), chunktype=numpy.ndarray> ['AG1000G-AO', 'AG1000G-X'] 3L MQ\n",
      "dask.array<concatenate, shape=(52226568, 780, 4), dtype=int16, chunksize=(300000, 50, 4), chunktype=numpy.ndarray> ['AG1000G-AO', 'AG1000G-X'] 3R AD\n",
      "dask.array<concatenate, shape=(52226568, 780), dtype=int16, chunksize=(300000, 50), chunktype=numpy.ndarray> ['AG1000G-AO', 'AG1000G-X'] 3R GQ\n",
      "dask.array<concatenate, shape=(52226568, 780, 2), dtype=int8, chunksize=(300000, 50, 2), chunktype=numpy.ndarray> ['AG1000G-AO', 'AG1000G-X'] 3R GT\n",
      "dask.array<concatenate, shape=(52226568, 780), dtype=int16, chunksize=(300000, 50), chunktype=numpy.ndarray> ['AG1000G-AO', 'AG1000G-X'] 3R MQ\n",
      "dask.array<concatenate, shape=(23385349, 780, 4), dtype=int16, chunksize=(300000, 50, 4), chunktype=numpy.ndarray> ['AG1000G-AO', 'AG1000G-X'] X AD\n",
      "dask.array<concatenate, shape=(23385349, 780), dtype=int16, chunksize=(300000, 50), chunktype=numpy.ndarray> ['AG1000G-AO', 'AG1000G-X'] X GQ\n",
      "dask.array<concatenate, shape=(23385349, 780, 2), dtype=int8, chunksize=(300000, 50, 2), chunktype=numpy.ndarray> ['AG1000G-AO', 'AG1000G-X'] X GT\n",
      "dask.array<concatenate, shape=(23385349, 780), dtype=int16, chunksize=(300000, 50), chunktype=numpy.ndarray> ['AG1000G-AO', 'AG1000G-X'] X MQ\n",
      "CPU times: user 2.42 s, sys: 57.1 ms, total: 2.47 s\n",
      "Wall time: 3.83 s\n"
     ]
    }
   ],
   "source": [
    "%%time\n",
    "# Tests support for sample_set as list of sample sets\n",
    "# It would only take about 1 minute to test all sample sets individually\n",
    "#for sample_set in release_data.all_sample_sets:\n",
    "for sample_set in ['AG1000G-AO', ['AG1000G-AO', 'AG1000G-X']]:\n",
    "    for seq_id in ['2L', '2R', '3L', '3R', 'X']:\n",
    "        for field in ['AD', 'GQ', 'GT', 'MQ']:\n",
    "            print(release_data.load_sample_set_calldata(seq_id, sample_set, field=field), sample_set, seq_id, field)"
   ]
  },
  {
   "cell_type": "code",
   "execution_count": null,
   "metadata": {},
   "outputs": [],
   "source": []
  },
  {
   "cell_type": "markdown",
   "metadata": {},
   "source": [
    "### Sample metadata, inc. species calls"
   ]
  },
  {
   "cell_type": "code",
   "execution_count": 9,
   "metadata": {},
   "outputs": [
    {
     "name": "stdout",
     "output_type": "stream",
     "text": [
      "          partner_sample_id contributor country location  year  month  \\\n",
      "sample_id                                                               \n",
      "AR0047-C             LUA047  Joao Pinto  Angola   Luanda  2009      4   \n",
      "AR0049-C             LUA049  Joao Pinto  Angola   Luanda  2009      4   \n",
      "AR0051-C             LUA051  Joao Pinto  Angola   Luanda  2009      4   \n",
      "AR0061-C             LUA061  Joao Pinto  Angola   Luanda  2009      4   \n",
      "AR0078-C             LUA078  Joao Pinto  Angola   Luanda  2009      4   \n",
      "...                     ...         ...     ...      ...   ...    ...   \n",
      "AR0018-Cx            LUA018  Joao Pinto  Angola   Luanda  2009      4   \n",
      "AR0081-Cx            LUA081  Joao Pinto  Angola   Luanda  2009      4   \n",
      "AR0013-Cx            LUA013  Joao Pinto  Angola   Luanda  2009      4   \n",
      "AR0026-C             LUA026  Joao Pinto  Angola   Luanda  2009      4   \n",
      "AR0053-C             LUA053  Joao Pinto  Angola   Luanda  2009      4   \n",
      "\n",
      "           latitude  longitude sex_call  sample_set  aim_fraction_colu  \\\n",
      "sample_id                                                                \n",
      "AR0047-C     -8.884     13.302        F  AG1000G-AO              0.945   \n",
      "AR0049-C     -8.884     13.302        F  AG1000G-AO              0.933   \n",
      "AR0051-C     -8.884     13.302        F  AG1000G-AO              0.937   \n",
      "AR0061-C     -8.884     13.302        F  AG1000G-AO              0.938   \n",
      "AR0078-C     -8.884     13.302        F  AG1000G-AO              0.926   \n",
      "...             ...        ...      ...         ...                ...   \n",
      "AR0018-Cx    -8.884     13.302        F  AG1000G-AO              0.938   \n",
      "AR0081-Cx    -8.884     13.302        F  AG1000G-AO              0.929   \n",
      "AR0013-Cx    -8.884     13.302        F  AG1000G-AO              0.945   \n",
      "AR0026-C     -8.884     13.302        F  AG1000G-AO              0.942   \n",
      "AR0053-C     -8.884     13.302        F  AG1000G-AO              0.944   \n",
      "\n",
      "           aim_fraction_arab species_gambcolu_arabiensis  \\\n",
      "sample_id                                                  \n",
      "AR0047-C               0.001                   gamb_colu   \n",
      "AR0049-C               0.001                   gamb_colu   \n",
      "AR0051-C               0.002                   gamb_colu   \n",
      "AR0061-C               0.002                   gamb_colu   \n",
      "AR0078-C               0.001                   gamb_colu   \n",
      "...                      ...                         ...   \n",
      "AR0018-Cx              0.001                   gamb_colu   \n",
      "AR0081-Cx              0.001                   gamb_colu   \n",
      "AR0013-Cx              0.001                   gamb_colu   \n",
      "AR0026-C               0.002                   gamb_colu   \n",
      "AR0053-C               0.001                   gamb_colu   \n",
      "\n",
      "          species_gambiae_coluzzii  is_arabiensis  is_gamb_colu  is_gambiae  \\\n",
      "sample_id                                                                     \n",
      "AR0047-C                  coluzzii          False          True       False   \n",
      "AR0049-C                  coluzzii          False          True       False   \n",
      "AR0051-C                  coluzzii          False          True       False   \n",
      "AR0061-C                  coluzzii          False          True       False   \n",
      "AR0078-C                  coluzzii          False          True       False   \n",
      "...                            ...            ...           ...         ...   \n",
      "AR0018-Cx                 coluzzii          False          True       False   \n",
      "AR0081-Cx                 coluzzii          False          True       False   \n",
      "AR0013-Cx                 coluzzii          False          True       False   \n",
      "AR0026-C                  coluzzii          False          True       False   \n",
      "AR0053-C                  coluzzii          False          True       False   \n",
      "\n",
      "           is_coluzzii  \n",
      "sample_id               \n",
      "AR0047-C          True  \n",
      "AR0049-C          True  \n",
      "AR0051-C          True  \n",
      "AR0061-C          True  \n",
      "AR0078-C          True  \n",
      "...                ...  \n",
      "AR0018-Cx         True  \n",
      "AR0081-Cx         True  \n",
      "AR0013-Cx         True  \n",
      "AR0026-C          True  \n",
      "AR0053-C          True  \n",
      "\n",
      "[81 rows x 18 columns] AG1000G-AO\n"
     ]
    },
    {
     "name": "stderr",
     "output_type": "stream",
     "text": [
      "/home/jovyan/gitRepos/ag1000g-phase3-data-paper/notebooks/ag3.py:132: UserWarning: Setting `convenience_species_assignment` to False. Using both PCA/AIM creates ambiguity.\n",
      "  warn(\"Setting `convenience_species_assignment` to False. Using both PCA/AIM creates ambiguity.\")\n"
     ]
    },
    {
     "name": "stdout",
     "output_type": "stream",
     "text": [
      "          partner_sample_id contributor country location  year  month  \\\n",
      "sample_id                                                               \n",
      "AR0047-C             LUA047  Joao Pinto  Angola   Luanda  2009      4   \n",
      "AR0049-C             LUA049  Joao Pinto  Angola   Luanda  2009      4   \n",
      "AR0051-C             LUA051  Joao Pinto  Angola   Luanda  2009      4   \n",
      "AR0061-C             LUA061  Joao Pinto  Angola   Luanda  2009      4   \n",
      "AR0078-C             LUA078  Joao Pinto  Angola   Luanda  2009      4   \n",
      "...                     ...         ...     ...      ...   ...    ...   \n",
      "AR0018-Cx            LUA018  Joao Pinto  Angola   Luanda  2009      4   \n",
      "AR0081-Cx            LUA081  Joao Pinto  Angola   Luanda  2009      4   \n",
      "AR0013-Cx            LUA013  Joao Pinto  Angola   Luanda  2009      4   \n",
      "AR0026-C             LUA026  Joao Pinto  Angola   Luanda  2009      4   \n",
      "AR0053-C             LUA053  Joao Pinto  Angola   Luanda  2009      4   \n",
      "\n",
      "           latitude  longitude sex_call  sample_set  aim_fraction_colu  \\\n",
      "sample_id                                                                \n",
      "AR0047-C     -8.884     13.302        F  AG1000G-AO              0.945   \n",
      "AR0049-C     -8.884     13.302        F  AG1000G-AO              0.933   \n",
      "AR0051-C     -8.884     13.302        F  AG1000G-AO              0.937   \n",
      "AR0061-C     -8.884     13.302        F  AG1000G-AO              0.938   \n",
      "AR0078-C     -8.884     13.302        F  AG1000G-AO              0.926   \n",
      "...             ...        ...      ...         ...                ...   \n",
      "AR0018-Cx    -8.884     13.302        F  AG1000G-AO              0.938   \n",
      "AR0081-Cx    -8.884     13.302        F  AG1000G-AO              0.929   \n",
      "AR0013-Cx    -8.884     13.302        F  AG1000G-AO              0.945   \n",
      "AR0026-C     -8.884     13.302        F  AG1000G-AO              0.942   \n",
      "AR0053-C     -8.884     13.302        F  AG1000G-AO              0.944   \n",
      "\n",
      "           aim_fraction_arab species_gambcolu_arabiensis_aim  \\\n",
      "sample_id                                                      \n",
      "AR0047-C               0.001                       gamb_colu   \n",
      "AR0049-C               0.001                       gamb_colu   \n",
      "AR0051-C               0.002                       gamb_colu   \n",
      "AR0061-C               0.002                       gamb_colu   \n",
      "AR0078-C               0.001                       gamb_colu   \n",
      "...                      ...                             ...   \n",
      "AR0018-Cx              0.001                       gamb_colu   \n",
      "AR0081-Cx              0.001                       gamb_colu   \n",
      "AR0013-Cx              0.001                       gamb_colu   \n",
      "AR0026-C               0.002                       gamb_colu   \n",
      "AR0053-C               0.001                       gamb_colu   \n",
      "\n",
      "          species_gambiae_coluzzii_aim     PC1     PC2  \\\n",
      "sample_id                                                \n",
      "AR0047-C                      coluzzii -37.821  43.162   \n",
      "AR0049-C                      coluzzii -38.147  41.879   \n",
      "AR0051-C                      coluzzii -36.824  42.096   \n",
      "AR0061-C                      coluzzii -36.039  41.104   \n",
      "AR0078-C                      coluzzii -36.791  43.908   \n",
      "...                                ...     ...     ...   \n",
      "AR0018-Cx                     coluzzii -36.759  41.745   \n",
      "AR0081-Cx                     coluzzii -36.085  40.754   \n",
      "AR0013-Cx                     coluzzii -37.175  41.799   \n",
      "AR0026-C                      coluzzii -38.276  46.164   \n",
      "AR0053-C                      coluzzii -37.877  40.031   \n",
      "\n",
      "          species_gambcolu_arabiensis_pca species_gambiae_coluzzii_pca  \n",
      "sample_id                                                               \n",
      "AR0047-C                        gamb_colu                     coluzzii  \n",
      "AR0049-C                        gamb_colu                     coluzzii  \n",
      "AR0051-C                        gamb_colu                     coluzzii  \n",
      "AR0061-C                        gamb_colu                     coluzzii  \n",
      "AR0078-C                        gamb_colu                     coluzzii  \n",
      "...                                   ...                          ...  \n",
      "AR0018-Cx                       gamb_colu                     coluzzii  \n",
      "AR0081-Cx                       gamb_colu                     coluzzii  \n",
      "AR0013-Cx                       gamb_colu                     coluzzii  \n",
      "AR0026-C                        gamb_colu                     coluzzii  \n",
      "AR0053-C                        gamb_colu                     coluzzii  \n",
      "\n",
      "[81 rows x 18 columns] AG1000G-AO\n"
     ]
    },
    {
     "name": "stderr",
     "output_type": "stream",
     "text": [
      "/opt/conda/lib/python3.7/site-packages/pandas/core/ops/array_ops.py:253: FutureWarning: elementwise comparison failed; returning scalar instead, but in the future will perform elementwise comparison\n",
      "  res_values = method(rvalues)\n"
     ]
    },
    {
     "name": "stdout",
     "output_type": "stream",
     "text": [
      "                  partner_sample_id      contributor    country location  \\\n",
      "sample_id                                                                  \n",
      "AR0047-C                     LUA047       Joao Pinto     Angola   Luanda   \n",
      "AR0049-C                     LUA049       Joao Pinto     Angola   Luanda   \n",
      "AR0051-C                     LUA051       Joao Pinto     Angola   Luanda   \n",
      "AR0061-C                     LUA061       Joao Pinto     Angola   Luanda   \n",
      "AR0078-C                     LUA078       Joao Pinto     Angola   Luanda   \n",
      "...                             ...              ...        ...      ...   \n",
      "AD0733-C   SENN_F_-_DONG_M_Fam1z_28  Martin Donnelly  Lab Cross     LSTM   \n",
      "AD0734-C   SENN_F_-_DONG_M_Fam1z_29  Martin Donnelly  Lab Cross     LSTM   \n",
      "AD0735-C   SENN_F_-_DONG_M_Fam1z_30  Martin Donnelly  Lab Cross     LSTM   \n",
      "AD0736-C          SENN_F_MUM_Fam_1z  Martin Donnelly  Lab Cross     LSTM   \n",
      "AD0737-C          DONG_M_DAD_Fam_1z  Martin Donnelly  Lab Cross     LSTM   \n",
      "\n",
      "           year  month  latitude  longitude sex_call  sample_set  \\\n",
      "sample_id                                                          \n",
      "AR0047-C   2009      4    -8.884     13.302        F  AG1000G-AO   \n",
      "AR0049-C   2009      4    -8.884     13.302        F  AG1000G-AO   \n",
      "AR0051-C   2009      4    -8.884     13.302        F  AG1000G-AO   \n",
      "AR0061-C   2009      4    -8.884     13.302        F  AG1000G-AO   \n",
      "AR0078-C   2009      4    -8.884     13.302        F  AG1000G-AO   \n",
      "...         ...    ...       ...        ...      ...         ...   \n",
      "AD0733-C     -1     -1    53.409     -2.969        F   AG1000G-X   \n",
      "AD0734-C     -1     -1    53.409     -2.969        F   AG1000G-X   \n",
      "AD0735-C     -1     -1    53.409     -2.969        F   AG1000G-X   \n",
      "AD0736-C     -1     -1    53.409     -2.969        F   AG1000G-X   \n",
      "AD0737-C     -1     -1    53.409     -2.969        M   AG1000G-X   \n",
      "\n",
      "           aim_fraction_colu  aim_fraction_arab species_gambcolu_arabiensis  \\\n",
      "sample_id                                                                     \n",
      "AR0047-C               0.945              0.001                   gamb_colu   \n",
      "AR0049-C               0.933              0.001                   gamb_colu   \n",
      "AR0051-C               0.937              0.002                   gamb_colu   \n",
      "AR0061-C               0.938              0.002                   gamb_colu   \n",
      "AR0078-C               0.926              0.001                   gamb_colu   \n",
      "...                      ...                ...                         ...   \n",
      "AD0733-C                 NaN                NaN                         NaN   \n",
      "AD0734-C                 NaN                NaN                         NaN   \n",
      "AD0735-C                 NaN                NaN                         NaN   \n",
      "AD0736-C                 NaN                NaN                         NaN   \n",
      "AD0737-C                 NaN                NaN                         NaN   \n",
      "\n",
      "          species_gambiae_coluzzii  is_arabiensis  is_gamb_colu  is_gambiae  \\\n",
      "sample_id                                                                     \n",
      "AR0047-C                  coluzzii          False          True       False   \n",
      "AR0049-C                  coluzzii          False          True       False   \n",
      "AR0051-C                  coluzzii          False          True       False   \n",
      "AR0061-C                  coluzzii          False          True       False   \n",
      "AR0078-C                  coluzzii          False          True       False   \n",
      "...                            ...            ...           ...         ...   \n",
      "AD0733-C                       NaN          False         False       False   \n",
      "AD0734-C                       NaN          False         False       False   \n",
      "AD0735-C                       NaN          False         False       False   \n",
      "AD0736-C                       NaN          False         False       False   \n",
      "AD0737-C                       NaN          False         False       False   \n",
      "\n",
      "           is_coluzzii  \n",
      "sample_id               \n",
      "AR0047-C          True  \n",
      "AR0049-C          True  \n",
      "AR0051-C          True  \n",
      "AR0061-C          True  \n",
      "AR0078-C          True  \n",
      "...                ...  \n",
      "AD0733-C         False  \n",
      "AD0734-C         False  \n",
      "AD0735-C         False  \n",
      "AD0736-C         False  \n",
      "AD0737-C         False  \n",
      "\n",
      "[780 rows x 18 columns] ['AG1000G-AO', 'AG1000G-X']\n"
     ]
    },
    {
     "name": "stderr",
     "output_type": "stream",
     "text": [
      "/home/jovyan/gitRepos/ag1000g-phase3-data-paper/notebooks/ag3.py:132: UserWarning: Setting `convenience_species_assignment` to False. Using both PCA/AIM creates ambiguity.\n",
      "  warn(\"Setting `convenience_species_assignment` to False. Using both PCA/AIM creates ambiguity.\")\n"
     ]
    },
    {
     "name": "stdout",
     "output_type": "stream",
     "text": [
      "                  partner_sample_id      contributor    country location  \\\n",
      "sample_id                                                                  \n",
      "AR0047-C                     LUA047       Joao Pinto     Angola   Luanda   \n",
      "AR0049-C                     LUA049       Joao Pinto     Angola   Luanda   \n",
      "AR0051-C                     LUA051       Joao Pinto     Angola   Luanda   \n",
      "AR0061-C                     LUA061       Joao Pinto     Angola   Luanda   \n",
      "AR0078-C                     LUA078       Joao Pinto     Angola   Luanda   \n",
      "...                             ...              ...        ...      ...   \n",
      "AD0733-C   SENN_F_-_DONG_M_Fam1z_28  Martin Donnelly  Lab Cross     LSTM   \n",
      "AD0734-C   SENN_F_-_DONG_M_Fam1z_29  Martin Donnelly  Lab Cross     LSTM   \n",
      "AD0735-C   SENN_F_-_DONG_M_Fam1z_30  Martin Donnelly  Lab Cross     LSTM   \n",
      "AD0736-C          SENN_F_MUM_Fam_1z  Martin Donnelly  Lab Cross     LSTM   \n",
      "AD0737-C          DONG_M_DAD_Fam_1z  Martin Donnelly  Lab Cross     LSTM   \n",
      "\n",
      "           year  month  latitude  longitude sex_call  sample_set  \\\n",
      "sample_id                                                          \n",
      "AR0047-C   2009      4    -8.884     13.302        F  AG1000G-AO   \n",
      "AR0049-C   2009      4    -8.884     13.302        F  AG1000G-AO   \n",
      "AR0051-C   2009      4    -8.884     13.302        F  AG1000G-AO   \n",
      "AR0061-C   2009      4    -8.884     13.302        F  AG1000G-AO   \n",
      "AR0078-C   2009      4    -8.884     13.302        F  AG1000G-AO   \n",
      "...         ...    ...       ...        ...      ...         ...   \n",
      "AD0733-C     -1     -1    53.409     -2.969        F   AG1000G-X   \n",
      "AD0734-C     -1     -1    53.409     -2.969        F   AG1000G-X   \n",
      "AD0735-C     -1     -1    53.409     -2.969        F   AG1000G-X   \n",
      "AD0736-C     -1     -1    53.409     -2.969        F   AG1000G-X   \n",
      "AD0737-C     -1     -1    53.409     -2.969        M   AG1000G-X   \n",
      "\n",
      "           aim_fraction_colu  aim_fraction_arab  \\\n",
      "sample_id                                         \n",
      "AR0047-C               0.945              0.001   \n",
      "AR0049-C               0.933              0.001   \n",
      "AR0051-C               0.937              0.002   \n",
      "AR0061-C               0.938              0.002   \n",
      "AR0078-C               0.926              0.001   \n",
      "...                      ...                ...   \n",
      "AD0733-C                 NaN                NaN   \n",
      "AD0734-C                 NaN                NaN   \n",
      "AD0735-C                 NaN                NaN   \n",
      "AD0736-C                 NaN                NaN   \n",
      "AD0737-C                 NaN                NaN   \n",
      "\n",
      "          species_gambcolu_arabiensis_aim species_gambiae_coluzzii_aim  \\\n",
      "sample_id                                                                \n",
      "AR0047-C                        gamb_colu                     coluzzii   \n",
      "AR0049-C                        gamb_colu                     coluzzii   \n",
      "AR0051-C                        gamb_colu                     coluzzii   \n",
      "AR0061-C                        gamb_colu                     coluzzii   \n",
      "AR0078-C                        gamb_colu                     coluzzii   \n",
      "...                                   ...                          ...   \n",
      "AD0733-C                              NaN                          NaN   \n",
      "AD0734-C                              NaN                          NaN   \n",
      "AD0735-C                              NaN                          NaN   \n",
      "AD0736-C                              NaN                          NaN   \n",
      "AD0737-C                              NaN                          NaN   \n",
      "\n",
      "              PC1     PC2 species_gambcolu_arabiensis_pca  \\\n",
      "sample_id                                                   \n",
      "AR0047-C  -37.821  43.162                       gamb_colu   \n",
      "AR0049-C  -38.147  41.879                       gamb_colu   \n",
      "AR0051-C  -36.824  42.096                       gamb_colu   \n",
      "AR0061-C  -36.039  41.104                       gamb_colu   \n",
      "AR0078-C  -36.791  43.908                       gamb_colu   \n",
      "...           ...     ...                             ...   \n",
      "AD0733-C      NaN     NaN                             NaN   \n",
      "AD0734-C      NaN     NaN                             NaN   \n",
      "AD0735-C      NaN     NaN                             NaN   \n",
      "AD0736-C      NaN     NaN                             NaN   \n",
      "AD0737-C      NaN     NaN                             NaN   \n",
      "\n",
      "          species_gambiae_coluzzii_pca  \n",
      "sample_id                               \n",
      "AR0047-C                      coluzzii  \n",
      "AR0049-C                      coluzzii  \n",
      "AR0051-C                      coluzzii  \n",
      "AR0061-C                      coluzzii  \n",
      "AR0078-C                      coluzzii  \n",
      "...                                ...  \n",
      "AD0733-C                           NaN  \n",
      "AD0734-C                           NaN  \n",
      "AD0735-C                           NaN  \n",
      "AD0736-C                           NaN  \n",
      "AD0737-C                           NaN  \n",
      "\n",
      "[780 rows x 18 columns] ['AG1000G-AO', 'AG1000G-X']\n",
      "CPU times: user 987 ms, sys: 19.8 ms, total: 1.01 s\n",
      "Wall time: 4.11 s\n"
     ]
    },
    {
     "name": "stderr",
     "output_type": "stream",
     "text": [
      "/home/jovyan/gitRepos/ag1000g-phase3-data-paper/notebooks/ag3.py:132: UserWarning: Setting `convenience_species_assignment` to False. Using both PCA/AIM creates ambiguity.\n",
      "  warn(\"Setting `convenience_species_assignment` to False. Using both PCA/AIM creates ambiguity.\")\n"
     ]
    }
   ],
   "source": [
    "%%time\n",
    "# NOTE: different method options are not fully tested here\n",
    "# Tests support for sample_set as list of sample sets\n",
    "# It would only take about 8 seconds to test all sample sets individually\n",
    "#for sample_set in release_data.all_sample_sets:\n",
    "for sample_set in ['AG1000G-AO', ['AG1000G-AO', 'AG1000G-X']]:\n",
    "    for include_pca_species_calls in [False, True]:\n",
    "        print(release_data.load_sample_set_metadata(sample_set, include_aim_species_calls=True, include_pca_species_calls=include_pca_species_calls, convenience_species_assignment=True), sample_set)"
   ]
  },
  {
   "cell_type": "code",
   "execution_count": null,
   "metadata": {},
   "outputs": [],
   "source": []
  },
  {
   "cell_type": "code",
   "execution_count": null,
   "metadata": {},
   "outputs": [],
   "source": []
  }
 ],
 "metadata": {
  "kernelspec": {
   "display_name": "Python 3",
   "language": "python",
   "name": "python3"
  },
  "language_info": {
   "codemirror_mode": {
    "name": "ipython",
    "version": 3
   },
   "file_extension": ".py",
   "mimetype": "text/x-python",
   "name": "python",
   "nbconvert_exporter": "python",
   "pygments_lexer": "ipython3",
   "version": "3.7.6"
  }
 },
 "nbformat": 4,
 "nbformat_minor": 4
}
