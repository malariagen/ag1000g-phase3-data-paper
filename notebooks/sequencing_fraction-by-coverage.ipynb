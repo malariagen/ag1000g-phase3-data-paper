{
 "cells": [
  {
   "cell_type": "markdown",
   "metadata": {},
   "source": [
    "## Description\n",
    "\n",
    "Produce a plot showing what fraction of the genome is covered at different depths."
   ]
  },
  {
   "cell_type": "code",
   "execution_count": 1,
   "metadata": {},
   "outputs": [],
   "source": [
    "import phase3_data"
   ]
  },
  {
   "cell_type": "code",
   "execution_count": 2,
   "metadata": {},
   "outputs": [],
   "source": [
    "v3 = phase3_data.release_data()"
   ]
  },
  {
   "cell_type": "code",
   "execution_count": 3,
   "metadata": {},
   "outputs": [],
   "source": [
    "import numba\n",
    "import numpy as np\n",
    "import dask.array as da"
   ]
  },
  {
   "cell_type": "code",
   "execution_count": 4,
   "metadata": {},
   "outputs": [
    {
     "name": "stderr",
     "output_type": "stream",
     "text": [
      "distributed.scheduler - INFO - Clear task state\n",
      "distributed.scheduler - INFO -   Scheduler at:   tcp://10.33.239.2:44117\n",
      "distributed.scheduler - INFO -   dashboard at:                     :8787\n"
     ]
    },
    {
     "data": {
      "application/vnd.jupyter.widget-view+json": {
       "model_id": "7d9bbeb0dccc4da3ab68fe9ff5b32216",
       "version_major": 2,
       "version_minor": 0
      },
      "text/plain": [
       "VBox(children=(HTML(value='<h2>KubeCluster</h2>'), HBox(children=(HTML(value='\\n<div>\\n  <style scoped>\\n    .…"
      ]
     },
     "metadata": {},
     "output_type": "display_data"
    }
   ],
   "source": [
    "# kubernetes cluster setup\n",
    "n_workers = 50\n",
    "from dask_kubernetes import KubeCluster\n",
    "cluster = KubeCluster()\n",
    "cluster.scale_up(n_workers)\n",
    "#cluster.adapt(minimum=1, maximum=n_workers)\n",
    "cluster"
   ]
  },
  {
   "cell_type": "code",
   "execution_count": 5,
   "metadata": {},
   "outputs": [
    {
     "name": "stderr",
     "output_type": "stream",
     "text": [
      "distributed.scheduler - INFO - Receive client connection: Client-a4c711de-a678-11ea-8229-b21081f88d10\n",
      "distributed.core - INFO - Starting established connection\n"
     ]
    },
    {
     "data": {
      "text/html": [
       "<table style=\"border: 2px solid white;\">\n",
       "<tr>\n",
       "<td style=\"vertical-align: top; border: 0px solid white\">\n",
       "<h3 style=\"text-align: left;\">Client</h3>\n",
       "<ul style=\"text-align: left; list-style: none; margin: 0; padding: 0;\">\n",
       "  <li><b>Scheduler: </b>tcp://10.33.239.2:44117</li>\n",
       "  <li><b>Dashboard: </b><a href='/user/nicholasharding/proxy/8787/status' target='_blank'>/user/nicholasharding/proxy/8787/status</a>\n",
       "</ul>\n",
       "</td>\n",
       "<td style=\"vertical-align: top; border: 0px solid white\">\n",
       "<h3 style=\"text-align: left;\">Cluster</h3>\n",
       "<ul style=\"text-align: left; list-style:none; margin: 0; padding: 0;\">\n",
       "  <li><b>Workers: </b>0</li>\n",
       "  <li><b>Cores: </b>0</li>\n",
       "  <li><b>Memory: </b>0 B</li>\n",
       "</ul>\n",
       "</td>\n",
       "</tr>\n",
       "</table>"
      ],
      "text/plain": [
       "<Client: 'tcp://10.33.239.2:44117' processes=0 threads=0, memory=0 B>"
      ]
     },
     "execution_count": 5,
     "metadata": {},
     "output_type": "execute_result"
    }
   ],
   "source": [
    "# dask client setup\n",
    "from dask.distributed import Client, progress\n",
    "client = Client(cluster)\n",
    "client"
   ]
  },
  {
   "cell_type": "code",
   "execution_count": 6,
   "metadata": {},
   "outputs": [],
   "source": [
    "values = 30, 20, 10, 5, 1"
   ]
  },
  {
   "cell_type": "code",
   "execution_count": 7,
   "metadata": {},
   "outputs": [
    {
     "name": "stderr",
     "output_type": "stream",
     "text": [
      "distributed.scheduler - INFO - Register tcp://10.33.245.4:39601\n",
      "distributed.scheduler - INFO - Starting worker compute stream, tcp://10.33.245.4:39601\n",
      "distributed.core - INFO - Starting established connection\n",
      "distributed.scheduler - INFO - Register tcp://10.34.11.4:36443\n",
      "distributed.scheduler - INFO - Starting worker compute stream, tcp://10.34.11.4:36443\n",
      "distributed.core - INFO - Starting established connection\n",
      "distributed.scheduler - INFO - Register tcp://10.33.240.4:44755\n",
      "distributed.scheduler - INFO - Starting worker compute stream, tcp://10.33.240.4:44755\n",
      "distributed.core - INFO - Starting established connection\n",
      "distributed.scheduler - INFO - Register tcp://10.33.253.4:43557\n",
      "distributed.scheduler - INFO - Starting worker compute stream, tcp://10.33.253.4:43557\n",
      "distributed.core - INFO - Starting established connection\n",
      "distributed.scheduler - INFO - Register tcp://10.33.251.3:41051\n",
      "distributed.scheduler - INFO - Starting worker compute stream, tcp://10.33.251.3:41051\n",
      "distributed.core - INFO - Starting established connection\n",
      "distributed.scheduler - INFO - Register tcp://10.34.10.4:38885\n",
      "distributed.scheduler - INFO - Starting worker compute stream, tcp://10.34.10.4:38885\n",
      "distributed.core - INFO - Starting established connection\n",
      "distributed.scheduler - INFO - Register tcp://10.34.8.4:38137\n",
      "distributed.scheduler - INFO - Starting worker compute stream, tcp://10.34.8.4:38137\n",
      "distributed.core - INFO - Starting established connection\n",
      "distributed.scheduler - INFO - Register tcp://10.34.9.4:38849\n",
      "distributed.scheduler - INFO - Starting worker compute stream, tcp://10.34.9.4:38849\n",
      "distributed.core - INFO - Starting established connection\n",
      "distributed.scheduler - INFO - Register tcp://10.34.30.4:43617\n",
      "distributed.scheduler - INFO - Starting worker compute stream, tcp://10.34.30.4:43617\n",
      "distributed.core - INFO - Starting established connection\n",
      "distributed.scheduler - INFO - Register tcp://10.34.13.4:45007\n",
      "distributed.scheduler - INFO - Starting worker compute stream, tcp://10.34.13.4:45007\n",
      "distributed.core - INFO - Starting established connection\n",
      "distributed.scheduler - INFO - Register tcp://10.34.33.4:45207\n",
      "distributed.scheduler - INFO - Starting worker compute stream, tcp://10.34.33.4:45207\n",
      "distributed.core - INFO - Starting established connection\n",
      "distributed.scheduler - INFO - Register tcp://10.34.34.4:46863\n",
      "distributed.scheduler - INFO - Starting worker compute stream, tcp://10.34.34.4:46863\n",
      "distributed.core - INFO - Starting established connection\n",
      "distributed.scheduler - INFO - Register tcp://10.34.35.4:36451\n",
      "distributed.scheduler - INFO - Starting worker compute stream, tcp://10.34.35.4:36451\n",
      "distributed.core - INFO - Starting established connection\n",
      "distributed.scheduler - INFO - Register tcp://10.34.18.4:44455\n",
      "distributed.scheduler - INFO - Starting worker compute stream, tcp://10.34.18.4:44455\n",
      "distributed.core - INFO - Starting established connection\n",
      "distributed.scheduler - INFO - Register tcp://10.33.250.4:42217\n",
      "distributed.scheduler - INFO - Starting worker compute stream, tcp://10.33.250.4:42217\n",
      "distributed.core - INFO - Starting established connection\n",
      "distributed.scheduler - INFO - Register tcp://10.34.3.4:37767\n",
      "distributed.scheduler - INFO - Starting worker compute stream, tcp://10.34.3.4:37767\n",
      "distributed.core - INFO - Starting established connection\n",
      "distributed.scheduler - INFO - Register tcp://10.34.4.4:38087\n",
      "distributed.scheduler - INFO - Starting worker compute stream, tcp://10.34.4.4:38087\n",
      "distributed.core - INFO - Starting established connection\n",
      "distributed.scheduler - INFO - Register tcp://10.34.1.4:37837\n",
      "distributed.scheduler - INFO - Starting worker compute stream, tcp://10.34.1.4:37837\n",
      "distributed.core - INFO - Starting established connection\n",
      "distributed.scheduler - INFO - Register tcp://10.33.243.4:33379\n",
      "distributed.scheduler - INFO - Starting worker compute stream, tcp://10.33.243.4:33379\n",
      "distributed.core - INFO - Starting established connection\n",
      "distributed.scheduler - INFO - Register tcp://10.33.255.4:42321\n",
      "distributed.scheduler - INFO - Starting worker compute stream, tcp://10.33.255.4:42321\n",
      "distributed.core - INFO - Starting established connection\n",
      "distributed.scheduler - INFO - Register tcp://10.33.244.4:46399\n",
      "distributed.scheduler - INFO - Starting worker compute stream, tcp://10.33.244.4:46399\n",
      "distributed.core - INFO - Starting established connection\n",
      "distributed.scheduler - INFO - Register tcp://10.33.241.4:35799\n",
      "distributed.scheduler - INFO - Starting worker compute stream, tcp://10.33.241.4:35799\n",
      "distributed.core - INFO - Starting established connection\n",
      "distributed.scheduler - INFO - Register tcp://10.34.26.4:42813\n",
      "distributed.scheduler - INFO - Starting worker compute stream, tcp://10.34.26.4:42813\n",
      "distributed.core - INFO - Starting established connection\n",
      "distributed.scheduler - INFO - Register tcp://10.34.0.4:38969\n",
      "distributed.scheduler - INFO - Starting worker compute stream, tcp://10.34.0.4:38969\n",
      "distributed.core - INFO - Starting established connection\n",
      "distributed.scheduler - INFO - Register tcp://10.34.32.4:41317\n",
      "distributed.scheduler - INFO - Starting worker compute stream, tcp://10.34.32.4:41317\n",
      "distributed.core - INFO - Starting established connection\n",
      "distributed.scheduler - INFO - Register tcp://10.34.7.4:43219\n",
      "distributed.scheduler - INFO - Starting worker compute stream, tcp://10.34.7.4:43219\n",
      "distributed.core - INFO - Starting established connection\n",
      "distributed.scheduler - INFO - Register tcp://10.34.16.3:40671\n",
      "distributed.scheduler - INFO - Starting worker compute stream, tcp://10.34.16.3:40671\n",
      "distributed.core - INFO - Starting established connection\n",
      "distributed.scheduler - INFO - Register tcp://10.34.12.4:46589\n",
      "distributed.scheduler - INFO - Starting worker compute stream, tcp://10.34.12.4:46589\n",
      "distributed.core - INFO - Starting established connection\n",
      "distributed.scheduler - INFO - Register tcp://10.34.31.4:36379\n",
      "distributed.scheduler - INFO - Starting worker compute stream, tcp://10.34.31.4:36379\n",
      "distributed.core - INFO - Starting established connection\n",
      "distributed.scheduler - INFO - Register tcp://10.33.246.4:36103\n",
      "distributed.scheduler - INFO - Starting worker compute stream, tcp://10.33.246.4:36103\n",
      "distributed.core - INFO - Starting established connection\n",
      "distributed.scheduler - INFO - Register tcp://10.34.2.4:39755\n",
      "distributed.scheduler - INFO - Starting worker compute stream, tcp://10.34.2.4:39755\n",
      "distributed.core - INFO - Starting established connection\n",
      "distributed.scheduler - INFO - Register tcp://10.34.23.3:33415\n",
      "distributed.scheduler - INFO - Starting worker compute stream, tcp://10.34.23.3:33415\n",
      "distributed.core - INFO - Starting established connection\n",
      "distributed.scheduler - INFO - Register tcp://10.33.248.4:41695\n",
      "distributed.scheduler - INFO - Starting worker compute stream, tcp://10.33.248.4:41695\n",
      "distributed.core - INFO - Starting established connection\n",
      "distributed.scheduler - INFO - Register tcp://10.34.14.4:46563\n",
      "distributed.scheduler - INFO - Starting worker compute stream, tcp://10.34.14.4:46563\n",
      "distributed.core - INFO - Starting established connection\n",
      "distributed.scheduler - INFO - Register tcp://10.34.20.4:42491\n",
      "distributed.scheduler - INFO - Starting worker compute stream, tcp://10.34.20.4:42491\n",
      "distributed.core - INFO - Starting established connection\n",
      "distributed.scheduler - INFO - Register tcp://10.33.254.4:37381\n",
      "distributed.scheduler - INFO - Starting worker compute stream, tcp://10.33.254.4:37381\n",
      "distributed.core - INFO - Starting established connection\n",
      "distributed.scheduler - INFO - Register tcp://10.34.21.3:42905\n",
      "distributed.scheduler - INFO - Starting worker compute stream, tcp://10.34.21.3:42905\n",
      "distributed.core - INFO - Starting established connection\n",
      "distributed.scheduler - INFO - Register tcp://10.34.22.4:35837\n",
      "distributed.scheduler - INFO - Starting worker compute stream, tcp://10.34.22.4:35837\n",
      "distributed.core - INFO - Starting established connection\n",
      "distributed.scheduler - INFO - Register tcp://10.34.5.4:34843\n",
      "distributed.scheduler - INFO - Starting worker compute stream, tcp://10.34.5.4:34843\n",
      "distributed.core - INFO - Starting established connection\n",
      "distributed.scheduler - INFO - Register tcp://10.33.249.4:35345\n",
      "distributed.scheduler - INFO - Starting worker compute stream, tcp://10.33.249.4:35345\n",
      "distributed.core - INFO - Starting established connection\n",
      "distributed.scheduler - INFO - Register tcp://10.34.6.4:35801\n",
      "distributed.scheduler - INFO - Starting worker compute stream, tcp://10.34.6.4:35801\n",
      "distributed.core - INFO - Starting established connection\n",
      "distributed.scheduler - INFO - Register tcp://10.34.28.4:43679\n",
      "distributed.scheduler - INFO - Starting worker compute stream, tcp://10.34.28.4:43679\n",
      "distributed.core - INFO - Starting established connection\n",
      "distributed.scheduler - INFO - Register tcp://10.33.242.4:39375\n",
      "distributed.scheduler - INFO - Starting worker compute stream, tcp://10.33.242.4:39375\n",
      "distributed.core - INFO - Starting established connection\n",
      "distributed.scheduler - INFO - Register tcp://10.33.247.4:36005\n",
      "distributed.scheduler - INFO - Starting worker compute stream, tcp://10.33.247.4:36005\n",
      "distributed.core - INFO - Starting established connection\n",
      "distributed.scheduler - INFO - Register tcp://10.34.27.4:42987\n",
      "distributed.scheduler - INFO - Starting worker compute stream, tcp://10.34.27.4:42987\n",
      "distributed.core - INFO - Starting established connection\n",
      "distributed.scheduler - INFO - Register tcp://10.34.19.4:45659\n",
      "distributed.scheduler - INFO - Starting worker compute stream, tcp://10.34.19.4:45659\n",
      "distributed.core - INFO - Starting established connection\n",
      "distributed.scheduler - INFO - Register tcp://10.33.252.4:44861\n",
      "distributed.scheduler - INFO - Starting worker compute stream, tcp://10.33.252.4:44861\n",
      "distributed.core - INFO - Starting established connection\n",
      "distributed.scheduler - INFO - Register tcp://10.34.15.4:36301\n",
      "distributed.scheduler - INFO - Starting worker compute stream, tcp://10.34.15.4:36301\n",
      "distributed.core - INFO - Starting established connection\n",
      "distributed.scheduler - INFO - Register tcp://10.34.24.4:38391\n",
      "distributed.scheduler - INFO - Starting worker compute stream, tcp://10.34.24.4:38391\n",
      "distributed.core - INFO - Starting established connection\n",
      "/opt/conda/lib/python3.7/site-packages/pandas/core/ops/__init__.py:1115: FutureWarning: elementwise comparison failed; returning scalar instead, but in the future will perform elementwise comparison\n",
      "  result = method(y)\n"
     ]
    }
   ],
   "source": [
    "all_meta = v3.load_metadata_by_sampleset(v3.all_samplesets)"
   ]
  },
  {
   "cell_type": "code",
   "execution_count": 8,
   "metadata": {},
   "outputs": [],
   "source": [
    "@numba.njit\n",
    "def val_sum(block):\n",
    "    \n",
    "    values = np.array([30, 20, 10, 5, 1], dtype=np.int32)\n",
    "    out = np.zeros((block.shape[1], 5), dtype=np.int32)\n",
    "    \n",
    "    for i in range(block.shape[0]):\n",
    "        for j in range(block.shape[1]):\n",
    "            if block[i, j] >= values[0]:\n",
    "                out[j, 0] += 1\n",
    "            elif block[i, j] >= values[1]:\n",
    "                out[j, 1] += 1\n",
    "            elif block[i, j] >= values[2]:\n",
    "                out[j, 2] += 1\n",
    "            elif block[i, j] >= values[3]:\n",
    "                out[j, 3] += 1\n",
    "            elif block[i, j] >= values[4]:\n",
    "                out[j, 4] += 1\n",
    "    \n",
    " #   return out\n",
    "\n",
    "    return out.reshape((1, block.shape[1], 5))"
   ]
  },
  {
   "cell_type": "code",
   "execution_count": 9,
   "metadata": {},
   "outputs": [],
   "source": [
    "chromosomes = \"2L\", \"2R\", \"3L\", \"3R\", \"X\""
   ]
  },
  {
   "cell_type": "code",
   "execution_count": 10,
   "metadata": {},
   "outputs": [],
   "source": [
    "def compute_coverage_bases(selected_samples, seq_ids=chromosomes):\n",
    "\n",
    "    result = np.empty(\n",
    "        (len(seq_ids),            # n contigs\n",
    "         selected_samples.sum(),  # n samples\n",
    "         5))                      # n values\n",
    "\n",
    "    for ix, chrom in enumerate(seq_ids):\n",
    "\n",
    "        dp = v3.load_calldata_by_sampleset(chrom, v3.all_samplesets, field=\"AD\").sum(axis=2)\n",
    "        print(f\"processing {chrom}\")\n",
    "\n",
    "        # remove males and arabiensis.\n",
    "        dp_sel = da.compress(selected_samples.values, dp, axis=1)\n",
    "\n",
    "        r = da.map_blocks(\n",
    "            val_sum, \n",
    "            dp_sel,\n",
    "            dtype=np.int32, \n",
    "            chunks=(1, dp_sel.chunks[1], 5), \n",
    "            new_axis=(2,))\n",
    "\n",
    "        co = r.compute()\n",
    "\n",
    "        result[ix] = co.sum(axis=0).cumsum(axis=1)\n",
    "        \n",
    "    contig_sizes = np.array([v3.load_mask(sid, \"gamb_colu\").shape[0] for sid in seq_ids])\n",
    "        \n",
    "    all_chroms_norm = result.sum(0) / contig_sizes.sum()\n",
    "    \n",
    "    assert all_chroms_norm.max() <= 1.0, \"bug, fraction can never exceed 1.0\"\n",
    "                \n",
    "    return all_chroms_norm, result"
   ]
  },
  {
   "cell_type": "code",
   "execution_count": 11,
   "metadata": {},
   "outputs": [],
   "source": [
    "sel_samples_gambcolu_f = all_meta.is_gamb_colu & (all_meta.sex_call == 'F')\n",
    "sel_samples_arab_f = all_meta.is_arabiensis & (all_meta.sex_call == 'F')"
   ]
  },
  {
   "cell_type": "code",
   "execution_count": 12,
   "metadata": {},
   "outputs": [
    {
     "name": "stdout",
     "output_type": "stream",
     "text": [
      "processing 2L\n"
     ]
    },
    {
     "name": "stderr",
     "output_type": "stream",
     "text": [
      "distributed.core - INFO - Event loop was unresponsive in Scheduler for 19.99s.  This is often caused by long-running GIL-holding functions or moving large chunks of data. This can cause timeouts and instability.\n"
     ]
    },
    {
     "name": "stdout",
     "output_type": "stream",
     "text": [
      "processing 2R\n"
     ]
    },
    {
     "name": "stderr",
     "output_type": "stream",
     "text": [
      "distributed.core - INFO - Event loop was unresponsive in Scheduler for 24.39s.  This is often caused by long-running GIL-holding functions or moving large chunks of data. This can cause timeouts and instability.\n",
      "distributed.scheduler - INFO - Register tcp://10.34.39.2:44467\n",
      "distributed.scheduler - INFO - Starting worker compute stream, tcp://10.34.39.2:44467\n",
      "distributed.core - INFO - Starting established connection\n"
     ]
    },
    {
     "name": "stdout",
     "output_type": "stream",
     "text": [
      "processing 3L\n"
     ]
    },
    {
     "name": "stderr",
     "output_type": "stream",
     "text": [
      "distributed.core - INFO - Event loop was unresponsive in Scheduler for 17.29s.  This is often caused by long-running GIL-holding functions or moving large chunks of data. This can cause timeouts and instability.\n"
     ]
    },
    {
     "name": "stdout",
     "output_type": "stream",
     "text": [
      "processing 3R\n"
     ]
    },
    {
     "name": "stderr",
     "output_type": "stream",
     "text": [
      "distributed.core - INFO - Event loop was unresponsive in Scheduler for 22.16s.  This is often caused by long-running GIL-holding functions or moving large chunks of data. This can cause timeouts and instability.\n"
     ]
    },
    {
     "name": "stdout",
     "output_type": "stream",
     "text": [
      "processing X\n"
     ]
    },
    {
     "name": "stderr",
     "output_type": "stream",
     "text": [
      "distributed.core - INFO - Event loop was unresponsive in Scheduler for 10.22s.  This is often caused by long-running GIL-holding functions or moving large chunks of data. This can cause timeouts and instability.\n"
     ]
    },
    {
     "name": "stdout",
     "output_type": "stream",
     "text": [
      "processing 2L\n",
      "processing 2R\n"
     ]
    },
    {
     "name": "stderr",
     "output_type": "stream",
     "text": [
      "distributed.core - INFO - Event loop was unresponsive in Scheduler for 6.63s.  This is often caused by long-running GIL-holding functions or moving large chunks of data. This can cause timeouts and instability.\n"
     ]
    },
    {
     "name": "stdout",
     "output_type": "stream",
     "text": [
      "processing 3L\n",
      "processing 3R\n"
     ]
    },
    {
     "name": "stderr",
     "output_type": "stream",
     "text": [
      "distributed.core - INFO - Event loop was unresponsive in Scheduler for 6.02s.  This is often caused by long-running GIL-holding functions or moving large chunks of data. This can cause timeouts and instability.\n"
     ]
    },
    {
     "name": "stdout",
     "output_type": "stream",
     "text": [
      "processing X\n"
     ]
    }
   ],
   "source": [
    "r = {}\n",
    "\n",
    "for label, sel in zip([\"gamb_colu\", \"arabiensis\"], [sel_samples_gambcolu_f, sel_samples_arab_f]):\n",
    "    normed_r, _ = compute_coverage_bases(sel)\n",
    "    r[label] = np.percentile(normed_r, [1, 5, 50, 95, 99], axis=0)"
   ]
  },
  {
   "cell_type": "code",
   "execution_count": 13,
   "metadata": {},
   "outputs": [],
   "source": [
    "import matplotlib.pyplot as plt\n",
    "%matplotlib inline\n",
    "import seaborn as sns"
   ]
  },
  {
   "cell_type": "code",
   "execution_count": 14,
   "metadata": {},
   "outputs": [
    {
     "data": {
      "image/png": "[encoded data removed]",
      "text/plain": [
       "<Figure size 288x288 with 1 Axes>"
      ]
     },
     "metadata": {
      "needs_background": "light"
     },
     "output_type": "display_data"
    },
    {
     "data": {
      "image/png": "[encoded data removed]",
      "text/plain": [
       "<Figure size 288x288 with 1 Axes>"
      ]
     },
     "metadata": {
      "needs_background": "light"
     },
     "output_type": "display_data"
    }
   ],
   "source": [
    "for key, percentiles in r.items():\n",
    "\n",
    "    fig, ax = plt.subplots(figsize=(4, 4))\n",
    "\n",
    "    plot_col = \"purple\"\n",
    "\n",
    "    ax.plot(values, percentiles[2], '-o', color=plot_col)\n",
    "    ax.fill_between(values, percentiles[0], percentiles[-1], alpha=0.1, color=plot_col)\n",
    "    ax.fill_between(values, percentiles[1], percentiles[-2], alpha=0.25, color=plot_col)\n",
    "    ax.grid(True)\n",
    "    ax.set_ylabel(\"fraction genome covered at X\")\n",
    "    ax.set_xlabel(\"X coverage\")\n",
    "    ax.set_ylim((0, 1.0))\n",
    "    ax.set_title(f\"${key.replace('_', ' ')}$\")\n",
    "\n",
    "    fig.savefig(f\"../content/images/{key}_frac_covered_X.svg\")"
   ]
  },
  {
   "cell_type": "code",
   "execution_count": 15,
   "metadata": {},
   "outputs": [
    {
     "data": {
      "text/plain": [
       "(2166, 365)"
      ]
     },
     "execution_count": 15,
     "metadata": {},
     "output_type": "execute_result"
    }
   ],
   "source": [
    "sel_samples_gambcolu_f.sum(), sel_samples_arab_f.sum()"
   ]
  },
  {
   "cell_type": "markdown",
   "metadata": {},
   "source": [
    "### Caption\n",
    "\n",
    "Fig X. Plot showing the median fraction of genome covered by at least X reads, where X is the value on the X axis. As well as median- the 5/95 and 1/99 percentiles are displayed as filled ranges. Only female samples are shown, allowing inclusion of the X chromosome, in A) A. gambiae and coluzzii (n=2166), and B) arabiensis (n=365). "
   ]
  },
  {
   "cell_type": "code",
   "execution_count": 16,
   "metadata": {},
   "outputs": [
    {
     "data": {
      "text/plain": [
       "<distributed.deploy.adaptive.Adaptive at 0x7f347cb65390>"
      ]
     },
     "execution_count": 16,
     "metadata": {},
     "output_type": "execute_result"
    },
    {
     "name": "stderr",
     "output_type": "stream",
     "text": [
      "distributed.scheduler - INFO - Retire worker names (0, 1, 2, 3, 4, 5, 6, 7, 8, 9, 10, 11, 12, 13, 14, 15, 16, 17, 18, 19, 20, 21, 22, 23, 24, 25, 26, 27, 28, 29, 30, 31, 32, 33, 34, 35, 36, 37, 38, 39, 40, 41, 42, 43, 44, 45, 46, 47, 48, 49)\n",
      "distributed.deploy.adaptive - INFO - Retiring workers [0, 1, 2, 3, 4, 5, 6, 7, 8, 9, 10, 11, 12, 13, 14, 15, 16, 17, 18, 19, 20, 21, 22, 23, 24, 25, 26, 27, 28, 29, 30, 31, 32, 33, 34, 35, 36, 37, 38, 39, 40, 41, 42, 43, 44, 45, 46, 47, 48, 49]\n",
      "distributed.scheduler - INFO - Remove worker tcp://10.33.248.4:41695\n",
      "distributed.core - INFO - Removing comms to tcp://10.33.248.4:41695\n",
      "distributed.scheduler - INFO - Remove worker tcp://10.34.10.4:38885\n",
      "distributed.core - INFO - Removing comms to tcp://10.34.10.4:38885\n",
      "distributed.scheduler - INFO - Remove worker tcp://10.34.14.4:46563\n",
      "distributed.core - INFO - Removing comms to tcp://10.34.14.4:46563\n",
      "distributed.scheduler - INFO - Remove worker tcp://10.34.12.4:46589\n",
      "distributed.core - INFO - Removing comms to tcp://10.34.12.4:46589\n",
      "distributed.scheduler - INFO - Remove worker tcp://10.34.32.4:41317\n",
      "distributed.core - INFO - Removing comms to tcp://10.34.32.4:41317\n",
      "distributed.scheduler - INFO - Remove worker tcp://10.34.6.4:35801\n",
      "distributed.core - INFO - Removing comms to tcp://10.34.6.4:35801\n",
      "distributed.scheduler - INFO - Remove worker tcp://10.34.11.4:36443\n",
      "distributed.core - INFO - Removing comms to tcp://10.34.11.4:36443\n",
      "distributed.scheduler - INFO - Remove worker tcp://10.34.35.4:36451\n",
      "distributed.core - INFO - Removing comms to tcp://10.34.35.4:36451\n",
      "distributed.scheduler - INFO - Remove worker tcp://10.33.247.4:36005\n",
      "distributed.core - INFO - Removing comms to tcp://10.33.247.4:36005\n",
      "distributed.scheduler - INFO - Remove worker tcp://10.34.9.4:38849\n",
      "distributed.core - INFO - Removing comms to tcp://10.34.9.4:38849\n",
      "distributed.scheduler - INFO - Remove worker tcp://10.34.23.3:33415\n",
      "distributed.core - INFO - Removing comms to tcp://10.34.23.3:33415\n",
      "distributed.scheduler - INFO - Remove worker tcp://10.34.21.3:42905\n",
      "distributed.core - INFO - Removing comms to tcp://10.34.21.3:42905\n",
      "distributed.scheduler - INFO - Remove worker tcp://10.34.13.4:45007\n",
      "distributed.core - INFO - Removing comms to tcp://10.34.13.4:45007\n",
      "distributed.scheduler - INFO - Remove worker tcp://10.33.240.4:44755\n",
      "distributed.core - INFO - Removing comms to tcp://10.33.240.4:44755\n",
      "distributed.scheduler - INFO - Remove worker tcp://10.34.3.4:37767\n",
      "distributed.core - INFO - Removing comms to tcp://10.34.3.4:37767\n",
      "distributed.scheduler - INFO - Remove worker tcp://10.34.1.4:37837\n",
      "distributed.core - INFO - Removing comms to tcp://10.34.1.4:37837\n",
      "distributed.scheduler - INFO - Remove worker tcp://10.34.28.4:43679\n",
      "distributed.core - INFO - Removing comms to tcp://10.34.28.4:43679\n",
      "distributed.scheduler - INFO - Remove worker tcp://10.34.0.4:38969\n",
      "distributed.core - INFO - Removing comms to tcp://10.34.0.4:38969\n",
      "distributed.scheduler - INFO - Remove worker tcp://10.34.4.4:38087\n",
      "distributed.core - INFO - Removing comms to tcp://10.34.4.4:38087\n",
      "distributed.scheduler - INFO - Remove worker tcp://10.33.246.4:36103\n",
      "distributed.core - INFO - Removing comms to tcp://10.33.246.4:36103\n",
      "distributed.scheduler - INFO - Remove worker tcp://10.34.24.4:38391\n",
      "distributed.core - INFO - Removing comms to tcp://10.34.24.4:38391\n",
      "distributed.scheduler - INFO - Remove worker tcp://10.34.27.4:42987\n",
      "distributed.core - INFO - Removing comms to tcp://10.34.27.4:42987\n",
      "distributed.scheduler - INFO - Remove worker tcp://10.33.242.4:39375\n",
      "distributed.core - INFO - Removing comms to tcp://10.33.242.4:39375\n",
      "distributed.scheduler - INFO - Remove worker tcp://10.34.34.4:46863\n",
      "distributed.core - INFO - Removing comms to tcp://10.34.34.4:46863\n",
      "distributed.scheduler - INFO - Remove worker tcp://10.33.255.4:42321\n",
      "distributed.core - INFO - Removing comms to tcp://10.33.255.4:42321\n",
      "distributed.scheduler - INFO - Remove worker tcp://10.34.19.4:45659\n",
      "distributed.core - INFO - Removing comms to tcp://10.34.19.4:45659\n",
      "distributed.scheduler - INFO - Remove worker tcp://10.33.249.4:35345\n",
      "distributed.core - INFO - Removing comms to tcp://10.33.249.4:35345\n",
      "distributed.scheduler - INFO - Remove worker tcp://10.33.243.4:33379\n",
      "distributed.core - INFO - Removing comms to tcp://10.33.243.4:33379\n",
      "distributed.scheduler - INFO - Remove worker tcp://10.34.39.2:44467\n",
      "distributed.core - INFO - Removing comms to tcp://10.34.39.2:44467\n",
      "distributed.scheduler - INFO - Remove worker tcp://10.34.26.4:42813\n",
      "distributed.core - INFO - Removing comms to tcp://10.34.26.4:42813\n",
      "distributed.scheduler - INFO - Remove worker tcp://10.33.245.4:39601\n",
      "distributed.core - INFO - Removing comms to tcp://10.33.245.4:39601\n",
      "distributed.scheduler - INFO - Remove worker tcp://10.33.250.4:42217\n",
      "distributed.core - INFO - Removing comms to tcp://10.33.250.4:42217\n",
      "distributed.scheduler - INFO - Remove worker tcp://10.34.8.4:38137\n",
      "distributed.core - INFO - Removing comms to tcp://10.34.8.4:38137\n",
      "distributed.scheduler - INFO - Remove worker tcp://10.33.251.3:41051\n",
      "distributed.core - INFO - Removing comms to tcp://10.33.251.3:41051\n",
      "distributed.scheduler - INFO - Remove worker tcp://10.33.254.4:37381\n",
      "distributed.core - INFO - Removing comms to tcp://10.33.254.4:37381\n",
      "distributed.scheduler - INFO - Remove worker tcp://10.34.22.4:35837\n",
      "distributed.core - INFO - Removing comms to tcp://10.34.22.4:35837\n",
      "distributed.scheduler - INFO - Remove worker tcp://10.34.18.4:44455\n",
      "distributed.core - INFO - Removing comms to tcp://10.34.18.4:44455\n",
      "distributed.scheduler - INFO - Remove worker tcp://10.34.20.4:42491\n",
      "distributed.core - INFO - Removing comms to tcp://10.34.20.4:42491\n",
      "distributed.scheduler - INFO - Remove worker tcp://10.34.15.4:36301\n",
      "distributed.core - INFO - Removing comms to tcp://10.34.15.4:36301\n",
      "distributed.scheduler - INFO - Remove worker tcp://10.34.5.4:34843\n",
      "distributed.core - INFO - Removing comms to tcp://10.34.5.4:34843\n",
      "distributed.scheduler - INFO - Remove worker tcp://10.34.7.4:43219\n",
      "distributed.core - INFO - Removing comms to tcp://10.34.7.4:43219\n",
      "distributed.scheduler - INFO - Remove worker tcp://10.34.16.3:40671\n",
      "distributed.core - INFO - Removing comms to tcp://10.34.16.3:40671\n",
      "distributed.scheduler - INFO - Remove worker tcp://10.33.241.4:35799\n",
      "distributed.core - INFO - Removing comms to tcp://10.33.241.4:35799\n",
      "distributed.scheduler - INFO - Remove worker tcp://10.33.253.4:43557\n",
      "distributed.core - INFO - Removing comms to tcp://10.33.253.4:43557\n",
      "distributed.scheduler - INFO - Remove worker tcp://10.34.31.4:36379\n",
      "distributed.core - INFO - Removing comms to tcp://10.34.31.4:36379\n",
      "distributed.scheduler - INFO - Remove worker tcp://10.34.33.4:45207\n",
      "distributed.core - INFO - Removing comms to tcp://10.34.33.4:45207\n",
      "distributed.scheduler - INFO - Remove worker tcp://10.34.30.4:43617\n",
      "distributed.core - INFO - Removing comms to tcp://10.34.30.4:43617\n",
      "distributed.scheduler - INFO - Remove worker tcp://10.33.244.4:46399\n",
      "distributed.core - INFO - Removing comms to tcp://10.33.244.4:46399\n",
      "distributed.scheduler - INFO - Remove worker tcp://10.34.2.4:39755\n",
      "distributed.core - INFO - Removing comms to tcp://10.34.2.4:39755\n",
      "distributed.scheduler - INFO - Remove worker tcp://10.33.252.4:44861\n",
      "distributed.core - INFO - Removing comms to tcp://10.33.252.4:44861\n",
      "distributed.scheduler - INFO - Lost all workers\n"
     ]
    }
   ],
   "source": [
    "cluster.adapt()"
   ]
  },
  {
   "cell_type": "code",
   "execution_count": null,
   "metadata": {},
   "outputs": [],
   "source": []
  }
 ],
 "metadata": {
  "kernelspec": {
   "display_name": "Python 3",
   "language": "python",
   "name": "python3"
  },
  "language_info": {
   "codemirror_mode": {
    "name": "ipython",
    "version": 3
   },
   "file_extension": ".py",
   "mimetype": "text/x-python",
   "name": "python",
   "nbconvert_exporter": "python",
   "pygments_lexer": "ipython3",
   "version": "3.7.6"
  }
 },
 "nbformat": 4,
 "nbformat_minor": 4
}
