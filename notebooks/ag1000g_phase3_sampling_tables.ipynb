{
 "cells": [
  {
   "cell_type": "code",
   "execution_count": 58,
   "metadata": {},
   "outputs": [],
   "source": [
    "import pandas as pd\n",
    "import numpy as np\n",
    "from pathlib import Path\n",
    "import yaml\n",
    "import dask.array as da\n",
    "from ag3 import release_data\n",
    "v3_release = release_data()"
   ]
  },
  {
   "cell_type": "markdown",
   "metadata": {},
   "source": [
    "# supplementary table - sample level\n",
    "### get meta"
   ]
  },
  {
   "cell_type": "code",
   "execution_count": 59,
   "metadata": {},
   "outputs": [
    {
     "name": "stderr",
     "output_type": "stream",
     "text": [
      "/opt/conda/lib/python3.7/site-packages/pandas/core/ops/array_ops.py:253: FutureWarning: elementwise comparison failed; returning scalar instead, but in the future will perform elementwise comparison\n",
      "  res_values = method(rvalues)\n"
     ]
    }
   ],
   "source": [
    "#samplesets\n",
    "samplesets = v3_release.all_wild_sample_sets\n",
    "df_meta = v3_release.load_sample_set_metadata(samplesets, True)\n",
    "#fixes\n",
    "df_meta.country = df_meta.country.str.replace(\"Gambia, The\", \"The Gambia\").str.replace(\"Equatorial Guinea\", \"Bioko\")"
   ]
  },
  {
   "cell_type": "code",
   "execution_count": 60,
   "metadata": {},
   "outputs": [
    {
     "data": {
      "text/plain": [
       "Index(['sample_id', 'partner_sample_id', 'contributor', 'country', 'location',\n",
       "       'year', 'month', 'latitude', 'longitude', 'sex_call', 'sample_set',\n",
       "       'aim_fraction_colu', 'aim_fraction_arab', 'species_gambcolu_arabiensis',\n",
       "       'species_gambiae_coluzzii', 'is_arabiensis', 'is_gamb_colu',\n",
       "       'is_gambiae', 'is_coluzzii'],\n",
       "      dtype='object')"
      ]
     },
     "execution_count": 60,
     "metadata": {},
     "output_type": "execute_result"
    }
   ],
   "source": [
    "df_supp = df_meta.reset_index()\n",
    "df_supp.columns"
   ]
  },
  {
   "cell_type": "code",
   "execution_count": 61,
   "metadata": {},
   "outputs": [],
   "source": [
    "df_supp = df_supp[['sample_id', 'partner_sample_id', 'sample_set', 'country', 'location',\n",
    "       'year', 'month', 'latitude', 'longitude', 'sex_call', 'aim_fraction_colu', 'aim_fraction_arab', 'species_gambcolu_arabiensis',\n",
    "       'species_gambiae_coluzzii', 'is_arabiensis', 'is_gamb_colu',\n",
    "       'is_gambiae', 'is_coluzzii']]"
   ]
  },
  {
   "cell_type": "code",
   "execution_count": 62,
   "metadata": {},
   "outputs": [],
   "source": [
    "df_supp.rename(columns={'location':'site'}, inplace=True)"
   ]
  },
  {
   "cell_type": "code",
   "execution_count": 63,
   "metadata": {},
   "outputs": [],
   "source": [
    "#round\n",
    "df_supp = df_supp.round(3)\n",
    "#export\n",
    "df_supp.to_csv(\"../content/tables/supplementary_sampling_location_table.csv\", index=False)"
   ]
  },
  {
   "cell_type": "markdown",
   "metadata": {},
   "source": [
    "# main text table - site >10 level\n",
    "### fix meta"
   ]
  },
  {
   "cell_type": "code",
   "execution_count": 64,
   "metadata": {},
   "outputs": [
    {
     "data": {
      "text/plain": [
       "(43, 43, 42)"
      ]
     },
     "execution_count": 64,
     "metadata": {},
     "output_type": "execute_result"
    }
   ],
   "source": [
    "#consolidate all Mayotte sites into one (so we get a pie chart)\n",
    "df_meta.loc[(df_meta.country == 'Mayotte'),'latitude'] = df_meta[df_meta.country == 'Mayotte'].latitude.mean()\n",
    "df_meta.loc[(df_meta.country == 'Mayotte'),'longitude'] = df_meta[df_meta.country == 'Mayotte'].longitude.mean()\n",
    "#counts by sites\n",
    "df_site_counts = df_meta.groupby(['latitude', 'longitude', 'country']).size().reset_index(name='counts')\n",
    "df_site_counts['site'] = range(len(df_site_counts))\n",
    "#>= 10 sites \n",
    "df_10 = df_site_counts[df_site_counts.counts >= 10].copy()\n",
    "len(df_10),len(df_10.latitude.unique()),len(df_10.longitude.unique())"
   ]
  },
  {
   "cell_type": "code",
   "execution_count": 65,
   "metadata": {},
   "outputs": [
    {
     "data": {
      "text/plain": [
       "(43, 42)"
      ]
     },
     "execution_count": 65,
     "metadata": {},
     "output_type": "execute_result"
    }
   ],
   "source": [
    "#new full meta but only containing >=10 sites (to preserve all species columns)\n",
    "df_10_meta = df_meta.merge(df_10[['longitude','latitude', 'site']])\n",
    "len(df_10_meta.latitude.unique()),len(df_10_meta.longitude.unique())"
   ]
  },
  {
   "cell_type": "markdown",
   "metadata": {},
   "source": [
    "### get crosstabbing"
   ]
  },
  {
   "cell_type": "code",
   "execution_count": 66,
   "metadata": {},
   "outputs": [
    {
     "data": {
      "text/html": [
       "<div>\n",
       "<style scoped>\n",
       "    .dataframe tbody tr th:only-of-type {\n",
       "        vertical-align: middle;\n",
       "    }\n",
       "\n",
       "    .dataframe tbody tr th {\n",
       "        vertical-align: top;\n",
       "    }\n",
       "\n",
       "    .dataframe thead th {\n",
       "        text-align: right;\n",
       "    }\n",
       "</style>\n",
       "<table border=\"1\" class=\"dataframe\">\n",
       "  <thead>\n",
       "    <tr style=\"text-align: right;\">\n",
       "      <th>species_gambiae_coluzzii</th>\n",
       "      <th>coluzzii</th>\n",
       "      <th>gambiae</th>\n",
       "      <th>gambiae/coluzzii</th>\n",
       "    </tr>\n",
       "    <tr>\n",
       "      <th>site</th>\n",
       "      <th></th>\n",
       "      <th></th>\n",
       "      <th></th>\n",
       "    </tr>\n",
       "  </thead>\n",
       "  <tbody>\n",
       "    <tr>\n",
       "      <th>0</th>\n",
       "      <td>0</td>\n",
       "      <td>74</td>\n",
       "      <td>0</td>\n",
       "    </tr>\n",
       "    <tr>\n",
       "      <th>2</th>\n",
       "      <td>0</td>\n",
       "      <td>23</td>\n",
       "      <td>0</td>\n",
       "    </tr>\n",
       "    <tr>\n",
       "      <th>3</th>\n",
       "      <td>81</td>\n",
       "      <td>0</td>\n",
       "      <td>0</td>\n",
       "    </tr>\n",
       "    <tr>\n",
       "      <th>4</th>\n",
       "      <td>0</td>\n",
       "      <td>36</td>\n",
       "      <td>6</td>\n",
       "    </tr>\n",
       "    <tr>\n",
       "      <th>5</th>\n",
       "      <td>0</td>\n",
       "      <td>28</td>\n",
       "      <td>45</td>\n",
       "    </tr>\n",
       "  </tbody>\n",
       "</table>\n",
       "</div>"
      ],
      "text/plain": [
       "species_gambiae_coluzzii  coluzzii  gambiae  gambiae/coluzzii\n",
       "site                                                         \n",
       "0                                0       74                 0\n",
       "2                                0       23                 0\n",
       "3                               81        0                 0\n",
       "4                                0       36                 6\n",
       "5                                0       28                45"
      ]
     },
     "execution_count": 66,
     "metadata": {},
     "output_type": "execute_result"
    }
   ],
   "source": [
    "arab_call = pd.crosstab(df_10_meta.site, df_10_meta.species_gambcolu_arabiensis)\n",
    "colu_call = pd.crosstab(df_10_meta.site, df_10_meta.species_gambiae_coluzzii)\n",
    "colu_call.rename({\"intermediate\": \"gambiae/coluzzii\"}, axis=1, inplace=True)\n",
    "colu_call.head()"
   ]
  },
  {
   "cell_type": "code",
   "execution_count": 67,
   "metadata": {},
   "outputs": [
    {
     "data": {
      "text/html": [
       "<div>\n",
       "<style scoped>\n",
       "    .dataframe tbody tr th:only-of-type {\n",
       "        vertical-align: middle;\n",
       "    }\n",
       "\n",
       "    .dataframe tbody tr th {\n",
       "        vertical-align: top;\n",
       "    }\n",
       "\n",
       "    .dataframe thead th {\n",
       "        text-align: right;\n",
       "    }\n",
       "</style>\n",
       "<table border=\"1\" class=\"dataframe\">\n",
       "  <thead>\n",
       "    <tr style=\"text-align: right;\">\n",
       "      <th>sex_call</th>\n",
       "      <th>female</th>\n",
       "      <th>male</th>\n",
       "      <th>sex_unknown</th>\n",
       "    </tr>\n",
       "    <tr>\n",
       "      <th>site</th>\n",
       "      <th></th>\n",
       "      <th></th>\n",
       "      <th></th>\n",
       "    </tr>\n",
       "  </thead>\n",
       "  <tbody>\n",
       "    <tr>\n",
       "      <th>0</th>\n",
       "      <td>74</td>\n",
       "      <td>0</td>\n",
       "      <td>0</td>\n",
       "    </tr>\n",
       "    <tr>\n",
       "      <th>1</th>\n",
       "      <td>41</td>\n",
       "      <td>0</td>\n",
       "      <td>0</td>\n",
       "    </tr>\n",
       "    <tr>\n",
       "      <th>2</th>\n",
       "      <td>11</td>\n",
       "      <td>12</td>\n",
       "      <td>0</td>\n",
       "    </tr>\n",
       "    <tr>\n",
       "      <th>3</th>\n",
       "      <td>77</td>\n",
       "      <td>4</td>\n",
       "      <td>0</td>\n",
       "    </tr>\n",
       "    <tr>\n",
       "      <th>4</th>\n",
       "      <td>43</td>\n",
       "      <td>0</td>\n",
       "      <td>0</td>\n",
       "    </tr>\n",
       "  </tbody>\n",
       "</table>\n",
       "</div>"
      ],
      "text/plain": [
       "sex_call  female  male  sex_unknown\n",
       "site                               \n",
       "0             74     0            0\n",
       "1             41     0            0\n",
       "2             11    12            0\n",
       "3             77     4            0\n",
       "4             43     0            0"
      ]
     },
     "execution_count": 67,
     "metadata": {},
     "output_type": "execute_result"
    }
   ],
   "source": [
    "sex_call = pd.crosstab(df_10_meta.site, df_10_meta.sex_call)\n",
    "sex_call.rename({\"F\": \"female\", \"M\": \"male\", \"UKN\": \"sex_unknown\"}, axis=1, inplace=True)\n",
    "sex_call.head()"
   ]
  },
  {
   "cell_type": "markdown",
   "metadata": {},
   "source": [
    "### get building"
   ]
  },
  {
   "cell_type": "code",
   "execution_count": 68,
   "metadata": {},
   "outputs": [],
   "source": [
    "#reindex and join\n",
    "df_10 =  df_10.set_index('site')\n",
    "df_10_final = df_10.join([arab_call, colu_call, sex_call])"
   ]
  },
  {
   "cell_type": "code",
   "execution_count": 69,
   "metadata": {},
   "outputs": [],
   "source": [
    "#add locations - must be a better way of doing this using merge maybe?\n",
    "site = []\n",
    "for _, row in df_10_final.iterrows():\n",
    "    all_site = df_meta[(df_meta.latitude == row.latitude) & (df_meta.longitude == row.longitude)].copy()\n",
    "    if all_site.location.unique()[0] != 'Mtsamboro Forest Reserve':\n",
    "        site.append(all_site.location.unique()[0])\n",
    "    else:\n",
    "        #fix_mayotte\n",
    "        site.append('Mayotte')\n",
    "        \n",
    "df_10_final['region'] = site"
   ]
  },
  {
   "cell_type": "code",
   "execution_count": 70,
   "metadata": {},
   "outputs": [],
   "source": [
    "#remove nans, fix types\n",
    "df_10_final = df_10_final.fillna(value=0).astype({'coluzzii':int, 'gambiae':int, 'gambiae/coluzzii':int})"
   ]
  },
  {
   "cell_type": "code",
   "execution_count": 71,
   "metadata": {},
   "outputs": [],
   "source": [
    "df_10_final = df_10_final[['country', 'region', 'latitude', 'longitude', 'counts', 'female', 'male', \n",
    "                           'sex_unknown', 'arabiensis', 'intermediate', 'coluzzii', 'gambiae', 'gambiae/coluzzii']]\n",
    "\n",
    "#fix names\n",
    "df_10_final.rename(columns={\"region\": \"site\", \"sex_unknown\": \"sex unknown\", \"intermediate\": \"*arabiensis* x *gambiae*\", \n",
    "                            \"gambiae/coluzzii\": \"gambiae x coluzzii\", \"arabiensis\": \"*arabiensis*\", \"coluzzii\": \"*coluzzii*\", \"gambiae\": \"*gambiae*\"}, inplace=True)\n",
    "#sort\n",
    "df_10_final.sort_values(by=['country'], inplace=True)\n",
    "#round\n",
    "df_10_final = df_10_final.round(3)\n",
    "#export\n",
    "df_10_final.to_csv(\"../content/tables/main_sampling_location_table.csv\", index=False)"
   ]
  },
  {
   "cell_type": "code",
   "execution_count": null,
   "metadata": {},
   "outputs": [],
   "source": []
  }
 ],
 "metadata": {
  "kernelspec": {
   "display_name": "Python 3",
   "language": "python",
   "name": "python3"
  },
  "language_info": {
   "codemirror_mode": {
    "name": "ipython",
    "version": 3
   },
   "file_extension": ".py",
   "mimetype": "text/x-python",
   "name": "python",
   "nbconvert_exporter": "python",
   "pygments_lexer": "ipython3",
   "version": "3.7.6"
  }
 },
 "nbformat": 4,
 "nbformat_minor": 4
}
