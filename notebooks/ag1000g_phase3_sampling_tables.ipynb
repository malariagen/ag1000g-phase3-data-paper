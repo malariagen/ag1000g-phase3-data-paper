{
 "cells": [
  {
   "cell_type": "code",
   "execution_count": 114,
   "metadata": {},
   "outputs": [],
   "source": [
    "import pandas as pd\n",
    "import numpy as np\n",
    "from pathlib import Path\n",
    "import yaml\n",
    "import dask.array as da\n",
    "from ag3 import release_data\n",
    "v3_release = release_data()"
   ]
  },
  {
   "cell_type": "markdown",
   "metadata": {},
   "source": [
    "# supplementary table - sample level\n",
    "### get meta"
   ]
  },
  {
   "cell_type": "code",
   "execution_count": null,
   "metadata": {},
   "outputs": [],
   "source": [
    "#samplesets\n",
    "samplesets = v3_release.all_wild_sample_sets\n",
    "df_meta = v3_release.load_sample_set_metadata(samplesets, True)\n",
    "#fixes\n",
    "df_meta.country = df_meta.country.str.replace(\"Gambia, The\", \"The Gambia\").str.replace(\"Equatorial Guinea\", \"Bioko\")"
   ]
  },
  {
   "cell_type": "code",
   "execution_count": null,
   "metadata": {},
   "outputs": [],
   "source": [
    "df_supp = df_meta.reset_index()\n",
    "df_supp.columns"
   ]
  },
  {
   "cell_type": "code",
   "execution_count": null,
   "metadata": {},
   "outputs": [],
   "source": [
    "df_supp = df_supp[['sample_id', 'partner_sample_id', 'sample_set', 'country', 'location',\n",
    "       'year', 'month', 'latitude', 'longitude', 'sex_call', 'aim_fraction_colu', 'aim_fraction_arab', 'species_gambcolu_arabiensis',\n",
    "       'species_gambiae_coluzzii', 'is_arabiensis', 'is_gamb_colu',\n",
    "       'is_gambiae', 'is_coluzzii']]"
   ]
  },
  {
   "cell_type": "code",
   "execution_count": null,
   "metadata": {},
   "outputs": [],
   "source": [
    "df_supp.rename(columns={'location':'site'}, inplace=True)"
   ]
  },
  {
   "cell_type": "code",
   "execution_count": null,
   "metadata": {},
   "outputs": [],
   "source": [
    "#round\n",
    "df_supp = df_supp.round(3)\n",
    "#export\n",
    "df_supp.to_csv(\"../content/tables/supplementary_sampling_location_table.csv\", index=False)"
   ]
  },
  {
   "cell_type": "markdown",
   "metadata": {},
   "source": [
    "# main text table - site >10 level\n",
    "### fix meta"
   ]
  },
  {
   "cell_type": "code",
   "execution_count": null,
   "metadata": {},
   "outputs": [],
   "source": [
    "#consolidate all Mayotte sites into one (so we get a pie chart)\n",
    "df_meta.loc[(df_meta.country == 'Mayotte'),'latitude'] = df_meta[df_meta.country == 'Mayotte'].latitude.mean()\n",
    "df_meta.loc[(df_meta.country == 'Mayotte'),'longitude'] = df_meta[df_meta.country == 'Mayotte'].longitude.mean()\n",
    "#counts by sites\n",
    "df_site_counts = df_meta.groupby(['latitude', 'longitude', 'country']).size().reset_index(name='counts')\n",
    "df_site_counts['site'] = range(len(df_site_counts))\n",
    "#>= 10 sites \n",
    "df_10 = df_site_counts[df_site_counts.counts >= 10].copy()\n",
    "len(df_10),len(df_10.latitude.unique()),len(df_10.longitude.unique())"
   ]
  },
  {
   "cell_type": "code",
   "execution_count": null,
   "metadata": {},
   "outputs": [],
   "source": [
    "#new full meta but only containing >=10 sites (to preserve all species columns)\n",
    "df_10_meta = df_meta.merge(df_10[['longitude','latitude', 'site']])\n",
    "len(df_10_meta.latitude.unique()),len(df_10_meta.longitude.unique())"
   ]
  },
  {
   "cell_type": "markdown",
   "metadata": {},
   "source": [
    "### get crosstabbing"
   ]
  },
  {
   "cell_type": "code",
   "execution_count": null,
   "metadata": {},
   "outputs": [],
   "source": [
    "arab_call = pd.crosstab(df_10_meta.site, df_10_meta.species_gambcolu_arabiensis)\n",
    "colu_call = pd.crosstab(df_10_meta.site, df_10_meta.species_gambiae_coluzzii)\n",
    "colu_call.rename({\"intermediate\": \"gambiae/coluzzii\"}, axis=1, inplace=True)\n",
    "colu_call.head()"
   ]
  },
  {
   "cell_type": "code",
   "execution_count": null,
   "metadata": {},
   "outputs": [],
   "source": [
    "sex_call = pd.crosstab(df_10_meta.site, df_10_meta.sex_call)\n",
    "sex_call.rename({\"F\": \"female\", \"M\": \"male\", \"UKN\": \"sex_unknown\"}, axis=1, inplace=True)\n",
    "sex_call.head()"
   ]
  },
  {
   "cell_type": "markdown",
   "metadata": {},
   "source": [
    "### get building"
   ]
  },
  {
   "cell_type": "code",
   "execution_count": null,
   "metadata": {},
   "outputs": [],
   "source": [
    "#reindex and join\n",
    "df_10 =  df_10.set_index('site')\n",
    "df_10_final = df_10.join([arab_call, colu_call, sex_call])"
   ]
  },
  {
   "cell_type": "code",
   "execution_count": null,
   "metadata": {},
   "outputs": [],
   "source": [
    "#add locations - must be a better way of doing this using merge maybe?\n",
    "site = []\n",
    "for _, row in df_10_final.iterrows():\n",
    "    all_site = df_meta[(df_meta.latitude == row.latitude) & (df_meta.longitude == row.longitude)].copy()\n",
    "    if all_site.location.unique()[0] != 'Mtsamboro Forest Reserve':\n",
    "        site.append(all_site.location.unique()[0])\n",
    "    else:\n",
    "        #fix_mayotte\n",
    "        site.append('Mayotte')\n",
    "        \n",
    "df_10_final['region'] = site"
   ]
  },
  {
   "cell_type": "code",
   "execution_count": null,
   "metadata": {},
   "outputs": [],
   "source": [
    "#remove nans, fix types\n",
    "df_10_final = df_10_final.fillna(value=0).astype({'coluzzii':int, 'gambiae':int, 'gambiae/coluzzii':int})"
   ]
  },
  {
   "cell_type": "code",
   "execution_count": null,
   "metadata": {},
   "outputs": [],
   "source": [
    "df_10_final = df_10_final[['country', 'region', 'latitude', 'longitude', 'counts', 'female', 'male', \n",
    "                           'sex_unknown', 'arabiensis', 'intermediate', 'coluzzii', 'gambiae', 'gambiae/coluzzii']]\n",
    "\n",
    "#fix names\n",
    "df_10_final.rename(columns={\"region\": \"site\", \"sex_unknown\": \"sex unknown\", \"intermediate\": \"arabiensis x gambiae\", \n",
    "                            \"gambiae/coluzzii\": \"gambiae x coluzzii\", \"arabiensis\": \"arabiensis\", \"coluzzii\": \"coluzzii\", \"gambiae\": \"gambiae\"}, inplace=True)\n",
    "#sort\n",
    "df_10_final.sort_values(by=['country'], inplace=True)\n",
    "#round\n",
    "df_10_final = df_10_final.round(3)\n",
    "#export\n",
    "df_10_final.to_csv(\"../content/tables/main_sampling_location_table.csv\", index=False)"
   ]
  },
  {
   "cell_type": "code",
   "execution_count": null,
   "metadata": {},
   "outputs": [],
   "source": []
  }
 ],
 "metadata": {
  "kernelspec": {
   "display_name": "Python 3",
   "language": "python",
   "name": "python3"
  },
  "language_info": {
   "codemirror_mode": {
    "name": "ipython",
    "version": 3
   },
   "file_extension": ".py",
   "mimetype": "text/x-python",
   "name": "python",
   "nbconvert_exporter": "python",
   "pygments_lexer": "ipython3",
   "version": "3.7.6"
  }
 },
 "nbformat": 4,
 "nbformat_minor": 4
}
