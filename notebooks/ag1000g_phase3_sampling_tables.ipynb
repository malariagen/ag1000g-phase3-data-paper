{
 "cells": [
  {
   "cell_type": "code",
   "execution_count": 1,
   "metadata": {},
   "outputs": [],
   "source": [
    "import pandas as pd\n",
    "import numpy as np\n",
    "from pathlib import Path\n",
    "import yaml\n",
    "import dask.array as da\n",
    "from ag3 import release_data\n",
    "v3_release = release_data()"
   ]
  },
  {
   "cell_type": "markdown",
   "metadata": {},
   "source": [
    "### get meta"
   ]
  },
  {
   "cell_type": "code",
   "execution_count": 55,
   "metadata": {},
   "outputs": [
    {
     "name": "stderr",
     "output_type": "stream",
     "text": [
      "/opt/conda/lib/python3.7/site-packages/pandas/core/ops/array_ops.py:253: FutureWarning: elementwise comparison failed; returning scalar instead, but in the future will perform elementwise comparison\n",
      "  res_values = method(rvalues)\n"
     ]
    },
    {
     "data": {
      "text/plain": [
       "(43, 43, 42)"
      ]
     },
     "execution_count": 55,
     "metadata": {},
     "output_type": "execute_result"
    }
   ],
   "source": [
    "#samplesets\n",
    "samplesets = v3_release.all_wild_sample_sets\n",
    "df_meta = v3_release.load_sample_set_metadata(samplesets, True)\n",
    "#fixes\n",
    "df_meta.country = df_meta.country.str.replace(\"Gambia, The\", \"The Gambia\").str.replace(\"Equatorial Guinea\", \"Bioko\")\n",
    "#consolidate all Mayotte sites into one (so we get a pie chart)\n",
    "df_meta.loc[(df_meta.country == 'Mayotte'),'latitude'] = df_meta[df_meta.country == 'Mayotte'].latitude.mean()\n",
    "df_meta.loc[(df_meta.country == 'Mayotte'),'longitude'] = df_meta[df_meta.country == 'Mayotte'].longitude.mean()\n",
    "#counts by sites\n",
    "df_site_counts = df_meta.groupby(['latitude', 'longitude', 'country']).size().reset_index(name='counts')\n",
    "df_site_counts['site'] = range(len(df_site_counts))\n",
    "#>= 10 sites \n",
    "df_10 = df_site_counts[df_site_counts.counts >= 10].copy()\n",
    "len(df_10),len(df_10.latitude.unique()),len(df_10.longitude.unique())"
   ]
  },
  {
   "cell_type": "code",
   "execution_count": 57,
   "metadata": {},
   "outputs": [
    {
     "data": {
      "text/plain": [
       "(43, 42)"
      ]
     },
     "execution_count": 57,
     "metadata": {},
     "output_type": "execute_result"
    }
   ],
   "source": [
    "#new full meta but only containing >=10 sites (to preserve all species columns)\n",
    "df_10_meta = df_meta.merge(df_10[['longitude','latitude', 'site']])\n",
    "len(df_10_meta.latitude.unique()),len(df_10_meta.longitude.unique())"
   ]
  },
  {
   "cell_type": "markdown",
   "metadata": {},
   "source": [
    "### get crosstabbing"
   ]
  },
  {
   "cell_type": "code",
   "execution_count": 35,
   "metadata": {},
   "outputs": [
    {
     "data": {
      "text/html": [
       "<div>\n",
       "<style scoped>\n",
       "    .dataframe tbody tr th:only-of-type {\n",
       "        vertical-align: middle;\n",
       "    }\n",
       "\n",
       "    .dataframe tbody tr th {\n",
       "        vertical-align: top;\n",
       "    }\n",
       "\n",
       "    .dataframe thead th {\n",
       "        text-align: right;\n",
       "    }\n",
       "</style>\n",
       "<table border=\"1\" class=\"dataframe\">\n",
       "  <thead>\n",
       "    <tr style=\"text-align: right;\">\n",
       "      <th>species_gambiae_coluzzii</th>\n",
       "      <th>coluzzii</th>\n",
       "      <th>gambiae</th>\n",
       "      <th>gambiae/coluzzii</th>\n",
       "    </tr>\n",
       "    <tr>\n",
       "      <th>site</th>\n",
       "      <th></th>\n",
       "      <th></th>\n",
       "      <th></th>\n",
       "    </tr>\n",
       "  </thead>\n",
       "  <tbody>\n",
       "    <tr>\n",
       "      <th>0</th>\n",
       "      <td>0</td>\n",
       "      <td>74</td>\n",
       "      <td>0</td>\n",
       "    </tr>\n",
       "    <tr>\n",
       "      <th>2</th>\n",
       "      <td>0</td>\n",
       "      <td>23</td>\n",
       "      <td>0</td>\n",
       "    </tr>\n",
       "    <tr>\n",
       "      <th>3</th>\n",
       "      <td>81</td>\n",
       "      <td>0</td>\n",
       "      <td>0</td>\n",
       "    </tr>\n",
       "    <tr>\n",
       "      <th>4</th>\n",
       "      <td>0</td>\n",
       "      <td>36</td>\n",
       "      <td>6</td>\n",
       "    </tr>\n",
       "    <tr>\n",
       "      <th>5</th>\n",
       "      <td>0</td>\n",
       "      <td>28</td>\n",
       "      <td>45</td>\n",
       "    </tr>\n",
       "  </tbody>\n",
       "</table>\n",
       "</div>"
      ],
      "text/plain": [
       "species_gambiae_coluzzii  coluzzii  gambiae  gambiae/coluzzii\n",
       "site                                                         \n",
       "0                                0       74                 0\n",
       "2                                0       23                 0\n",
       "3                               81        0                 0\n",
       "4                                0       36                 6\n",
       "5                                0       28                45"
      ]
     },
     "execution_count": 35,
     "metadata": {},
     "output_type": "execute_result"
    }
   ],
   "source": [
    "arab_call = pd.crosstab(df_10_meta.site, df_10_meta.species_gambcolu_arabiensis)\n",
    "colu_call = pd.crosstab(df_10_meta.site, df_10_meta.species_gambiae_coluzzii)\n",
    "colu_call.rename({\"intermediate\": \"gambiae/coluzzii\"}, axis=1, inplace=True)\n",
    "colu_call.head()"
   ]
  },
  {
   "cell_type": "code",
   "execution_count": 5,
   "metadata": {},
   "outputs": [
    {
     "data": {
      "text/html": [
       "<div>\n",
       "<style scoped>\n",
       "    .dataframe tbody tr th:only-of-type {\n",
       "        vertical-align: middle;\n",
       "    }\n",
       "\n",
       "    .dataframe tbody tr th {\n",
       "        vertical-align: top;\n",
       "    }\n",
       "\n",
       "    .dataframe thead th {\n",
       "        text-align: right;\n",
       "    }\n",
       "</style>\n",
       "<table border=\"1\" class=\"dataframe\">\n",
       "  <thead>\n",
       "    <tr style=\"text-align: right;\">\n",
       "      <th>sex_call</th>\n",
       "      <th>female</th>\n",
       "      <th>male</th>\n",
       "      <th>sex_unknown</th>\n",
       "    </tr>\n",
       "    <tr>\n",
       "      <th>site</th>\n",
       "      <th></th>\n",
       "      <th></th>\n",
       "      <th></th>\n",
       "    </tr>\n",
       "  </thead>\n",
       "  <tbody>\n",
       "    <tr>\n",
       "      <th>0</th>\n",
       "      <td>74</td>\n",
       "      <td>0</td>\n",
       "      <td>0</td>\n",
       "    </tr>\n",
       "    <tr>\n",
       "      <th>1</th>\n",
       "      <td>41</td>\n",
       "      <td>0</td>\n",
       "      <td>0</td>\n",
       "    </tr>\n",
       "    <tr>\n",
       "      <th>2</th>\n",
       "      <td>11</td>\n",
       "      <td>12</td>\n",
       "      <td>0</td>\n",
       "    </tr>\n",
       "    <tr>\n",
       "      <th>3</th>\n",
       "      <td>77</td>\n",
       "      <td>4</td>\n",
       "      <td>0</td>\n",
       "    </tr>\n",
       "    <tr>\n",
       "      <th>4</th>\n",
       "      <td>43</td>\n",
       "      <td>0</td>\n",
       "      <td>0</td>\n",
       "    </tr>\n",
       "  </tbody>\n",
       "</table>\n",
       "</div>"
      ],
      "text/plain": [
       "sex_call  female  male  sex_unknown\n",
       "site                               \n",
       "0             74     0            0\n",
       "1             41     0            0\n",
       "2             11    12            0\n",
       "3             77     4            0\n",
       "4             43     0            0"
      ]
     },
     "execution_count": 5,
     "metadata": {},
     "output_type": "execute_result"
    }
   ],
   "source": [
    "sex_call = pd.crosstab(df_10_meta.site, df_10_meta.sex_call)\n",
    "sex_call.rename({\"F\": \"female\", \"M\": \"male\", \"UKN\": \"sex_unknown\"}, axis=1, inplace=True)\n",
    "sex_call.head()"
   ]
  },
  {
   "cell_type": "markdown",
   "metadata": {},
   "source": [
    "### get building"
   ]
  },
  {
   "cell_type": "markdown",
   "metadata": {},
   "source": [
    "- fix types\n",
    "- rename and re-order columns\n",
    "- need to discuss the location - some sites have multiple locations for same lon/lat"
   ]
  },
  {
   "cell_type": "code",
   "execution_count": 24,
   "metadata": {},
   "outputs": [],
   "source": [
    "#reindex and join\n",
    "df_10 =  df_10.set_index('site')\n",
    "df_10_final = df_10.join([arab_call, colu_call, sex_call])"
   ]
  },
  {
   "cell_type": "code",
   "execution_count": 70,
   "metadata": {},
   "outputs": [],
   "source": [
    "#add locations - must be a better way of doing this using merge maybe?\n",
    "site = []\n",
    "for _, row in df_10_final.iterrows():\n",
    "    all_site = df_meta[(df_meta.latitude == row.latitude) & (df_meta.longitude == row.longitude)].copy()\n",
    "    if all_site.location.unique()[0] != 'Mtsamboro Forest Reserve':\n",
    "        site.append(all_site.location.unique()[0])\n",
    "    else:\n",
    "        site.append('Mayotte')\n",
    "df_10_final['site'] = site\n",
    "#fix_mayotte"
   ]
  },
  {
   "cell_type": "code",
   "execution_count": 74,
   "metadata": {},
   "outputs": [
    {
     "data": {
      "text/html": [
       "<div>\n",
       "<style scoped>\n",
       "    .dataframe tbody tr th:only-of-type {\n",
       "        vertical-align: middle;\n",
       "    }\n",
       "\n",
       "    .dataframe tbody tr th {\n",
       "        vertical-align: top;\n",
       "    }\n",
       "\n",
       "    .dataframe thead th {\n",
       "        text-align: right;\n",
       "    }\n",
       "</style>\n",
       "<table border=\"1\" class=\"dataframe\">\n",
       "  <thead>\n",
       "    <tr style=\"text-align: right;\">\n",
       "      <th></th>\n",
       "      <th>latitude</th>\n",
       "      <th>longitude</th>\n",
       "      <th>country</th>\n",
       "      <th>counts</th>\n",
       "      <th>site</th>\n",
       "      <th>arabiensis</th>\n",
       "      <th>gamb_colu</th>\n",
       "      <th>intermediate</th>\n",
       "      <th>coluzzii</th>\n",
       "      <th>gambiae</th>\n",
       "      <th>gambiae/coluzzii</th>\n",
       "      <th>female</th>\n",
       "      <th>male</th>\n",
       "      <th>sex_unknown</th>\n",
       "    </tr>\n",
       "  </thead>\n",
       "  <tbody>\n",
       "    <tr>\n",
       "      <th>0</th>\n",
       "      <td>-23.716000</td>\n",
       "      <td>35.299000</td>\n",
       "      <td>Mozambique</td>\n",
       "      <td>74</td>\n",
       "      <td>Furvela</td>\n",
       "      <td>0</td>\n",
       "      <td>74</td>\n",
       "      <td>0</td>\n",
       "      <td>0.0</td>\n",
       "      <td>74.0</td>\n",
       "      <td>0.0</td>\n",
       "      <td>74</td>\n",
       "      <td>0</td>\n",
       "      <td>0</td>\n",
       "    </tr>\n",
       "    <tr>\n",
       "      <th>1</th>\n",
       "      <td>-15.933000</td>\n",
       "      <td>34.755000</td>\n",
       "      <td>Malawi</td>\n",
       "      <td>41</td>\n",
       "      <td>Chikhwawa</td>\n",
       "      <td>41</td>\n",
       "      <td>0</td>\n",
       "      <td>0</td>\n",
       "      <td>NaN</td>\n",
       "      <td>NaN</td>\n",
       "      <td>NaN</td>\n",
       "      <td>41</td>\n",
       "      <td>0</td>\n",
       "      <td>0</td>\n",
       "    </tr>\n",
       "    <tr>\n",
       "      <th>2</th>\n",
       "      <td>-12.857087</td>\n",
       "      <td>45.137435</td>\n",
       "      <td>Mayotte</td>\n",
       "      <td>23</td>\n",
       "      <td>Mayotte</td>\n",
       "      <td>0</td>\n",
       "      <td>23</td>\n",
       "      <td>0</td>\n",
       "      <td>0.0</td>\n",
       "      <td>23.0</td>\n",
       "      <td>0.0</td>\n",
       "      <td>11</td>\n",
       "      <td>12</td>\n",
       "      <td>0</td>\n",
       "    </tr>\n",
       "    <tr>\n",
       "      <th>3</th>\n",
       "      <td>-8.884000</td>\n",
       "      <td>13.302000</td>\n",
       "      <td>Angola</td>\n",
       "      <td>81</td>\n",
       "      <td>Luanda</td>\n",
       "      <td>0</td>\n",
       "      <td>81</td>\n",
       "      <td>0</td>\n",
       "      <td>81.0</td>\n",
       "      <td>0.0</td>\n",
       "      <td>0.0</td>\n",
       "      <td>77</td>\n",
       "      <td>4</td>\n",
       "      <td>0</td>\n",
       "    </tr>\n",
       "    <tr>\n",
       "      <th>4</th>\n",
       "      <td>-4.940000</td>\n",
       "      <td>38.948000</td>\n",
       "      <td>Tanzania</td>\n",
       "      <td>43</td>\n",
       "      <td>Muheza</td>\n",
       "      <td>1</td>\n",
       "      <td>42</td>\n",
       "      <td>0</td>\n",
       "      <td>0.0</td>\n",
       "      <td>36.0</td>\n",
       "      <td>6.0</td>\n",
       "      <td>43</td>\n",
       "      <td>0</td>\n",
       "      <td>0</td>\n",
       "    </tr>\n",
       "  </tbody>\n",
       "</table>\n",
       "</div>"
      ],
      "text/plain": [
       "    latitude  longitude     country  counts       site  arabiensis  gamb_colu  \\\n",
       "0 -23.716000  35.299000  Mozambique      74    Furvela           0         74   \n",
       "1 -15.933000  34.755000      Malawi      41  Chikhwawa          41          0   \n",
       "2 -12.857087  45.137435     Mayotte      23    Mayotte           0         23   \n",
       "3  -8.884000  13.302000      Angola      81     Luanda           0         81   \n",
       "4  -4.940000  38.948000    Tanzania      43     Muheza           1         42   \n",
       "\n",
       "   intermediate  coluzzii  gambiae  gambiae/coluzzii  female  male  \\\n",
       "0             0       0.0     74.0               0.0      74     0   \n",
       "1             0       NaN      NaN               NaN      41     0   \n",
       "2             0       0.0     23.0               0.0      11    12   \n",
       "3             0      81.0      0.0               0.0      77     4   \n",
       "4             0       0.0     36.0               6.0      43     0   \n",
       "\n",
       "   sex_unknown  \n",
       "0            0  \n",
       "1            0  \n",
       "2            0  \n",
       "3            0  \n",
       "4            0  "
      ]
     },
     "execution_count": 74,
     "metadata": {},
     "output_type": "execute_result"
    }
   ],
   "source": [
    "df_10_final.head()"
   ]
  },
  {
   "cell_type": "code",
   "execution_count": 49,
   "metadata": {},
   "outputs": [],
   "source": []
  },
  {
   "cell_type": "markdown",
   "metadata": {},
   "source": [
    "### get paid"
   ]
  },
  {
   "cell_type": "code",
   "execution_count": null,
   "metadata": {},
   "outputs": [],
   "source": []
  }
 ],
 "metadata": {
  "kernelspec": {
   "display_name": "Python 3",
   "language": "python",
   "name": "python3"
  },
  "language_info": {
   "codemirror_mode": {
    "name": "ipython",
    "version": 3
   },
   "file_extension": ".py",
   "mimetype": "text/x-python",
   "name": "python",
   "nbconvert_exporter": "python",
   "pygments_lexer": "ipython3",
   "version": "3.7.6"
  }
 },
 "nbformat": 4,
 "nbformat_minor": 4
}
