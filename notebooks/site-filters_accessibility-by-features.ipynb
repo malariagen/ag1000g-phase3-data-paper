{
 "cells": [
  {
   "cell_type": "code",
   "execution_count": 1,
   "metadata": {},
   "outputs": [
    {
     "name": "stderr",
     "output_type": "stream",
     "text": [
      "/opt/conda/lib/python3.7/site-packages/dask/dataframe/utils.py:14: FutureWarning: pandas.util.testing is deprecated. Use the functions in the public API at pandas.testing instead.\n",
      "  import pandas.util.testing as tm\n"
     ]
    }
   ],
   "source": [
    "import ag2, ag3\n",
    "\n",
    "ag2_release = ag2.release_data()\n",
    "ag3_release = ag3.release_data()"
   ]
  },
  {
   "cell_type": "code",
   "execution_count": 2,
   "metadata": {},
   "outputs": [],
   "source": [
    "import pandas as pd\n",
    "import numpy as np"
   ]
  },
  {
   "cell_type": "code",
   "execution_count": 3,
   "metadata": {},
   "outputs": [],
   "source": [
    "def load_accessibility(chrom, mask_id='gamb_colu'):\n",
    "    \n",
    "    if mask_id == \"phase2\":\n",
    "\n",
    "        phase2_is_accessible = ag2_release.load_is_accessible(chrom)\n",
    "        filter_n = ag2_release.load_filter_n(chrom)\n",
    "        phase2_is_accessible_nonN = da.compress(\n",
    "            ~filter_n, phase2_is_accessible, axis=0)\n",
    "\n",
    "        # Compute chunk sizes avoids this error when c\n",
    "        # concatenating arrays: ValueError: Arrays chunk sizes are unknown: (nan,)\n",
    "        phase2_is_accessible_nonN.compute_chunk_sizes() \n",
    "        return phase2_is_accessible_nonN\n",
    "    \n",
    "    else:\n",
    "        return ag3_release.load_mask(chrom, mask_id=mask_id)"
   ]
  },
  {
   "cell_type": "markdown",
   "metadata": {},
   "source": [
    "## For given genomic regions, summarize accessibility\n",
    "\n",
    "### What about \"N\" sites?\n",
    "\n",
    "N sites are currently NOT included. \n",
    "\n",
    "If a feature contains many N sites- these are not considered in the % calculation.\n"
   ]
  },
  {
   "cell_type": "code",
   "execution_count": 4,
   "metadata": {},
   "outputs": [],
   "source": [
    "features =  \"\"\"\n",
    "2La     inv     2L      20528089        42165182\n",
    "2Rb     inv     2R      19444433        26313071\n",
    "2Rj     inv     2R      3262186 15750717\n",
    "2Rc     inv     2R      26780000        31450000\n",
    "2Ru     inv     2R      31480000        35500000\n",
    "2Rd     inv     2R      33575891        41360919\n",
    "2Rk     inv     2R      25146360        30717395\n",
    "CHX     chro    X       20009764        24393108\n",
    "CH2R    chro    2R      58984778        61545105\n",
    "CH2L    chro    2L      1       2431617\n",
    "PEU2L   chro    2L      2487770 5042389\n",
    "IH2L    chro    2L      5078962 5788875\n",
    "IH3R    chro    3R      38988757        41860198\n",
    "CH3R    chro    3R      52161877        53200684\n",
    "CH3L    chro    3L      1       1815119\n",
    "PEU3L   chro    3L      1896830 4235209\n",
    "IH3L    chro    3L      4264713 5031692\n",
    "\"\"\"\n",
    "# via Thiago Antao"
   ]
  },
  {
   "cell_type": "code",
   "execution_count": 5,
   "metadata": {},
   "outputs": [],
   "source": [
    "features_df = pd.DataFrame(\n",
    "    [x.split() for x in features.strip().split(\"\\n\")], columns=[\"id\", \"type\", \"seq_id\", \"start\", \"stop\"])\n",
    "\n",
    "features_df.start = features_df.start.astype(np.int32)\n",
    "features_df.stop = features_df.stop.astype(np.int32)\n",
    "    \n",
    "    #dtype={\"start\": np.int32, \"stop\": np.int32})"
   ]
  },
  {
   "cell_type": "code",
   "execution_count": 6,
   "metadata": {},
   "outputs": [],
   "source": [
    "features_df[\"type\"] = features_df.type.map({\"inv\": \"inversion\", \"chro\": \"chromatin\"})"
   ]
  },
  {
   "cell_type": "code",
   "execution_count": 7,
   "metadata": {},
   "outputs": [],
   "source": [
    "chromosomes = [\"2R\", \"2L\", \"3R\", \"3L\", \"X\"]"
   ]
  },
  {
   "cell_type": "code",
   "execution_count": 8,
   "metadata": {},
   "outputs": [],
   "source": [
    "avail_masks = [\"gamb_colu\", \"arab\", \"gamb_colu_arab\", \"phase2\"]"
   ]
  },
  {
   "cell_type": "code",
   "execution_count": 9,
   "metadata": {},
   "outputs": [],
   "source": [
    "features_by_chrom = features_df.groupby(\"seq_id\")"
   ]
  },
  {
   "cell_type": "code",
   "execution_count": 10,
   "metadata": {},
   "outputs": [],
   "source": [
    "import allel"
   ]
  },
  {
   "cell_type": "code",
   "execution_count": 11,
   "metadata": {},
   "outputs": [],
   "source": [
    "out = pd.DataFrame(columns=features_df.columns)"
   ]
  },
  {
   "cell_type": "code",
   "execution_count": 12,
   "metadata": {},
   "outputs": [
    {
     "ename": "NameError",
     "evalue": "name 'da' is not defined",
     "output_type": "error",
     "traceback": [
      "\u001b[0;31m---------------------------------------------------------------------------\u001b[0m",
      "\u001b[0;31mNameError\u001b[0m                                 Traceback (most recent call last)",
      "\u001b[0;32m<ipython-input-12-7953f8752b08>\u001b[0m in \u001b[0;36m<module>\u001b[0;34m\u001b[0m\n\u001b[1;32m      7\u001b[0m     \u001b[0;32mfor\u001b[0m \u001b[0mmask_name\u001b[0m \u001b[0;32min\u001b[0m \u001b[0mavail_masks\u001b[0m\u001b[0;34m:\u001b[0m\u001b[0;34m\u001b[0m\u001b[0;34m\u001b[0m\u001b[0m\n\u001b[1;32m      8\u001b[0m \u001b[0;34m\u001b[0m\u001b[0m\n\u001b[0;32m----> 9\u001b[0;31m         \u001b[0mmask\u001b[0m \u001b[0;34m=\u001b[0m \u001b[0mload_accessibility\u001b[0m\u001b[0;34m(\u001b[0m\u001b[0mchrom\u001b[0m\u001b[0;34m,\u001b[0m \u001b[0mmask_name\u001b[0m\u001b[0;34m)\u001b[0m\u001b[0;34m\u001b[0m\u001b[0;34m\u001b[0m\u001b[0m\n\u001b[0m\u001b[1;32m     10\u001b[0m         \u001b[0;32massert\u001b[0m \u001b[0mmask\u001b[0m\u001b[0;34m.\u001b[0m\u001b[0mshape\u001b[0m \u001b[0;34m==\u001b[0m \u001b[0mpos\u001b[0m\u001b[0;34m.\u001b[0m\u001b[0mshape\u001b[0m\u001b[0;34m\u001b[0m\u001b[0;34m\u001b[0m\u001b[0m\n\u001b[1;32m     11\u001b[0m \u001b[0;34m\u001b[0m\u001b[0m\n",
      "\u001b[0;32m<ipython-input-3-0cdb3976dc46>\u001b[0m in \u001b[0;36mload_accessibility\u001b[0;34m(chrom, mask_id)\u001b[0m\n\u001b[1;32m      5\u001b[0m         \u001b[0mphase2_is_accessible\u001b[0m \u001b[0;34m=\u001b[0m \u001b[0mag2_release\u001b[0m\u001b[0;34m.\u001b[0m\u001b[0mload_is_accessible\u001b[0m\u001b[0;34m(\u001b[0m\u001b[0mchrom\u001b[0m\u001b[0;34m)\u001b[0m\u001b[0;34m\u001b[0m\u001b[0;34m\u001b[0m\u001b[0m\n\u001b[1;32m      6\u001b[0m         \u001b[0mfilter_n\u001b[0m \u001b[0;34m=\u001b[0m \u001b[0mag2_release\u001b[0m\u001b[0;34m.\u001b[0m\u001b[0mload_filter_n\u001b[0m\u001b[0;34m(\u001b[0m\u001b[0mchrom\u001b[0m\u001b[0;34m)\u001b[0m\u001b[0;34m\u001b[0m\u001b[0;34m\u001b[0m\u001b[0m\n\u001b[0;32m----> 7\u001b[0;31m         phase2_is_accessible_nonN = da.compress(\n\u001b[0m\u001b[1;32m      8\u001b[0m             ~filter_n, phase2_is_accessible, axis=0)\n\u001b[1;32m      9\u001b[0m \u001b[0;34m\u001b[0m\u001b[0m\n",
      "\u001b[0;31mNameError\u001b[0m: name 'da' is not defined"
     ]
    }
   ],
   "source": [
    "out_list = []\n",
    "\n",
    "for chrom, df in features_by_chrom:\n",
    "    \n",
    "    pos = allel.SortedIndex(ag3_release.load_variants(chrom).compute())\n",
    "    \n",
    "    for mask_name in avail_masks:\n",
    "        \n",
    "        mask = load_accessibility(chrom, mask_name)\n",
    "        assert mask.shape == pos.shape\n",
    "        \n",
    "        for _, row in df.iterrows():\n",
    "            \n",
    "            ix = pos.locate_range(row.start, row.stop)\n",
    "            \n",
    "            # computing the mean is ok- as it allows us to silently handle Ns, which are ignored.\n",
    "            access = mask[ix].mean().compute()\n",
    "            out_list.append([mask_name, chrom, row.id, row.type, row.start, row.stop, access])\n",
    "            \n",
    "        out_list.append([mask_name, chrom, chrom, \"contig\", 1, pos[-1], mask.mean().compute()])"
   ]
  },
  {
   "cell_type": "code",
   "execution_count": null,
   "metadata": {},
   "outputs": [],
   "source": [
    "result_df = pd.DataFrame(out_list, columns=[\"mask_id\", \"chrom\", \"feature_name\", \"type\", \"start\", \"stop\", \"frac_accessible\"])"
   ]
  },
  {
   "cell_type": "code",
   "execution_count": null,
   "metadata": {},
   "outputs": [],
   "source": [
    "result_df[\"type\"] = pd.Categorical(result_df.type, [\"contig\", \"inversion\", \"chromatin\"], ordered=True)"
   ]
  },
  {
   "cell_type": "code",
   "execution_count": null,
   "metadata": {},
   "outputs": [],
   "source": [
    "result_df.sort_values([\"mask_id\", \"type\", \"chrom\", \"start\"], inplace=True)"
   ]
  },
  {
   "cell_type": "code",
   "execution_count": null,
   "metadata": {},
   "outputs": [],
   "source": [
    "result_df.head()"
   ]
  },
  {
   "cell_type": "code",
   "execution_count": null,
   "metadata": {},
   "outputs": [],
   "source": [
    "for label, df in result_df.groupby(\"mask_id\"):\n",
    "    df.drop(\"mask_id\", axis=1).to_csv(f\"../content/tables/accessibility/accessibility_features_{label}.csv\", float_format=\"%.3f\", index=False)"
   ]
  },
  {
   "cell_type": "code",
   "execution_count": null,
   "metadata": {},
   "outputs": [],
   "source": [
    "result_df"
   ]
  },
  {
   "cell_type": "markdown",
   "metadata": {},
   "source": [
    "## Over the exome"
   ]
  },
  {
   "cell_type": "code",
   "execution_count": null,
   "metadata": {},
   "outputs": [],
   "source": [
    "exon_data = {}\n",
    "wg_data = {}"
   ]
  },
  {
   "cell_type": "code",
   "execution_count": null,
   "metadata": {},
   "outputs": [],
   "source": [
    "gff_geneset = \"../../Anopheles-gambiae-PEST_BASEFEATURES_AgamP4.12.gff3.gz\""
   ]
  },
  {
   "cell_type": "code",
   "execution_count": null,
   "metadata": {},
   "outputs": [],
   "source": [
    "for chrom in chromosomes:\n",
    "    \n",
    "    exons = gene_features = allel.gff3_to_dataframe(\n",
    "        gff_geneset, \n",
    "        attributes=[\"ID\"]).query(\"(seqid == @chrom) & (type == 'exon')\")\n",
    "    \n",
    "    pos = allel.SortedIndex(ag3_release.load_variants(chrom).compute())    \n",
    "    \n",
    "    for mask_name in avail_masks:\n",
    "        \n",
    "        mask = load_accessibility(chrom, mask_name).compute()\n",
    "        \n",
    "        locv, _ = pos.locate_intersection_ranges(exons.start, exons.end)\n",
    "        \n",
    "        v = np.compress(locv, mask, axis=0)\n",
    "        \n",
    "        exon_data[mask_name, chrom] = pd.Series([v.sum(), locv.sum()], index=[\"n_accessible\", \"n_total_bases\"], dtype=np.int32)\n",
    "        \n",
    "        wg_data[mask_name, chrom] = pd.Series([mask.sum(), mask.shape[0]], index=[\"n_accessible\", \"n_total_bases\"], dtype=np.int32)"
   ]
  },
  {
   "cell_type": "markdown",
   "metadata": {},
   "source": [
    "## whole exome"
   ]
  },
  {
   "cell_type": "code",
   "execution_count": null,
   "metadata": {},
   "outputs": [],
   "source": [
    "exon_counts = pd.DataFrame.from_dict(exon_data, orient=\"index\")\n",
    "exon_counts.index.names = [\"mask_id\", \"chrom\"]\n",
    "exon_counts"
   ]
  },
  {
   "cell_type": "code",
   "execution_count": null,
   "metadata": {},
   "outputs": [],
   "source": [
    "whole_exome_sum = exon_counts.groupby(level=0).agg(sum)\n",
    "whole_exome_sum[\"frac_accessible\"] = whole_exome_sum[\"n_accessible\"] / whole_exome_sum[\"n_total_bases\"]\n",
    "whole_exome_sum"
   ]
  },
  {
   "cell_type": "markdown",
   "metadata": {},
   "source": [
    "## whole genome"
   ]
  },
  {
   "cell_type": "code",
   "execution_count": null,
   "metadata": {},
   "outputs": [],
   "source": [
    "wg_counts = pd.DataFrame.from_dict(wg_data, orient=\"index\")\n",
    "wg_counts.index.names = [\"mask_id\", \"chrom\"]\n",
    "wg_counts"
   ]
  },
  {
   "cell_type": "code",
   "execution_count": null,
   "metadata": {},
   "outputs": [],
   "source": [
    "whole_genome_sum = wg_counts.groupby(level=0).agg(sum)\n",
    "whole_genome_sum[\"frac_accessible\"] = whole_genome_sum[\"n_accessible\"] / whole_genome_sum[\"n_total_bases\"]\n",
    "whole_genome_sum"
   ]
  },
  {
   "cell_type": "code",
   "execution_count": null,
   "metadata": {},
   "outputs": [],
   "source": []
  }
 ],
 "metadata": {
  "kernelspec": {
   "display_name": "Python 3",
   "language": "python",
   "name": "python3"
  },
  "language_info": {
   "codemirror_mode": {
    "name": "ipython",
    "version": 3
   },
   "file_extension": ".py",
   "mimetype": "text/x-python",
   "name": "python",
   "nbconvert_exporter": "python",
   "pygments_lexer": "ipython3",
   "version": "3.7.6"
  }
 },
 "nbformat": 4,
 "nbformat_minor": 4
}
