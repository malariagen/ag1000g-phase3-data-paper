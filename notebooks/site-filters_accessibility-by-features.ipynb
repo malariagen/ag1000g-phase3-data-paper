{
 "cells": [
  {
   "cell_type": "code",
   "execution_count": 1,
   "metadata": {},
   "outputs": [],
   "source": [
    "from ag3 import release_data\n",
    "v3 = release_data()"
   ]
  },
  {
   "cell_type": "code",
   "execution_count": 2,
   "metadata": {},
   "outputs": [],
   "source": [
    "import pandas as pd\n",
    "import numpy as np"
   ]
  },
  {
   "cell_type": "markdown",
   "metadata": {},
   "source": [
    "For given genomic regions, summarize accessibility"
   ]
  },
  {
   "cell_type": "code",
   "execution_count": 3,
   "metadata": {},
   "outputs": [],
   "source": [
    "features =  \"\"\"\n",
    "2La     inv     2L      20528089        42165182\n",
    "2Rb     inv     2R      19444433        26313071\n",
    "2Rj     inv     2R      3262186 15750717\n",
    "2Rc     inv     2R      26780000        31450000\n",
    "2Ru     inv     2R      31480000        35500000\n",
    "2Rd     inv     2R      33575891        41360919\n",
    "2Rk     inv     2R      25146360        30717395\n",
    "CHX     chro    X       20009764        24393108\n",
    "CH2R    chro    2R      58984778        61545105\n",
    "CH2L    chro    2L      1       2431617\n",
    "PEU2L   chro    2L      2487770 5042389\n",
    "IH2L    chro    2L      5078962 5788875\n",
    "IH3R    chro    3R      38988757        41860198\n",
    "CH3R    chro    3R      52161877        53200684\n",
    "CH3L    chro    3L      1       1815119\n",
    "PEU3L   chro    3L      1896830 4235209\n",
    "IH3L    chro    3L      4264713 5031692\n",
    "\"\"\"\n",
    "# via Thiago Antao"
   ]
  },
  {
   "cell_type": "code",
   "execution_count": 4,
   "metadata": {},
   "outputs": [],
   "source": [
    "features_df = pd.DataFrame(\n",
    "    [x.split() for x in features.strip().split(\"\\n\")], columns=[\"id\", \"type\", \"seq_id\", \"start\", \"stop\"])\n",
    "\n",
    "features_df.start = features_df.start.astype(np.int32)\n",
    "features_df.stop = features_df.stop.astype(np.int32)\n",
    "    \n",
    "    #dtype={\"start\": np.int32, \"stop\": np.int32})"
   ]
  },
  {
   "cell_type": "code",
   "execution_count": 5,
   "metadata": {},
   "outputs": [],
   "source": [
    "features_df[\"type\"] = features_df.type.map({\"inv\": \"inversion\", \"chro\": \"chromatin\"})"
   ]
  },
  {
   "cell_type": "code",
   "execution_count": 6,
   "metadata": {},
   "outputs": [],
   "source": [
    "chromosomes = [\"2R\", \"2L\", \"3R\", \"3L\", \"X\"]"
   ]
  },
  {
   "cell_type": "code",
   "execution_count": 7,
   "metadata": {},
   "outputs": [],
   "source": [
    "avail_masks = [\"gamb_colu\", \"arab\", \"gamb_colu_arab\"]"
   ]
  },
  {
   "cell_type": "code",
   "execution_count": 8,
   "metadata": {},
   "outputs": [],
   "source": [
    "features_by_chrom = features_df.groupby(\"seq_id\")"
   ]
  },
  {
   "cell_type": "code",
   "execution_count": 9,
   "metadata": {},
   "outputs": [],
   "source": [
    "import allel"
   ]
  },
  {
   "cell_type": "code",
   "execution_count": 10,
   "metadata": {},
   "outputs": [],
   "source": [
    "out = pd.DataFrame(columns=features_df.columns)"
   ]
  },
  {
   "cell_type": "code",
   "execution_count": 11,
   "metadata": {},
   "outputs": [],
   "source": [
    "out_list = []\n",
    "\n",
    "for chrom, df in features_by_chrom:\n",
    "    \n",
    "    pos = allel.SortedIndex(v3.load_variants(chrom).compute())\n",
    "    \n",
    "    for mask_name in avail_masks:\n",
    "        \n",
    "        mask = v3.load_mask(chrom, mask_name)\n",
    "        assert mask.shape == pos.shape\n",
    "        \n",
    "        for _, row in df.iterrows():\n",
    "            \n",
    "            ix = pos.locate_range(row.start, row.stop)\n",
    "            \n",
    "            access = mask[ix].mean().compute()\n",
    "            out_list.append([mask_name, chrom, row.id, row.type, row.start, row.stop, access])\n",
    "            \n",
    "        out_list.append([mask_name, chrom, chrom, \"contig\", 1, pos[-1], mask.mean().compute()])"
   ]
  },
  {
   "cell_type": "code",
   "execution_count": 12,
   "metadata": {},
   "outputs": [],
   "source": [
    "result_df = pd.DataFrame(out_list, columns=[\"mask_id\", \"chrom\", \"feature_name\", \"type\", \"start\", \"stop\", \"frac_accessible\"])"
   ]
  },
  {
   "cell_type": "code",
   "execution_count": 20,
   "metadata": {},
   "outputs": [],
   "source": [
    "result_df[\"type\"] = pd.Categorical(result_df.type, [\"contig\", \"inversion\", \"chromatin\"], ordered=True)"
   ]
  },
  {
   "cell_type": "code",
   "execution_count": 21,
   "metadata": {},
   "outputs": [],
   "source": [
    "result_df.sort_values([\"mask_id\", \"type\", \"chrom\", \"start\"], inplace=True)"
   ]
  },
  {
   "cell_type": "code",
   "execution_count": 22,
   "metadata": {},
   "outputs": [
    {
     "data": {
      "text/html": [
       "<div>\n",
       "<style scoped>\n",
       "    .dataframe tbody tr th:only-of-type {\n",
       "        vertical-align: middle;\n",
       "    }\n",
       "\n",
       "    .dataframe tbody tr th {\n",
       "        vertical-align: top;\n",
       "    }\n",
       "\n",
       "    .dataframe thead th {\n",
       "        text-align: right;\n",
       "    }\n",
       "</style>\n",
       "<table border=\"1\" class=\"dataframe\">\n",
       "  <thead>\n",
       "    <tr style=\"text-align: right;\">\n",
       "      <th></th>\n",
       "      <th>mask_id</th>\n",
       "      <th>chrom</th>\n",
       "      <th>feature_name</th>\n",
       "      <th>type</th>\n",
       "      <th>start</th>\n",
       "      <th>stop</th>\n",
       "      <th>frac_accessible</th>\n",
       "    </tr>\n",
       "  </thead>\n",
       "  <tbody>\n",
       "    <tr>\n",
       "      <th>9</th>\n",
       "      <td>arab</td>\n",
       "      <td>2L</td>\n",
       "      <td>2L</td>\n",
       "      <td>contig</td>\n",
       "      <td>1</td>\n",
       "      <td>49364325</td>\n",
       "      <td>0.725773</td>\n",
       "    </tr>\n",
       "    <tr>\n",
       "      <th>30</th>\n",
       "      <td>arab</td>\n",
       "      <td>2R</td>\n",
       "      <td>2R</td>\n",
       "      <td>contig</td>\n",
       "      <td>1</td>\n",
       "      <td>61545105</td>\n",
       "      <td>0.735970</td>\n",
       "    </tr>\n",
       "    <tr>\n",
       "      <th>46</th>\n",
       "      <td>arab</td>\n",
       "      <td>3L</td>\n",
       "      <td>3L</td>\n",
       "      <td>contig</td>\n",
       "      <td>1</td>\n",
       "      <td>41963435</td>\n",
       "      <td>0.696811</td>\n",
       "    </tr>\n",
       "    <tr>\n",
       "      <th>56</th>\n",
       "      <td>arab</td>\n",
       "      <td>3R</td>\n",
       "      <td>3R</td>\n",
       "      <td>contig</td>\n",
       "      <td>1</td>\n",
       "      <td>53200684</td>\n",
       "      <td>0.697803</td>\n",
       "    </tr>\n",
       "    <tr>\n",
       "      <th>63</th>\n",
       "      <td>arab</td>\n",
       "      <td>X</td>\n",
       "      <td>X</td>\n",
       "      <td>contig</td>\n",
       "      <td>1</td>\n",
       "      <td>24393108</td>\n",
       "      <td>0.533184</td>\n",
       "    </tr>\n",
       "  </tbody>\n",
       "</table>\n",
       "</div>"
      ],
      "text/plain": [
       "   mask_id chrom feature_name    type  start      stop  frac_accessible\n",
       "9     arab    2L           2L  contig      1  49364325         0.725773\n",
       "30    arab    2R           2R  contig      1  61545105         0.735970\n",
       "46    arab    3L           3L  contig      1  41963435         0.696811\n",
       "56    arab    3R           3R  contig      1  53200684         0.697803\n",
       "63    arab     X            X  contig      1  24393108         0.533184"
      ]
     },
     "execution_count": 22,
     "metadata": {},
     "output_type": "execute_result"
    }
   ],
   "source": [
    "result_df.head()"
   ]
  },
  {
   "cell_type": "code",
   "execution_count": 24,
   "metadata": {},
   "outputs": [],
   "source": [
    "for label, df in result_df.groupby(\"mask_id\"):\n",
    "    df.drop(\"mask_id\", axis=1).to_csv(f\"../content/tables/accessibility_features_{label}.csv\", float_format=\"%.3f\", index=False)"
   ]
  },
  {
   "cell_type": "code",
   "execution_count": null,
   "metadata": {},
   "outputs": [],
   "source": []
  }
 ],
 "metadata": {
  "kernelspec": {
   "display_name": "Python 3",
   "language": "python",
   "name": "python3"
  },
  "language_info": {
   "codemirror_mode": {
    "name": "ipython",
    "version": 3
   },
   "file_extension": ".py",
   "mimetype": "text/x-python",
   "name": "python",
   "nbconvert_exporter": "python",
   "pygments_lexer": "ipython3",
   "version": "3.7.6"
  }
 },
 "nbformat": 4,
 "nbformat_minor": 4
}
