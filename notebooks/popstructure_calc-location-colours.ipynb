{
 "cells": [
  {
   "cell_type": "markdown",
   "metadata": {},
   "source": [
    "# Calculate location colours\n",
    "The colours for locations are calcuated and stored as a YAML file."
   ]
  },
  {
   "cell_type": "markdown",
   "metadata": {},
   "source": [
    "## Imports"
   ]
  },
  {
   "cell_type": "code",
   "execution_count": 1,
   "metadata": {},
   "outputs": [],
   "source": [
    "from ag3 import release_data\n",
    "ag3_data = release_data()"
   ]
  },
  {
   "cell_type": "code",
   "execution_count": 2,
   "metadata": {},
   "outputs": [],
   "source": [
    "import yaml\n",
    "import matplotlib.pyplot as plt\n",
    "import numpy as np\n",
    "import pandas as pd\n",
    "import allel"
   ]
  },
  {
   "cell_type": "code",
   "execution_count": 3,
   "metadata": {},
   "outputs": [],
   "source": [
    "from sklearn.decomposition import PCA\n",
    "from sklearn.preprocessing import StandardScaler"
   ]
  },
  {
   "cell_type": "code",
   "execution_count": 4,
   "metadata": {},
   "outputs": [],
   "source": [
    "import cartopy.crs as ccrs\n",
    "import matplotlib.cm as cm\n",
    "import matplotlib.colors as colors"
   ]
  },
  {
   "cell_type": "markdown",
   "metadata": {},
   "source": [
    "## Settings"
   ]
  },
  {
   "cell_type": "code",
   "execution_count": 5,
   "metadata": {},
   "outputs": [],
   "source": [
    "# https://matplotlib.org/examples/color/colormaps_reference.html\n",
    "colour_map = 'nipy_spectral' \n",
    "\n",
    "output_path = '../data/location_colours.yml'"
   ]
  },
  {
   "cell_type": "code",
   "execution_count": null,
   "metadata": {},
   "outputs": [],
   "source": []
  },
  {
   "cell_type": "markdown",
   "metadata": {},
   "source": [
    "## Show the specified colour map"
   ]
  },
  {
   "cell_type": "code",
   "execution_count": 6,
   "metadata": {},
   "outputs": [
    {
     "data": {
      "image/png": "[encoded data removed]",
      "text/plain": [
       "<Figure size 432x288 with 1 Axes>"
      ]
     },
     "metadata": {
      "needs_background": "light"
     },
     "output_type": "display_data"
    }
   ],
   "source": [
    "gradient = np.linspace(0, 1, 256)\n",
    "gradient = np.vstack((gradient, gradient))\n",
    "fig, ax = plt.subplots()\n",
    "ax.set_title(colour_map)\n",
    "ax.imshow(gradient, aspect='auto', cmap=plt.get_cmap(colour_map))\n",
    "ax.set_axis_off()\n",
    "plt.show()"
   ]
  },
  {
   "cell_type": "code",
   "execution_count": null,
   "metadata": {},
   "outputs": [],
   "source": []
  },
  {
   "cell_type": "markdown",
   "metadata": {},
   "source": [
    "## Get the locations of all of the wild samples"
   ]
  },
  {
   "cell_type": "code",
   "execution_count": 7,
   "metadata": {},
   "outputs": [
    {
     "name": "stderr",
     "output_type": "stream",
     "text": [
      "/opt/conda/lib/python3.7/site-packages/pandas/core/ops/array_ops.py:253: FutureWarning: elementwise comparison failed; returning scalar instead, but in the future will perform elementwise comparison\n",
      "  res_values = method(rvalues)\n"
     ]
    },
    {
     "data": {
      "text/html": [
       "<div>\n",
       "<style scoped>\n",
       "    .dataframe tbody tr th:only-of-type {\n",
       "        vertical-align: middle;\n",
       "    }\n",
       "\n",
       "    .dataframe tbody tr th {\n",
       "        vertical-align: top;\n",
       "    }\n",
       "\n",
       "    .dataframe thead th {\n",
       "        text-align: right;\n",
       "    }\n",
       "</style>\n",
       "<table border=\"1\" class=\"dataframe\">\n",
       "  <thead>\n",
       "    <tr style=\"text-align: right;\">\n",
       "      <th></th>\n",
       "      <th>partner_sample_id</th>\n",
       "      <th>contributor</th>\n",
       "      <th>country</th>\n",
       "      <th>location</th>\n",
       "      <th>year</th>\n",
       "      <th>month</th>\n",
       "      <th>latitude</th>\n",
       "      <th>longitude</th>\n",
       "      <th>sex_call</th>\n",
       "      <th>sample_set</th>\n",
       "      <th>aim_fraction_colu</th>\n",
       "      <th>aim_fraction_arab</th>\n",
       "      <th>species_gambcolu_arabiensis</th>\n",
       "      <th>species_gambiae_coluzzii</th>\n",
       "      <th>is_arabiensis</th>\n",
       "      <th>is_gamb_colu</th>\n",
       "      <th>is_gambiae</th>\n",
       "      <th>is_coluzzii</th>\n",
       "    </tr>\n",
       "    <tr>\n",
       "      <th>sample_id</th>\n",
       "      <th></th>\n",
       "      <th></th>\n",
       "      <th></th>\n",
       "      <th></th>\n",
       "      <th></th>\n",
       "      <th></th>\n",
       "      <th></th>\n",
       "      <th></th>\n",
       "      <th></th>\n",
       "      <th></th>\n",
       "      <th></th>\n",
       "      <th></th>\n",
       "      <th></th>\n",
       "      <th></th>\n",
       "      <th></th>\n",
       "      <th></th>\n",
       "      <th></th>\n",
       "      <th></th>\n",
       "    </tr>\n",
       "  </thead>\n",
       "  <tbody>\n",
       "    <tr>\n",
       "      <th>AR0047-C</th>\n",
       "      <td>LUA047</td>\n",
       "      <td>Joao Pinto</td>\n",
       "      <td>Angola</td>\n",
       "      <td>Luanda</td>\n",
       "      <td>2009</td>\n",
       "      <td>4</td>\n",
       "      <td>-8.884</td>\n",
       "      <td>13.302</td>\n",
       "      <td>F</td>\n",
       "      <td>AG1000G-AO</td>\n",
       "      <td>0.945</td>\n",
       "      <td>0.001</td>\n",
       "      <td>gamb_colu</td>\n",
       "      <td>coluzzii</td>\n",
       "      <td>False</td>\n",
       "      <td>True</td>\n",
       "      <td>False</td>\n",
       "      <td>True</td>\n",
       "    </tr>\n",
       "    <tr>\n",
       "      <th>AR0049-C</th>\n",
       "      <td>LUA049</td>\n",
       "      <td>Joao Pinto</td>\n",
       "      <td>Angola</td>\n",
       "      <td>Luanda</td>\n",
       "      <td>2009</td>\n",
       "      <td>4</td>\n",
       "      <td>-8.884</td>\n",
       "      <td>13.302</td>\n",
       "      <td>F</td>\n",
       "      <td>AG1000G-AO</td>\n",
       "      <td>0.933</td>\n",
       "      <td>0.001</td>\n",
       "      <td>gamb_colu</td>\n",
       "      <td>coluzzii</td>\n",
       "      <td>False</td>\n",
       "      <td>True</td>\n",
       "      <td>False</td>\n",
       "      <td>True</td>\n",
       "    </tr>\n",
       "    <tr>\n",
       "      <th>AR0051-C</th>\n",
       "      <td>LUA051</td>\n",
       "      <td>Joao Pinto</td>\n",
       "      <td>Angola</td>\n",
       "      <td>Luanda</td>\n",
       "      <td>2009</td>\n",
       "      <td>4</td>\n",
       "      <td>-8.884</td>\n",
       "      <td>13.302</td>\n",
       "      <td>F</td>\n",
       "      <td>AG1000G-AO</td>\n",
       "      <td>0.937</td>\n",
       "      <td>0.002</td>\n",
       "      <td>gamb_colu</td>\n",
       "      <td>coluzzii</td>\n",
       "      <td>False</td>\n",
       "      <td>True</td>\n",
       "      <td>False</td>\n",
       "      <td>True</td>\n",
       "    </tr>\n",
       "    <tr>\n",
       "      <th>AR0061-C</th>\n",
       "      <td>LUA061</td>\n",
       "      <td>Joao Pinto</td>\n",
       "      <td>Angola</td>\n",
       "      <td>Luanda</td>\n",
       "      <td>2009</td>\n",
       "      <td>4</td>\n",
       "      <td>-8.884</td>\n",
       "      <td>13.302</td>\n",
       "      <td>F</td>\n",
       "      <td>AG1000G-AO</td>\n",
       "      <td>0.938</td>\n",
       "      <td>0.002</td>\n",
       "      <td>gamb_colu</td>\n",
       "      <td>coluzzii</td>\n",
       "      <td>False</td>\n",
       "      <td>True</td>\n",
       "      <td>False</td>\n",
       "      <td>True</td>\n",
       "    </tr>\n",
       "    <tr>\n",
       "      <th>AR0078-C</th>\n",
       "      <td>LUA078</td>\n",
       "      <td>Joao Pinto</td>\n",
       "      <td>Angola</td>\n",
       "      <td>Luanda</td>\n",
       "      <td>2009</td>\n",
       "      <td>4</td>\n",
       "      <td>-8.884</td>\n",
       "      <td>13.302</td>\n",
       "      <td>F</td>\n",
       "      <td>AG1000G-AO</td>\n",
       "      <td>0.926</td>\n",
       "      <td>0.001</td>\n",
       "      <td>gamb_colu</td>\n",
       "      <td>coluzzii</td>\n",
       "      <td>False</td>\n",
       "      <td>True</td>\n",
       "      <td>False</td>\n",
       "      <td>True</td>\n",
       "    </tr>\n",
       "  </tbody>\n",
       "</table>\n",
       "</div>"
      ],
      "text/plain": [
       "          partner_sample_id contributor country location  year  month  \\\n",
       "sample_id                                                               \n",
       "AR0047-C             LUA047  Joao Pinto  Angola   Luanda  2009      4   \n",
       "AR0049-C             LUA049  Joao Pinto  Angola   Luanda  2009      4   \n",
       "AR0051-C             LUA051  Joao Pinto  Angola   Luanda  2009      4   \n",
       "AR0061-C             LUA061  Joao Pinto  Angola   Luanda  2009      4   \n",
       "AR0078-C             LUA078  Joao Pinto  Angola   Luanda  2009      4   \n",
       "\n",
       "           latitude  longitude sex_call  sample_set  aim_fraction_colu  \\\n",
       "sample_id                                                                \n",
       "AR0047-C     -8.884     13.302        F  AG1000G-AO              0.945   \n",
       "AR0049-C     -8.884     13.302        F  AG1000G-AO              0.933   \n",
       "AR0051-C     -8.884     13.302        F  AG1000G-AO              0.937   \n",
       "AR0061-C     -8.884     13.302        F  AG1000G-AO              0.938   \n",
       "AR0078-C     -8.884     13.302        F  AG1000G-AO              0.926   \n",
       "\n",
       "           aim_fraction_arab species_gambcolu_arabiensis  \\\n",
       "sample_id                                                  \n",
       "AR0047-C               0.001                   gamb_colu   \n",
       "AR0049-C               0.001                   gamb_colu   \n",
       "AR0051-C               0.002                   gamb_colu   \n",
       "AR0061-C               0.002                   gamb_colu   \n",
       "AR0078-C               0.001                   gamb_colu   \n",
       "\n",
       "          species_gambiae_coluzzii  is_arabiensis  is_gamb_colu  is_gambiae  \\\n",
       "sample_id                                                                     \n",
       "AR0047-C                  coluzzii          False          True       False   \n",
       "AR0049-C                  coluzzii          False          True       False   \n",
       "AR0051-C                  coluzzii          False          True       False   \n",
       "AR0061-C                  coluzzii          False          True       False   \n",
       "AR0078-C                  coluzzii          False          True       False   \n",
       "\n",
       "           is_coluzzii  \n",
       "sample_id               \n",
       "AR0047-C          True  \n",
       "AR0049-C          True  \n",
       "AR0051-C          True  \n",
       "AR0061-C          True  \n",
       "AR0078-C          True  "
      ]
     },
     "execution_count": 7,
     "metadata": {},
     "output_type": "execute_result"
    }
   ],
   "source": [
    "wild_sample_meta = ag3_data.load_sample_set_metadata(ag3_data.all_wild_sample_sets)\n",
    "wild_sample_meta.head()"
   ]
  },
  {
   "cell_type": "code",
   "execution_count": 8,
   "metadata": {},
   "outputs": [
    {
     "data": {
      "text/html": [
       "<div>\n",
       "<style scoped>\n",
       "    .dataframe tbody tr th:only-of-type {\n",
       "        vertical-align: middle;\n",
       "    }\n",
       "\n",
       "    .dataframe tbody tr th {\n",
       "        vertical-align: top;\n",
       "    }\n",
       "\n",
       "    .dataframe thead th {\n",
       "        text-align: right;\n",
       "    }\n",
       "</style>\n",
       "<table border=\"1\" class=\"dataframe\">\n",
       "  <thead>\n",
       "    <tr style=\"text-align: right;\">\n",
       "      <th></th>\n",
       "      <th>country</th>\n",
       "      <th>location</th>\n",
       "      <th>latitude</th>\n",
       "      <th>longitude</th>\n",
       "    </tr>\n",
       "  </thead>\n",
       "  <tbody>\n",
       "    <tr>\n",
       "      <th>0</th>\n",
       "      <td>Angola</td>\n",
       "      <td>Luanda</td>\n",
       "      <td>-8.884</td>\n",
       "      <td>13.302</td>\n",
       "    </tr>\n",
       "    <tr>\n",
       "      <th>1</th>\n",
       "      <td>Burkina Faso</td>\n",
       "      <td>Pala</td>\n",
       "      <td>11.150</td>\n",
       "      <td>-4.235</td>\n",
       "    </tr>\n",
       "    <tr>\n",
       "      <th>2</th>\n",
       "      <td>Burkina Faso</td>\n",
       "      <td>Bana</td>\n",
       "      <td>11.233</td>\n",
       "      <td>-4.472</td>\n",
       "    </tr>\n",
       "    <tr>\n",
       "      <th>3</th>\n",
       "      <td>Burkina Faso</td>\n",
       "      <td>Souroukoudinga</td>\n",
       "      <td>11.235</td>\n",
       "      <td>-4.535</td>\n",
       "    </tr>\n",
       "    <tr>\n",
       "      <th>4</th>\n",
       "      <td>Burkina Faso</td>\n",
       "      <td>Monomtenga</td>\n",
       "      <td>12.060</td>\n",
       "      <td>-1.170</td>\n",
       "    </tr>\n",
       "    <tr>\n",
       "      <th>...</th>\n",
       "      <td>...</td>\n",
       "      <td>...</td>\n",
       "      <td>...</td>\n",
       "      <td>...</td>\n",
       "    </tr>\n",
       "    <tr>\n",
       "      <th>121</th>\n",
       "      <td>Tanzania</td>\n",
       "      <td>Moshi</td>\n",
       "      <td>-3.482</td>\n",
       "      <td>37.308</td>\n",
       "    </tr>\n",
       "    <tr>\n",
       "      <th>122</th>\n",
       "      <td>Tanzania</td>\n",
       "      <td>Tarime</td>\n",
       "      <td>-1.431</td>\n",
       "      <td>34.199</td>\n",
       "    </tr>\n",
       "    <tr>\n",
       "      <th>123</th>\n",
       "      <td>Tanzania</td>\n",
       "      <td>Muheza</td>\n",
       "      <td>-4.940</td>\n",
       "      <td>38.948</td>\n",
       "    </tr>\n",
       "    <tr>\n",
       "      <th>124</th>\n",
       "      <td>Uganda</td>\n",
       "      <td>Nagongera</td>\n",
       "      <td>0.770</td>\n",
       "      <td>34.026</td>\n",
       "    </tr>\n",
       "    <tr>\n",
       "      <th>125</th>\n",
       "      <td>Uganda</td>\n",
       "      <td>Kihihi</td>\n",
       "      <td>-0.751</td>\n",
       "      <td>29.701</td>\n",
       "    </tr>\n",
       "  </tbody>\n",
       "</table>\n",
       "<p>126 rows × 4 columns</p>\n",
       "</div>"
      ],
      "text/plain": [
       "          country        location  latitude  longitude\n",
       "0          Angola          Luanda    -8.884     13.302\n",
       "1    Burkina Faso            Pala    11.150     -4.235\n",
       "2    Burkina Faso            Bana    11.233     -4.472\n",
       "3    Burkina Faso  Souroukoudinga    11.235     -4.535\n",
       "4    Burkina Faso      Monomtenga    12.060     -1.170\n",
       "..            ...             ...       ...        ...\n",
       "121      Tanzania           Moshi    -3.482     37.308\n",
       "122      Tanzania          Tarime    -1.431     34.199\n",
       "123      Tanzania          Muheza    -4.940     38.948\n",
       "124        Uganda       Nagongera     0.770     34.026\n",
       "125        Uganda          Kihihi    -0.751     29.701\n",
       "\n",
       "[126 rows x 4 columns]"
      ]
     },
     "execution_count": 8,
     "metadata": {},
     "output_type": "execute_result"
    }
   ],
   "source": [
    "# We only need the unique locations\n",
    "locations = wild_sample_meta[['country', 'location', 'latitude', 'longitude']].drop_duplicates().reset_index(drop=True)\n",
    "locations"
   ]
  },
  {
   "cell_type": "code",
   "execution_count": null,
   "metadata": {},
   "outputs": [],
   "source": []
  },
  {
   "cell_type": "markdown",
   "metadata": {},
   "source": [
    "## Calculate the location colours"
   ]
  },
  {
   "cell_type": "code",
   "execution_count": 9,
   "metadata": {},
   "outputs": [],
   "source": [
    "# Define a function to reduce all of the lat-longs (2D) to a single dimension (values 0 to 1) using PCA. \n",
    "def reduce_geographical_dimensionality(latitudes, longitudes):\n",
    "    \n",
    "    # TODO: add comments to explain these steps\n",
    "    \n",
    "    X_features = np.hstack([latitudes.reshape((-1, 1)), longitudes.reshape((-1, 1))])\n",
    "    assert X_features.shape[1] == 2\n",
    "\n",
    "    scaler = StandardScaler()\n",
    "    X_features = scaler.fit_transform(X_features)\n",
    "\n",
    "    pca = PCA()\n",
    "    pca.fit_transform(X_features)\n",
    "    pca_variance = pca.explained_variance_\n",
    "\n",
    "    coordinates = pca.transform(X_features)\n",
    "    xv = coordinates[:, 0]\n",
    "    yv = coordinates[:, 1]\n",
    "    \n",
    "    xv_for_map_col = (xv - xv.min())/(xv.max() - xv.min())\n",
    "    return xv_for_map_col"
   ]
  },
  {
   "cell_type": "code",
   "execution_count": 10,
   "metadata": {},
   "outputs": [
    {
     "data": {
      "text/html": [
       "<div>\n",
       "<style scoped>\n",
       "    .dataframe tbody tr th:only-of-type {\n",
       "        vertical-align: middle;\n",
       "    }\n",
       "\n",
       "    .dataframe tbody tr th {\n",
       "        vertical-align: top;\n",
       "    }\n",
       "\n",
       "    .dataframe thead th {\n",
       "        text-align: right;\n",
       "    }\n",
       "</style>\n",
       "<table border=\"1\" class=\"dataframe\">\n",
       "  <thead>\n",
       "    <tr style=\"text-align: right;\">\n",
       "      <th></th>\n",
       "      <th>country</th>\n",
       "      <th>location</th>\n",
       "      <th>latitude</th>\n",
       "      <th>longitude</th>\n",
       "      <th>xv</th>\n",
       "    </tr>\n",
       "  </thead>\n",
       "  <tbody>\n",
       "    <tr>\n",
       "      <th>0</th>\n",
       "      <td>Angola</td>\n",
       "      <td>Luanda</td>\n",
       "      <td>-8.884</td>\n",
       "      <td>13.302</td>\n",
       "      <td>0.589528</td>\n",
       "    </tr>\n",
       "    <tr>\n",
       "      <th>1</th>\n",
       "      <td>Burkina Faso</td>\n",
       "      <td>Pala</td>\n",
       "      <td>11.150</td>\n",
       "      <td>-4.235</td>\n",
       "      <td>0.130406</td>\n",
       "    </tr>\n",
       "    <tr>\n",
       "      <th>2</th>\n",
       "      <td>Burkina Faso</td>\n",
       "      <td>Bana</td>\n",
       "      <td>11.233</td>\n",
       "      <td>-4.472</td>\n",
       "      <td>0.127217</td>\n",
       "    </tr>\n",
       "    <tr>\n",
       "      <th>3</th>\n",
       "      <td>Burkina Faso</td>\n",
       "      <td>Souroukoudinga</td>\n",
       "      <td>11.235</td>\n",
       "      <td>-4.535</td>\n",
       "      <td>0.126692</td>\n",
       "    </tr>\n",
       "    <tr>\n",
       "      <th>4</th>\n",
       "      <td>Burkina Faso</td>\n",
       "      <td>Monomtenga</td>\n",
       "      <td>12.060</td>\n",
       "      <td>-1.170</td>\n",
       "      <td>0.139783</td>\n",
       "    </tr>\n",
       "    <tr>\n",
       "      <th>...</th>\n",
       "      <td>...</td>\n",
       "      <td>...</td>\n",
       "      <td>...</td>\n",
       "      <td>...</td>\n",
       "      <td>...</td>\n",
       "    </tr>\n",
       "    <tr>\n",
       "      <th>121</th>\n",
       "      <td>Tanzania</td>\n",
       "      <td>Moshi</td>\n",
       "      <td>-3.482</td>\n",
       "      <td>37.308</td>\n",
       "      <td>0.690685</td>\n",
       "    </tr>\n",
       "    <tr>\n",
       "      <th>122</th>\n",
       "      <td>Tanzania</td>\n",
       "      <td>Tarime</td>\n",
       "      <td>-1.431</td>\n",
       "      <td>34.199</td>\n",
       "      <td>0.633398</td>\n",
       "    </tr>\n",
       "    <tr>\n",
       "      <th>123</th>\n",
       "      <td>Tanzania</td>\n",
       "      <td>Muheza</td>\n",
       "      <td>-4.940</td>\n",
       "      <td>38.948</td>\n",
       "      <td>0.726946</td>\n",
       "    </tr>\n",
       "    <tr>\n",
       "      <th>124</th>\n",
       "      <td>Uganda</td>\n",
       "      <td>Nagongera</td>\n",
       "      <td>0.770</td>\n",
       "      <td>34.026</td>\n",
       "      <td>0.596687</td>\n",
       "    </tr>\n",
       "    <tr>\n",
       "      <th>125</th>\n",
       "      <td>Uganda</td>\n",
       "      <td>Kihihi</td>\n",
       "      <td>-0.751</td>\n",
       "      <td>29.701</td>\n",
       "      <td>0.587261</td>\n",
       "    </tr>\n",
       "  </tbody>\n",
       "</table>\n",
       "<p>126 rows × 5 columns</p>\n",
       "</div>"
      ],
      "text/plain": [
       "          country        location  latitude  longitude        xv\n",
       "0          Angola          Luanda    -8.884     13.302  0.589528\n",
       "1    Burkina Faso            Pala    11.150     -4.235  0.130406\n",
       "2    Burkina Faso            Bana    11.233     -4.472  0.127217\n",
       "3    Burkina Faso  Souroukoudinga    11.235     -4.535  0.126692\n",
       "4    Burkina Faso      Monomtenga    12.060     -1.170  0.139783\n",
       "..            ...             ...       ...        ...       ...\n",
       "121      Tanzania           Moshi    -3.482     37.308  0.690685\n",
       "122      Tanzania          Tarime    -1.431     34.199  0.633398\n",
       "123      Tanzania          Muheza    -4.940     38.948  0.726946\n",
       "124        Uganda       Nagongera     0.770     34.026  0.596687\n",
       "125        Uganda          Kihihi    -0.751     29.701  0.587261\n",
       "\n",
       "[126 rows x 5 columns]"
      ]
     },
     "execution_count": 10,
     "metadata": {},
     "output_type": "execute_result"
    }
   ],
   "source": [
    "locations[\"xv\"] = reduce_geographical_dimensionality(locations.latitude.values, locations.longitude.values)\n",
    "locations"
   ]
  },
  {
   "cell_type": "code",
   "execution_count": null,
   "metadata": {},
   "outputs": [],
   "source": []
  },
  {
   "cell_type": "markdown",
   "metadata": {},
   "source": [
    "## Check the location colours on a map"
   ]
  },
  {
   "cell_type": "code",
   "execution_count": 11,
   "metadata": {},
   "outputs": [
    {
     "data": {
      "image/png": "[encoded data removed]",
      "text/plain": [
       "<Figure size 432x288 with 1 Axes>"
      ]
     },
     "metadata": {
      "needs_background": "light"
     },
     "output_type": "display_data"
    }
   ],
   "source": [
    "ax = plt.axes(projection=ccrs.PlateCarree())\n",
    "ax.stock_img()\n",
    "\n",
    "xlim = ([locations[\"longitude\"].min() - 10,  locations[\"longitude\"].max() + 10])\n",
    "ylim = ([locations[\"latitude\"].min() - 10,  locations[\"latitude\"].max() + 10])\n",
    "ax.set_xlim(xlim)\n",
    "ax.set_ylim(ylim)\n",
    "\n",
    "plt.scatter(locations[\"longitude\"], locations[\"latitude\"], c=locations[\"xv\"], cmap=colour_map)\n",
    "\n",
    "plt.show()"
   ]
  },
  {
   "cell_type": "code",
   "execution_count": null,
   "metadata": {},
   "outputs": [],
   "source": []
  },
  {
   "cell_type": "markdown",
   "metadata": {},
   "source": [
    "## Record the RGBA tuple for each xv for this colour map"
   ]
  },
  {
   "cell_type": "code",
   "execution_count": 12,
   "metadata": {},
   "outputs": [
    {
     "data": {
      "text/plain": [
       "(0.0, 0.968635294117647, 0.0, 1.0)"
      ]
     },
     "execution_count": 12,
     "metadata": {},
     "output_type": "execute_result"
    }
   ],
   "source": [
    "locations[\"RGBA_tuple\"] = locations[\"xv\"].apply(cm.get_cmap(colour_map))\n",
    "locations[\"RGBA_tuple\"][0]"
   ]
  },
  {
   "cell_type": "code",
   "execution_count": null,
   "metadata": {},
   "outputs": [],
   "source": []
  },
  {
   "cell_type": "markdown",
   "metadata": {},
   "source": [
    "## Convert the RGBA tuple to hexadecimal for storage"
   ]
  },
  {
   "cell_type": "code",
   "execution_count": 13,
   "metadata": {},
   "outputs": [
    {
     "data": {
      "text/plain": [
       "'#00f700ff'"
      ]
     },
     "execution_count": 13,
     "metadata": {},
     "output_type": "execute_result"
    }
   ],
   "source": [
    "locations[\"RGBA_hex\"] = locations[\"RGBA_tuple\"].apply(colors.to_hex, keep_alpha=True)\n",
    "locations[\"RGBA_hex\"][0]"
   ]
  },
  {
   "cell_type": "code",
   "execution_count": null,
   "metadata": {},
   "outputs": [],
   "source": []
  },
  {
   "cell_type": "markdown",
   "metadata": {},
   "source": [
    "## Store the location colours as a file"
   ]
  },
  {
   "cell_type": "code",
   "execution_count": 14,
   "metadata": {},
   "outputs": [
    {
     "data": {
      "text/html": [
       "<div>\n",
       "<style scoped>\n",
       "    .dataframe tbody tr th:only-of-type {\n",
       "        vertical-align: middle;\n",
       "    }\n",
       "\n",
       "    .dataframe tbody tr th {\n",
       "        vertical-align: top;\n",
       "    }\n",
       "\n",
       "    .dataframe thead th {\n",
       "        text-align: right;\n",
       "    }\n",
       "</style>\n",
       "<table border=\"1\" class=\"dataframe\">\n",
       "  <thead>\n",
       "    <tr style=\"text-align: right;\">\n",
       "      <th></th>\n",
       "      <th></th>\n",
       "      <th>RGBA_hex</th>\n",
       "    </tr>\n",
       "    <tr>\n",
       "      <th>country</th>\n",
       "      <th>location</th>\n",
       "      <th></th>\n",
       "    </tr>\n",
       "  </thead>\n",
       "  <tbody>\n",
       "    <tr>\n",
       "      <th>Angola</th>\n",
       "      <th>Luanda</th>\n",
       "      <td>#00f700ff</td>\n",
       "    </tr>\n",
       "    <tr>\n",
       "      <th rowspan=\"4\" valign=\"top\">Burkina Faso</th>\n",
       "      <th>Pala</th>\n",
       "      <td>#3800a3ff</td>\n",
       "    </tr>\n",
       "    <tr>\n",
       "      <th>Bana</th>\n",
       "      <td>#4300a2ff</td>\n",
       "    </tr>\n",
       "    <tr>\n",
       "      <th>Souroukoudinga</th>\n",
       "      <td>#4300a2ff</td>\n",
       "    </tr>\n",
       "    <tr>\n",
       "      <th>Monomtenga</th>\n",
       "      <td>#2300a6ff</td>\n",
       "    </tr>\n",
       "    <tr>\n",
       "      <th>...</th>\n",
       "      <th>...</th>\n",
       "      <td>...</td>\n",
       "    </tr>\n",
       "    <tr>\n",
       "      <th rowspan=\"3\" valign=\"top\">Tanzania</th>\n",
       "      <th>Moshi</th>\n",
       "      <td>#e4f100ff</td>\n",
       "    </tr>\n",
       "    <tr>\n",
       "      <th>Tarime</th>\n",
       "      <td>#84ff00ff</td>\n",
       "    </tr>\n",
       "    <tr>\n",
       "      <th>Muheza</th>\n",
       "      <td>#f8da00ff</td>\n",
       "    </tr>\n",
       "    <tr>\n",
       "      <th rowspan=\"2\" valign=\"top\">Uganda</th>\n",
       "      <th>Nagongera</th>\n",
       "      <td>#00fc00ff</td>\n",
       "    </tr>\n",
       "    <tr>\n",
       "      <th>Kihihi</th>\n",
       "      <td>#00f700ff</td>\n",
       "    </tr>\n",
       "  </tbody>\n",
       "</table>\n",
       "<p>126 rows × 1 columns</p>\n",
       "</div>"
      ],
      "text/plain": [
       "                              RGBA_hex\n",
       "country      location                 \n",
       "Angola       Luanda          #00f700ff\n",
       "Burkina Faso Pala            #3800a3ff\n",
       "             Bana            #4300a2ff\n",
       "             Souroukoudinga  #4300a2ff\n",
       "             Monomtenga      #2300a6ff\n",
       "...                                ...\n",
       "Tanzania     Moshi           #e4f100ff\n",
       "             Tarime          #84ff00ff\n",
       "             Muheza          #f8da00ff\n",
       "Uganda       Nagongera       #00fc00ff\n",
       "             Kihihi          #00f700ff\n",
       "\n",
       "[126 rows x 1 columns]"
      ]
     },
     "execution_count": 14,
     "metadata": {},
     "output_type": "execute_result"
    }
   ],
   "source": [
    "# Get the location_labels and their corresponding RGBA cmap colours\n",
    "location_colours = locations[['country', 'location', 'RGBA_hex']].set_index(['country', 'location'])\n",
    "location_colours"
   ]
  },
  {
   "cell_type": "markdown",
   "metadata": {},
   "source": [
    "### Convert the DataFrame values into a dictionary"
   ]
  },
  {
   "cell_type": "code",
   "execution_count": 15,
   "metadata": {},
   "outputs": [],
   "source": [
    "# Note: Panda's to_dict(orient='index') converts multi-column index into a tuple,\n",
    "# which isn't what we want for the YAML\n",
    "#location_colours_as_dict = location_colours.to_dict(orient='index')\n",
    "#list(location_colours_as_dict.keys())[0]\n",
    "#ignore_index=True"
   ]
  },
  {
   "cell_type": "code",
   "execution_count": 16,
   "metadata": {},
   "outputs": [],
   "source": [
    "# Compose the dict manually\n",
    "location_colours_as_dict = {}\n",
    "for country, country_group in location_colours.groupby('country'):\n",
    "    location_colours_as_dict[country] = {}\n",
    "    for location, location_group in country_group.groupby('location'):\n",
    "        location_colours_as_dict[country][location] = location_group['RGBA_hex'][0]"
   ]
  },
  {
   "cell_type": "code",
   "execution_count": 17,
   "metadata": {},
   "outputs": [
    {
     "data": {
      "text/plain": [
       "dict_keys(['Angola', 'Burkina Faso', 'Cameroon', 'Central African Republic', \"Cote d'Ivoire\", 'Democratic Republic of Congo', 'Equatorial Guinea', 'Gabon', 'Gambia, The', 'Ghana', 'Guinea', 'Guinea-Bissau', 'Kenya', 'Malawi', 'Mali', 'Mayotte', 'Mozambique', 'Tanzania', 'Uganda'])"
      ]
     },
     "execution_count": 17,
     "metadata": {},
     "output_type": "execute_result"
    }
   ],
   "source": [
    "location_colours_as_dict.keys()"
   ]
  },
  {
   "cell_type": "code",
   "execution_count": 18,
   "metadata": {},
   "outputs": [
    {
     "data": {
      "text/plain": [
       "{'Bana': '#4300a2ff',\n",
       " 'Monomtenga': '#2300a6ff',\n",
       " 'Pala': '#3800a3ff',\n",
       " 'Souroukoudinga': '#4300a2ff'}"
      ]
     },
     "execution_count": 18,
     "metadata": {},
     "output_type": "execute_result"
    }
   ],
   "source": [
    "location_colours_as_dict['Burkina Faso']"
   ]
  },
  {
   "cell_type": "code",
   "execution_count": null,
   "metadata": {},
   "outputs": [],
   "source": []
  },
  {
   "cell_type": "code",
   "execution_count": 19,
   "metadata": {},
   "outputs": [],
   "source": [
    "# Write the dictionary to YAML\n",
    "with open(output_path, 'w') as ymlfile:\n",
    "    yaml.dump(location_colours_as_dict, ymlfile, sort_keys=True)"
   ]
  },
  {
   "cell_type": "code",
   "execution_count": null,
   "metadata": {},
   "outputs": [],
   "source": []
  },
  {
   "cell_type": "markdown",
   "metadata": {},
   "source": [
    "## Check the location colours file"
   ]
  },
  {
   "cell_type": "code",
   "execution_count": 20,
   "metadata": {},
   "outputs": [],
   "source": [
    "# Load the data from the YAML file\n",
    "with open(output_path) as file:\n",
    "    reloaded_data_dict = yaml.load(file, Loader=yaml.Loader)"
   ]
  },
  {
   "cell_type": "code",
   "execution_count": 21,
   "metadata": {},
   "outputs": [
    {
     "data": {
      "text/plain": [
       "dict_keys(['Angola', 'Burkina Faso', 'Cameroon', 'Central African Republic', \"Cote d'Ivoire\", 'Democratic Republic of Congo', 'Equatorial Guinea', 'Gabon', 'Gambia, The', 'Ghana', 'Guinea', 'Guinea-Bissau', 'Kenya', 'Malawi', 'Mali', 'Mayotte', 'Mozambique', 'Tanzania', 'Uganda'])"
      ]
     },
     "execution_count": 21,
     "metadata": {},
     "output_type": "execute_result"
    }
   ],
   "source": [
    "reloaded_data_dict.keys()"
   ]
  },
  {
   "cell_type": "code",
   "execution_count": 22,
   "metadata": {},
   "outputs": [
    {
     "data": {
      "text/plain": [
       "{'Bana': '#4300a2ff',\n",
       " 'Monomtenga': '#2300a6ff',\n",
       " 'Pala': '#3800a3ff',\n",
       " 'Souroukoudinga': '#4300a2ff'}"
      ]
     },
     "execution_count": 22,
     "metadata": {},
     "output_type": "execute_result"
    }
   ],
   "source": [
    "reloaded_data_dict['Burkina Faso']"
   ]
  },
  {
   "cell_type": "markdown",
   "metadata": {},
   "source": [
    "### Convert the dict into a DataFrame"
   ]
  },
  {
   "cell_type": "code",
   "execution_count": 23,
   "metadata": {},
   "outputs": [],
   "source": [
    "# Note: Panda's from_dict() and from_records() don't interpret the dict in the way we want\n",
    "#reloaded_df = pd.DataFrame.from_dict(reloaded_data_dict)\n",
    "#reloaded_df.head()"
   ]
  },
  {
   "cell_type": "code",
   "execution_count": 24,
   "metadata": {},
   "outputs": [
    {
     "data": {
      "text/html": [
       "<div>\n",
       "<style scoped>\n",
       "    .dataframe tbody tr th:only-of-type {\n",
       "        vertical-align: middle;\n",
       "    }\n",
       "\n",
       "    .dataframe tbody tr th {\n",
       "        vertical-align: top;\n",
       "    }\n",
       "\n",
       "    .dataframe thead th {\n",
       "        text-align: right;\n",
       "    }\n",
       "</style>\n",
       "<table border=\"1\" class=\"dataframe\">\n",
       "  <thead>\n",
       "    <tr style=\"text-align: right;\">\n",
       "      <th></th>\n",
       "      <th>country</th>\n",
       "      <th>location</th>\n",
       "      <th>RGBA_hex</th>\n",
       "    </tr>\n",
       "  </thead>\n",
       "  <tbody>\n",
       "    <tr>\n",
       "      <th>0</th>\n",
       "      <td>Angola</td>\n",
       "      <td>Luanda</td>\n",
       "      <td>#00f700ff</td>\n",
       "    </tr>\n",
       "    <tr>\n",
       "      <th>1</th>\n",
       "      <td>Burkina Faso</td>\n",
       "      <td>Bana</td>\n",
       "      <td>#4300a2ff</td>\n",
       "    </tr>\n",
       "    <tr>\n",
       "      <th>2</th>\n",
       "      <td>Burkina Faso</td>\n",
       "      <td>Monomtenga</td>\n",
       "      <td>#2300a6ff</td>\n",
       "    </tr>\n",
       "    <tr>\n",
       "      <th>3</th>\n",
       "      <td>Burkina Faso</td>\n",
       "      <td>Pala</td>\n",
       "      <td>#3800a3ff</td>\n",
       "    </tr>\n",
       "    <tr>\n",
       "      <th>4</th>\n",
       "      <td>Burkina Faso</td>\n",
       "      <td>Souroukoudinga</td>\n",
       "      <td>#4300a2ff</td>\n",
       "    </tr>\n",
       "    <tr>\n",
       "      <th>...</th>\n",
       "      <td>...</td>\n",
       "      <td>...</td>\n",
       "      <td>...</td>\n",
       "    </tr>\n",
       "    <tr>\n",
       "      <th>121</th>\n",
       "      <td>Tanzania</td>\n",
       "      <td>Muheza</td>\n",
       "      <td>#f8da00ff</td>\n",
       "    </tr>\n",
       "    <tr>\n",
       "      <th>122</th>\n",
       "      <td>Tanzania</td>\n",
       "      <td>Muleba</td>\n",
       "      <td>#58ff00ff</td>\n",
       "    </tr>\n",
       "    <tr>\n",
       "      <th>123</th>\n",
       "      <td>Tanzania</td>\n",
       "      <td>Tarime</td>\n",
       "      <td>#84ff00ff</td>\n",
       "    </tr>\n",
       "    <tr>\n",
       "      <th>124</th>\n",
       "      <td>Uganda</td>\n",
       "      <td>Kihihi</td>\n",
       "      <td>#00f700ff</td>\n",
       "    </tr>\n",
       "    <tr>\n",
       "      <th>125</th>\n",
       "      <td>Uganda</td>\n",
       "      <td>Nagongera</td>\n",
       "      <td>#00fc00ff</td>\n",
       "    </tr>\n",
       "  </tbody>\n",
       "</table>\n",
       "<p>126 rows × 3 columns</p>\n",
       "</div>"
      ],
      "text/plain": [
       "          country        location   RGBA_hex\n",
       "0          Angola          Luanda  #00f700ff\n",
       "1    Burkina Faso            Bana  #4300a2ff\n",
       "2    Burkina Faso      Monomtenga  #2300a6ff\n",
       "3    Burkina Faso            Pala  #3800a3ff\n",
       "4    Burkina Faso  Souroukoudinga  #4300a2ff\n",
       "..            ...             ...        ...\n",
       "121      Tanzania          Muheza  #f8da00ff\n",
       "122      Tanzania          Muleba  #58ff00ff\n",
       "123      Tanzania          Tarime  #84ff00ff\n",
       "124        Uganda          Kihihi  #00f700ff\n",
       "125        Uganda       Nagongera  #00fc00ff\n",
       "\n",
       "[126 rows x 3 columns]"
      ]
     },
     "execution_count": 24,
     "metadata": {},
     "output_type": "execute_result"
    }
   ],
   "source": [
    "# Compose the DataFrame manually\n",
    "reloaded_df = pd.DataFrame(columns=['country', 'location', 'RGBA_hex'])\n",
    "for country in reloaded_data_dict.keys():\n",
    "    for location in reloaded_data_dict[country].keys():\n",
    "        reloaded_df = reloaded_df.append(\n",
    "            {'country': country, 'location': location, 'RGBA_hex': reloaded_data_dict[country][location]},\n",
    "            ignore_index=True\n",
    "        )\n",
    "reloaded_df"
   ]
  },
  {
   "cell_type": "code",
   "execution_count": 25,
   "metadata": {},
   "outputs": [
    {
     "data": {
      "text/html": [
       "<div>\n",
       "<style scoped>\n",
       "    .dataframe tbody tr th:only-of-type {\n",
       "        vertical-align: middle;\n",
       "    }\n",
       "\n",
       "    .dataframe tbody tr th {\n",
       "        vertical-align: top;\n",
       "    }\n",
       "\n",
       "    .dataframe thead th {\n",
       "        text-align: right;\n",
       "    }\n",
       "</style>\n",
       "<table border=\"1\" class=\"dataframe\">\n",
       "  <thead>\n",
       "    <tr style=\"text-align: right;\">\n",
       "      <th></th>\n",
       "      <th>country</th>\n",
       "      <th>location</th>\n",
       "      <th>RGBA_hex</th>\n",
       "      <th>longitude</th>\n",
       "      <th>latitude</th>\n",
       "    </tr>\n",
       "  </thead>\n",
       "  <tbody>\n",
       "    <tr>\n",
       "      <th>0</th>\n",
       "      <td>Angola</td>\n",
       "      <td>Luanda</td>\n",
       "      <td>#00f700ff</td>\n",
       "      <td>13.302</td>\n",
       "      <td>-8.884</td>\n",
       "    </tr>\n",
       "    <tr>\n",
       "      <th>1</th>\n",
       "      <td>Burkina Faso</td>\n",
       "      <td>Bana</td>\n",
       "      <td>#4300a2ff</td>\n",
       "      <td>-4.472</td>\n",
       "      <td>11.233</td>\n",
       "    </tr>\n",
       "    <tr>\n",
       "      <th>2</th>\n",
       "      <td>Burkina Faso</td>\n",
       "      <td>Monomtenga</td>\n",
       "      <td>#2300a6ff</td>\n",
       "      <td>-1.170</td>\n",
       "      <td>12.060</td>\n",
       "    </tr>\n",
       "    <tr>\n",
       "      <th>3</th>\n",
       "      <td>Burkina Faso</td>\n",
       "      <td>Pala</td>\n",
       "      <td>#3800a3ff</td>\n",
       "      <td>-4.235</td>\n",
       "      <td>11.150</td>\n",
       "    </tr>\n",
       "    <tr>\n",
       "      <th>4</th>\n",
       "      <td>Burkina Faso</td>\n",
       "      <td>Souroukoudinga</td>\n",
       "      <td>#4300a2ff</td>\n",
       "      <td>-4.535</td>\n",
       "      <td>11.235</td>\n",
       "    </tr>\n",
       "    <tr>\n",
       "      <th>...</th>\n",
       "      <td>...</td>\n",
       "      <td>...</td>\n",
       "      <td>...</td>\n",
       "      <td>...</td>\n",
       "      <td>...</td>\n",
       "    </tr>\n",
       "    <tr>\n",
       "      <th>121</th>\n",
       "      <td>Tanzania</td>\n",
       "      <td>Muheza</td>\n",
       "      <td>#f8da00ff</td>\n",
       "      <td>38.948</td>\n",
       "      <td>-4.940</td>\n",
       "    </tr>\n",
       "    <tr>\n",
       "      <th>122</th>\n",
       "      <td>Tanzania</td>\n",
       "      <td>Muleba</td>\n",
       "      <td>#58ff00ff</td>\n",
       "      <td>31.651</td>\n",
       "      <td>-1.962</td>\n",
       "    </tr>\n",
       "    <tr>\n",
       "      <th>123</th>\n",
       "      <td>Tanzania</td>\n",
       "      <td>Tarime</td>\n",
       "      <td>#84ff00ff</td>\n",
       "      <td>34.199</td>\n",
       "      <td>-1.431</td>\n",
       "    </tr>\n",
       "    <tr>\n",
       "      <th>124</th>\n",
       "      <td>Uganda</td>\n",
       "      <td>Kihihi</td>\n",
       "      <td>#00f700ff</td>\n",
       "      <td>29.701</td>\n",
       "      <td>-0.751</td>\n",
       "    </tr>\n",
       "    <tr>\n",
       "      <th>125</th>\n",
       "      <td>Uganda</td>\n",
       "      <td>Nagongera</td>\n",
       "      <td>#00fc00ff</td>\n",
       "      <td>34.026</td>\n",
       "      <td>0.770</td>\n",
       "    </tr>\n",
       "  </tbody>\n",
       "</table>\n",
       "<p>126 rows × 5 columns</p>\n",
       "</div>"
      ],
      "text/plain": [
       "          country        location   RGBA_hex  longitude  latitude\n",
       "0          Angola          Luanda  #00f700ff     13.302    -8.884\n",
       "1    Burkina Faso            Bana  #4300a2ff     -4.472    11.233\n",
       "2    Burkina Faso      Monomtenga  #2300a6ff     -1.170    12.060\n",
       "3    Burkina Faso            Pala  #3800a3ff     -4.235    11.150\n",
       "4    Burkina Faso  Souroukoudinga  #4300a2ff     -4.535    11.235\n",
       "..            ...             ...        ...        ...       ...\n",
       "121      Tanzania          Muheza  #f8da00ff     38.948    -4.940\n",
       "122      Tanzania          Muleba  #58ff00ff     31.651    -1.962\n",
       "123      Tanzania          Tarime  #84ff00ff     34.199    -1.431\n",
       "124        Uganda          Kihihi  #00f700ff     29.701    -0.751\n",
       "125        Uganda       Nagongera  #00fc00ff     34.026     0.770\n",
       "\n",
       "[126 rows x 5 columns]"
      ]
     },
     "execution_count": 25,
     "metadata": {},
     "output_type": "execute_result"
    }
   ],
   "source": [
    "# Match the location labels with the lat longs we have\n",
    "original_locations = locations[['country', 'location', 'longitude', 'latitude']]\n",
    "recovered_locations = reloaded_df.merge(original_locations, on=['country', 'location'])\n",
    "recovered_locations"
   ]
  },
  {
   "cell_type": "markdown",
   "metadata": {},
   "source": [
    "### Eyeball the colours from the file on a map"
   ]
  },
  {
   "cell_type": "code",
   "execution_count": 26,
   "metadata": {},
   "outputs": [
    {
     "data": {
      "image/png": "[encoded data removed]",
      "text/plain": [
       "<Figure size 432x288 with 1 Axes>"
      ]
     },
     "metadata": {
      "needs_background": "light"
     },
     "output_type": "display_data"
    }
   ],
   "source": [
    "ax = plt.axes(projection=ccrs.PlateCarree())\n",
    "ax.stock_img()\n",
    "\n",
    "xlim = ([recovered_locations[\"longitude\"].min() - 10,  recovered_locations[\"longitude\"].max() + 10])\n",
    "ylim = ([recovered_locations[\"latitude\"].min() - 10,  recovered_locations[\"latitude\"].max() + 10])\n",
    "ax.set_xlim(xlim)\n",
    "ax.set_ylim(ylim)\n",
    "\n",
    "plt.scatter(recovered_locations[\"longitude\"], recovered_locations[\"latitude\"], color=recovered_locations[\"RGBA_hex\"])\n",
    "\n",
    "plt.show()"
   ]
  },
  {
   "cell_type": "code",
   "execution_count": null,
   "metadata": {},
   "outputs": [],
   "source": []
  }
 ],
 "metadata": {
  "kernelspec": {
   "display_name": "Python 3",
   "language": "python",
   "name": "python3"
  },
  "language_info": {
   "codemirror_mode": {
    "name": "ipython",
    "version": 3
   },
   "file_extension": ".py",
   "mimetype": "text/x-python",
   "name": "python",
   "nbconvert_exporter": "python",
   "pygments_lexer": "ipython3",
   "version": "3.7.6"
  }
 },
 "nbformat": 4,
 "nbformat_minor": 4
}
