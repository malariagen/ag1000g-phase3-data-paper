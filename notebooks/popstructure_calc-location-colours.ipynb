{
 "cells": [
  {
   "cell_type": "markdown",
   "metadata": {},
   "source": [
    "# Calculate location colours\n",
    "The colours for locations are calcuated and stored as a YAML file."
   ]
  },
  {
   "cell_type": "markdown",
   "metadata": {},
   "source": [
    "## Imports"
   ]
  },
  {
   "cell_type": "code",
   "execution_count": 1,
   "metadata": {},
   "outputs": [
    {
     "name": "stderr",
     "output_type": "stream",
     "text": [
      "/opt/conda/lib/python3.7/site-packages/dask/dataframe/utils.py:14: FutureWarning: pandas.util.testing is deprecated. Use the functions in the public API at pandas.testing instead.\n",
      "  import pandas.util.testing as tm\n"
     ]
    }
   ],
   "source": [
    "from ag3 import release_data\n",
    "ag3_data = release_data()"
   ]
  },
  {
   "cell_type": "code",
   "execution_count": 2,
   "metadata": {},
   "outputs": [],
   "source": [
    "import yaml\n",
    "import matplotlib.pyplot as plt\n",
    "import pandas as pd\n",
    "import cartopy as cart\n",
    "import cartopy.crs as ccrs\n",
    "import matplotlib.patches as patches\n",
    "import numpy as np"
   ]
  },
  {
   "cell_type": "code",
   "execution_count": 3,
   "metadata": {},
   "outputs": [],
   "source": [
    "# REQUIRES: https://pypi.org/project/colormath/\n",
    "# pip install colormath\n",
    "from colormath.color_objects import sRGBColor, LabColor\n",
    "from colormath.color_conversions import convert_color "
   ]
  },
  {
   "cell_type": "code",
   "execution_count": null,
   "metadata": {},
   "outputs": [],
   "source": []
  },
  {
   "cell_type": "markdown",
   "metadata": {},
   "source": [
    "## Settings"
   ]
  },
  {
   "cell_type": "code",
   "execution_count": 4,
   "metadata": {},
   "outputs": [],
   "source": [
    "output_path = 'location_colours.yaml'\n",
    "centre_at_equator = False"
   ]
  },
  {
   "cell_type": "code",
   "execution_count": null,
   "metadata": {},
   "outputs": [],
   "source": []
  },
  {
   "cell_type": "markdown",
   "metadata": {},
   "source": [
    "## Functions"
   ]
  },
  {
   "cell_type": "code",
   "execution_count": 5,
   "metadata": {},
   "outputs": [],
   "source": [
    "def latlong_to_rgb_hex_via_lab(lat, long, min_lat=-90, max_lat=90, min_long=-180, max_long=180, centre_at_equator=False, centre_at_prime_meridian=False):\n",
    "    \n",
    "    # 0 <= lightness < 100\n",
    "    # NOTE: this affects extent of a & b (a_max, b_max)\n",
    "    # TODO: determine what determines this limit, found by trial and error\n",
    "    #lightness = 0; a_max = 243; b_max = 162\n",
    "    lightness = 50; a_max = 93; b_max = 77\n",
    "    #lightness = 99; a_max = 1; b_max = 1\n",
    "    \n",
    "    observer = '2' # Observer angle: default '2', alternative '10' degrees\n",
    "    illuminant = 'd50' # default 'd50'\n",
    "    # When observer '2', illuminant can have {'a', 'b', 'c', 'd50', 'd55', 'd65', 'd75', 'e', 'f2', 'f7', 'f11'}\n",
    "    # When observer '10', illuminant can have {'d50', 'd55', 'd65', 'd75'}\n",
    "    \n",
    "    # TODO: option to centre on equator and/or the prime meridian\n",
    "    if centre_at_equator:\n",
    "        if -min_lat > max_lat:\n",
    "            min_lat = -max_lat\n",
    "\n",
    "    if centre_at_prime_meridian:\n",
    "        if -min_long > max_long:\n",
    "            min_Long = -max_long\n",
    "     \n",
    "    # Scale the lat-long 0 to 1, relative to the specified min and max\n",
    "    lat_extent = max_lat - min_lat\n",
    "    long_extent = max_long - min_long\n",
    "    scaled_lat = (lat + abs(min_lat)) / lat_extent\n",
    "    scaled_long = (long + abs(min_long)) / long_extent\n",
    "\n",
    "    # Convert to range -1 to 1\n",
    "    a = (scaled_lat * 2) - 1\n",
    "    b = (scaled_long * 2) - 1\n",
    "\n",
    "    # Convert to range\n",
    "    a = a * a_max\n",
    "    b = b * b_max\n",
    "        \n",
    "    # Switch depending on supplied param type\n",
    "    if isinstance(lat, int):\n",
    "        lab = LabColor(lightness, a, b)\n",
    "        #xyz = convert_color(lab, XYZColor)\n",
    "        #rgb = convert_color(xyz, sRGBColor)\n",
    "        rgb = convert_color(lab, sRGBColor)\n",
    "        rgb_hex = rgb.get_rgb_hex()\n",
    "        return rgb_hex\n",
    "    elif isinstance(lat, pd.core.series.Series):\n",
    "        # TODO: vectorize\n",
    "        rgb_hex = []\n",
    "        for i in range(len(lat)):\n",
    "            lab = LabColor(lightness, a[i], b[i])\n",
    "            #xyz = convert_color(lab, XYZColor)\n",
    "            #rgb = convert_color(xyz, sRGBColor)\n",
    "            rgb = convert_color(lab, sRGBColor)\n",
    "            rgb_hex.append(rgb.get_rgb_hex())\n",
    "        return rgb_hex\n",
    "    else:\n",
    "        raise ValueError('Unhandled parameter types')"
   ]
  },
  {
   "cell_type": "code",
   "execution_count": null,
   "metadata": {},
   "outputs": [],
   "source": []
  },
  {
   "cell_type": "markdown",
   "metadata": {},
   "source": [
    "## Spot check the lat-long colour conversion"
   ]
  },
  {
   "cell_type": "code",
   "execution_count": 6,
   "metadata": {},
   "outputs": [
    {
     "data": {
      "text/html": [
       "<div>\n",
       "<style scoped>\n",
       "    .dataframe tbody tr th:only-of-type {\n",
       "        vertical-align: middle;\n",
       "    }\n",
       "\n",
       "    .dataframe tbody tr th {\n",
       "        vertical-align: top;\n",
       "    }\n",
       "\n",
       "    .dataframe thead th {\n",
       "        text-align: right;\n",
       "    }\n",
       "</style>\n",
       "<table border=\"1\" class=\"dataframe\">\n",
       "  <thead>\n",
       "    <tr style=\"text-align: right;\">\n",
       "      <th></th>\n",
       "      <th>lat</th>\n",
       "      <th>long</th>\n",
       "      <th>colour</th>\n",
       "    </tr>\n",
       "  </thead>\n",
       "  <tbody>\n",
       "    <tr>\n",
       "      <th>0</th>\n",
       "      <td>-90</td>\n",
       "      <td>-180</td>\n",
       "      <td>#009afb</td>\n",
       "    </tr>\n",
       "    <tr>\n",
       "      <th>1</th>\n",
       "      <td>-90</td>\n",
       "      <td>0</td>\n",
       "      <td>#009674</td>\n",
       "    </tr>\n",
       "    <tr>\n",
       "      <th>2</th>\n",
       "      <td>-90</td>\n",
       "      <td>180</td>\n",
       "      <td>#009500</td>\n",
       "    </tr>\n",
       "    <tr>\n",
       "      <th>3</th>\n",
       "      <td>0</td>\n",
       "      <td>-180</td>\n",
       "      <td>#007cfc</td>\n",
       "    </tr>\n",
       "    <tr>\n",
       "      <th>4</th>\n",
       "      <td>0</td>\n",
       "      <td>0</td>\n",
       "      <td>#777777</td>\n",
       "    </tr>\n",
       "    <tr>\n",
       "      <th>5</th>\n",
       "      <td>0</td>\n",
       "      <td>180</td>\n",
       "      <td>#8b7500</td>\n",
       "    </tr>\n",
       "    <tr>\n",
       "      <th>6</th>\n",
       "      <td>90</td>\n",
       "      <td>-180</td>\n",
       "      <td>#d300fe</td>\n",
       "    </tr>\n",
       "    <tr>\n",
       "      <th>7</th>\n",
       "      <td>90</td>\n",
       "      <td>0</td>\n",
       "      <td>#f7007c</td>\n",
       "    </tr>\n",
       "    <tr>\n",
       "      <th>8</th>\n",
       "      <td>90</td>\n",
       "      <td>180</td>\n",
       "      <td>#ff0000</td>\n",
       "    </tr>\n",
       "  </tbody>\n",
       "</table>\n",
       "</div>"
      ],
      "text/plain": [
       "   lat  long   colour\n",
       "0  -90  -180  #009afb\n",
       "1  -90     0  #009674\n",
       "2  -90   180  #009500\n",
       "3    0  -180  #007cfc\n",
       "4    0     0  #777777\n",
       "5    0   180  #8b7500\n",
       "6   90  -180  #d300fe\n",
       "7   90     0  #f7007c\n",
       "8   90   180  #ff0000"
      ]
     },
     "execution_count": 6,
     "metadata": {},
     "output_type": "execute_result"
    }
   ],
   "source": [
    "spot_check_data = []\n",
    "for lat in [-90, 0, 90]:\n",
    "    for long in [-180, 0, 180]:\n",
    "        spot = {'lat': lat, 'long': long, 'colour': latlong_to_rgb_hex_via_lab(lat, long, centre_at_equator=centre_at_equator)}\n",
    "        spot_check_data.append(spot)\n",
    "spot_check_df = pd.DataFrame(spot_check_data)\n",
    "spot_check_df"
   ]
  },
  {
   "cell_type": "code",
   "execution_count": 7,
   "metadata": {},
   "outputs": [
    {
     "data": {
      "image/png": "[encoded data removed]",
      "text/plain": [
       "<Figure size 576x576 with 1 Axes>"
      ]
     },
     "metadata": {
      "needs_background": "light"
     },
     "output_type": "display_data"
    }
   ],
   "source": [
    "# Eyeball some lat-long to rgb_hex conversions\n",
    "fig = plt.figure(figsize=(8, 8))\n",
    "ax = plt.axes(projection=ccrs.PlateCarree())\n",
    "ax.coastlines()\n",
    "\n",
    "plt.scatter(spot_check_df[\"long\"], spot_check_df[\"lat\"], c=spot_check_df[\"colour\"], s=100_00)\n",
    "plt.show()"
   ]
  },
  {
   "cell_type": "code",
   "execution_count": null,
   "metadata": {},
   "outputs": [],
   "source": []
  },
  {
   "cell_type": "markdown",
   "metadata": {},
   "source": [
    "## Get the locations of all of the wild samples"
   ]
  },
  {
   "cell_type": "code",
   "execution_count": 8,
   "metadata": {},
   "outputs": [
    {
     "name": "stderr",
     "output_type": "stream",
     "text": [
      "/opt/conda/lib/python3.7/site-packages/pandas/core/ops/array_ops.py:253: FutureWarning: elementwise comparison failed; returning scalar instead, but in the future will perform elementwise comparison\n",
      "  res_values = method(rvalues)\n"
     ]
    },
    {
     "data": {
      "text/html": [
       "<div>\n",
       "<style scoped>\n",
       "    .dataframe tbody tr th:only-of-type {\n",
       "        vertical-align: middle;\n",
       "    }\n",
       "\n",
       "    .dataframe tbody tr th {\n",
       "        vertical-align: top;\n",
       "    }\n",
       "\n",
       "    .dataframe thead th {\n",
       "        text-align: right;\n",
       "    }\n",
       "</style>\n",
       "<table border=\"1\" class=\"dataframe\">\n",
       "  <thead>\n",
       "    <tr style=\"text-align: right;\">\n",
       "      <th></th>\n",
       "      <th>partner_sample_id</th>\n",
       "      <th>contributor</th>\n",
       "      <th>country</th>\n",
       "      <th>location</th>\n",
       "      <th>year</th>\n",
       "      <th>month</th>\n",
       "      <th>latitude</th>\n",
       "      <th>longitude</th>\n",
       "      <th>sex_call</th>\n",
       "      <th>sample_set</th>\n",
       "      <th>aim_fraction_colu</th>\n",
       "      <th>aim_fraction_arab</th>\n",
       "      <th>species_gambcolu_arabiensis</th>\n",
       "      <th>species_gambiae_coluzzii</th>\n",
       "      <th>is_arabiensis</th>\n",
       "      <th>is_gamb_colu</th>\n",
       "      <th>is_gambiae</th>\n",
       "      <th>is_coluzzii</th>\n",
       "    </tr>\n",
       "    <tr>\n",
       "      <th>sample_id</th>\n",
       "      <th></th>\n",
       "      <th></th>\n",
       "      <th></th>\n",
       "      <th></th>\n",
       "      <th></th>\n",
       "      <th></th>\n",
       "      <th></th>\n",
       "      <th></th>\n",
       "      <th></th>\n",
       "      <th></th>\n",
       "      <th></th>\n",
       "      <th></th>\n",
       "      <th></th>\n",
       "      <th></th>\n",
       "      <th></th>\n",
       "      <th></th>\n",
       "      <th></th>\n",
       "      <th></th>\n",
       "    </tr>\n",
       "  </thead>\n",
       "  <tbody>\n",
       "    <tr>\n",
       "      <th>AR0047-C</th>\n",
       "      <td>LUA047</td>\n",
       "      <td>Joao Pinto</td>\n",
       "      <td>Angola</td>\n",
       "      <td>Luanda</td>\n",
       "      <td>2009</td>\n",
       "      <td>4</td>\n",
       "      <td>-8.884</td>\n",
       "      <td>13.302</td>\n",
       "      <td>F</td>\n",
       "      <td>AG1000G-AO</td>\n",
       "      <td>0.945</td>\n",
       "      <td>0.001</td>\n",
       "      <td>gamb_colu</td>\n",
       "      <td>coluzzii</td>\n",
       "      <td>False</td>\n",
       "      <td>True</td>\n",
       "      <td>False</td>\n",
       "      <td>True</td>\n",
       "    </tr>\n",
       "    <tr>\n",
       "      <th>AR0049-C</th>\n",
       "      <td>LUA049</td>\n",
       "      <td>Joao Pinto</td>\n",
       "      <td>Angola</td>\n",
       "      <td>Luanda</td>\n",
       "      <td>2009</td>\n",
       "      <td>4</td>\n",
       "      <td>-8.884</td>\n",
       "      <td>13.302</td>\n",
       "      <td>F</td>\n",
       "      <td>AG1000G-AO</td>\n",
       "      <td>0.933</td>\n",
       "      <td>0.001</td>\n",
       "      <td>gamb_colu</td>\n",
       "      <td>coluzzii</td>\n",
       "      <td>False</td>\n",
       "      <td>True</td>\n",
       "      <td>False</td>\n",
       "      <td>True</td>\n",
       "    </tr>\n",
       "    <tr>\n",
       "      <th>AR0051-C</th>\n",
       "      <td>LUA051</td>\n",
       "      <td>Joao Pinto</td>\n",
       "      <td>Angola</td>\n",
       "      <td>Luanda</td>\n",
       "      <td>2009</td>\n",
       "      <td>4</td>\n",
       "      <td>-8.884</td>\n",
       "      <td>13.302</td>\n",
       "      <td>F</td>\n",
       "      <td>AG1000G-AO</td>\n",
       "      <td>0.937</td>\n",
       "      <td>0.002</td>\n",
       "      <td>gamb_colu</td>\n",
       "      <td>coluzzii</td>\n",
       "      <td>False</td>\n",
       "      <td>True</td>\n",
       "      <td>False</td>\n",
       "      <td>True</td>\n",
       "    </tr>\n",
       "    <tr>\n",
       "      <th>AR0061-C</th>\n",
       "      <td>LUA061</td>\n",
       "      <td>Joao Pinto</td>\n",
       "      <td>Angola</td>\n",
       "      <td>Luanda</td>\n",
       "      <td>2009</td>\n",
       "      <td>4</td>\n",
       "      <td>-8.884</td>\n",
       "      <td>13.302</td>\n",
       "      <td>F</td>\n",
       "      <td>AG1000G-AO</td>\n",
       "      <td>0.938</td>\n",
       "      <td>0.002</td>\n",
       "      <td>gamb_colu</td>\n",
       "      <td>coluzzii</td>\n",
       "      <td>False</td>\n",
       "      <td>True</td>\n",
       "      <td>False</td>\n",
       "      <td>True</td>\n",
       "    </tr>\n",
       "    <tr>\n",
       "      <th>AR0078-C</th>\n",
       "      <td>LUA078</td>\n",
       "      <td>Joao Pinto</td>\n",
       "      <td>Angola</td>\n",
       "      <td>Luanda</td>\n",
       "      <td>2009</td>\n",
       "      <td>4</td>\n",
       "      <td>-8.884</td>\n",
       "      <td>13.302</td>\n",
       "      <td>F</td>\n",
       "      <td>AG1000G-AO</td>\n",
       "      <td>0.926</td>\n",
       "      <td>0.001</td>\n",
       "      <td>gamb_colu</td>\n",
       "      <td>coluzzii</td>\n",
       "      <td>False</td>\n",
       "      <td>True</td>\n",
       "      <td>False</td>\n",
       "      <td>True</td>\n",
       "    </tr>\n",
       "  </tbody>\n",
       "</table>\n",
       "</div>"
      ],
      "text/plain": [
       "          partner_sample_id contributor country location  year  month  \\\n",
       "sample_id                                                               \n",
       "AR0047-C             LUA047  Joao Pinto  Angola   Luanda  2009      4   \n",
       "AR0049-C             LUA049  Joao Pinto  Angola   Luanda  2009      4   \n",
       "AR0051-C             LUA051  Joao Pinto  Angola   Luanda  2009      4   \n",
       "AR0061-C             LUA061  Joao Pinto  Angola   Luanda  2009      4   \n",
       "AR0078-C             LUA078  Joao Pinto  Angola   Luanda  2009      4   \n",
       "\n",
       "           latitude  longitude sex_call  sample_set  aim_fraction_colu  \\\n",
       "sample_id                                                                \n",
       "AR0047-C     -8.884     13.302        F  AG1000G-AO              0.945   \n",
       "AR0049-C     -8.884     13.302        F  AG1000G-AO              0.933   \n",
       "AR0051-C     -8.884     13.302        F  AG1000G-AO              0.937   \n",
       "AR0061-C     -8.884     13.302        F  AG1000G-AO              0.938   \n",
       "AR0078-C     -8.884     13.302        F  AG1000G-AO              0.926   \n",
       "\n",
       "           aim_fraction_arab species_gambcolu_arabiensis  \\\n",
       "sample_id                                                  \n",
       "AR0047-C               0.001                   gamb_colu   \n",
       "AR0049-C               0.001                   gamb_colu   \n",
       "AR0051-C               0.002                   gamb_colu   \n",
       "AR0061-C               0.002                   gamb_colu   \n",
       "AR0078-C               0.001                   gamb_colu   \n",
       "\n",
       "          species_gambiae_coluzzii  is_arabiensis  is_gamb_colu  is_gambiae  \\\n",
       "sample_id                                                                     \n",
       "AR0047-C                  coluzzii          False          True       False   \n",
       "AR0049-C                  coluzzii          False          True       False   \n",
       "AR0051-C                  coluzzii          False          True       False   \n",
       "AR0061-C                  coluzzii          False          True       False   \n",
       "AR0078-C                  coluzzii          False          True       False   \n",
       "\n",
       "           is_coluzzii  \n",
       "sample_id               \n",
       "AR0047-C          True  \n",
       "AR0049-C          True  \n",
       "AR0051-C          True  \n",
       "AR0061-C          True  \n",
       "AR0078-C          True  "
      ]
     },
     "execution_count": 8,
     "metadata": {},
     "output_type": "execute_result"
    }
   ],
   "source": [
    "wild_sample_meta = ag3_data.load_sample_set_metadata(ag3_data.all_wild_sample_sets)\n",
    "wild_sample_meta.head()"
   ]
  },
  {
   "cell_type": "code",
   "execution_count": 9,
   "metadata": {},
   "outputs": [
    {
     "data": {
      "text/html": [
       "<div>\n",
       "<style scoped>\n",
       "    .dataframe tbody tr th:only-of-type {\n",
       "        vertical-align: middle;\n",
       "    }\n",
       "\n",
       "    .dataframe tbody tr th {\n",
       "        vertical-align: top;\n",
       "    }\n",
       "\n",
       "    .dataframe thead th {\n",
       "        text-align: right;\n",
       "    }\n",
       "</style>\n",
       "<table border=\"1\" class=\"dataframe\">\n",
       "  <thead>\n",
       "    <tr style=\"text-align: right;\">\n",
       "      <th></th>\n",
       "      <th>country</th>\n",
       "      <th>location</th>\n",
       "      <th>latitude</th>\n",
       "      <th>longitude</th>\n",
       "    </tr>\n",
       "    <tr>\n",
       "      <th>sample_id</th>\n",
       "      <th></th>\n",
       "      <th></th>\n",
       "      <th></th>\n",
       "      <th></th>\n",
       "    </tr>\n",
       "  </thead>\n",
       "  <tbody>\n",
       "    <tr>\n",
       "      <th>AN0022-C</th>\n",
       "      <td>Cameroon</td>\n",
       "      <td>Gado Badzere</td>\n",
       "      <td>5.747</td>\n",
       "      <td>14.442</td>\n",
       "    </tr>\n",
       "    <tr>\n",
       "      <th>AN0061-Cx</th>\n",
       "      <td>Cameroon</td>\n",
       "      <td>Zembe Borongo</td>\n",
       "      <td>5.747</td>\n",
       "      <td>14.442</td>\n",
       "    </tr>\n",
       "    <tr>\n",
       "      <th>AN0585-CW</th>\n",
       "      <td>Cameroon</td>\n",
       "      <td>Manda</td>\n",
       "      <td>5.726</td>\n",
       "      <td>10.868</td>\n",
       "    </tr>\n",
       "    <tr>\n",
       "      <th>AN0499-CW</th>\n",
       "      <td>Cameroon</td>\n",
       "      <td>Mfelap</td>\n",
       "      <td>5.726</td>\n",
       "      <td>10.868</td>\n",
       "    </tr>\n",
       "  </tbody>\n",
       "</table>\n",
       "</div>"
      ],
      "text/plain": [
       "            country       location  latitude  longitude\n",
       "sample_id                                              \n",
       "AN0022-C   Cameroon   Gado Badzere     5.747     14.442\n",
       "AN0061-Cx  Cameroon  Zembe Borongo     5.747     14.442\n",
       "AN0585-CW  Cameroon          Manda     5.726     10.868\n",
       "AN0499-CW  Cameroon         Mfelap     5.726     10.868"
      ]
     },
     "execution_count": 9,
     "metadata": {},
     "output_type": "execute_result"
    }
   ],
   "source": [
    "# Check that there aren't different lat-longs for the same country-location\n",
    "all_locations = wild_sample_meta[['country', 'location', 'latitude', 'longitude']]\n",
    "unique_locations = all_locations.drop_duplicates(['country', 'location', 'latitude', 'longitude'])\n",
    "duplicate_locations_by_lat_long = unique_locations.duplicated(['latitude', 'longitude'], keep=False)\n",
    "unique_locations[duplicate_locations_by_lat_long]"
   ]
  },
  {
   "cell_type": "code",
   "execution_count": 10,
   "metadata": {},
   "outputs": [],
   "source": [
    "# TODO: Resolve/Explain these duplicate lat-longs"
   ]
  },
  {
   "cell_type": "code",
   "execution_count": 11,
   "metadata": {},
   "outputs": [
    {
     "data": {
      "text/html": [
       "<div>\n",
       "<style scoped>\n",
       "    .dataframe tbody tr th:only-of-type {\n",
       "        vertical-align: middle;\n",
       "    }\n",
       "\n",
       "    .dataframe tbody tr th {\n",
       "        vertical-align: top;\n",
       "    }\n",
       "\n",
       "    .dataframe thead th {\n",
       "        text-align: right;\n",
       "    }\n",
       "</style>\n",
       "<table border=\"1\" class=\"dataframe\">\n",
       "  <thead>\n",
       "    <tr style=\"text-align: right;\">\n",
       "      <th></th>\n",
       "      <th>country</th>\n",
       "      <th>location</th>\n",
       "      <th>latitude</th>\n",
       "      <th>longitude</th>\n",
       "    </tr>\n",
       "  </thead>\n",
       "  <tbody>\n",
       "    <tr>\n",
       "      <th>0</th>\n",
       "      <td>Angola</td>\n",
       "      <td>Luanda</td>\n",
       "      <td>-8.884</td>\n",
       "      <td>13.302</td>\n",
       "    </tr>\n",
       "    <tr>\n",
       "      <th>1</th>\n",
       "      <td>Burkina Faso</td>\n",
       "      <td>Pala</td>\n",
       "      <td>11.150</td>\n",
       "      <td>-4.235</td>\n",
       "    </tr>\n",
       "    <tr>\n",
       "      <th>2</th>\n",
       "      <td>Burkina Faso</td>\n",
       "      <td>Bana</td>\n",
       "      <td>11.233</td>\n",
       "      <td>-4.472</td>\n",
       "    </tr>\n",
       "    <tr>\n",
       "      <th>3</th>\n",
       "      <td>Burkina Faso</td>\n",
       "      <td>Souroukoudinga</td>\n",
       "      <td>11.235</td>\n",
       "      <td>-4.535</td>\n",
       "    </tr>\n",
       "    <tr>\n",
       "      <th>4</th>\n",
       "      <td>Burkina Faso</td>\n",
       "      <td>Monomtenga</td>\n",
       "      <td>12.060</td>\n",
       "      <td>-1.170</td>\n",
       "    </tr>\n",
       "    <tr>\n",
       "      <th>...</th>\n",
       "      <td>...</td>\n",
       "      <td>...</td>\n",
       "      <td>...</td>\n",
       "      <td>...</td>\n",
       "    </tr>\n",
       "    <tr>\n",
       "      <th>121</th>\n",
       "      <td>Tanzania</td>\n",
       "      <td>Moshi</td>\n",
       "      <td>-3.482</td>\n",
       "      <td>37.308</td>\n",
       "    </tr>\n",
       "    <tr>\n",
       "      <th>122</th>\n",
       "      <td>Tanzania</td>\n",
       "      <td>Tarime</td>\n",
       "      <td>-1.431</td>\n",
       "      <td>34.199</td>\n",
       "    </tr>\n",
       "    <tr>\n",
       "      <th>123</th>\n",
       "      <td>Tanzania</td>\n",
       "      <td>Muheza</td>\n",
       "      <td>-4.940</td>\n",
       "      <td>38.948</td>\n",
       "    </tr>\n",
       "    <tr>\n",
       "      <th>124</th>\n",
       "      <td>Uganda</td>\n",
       "      <td>Nagongera</td>\n",
       "      <td>0.770</td>\n",
       "      <td>34.026</td>\n",
       "    </tr>\n",
       "    <tr>\n",
       "      <th>125</th>\n",
       "      <td>Uganda</td>\n",
       "      <td>Kihihi</td>\n",
       "      <td>-0.751</td>\n",
       "      <td>29.701</td>\n",
       "    </tr>\n",
       "  </tbody>\n",
       "</table>\n",
       "<p>126 rows × 4 columns</p>\n",
       "</div>"
      ],
      "text/plain": [
       "          country        location  latitude  longitude\n",
       "0          Angola          Luanda    -8.884     13.302\n",
       "1    Burkina Faso            Pala    11.150     -4.235\n",
       "2    Burkina Faso            Bana    11.233     -4.472\n",
       "3    Burkina Faso  Souroukoudinga    11.235     -4.535\n",
       "4    Burkina Faso      Monomtenga    12.060     -1.170\n",
       "..            ...             ...       ...        ...\n",
       "121      Tanzania           Moshi    -3.482     37.308\n",
       "122      Tanzania          Tarime    -1.431     34.199\n",
       "123      Tanzania          Muheza    -4.940     38.948\n",
       "124        Uganda       Nagongera     0.770     34.026\n",
       "125        Uganda          Kihihi    -0.751     29.701\n",
       "\n",
       "[126 rows x 4 columns]"
      ]
     },
     "execution_count": 11,
     "metadata": {},
     "output_type": "execute_result"
    }
   ],
   "source": [
    "# We only need the unique locations\n",
    "locations = wild_sample_meta[['country', 'location', 'latitude', 'longitude']].drop_duplicates().reset_index(drop=True)\n",
    "locations"
   ]
  },
  {
   "cell_type": "code",
   "execution_count": null,
   "metadata": {},
   "outputs": [],
   "source": []
  },
  {
   "cell_type": "markdown",
   "metadata": {},
   "source": [
    "## Calculate the location colours"
   ]
  },
  {
   "cell_type": "code",
   "execution_count": 12,
   "metadata": {},
   "outputs": [
    {
     "data": {
      "text/html": [
       "<div>\n",
       "<style scoped>\n",
       "    .dataframe tbody tr th:only-of-type {\n",
       "        vertical-align: middle;\n",
       "    }\n",
       "\n",
       "    .dataframe tbody tr th {\n",
       "        vertical-align: top;\n",
       "    }\n",
       "\n",
       "    .dataframe thead th {\n",
       "        text-align: right;\n",
       "    }\n",
       "</style>\n",
       "<table border=\"1\" class=\"dataframe\">\n",
       "  <thead>\n",
       "    <tr style=\"text-align: right;\">\n",
       "      <th></th>\n",
       "      <th>country</th>\n",
       "      <th>location</th>\n",
       "      <th>latitude</th>\n",
       "      <th>longitude</th>\n",
       "      <th>rgb_hex</th>\n",
       "    </tr>\n",
       "  </thead>\n",
       "  <tbody>\n",
       "    <tr>\n",
       "      <th>0</th>\n",
       "      <td>Angola</td>\n",
       "      <td>Luanda</td>\n",
       "      <td>-8.884</td>\n",
       "      <td>13.302</td>\n",
       "      <td>#4d807c</td>\n",
       "    </tr>\n",
       "    <tr>\n",
       "      <th>1</th>\n",
       "      <td>Burkina Faso</td>\n",
       "      <td>Pala</td>\n",
       "      <td>11.150</td>\n",
       "      <td>-4.235</td>\n",
       "      <td>#d600ca</td>\n",
       "    </tr>\n",
       "    <tr>\n",
       "      <th>2</th>\n",
       "      <td>Burkina Faso</td>\n",
       "      <td>Bana</td>\n",
       "      <td>11.233</td>\n",
       "      <td>-4.472</td>\n",
       "      <td>#d600cb</td>\n",
       "    </tr>\n",
       "    <tr>\n",
       "      <th>3</th>\n",
       "      <td>Burkina Faso</td>\n",
       "      <td>Souroukoudinga</td>\n",
       "      <td>11.235</td>\n",
       "      <td>-4.535</td>\n",
       "      <td>#d600cb</td>\n",
       "    </tr>\n",
       "    <tr>\n",
       "      <th>4</th>\n",
       "      <td>Burkina Faso</td>\n",
       "      <td>Monomtenga</td>\n",
       "      <td>12.060</td>\n",
       "      <td>-1.170</td>\n",
       "      <td>#e000bd</td>\n",
       "    </tr>\n",
       "    <tr>\n",
       "      <th>...</th>\n",
       "      <td>...</td>\n",
       "      <td>...</td>\n",
       "      <td>...</td>\n",
       "      <td>...</td>\n",
       "      <td>...</td>\n",
       "    </tr>\n",
       "    <tr>\n",
       "      <th>121</th>\n",
       "      <td>Tanzania</td>\n",
       "      <td>Moshi</td>\n",
       "      <td>-3.482</td>\n",
       "      <td>37.308</td>\n",
       "      <td>#947100</td>\n",
       "    </tr>\n",
       "    <tr>\n",
       "      <th>122</th>\n",
       "      <td>Tanzania</td>\n",
       "      <td>Tarime</td>\n",
       "      <td>-1.431</td>\n",
       "      <td>34.199</td>\n",
       "      <td>#a16a1c</td>\n",
       "    </tr>\n",
       "    <tr>\n",
       "      <th>123</th>\n",
       "      <td>Tanzania</td>\n",
       "      <td>Muheza</td>\n",
       "      <td>-4.940</td>\n",
       "      <td>38.948</td>\n",
       "      <td>#8a7500</td>\n",
       "    </tr>\n",
       "    <tr>\n",
       "      <th>124</th>\n",
       "      <td>Uganda</td>\n",
       "      <td>Nagongera</td>\n",
       "      <td>0.770</td>\n",
       "      <td>34.026</td>\n",
       "      <td>#b06220</td>\n",
       "    </tr>\n",
       "    <tr>\n",
       "      <th>125</th>\n",
       "      <td>Uganda</td>\n",
       "      <td>Kihihi</td>\n",
       "      <td>-0.751</td>\n",
       "      <td>29.701</td>\n",
       "      <td>#a46836</td>\n",
       "    </tr>\n",
       "  </tbody>\n",
       "</table>\n",
       "<p>126 rows × 5 columns</p>\n",
       "</div>"
      ],
      "text/plain": [
       "          country        location  latitude  longitude  rgb_hex\n",
       "0          Angola          Luanda    -8.884     13.302  #4d807c\n",
       "1    Burkina Faso            Pala    11.150     -4.235  #d600ca\n",
       "2    Burkina Faso            Bana    11.233     -4.472  #d600cb\n",
       "3    Burkina Faso  Souroukoudinga    11.235     -4.535  #d600cb\n",
       "4    Burkina Faso      Monomtenga    12.060     -1.170  #e000bd\n",
       "..            ...             ...       ...        ...      ...\n",
       "121      Tanzania           Moshi    -3.482     37.308  #947100\n",
       "122      Tanzania          Tarime    -1.431     34.199  #a16a1c\n",
       "123      Tanzania          Muheza    -4.940     38.948  #8a7500\n",
       "124        Uganda       Nagongera     0.770     34.026  #b06220\n",
       "125        Uganda          Kihihi    -0.751     29.701  #a46836\n",
       "\n",
       "[126 rows x 5 columns]"
      ]
     },
     "execution_count": 12,
     "metadata": {},
     "output_type": "execute_result"
    }
   ],
   "source": [
    "locations['rgb_hex'] = latlong_to_rgb_hex_via_lab(locations['latitude'],\n",
    "                                                  locations['longitude'],\n",
    "                                                  min_lat=locations['latitude'].min(), max_lat=locations['latitude'].max(),\n",
    "                                                  min_long=locations['longitude'].min(), max_long=locations['longitude'].max(),\n",
    "                                                  centre_at_equator=centre_at_equator\n",
    "                                                 )\n",
    "locations"
   ]
  },
  {
   "cell_type": "code",
   "execution_count": null,
   "metadata": {},
   "outputs": [],
   "source": []
  },
  {
   "cell_type": "markdown",
   "metadata": {},
   "source": [
    "## Check the location colours on a map"
   ]
  },
  {
   "cell_type": "code",
   "execution_count": 13,
   "metadata": {},
   "outputs": [
    {
     "data": {
      "image/png": "[encoded data removed]",
      "text/plain": [
       "<Figure size 432x288 with 1 Axes>"
      ]
     },
     "metadata": {
      "needs_background": "light"
     },
     "output_type": "display_data"
    }
   ],
   "source": [
    "ax = plt.axes(projection=ccrs.PlateCarree())\n",
    "#ax.stock_img()\n",
    "ax.coastlines(color='grey')\n",
    "\n",
    "xlim = ([locations[\"longitude\"].min() - 10,  locations[\"longitude\"].max() + 10])\n",
    "ylim = ([locations[\"latitude\"].min() - 10,  locations[\"latitude\"].max() + 10])\n",
    "ax.set_xlim(xlim)\n",
    "ax.set_ylim(ylim)\n",
    "\n",
    "plt.scatter(locations[\"longitude\"], locations[\"latitude\"], edgecolors=locations[\"rgb_hex\"], alpha=0.5, s=100, color='None', linewidth=1.5)\n",
    "\n",
    "plt.show()"
   ]
  },
  {
   "cell_type": "code",
   "execution_count": null,
   "metadata": {},
   "outputs": [],
   "source": []
  },
  {
   "cell_type": "markdown",
   "metadata": {},
   "source": [
    "## Make a reference colour map"
   ]
  },
  {
   "cell_type": "code",
   "execution_count": 14,
   "metadata": {},
   "outputs": [
    {
     "data": {
      "text/plain": [
       "{'lat': -23.715999999999998, 'long': -16.033}"
      ]
     },
     "execution_count": 14,
     "metadata": {},
     "output_type": "execute_result"
    }
   ],
   "source": [
    "# Generate lat-longs limited to the range of collection sites\n",
    "min_lat = locations[\"latitude\"].min()\n",
    "max_lat = locations[\"latitude\"].max()\n",
    "min_long = locations[\"longitude\"].min()\n",
    "max_long = locations[\"longitude\"].max()\n",
    "\n",
    "# TODO: use a less brutal method\n",
    "ref_lat_longs = []\n",
    "lat_step = 1\n",
    "long_step = 1\n",
    "for lat in np.arange(min_lat, max_lat, lat_step):\n",
    "    for long in np.arange(min_long, max_long, long_step):\n",
    "        ref_lat_longs.append({'lat': lat, 'long': long})\n",
    "ref_lat_longs[0]"
   ]
  },
  {
   "cell_type": "code",
   "execution_count": 15,
   "metadata": {},
   "outputs": [
    {
     "data": {
      "text/html": [
       "<div>\n",
       "<style scoped>\n",
       "    .dataframe tbody tr th:only-of-type {\n",
       "        vertical-align: middle;\n",
       "    }\n",
       "\n",
       "    .dataframe tbody tr th {\n",
       "        vertical-align: top;\n",
       "    }\n",
       "\n",
       "    .dataframe thead th {\n",
       "        text-align: right;\n",
       "    }\n",
       "</style>\n",
       "<table border=\"1\" class=\"dataframe\">\n",
       "  <thead>\n",
       "    <tr style=\"text-align: right;\">\n",
       "      <th></th>\n",
       "      <th>lat</th>\n",
       "      <th>long</th>\n",
       "    </tr>\n",
       "  </thead>\n",
       "  <tbody>\n",
       "    <tr>\n",
       "      <th>0</th>\n",
       "      <td>-23.716</td>\n",
       "      <td>-16.033</td>\n",
       "    </tr>\n",
       "    <tr>\n",
       "      <th>1</th>\n",
       "      <td>-23.716</td>\n",
       "      <td>-15.033</td>\n",
       "    </tr>\n",
       "    <tr>\n",
       "      <th>2</th>\n",
       "      <td>-23.716</td>\n",
       "      <td>-14.033</td>\n",
       "    </tr>\n",
       "    <tr>\n",
       "      <th>3</th>\n",
       "      <td>-23.716</td>\n",
       "      <td>-13.033</td>\n",
       "    </tr>\n",
       "    <tr>\n",
       "      <th>4</th>\n",
       "      <td>-23.716</td>\n",
       "      <td>-12.033</td>\n",
       "    </tr>\n",
       "  </tbody>\n",
       "</table>\n",
       "</div>"
      ],
      "text/plain": [
       "      lat    long\n",
       "0 -23.716 -16.033\n",
       "1 -23.716 -15.033\n",
       "2 -23.716 -14.033\n",
       "3 -23.716 -13.033\n",
       "4 -23.716 -12.033"
      ]
     },
     "execution_count": 15,
     "metadata": {},
     "output_type": "execute_result"
    }
   ],
   "source": [
    "# Add the generated lat-longs to a DataFrame, for convenience\n",
    "ref_locations_df = pd.DataFrame(data=ref_lat_longs, columns=['lat', 'long'])\n",
    "ref_locations_df.head()"
   ]
  },
  {
   "cell_type": "code",
   "execution_count": 16,
   "metadata": {},
   "outputs": [
    {
     "data": {
      "text/html": [
       "<div>\n",
       "<style scoped>\n",
       "    .dataframe tbody tr th:only-of-type {\n",
       "        vertical-align: middle;\n",
       "    }\n",
       "\n",
       "    .dataframe tbody tr th {\n",
       "        vertical-align: top;\n",
       "    }\n",
       "\n",
       "    .dataframe thead th {\n",
       "        text-align: right;\n",
       "    }\n",
       "</style>\n",
       "<table border=\"1\" class=\"dataframe\">\n",
       "  <thead>\n",
       "    <tr style=\"text-align: right;\">\n",
       "      <th></th>\n",
       "      <th>lat</th>\n",
       "      <th>long</th>\n",
       "      <th>rgb_hex</th>\n",
       "    </tr>\n",
       "  </thead>\n",
       "  <tbody>\n",
       "    <tr>\n",
       "      <th>0</th>\n",
       "      <td>-23.716</td>\n",
       "      <td>-16.033</td>\n",
       "      <td>#009afb</td>\n",
       "    </tr>\n",
       "    <tr>\n",
       "      <th>1</th>\n",
       "      <td>-23.716</td>\n",
       "      <td>-15.033</td>\n",
       "      <td>#009af7</td>\n",
       "    </tr>\n",
       "    <tr>\n",
       "      <th>2</th>\n",
       "      <td>-23.716</td>\n",
       "      <td>-14.033</td>\n",
       "      <td>#009af2</td>\n",
       "    </tr>\n",
       "    <tr>\n",
       "      <th>3</th>\n",
       "      <td>-23.716</td>\n",
       "      <td>-13.033</td>\n",
       "      <td>#009aee</td>\n",
       "    </tr>\n",
       "    <tr>\n",
       "      <th>4</th>\n",
       "      <td>-23.716</td>\n",
       "      <td>-12.033</td>\n",
       "      <td>#0099e9</td>\n",
       "    </tr>\n",
       "  </tbody>\n",
       "</table>\n",
       "</div>"
      ],
      "text/plain": [
       "      lat    long  rgb_hex\n",
       "0 -23.716 -16.033  #009afb\n",
       "1 -23.716 -15.033  #009af7\n",
       "2 -23.716 -14.033  #009af2\n",
       "3 -23.716 -13.033  #009aee\n",
       "4 -23.716 -12.033  #0099e9"
      ]
     },
     "execution_count": 16,
     "metadata": {},
     "output_type": "execute_result"
    }
   ],
   "source": [
    "# Get the colours for the lat-longs\n",
    "ref_locations_df['rgb_hex'] = latlong_to_rgb_hex_via_lab(ref_locations_df['lat'],\n",
    "                                                            ref_locations_df['long'],\n",
    "                                                            min_lat=min_lat, max_lat=max_lat,\n",
    "                                                            min_long=min_long, max_long=max_long,\n",
    "                                                            centre_at_equator=centre_at_equator\n",
    "                                                           )\n",
    "ref_locations_df.head()"
   ]
  },
  {
   "cell_type": "markdown",
   "metadata": {},
   "source": [
    "### Plot the coloured lat-longs on a map"
   ]
  },
  {
   "cell_type": "code",
   "execution_count": 17,
   "metadata": {},
   "outputs": [
    {
     "data": {
      "image/png": "[encoded data removed]",
      "text/plain": [
       "<Figure size 720x720 with 1 Axes>"
      ]
     },
     "metadata": {
      "needs_background": "light"
     },
     "output_type": "display_data"
    }
   ],
   "source": [
    "fig = plt.figure(figsize=(10, 10))\n",
    "ax = plt.axes(projection=ccrs.PlateCarree())\n",
    "\n",
    "xlim = ([min_long - 3, max_long + 7]) # west, east (long)\n",
    "ylim = ([min_lat - 15,  max_lat + 25]) # south, north (lat)\n",
    "ax.set_xlim(xlim)\n",
    "ax.set_ylim(ylim)\n",
    "\n",
    "ax.add_feature(cart.feature.OCEAN, zorder=1, edgecolor='k', facecolor='white')\n",
    "plt.scatter(ref_locations_df[\"long\"], ref_locations_df[\"lat\"], c=ref_locations_df[\"rgb_hex\"], marker='s', s=50)\n",
    "\n",
    "plt.show()"
   ]
  },
  {
   "cell_type": "markdown",
   "metadata": {},
   "source": [
    "### Check the locations on the reference map"
   ]
  },
  {
   "cell_type": "code",
   "execution_count": 18,
   "metadata": {},
   "outputs": [
    {
     "data": {
      "image/png": "[encoded data removed]",
      "text/plain": [
       "<Figure size 720x720 with 1 Axes>"
      ]
     },
     "metadata": {
      "needs_background": "light"
     },
     "output_type": "display_data"
    }
   ],
   "source": [
    "fig = plt.figure(figsize=(10, 10))\n",
    "ax = plt.axes(projection=ccrs.PlateCarree())\n",
    "\n",
    "xlim = ([min_long - 3, max_long + 7]) # west, east (long)\n",
    "ylim = ([min_lat - 15,  max_lat + 25]) # south, north (lat)\n",
    "ax.set_xlim(xlim)\n",
    "ax.set_ylim(ylim)\n",
    "\n",
    "ax.add_feature(cart.feature.OCEAN, zorder=1, edgecolor='k', facecolor='white')\n",
    "plt.scatter(ref_locations_df[\"long\"], ref_locations_df[\"lat\"], c=ref_locations_df[\"rgb_hex\"], marker='s', s=50)\n",
    "rect = patches.Rectangle(\n",
    "    (min_long, min_lat), (max_long - min_long), (max_lat - min_lat),\n",
    "    linewidth=1, edgecolor='black', facecolor='none', linestyle='--'\n",
    ")\n",
    "ax.add_patch(rect)\n",
    "plt.plot([min_long - 3, max_long + 7], [0, 0], color='black', linewidth=3, marker='None', linestyle='--')\n",
    "plt.scatter(locations[\"longitude\"], locations[\"latitude\"], c=locations[\"rgb_hex\"], edgecolor='k', alpha=1, s=100, linewidth=1.5, zorder=3)\n",
    "\n",
    "plt.show()"
   ]
  },
  {
   "cell_type": "code",
   "execution_count": null,
   "metadata": {},
   "outputs": [],
   "source": []
  },
  {
   "cell_type": "markdown",
   "metadata": {},
   "source": [
    "## Store the location colours as a file"
   ]
  },
  {
   "cell_type": "code",
   "execution_count": 19,
   "metadata": {},
   "outputs": [
    {
     "data": {
      "text/html": [
       "<div>\n",
       "<style scoped>\n",
       "    .dataframe tbody tr th:only-of-type {\n",
       "        vertical-align: middle;\n",
       "    }\n",
       "\n",
       "    .dataframe tbody tr th {\n",
       "        vertical-align: top;\n",
       "    }\n",
       "\n",
       "    .dataframe thead th {\n",
       "        text-align: right;\n",
       "    }\n",
       "</style>\n",
       "<table border=\"1\" class=\"dataframe\">\n",
       "  <thead>\n",
       "    <tr style=\"text-align: right;\">\n",
       "      <th></th>\n",
       "      <th></th>\n",
       "      <th>rgb_hex</th>\n",
       "    </tr>\n",
       "    <tr>\n",
       "      <th>country</th>\n",
       "      <th>location</th>\n",
       "      <th></th>\n",
       "    </tr>\n",
       "  </thead>\n",
       "  <tbody>\n",
       "    <tr>\n",
       "      <th>Angola</th>\n",
       "      <th>Luanda</th>\n",
       "      <td>#4d807c</td>\n",
       "    </tr>\n",
       "    <tr>\n",
       "      <th rowspan=\"4\" valign=\"top\">Burkina Faso</th>\n",
       "      <th>Pala</th>\n",
       "      <td>#d600ca</td>\n",
       "    </tr>\n",
       "    <tr>\n",
       "      <th>Bana</th>\n",
       "      <td>#d600cb</td>\n",
       "    </tr>\n",
       "    <tr>\n",
       "      <th>Souroukoudinga</th>\n",
       "      <td>#d600cb</td>\n",
       "    </tr>\n",
       "    <tr>\n",
       "      <th>Monomtenga</th>\n",
       "      <td>#e000bd</td>\n",
       "    </tr>\n",
       "    <tr>\n",
       "      <th>...</th>\n",
       "      <th>...</th>\n",
       "      <td>...</td>\n",
       "    </tr>\n",
       "    <tr>\n",
       "      <th rowspan=\"3\" valign=\"top\">Tanzania</th>\n",
       "      <th>Moshi</th>\n",
       "      <td>#947100</td>\n",
       "    </tr>\n",
       "    <tr>\n",
       "      <th>Tarime</th>\n",
       "      <td>#a16a1c</td>\n",
       "    </tr>\n",
       "    <tr>\n",
       "      <th>Muheza</th>\n",
       "      <td>#8a7500</td>\n",
       "    </tr>\n",
       "    <tr>\n",
       "      <th rowspan=\"2\" valign=\"top\">Uganda</th>\n",
       "      <th>Nagongera</th>\n",
       "      <td>#b06220</td>\n",
       "    </tr>\n",
       "    <tr>\n",
       "      <th>Kihihi</th>\n",
       "      <td>#a46836</td>\n",
       "    </tr>\n",
       "  </tbody>\n",
       "</table>\n",
       "<p>126 rows × 1 columns</p>\n",
       "</div>"
      ],
      "text/plain": [
       "                             rgb_hex\n",
       "country      location               \n",
       "Angola       Luanda          #4d807c\n",
       "Burkina Faso Pala            #d600ca\n",
       "             Bana            #d600cb\n",
       "             Souroukoudinga  #d600cb\n",
       "             Monomtenga      #e000bd\n",
       "...                              ...\n",
       "Tanzania     Moshi           #947100\n",
       "             Tarime          #a16a1c\n",
       "             Muheza          #8a7500\n",
       "Uganda       Nagongera       #b06220\n",
       "             Kihihi          #a46836\n",
       "\n",
       "[126 rows x 1 columns]"
      ]
     },
     "execution_count": 19,
     "metadata": {},
     "output_type": "execute_result"
    }
   ],
   "source": [
    "# Get the location_labels and their corresponding rgb_hex colours\n",
    "location_colours = locations[['country', 'location', 'rgb_hex']].set_index(['country', 'location'])\n",
    "location_colours"
   ]
  },
  {
   "cell_type": "markdown",
   "metadata": {},
   "source": [
    "### Convert the DataFrame values into a dictionary"
   ]
  },
  {
   "cell_type": "code",
   "execution_count": 20,
   "metadata": {},
   "outputs": [],
   "source": [
    "# Note: Panda's to_dict(orient='index') converts multi-column index into a tuple,\n",
    "# which isn't what we want for the YAML\n",
    "#location_colours_as_dict = location_colours.to_dict(orient='index')\n",
    "#list(location_colours_as_dict.keys())[0]\n",
    "#ignore_index=True"
   ]
  },
  {
   "cell_type": "code",
   "execution_count": 21,
   "metadata": {},
   "outputs": [],
   "source": [
    "# Compose the dict manually\n",
    "location_colours_as_dict = {}\n",
    "for country, country_group in location_colours.groupby('country'):\n",
    "    location_colours_as_dict[country] = {}\n",
    "    for location, location_group in country_group.groupby('location'):\n",
    "        location_colours_as_dict[country][location] = location_group['rgb_hex'][0]"
   ]
  },
  {
   "cell_type": "code",
   "execution_count": 22,
   "metadata": {},
   "outputs": [
    {
     "data": {
      "text/plain": [
       "dict_keys(['Angola', 'Burkina Faso', 'Cameroon', 'Central African Republic', \"Cote d'Ivoire\", 'Democratic Republic of Congo', 'Equatorial Guinea', 'Gabon', 'Gambia, The', 'Ghana', 'Guinea', 'Guinea-Bissau', 'Kenya', 'Malawi', 'Mali', 'Mayotte', 'Mozambique', 'Tanzania', 'Uganda'])"
      ]
     },
     "execution_count": 22,
     "metadata": {},
     "output_type": "execute_result"
    }
   ],
   "source": [
    "location_colours_as_dict.keys()"
   ]
  },
  {
   "cell_type": "code",
   "execution_count": 23,
   "metadata": {},
   "outputs": [
    {
     "data": {
      "text/plain": [
       "{'Bana': '#d600cb',\n",
       " 'Monomtenga': '#e000bd',\n",
       " 'Pala': '#d600ca',\n",
       " 'Souroukoudinga': '#d600cb'}"
      ]
     },
     "execution_count": 23,
     "metadata": {},
     "output_type": "execute_result"
    }
   ],
   "source": [
    "location_colours_as_dict['Burkina Faso']"
   ]
  },
  {
   "cell_type": "code",
   "execution_count": null,
   "metadata": {},
   "outputs": [],
   "source": []
  },
  {
   "cell_type": "markdown",
   "metadata": {},
   "source": [
    "### Write the dictionary to YAML"
   ]
  },
  {
   "cell_type": "code",
   "execution_count": 24,
   "metadata": {},
   "outputs": [],
   "source": [
    "with open(output_path, 'w') as ymlfile:\n",
    "    yaml.dump(location_colours_as_dict, ymlfile, sort_keys=True, allow_unicode=True)"
   ]
  },
  {
   "cell_type": "code",
   "execution_count": null,
   "metadata": {},
   "outputs": [],
   "source": []
  },
  {
   "cell_type": "markdown",
   "metadata": {},
   "source": [
    "## Check the location colours file"
   ]
  },
  {
   "cell_type": "code",
   "execution_count": 25,
   "metadata": {},
   "outputs": [],
   "source": [
    "# Load the data from the YAML file\n",
    "with open(output_path) as file:\n",
    "    reloaded_data_dict = yaml.load(file, Loader=yaml.Loader)"
   ]
  },
  {
   "cell_type": "code",
   "execution_count": 26,
   "metadata": {},
   "outputs": [
    {
     "data": {
      "text/plain": [
       "dict_keys(['Angola', 'Burkina Faso', 'Cameroon', 'Central African Republic', \"Cote d'Ivoire\", 'Democratic Republic of Congo', 'Equatorial Guinea', 'Gabon', 'Gambia, The', 'Ghana', 'Guinea', 'Guinea-Bissau', 'Kenya', 'Malawi', 'Mali', 'Mayotte', 'Mozambique', 'Tanzania', 'Uganda'])"
      ]
     },
     "execution_count": 26,
     "metadata": {},
     "output_type": "execute_result"
    }
   ],
   "source": [
    "reloaded_data_dict.keys()"
   ]
  },
  {
   "cell_type": "code",
   "execution_count": 27,
   "metadata": {},
   "outputs": [
    {
     "data": {
      "text/plain": [
       "{'Bana': '#d600cb',\n",
       " 'Monomtenga': '#e000bd',\n",
       " 'Pala': '#d600ca',\n",
       " 'Souroukoudinga': '#d600cb'}"
      ]
     },
     "execution_count": 27,
     "metadata": {},
     "output_type": "execute_result"
    }
   ],
   "source": [
    "reloaded_data_dict['Burkina Faso']"
   ]
  },
  {
   "cell_type": "markdown",
   "metadata": {},
   "source": [
    "### Convert the dict into a DataFrame"
   ]
  },
  {
   "cell_type": "code",
   "execution_count": 28,
   "metadata": {},
   "outputs": [],
   "source": [
    "# Note: Panda's from_dict() and from_records() don't interpret the dict in the way we want\n",
    "#reloaded_df = pd.DataFrame.from_dict(reloaded_data_dict)\n",
    "#reloaded_df.head()"
   ]
  },
  {
   "cell_type": "code",
   "execution_count": 29,
   "metadata": {},
   "outputs": [
    {
     "data": {
      "text/html": [
       "<div>\n",
       "<style scoped>\n",
       "    .dataframe tbody tr th:only-of-type {\n",
       "        vertical-align: middle;\n",
       "    }\n",
       "\n",
       "    .dataframe tbody tr th {\n",
       "        vertical-align: top;\n",
       "    }\n",
       "\n",
       "    .dataframe thead th {\n",
       "        text-align: right;\n",
       "    }\n",
       "</style>\n",
       "<table border=\"1\" class=\"dataframe\">\n",
       "  <thead>\n",
       "    <tr style=\"text-align: right;\">\n",
       "      <th></th>\n",
       "      <th>country</th>\n",
       "      <th>location</th>\n",
       "      <th>rgb_hex</th>\n",
       "    </tr>\n",
       "  </thead>\n",
       "  <tbody>\n",
       "    <tr>\n",
       "      <th>0</th>\n",
       "      <td>Angola</td>\n",
       "      <td>Luanda</td>\n",
       "      <td>#4d807c</td>\n",
       "    </tr>\n",
       "    <tr>\n",
       "      <th>1</th>\n",
       "      <td>Burkina Faso</td>\n",
       "      <td>Bana</td>\n",
       "      <td>#d600cb</td>\n",
       "    </tr>\n",
       "    <tr>\n",
       "      <th>2</th>\n",
       "      <td>Burkina Faso</td>\n",
       "      <td>Monomtenga</td>\n",
       "      <td>#e000bd</td>\n",
       "    </tr>\n",
       "    <tr>\n",
       "      <th>3</th>\n",
       "      <td>Burkina Faso</td>\n",
       "      <td>Pala</td>\n",
       "      <td>#d600ca</td>\n",
       "    </tr>\n",
       "    <tr>\n",
       "      <th>4</th>\n",
       "      <td>Burkina Faso</td>\n",
       "      <td>Souroukoudinga</td>\n",
       "      <td>#d600cb</td>\n",
       "    </tr>\n",
       "    <tr>\n",
       "      <th>...</th>\n",
       "      <td>...</td>\n",
       "      <td>...</td>\n",
       "      <td>...</td>\n",
       "    </tr>\n",
       "    <tr>\n",
       "      <th>121</th>\n",
       "      <td>Tanzania</td>\n",
       "      <td>Muheza</td>\n",
       "      <td>#8a7500</td>\n",
       "    </tr>\n",
       "    <tr>\n",
       "      <th>122</th>\n",
       "      <td>Tanzania</td>\n",
       "      <td>Muleba</td>\n",
       "      <td>#9d6c2b</td>\n",
       "    </tr>\n",
       "    <tr>\n",
       "      <th>123</th>\n",
       "      <td>Tanzania</td>\n",
       "      <td>Tarime</td>\n",
       "      <td>#a16a1c</td>\n",
       "    </tr>\n",
       "    <tr>\n",
       "      <th>124</th>\n",
       "      <td>Uganda</td>\n",
       "      <td>Kihihi</td>\n",
       "      <td>#a46836</td>\n",
       "    </tr>\n",
       "    <tr>\n",
       "      <th>125</th>\n",
       "      <td>Uganda</td>\n",
       "      <td>Nagongera</td>\n",
       "      <td>#b06220</td>\n",
       "    </tr>\n",
       "  </tbody>\n",
       "</table>\n",
       "<p>126 rows × 3 columns</p>\n",
       "</div>"
      ],
      "text/plain": [
       "          country        location  rgb_hex\n",
       "0          Angola          Luanda  #4d807c\n",
       "1    Burkina Faso            Bana  #d600cb\n",
       "2    Burkina Faso      Monomtenga  #e000bd\n",
       "3    Burkina Faso            Pala  #d600ca\n",
       "4    Burkina Faso  Souroukoudinga  #d600cb\n",
       "..            ...             ...      ...\n",
       "121      Tanzania          Muheza  #8a7500\n",
       "122      Tanzania          Muleba  #9d6c2b\n",
       "123      Tanzania          Tarime  #a16a1c\n",
       "124        Uganda          Kihihi  #a46836\n",
       "125        Uganda       Nagongera  #b06220\n",
       "\n",
       "[126 rows x 3 columns]"
      ]
     },
     "execution_count": 29,
     "metadata": {},
     "output_type": "execute_result"
    }
   ],
   "source": [
    "# Compose the DataFrame manually\n",
    "reloaded_df = pd.DataFrame(columns=['country', 'location', 'rgb_hex'])\n",
    "for country in reloaded_data_dict.keys():\n",
    "    for location in reloaded_data_dict[country].keys():\n",
    "        reloaded_df = reloaded_df.append(\n",
    "            {'country': country, 'location': location, 'rgb_hex': reloaded_data_dict[country][location]},\n",
    "            ignore_index=True\n",
    "        )\n",
    "reloaded_df"
   ]
  },
  {
   "cell_type": "code",
   "execution_count": 30,
   "metadata": {},
   "outputs": [
    {
     "data": {
      "text/html": [
       "<div>\n",
       "<style scoped>\n",
       "    .dataframe tbody tr th:only-of-type {\n",
       "        vertical-align: middle;\n",
       "    }\n",
       "\n",
       "    .dataframe tbody tr th {\n",
       "        vertical-align: top;\n",
       "    }\n",
       "\n",
       "    .dataframe thead th {\n",
       "        text-align: right;\n",
       "    }\n",
       "</style>\n",
       "<table border=\"1\" class=\"dataframe\">\n",
       "  <thead>\n",
       "    <tr style=\"text-align: right;\">\n",
       "      <th></th>\n",
       "      <th>country</th>\n",
       "      <th>location</th>\n",
       "      <th>rgb_hex</th>\n",
       "      <th>longitude</th>\n",
       "      <th>latitude</th>\n",
       "    </tr>\n",
       "  </thead>\n",
       "  <tbody>\n",
       "    <tr>\n",
       "      <th>0</th>\n",
       "      <td>Angola</td>\n",
       "      <td>Luanda</td>\n",
       "      <td>#4d807c</td>\n",
       "      <td>13.302</td>\n",
       "      <td>-8.884</td>\n",
       "    </tr>\n",
       "    <tr>\n",
       "      <th>1</th>\n",
       "      <td>Burkina Faso</td>\n",
       "      <td>Bana</td>\n",
       "      <td>#d600cb</td>\n",
       "      <td>-4.472</td>\n",
       "      <td>11.233</td>\n",
       "    </tr>\n",
       "    <tr>\n",
       "      <th>2</th>\n",
       "      <td>Burkina Faso</td>\n",
       "      <td>Monomtenga</td>\n",
       "      <td>#e000bd</td>\n",
       "      <td>-1.170</td>\n",
       "      <td>12.060</td>\n",
       "    </tr>\n",
       "    <tr>\n",
       "      <th>3</th>\n",
       "      <td>Burkina Faso</td>\n",
       "      <td>Pala</td>\n",
       "      <td>#d600ca</td>\n",
       "      <td>-4.235</td>\n",
       "      <td>11.150</td>\n",
       "    </tr>\n",
       "    <tr>\n",
       "      <th>4</th>\n",
       "      <td>Burkina Faso</td>\n",
       "      <td>Souroukoudinga</td>\n",
       "      <td>#d600cb</td>\n",
       "      <td>-4.535</td>\n",
       "      <td>11.235</td>\n",
       "    </tr>\n",
       "    <tr>\n",
       "      <th>...</th>\n",
       "      <td>...</td>\n",
       "      <td>...</td>\n",
       "      <td>...</td>\n",
       "      <td>...</td>\n",
       "      <td>...</td>\n",
       "    </tr>\n",
       "    <tr>\n",
       "      <th>121</th>\n",
       "      <td>Tanzania</td>\n",
       "      <td>Muheza</td>\n",
       "      <td>#8a7500</td>\n",
       "      <td>38.948</td>\n",
       "      <td>-4.940</td>\n",
       "    </tr>\n",
       "    <tr>\n",
       "      <th>122</th>\n",
       "      <td>Tanzania</td>\n",
       "      <td>Muleba</td>\n",
       "      <td>#9d6c2b</td>\n",
       "      <td>31.651</td>\n",
       "      <td>-1.962</td>\n",
       "    </tr>\n",
       "    <tr>\n",
       "      <th>123</th>\n",
       "      <td>Tanzania</td>\n",
       "      <td>Tarime</td>\n",
       "      <td>#a16a1c</td>\n",
       "      <td>34.199</td>\n",
       "      <td>-1.431</td>\n",
       "    </tr>\n",
       "    <tr>\n",
       "      <th>124</th>\n",
       "      <td>Uganda</td>\n",
       "      <td>Kihihi</td>\n",
       "      <td>#a46836</td>\n",
       "      <td>29.701</td>\n",
       "      <td>-0.751</td>\n",
       "    </tr>\n",
       "    <tr>\n",
       "      <th>125</th>\n",
       "      <td>Uganda</td>\n",
       "      <td>Nagongera</td>\n",
       "      <td>#b06220</td>\n",
       "      <td>34.026</td>\n",
       "      <td>0.770</td>\n",
       "    </tr>\n",
       "  </tbody>\n",
       "</table>\n",
       "<p>126 rows × 5 columns</p>\n",
       "</div>"
      ],
      "text/plain": [
       "          country        location  rgb_hex  longitude  latitude\n",
       "0          Angola          Luanda  #4d807c     13.302    -8.884\n",
       "1    Burkina Faso            Bana  #d600cb     -4.472    11.233\n",
       "2    Burkina Faso      Monomtenga  #e000bd     -1.170    12.060\n",
       "3    Burkina Faso            Pala  #d600ca     -4.235    11.150\n",
       "4    Burkina Faso  Souroukoudinga  #d600cb     -4.535    11.235\n",
       "..            ...             ...      ...        ...       ...\n",
       "121      Tanzania          Muheza  #8a7500     38.948    -4.940\n",
       "122      Tanzania          Muleba  #9d6c2b     31.651    -1.962\n",
       "123      Tanzania          Tarime  #a16a1c     34.199    -1.431\n",
       "124        Uganda          Kihihi  #a46836     29.701    -0.751\n",
       "125        Uganda       Nagongera  #b06220     34.026     0.770\n",
       "\n",
       "[126 rows x 5 columns]"
      ]
     },
     "execution_count": 30,
     "metadata": {},
     "output_type": "execute_result"
    }
   ],
   "source": [
    "# Match the location labels with the lat longs we have\n",
    "original_locations = locations[['country', 'location', 'longitude', 'latitude']]\n",
    "recovered_locations = reloaded_df.merge(original_locations, on=['country', 'location'])\n",
    "recovered_locations"
   ]
  },
  {
   "cell_type": "markdown",
   "metadata": {},
   "source": [
    "### Eyeball the colours from the file on a map"
   ]
  },
  {
   "cell_type": "code",
   "execution_count": 31,
   "metadata": {},
   "outputs": [
    {
     "data": {
      "image/png": "[encoded data removed]",
      "text/plain": [
       "<Figure size 576x576 with 1 Axes>"
      ]
     },
     "metadata": {
      "needs_background": "light"
     },
     "output_type": "display_data"
    }
   ],
   "source": [
    "fig = plt.figure(figsize=(8, 8))\n",
    "ax = plt.axes(projection=ccrs.PlateCarree())\n",
    "\n",
    "xlim = ([recovered_locations[\"longitude\"].min() - 10,  recovered_locations[\"longitude\"].max() + 10])\n",
    "ylim = ([recovered_locations[\"latitude\"].min() - 10,  recovered_locations[\"latitude\"].max() + 10])\n",
    "ax.set_xlim(xlim)\n",
    "ax.set_ylim(ylim)\n",
    "\n",
    "ax.gridlines(color='blue')\n",
    "ax.coastlines()\n",
    "\n",
    "plt.scatter(recovered_locations[\"longitude\"], recovered_locations[\"latitude\"], color=recovered_locations[\"rgb_hex\"], s=100)\n",
    "\n",
    "plt.show()"
   ]
  },
  {
   "cell_type": "code",
   "execution_count": null,
   "metadata": {},
   "outputs": [],
   "source": []
  },
  {
   "cell_type": "markdown",
   "metadata": {},
   "source": [
    "## Test `ag3.py` usage"
   ]
  },
  {
   "cell_type": "code",
   "execution_count": 32,
   "metadata": {},
   "outputs": [
    {
     "data": {
      "text/plain": [
       "<module 'ag3' from '/home/jovyan/gitRepos/ag1000g-phase3-data-paper/notebooks/ag3.py'>"
      ]
     },
     "execution_count": 32,
     "metadata": {},
     "output_type": "execute_result"
    }
   ],
   "source": [
    "import ag3\n",
    "import importlib\n",
    "importlib.reload(ag3)"
   ]
  },
  {
   "cell_type": "code",
   "execution_count": 33,
   "metadata": {},
   "outputs": [
    {
     "data": {
      "text/plain": [
       "dict_keys(['Afan-Essokye', 'Ahala', 'Avebe', 'Badankali', 'Badjawa', 'Balda Bouri', 'Bamendi', 'Banda', 'Beka Goto', 'Bini', 'Birsok', 'Campo', 'Carrefour Nari', 'Carrefour Poli', 'Daiguene', 'Djaba', 'Djamboutou', 'Djet', 'Dolla', 'Dombé', 'Douala', 'Doulougou', 'Essos', 'Foulassi I', 'Gada Mabanga', 'Gado Badzere', 'Gakle', 'Gamba', 'Gouna', 'Guijiba', 'Harr', 'Karba', 'Laf', 'Lagdo', 'Lainde Mbana', 'Lamoudan', 'Lougga Tapadi', 'Lougol', \"Mabarangal'L\", 'Makabay (Djarengo)', 'Mambang', 'Manchoutvi', 'Manda', 'Mangoum', 'Massila', 'Mawara', 'Mayo Boki', 'Mayo Dafan', 'Mayo Djarani', 'Mayo Lebride', 'Mayos', 'Mbalmayo', 'Mfelap', 'Mgbandji', 'Morongo', 'Moulva', 'Mounda', 'Moussourtouk', 'Ngaouya Nga', 'Nkolondom', 'Nlozok', 'Obala', 'Otibili', 'Palama', 'Rompo', 'Secamde', 'Sorawel', 'Séboré', 'Tchéré', 'Tekel', 'Tibati', 'Toumbouroum', 'Wouro Andre', 'Yaounde', 'Zembe Borongo'])"
      ]
     },
     "execution_count": 33,
     "metadata": {},
     "output_type": "execute_result"
    }
   ],
   "source": [
    "imported_location_colours = ag3.release_data().location_colours\n",
    "imported_location_colours['Cameroon'].keys()"
   ]
  },
  {
   "cell_type": "code",
   "execution_count": 34,
   "metadata": {},
   "outputs": [
    {
     "data": {
      "text/plain": [
       "'#df1c7e'"
      ]
     },
     "execution_count": 34,
     "metadata": {},
     "output_type": "execute_result"
    }
   ],
   "source": [
    "imported_location_colours['Cameroon']['Séboré']"
   ]
  },
  {
   "cell_type": "code",
   "execution_count": null,
   "metadata": {},
   "outputs": [],
   "source": []
  }
 ],
 "metadata": {
  "kernelspec": {
   "display_name": "Python 3",
   "language": "python",
   "name": "python3"
  },
  "language_info": {
   "codemirror_mode": {
    "name": "ipython",
    "version": 3
   },
   "file_extension": ".py",
   "mimetype": "text/x-python",
   "name": "python",
   "nbconvert_exporter": "python",
   "pygments_lexer": "ipython3",
   "version": "3.7.6"
  }
 },
 "nbformat": 4,
 "nbformat_minor": 4
}
