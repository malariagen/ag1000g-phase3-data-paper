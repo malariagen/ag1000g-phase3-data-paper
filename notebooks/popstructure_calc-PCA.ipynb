{
 "cells": [
  {
   "cell_type": "markdown",
   "metadata": {},
   "source": [
    "# Calculate PCA data using the Ag3 data release\n",
    "\n",
    "The PCA data files for gamb_colu, arab and gamb_colu_arab are stored on Google Cloud Storage. Each Zarr is about 5 MB.\n",
    "\n",
    "A few basic plots are made to eyeball the data before it is stored."
   ]
  },
  {
   "cell_type": "code",
   "execution_count": 2,
   "metadata": {},
   "outputs": [],
   "source": [
    "# Imports\n",
    "import gcsfs\n",
    "import pandas as pd\n",
    "import zarr\n",
    "import allel\n",
    "import numpy as np\n",
    "import matplotlib.pyplot as plt"
   ]
  },
  {
   "cell_type": "markdown",
   "metadata": {},
   "source": [
    "## Settings"
   ]
  },
  {
   "cell_type": "code",
   "execution_count": 7,
   "metadata": {},
   "outputs": [],
   "source": [
    "# Specify the species groups, used in file names, site filter, region and sample selection\n",
    "species_groups = ['gamb_colu_arab', 'gamb_colu','arab', 'gamb_colu_arab_pca']\n",
    "\n",
    "# The number of principal components to process\n",
    "n_principal_components = 10\n",
    "\n",
    "# Specify the storage paths\n",
    "input_alleles_cloud_zarr_path_template = 'vo_agam_production/ag3_data_paper/{}.pca_umap_input_alleles.zarr'\n",
    "output_cloud_zarr_path_template = 'vo_agam_production/ag3_data_paper/{}.pca_output.zarr'"
   ]
  },
  {
   "cell_type": "markdown",
   "metadata": {},
   "source": [
    "## Check the output doesn't already exist"
   ]
  },
  {
   "cell_type": "code",
   "execution_count": 8,
   "metadata": {},
   "outputs": [
    {
     "name": "stdout",
     "output_type": "stream",
     "text": [
      "gamb_colu_arab already exists\n",
      "gamb_colu already exists\n",
      "arab already exists\n"
     ]
    },
    {
     "data": {
      "text/plain": [
       "['gamb_colu_arab_pca']"
      ]
     },
     "execution_count": 8,
     "metadata": {},
     "output_type": "execute_result"
    }
   ],
   "source": [
    "# Writing the PCA data to the cloud will require the appropriate authentication and authorization.\n",
    "\n",
    "# UNCOMMENT THIS TO AUTHENTICATE. YOU ONLY NEED TO RUN THIS ONCE.\n",
    "# After running this once, your authentication token should then be cached in `~/.gcs_tokens`\n",
    "# Once you have authenticated, you should comment this out again to avoid re-authenticating.\n",
    "# gcs_browser = gcsfs.GCSFileSystem(project='malariagen-jupyterhub', token='browser')\n",
    "\n",
    "# Use `cache_timeout=0` to prevent object list cache, to avoid recreating map for Zarr consolidated metadata\n",
    "auth_fs = gcsfs.GCSFileSystem(project='malariagen-jupyterhub', token='cache', cache_timeout=0)\n",
    "\n",
    "# Check that the output's Zarr metadata file is not already on the cloud.\n",
    "# We don't want to accidentally overwrite or delete existing data, which might have been used in downstream analysis.\n",
    "# We don't simply check for the existence of the Zarr file here (i.e. output_cloud_zarr_path),\n",
    "# We might want to re-run the first parts of this notebook again,\n",
    "# so the Zarr store might legitimately exist but be incomplete.\n",
    "# The Zarr store is not considered complete until the Zarr metadata file (.zmetadata) is present and correct.\n",
    "# The final part of this notebook includes steps to create the Zarr metadata file and then validate it.\n",
    "\n",
    "for species_group in species_groups:\n",
    "    output_cloud_zarr_path = output_cloud_zarr_path_template.format(species_group)\n",
    "    output_cloud_zarr_metadata_path = f'{output_cloud_zarr_path}/.zmetadata'\n",
    "    if auth_fs.exists(output_cloud_zarr_metadata_path):\n",
    "        print(species_group, \"already exists\")\n",
    "\n",
    "species_groups = [s for s in species_groups if not auth_fs.exists(f'{output_cloud_zarr_path_template.format(s)}/.zmetadata')]\n",
    "species_groups"
   ]
  },
  {
   "cell_type": "markdown",
   "metadata": {},
   "source": [
    "## Get the allele counts for each species group"
   ]
  },
  {
   "cell_type": "code",
   "execution_count": 9,
   "metadata": {},
   "outputs": [],
   "source": [
    "allele_count_zarr_stores = {} # Not used, but kept for convenience\n",
    "allele_count_zarr_groups = {}\n",
    "for species_group in species_groups:\n",
    "    allele_count_zarr_stores[species_group] = auth_fs.get_mapper(input_alleles_cloud_zarr_path_template.format(species_group))\n",
    "    allele_count_zarr_groups[species_group] = zarr.Group(allele_count_zarr_stores[species_group], read_only=True)"
   ]
  },
  {
   "cell_type": "markdown",
   "metadata": {},
   "source": [
    "## Run the PCA"
   ]
  },
  {
   "cell_type": "code",
   "execution_count": 10,
   "metadata": {},
   "outputs": [],
   "source": [
    "# NOTE: if this halts with `ValueError: array must not contain infs or NaNs`\n",
    "# that might be because we've selected a non-segregating variant, where division leads to inf."
   ]
  },
  {
   "cell_type": "code",
   "execution_count": 11,
   "metadata": {},
   "outputs": [
    {
     "name": "stdout",
     "output_type": "stream",
     "text": [
      "gamb_colu_arab_pca\n",
      "CPU times: user 8min 24s, sys: 1min 27s, total: 9min 51s\n",
      "Wall time: 3min 7s\n"
     ]
    }
   ],
   "source": [
    "%%time\n",
    "pca_data = {}\n",
    "for species_group in species_groups:\n",
    "    print(species_group)\n",
    "    computed_downsampled_allele_counts = allele_count_zarr_groups[species_group]['allele_counts_pca_ready']\n",
    "    pca_data[species_group] = {}\n",
    "    pca_data[species_group]['coords'], pca_data[species_group]['model'] = allel.pca(computed_downsampled_allele_counts, n_components=n_principal_components, scaler='patterson')\n",
    "# Wall time: 3min 29s"
   ]
  },
  {
   "cell_type": "code",
   "execution_count": 12,
   "metadata": {},
   "outputs": [
    {
     "name": "stdout",
     "output_type": "stream",
     "text": [
      "[[-56.199158     1.6216763  -32.078316   ...   6.452525    -2.198913\n",
      "    8.713895  ]\n",
      " [-56.973206    -0.15994862 -35.874332   ...   7.3866973   -2.9514077\n",
      "   10.137623  ]\n",
      " [-57.135487     1.7590337  -34.45756    ...   6.8608766   -3.1697853\n",
      "    7.7157364 ]\n",
      " ...\n",
      " [-10.911204    -4.4598913   24.8756     ...  -5.961763   -25.105558\n",
      "    0.3764566 ]\n",
      " [ -8.995246    -3.7906518   24.135117   ...  -4.693306   -16.871857\n",
      "    2.2899814 ]\n",
      " [ -9.463635    -5.8490367   24.309374   ...  -9.131242   -20.813654\n",
      "   -0.4082242 ]]\n"
     ]
    }
   ],
   "source": [
    "# Eyeball the coordinates data\n",
    "for species_group in species_groups:\n",
    "    print(pca_data[species_group]['coords'])"
   ]
  },
  {
   "cell_type": "code",
   "execution_count": 13,
   "metadata": {},
   "outputs": [
    {
     "name": "stdout",
     "output_type": "stream",
     "text": [
      "[0.00877913 0.00584915 0.00477044 0.00331323 0.00260219 0.00249701\n",
      " 0.00186931 0.00180509 0.00157818 0.00145004]\n"
     ]
    }
   ],
   "source": [
    "# Eyeball the explained variance ratios\n",
    "for species_group in species_groups:\n",
    "    print(pca_data[species_group]['model'].explained_variance_ratio_)"
   ]
  },
  {
   "cell_type": "markdown",
   "metadata": {},
   "source": [
    "## Avoid the component orientations flipping randomly when re-run"
   ]
  },
  {
   "cell_type": "code",
   "execution_count": 14,
   "metadata": {},
   "outputs": [
    {
     "name": "stdout",
     "output_type": "stream",
     "text": [
      "CPU times: user 2.67 s, sys: 9.6 ms, total: 2.68 s\n",
      "Wall time: 2.9 s\n"
     ]
    }
   ],
   "source": [
    "%%time\n",
    "for species_group in species_groups:\n",
    "    \n",
    "    coords = pca_data[species_group]['coords']\n",
    "    components = pca_data[species_group]['model'].components_\n",
    "    allele_counts = allele_count_zarr_groups[species_group]['allele_counts_pca_ready']\n",
    "    \n",
    "    # To avoid the component orientations flipping randomly when re-run,\n",
    "    # choose the maximum absolute value for the coords to be positive\n",
    "    do_inv = []\n",
    "    for n_pc in range(0, len(components)):\n",
    "        mx = np.max(coords[:, n_pc])\n",
    "        mn = np.min(coords[:, n_pc])\n",
    "        if mx >= -mn:\n",
    "            do_inv.append(1)\n",
    "        else:\n",
    "            do_inv.append(-1)\n",
    "            \n",
    "    pca_data[species_group]['polarized_coords'] = np.ndarray(shape=(len(coords), len(components)))\n",
    "    for n_pc in range(0, len(components)):\n",
    "        for n_s in range(0, len(coords)):\n",
    "            pca_data[species_group]['polarized_coords'][n_s, n_pc] = coords[n_s, n_pc] * do_inv[n_pc]\n",
    "            \n",
    "    pca_data[species_group]['polarized_components'] = np.ndarray(shape=(len(components), allele_counts.shape[0]))\n",
    "    for n_pc in range(0, len(pca_data[species_group]['model'].components_)):\n",
    "        for n_ds in range(0, allele_counts.shape[0]):\n",
    "            pca_data[species_group]['polarized_components'][n_pc, n_ds] = components[n_pc, n_ds] * do_inv[n_pc]\n",
    "# Wall time: 3.2 s"
   ]
  },
  {
   "cell_type": "markdown",
   "metadata": {},
   "source": [
    "## Eyeball a couple of basic PCA plots"
   ]
  },
  {
   "cell_type": "markdown",
   "metadata": {},
   "source": [
    "### Matplotlib"
   ]
  },
  {
   "cell_type": "code",
   "execution_count": 15,
   "metadata": {},
   "outputs": [
    {
     "data": {
      "image/png": "[encoded data removed]",
      "text/plain": [
       "<Figure size 432x288 with 1 Axes>"
      ]
     },
     "metadata": {
      "needs_background": "light"
     },
     "output_type": "display_data"
    }
   ],
   "source": [
    "for species_group in species_groups:\n",
    "    polarized_coords = pca_data[species_group]['polarized_coords']\n",
    "    fig, ax = plt.subplots()\n",
    "    ax.plot(polarized_coords[:, 0], polarized_coords[:, 1], marker='o', linestyle=' ', markerfacecolor='none')\n",
    "    ax.set_title(f'{species_group} PC1x2')"
   ]
  },
  {
   "cell_type": "code",
   "execution_count": 16,
   "metadata": {},
   "outputs": [
    {
     "data": {
      "image/png": "[encoded data removed]",
      "text/plain": [
       "<Figure size 432x288 with 1 Axes>"
      ]
     },
     "metadata": {
      "needs_background": "light"
     },
     "output_type": "display_data"
    }
   ],
   "source": [
    "for species_group in species_groups:\n",
    "    polarized_coords = pca_data[species_group]['polarized_coords']\n",
    "    fig, ax = plt.subplots()\n",
    "    ax.plot(polarized_coords[:, 2], polarized_coords[:, 3], marker='o', linestyle=' ', markerfacecolor='none')\n",
    "    ax.set_title(f'{species_group} PC3x4')"
   ]
  },
  {
   "cell_type": "markdown",
   "metadata": {},
   "source": [
    "## Eyeball the explained variance ratio per component"
   ]
  },
  {
   "cell_type": "code",
   "execution_count": 17,
   "metadata": {},
   "outputs": [
    {
     "data": {
      "image/png": "[encoded data removed]",
      "text/plain": [
       "<Figure size 432x288 with 1 Axes>"
      ]
     },
     "metadata": {
      "needs_background": "light"
     },
     "output_type": "display_data"
    }
   ],
   "source": [
    "for species_group in species_groups:\n",
    "    model = pca_data[species_group]['model']\n",
    "    plt.figure(species_group)\n",
    "    plt.title(species_group)\n",
    "    plt.bar(range(n_principal_components), model.explained_variance_ratio_, tick_label=range(1, n_principal_components + 1))"
   ]
  },
  {
   "cell_type": "code",
   "execution_count": null,
   "metadata": {},
   "outputs": [],
   "source": []
  },
  {
   "cell_type": "markdown",
   "metadata": {},
   "source": [
    "## Store the PCA data"
   ]
  },
  {
   "cell_type": "code",
   "execution_count": 18,
   "metadata": {},
   "outputs": [
    {
     "name": "stdout",
     "output_type": "stream",
     "text": [
      "gamb_colu_arab_pca <class 'numpy.ndarray'> <class 'numpy.ndarray'>\n"
     ]
    }
   ],
   "source": [
    "# Check the data types\n",
    "for species_group in species_groups:\n",
    "    polarized_coords = pca_data[species_group]['polarized_coords']\n",
    "    model = pca_data[species_group]['model']\n",
    "    print(species_group, type(polarized_coords), type(model.explained_variance_ratio_))"
   ]
  },
  {
   "cell_type": "code",
   "execution_count": 19,
   "metadata": {},
   "outputs": [
    {
     "name": "stdout",
     "output_type": "stream",
     "text": [
      "Will attempt to store at: vo_agam_production/ag3_data_paper/gamb_colu_arab_pca.pca_output.zarr\n"
     ]
    }
   ],
   "source": [
    "pca_zarr_stores = {}\n",
    "pca_zarr_groups = {}\n",
    "for species_group in species_groups:\n",
    "\n",
    "    output_cloud_zarr_path = output_cloud_zarr_path_template.format(species_group)\n",
    "    print('Will attempt to store at:', output_cloud_zarr_path)\n",
    "\n",
    "    # Sometimes errors with `overwrite=True`, sometimes errors without, when dir not exist\n",
    "    # Keep the pca_zarr_store for zarr.consolidate_metadata(pca_zarr_store)\n",
    "    pca_zarr_stores[species_group] = auth_fs.get_mapper(output_cloud_zarr_path)\n",
    "    pca_zarr_groups[species_group] = zarr.group(pca_zarr_stores[species_group])"
   ]
  },
  {
   "cell_type": "code",
   "execution_count": 20,
   "metadata": {},
   "outputs": [
    {
     "name": "stdout",
     "output_type": "stream",
     "text": [
      "CPU times: user 357 ms, sys: 22 ms, total: 379 ms\n",
      "Wall time: 5.29 s\n"
     ]
    }
   ],
   "source": [
    "%%time\n",
    "for species_group in species_groups:\n",
    "    pca_zarr_group = pca_zarr_groups[species_group]\n",
    "    polarized_coords = pca_data[species_group]['polarized_coords']\n",
    "    model = pca_data[species_group]['model']\n",
    "    sample_names = allele_count_zarr_groups[species_group]['sample_names']\n",
    "    polarized_components = pca_data[species_group]['polarized_components']\n",
    "    \n",
    "    pca_zarr_group.create_dataset(\"coords\", data=polarized_coords, overwrite=True) # overwrite otherwise `ValueError: path 'coords' contains an array`\n",
    "    pca_zarr_group.create_dataset(\"explained_variance_ratio\", data=model.explained_variance_ratio_, overwrite=True)\n",
    "    pca_zarr_group.create_dataset(\"sample_names\", data=sample_names, overwrite=True)\n",
    "    pca_zarr_group.create_dataset(\"components\", data=polarized_components, overwrite=True)\n",
    "    # pca_zarr_group.create_dataset(\"downsampled_site_indices\", data=downsampled_site_indices, overwrite=True)\n",
    "# Wall time: 10.8 s"
   ]
  },
  {
   "cell_type": "code",
   "execution_count": null,
   "metadata": {},
   "outputs": [],
   "source": []
  },
  {
   "cell_type": "markdown",
   "metadata": {},
   "source": [
    "## Check the stored PCA data"
   ]
  },
  {
   "cell_type": "code",
   "execution_count": 21,
   "metadata": {},
   "outputs": [
    {
     "name": "stdout",
     "output_type": "stream",
     "text": [
      "CPU times: user 48.9 ms, sys: 1.35 ms, total: 50.3 ms\n",
      "Wall time: 659 ms\n"
     ]
    }
   ],
   "source": [
    "%%time\n",
    "# Check all chunks are initialized\n",
    "for species_group in species_groups:\n",
    "    pca_zarr_group = pca_zarr_groups[species_group]\n",
    "    \n",
    "    assert pca_zarr_group['coords'].nchunks_initialized == pca_zarr_group['coords'].nchunks\n",
    "    assert pca_zarr_group['explained_variance_ratio'].nchunks_initialized == pca_zarr_group['explained_variance_ratio'].nchunks\n",
    "    assert pca_zarr_group['sample_names'].nchunks_initialized == pca_zarr_group['sample_names'].nchunks\n",
    "    assert pca_zarr_group['components'].nchunks_initialized == pca_zarr_group['components'].nchunks\n",
    "    #assert pca_zarr_group['downsampled_site_indices'].nchunks_initialized == pca_zarr_group['downsampled_site_indices'].nchunks\n",
    "# Wall time: 1.83 s"
   ]
  },
  {
   "cell_type": "code",
   "execution_count": 22,
   "metadata": {},
   "outputs": [],
   "source": [
    "# Check that the pca_zarr_store contains the expected arrays\n",
    "for species_group in species_groups:\n",
    "    pca_zarr_store = pca_zarr_stores[species_group]\n",
    "    \n",
    "    assert 'coords/.zarray' in pca_zarr_store\n",
    "    assert 'explained_variance_ratio/.zarray' in pca_zarr_store\n",
    "    assert 'sample_names/.zarray' in pca_zarr_store\n",
    "    assert 'components/.zarray' in pca_zarr_store\n",
    "    #assert 'downsampled_site_indices/.zarray' in pca_zarr_store"
   ]
  },
  {
   "cell_type": "markdown",
   "metadata": {},
   "source": [
    "## Consolidate the Zarr metadata"
   ]
  },
  {
   "cell_type": "code",
   "execution_count": 23,
   "metadata": {},
   "outputs": [],
   "source": [
    "# Consolidate the metadata\n",
    "# https://zarr.readthedocs.io/en/stable/api/convenience.html#zarr.convenience.consolidate_metadata\n",
    "# \"Consolidate all metadata for groups and arrays within the given store into a single resource and put it under the given key.\"\n",
    "# \"This produces a single object in the backend store, containing all the metadata read from all the zarr-related keys that can be found.\"\n",
    "\n",
    "for species_group in species_groups:\n",
    "    pca_zarr_store = pca_zarr_stores[species_group]\n",
    "    zarr.consolidate_metadata(pca_zarr_store)"
   ]
  },
  {
   "cell_type": "markdown",
   "metadata": {},
   "source": [
    "## Check the consolidated Zarr metadata"
   ]
  },
  {
   "cell_type": "code",
   "execution_count": 24,
   "metadata": {},
   "outputs": [],
   "source": [
    "for species_group in species_groups:\n",
    "    pca_zarr_store = pca_zarr_stores[species_group]\n",
    "\n",
    "    # Re-load the consolidated metadata, for validation\n",
    "    pca_zarr_consolidated_metadata = zarr.open_consolidated(pca_zarr_store)\n",
    "    \n",
    "    # Test that the keys of the consolidated metadata are as expected \n",
    "    # REM: 'downsampled_site_indices', \n",
    "    assert list(pca_zarr_consolidated_metadata.keys()) == ['components', 'coords', 'explained_variance_ratio', 'sample_names']"
   ]
  },
  {
   "cell_type": "code",
   "execution_count": null,
   "metadata": {},
   "outputs": [],
   "source": []
  }
 ],
 "metadata": {
  "kernelspec": {
   "display_name": "Python 3",
   "language": "python",
   "name": "python3"
  },
  "language_info": {
   "codemirror_mode": {
    "name": "ipython",
    "version": 3
   },
   "file_extension": ".py",
   "mimetype": "text/x-python",
   "name": "python",
   "nbconvert_exporter": "python",
   "pygments_lexer": "ipython3",
   "version": "3.7.6"
  }
 },
 "nbformat": 4,
 "nbformat_minor": 4
}
