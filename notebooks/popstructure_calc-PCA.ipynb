{
 "cells": [
  {
   "cell_type": "markdown",
   "metadata": {},
   "source": [
    "# Calculate PCA data using the Ag3 data release\n",
    "\n",
    "The PCA data files for gamb_colu, arab and gamb_colu_arab are stored on Google Cloud Storage. Each Zarr is about 5 MB.\n",
    "\n",
    "A few basic plots are made to eyeball the data before it is stored."
   ]
  },
  {
   "cell_type": "code",
   "execution_count": 1,
   "metadata": {},
   "outputs": [],
   "source": [
    "# Imports\n",
    "import gcsfs\n",
    "import pandas as pd\n",
    "import zarr\n",
    "import allel\n",
    "import numpy as np\n",
    "import matplotlib.pyplot as plt"
   ]
  },
  {
   "cell_type": "code",
   "execution_count": null,
   "metadata": {},
   "outputs": [],
   "source": []
  },
  {
   "cell_type": "markdown",
   "metadata": {},
   "source": [
    "## Settings"
   ]
  },
  {
   "cell_type": "code",
   "execution_count": 2,
   "metadata": {},
   "outputs": [],
   "source": [
    "# Specify the species groups, used in file names, site filter, region and sample selection\n",
    "species_groups = ['gamb_colu_arab', 'gamb_colu','arab']\n",
    "\n",
    "# The number of principal components to process\n",
    "n_principal_components = 10\n",
    "\n",
    "# Specify the storage paths\n",
    "input_alleles_cloud_zarr_path_template = 'vo_agam_production/ag3_data_paper/{}.pca_umap_input_alleles.zarr'\n",
    "output_cloud_zarr_path_template = 'vo_agam_production/ag3_data_paper/{}.pca_output.zarr'"
   ]
  },
  {
   "cell_type": "code",
   "execution_count": null,
   "metadata": {},
   "outputs": [],
   "source": []
  },
  {
   "cell_type": "markdown",
   "metadata": {},
   "source": [
    "## Check the output doesn't already exist"
   ]
  },
  {
   "cell_type": "code",
   "execution_count": 3,
   "metadata": {},
   "outputs": [],
   "source": [
    "# Writing the PCA data to the cloud will require the appropriate authentication and authorization.\n",
    "\n",
    "# UNCOMMENT THIS TO AUTHENTICATE. YOU ONLY NEED TO RUN THIS ONCE.\n",
    "# After running this once, your authentication token should then be cached in `~/.gcs_tokens`\n",
    "# Once you have authenticated, you should comment this out again to avoid re-authenticating.\n",
    "# gcs_browser = gcsfs.GCSFileSystem(project='malariagen-jupyterhub', token='browser')\n",
    "\n",
    "# Use `cache_timeout=0` to prevent object list cache, to avoid recreating map for Zarr consolidated metadata\n",
    "auth_fs = gcsfs.GCSFileSystem(project='malariagen-jupyterhub', token='cache', cache_timeout=0)\n",
    "\n",
    "# Check that the output's Zarr metadata file is not already on the cloud.\n",
    "# We don't want to accidentally overwrite or delete existing data, which might have been used in downstream analysis.\n",
    "# We don't simply check for the existence of the Zarr file here (i.e. output_cloud_zarr_path),\n",
    "# We might want to re-run the first parts of this notebook again,\n",
    "# so the Zarr store might legitimately exist but be incomplete.\n",
    "# The Zarr store is not considered complete until the Zarr metadata file (.zmetadata) is present and correct.\n",
    "# The final part of this notebook includes steps to create the Zarr metadata file and then validate it.\n",
    "\n",
    "for species_group in species_groups:\n",
    "    output_cloud_zarr_path = output_cloud_zarr_path_template.format(species_group)\n",
    "    output_cloud_zarr_metadata_path = f'{output_cloud_zarr_path}/.zmetadata'\n",
    "    assert not auth_fs.exists(output_cloud_zarr_metadata_path)"
   ]
  },
  {
   "cell_type": "code",
   "execution_count": null,
   "metadata": {},
   "outputs": [],
   "source": []
  },
  {
   "cell_type": "markdown",
   "metadata": {},
   "source": [
    "## Get the allele counts for each species group"
   ]
  },
  {
   "cell_type": "code",
   "execution_count": 4,
   "metadata": {},
   "outputs": [],
   "source": [
    "allele_count_zarr_stores = {} # Not used, but kept for convenience\n",
    "allele_count_zarr_groups = {}\n",
    "for species_group in species_groups:\n",
    "    allele_count_zarr_stores[species_group] = auth_fs.get_mapper(input_alleles_cloud_zarr_path_template.format(species_group))\n",
    "    allele_count_zarr_groups[species_group] = zarr.Group(allele_count_zarr_stores[species_group], read_only=True)"
   ]
  },
  {
   "cell_type": "code",
   "execution_count": null,
   "metadata": {},
   "outputs": [],
   "source": []
  },
  {
   "cell_type": "markdown",
   "metadata": {},
   "source": [
    "## Run the PCA"
   ]
  },
  {
   "cell_type": "code",
   "execution_count": 5,
   "metadata": {},
   "outputs": [],
   "source": [
    "# NOTE: if this halts with `ValueError: array must not contain infs or NaNs`\n",
    "# that might be because we've selected a non-segregating variant, where division leads to inf."
   ]
  },
  {
   "cell_type": "code",
   "execution_count": 6,
   "metadata": {},
   "outputs": [
    {
     "name": "stdout",
     "output_type": "stream",
     "text": [
      "gamb_colu_arab\n",
      "gamb_colu\n",
      "arab\n",
      "CPU times: user 11min 41s, sys: 17.9 s, total: 11min 58s\n",
      "Wall time: 4min 21s\n"
     ]
    }
   ],
   "source": [
    "%%time\n",
    "pca_data = {}\n",
    "for species_group in species_groups:\n",
    "    print(species_group)\n",
    "    computed_downsampled_allele_counts = allele_count_zarr_groups[species_group]['allele_counts_pca_ready']\n",
    "    pca_data[species_group] = {}\n",
    "    pca_data[species_group]['coords'], pca_data[species_group]['model'] = allel.pca(computed_downsampled_allele_counts, n_components=n_principal_components, scaler='patterson')\n",
    "# Wall time: 3min 29s"
   ]
  },
  {
   "cell_type": "code",
   "execution_count": 7,
   "metadata": {},
   "outputs": [
    {
     "name": "stdout",
     "output_type": "stream",
     "text": [
      "[[-2.3193724e+01  1.5666333e+00 -6.6000457e+00 ...  5.0364232e-01\n",
      "   2.3153803e+00 -1.4496237e+00]\n",
      " [-2.2138273e+01  3.8411682e+00 -5.6490808e+00 ... -2.9272822e-01\n",
      "   2.0537508e+00 -3.0262733e+00]\n",
      " [-2.0418766e+01  3.0247428e+00 -4.0343060e+00 ... -8.6849117e-01\n",
      "   4.1160937e-03 -4.6435249e-01]\n",
      " ...\n",
      " [-2.3232772e+00  2.6157904e+01 -7.3260558e-01 ...  1.5746340e+00\n",
      "  -6.3854938e+00  2.7584834e+00]\n",
      " [-4.5826845e+00  2.6332535e+01 -1.6653723e-01 ...  9.0633554e+00\n",
      "  -2.2325702e+00  1.8209909e+00]\n",
      " [-3.8428502e+00  2.1192047e+01  4.3393445e+00 ...  2.2596951e+00\n",
      "   2.4119113e-01  3.1847432e-01]]\n",
      "[[ -16.402231     -8.965208   -129.69632    ...   -0.74392223\n",
      "     1.2441988    -1.7192483 ]\n",
      " [ -17.322542     -8.071077   -134.26373    ...   -0.7536079\n",
      "     1.1914291    -0.53682446]\n",
      " [ -15.927236     -7.412089   -129.6818     ...    0.6928197\n",
      "     0.85468674   -0.22170635]\n",
      " ...\n",
      " [  29.168945      6.6281834     3.7553194  ...    2.3818493\n",
      "    23.32599      32.466694  ]\n",
      " [  27.560432      6.1247244     3.023282   ...    6.038672\n",
      "    12.685234     24.059568  ]\n",
      " [  24.461092      5.95559       2.1906536  ...    8.582767\n",
      "    17.285734     24.272247  ]]\n",
      "[[-18.657112   222.02129    -52.13638    ...   5.119093    -3.9067056\n",
      "    6.550209  ]\n",
      " [-23.372751   286.11664    -86.218445   ...   6.0519843   -2.1519206\n",
      "   -4.3717046 ]\n",
      " [-21.912956   257.54608    -63.240654   ...  -9.318728     5.446329\n",
      "   -2.232004  ]\n",
      " ...\n",
      " [  6.965544     3.4579728   12.894335   ...   3.5503888   -0.73271894\n",
      "  -10.0217    ]\n",
      " [  6.558698     7.295915    20.18008    ...  -3.1093388    1.0112182\n",
      "   -4.5979595 ]\n",
      " [  8.649783    -1.186432    -0.30451414 ...   7.8941226    3.489901\n",
      "   -2.3965745 ]]\n"
     ]
    }
   ],
   "source": [
    "# Eyeball the coordinates data\n",
    "for species_group in species_groups:\n",
    "    print(pca_data[species_group]['coords'])"
   ]
  },
  {
   "cell_type": "code",
   "execution_count": 8,
   "metadata": {},
   "outputs": [
    {
     "name": "stdout",
     "output_type": "stream",
     "text": [
      "[0.00637726 0.00378944 0.00289435 0.0027758  0.00182301 0.00158694\n",
      " 0.00143017 0.00115849 0.00100931 0.00100155]\n",
      "[0.00498083 0.00361252 0.00321538 0.00226845 0.00193543 0.00165843\n",
      " 0.00145673 0.00114599 0.0011173  0.00107434]\n",
      "[0.010099   0.00586918 0.00473376 0.00452302 0.00445473 0.00441078\n",
      " 0.00425282 0.00408537 0.00404398 0.00401485]\n"
     ]
    }
   ],
   "source": [
    "# Eyeball the explained variance ratios\n",
    "for species_group in species_groups:\n",
    "    print(pca_data[species_group]['model'].explained_variance_ratio_)"
   ]
  },
  {
   "cell_type": "code",
   "execution_count": null,
   "metadata": {},
   "outputs": [],
   "source": []
  },
  {
   "cell_type": "markdown",
   "metadata": {},
   "source": [
    "## Avoid the component orientations flipping randomly when re-run"
   ]
  },
  {
   "cell_type": "code",
   "execution_count": 9,
   "metadata": {},
   "outputs": [
    {
     "name": "stdout",
     "output_type": "stream",
     "text": [
      "CPU times: user 7.22 s, sys: 26.2 ms, total: 7.25 s\n",
      "Wall time: 7.56 s\n"
     ]
    }
   ],
   "source": [
    "%%time\n",
    "for species_group in species_groups:\n",
    "    \n",
    "    coords = pca_data[species_group]['coords']\n",
    "    components = pca_data[species_group]['model'].components_\n",
    "    allele_counts = allele_count_zarr_groups[species_group]['allele_counts_pca_ready']\n",
    "    \n",
    "    # To avoid the component orientations flipping randomly when re-run,\n",
    "    # choose the maximum absolute value for the coords to be positive\n",
    "    do_inv = []\n",
    "    for n_pc in range(0, len(components)):\n",
    "        mx = np.max(coords[:, n_pc])\n",
    "        mn = np.min(coords[:, n_pc])\n",
    "        if mx >= -mn:\n",
    "            do_inv.append(1)\n",
    "        else:\n",
    "            do_inv.append(-1)\n",
    "            \n",
    "    pca_data[species_group]['polarized_coords'] = np.ndarray(shape=(len(coords), len(components)))\n",
    "    for n_pc in range(0, len(components)):\n",
    "        for n_s in range(0, len(coords)):\n",
    "            pca_data[species_group]['polarized_coords'][n_s, n_pc] = coords[n_s, n_pc] * do_inv[n_pc]\n",
    "            \n",
    "    pca_data[species_group]['polarized_components'] = np.ndarray(shape=(len(components), allele_counts.shape[0]))\n",
    "    for n_pc in range(0, len(pca_data[species_group]['model'].components_)):\n",
    "        for n_ds in range(0, allele_counts.shape[0]):\n",
    "            pca_data[species_group]['polarized_components'][n_pc, n_ds] = components[n_pc, n_ds] * do_inv[n_pc]\n",
    "# Wall time: 3.2 s"
   ]
  },
  {
   "cell_type": "code",
   "execution_count": null,
   "metadata": {},
   "outputs": [],
   "source": []
  },
  {
   "cell_type": "markdown",
   "metadata": {},
   "source": [
    "## Eyeball a couple of basic PCA plots"
   ]
  },
  {
   "cell_type": "markdown",
   "metadata": {},
   "source": [
    "### Matplotlib"
   ]
  },
  {
   "cell_type": "code",
   "execution_count": 10,
   "metadata": {},
   "outputs": [
    {
     "data": {
      "image/png": "[encoded data removed]",
      "text/plain": [
       "<Figure size 432x288 with 1 Axes>"
      ]
     },
     "metadata": {
      "needs_background": "light"
     },
     "output_type": "display_data"
    },
    {
     "data": {
      "image/png": "[encoded data removed]",
      "text/plain": [
       "<Figure size 432x288 with 1 Axes>"
      ]
     },
     "metadata": {
      "needs_background": "light"
     },
     "output_type": "display_data"
    },
    {
     "data": {
      "image/png": "[encoded data removed]",
      "text/plain": [
       "<Figure size 432x288 with 1 Axes>"
      ]
     },
     "metadata": {
      "needs_background": "light"
     },
     "output_type": "display_data"
    }
   ],
   "source": [
    "for species_group in species_groups:\n",
    "    polarized_coords = pca_data[species_group]['polarized_coords']\n",
    "    fig, ax = plt.subplots()\n",
    "    ax.plot(polarized_coords[:, 0], polarized_coords[:, 1], marker='o', linestyle=' ', markerfacecolor='none')\n",
    "    ax.set_title(f'{species_group} PC1x2')"
   ]
  },
  {
   "cell_type": "code",
   "execution_count": 11,
   "metadata": {},
   "outputs": [
    {
     "data": {
      "image/png": "[encoded data removed]",
      "text/plain": [
       "<Figure size 432x288 with 1 Axes>"
      ]
     },
     "metadata": {
      "needs_background": "light"
     },
     "output_type": "display_data"
    },
    {
     "data": {
      "image/png": "[encoded data removed]",
      "text/plain": [
       "<Figure size 432x288 with 1 Axes>"
      ]
     },
     "metadata": {
      "needs_background": "light"
     },
     "output_type": "display_data"
    },
    {
     "data": {
      "image/png": "[encoded data removed]",
      "text/plain": [
       "<Figure size 432x288 with 1 Axes>"
      ]
     },
     "metadata": {
      "needs_background": "light"
     },
     "output_type": "display_data"
    }
   ],
   "source": [
    "for species_group in species_groups:\n",
    "    polarized_coords = pca_data[species_group]['polarized_coords']\n",
    "    fig, ax = plt.subplots()\n",
    "    ax.plot(polarized_coords[:, 2], polarized_coords[:, 3], marker='o', linestyle=' ', markerfacecolor='none')\n",
    "    ax.set_title(f'{species_group} PC3x4')"
   ]
  },
  {
   "cell_type": "code",
   "execution_count": null,
   "metadata": {},
   "outputs": [],
   "source": []
  },
  {
   "cell_type": "markdown",
   "metadata": {},
   "source": [
    "## Eyeball the explained variance ratio per component"
   ]
  },
  {
   "cell_type": "code",
   "execution_count": 12,
   "metadata": {},
   "outputs": [
    {
     "data": {
      "image/png": "[encoded data removed]",
      "text/plain": [
       "<Figure size 432x288 with 1 Axes>"
      ]
     },
     "metadata": {
      "needs_background": "light"
     },
     "output_type": "display_data"
    },
    {
     "data": {
      "image/png": "[encoded data removed]",
      "text/plain": [
       "<Figure size 432x288 with 1 Axes>"
      ]
     },
     "metadata": {
      "needs_background": "light"
     },
     "output_type": "display_data"
    },
    {
     "data": {
      "image/png": "[encoded data removed]",
      "text/plain": [
       "<Figure size 432x288 with 1 Axes>"
      ]
     },
     "metadata": {
      "needs_background": "light"
     },
     "output_type": "display_data"
    }
   ],
   "source": [
    "for species_group in species_groups:\n",
    "    model = pca_data[species_group]['model']\n",
    "    plt.figure(species_group)\n",
    "    plt.title(species_group)\n",
    "    plt.bar(range(n_principal_components), model.explained_variance_ratio_, tick_label=range(1, n_principal_components + 1))"
   ]
  },
  {
   "cell_type": "code",
   "execution_count": null,
   "metadata": {},
   "outputs": [],
   "source": []
  },
  {
   "cell_type": "markdown",
   "metadata": {},
   "source": [
    "## Store the PCA data"
   ]
  },
  {
   "cell_type": "code",
   "execution_count": 13,
   "metadata": {},
   "outputs": [
    {
     "name": "stdout",
     "output_type": "stream",
     "text": [
      "gamb_colu_arab <class 'numpy.ndarray'> <class 'numpy.ndarray'>\n",
      "gamb_colu <class 'numpy.ndarray'> <class 'numpy.ndarray'>\n",
      "arab <class 'numpy.ndarray'> <class 'numpy.ndarray'>\n"
     ]
    }
   ],
   "source": [
    "# Check the data types\n",
    "for species_group in species_groups:\n",
    "    polarized_coords = pca_data[species_group]['polarized_coords']\n",
    "    model = pca_data[species_group]['model']\n",
    "    print(species_group, type(polarized_coords), type(model.explained_variance_ratio_))"
   ]
  },
  {
   "cell_type": "code",
   "execution_count": 14,
   "metadata": {},
   "outputs": [
    {
     "name": "stdout",
     "output_type": "stream",
     "text": [
      "Will attempt to store at: vo_agam_production/ag3_data_paper/gamb_colu_arab.pca_output.zarr\n",
      "Will attempt to store at: vo_agam_production/ag3_data_paper/gamb_colu.pca_output.zarr\n",
      "Will attempt to store at: vo_agam_production/ag3_data_paper/arab.pca_output.zarr\n"
     ]
    }
   ],
   "source": [
    "pca_zarr_stores = {}\n",
    "pca_zarr_groups = {}\n",
    "for species_group in species_groups:\n",
    "\n",
    "    output_cloud_zarr_path = output_cloud_zarr_path_template.format(species_group)\n",
    "    print('Will attempt to store at:', output_cloud_zarr_path)\n",
    "\n",
    "    # Sometimes errors with `overwrite=True`, sometimes errors without, when dir not exist\n",
    "    # Keep the pca_zarr_store for zarr.consolidate_metadata(pca_zarr_store)\n",
    "    pca_zarr_stores[species_group] = auth_fs.get_mapper(output_cloud_zarr_path)\n",
    "    pca_zarr_groups[species_group] = zarr.group(pca_zarr_stores[species_group])"
   ]
  },
  {
   "cell_type": "code",
   "execution_count": 15,
   "metadata": {},
   "outputs": [
    {
     "name": "stdout",
     "output_type": "stream",
     "text": [
      "CPU times: user 789 ms, sys: 41.2 ms, total: 830 ms\n",
      "Wall time: 13.2 s\n"
     ]
    }
   ],
   "source": [
    "%%time\n",
    "for species_group in species_groups:\n",
    "    pca_zarr_group = pca_zarr_groups[species_group]\n",
    "    polarized_coords = pca_data[species_group]['polarized_coords']\n",
    "    model = pca_data[species_group]['model']\n",
    "    sample_names = allele_count_zarr_groups[species_group]['sample_names']\n",
    "    polarized_components = pca_data[species_group]['polarized_components']\n",
    "    \n",
    "    pca_zarr_group.create_dataset(\"coords\", data=polarized_coords, overwrite=True) # overwrite otherwise `ValueError: path 'coords' contains an array`\n",
    "    pca_zarr_group.create_dataset(\"explained_variance_ratio\", data=model.explained_variance_ratio_, overwrite=True)\n",
    "    pca_zarr_group.create_dataset(\"sample_names\", data=sample_names, overwrite=True)\n",
    "    pca_zarr_group.create_dataset(\"components\", data=polarized_components, overwrite=True)\n",
    "    # pca_zarr_group.create_dataset(\"downsampled_site_indices\", data=downsampled_site_indices, overwrite=True)\n",
    "# Wall time: 10.8 s"
   ]
  },
  {
   "cell_type": "code",
   "execution_count": null,
   "metadata": {},
   "outputs": [],
   "source": []
  },
  {
   "cell_type": "markdown",
   "metadata": {},
   "source": [
    "## Check the stored PCA data"
   ]
  },
  {
   "cell_type": "code",
   "execution_count": 16,
   "metadata": {},
   "outputs": [
    {
     "name": "stdout",
     "output_type": "stream",
     "text": [
      "CPU times: user 97.4 ms, sys: 8.04 ms, total: 105 ms\n",
      "Wall time: 1.96 s\n"
     ]
    }
   ],
   "source": [
    "%%time\n",
    "# Check all chunks are initialized\n",
    "for species_group in species_groups:\n",
    "    pca_zarr_group = pca_zarr_groups[species_group]\n",
    "    \n",
    "    assert pca_zarr_group['coords'].nchunks_initialized == pca_zarr_group['coords'].nchunks\n",
    "    assert pca_zarr_group['explained_variance_ratio'].nchunks_initialized == pca_zarr_group['explained_variance_ratio'].nchunks\n",
    "    assert pca_zarr_group['sample_names'].nchunks_initialized == pca_zarr_group['sample_names'].nchunks\n",
    "    assert pca_zarr_group['components'].nchunks_initialized == pca_zarr_group['components'].nchunks\n",
    "    #assert pca_zarr_group['downsampled_site_indices'].nchunks_initialized == pca_zarr_group['downsampled_site_indices'].nchunks\n",
    "# Wall time: 1.83 s"
   ]
  },
  {
   "cell_type": "code",
   "execution_count": 17,
   "metadata": {},
   "outputs": [],
   "source": [
    "# Check that the pca_zarr_store contains the expected arrays\n",
    "for species_group in species_groups:\n",
    "    pca_zarr_store = pca_zarr_stores[species_group]\n",
    "    \n",
    "    assert 'coords/.zarray' in pca_zarr_store\n",
    "    assert 'explained_variance_ratio/.zarray' in pca_zarr_store\n",
    "    assert 'sample_names/.zarray' in pca_zarr_store\n",
    "    assert 'components/.zarray' in pca_zarr_store\n",
    "    #assert 'downsampled_site_indices/.zarray' in pca_zarr_store"
   ]
  },
  {
   "cell_type": "code",
   "execution_count": null,
   "metadata": {},
   "outputs": [],
   "source": []
  },
  {
   "cell_type": "markdown",
   "metadata": {},
   "source": [
    "## Consolidate the Zarr metadata"
   ]
  },
  {
   "cell_type": "code",
   "execution_count": 18,
   "metadata": {},
   "outputs": [],
   "source": [
    "# Consolidate the metadata\n",
    "# https://zarr.readthedocs.io/en/stable/api/convenience.html#zarr.convenience.consolidate_metadata\n",
    "# \"Consolidate all metadata for groups and arrays within the given store into a single resource and put it under the given key.\"\n",
    "# \"This produces a single object in the backend store, containing all the metadata read from all the zarr-related keys that can be found.\"\n",
    "\n",
    "for species_group in species_groups:\n",
    "    pca_zarr_store = pca_zarr_stores[species_group]\n",
    "    zarr.consolidate_metadata(pca_zarr_store)"
   ]
  },
  {
   "cell_type": "code",
   "execution_count": null,
   "metadata": {},
   "outputs": [],
   "source": []
  },
  {
   "cell_type": "markdown",
   "metadata": {},
   "source": [
    "## Check the consolidated Zarr metadata"
   ]
  },
  {
   "cell_type": "code",
   "execution_count": 19,
   "metadata": {},
   "outputs": [],
   "source": [
    "for species_group in species_groups:\n",
    "    pca_zarr_store = pca_zarr_stores[species_group]\n",
    "\n",
    "    # Re-load the consolidated metadata, for validation\n",
    "    pca_zarr_consolidated_metadata = zarr.open_consolidated(pca_zarr_store)\n",
    "    \n",
    "    # Test that the keys of the consolidated metadata are as expected \n",
    "    # REM: 'downsampled_site_indices', \n",
    "    assert list(pca_zarr_consolidated_metadata.keys()) == ['components', 'coords', 'explained_variance_ratio', 'sample_names']"
   ]
  },
  {
   "cell_type": "code",
   "execution_count": null,
   "metadata": {},
   "outputs": [],
   "source": []
  }
 ],
 "metadata": {
  "kernelspec": {
   "display_name": "Python 3",
   "language": "python",
   "name": "python3"
  },
  "language_info": {
   "codemirror_mode": {
    "name": "ipython",
    "version": 3
   },
   "file_extension": ".py",
   "mimetype": "text/x-python",
   "name": "python",
   "nbconvert_exporter": "python",
   "pygments_lexer": "ipython3",
   "version": "3.7.6"
  }
 },
 "nbformat": 4,
 "nbformat_minor": 4
}
