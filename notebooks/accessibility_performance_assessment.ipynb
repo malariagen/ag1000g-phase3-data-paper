{
 "cells": [
  {
   "cell_type": "markdown",
   "metadata": {},
   "source": [
    "# Performance assessment\n",
    "\n",
    "\n",
    "## Determine binary classification statistics \n",
    "\n",
    "For the v3 accessibility map, vs:\n",
    "- phase 2 accessibility map\n",
    "- permissive\n",
    "- restrictive\n",
    "- 50% random classifier\n",
    "\n",
    "based on:\n",
    "- Mendelian error in held out crosses (autosomes)\n",
    "- male het calls (`n_male_het`, `n_males_called`, `all_males_called`) will be used instead of `mendel_error`"
   ]
  },
  {
   "cell_type": "code",
   "execution_count": 1,
   "metadata": {},
   "outputs": [],
   "source": [
    "# Imports:\n",
    "import gcsfs\n",
    "import zarr\n",
    "import dask.array as da\n",
    "from dask_kubernetes import KubeCluster\n",
    "from dask.distributed import Client\n",
    "import pandas as pd\n",
    "import numpy as np\n",
    "import numba\n",
    "from pathlib import Path"
   ]
  },
  {
   "cell_type": "code",
   "execution_count": 2,
   "metadata": {},
   "outputs": [],
   "source": [
    "# Settings:\n",
    "\n",
    "# Note that Mendelian errors (or preferably any data) from these crosses \n",
    "# should *not* have been used to compute the phase 2 accessibility map, otherwise it will not be a fair/accurate test.\n",
    "cross_family_ids = pd.read_csv(\"performance_eval_crosses.txt\", squeeze=True, header=None).values\n",
    "# Note that the accessibility resource contains data for `UNKN` and `Y_unplaced`\n",
    "chrom_arms = ['2R', '2L', '3R', '3L', 'X']\n"
   ]
  },
  {
   "cell_type": "code",
   "execution_count": 3,
   "metadata": {},
   "outputs": [
    {
     "data": {
      "text/plain": [
       "array(['B5', 'K6', '73-2', '45-1', '37-3'], dtype=object)"
      ]
     },
     "execution_count": 3,
     "metadata": {},
     "output_type": "execute_result"
    }
   ],
   "source": [
    "cross_family_ids"
   ]
  },
  {
   "cell_type": "code",
   "execution_count": 4,
   "metadata": {},
   "outputs": [],
   "source": [
    "n_workers = 40"
   ]
  },
  {
   "cell_type": "markdown",
   "metadata": {},
   "source": [
    "## Connect to the cloud cluster"
   ]
  },
  {
   "cell_type": "code",
   "execution_count": 5,
   "metadata": {},
   "outputs": [
    {
     "name": "stderr",
     "output_type": "stream",
     "text": [
      "distributed.scheduler - INFO - Clear task state\n",
      "/opt/conda/lib/python3.7/site-packages/distributed/dashboard/core.py:72: UserWarning: \n",
      "Port 8787 is already in use. \n",
      "Perhaps you already have a cluster running?\n",
      "Hosting the diagnostics dashboard on a random port instead.\n",
      "  warnings.warn(\"\\n\" + msg)\n",
      "distributed.scheduler - INFO -   Scheduler at: tcp://10.33.164.201:39515\n",
      "distributed.scheduler - INFO -   dashboard at:                    :45657\n"
     ]
    },
    {
     "data": {
      "application/vnd.jupyter.widget-view+json": {
       "model_id": "0a5c27cb31494d79b0f7f70e2944b061",
       "version_major": 2,
       "version_minor": 0
      },
      "text/plain": [
       "VBox(children=(HTML(value='<h2>KubeCluster</h2>'), HBox(children=(HTML(value='\\n<div>\\n  <style scoped>\\n    .…"
      ]
     },
     "metadata": {},
     "output_type": "display_data"
    }
   ],
   "source": [
    "cluster = KubeCluster(n_workers=n_workers)\n",
    "cluster"
   ]
  },
  {
   "cell_type": "code",
   "execution_count": 6,
   "metadata": {},
   "outputs": [
    {
     "name": "stderr",
     "output_type": "stream",
     "text": [
      "distributed.scheduler - INFO - Receive client connection: Client-e01ba92e-8bba-11ea-81a1-467437f7e0ab\n",
      "distributed.core - INFO - Starting established connection\n"
     ]
    },
    {
     "data": {
      "text/html": [
       "<table style=\"border: 2px solid white;\">\n",
       "<tr>\n",
       "<td style=\"vertical-align: top; border: 0px solid white\">\n",
       "<h3 style=\"text-align: left;\">Client</h3>\n",
       "<ul style=\"text-align: left; list-style: none; margin: 0; padding: 0;\">\n",
       "  <li><b>Scheduler: </b>tcp://10.33.164.201:39515</li>\n",
       "  <li><b>Dashboard: </b><a href='/user/nicholasharding/proxy/45657/status' target='_blank'>/user/nicholasharding/proxy/45657/status</a>\n",
       "</ul>\n",
       "</td>\n",
       "<td style=\"vertical-align: top; border: 0px solid white\">\n",
       "<h3 style=\"text-align: left;\">Cluster</h3>\n",
       "<ul style=\"text-align: left; list-style:none; margin: 0; padding: 0;\">\n",
       "  <li><b>Workers: </b>0</li>\n",
       "  <li><b>Cores: </b>0</li>\n",
       "  <li><b>Memory: </b>0 B</li>\n",
       "</ul>\n",
       "</td>\n",
       "</tr>\n",
       "</table>"
      ],
      "text/plain": [
       "<Client: 'tcp://10.33.164.201:39515' processes=0 threads=0, memory=0 B>"
      ]
     },
     "execution_count": 6,
     "metadata": {},
     "output_type": "execute_result"
    }
   ],
   "source": [
    "client = Client(cluster)\n",
    "client"
   ]
  },
  {
   "cell_type": "code",
   "execution_count": 7,
   "metadata": {},
   "outputs": [
    {
     "data": {
      "text/plain": [
       "'dask-nicholasharding-9bc20190-b'"
      ]
     },
     "execution_count": 7,
     "metadata": {},
     "output_type": "execute_result"
    }
   ],
   "source": [
    "# Eyeball the name of this cluster, so we can identify associated worker pods\n",
    "cluster.name"
   ]
  },
  {
   "cell_type": "markdown",
   "metadata": {},
   "source": [
    "## Connect to the cloud storage"
   ]
  },
  {
   "cell_type": "code",
   "execution_count": 8,
   "metadata": {},
   "outputs": [],
   "source": [
    "gcs = gcsfs.GCSFileSystem(project='malariagen-jupyterhub', token='cloud', cache_timeout=0)"
   ]
  },
  {
   "cell_type": "markdown",
   "metadata": {},
   "source": [
    "## Determine which crosses stats (inc. Mendelian error) are predicted by the phase 2 accessibility map\n",
    "\n",
    "Populate the confusion matrix, such that:\n",
    "- If the crosses stats imply that a position is accessible (\"good\") and the phase 2 map also says it is accessible, then mark the prediction as a `True Positive` (`TP`)\n",
    "- If the crosses stats imply that a position is accessible (\"good\") but the phase 2 map says it is inaccessible, then mark the prediction as a `False Negative` (`FN`)\n",
    "- If the crosses stats imply that a position is inaccessible (\"bad\") and the phase 2 map also says it is inaccessible, then mark the prediction as a `True Negative` (`TN`)\n",
    "- If the crosses stats imply that a position is inaccessible (\"bad\") but the phase 2 map says it is accessible, then mark the prediction as a `False Positive` (`FP`)\n",
    "- If the crosses stats cannot determine whether a position is \"good\" or \"bad\" (e.g. there were no male het calls on the X chromosome, but not all samples were called), then mark the prediction result as undetermined and exclude from subsequent stats."
   ]
  },
  {
   "cell_type": "markdown",
   "metadata": {},
   "source": [
    "### Include results for artificial classifiers (for comparison)\n",
    "\n",
    "- random 50% is_accessible\n",
    "- 100% is_accessible"
   ]
  },
  {
   "cell_type": "code",
   "execution_count": 9,
   "metadata": {},
   "outputs": [],
   "source": [
    "@numba.njit\n",
    "def cross_tab_values(eval_arr, test_arr):\n",
    "    \n",
    "    out = np.zeros((2, 2))\n",
    "    \n",
    "    # TN FP\n",
    "    # FN TP\n",
    "    \n",
    "    # eval arr has \n",
    "    for i in range(eval_arr.shape[0]):\n",
    "        if eval_arr[i] == -1:\n",
    "            continue\n",
    "        \n",
    "        if test_arr[i]:\n",
    "            out[eval_arr[i], 1] += 1\n",
    "        else:\n",
    "            out[eval_arr[i], 0] += 1\n",
    "    \n",
    "    return out.reshape((1, 2, 2))"
   ]
  },
  {
   "cell_type": "code",
   "execution_count": 10,
   "metadata": {},
   "outputs": [],
   "source": [
    "# define intermediate file storage\n",
    "zarr_access_out_path = Path(\n",
    "    \"vo_agam_production\", \"accessibility_maps\", \"v3\", \"accessibility_proposal\", \"gamb_colu\")\n",
    "\n",
    "store_access_out = gcsfs.mapping.GCSMap(zarr_access_out_path.as_posix())\n",
    "accessibility_out = zarr.group(store_access_out)\n",
    "\n",
    "def load_phase3_accessibility(chrom):\n",
    "    return da.from_zarr(accessibility_out[chrom][\"is_accessible\"])"
   ]
  },
  {
   "cell_type": "code",
   "execution_count": 11,
   "metadata": {},
   "outputs": [],
   "source": [
    "accessibility_gcsmap = gcsfs.mapping.GCSMap('ag1000g-release/phase2.AR1/accessibility/accessibility.zarr', gcs=gcs)\n",
    "accessibility_zarr = zarr.Group(accessibility_gcsmap, read_only=True)\n",
    "\n",
    "def load_phase2_accessibility(chrom):\n",
    "    \n",
    "    phase2_is_accessible = da.from_zarr(accessibility_zarr[chrom]['is_accessible'])\n",
    "    filter_n = da.from_zarr(accessibility_zarr[chrom]['filter_n'])\n",
    "    phase2_is_accessible_nonN = da.compress(~filter_n, phase2_is_accessible, axis=0)\n",
    "\n",
    "    # Compute chunk sizes to avoids this error when concatenating arrays: ValueError: Arrays chunk sizes are unknown: (nan,)\n",
    "    # This uses the cluster.\n",
    "    phase2_is_accessible_nonN.compute_chunk_sizes() \n",
    "    return phase2_is_accessible_nonN"
   ]
  },
  {
   "cell_type": "code",
   "execution_count": 12,
   "metadata": {},
   "outputs": [],
   "source": [
    "crosses_gcsmap = gcsfs.mapping.GCSMap('vo_agam_production/crosses_stats/v3', gcs=gcs)\n",
    "crosses_zarr = zarr.Group(crosses_gcsmap, read_only=True)\n",
    "\n",
    "def load_ground_truth(chrom, xid):\n",
    "    \n",
    "    if chrom == \"X\":\n",
    "        \n",
    "        # do something\n",
    "        any_het = da.from_zarr(crosses_zarr[chrom][\"n_male_het\"][xid]) > 0\n",
    "        is_all_called = da.from_zarr(crosses_zarr[chrom][\"all_males_called\"][xid])\n",
    "        \n",
    "        return da.where(any_het > 0, 0, da.where(is_all_called, 1, -1))\n",
    "\n",
    "    else:\n",
    "        me = da.from_zarr(crosses_zarr[chrom]['mendel_error'][xid])\n",
    "        called = da.from_zarr(crosses_zarr[chrom]['n_samples_called'][xid])\n",
    "    \n",
    "        return da.where(me > 0, 0, da.where(called == da.max(called), 1, -1))"
   ]
  },
  {
   "cell_type": "code",
   "execution_count": 13,
   "metadata": {},
   "outputs": [],
   "source": [
    "def create_random_sampler(size, frac_to_accept=0.5, chunks=\"auto\"):\n",
    "    \n",
    "    classif = da.random.random(size, chunks=chunks) < frac_to_accept\n",
    "    return classif"
   ]
  },
  {
   "cell_type": "code",
   "execution_count": 14,
   "metadata": {},
   "outputs": [],
   "source": [
    "def calculate_metrics_of_interest(true_neg, false_pos, false_neg, true_pos):\n",
    "    \n",
    "    r = {}\n",
    "    r[\"tpr\"] = true_pos / (true_pos + false_neg)\n",
    "    r[\"fpr\"] = false_pos / (false_pos + true_neg)\n",
    "    r[\"fdr\"] = false_pos / (true_pos + false_pos)\n",
    "    r[\"tnr\"] = 1 - (false_pos / (false_pos + true_neg))\n",
    "    r[\"youden\"] = r[\"tpr\"] + r[\"tnr\"] - 1\n",
    "    \n",
    "    return r"
   ]
  },
  {
   "cell_type": "code",
   "execution_count": 15,
   "metadata": {},
   "outputs": [
    {
     "data": {
      "text/plain": [
       "['2R', '2L', '3R', '3L', 'X']"
      ]
     },
     "execution_count": 15,
     "metadata": {},
     "output_type": "execute_result"
    }
   ],
   "source": [
    "chrom_arms"
   ]
  },
  {
   "cell_type": "code",
   "execution_count": 16,
   "metadata": {},
   "outputs": [
    {
     "data": {
      "text/plain": [
       "array(['B5', 'K6', '73-2', '45-1', '37-3'], dtype=object)"
      ]
     },
     "execution_count": 16,
     "metadata": {},
     "output_type": "execute_result"
    }
   ],
   "source": [
    "cross_family_ids"
   ]
  },
  {
   "cell_type": "code",
   "execution_count": 17,
   "metadata": {},
   "outputs": [],
   "source": [
    "desired_chunks = (500_000,)"
   ]
  },
  {
   "cell_type": "code",
   "execution_count": 18,
   "metadata": {},
   "outputs": [
    {
     "name": "stderr",
     "output_type": "stream",
     "text": [
      "distributed.scheduler - INFO - Register tcp://10.35.155.2:42543\n",
      "distributed.scheduler - INFO - Starting worker compute stream, tcp://10.35.155.2:42543\n",
      "distributed.core - INFO - Starting established connection\n",
      "distributed.scheduler - INFO - Register tcp://10.35.141.2:33815\n",
      "distributed.scheduler - INFO - Starting worker compute stream, tcp://10.35.141.2:33815\n",
      "distributed.core - INFO - Starting established connection\n",
      "distributed.scheduler - INFO - Register tcp://10.35.162.2:36365\n",
      "distributed.scheduler - INFO - Starting worker compute stream, tcp://10.35.162.2:36365\n",
      "distributed.core - INFO - Starting established connection\n",
      "distributed.scheduler - INFO - Register tcp://10.35.171.2:40165\n",
      "distributed.scheduler - INFO - Starting worker compute stream, tcp://10.35.171.2:40165\n",
      "distributed.core - INFO - Starting established connection\n",
      "distributed.scheduler - INFO - Register tcp://10.35.153.2:36611\n",
      "distributed.scheduler - INFO - Starting worker compute stream, tcp://10.35.153.2:36611\n",
      "distributed.core - INFO - Starting established connection\n",
      "distributed.scheduler - INFO - Register tcp://10.35.152.2:44073\n",
      "distributed.scheduler - INFO - Starting worker compute stream, tcp://10.35.152.2:44073\n",
      "distributed.core - INFO - Starting established connection\n",
      "distributed.scheduler - INFO - Register tcp://10.35.136.2:45055\n",
      "distributed.scheduler - INFO - Starting worker compute stream, tcp://10.35.136.2:45055\n",
      "distributed.core - INFO - Starting established connection\n",
      "distributed.scheduler - INFO - Register tcp://10.35.166.2:33137\n",
      "distributed.scheduler - INFO - Starting worker compute stream, tcp://10.35.166.2:33137\n",
      "distributed.core - INFO - Starting established connection\n",
      "distributed.scheduler - INFO - Register tcp://10.35.146.2:33165\n",
      "distributed.scheduler - INFO - Starting worker compute stream, tcp://10.35.146.2:33165\n",
      "distributed.core - INFO - Starting established connection\n",
      "distributed.scheduler - INFO - Register tcp://10.35.167.2:42457\n",
      "distributed.scheduler - INFO - Starting worker compute stream, tcp://10.35.167.2:42457\n",
      "distributed.core - INFO - Starting established connection\n",
      "distributed.scheduler - INFO - Register tcp://10.35.156.2:41105\n",
      "distributed.scheduler - INFO - Starting worker compute stream, tcp://10.35.156.2:41105\n",
      "distributed.core - INFO - Starting established connection\n",
      "distributed.scheduler - INFO - Register tcp://10.35.145.2:42683\n",
      "distributed.scheduler - INFO - Starting worker compute stream, tcp://10.35.145.2:42683\n",
      "distributed.core - INFO - Starting established connection\n",
      "distributed.scheduler - INFO - Register tcp://10.35.164.2:44437\n",
      "distributed.scheduler - INFO - Starting worker compute stream, tcp://10.35.164.2:44437\n",
      "distributed.core - INFO - Starting established connection\n",
      "distributed.scheduler - INFO - Register tcp://10.35.172.2:44435\n",
      "distributed.scheduler - INFO - Starting worker compute stream, tcp://10.35.172.2:44435\n",
      "distributed.core - INFO - Starting established connection\n",
      "distributed.scheduler - INFO - Register tcp://10.35.150.2:46259\n",
      "distributed.scheduler - INFO - Starting worker compute stream, tcp://10.35.150.2:46259\n",
      "distributed.core - INFO - Starting established connection\n",
      "distributed.scheduler - INFO - Register tcp://10.35.177.2:42905\n",
      "distributed.scheduler - INFO - Starting worker compute stream, tcp://10.35.177.2:42905\n",
      "distributed.core - INFO - Starting established connection\n",
      "distributed.scheduler - INFO - Register tcp://10.35.154.2:36773\n",
      "distributed.scheduler - INFO - Starting worker compute stream, tcp://10.35.154.2:36773\n",
      "distributed.core - INFO - Starting established connection\n",
      "distributed.scheduler - INFO - Register tcp://10.35.163.2:46065\n",
      "distributed.scheduler - INFO - Starting worker compute stream, tcp://10.35.163.2:46065\n",
      "distributed.core - INFO - Starting established connection\n",
      "distributed.scheduler - INFO - Register tcp://10.35.140.2:38015\n",
      "distributed.scheduler - INFO - Starting worker compute stream, tcp://10.35.140.2:38015\n",
      "distributed.core - INFO - Starting established connection\n",
      "distributed.scheduler - INFO - Register tcp://10.35.158.2:37607\n",
      "distributed.scheduler - INFO - Starting worker compute stream, tcp://10.35.158.2:37607\n",
      "distributed.core - INFO - Starting established connection\n",
      "distributed.scheduler - INFO - Register tcp://10.35.137.2:44495\n",
      "distributed.scheduler - INFO - Starting worker compute stream, tcp://10.35.137.2:44495\n",
      "distributed.core - INFO - Starting established connection\n",
      "distributed.scheduler - INFO - Register tcp://10.35.151.2:46859\n",
      "distributed.scheduler - INFO - Starting worker compute stream, tcp://10.35.151.2:46859\n",
      "distributed.core - INFO - Starting established connection\n",
      "distributed.scheduler - INFO - Register tcp://10.35.160.2:36883\n",
      "distributed.scheduler - INFO - Starting worker compute stream, tcp://10.35.160.2:36883\n",
      "distributed.core - INFO - Starting established connection\n",
      "distributed.scheduler - INFO - Register tcp://10.35.176.2:39911\n",
      "distributed.scheduler - INFO - Starting worker compute stream, tcp://10.35.176.2:39911\n",
      "distributed.core - INFO - Starting established connection\n",
      "distributed.scheduler - INFO - Register tcp://10.35.135.2:39293\n",
      "distributed.scheduler - INFO - Starting worker compute stream, tcp://10.35.135.2:39293\n",
      "distributed.core - INFO - Starting established connection\n",
      "distributed.scheduler - INFO - Register tcp://10.35.144.2:37665\n",
      "distributed.scheduler - INFO - Starting worker compute stream, tcp://10.35.144.2:37665\n",
      "distributed.core - INFO - Starting established connection\n",
      "distributed.scheduler - INFO - Register tcp://10.35.170.2:43533\n",
      "distributed.scheduler - INFO - Starting worker compute stream, tcp://10.35.170.2:43533\n",
      "distributed.core - INFO - Starting established connection\n",
      "distributed.scheduler - INFO - Register tcp://10.35.138.2:40881\n",
      "distributed.scheduler - INFO - Starting worker compute stream, tcp://10.35.138.2:40881\n",
      "distributed.core - INFO - Starting established connection\n",
      "distributed.scheduler - INFO - Register tcp://10.35.168.2:35809\n",
      "distributed.scheduler - INFO - Starting worker compute stream, tcp://10.35.168.2:35809\n",
      "distributed.core - INFO - Starting established connection\n",
      "distributed.scheduler - INFO - Register tcp://10.35.174.2:43441\n",
      "distributed.scheduler - INFO - Starting worker compute stream, tcp://10.35.174.2:43441\n",
      "distributed.core - INFO - Starting established connection\n",
      "distributed.scheduler - INFO - Register tcp://10.35.175.2:40133\n",
      "distributed.scheduler - INFO - Starting worker compute stream, tcp://10.35.175.2:40133\n",
      "distributed.core - INFO - Starting established connection\n",
      "distributed.scheduler - INFO - Register tcp://10.35.147.2:33665\n",
      "distributed.scheduler - INFO - Starting worker compute stream, tcp://10.35.147.2:33665\n",
      "distributed.core - INFO - Starting established connection\n"
     ]
    },
    {
     "name": "stdout",
     "output_type": "stream",
     "text": [
      "processing 2R B5\n"
     ]
    },
    {
     "name": "stderr",
     "output_type": "stream",
     "text": [
      "distributed.scheduler - INFO - Register tcp://10.35.143.2:35137\n",
      "distributed.scheduler - INFO - Starting worker compute stream, tcp://10.35.143.2:35137\n",
      "distributed.core - INFO - Starting established connection\n",
      "distributed.scheduler - INFO - Register tcp://10.35.148.2:39703\n",
      "distributed.scheduler - INFO - Starting worker compute stream, tcp://10.35.148.2:39703\n",
      "distributed.core - INFO - Starting established connection\n",
      "distributed.scheduler - INFO - Register tcp://10.35.149.2:42955\n",
      "distributed.scheduler - INFO - Starting worker compute stream, tcp://10.35.149.2:42955\n",
      "distributed.core - INFO - Starting established connection\n",
      "distributed.scheduler - INFO - Register tcp://10.35.161.2:38575\n",
      "distributed.scheduler - INFO - Starting worker compute stream, tcp://10.35.161.2:38575\n",
      "distributed.core - INFO - Starting established connection\n",
      "distributed.scheduler - INFO - Register tcp://10.35.173.2:34671\n",
      "distributed.scheduler - INFO - Starting worker compute stream, tcp://10.35.173.2:34671\n",
      "distributed.core - INFO - Starting established connection\n",
      "/opt/conda/lib/python3.7/site-packages/ipykernel_launcher.py:6: RuntimeWarning: invalid value encountered in long_scalars\n",
      "  \n"
     ]
    },
    {
     "name": "stdout",
     "output_type": "stream",
     "text": [
      "processing 2R K6\n"
     ]
    },
    {
     "name": "stderr",
     "output_type": "stream",
     "text": [
      "/opt/conda/lib/python3.7/site-packages/ipykernel_launcher.py:6: RuntimeWarning: invalid value encountered in long_scalars\n",
      "  \n"
     ]
    },
    {
     "name": "stdout",
     "output_type": "stream",
     "text": [
      "processing 2R 73-2\n"
     ]
    },
    {
     "name": "stderr",
     "output_type": "stream",
     "text": [
      "/opt/conda/lib/python3.7/site-packages/ipykernel_launcher.py:6: RuntimeWarning: invalid value encountered in long_scalars\n",
      "  \n"
     ]
    },
    {
     "name": "stdout",
     "output_type": "stream",
     "text": [
      "processing 2R 45-1\n"
     ]
    },
    {
     "name": "stderr",
     "output_type": "stream",
     "text": [
      "/opt/conda/lib/python3.7/site-packages/ipykernel_launcher.py:6: RuntimeWarning: invalid value encountered in long_scalars\n",
      "  \n"
     ]
    },
    {
     "name": "stdout",
     "output_type": "stream",
     "text": [
      "processing 2R 37-3\n"
     ]
    },
    {
     "name": "stderr",
     "output_type": "stream",
     "text": [
      "/opt/conda/lib/python3.7/site-packages/ipykernel_launcher.py:6: RuntimeWarning: invalid value encountered in long_scalars\n",
      "  \n"
     ]
    },
    {
     "name": "stdout",
     "output_type": "stream",
     "text": [
      "processing 2L B5\n"
     ]
    },
    {
     "name": "stderr",
     "output_type": "stream",
     "text": [
      "/opt/conda/lib/python3.7/site-packages/ipykernel_launcher.py:6: RuntimeWarning: invalid value encountered in long_scalars\n",
      "  \n"
     ]
    },
    {
     "name": "stdout",
     "output_type": "stream",
     "text": [
      "processing 2L K6\n"
     ]
    },
    {
     "name": "stderr",
     "output_type": "stream",
     "text": [
      "distributed.scheduler - INFO - Register tcp://10.35.142.2:32833\n",
      "distributed.scheduler - INFO - Starting worker compute stream, tcp://10.35.142.2:32833\n",
      "distributed.core - INFO - Starting established connection\n",
      "/opt/conda/lib/python3.7/site-packages/ipykernel_launcher.py:6: RuntimeWarning: invalid value encountered in long_scalars\n",
      "  \n",
      "distributed.scheduler - INFO - Register tcp://10.35.165.2:35125\n",
      "distributed.scheduler - INFO - Starting worker compute stream, tcp://10.35.165.2:35125\n",
      "distributed.core - INFO - Starting established connection\n"
     ]
    },
    {
     "name": "stdout",
     "output_type": "stream",
     "text": [
      "processing 2L 73-2\n"
     ]
    },
    {
     "name": "stderr",
     "output_type": "stream",
     "text": [
      "/opt/conda/lib/python3.7/site-packages/ipykernel_launcher.py:6: RuntimeWarning: invalid value encountered in long_scalars\n",
      "  \n"
     ]
    },
    {
     "name": "stdout",
     "output_type": "stream",
     "text": [
      "processing 2L 45-1\n"
     ]
    },
    {
     "name": "stderr",
     "output_type": "stream",
     "text": [
      "/opt/conda/lib/python3.7/site-packages/ipykernel_launcher.py:6: RuntimeWarning: invalid value encountered in long_scalars\n",
      "  \n"
     ]
    },
    {
     "name": "stdout",
     "output_type": "stream",
     "text": [
      "processing 2L 37-3\n"
     ]
    },
    {
     "name": "stderr",
     "output_type": "stream",
     "text": [
      "/opt/conda/lib/python3.7/site-packages/ipykernel_launcher.py:6: RuntimeWarning: invalid value encountered in long_scalars\n",
      "  \n"
     ]
    },
    {
     "name": "stdout",
     "output_type": "stream",
     "text": [
      "processing 3R B5\n"
     ]
    },
    {
     "name": "stderr",
     "output_type": "stream",
     "text": [
      "/opt/conda/lib/python3.7/site-packages/ipykernel_launcher.py:6: RuntimeWarning: invalid value encountered in long_scalars\n",
      "  \n"
     ]
    },
    {
     "name": "stdout",
     "output_type": "stream",
     "text": [
      "processing 3R K6\n"
     ]
    },
    {
     "name": "stderr",
     "output_type": "stream",
     "text": [
      "/opt/conda/lib/python3.7/site-packages/ipykernel_launcher.py:6: RuntimeWarning: invalid value encountered in long_scalars\n",
      "  \n"
     ]
    },
    {
     "name": "stdout",
     "output_type": "stream",
     "text": [
      "processing 3R 73-2\n"
     ]
    },
    {
     "name": "stderr",
     "output_type": "stream",
     "text": [
      "/opt/conda/lib/python3.7/site-packages/ipykernel_launcher.py:6: RuntimeWarning: invalid value encountered in long_scalars\n",
      "  \n"
     ]
    },
    {
     "name": "stdout",
     "output_type": "stream",
     "text": [
      "processing 3R 45-1\n"
     ]
    },
    {
     "name": "stderr",
     "output_type": "stream",
     "text": [
      "/opt/conda/lib/python3.7/site-packages/ipykernel_launcher.py:6: RuntimeWarning: invalid value encountered in long_scalars\n",
      "  \n"
     ]
    },
    {
     "name": "stdout",
     "output_type": "stream",
     "text": [
      "processing 3R 37-3\n"
     ]
    },
    {
     "name": "stderr",
     "output_type": "stream",
     "text": [
      "/opt/conda/lib/python3.7/site-packages/ipykernel_launcher.py:6: RuntimeWarning: invalid value encountered in long_scalars\n",
      "  \n"
     ]
    },
    {
     "name": "stdout",
     "output_type": "stream",
     "text": [
      "processing 3L B5\n"
     ]
    },
    {
     "name": "stderr",
     "output_type": "stream",
     "text": [
      "/opt/conda/lib/python3.7/site-packages/ipykernel_launcher.py:6: RuntimeWarning: invalid value encountered in long_scalars\n",
      "  \n"
     ]
    },
    {
     "name": "stdout",
     "output_type": "stream",
     "text": [
      "processing 3L K6\n"
     ]
    },
    {
     "name": "stderr",
     "output_type": "stream",
     "text": [
      "/opt/conda/lib/python3.7/site-packages/ipykernel_launcher.py:6: RuntimeWarning: invalid value encountered in long_scalars\n",
      "  \n"
     ]
    },
    {
     "name": "stdout",
     "output_type": "stream",
     "text": [
      "processing 3L 73-2\n"
     ]
    },
    {
     "name": "stderr",
     "output_type": "stream",
     "text": [
      "/opt/conda/lib/python3.7/site-packages/ipykernel_launcher.py:6: RuntimeWarning: invalid value encountered in long_scalars\n",
      "  \n"
     ]
    },
    {
     "name": "stdout",
     "output_type": "stream",
     "text": [
      "processing 3L 45-1\n"
     ]
    },
    {
     "name": "stderr",
     "output_type": "stream",
     "text": [
      "/opt/conda/lib/python3.7/site-packages/ipykernel_launcher.py:6: RuntimeWarning: invalid value encountered in long_scalars\n",
      "  \n"
     ]
    },
    {
     "name": "stdout",
     "output_type": "stream",
     "text": [
      "processing 3L 37-3\n"
     ]
    },
    {
     "name": "stderr",
     "output_type": "stream",
     "text": [
      "/opt/conda/lib/python3.7/site-packages/ipykernel_launcher.py:6: RuntimeWarning: invalid value encountered in long_scalars\n",
      "  \n"
     ]
    },
    {
     "name": "stdout",
     "output_type": "stream",
     "text": [
      "processing X B5\n"
     ]
    },
    {
     "name": "stderr",
     "output_type": "stream",
     "text": [
      "/opt/conda/lib/python3.7/site-packages/ipykernel_launcher.py:6: RuntimeWarning: invalid value encountered in long_scalars\n",
      "  \n"
     ]
    },
    {
     "name": "stdout",
     "output_type": "stream",
     "text": [
      "processing X K6\n"
     ]
    },
    {
     "name": "stderr",
     "output_type": "stream",
     "text": [
      "/opt/conda/lib/python3.7/site-packages/ipykernel_launcher.py:6: RuntimeWarning: invalid value encountered in long_scalars\n",
      "  \n"
     ]
    },
    {
     "name": "stdout",
     "output_type": "stream",
     "text": [
      "processing X 73-2\n"
     ]
    },
    {
     "name": "stderr",
     "output_type": "stream",
     "text": [
      "/opt/conda/lib/python3.7/site-packages/ipykernel_launcher.py:6: RuntimeWarning: invalid value encountered in long_scalars\n",
      "  \n"
     ]
    },
    {
     "name": "stdout",
     "output_type": "stream",
     "text": [
      "processing X 45-1\n"
     ]
    },
    {
     "name": "stderr",
     "output_type": "stream",
     "text": [
      "/opt/conda/lib/python3.7/site-packages/ipykernel_launcher.py:6: RuntimeWarning: invalid value encountered in long_scalars\n",
      "  \n"
     ]
    },
    {
     "name": "stdout",
     "output_type": "stream",
     "text": [
      "processing X 37-3\n"
     ]
    },
    {
     "name": "stderr",
     "output_type": "stream",
     "text": [
      "/opt/conda/lib/python3.7/site-packages/ipykernel_launcher.py:6: RuntimeWarning: invalid value encountered in long_scalars\n",
      "  \n"
     ]
    }
   ],
   "source": [
    "data_holder = {}\n",
    "venn = {}\n",
    "\n",
    "for chrom_arm in chrom_arms:\n",
    "        \n",
    "    # varies by chrom only, but need to be chunked depending on ground_truth\n",
    "    alternative_calls = {\n",
    "        \"phase2\": load_phase2_accessibility(chrom_arm).rechunk(desired_chunks),\n",
    "        \"phase3_proposal\": load_phase3_accessibility(chrom_arm).rechunk(desired_chunks)\n",
    "    }\n",
    "    \n",
    "    alternative_calls[\"r0\"] = da.zeros(alternative_calls[\"phase2\"].shape[0], dtype=np.bool, chunks=desired_chunks)\n",
    "    alternative_calls[\"r50\"] = create_random_sampler(alternative_calls[\"phase2\"].shape[0], 0.5, desired_chunks)\n",
    "    alternative_calls[\"r100\"] = da.ones(alternative_calls[\"phase2\"].shape[0], dtype=np.bool, chunks=desired_chunks)\n",
    "    \n",
    "    chunks = ((1, ) * alternative_calls[\"phase2\"].numblocks[0], 2, 2)\n",
    "    x = da.map_blocks(\n",
    "        cross_tab_values, \n",
    "        alternative_calls[\"phase2\"].astype(\"int\"), \n",
    "        alternative_calls[\"phase3_proposal\"], \n",
    "        chunks=chunks,\n",
    "        dtype=np.int32,\n",
    "        new_axis=[1, 2]).sum(axis=0).compute()\n",
    "    \n",
    "    venn[chrom_arm] = x\n",
    "    \n",
    "    for cross_id in cross_family_ids:\n",
    "        \n",
    "        print(\"processing\", chrom_arm, cross_id)\n",
    "\n",
    "        # varies by cross and chrom\n",
    "        ground_truth = load_ground_truth(chrom_arm, cross_id).rechunk(desired_chunks)\n",
    "\n",
    "\n",
    "        for key, eval_data in alternative_calls.items():\n",
    "            \n",
    "            if (key, chrom_arm, cross_id) in data_holder:\n",
    "                print(\"skipping\", (key, chrom_arm, cross_id))\n",
    "                continue\n",
    "\n",
    "            chunks = ((1, ) * ground_truth.numblocks[0], 2, 2)\n",
    "            q = da.map_blocks(\n",
    "                cross_tab_values, \n",
    "                ground_truth, \n",
    "                eval_data, \n",
    "                chunks=chunks, \n",
    "                dtype=np.int32, \n",
    "                new_axis=[1, 2]).sum(axis=0)\n",
    "\n",
    "            (tn, fp), (fn, tp) = q.compute()\n",
    "\n",
    "            res = calculate_metrics_of_interest(tn, fp, fn, tp)\n",
    "            res[\"frac_accessible\"] = eval_data.mean().compute()\n",
    "\n",
    "            data_holder[key, chrom_arm, cross_id] = pd.Series(res, dtype=np.float)"
   ]
  },
  {
   "cell_type": "code",
   "execution_count": 22,
   "metadata": {},
   "outputs": [
    {
     "name": "stderr",
     "output_type": "stream",
     "text": [
      "distributed.scheduler - INFO - Remove worker tcp://10.35.144.2:37665\n",
      "distributed.core - INFO - Removing comms to tcp://10.35.144.2:37665\n"
     ]
    },
    {
     "data": {
      "image/png": "[encoded data removed]",
      "text/plain": [
       "<Figure size 864x576 with 6 Axes>"
      ]
     },
     "metadata": {
      "needs_background": "light"
     },
     "output_type": "display_data"
    }
   ],
   "source": [
    "from matplotlib_venn import venn2\n",
    "import matplotlib.pyplot as plt\n",
    "\n",
    "\n",
    "\n",
    "f, axes = plt.subplots(2, 3, figsize=(12, 8))\n",
    "\n",
    "for ix, chrom in enumerate(chrom_arms):\n",
    "\n",
    "    d = np.round(venn[chrom] * 10e-6, 2)\n",
    "\n",
    "    access_p2 = d[1, 1] + d[1, 0]\n",
    "    access_p3 = d[0, 1] + d[1, 1]\n",
    "    access_both = d[1, 1]\n",
    "    access_p2_not_p3 = d[1, 0]\n",
    "    access_p3_not_p2 = d[0, 1]\n",
    "\n",
    "    i = ix // 3\n",
    "    j = ix % 3\n",
    "    venn2(subsets = (access_p2_not_p3, access_p3_not_p2, access_both), set_labels=(\"phase2\", \"v3_gamb_colu\"), ax=axes[i, j])\n",
    "    axes[i, j].set_title(chrom)\n",
    "\n",
    "    \n",
    "axes[-1, -1].axis('off')\n",
    "f.suptitle(\"Millions of shared sites\")\n",
    "f.savefig(\"shared_sites_p2_p3_venn.png\")"
   ]
  },
  {
   "cell_type": "code",
   "execution_count": 23,
   "metadata": {},
   "outputs": [],
   "source": [
    "df = pd.concat(data_holder, axis=0, sort=False, names=[\"description\", \"chrom\", \"cross_id\", \"metric\"])\n",
    "df.name = \"value\""
   ]
  },
  {
   "cell_type": "code",
   "execution_count": 24,
   "metadata": {},
   "outputs": [
    {
     "data": {
      "text/plain": [
       "description  chrom  cross_id  metric         \n",
       "phase2       2R     B5        tpr                0.731028\n",
       "                              fpr                0.078367\n",
       "                              fdr                0.000714\n",
       "                              tnr                0.921633\n",
       "                              youden             0.652662\n",
       "                                                   ...   \n",
       "r100         X      37-3      fpr                1.000000\n",
       "                              fdr                0.031099\n",
       "                              tnr                0.000000\n",
       "                              youden             0.000000\n",
       "                              frac_accessible    1.000000\n",
       "Name: value, Length: 750, dtype: float64"
      ]
     },
     "execution_count": 24,
     "metadata": {},
     "output_type": "execute_result"
    }
   ],
   "source": [
    "df"
   ]
  },
  {
   "cell_type": "code",
   "execution_count": 25,
   "metadata": {},
   "outputs": [],
   "source": [
    "output = pd.pivot_table(\n",
    "    pd.DataFrame(df).reset_index(level=\"metric\"), \n",
    "    index=[\"description\", \"chrom\", \"cross_id\"], \n",
    "    columns=\"metric\", \n",
    "    values=\"value\")"
   ]
  },
  {
   "cell_type": "code",
   "execution_count": 26,
   "metadata": {},
   "outputs": [
    {
     "data": {
      "text/html": [
       "<div>\n",
       "<style scoped>\n",
       "    .dataframe tbody tr th:only-of-type {\n",
       "        vertical-align: middle;\n",
       "    }\n",
       "\n",
       "    .dataframe tbody tr th {\n",
       "        vertical-align: top;\n",
       "    }\n",
       "\n",
       "    .dataframe thead th {\n",
       "        text-align: right;\n",
       "    }\n",
       "</style>\n",
       "<table border=\"1\" class=\"dataframe\">\n",
       "  <thead>\n",
       "    <tr style=\"text-align: right;\">\n",
       "      <th></th>\n",
       "      <th></th>\n",
       "      <th>metric</th>\n",
       "      <th>fdr</th>\n",
       "      <th>fpr</th>\n",
       "      <th>frac_accessible</th>\n",
       "      <th>tnr</th>\n",
       "      <th>tpr</th>\n",
       "      <th>youden</th>\n",
       "    </tr>\n",
       "    <tr>\n",
       "      <th>description</th>\n",
       "      <th>chrom</th>\n",
       "      <th>cross_id</th>\n",
       "      <th></th>\n",
       "      <th></th>\n",
       "      <th></th>\n",
       "      <th></th>\n",
       "      <th></th>\n",
       "      <th></th>\n",
       "    </tr>\n",
       "  </thead>\n",
       "  <tbody>\n",
       "    <tr>\n",
       "      <th rowspan=\"5\" valign=\"top\">phase2</th>\n",
       "      <th rowspan=\"5\" valign=\"top\">2L</th>\n",
       "      <th>37-3</th>\n",
       "      <td>0.002049</td>\n",
       "      <td>0.106601</td>\n",
       "      <td>0.580992</td>\n",
       "      <td>0.893399</td>\n",
       "      <td>0.650019</td>\n",
       "      <td>0.543419</td>\n",
       "    </tr>\n",
       "    <tr>\n",
       "      <th>45-1</th>\n",
       "      <td>0.001660</td>\n",
       "      <td>0.105043</td>\n",
       "      <td>0.580992</td>\n",
       "      <td>0.894957</td>\n",
       "      <td>0.650928</td>\n",
       "      <td>0.545884</td>\n",
       "    </tr>\n",
       "    <tr>\n",
       "      <th>73-2</th>\n",
       "      <td>0.001310</td>\n",
       "      <td>0.081861</td>\n",
       "      <td>0.580992</td>\n",
       "      <td>0.918139</td>\n",
       "      <td>0.653564</td>\n",
       "      <td>0.571703</td>\n",
       "    </tr>\n",
       "    <tr>\n",
       "      <th>B5</th>\n",
       "      <td>0.000778</td>\n",
       "      <td>0.067623</td>\n",
       "      <td>0.580992</td>\n",
       "      <td>0.932377</td>\n",
       "      <td>0.639615</td>\n",
       "      <td>0.571992</td>\n",
       "    </tr>\n",
       "    <tr>\n",
       "      <th>K6</th>\n",
       "      <td>0.000654</td>\n",
       "      <td>0.056652</td>\n",
       "      <td>0.580992</td>\n",
       "      <td>0.943348</td>\n",
       "      <td>0.652258</td>\n",
       "      <td>0.595606</td>\n",
       "    </tr>\n",
       "    <tr>\n",
       "      <th>...</th>\n",
       "      <th>...</th>\n",
       "      <th>...</th>\n",
       "      <td>...</td>\n",
       "      <td>...</td>\n",
       "      <td>...</td>\n",
       "      <td>...</td>\n",
       "      <td>...</td>\n",
       "      <td>...</td>\n",
       "    </tr>\n",
       "    <tr>\n",
       "      <th rowspan=\"5\" valign=\"top\">r50</th>\n",
       "      <th rowspan=\"5\" valign=\"top\">X</th>\n",
       "      <th>37-3</th>\n",
       "      <td>0.031025</td>\n",
       "      <td>0.498727</td>\n",
       "      <td>0.499890</td>\n",
       "      <td>0.501273</td>\n",
       "      <td>0.499940</td>\n",
       "      <td>0.001213</td>\n",
       "    </tr>\n",
       "    <tr>\n",
       "      <th>45-1</th>\n",
       "      <td>0.027303</td>\n",
       "      <td>0.499821</td>\n",
       "      <td>0.499890</td>\n",
       "      <td>0.500179</td>\n",
       "      <td>0.499947</td>\n",
       "      <td>0.000127</td>\n",
       "    </tr>\n",
       "    <tr>\n",
       "      <th>73-2</th>\n",
       "      <td>0.022385</td>\n",
       "      <td>0.500262</td>\n",
       "      <td>0.499890</td>\n",
       "      <td>0.499738</td>\n",
       "      <td>0.499907</td>\n",
       "      <td>-0.000355</td>\n",
       "    </tr>\n",
       "    <tr>\n",
       "      <th>B5</th>\n",
       "      <td>0.032986</td>\n",
       "      <td>0.499527</td>\n",
       "      <td>0.499890</td>\n",
       "      <td>0.500473</td>\n",
       "      <td>0.499934</td>\n",
       "      <td>0.000407</td>\n",
       "    </tr>\n",
       "    <tr>\n",
       "      <th>K6</th>\n",
       "      <td>0.019936</td>\n",
       "      <td>0.499514</td>\n",
       "      <td>0.499890</td>\n",
       "      <td>0.500486</td>\n",
       "      <td>0.499928</td>\n",
       "      <td>0.000414</td>\n",
       "    </tr>\n",
       "  </tbody>\n",
       "</table>\n",
       "<p>125 rows × 6 columns</p>\n",
       "</div>"
      ],
      "text/plain": [
       "metric                           fdr       fpr  frac_accessible       tnr  \\\n",
       "description chrom cross_id                                                  \n",
       "phase2      2L    37-3      0.002049  0.106601         0.580992  0.893399   \n",
       "                  45-1      0.001660  0.105043         0.580992  0.894957   \n",
       "                  73-2      0.001310  0.081861         0.580992  0.918139   \n",
       "                  B5        0.000778  0.067623         0.580992  0.932377   \n",
       "                  K6        0.000654  0.056652         0.580992  0.943348   \n",
       "...                              ...       ...              ...       ...   \n",
       "r50         X     37-3      0.031025  0.498727         0.499890  0.501273   \n",
       "                  45-1      0.027303  0.499821         0.499890  0.500179   \n",
       "                  73-2      0.022385  0.500262         0.499890  0.499738   \n",
       "                  B5        0.032986  0.499527         0.499890  0.500473   \n",
       "                  K6        0.019936  0.499514         0.499890  0.500486   \n",
       "\n",
       "metric                           tpr    youden  \n",
       "description chrom cross_id                      \n",
       "phase2      2L    37-3      0.650019  0.543419  \n",
       "                  45-1      0.650928  0.545884  \n",
       "                  73-2      0.653564  0.571703  \n",
       "                  B5        0.639615  0.571992  \n",
       "                  K6        0.652258  0.595606  \n",
       "...                              ...       ...  \n",
       "r50         X     37-3      0.499940  0.001213  \n",
       "                  45-1      0.499947  0.000127  \n",
       "                  73-2      0.499907 -0.000355  \n",
       "                  B5        0.499934  0.000407  \n",
       "                  K6        0.499928  0.000414  \n",
       "\n",
       "[125 rows x 6 columns]"
      ]
     },
     "execution_count": 26,
     "metadata": {},
     "output_type": "execute_result"
    }
   ],
   "source": [
    "output"
   ]
  },
  {
   "cell_type": "code",
   "execution_count": 27,
   "metadata": {},
   "outputs": [
    {
     "name": "stderr",
     "output_type": "stream",
     "text": [
      "distributed.scheduler - INFO - Remove worker tcp://10.35.164.2:44437\n",
      "distributed.core - INFO - Removing comms to tcp://10.35.164.2:44437\n"
     ]
    }
   ],
   "source": [
    "output.to_csv(\"performance_stats_all.csv\")"
   ]
  }
 ],
 "metadata": {
  "kernelspec": {
   "display_name": "Python 3",
   "language": "python",
   "name": "python3"
  },
  "language_info": {
   "codemirror_mode": {
    "name": "ipython",
    "version": 3
   },
   "file_extension": ".py",
   "mimetype": "text/x-python",
   "name": "python",
   "nbconvert_exporter": "python",
   "pygments_lexer": "ipython3",
   "version": "3.7.6"
  }
 },
 "nbformat": 4,
 "nbformat_minor": 4
}
