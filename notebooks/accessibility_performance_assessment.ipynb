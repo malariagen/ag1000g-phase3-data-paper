{
 "cells": [
  {
   "cell_type": "markdown",
   "metadata": {},
   "source": [
    "# Performance assessment\n",
    "\n",
    "\n",
    "## Determine binary classification statistics \n",
    "\n",
    "For the v3 site filter, vs:\n",
    "- phase 2 accessibility map\n",
    "- permissive (100% pass, 0 fail)\n",
    "\n",
    "based on:\n",
    "- Mendelian error in all crosses (autosomes)\n",
    "- male het calls (`n_male_het`, `all_males_called`) will be used instead of `mendel_error`"
   ]
  },
  {
   "cell_type": "code",
   "execution_count": 1,
   "metadata": {},
   "outputs": [],
   "source": [
    "# Imports:\n",
    "import gcsfs\n",
    "import zarr\n",
    "import dask.array as da\n",
    "from dask.distributed import Client\n",
    "import pandas as pd\n",
    "import numpy as np\n",
    "import numba\n",
    "from pathlib import Path\n",
    "#\n",
    "import ag3\n",
    "import ag2"
   ]
  },
  {
   "cell_type": "code",
   "execution_count": 2,
   "metadata": {},
   "outputs": [],
   "source": [
    "# Settings:\n",
    "cross_family_ids = ['18-5', '29-2', '36-9', '37-3', '42-4', '45-1', '46-9', '47-6', '73-2', '78-2', '80-2', 'B5', 'K2', 'K4', 'K6']\n",
    "chrom_arms = ['2R', '2L', '3R', '3L', 'X']"
   ]
  },
  {
   "cell_type": "code",
   "execution_count": 3,
   "metadata": {},
   "outputs": [
    {
     "data": {
      "text/plain": [
       "['18-5',\n",
       " '29-2',\n",
       " '36-9',\n",
       " '37-3',\n",
       " '42-4',\n",
       " '45-1',\n",
       " '46-9',\n",
       " '47-6',\n",
       " '73-2',\n",
       " '78-2',\n",
       " '80-2',\n",
       " 'B5',\n",
       " 'K2',\n",
       " 'K4',\n",
       " 'K6']"
      ]
     },
     "execution_count": 3,
     "metadata": {},
     "output_type": "execute_result"
    }
   ],
   "source": [
    "cross_family_ids"
   ]
  },
  {
   "cell_type": "markdown",
   "metadata": {},
   "source": [
    "## Determine which crosses stats (inc. Mendelian error) are predicted by each site filter\n",
    "\n",
    "Populate the confusion matrix, such that:\n",
    "- If the crosses stats imply that a position is accessible (\"good\") and the site filter also says it passes, then mark the prediction as a `True Positive` (`TP`)\n",
    "- If the crosses stats imply that a position is accessible (\"good\") but the site filter says it fails, then mark the prediction as a `False Negative` (`FN`)\n",
    "- If the crosses stats imply that a position is inaccessible (\"bad\") and the site filter also says it fails, then mark the prediction as a `True Negative` (`TN`)\n",
    "- If the crosses stats imply that a position is inaccessible (\"bad\") but the site filter says it passes, then mark the prediction as a `False Positive` (`FP`)\n",
    "- If the crosses stats cannot determine whether a position is \"good\" or \"bad\" (e.g. there were no male het calls on the X chromosome, but not all samples were called), then mark the prediction result as undetermined and exclude from subsequent stats."
   ]
  },
  {
   "cell_type": "code",
   "execution_count": 4,
   "metadata": {},
   "outputs": [],
   "source": [
    "@numba.njit\n",
    "def cross_tab_values(eval_arr, test_arr):\n",
    "    \n",
    "    out = np.zeros((2, 2))\n",
    "    \n",
    "    # TN FP\n",
    "    # FN TP\n",
    "    \n",
    "    # eval arr has \n",
    "    for i in range(eval_arr.shape[0]):\n",
    "        if eval_arr[i] == -1:\n",
    "            continue\n",
    "        \n",
    "        if test_arr[i]:\n",
    "            out[eval_arr[i], 1] += 1\n",
    "        else:\n",
    "            out[eval_arr[i], 0] += 1\n",
    "    \n",
    "    return out.reshape((1, 2, 2))"
   ]
  },
  {
   "cell_type": "code",
   "execution_count": 5,
   "metadata": {},
   "outputs": [],
   "source": [
    "ag3_release_data = ag3.release_data()\n",
    "\n",
    "def load_phase3_accessibility(chrom):\n",
    "    return ag3_release_data.load_mask(chrom, mask_id='gamb_colu')"
   ]
  },
  {
   "cell_type": "code",
   "execution_count": 6,
   "metadata": {},
   "outputs": [],
   "source": [
    "ag2_release_data = ag2.release_data()\n",
    "\n",
    "def load_phase2_accessibility(chrom):\n",
    "    \n",
    "    phase2_is_accessible = ag2_release_data.load_is_accessible(chrom)\n",
    "    filter_n = ag2_release_data.load_filter_n(chrom)\n",
    "    phase2_is_accessible_nonN = da.compress(~filter_n, phase2_is_accessible, axis=0)\n",
    "\n",
    "    # Compute chunk sizes avoids this error when concatenating arrays: ValueError: Arrays chunk sizes are unknown: (nan,)\n",
    "    phase2_is_accessible_nonN.compute_chunk_sizes() \n",
    "    return phase2_is_accessible_nonN"
   ]
  },
  {
   "cell_type": "code",
   "execution_count": 7,
   "metadata": {},
   "outputs": [],
   "source": [
    "def load_ground_truth(chrom, xid):\n",
    "    \n",
    "    if chrom == \"X\":\n",
    "        \n",
    "        # do something\n",
    "        any_het = ag3_release_data.load_crosses(chrom, xid, \"n_male_het\")\n",
    "        is_all_called = ag3_release_data.load_crosses(chrom, xid, \"all_males_called\")\n",
    "        \n",
    "        return da.where(any_het > 0, 0, da.where(is_all_called, 1, -1))\n",
    "\n",
    "    else:\n",
    "        me = ag3_release_data.load_crosses(chrom, xid, 'mendel_error')\n",
    "        called = ag3_release_data.load_crosses(chrom, xid, 'n_samples_called')\n",
    "    \n",
    "        return da.where(me > 0, 0, da.where(called == da.max(called), 1, -1))"
   ]
  },
  {
   "cell_type": "code",
   "execution_count": 8,
   "metadata": {},
   "outputs": [],
   "source": [
    "def calculate_metrics_of_interest(true_neg, false_pos, false_neg, true_pos):\n",
    "    \n",
    "    r = {}\n",
    "    r[\"tpr\"] = true_pos / (true_pos + false_neg)\n",
    "    r[\"fpr\"] = false_pos / (false_pos + true_neg)\n",
    "    r[\"fdr\"] = false_pos / (true_pos + false_pos)\n",
    "    r[\"tnr\"] = 1 - (false_pos / (false_pos + true_neg))\n",
    "    r[\"youden\"] = r[\"tpr\"] + r[\"tnr\"] - 1\n",
    "    \n",
    "    return r"
   ]
  },
  {
   "cell_type": "code",
   "execution_count": 9,
   "metadata": {},
   "outputs": [
    {
     "data": {
      "text/plain": [
       "['2R', '2L', '3R', '3L', 'X']"
      ]
     },
     "execution_count": 9,
     "metadata": {},
     "output_type": "execute_result"
    }
   ],
   "source": [
    "chrom_arms"
   ]
  },
  {
   "cell_type": "code",
   "execution_count": 10,
   "metadata": {},
   "outputs": [
    {
     "data": {
      "text/plain": [
       "['18-5',\n",
       " '29-2',\n",
       " '36-9',\n",
       " '37-3',\n",
       " '42-4',\n",
       " '45-1',\n",
       " '46-9',\n",
       " '47-6',\n",
       " '73-2',\n",
       " '78-2',\n",
       " '80-2',\n",
       " 'B5',\n",
       " 'K2',\n",
       " 'K4',\n",
       " 'K6']"
      ]
     },
     "execution_count": 10,
     "metadata": {},
     "output_type": "execute_result"
    }
   ],
   "source": [
    "cross_family_ids"
   ]
  },
  {
   "cell_type": "code",
   "execution_count": 11,
   "metadata": {},
   "outputs": [],
   "source": [
    "desired_chunks = (500_000,)"
   ]
  },
  {
   "cell_type": "code",
   "execution_count": 12,
   "metadata": {},
   "outputs": [
    {
     "name": "stdout",
     "output_type": "stream",
     "text": [
      "processing 2R 18-5\n",
      "processing 2R 29-2\n",
      "processing 2R 36-9\n",
      "processing 2R 37-3\n",
      "processing 2R 42-4\n",
      "processing 2R 45-1\n",
      "processing 2R 46-9\n",
      "processing 2R 47-6\n",
      "processing 2R 73-2\n",
      "processing 2R 78-2\n",
      "processing 2R 80-2\n",
      "processing 2R B5\n",
      "processing 2R K2\n",
      "processing 2R K4\n",
      "processing 2R K6\n",
      "processing 2L 18-5\n",
      "processing 2L 29-2\n",
      "processing 2L 36-9\n",
      "processing 2L 37-3\n",
      "processing 2L 42-4\n",
      "processing 2L 45-1\n",
      "processing 2L 46-9\n",
      "processing 2L 47-6\n",
      "processing 2L 73-2\n",
      "processing 2L 78-2\n",
      "processing 2L 80-2\n",
      "processing 2L B5\n",
      "processing 2L K2\n",
      "processing 2L K4\n",
      "processing 2L K6\n",
      "processing 3R 18-5\n",
      "processing 3R 29-2\n",
      "processing 3R 36-9\n",
      "processing 3R 37-3\n",
      "processing 3R 42-4\n",
      "processing 3R 45-1\n",
      "processing 3R 46-9\n",
      "processing 3R 47-6\n",
      "processing 3R 73-2\n",
      "processing 3R 78-2\n",
      "processing 3R 80-2\n",
      "processing 3R B5\n",
      "processing 3R K2\n",
      "processing 3R K4\n",
      "processing 3R K6\n",
      "processing 3L 18-5\n",
      "processing 3L 29-2\n",
      "processing 3L 36-9\n",
      "processing 3L 37-3\n",
      "processing 3L 42-4\n",
      "processing 3L 45-1\n",
      "processing 3L 46-9\n",
      "processing 3L 47-6\n",
      "processing 3L 73-2\n",
      "processing 3L 78-2\n",
      "processing 3L 80-2\n",
      "processing 3L B5\n",
      "processing 3L K2\n",
      "processing 3L K4\n",
      "processing 3L K6\n",
      "processing X 18-5\n",
      "processing X 29-2\n",
      "processing X 36-9\n",
      "processing X 37-3\n",
      "processing X 42-4\n",
      "processing X 45-1\n",
      "processing X 46-9\n",
      "processing X 47-6\n",
      "processing X 73-2\n",
      "processing X 78-2\n",
      "processing X 80-2\n",
      "processing X B5\n",
      "processing X K2\n",
      "processing X K4\n",
      "processing X K6\n",
      "CPU times: user 32min 49s, sys: 4min 32s, total: 37min 21s\n",
      "Wall time: 41min 33s\n"
     ]
    }
   ],
   "source": [
    "%%time # Wall time: 41min 33s\n",
    "data_holder = {}\n",
    "\n",
    "for chrom_arm in chrom_arms:\n",
    "        \n",
    "    # varies by chrom only, but need to be chunked depending on ground_truth\n",
    "    alternative_calls = {\n",
    "        \"phase2\": load_phase2_accessibility(chrom_arm).rechunk(desired_chunks),\n",
    "        \"phase3\": load_phase3_accessibility(chrom_arm).rechunk(desired_chunks)\n",
    "    }\n",
    "    \n",
    "    alternative_calls[\"r100\"] = da.ones(alternative_calls[\"phase2\"].shape[0], dtype=np.bool, chunks=desired_chunks)\n",
    "    \n",
    "    chunks = ((1, ) * alternative_calls[\"phase2\"].numblocks[0], 2, 2)\n",
    "    x = da.map_blocks(\n",
    "        cross_tab_values, \n",
    "        alternative_calls[\"phase2\"].astype(\"int\"), \n",
    "        alternative_calls[\"phase3\"], \n",
    "        chunks=chunks,\n",
    "        dtype=np.int32,\n",
    "        new_axis=[1, 2]).sum(axis=0).compute()\n",
    "\n",
    "    for cross_id in cross_family_ids:\n",
    "        \n",
    "        print(\"processing\", chrom_arm, cross_id)\n",
    "\n",
    "        # varies by cross and chrom\n",
    "        ground_truth = load_ground_truth(chrom_arm, cross_id).rechunk(desired_chunks)\n",
    "\n",
    "\n",
    "        for key, eval_data in alternative_calls.items():\n",
    "            \n",
    "            if (key, chrom_arm, cross_id) in data_holder:\n",
    "                print(\"skipping\", (key, chrom_arm, cross_id))\n",
    "                continue\n",
    "\n",
    "            chunks = ((1, ) * ground_truth.numblocks[0], 2, 2)\n",
    "            q = da.map_blocks(\n",
    "                cross_tab_values, \n",
    "                ground_truth, \n",
    "                eval_data, \n",
    "                chunks=chunks, \n",
    "                dtype=np.int32, \n",
    "                new_axis=[1, 2]).sum(axis=0)\n",
    "\n",
    "            (tn, fp), (fn, tp) = q.compute()\n",
    "\n",
    "            res = calculate_metrics_of_interest(tn, fp, fn, tp)\n",
    "            res[\"frac_accessible\"] = eval_data.mean().compute()\n",
    "\n",
    "            data_holder[key, chrom_arm, cross_id] = pd.Series(res, dtype=np.float)"
   ]
  },
  {
   "cell_type": "code",
   "execution_count": 13,
   "metadata": {},
   "outputs": [],
   "source": [
    "df = pd.concat(data_holder, axis=0, sort=False, names=[\"description\", \"chrom\", \"cross_id\", \"metric\"])\n",
    "df.name = \"value\""
   ]
  },
  {
   "cell_type": "code",
   "execution_count": 14,
   "metadata": {},
   "outputs": [
    {
     "data": {
      "text/plain": [
       "description  chrom  cross_id  metric         \n",
       "phase2       2R     18-5      tpr                0.741824\n",
       "                              fpr                0.250364\n",
       "                              fdr                0.004350\n",
       "                              tnr                0.749636\n",
       "                              youden             0.491460\n",
       "                                                   ...   \n",
       "r100         X      K6        fpr                1.000000\n",
       "                              fdr                0.019952\n",
       "                              tnr                0.000000\n",
       "                              youden             0.000000\n",
       "                              frac_accessible    1.000000\n",
       "Name: value, Length: 1350, dtype: float64"
      ]
     },
     "execution_count": 14,
     "metadata": {},
     "output_type": "execute_result"
    }
   ],
   "source": [
    "df"
   ]
  },
  {
   "cell_type": "code",
   "execution_count": 15,
   "metadata": {},
   "outputs": [],
   "source": [
    "output = pd.pivot_table(\n",
    "    pd.DataFrame(df).reset_index(level=\"metric\"), \n",
    "    index=[\"description\", \"chrom\", \"cross_id\"], \n",
    "    columns=\"metric\", \n",
    "    values=\"value\")"
   ]
  },
  {
   "cell_type": "code",
   "execution_count": 16,
   "metadata": {},
   "outputs": [
    {
     "data": {
      "text/html": [
       "<div>\n",
       "<style scoped>\n",
       "    .dataframe tbody tr th:only-of-type {\n",
       "        vertical-align: middle;\n",
       "    }\n",
       "\n",
       "    .dataframe tbody tr th {\n",
       "        vertical-align: top;\n",
       "    }\n",
       "\n",
       "    .dataframe thead th {\n",
       "        text-align: right;\n",
       "    }\n",
       "</style>\n",
       "<table border=\"1\" class=\"dataframe\">\n",
       "  <thead>\n",
       "    <tr style=\"text-align: right;\">\n",
       "      <th></th>\n",
       "      <th></th>\n",
       "      <th>metric</th>\n",
       "      <th>fdr</th>\n",
       "      <th>fpr</th>\n",
       "      <th>frac_accessible</th>\n",
       "      <th>tnr</th>\n",
       "      <th>tpr</th>\n",
       "      <th>youden</th>\n",
       "    </tr>\n",
       "    <tr>\n",
       "      <th>description</th>\n",
       "      <th>chrom</th>\n",
       "      <th>cross_id</th>\n",
       "      <th></th>\n",
       "      <th></th>\n",
       "      <th></th>\n",
       "      <th></th>\n",
       "      <th></th>\n",
       "      <th></th>\n",
       "    </tr>\n",
       "  </thead>\n",
       "  <tbody>\n",
       "    <tr>\n",
       "      <th rowspan=\"5\" valign=\"top\">phase2</th>\n",
       "      <th rowspan=\"5\" valign=\"top\">2L</th>\n",
       "      <th>18-5</th>\n",
       "      <td>0.004120</td>\n",
       "      <td>0.210021</td>\n",
       "      <td>0.580992</td>\n",
       "      <td>0.789979</td>\n",
       "      <td>0.644741</td>\n",
       "      <td>0.434720</td>\n",
       "    </tr>\n",
       "    <tr>\n",
       "      <th>29-2</th>\n",
       "      <td>0.005933</td>\n",
       "      <td>0.220304</td>\n",
       "      <td>0.580992</td>\n",
       "      <td>0.779696</td>\n",
       "      <td>0.661733</td>\n",
       "      <td>0.441429</td>\n",
       "    </tr>\n",
       "    <tr>\n",
       "      <th>36-9</th>\n",
       "      <td>0.001676</td>\n",
       "      <td>0.098058</td>\n",
       "      <td>0.580992</td>\n",
       "      <td>0.901942</td>\n",
       "      <td>0.651834</td>\n",
       "      <td>0.553776</td>\n",
       "    </tr>\n",
       "    <tr>\n",
       "      <th>37-3</th>\n",
       "      <td>0.002049</td>\n",
       "      <td>0.106601</td>\n",
       "      <td>0.580992</td>\n",
       "      <td>0.893399</td>\n",
       "      <td>0.650019</td>\n",
       "      <td>0.543419</td>\n",
       "    </tr>\n",
       "    <tr>\n",
       "      <th>42-4</th>\n",
       "      <td>0.000920</td>\n",
       "      <td>0.091588</td>\n",
       "      <td>0.580992</td>\n",
       "      <td>0.908412</td>\n",
       "      <td>0.644396</td>\n",
       "      <td>0.552808</td>\n",
       "    </tr>\n",
       "    <tr>\n",
       "      <th>...</th>\n",
       "      <th>...</th>\n",
       "      <th>...</th>\n",
       "      <td>...</td>\n",
       "      <td>...</td>\n",
       "      <td>...</td>\n",
       "      <td>...</td>\n",
       "      <td>...</td>\n",
       "      <td>...</td>\n",
       "    </tr>\n",
       "    <tr>\n",
       "      <th rowspan=\"5\" valign=\"top\">r100</th>\n",
       "      <th rowspan=\"5\" valign=\"top\">X</th>\n",
       "      <th>80-2</th>\n",
       "      <td>0.032832</td>\n",
       "      <td>1.000000</td>\n",
       "      <td>1.000000</td>\n",
       "      <td>0.000000</td>\n",
       "      <td>1.000000</td>\n",
       "      <td>0.000000</td>\n",
       "    </tr>\n",
       "    <tr>\n",
       "      <th>B5</th>\n",
       "      <td>0.033012</td>\n",
       "      <td>1.000000</td>\n",
       "      <td>1.000000</td>\n",
       "      <td>0.000000</td>\n",
       "      <td>1.000000</td>\n",
       "      <td>0.000000</td>\n",
       "    </tr>\n",
       "    <tr>\n",
       "      <th>K2</th>\n",
       "      <td>0.027967</td>\n",
       "      <td>1.000000</td>\n",
       "      <td>1.000000</td>\n",
       "      <td>0.000000</td>\n",
       "      <td>1.000000</td>\n",
       "      <td>0.000000</td>\n",
       "    </tr>\n",
       "    <tr>\n",
       "      <th>K4</th>\n",
       "      <td>0.021162</td>\n",
       "      <td>1.000000</td>\n",
       "      <td>1.000000</td>\n",
       "      <td>0.000000</td>\n",
       "      <td>1.000000</td>\n",
       "      <td>0.000000</td>\n",
       "    </tr>\n",
       "    <tr>\n",
       "      <th>K6</th>\n",
       "      <td>0.019952</td>\n",
       "      <td>1.000000</td>\n",
       "      <td>1.000000</td>\n",
       "      <td>0.000000</td>\n",
       "      <td>1.000000</td>\n",
       "      <td>0.000000</td>\n",
       "    </tr>\n",
       "  </tbody>\n",
       "</table>\n",
       "<p>225 rows × 6 columns</p>\n",
       "</div>"
      ],
      "text/plain": [
       "metric                           fdr       fpr  frac_accessible       tnr  \\\n",
       "description chrom cross_id                                                  \n",
       "phase2      2L    18-5      0.004120  0.210021         0.580992  0.789979   \n",
       "                  29-2      0.005933  0.220304         0.580992  0.779696   \n",
       "                  36-9      0.001676  0.098058         0.580992  0.901942   \n",
       "                  37-3      0.002049  0.106601         0.580992  0.893399   \n",
       "                  42-4      0.000920  0.091588         0.580992  0.908412   \n",
       "...                              ...       ...              ...       ...   \n",
       "r100        X     80-2      0.032832  1.000000         1.000000  0.000000   \n",
       "                  B5        0.033012  1.000000         1.000000  0.000000   \n",
       "                  K2        0.027967  1.000000         1.000000  0.000000   \n",
       "                  K4        0.021162  1.000000         1.000000  0.000000   \n",
       "                  K6        0.019952  1.000000         1.000000  0.000000   \n",
       "\n",
       "metric                           tpr    youden  \n",
       "description chrom cross_id                      \n",
       "phase2      2L    18-5      0.644741  0.434720  \n",
       "                  29-2      0.661733  0.441429  \n",
       "                  36-9      0.651834  0.553776  \n",
       "                  37-3      0.650019  0.543419  \n",
       "                  42-4      0.644396  0.552808  \n",
       "...                              ...       ...  \n",
       "r100        X     80-2      1.000000  0.000000  \n",
       "                  B5        1.000000  0.000000  \n",
       "                  K2        1.000000  0.000000  \n",
       "                  K4        1.000000  0.000000  \n",
       "                  K6        1.000000  0.000000  \n",
       "\n",
       "[225 rows x 6 columns]"
      ]
     },
     "execution_count": 16,
     "metadata": {},
     "output_type": "execute_result"
    }
   ],
   "source": [
    "output"
   ]
  },
  {
   "cell_type": "code",
   "execution_count": 18,
   "metadata": {},
   "outputs": [],
   "source": [
    "output.to_csv(\"../data/performance_stats_all.csv\")"
   ]
  },
  {
   "cell_type": "code",
   "execution_count": null,
   "metadata": {},
   "outputs": [],
   "source": []
  },
  {
   "cell_type": "code",
   "execution_count": 42,
   "metadata": {},
   "outputs": [
    {
     "data": {
      "text/plain": [
       "<matplotlib.legend.Legend at 0x7f29db4cfe90>"
      ]
     },
     "execution_count": 42,
     "metadata": {},
     "output_type": "execute_result"
    },
    {
     "data": {
      "image/png": "[encoded data removed]",
      "text/plain": [
       "<Figure size 432x288 with 1 Axes>"
      ]
     },
     "metadata": {
      "needs_background": "light"
     },
     "output_type": "display_data"
    }
   ],
   "source": [
    "output.groupby(['description']).mean().plot(kind='bar', grid=True, rot=0, yerr=df.groupby(['description']).std(), capsize=3).legend(loc='center left', bbox_to_anchor=(1.0, 0.5))"
   ]
  },
  {
   "cell_type": "code",
   "execution_count": null,
   "metadata": {},
   "outputs": [],
   "source": []
  }
 ],
 "metadata": {
  "kernelspec": {
   "display_name": "Python 3",
   "language": "python",
   "name": "python3"
  },
  "language_info": {
   "codemirror_mode": {
    "name": "ipython",
    "version": 3
   },
   "file_extension": ".py",
   "mimetype": "text/x-python",
   "name": "python",
   "nbconvert_exporter": "python",
   "pygments_lexer": "ipython3",
   "version": "3.7.6"
  }
 },
 "nbformat": 4,
 "nbformat_minor": 4
}
