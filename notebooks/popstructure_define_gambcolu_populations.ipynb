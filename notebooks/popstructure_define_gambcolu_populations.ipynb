{
 "cells": [
  {
   "cell_type": "markdown",
   "metadata": {},
   "source": [
    "## Overview\n",
    "\n",
    "Using `bokeh` to define populations for later structure investigation.\n",
    "\n",
    "Broadly, in theory a population is a freely breeding set of individuals. In practice, it is a set of individuals from the same location which are members of the same species. The idea of location is wooly, but broadly within 50km, and there being an absence of PCA structure within the region."
   ]
  },
  {
   "cell_type": "code",
   "execution_count": 1,
   "metadata": {},
   "outputs": [],
   "source": [
    "import gcsfs\n",
    "import numpy as np\n",
    "import allel\n",
    "import yaml\n",
    "import zarr\n",
    "import pandas as pd"
   ]
  },
  {
   "cell_type": "code",
   "execution_count": 2,
   "metadata": {},
   "outputs": [],
   "source": [
    "# let's try bokeh...\n",
    "# imports required for `bokeh`\n",
    "from bokeh.plotting import figure, show, ColumnDataSource, output_file\n",
    "import matplotlib as mpl\n",
    "import seaborn as sns\n",
    "from bokeh.layouts import gridplot"
   ]
  },
  {
   "cell_type": "code",
   "execution_count": 3,
   "metadata": {},
   "outputs": [],
   "source": [
    "from ag3 import release_data\n",
    "v3 = release_data()"
   ]
  },
  {
   "cell_type": "code",
   "execution_count": 4,
   "metadata": {},
   "outputs": [],
   "source": [
    "# Data storage, uses about 34 MB\n",
    "pca_cloud_zarr_path_template = 'vo_agam_production/ag3_data_paper/{}.pca_output.zarr'\n",
    "# Writing the PCA data to the cloud will require the appropriate authentication and authorization.\n",
    "\n",
    "# UNCOMMENT THIS TO AUTHENTICATE. YOU ONLY NEED TO RUN THIS ONCE.\n",
    "# After running this once, your authentication token should then be cached in `~/.gcs_tokens`\n",
    "# Once you have authenticated, you should comment this out again to avoid re-authenticating.\n",
    "# gcs_browser = gcsfs.GCSFileSystem(project='malariagen-jupyterhub', token='browser')\n",
    "\n",
    "# Use `cache_timeout=0` to prevent object list cache, to avoid recreating map for Zarr consolidated metadata\n",
    "auth_fs = gcsfs.GCSFileSystem(project='malariagen-jupyterhub', token='cache', cache_timeout=0)"
   ]
  },
  {
   "cell_type": "code",
   "execution_count": 5,
   "metadata": {},
   "outputs": [
    {
     "data": {
      "text/plain": [
       "'vo_agam_production/ag3_data_paper/gamb_colu.pca_output.zarr'"
      ]
     },
     "execution_count": 5,
     "metadata": {},
     "output_type": "execute_result"
    }
   ],
   "source": [
    "pca_cloud_zarr_path = pca_cloud_zarr_path_template.format('gamb_colu')\n",
    "pca_cloud_zarr_path"
   ]
  },
  {
   "cell_type": "code",
   "execution_count": 6,
   "metadata": {},
   "outputs": [],
   "source": [
    "# Sometimes errors with `overwrite=True`, sometimes errors without, when dir not exist\n",
    "# Keep the zarr_store for zarr.consolidate_metadata(zarr_store)\n",
    "zarr_store = auth_fs.get_mapper(pca_cloud_zarr_path)\n",
    "zarr_group = zarr.group(zarr_store)"
   ]
  },
  {
   "cell_type": "code",
   "execution_count": 7,
   "metadata": {},
   "outputs": [],
   "source": [
    "sample_names = zarr_group[\"sample_names\"][:]\n",
    "sample_names = [s.decode() for s in sample_names]"
   ]
  },
  {
   "cell_type": "code",
   "execution_count": 8,
   "metadata": {},
   "outputs": [],
   "source": [
    "pca_coordinates = zarr_group[\"coords\"]\n",
    "pca_components = zarr_group[\"components\"]\n",
    "pca_pve = zarr_group[\"explained_variance_ratio\"]"
   ]
  },
  {
   "cell_type": "code",
   "execution_count": 9,
   "metadata": {},
   "outputs": [],
   "source": [
    "def plot_pca_coords(coords, pve, pc1, pc2, fig, df, group_var, col_dict=\"auto\", query=None):\n",
    "\n",
    "    x = coords[:, pc1]\n",
    "    y = coords[:, pc2]\n",
    "    \n",
    "    qdf = df.reset_index().copy()\n",
    "    qdf[\"x\"] = x\n",
    "    qdf[\"y\"] = y\n",
    "    \n",
    "    # apply_query\n",
    "    if query is not None:\n",
    "        qdf = qdf.query(query)\n",
    "    \n",
    "    g = qdf.groupby(group_var)\n",
    "    \n",
    "    if col_dict == \"auto\":\n",
    "        cp = sns.color_palette(n_colors=len(g))\n",
    "        col_dict = {k:v for k, v in zip(g.groups, cp)}\n",
    "        \n",
    "    for label, frame in g:\n",
    "        \n",
    "        source = ColumnDataSource(data=frame)\n",
    "        \n",
    "        fig.circle(\n",
    "            'x', 'y', \n",
    "            source=source,\n",
    "            line_color='black',\n",
    "            line_width=0.5,\n",
    "            size=6,\n",
    "            fill_color=mpl.colors.rgb2hex(col_dict[label]))\n",
    "    \n",
    "    fig.xaxis.axis_label = 'PC {0} ({1:.2f}%)'.format(\n",
    "        pc1 + 1, 100 * pve[pc1])\n",
    "    \n",
    "    fig.yaxis.axis_label = 'PC {0} ({1:.2f}%)'.format(\n",
    "        pc2 + 1, 100 * pve[pc2])\n",
    "    \n",
    "    return fig"
   ]
  },
  {
   "cell_type": "code",
   "execution_count": 10,
   "metadata": {},
   "outputs": [
    {
     "name": "stderr",
     "output_type": "stream",
     "text": [
      "/opt/conda/lib/python3.7/site-packages/pandas/core/computation/expressions.py:68: FutureWarning: elementwise comparison failed; returning scalar instead, but in the future will perform elementwise comparison\n",
      "  return op(a, b)\n",
      "/opt/conda/lib/python3.7/site-packages/pandas/core/computation/expressions.py:68: FutureWarning: elementwise comparison failed; returning scalar instead, but in the future will perform elementwise comparison\n",
      "  return op(a, b)\n"
     ]
    }
   ],
   "source": [
    "all_meta = v3.load_sample_set_metadata(v3.all_wild_sample_sets)"
   ]
  },
  {
   "cell_type": "code",
   "execution_count": 11,
   "metadata": {},
   "outputs": [
    {
     "data": {
      "text/html": [
       "<div>\n",
       "<style scoped>\n",
       "    .dataframe tbody tr th:only-of-type {\n",
       "        vertical-align: middle;\n",
       "    }\n",
       "\n",
       "    .dataframe tbody tr th {\n",
       "        vertical-align: top;\n",
       "    }\n",
       "\n",
       "    .dataframe thead th {\n",
       "        text-align: right;\n",
       "    }\n",
       "</style>\n",
       "<table border=\"1\" class=\"dataframe\">\n",
       "  <thead>\n",
       "    <tr style=\"text-align: right;\">\n",
       "      <th></th>\n",
       "      <th>partner_sample_id</th>\n",
       "      <th>contributor</th>\n",
       "      <th>country</th>\n",
       "      <th>location</th>\n",
       "      <th>year</th>\n",
       "      <th>month</th>\n",
       "      <th>latitude</th>\n",
       "      <th>longitude</th>\n",
       "      <th>sex_call</th>\n",
       "      <th>sample_set</th>\n",
       "      <th>aim_fraction_colu</th>\n",
       "      <th>aim_fraction_arab</th>\n",
       "      <th>species_gambcolu_arabiensis</th>\n",
       "      <th>species_gambiae_coluzzii</th>\n",
       "      <th>is_arabiensis</th>\n",
       "      <th>is_gamb_colu</th>\n",
       "      <th>is_gambiae</th>\n",
       "      <th>is_coluzzii</th>\n",
       "    </tr>\n",
       "    <tr>\n",
       "      <th>sample_id</th>\n",
       "      <th></th>\n",
       "      <th></th>\n",
       "      <th></th>\n",
       "      <th></th>\n",
       "      <th></th>\n",
       "      <th></th>\n",
       "      <th></th>\n",
       "      <th></th>\n",
       "      <th></th>\n",
       "      <th></th>\n",
       "      <th></th>\n",
       "      <th></th>\n",
       "      <th></th>\n",
       "      <th></th>\n",
       "      <th></th>\n",
       "      <th></th>\n",
       "      <th></th>\n",
       "      <th></th>\n",
       "    </tr>\n",
       "  </thead>\n",
       "  <tbody>\n",
       "    <tr>\n",
       "      <th>AR0047-C</th>\n",
       "      <td>LUA047</td>\n",
       "      <td>Joao Pinto</td>\n",
       "      <td>Angola</td>\n",
       "      <td>Luanda</td>\n",
       "      <td>2009</td>\n",
       "      <td>4</td>\n",
       "      <td>-8.884</td>\n",
       "      <td>13.302</td>\n",
       "      <td>F</td>\n",
       "      <td>AG1000G-AO</td>\n",
       "      <td>0.945</td>\n",
       "      <td>0.001</td>\n",
       "      <td>gamb_colu</td>\n",
       "      <td>coluzzii</td>\n",
       "      <td>False</td>\n",
       "      <td>True</td>\n",
       "      <td>False</td>\n",
       "      <td>True</td>\n",
       "    </tr>\n",
       "    <tr>\n",
       "      <th>AR0049-C</th>\n",
       "      <td>LUA049</td>\n",
       "      <td>Joao Pinto</td>\n",
       "      <td>Angola</td>\n",
       "      <td>Luanda</td>\n",
       "      <td>2009</td>\n",
       "      <td>4</td>\n",
       "      <td>-8.884</td>\n",
       "      <td>13.302</td>\n",
       "      <td>F</td>\n",
       "      <td>AG1000G-AO</td>\n",
       "      <td>0.933</td>\n",
       "      <td>0.001</td>\n",
       "      <td>gamb_colu</td>\n",
       "      <td>coluzzii</td>\n",
       "      <td>False</td>\n",
       "      <td>True</td>\n",
       "      <td>False</td>\n",
       "      <td>True</td>\n",
       "    </tr>\n",
       "    <tr>\n",
       "      <th>AR0051-C</th>\n",
       "      <td>LUA051</td>\n",
       "      <td>Joao Pinto</td>\n",
       "      <td>Angola</td>\n",
       "      <td>Luanda</td>\n",
       "      <td>2009</td>\n",
       "      <td>4</td>\n",
       "      <td>-8.884</td>\n",
       "      <td>13.302</td>\n",
       "      <td>F</td>\n",
       "      <td>AG1000G-AO</td>\n",
       "      <td>0.937</td>\n",
       "      <td>0.002</td>\n",
       "      <td>gamb_colu</td>\n",
       "      <td>coluzzii</td>\n",
       "      <td>False</td>\n",
       "      <td>True</td>\n",
       "      <td>False</td>\n",
       "      <td>True</td>\n",
       "    </tr>\n",
       "    <tr>\n",
       "      <th>AR0061-C</th>\n",
       "      <td>LUA061</td>\n",
       "      <td>Joao Pinto</td>\n",
       "      <td>Angola</td>\n",
       "      <td>Luanda</td>\n",
       "      <td>2009</td>\n",
       "      <td>4</td>\n",
       "      <td>-8.884</td>\n",
       "      <td>13.302</td>\n",
       "      <td>F</td>\n",
       "      <td>AG1000G-AO</td>\n",
       "      <td>0.938</td>\n",
       "      <td>0.002</td>\n",
       "      <td>gamb_colu</td>\n",
       "      <td>coluzzii</td>\n",
       "      <td>False</td>\n",
       "      <td>True</td>\n",
       "      <td>False</td>\n",
       "      <td>True</td>\n",
       "    </tr>\n",
       "    <tr>\n",
       "      <th>AR0078-C</th>\n",
       "      <td>LUA078</td>\n",
       "      <td>Joao Pinto</td>\n",
       "      <td>Angola</td>\n",
       "      <td>Luanda</td>\n",
       "      <td>2009</td>\n",
       "      <td>4</td>\n",
       "      <td>-8.884</td>\n",
       "      <td>13.302</td>\n",
       "      <td>F</td>\n",
       "      <td>AG1000G-AO</td>\n",
       "      <td>0.926</td>\n",
       "      <td>0.001</td>\n",
       "      <td>gamb_colu</td>\n",
       "      <td>coluzzii</td>\n",
       "      <td>False</td>\n",
       "      <td>True</td>\n",
       "      <td>False</td>\n",
       "      <td>True</td>\n",
       "    </tr>\n",
       "  </tbody>\n",
       "</table>\n",
       "</div>"
      ],
      "text/plain": [
       "          partner_sample_id contributor country location  year  month  \\\n",
       "sample_id                                                               \n",
       "AR0047-C             LUA047  Joao Pinto  Angola   Luanda  2009      4   \n",
       "AR0049-C             LUA049  Joao Pinto  Angola   Luanda  2009      4   \n",
       "AR0051-C             LUA051  Joao Pinto  Angola   Luanda  2009      4   \n",
       "AR0061-C             LUA061  Joao Pinto  Angola   Luanda  2009      4   \n",
       "AR0078-C             LUA078  Joao Pinto  Angola   Luanda  2009      4   \n",
       "\n",
       "           latitude  longitude sex_call  sample_set  aim_fraction_colu  \\\n",
       "sample_id                                                                \n",
       "AR0047-C     -8.884     13.302        F  AG1000G-AO              0.945   \n",
       "AR0049-C     -8.884     13.302        F  AG1000G-AO              0.933   \n",
       "AR0051-C     -8.884     13.302        F  AG1000G-AO              0.937   \n",
       "AR0061-C     -8.884     13.302        F  AG1000G-AO              0.938   \n",
       "AR0078-C     -8.884     13.302        F  AG1000G-AO              0.926   \n",
       "\n",
       "           aim_fraction_arab species_gambcolu_arabiensis  \\\n",
       "sample_id                                                  \n",
       "AR0047-C               0.001                   gamb_colu   \n",
       "AR0049-C               0.001                   gamb_colu   \n",
       "AR0051-C               0.002                   gamb_colu   \n",
       "AR0061-C               0.002                   gamb_colu   \n",
       "AR0078-C               0.001                   gamb_colu   \n",
       "\n",
       "          species_gambiae_coluzzii  is_arabiensis  is_gamb_colu  is_gambiae  \\\n",
       "sample_id                                                                     \n",
       "AR0047-C                  coluzzii          False          True       False   \n",
       "AR0049-C                  coluzzii          False          True       False   \n",
       "AR0051-C                  coluzzii          False          True       False   \n",
       "AR0061-C                  coluzzii          False          True       False   \n",
       "AR0078-C                  coluzzii          False          True       False   \n",
       "\n",
       "           is_coluzzii  \n",
       "sample_id               \n",
       "AR0047-C          True  \n",
       "AR0049-C          True  \n",
       "AR0051-C          True  \n",
       "AR0061-C          True  \n",
       "AR0078-C          True  "
      ]
     },
     "execution_count": 11,
     "metadata": {},
     "output_type": "execute_result"
    }
   ],
   "source": [
    "df_species_samples = all_meta.loc[sample_names]\n",
    "df_species_samples.head()"
   ]
  },
  {
   "cell_type": "code",
   "execution_count": 12,
   "metadata": {},
   "outputs": [],
   "source": [
    "# This defines what is displayed when the mouse hovers over a point.\n",
    "# The @ values correspond to values in the table.\n",
    "TOOLTIPS = [\n",
    "    (\"ox_code\", \"@sample_id\"),\n",
    "    (\"country\", \"@country\"),\n",
    "    (\"location\", \"@location\"),\n",
    "    (\"collection year\", \"@year\"),\n",
    "    (\"species\", \"@species_gambcolu_arabiensis\"),\n",
    "    (\"species_gamcol\", \"@species_gambiae_coluzzii\"),\n",
    "    (\"(x, y)\", \"($x, $y)\"),]"
   ]
  },
  {
   "cell_type": "code",
   "execution_count": 13,
   "metadata": {},
   "outputs": [],
   "source": [
    "components = np.array(range(8)).reshape((2, 2, 2)).tolist()"
   ]
  },
  {
   "cell_type": "code",
   "execution_count": 14,
   "metadata": {},
   "outputs": [],
   "source": [
    "# qlabel = pd.Series(data=\"\", index=cs.index, name=\"qlabel\")\n",
    "# qlabel\n",
    "\n",
    "# i = 0\n",
    "# for q, z in cs.groupby(0).groups.items():\n",
    "#     qlabel.loc[z] = f\"group{i}\"\n",
    "#     i += 1"
   ]
  },
  {
   "cell_type": "code",
   "execution_count": 15,
   "metadata": {},
   "outputs": [],
   "source": [
    "def pca_figure_wrapper(filename, qstring):\n",
    "\n",
    "    output_file(filename)\n",
    "    grid = []\n",
    "\n",
    "    for row in components:\n",
    "\n",
    "        l = []\n",
    "\n",
    "        for (c1, c2) in row:\n",
    "\n",
    "            p = figure(plot_width=400, plot_height=400, tooltips=TOOLTIPS)\n",
    "            l.append(\n",
    "                plot_pca_coords(\n",
    "                    pca_coordinates, \n",
    "                    pca_pve, \n",
    "                    c1, \n",
    "                    c2, \n",
    "                    p,\n",
    "                    df_species_samples,\n",
    "                    \"location\",\n",
    "                    col_dict=\"auto\",\n",
    "                    query=qstring))\n",
    "                    #\"location_label\"))\n",
    "\n",
    "        grid.append(l)\n",
    "\n",
    "    col = gridplot(grid)\n",
    "    show(col)"
   ]
  },
  {
   "cell_type": "markdown",
   "metadata": {},
   "source": [
    "## Population definitions\n",
    "\n",
    "Begin defining populatinos: NB populations must be disjoint!"
   ]
  },
  {
   "cell_type": "code",
   "execution_count": 16,
   "metadata": {},
   "outputs": [
    {
     "name": "stdout",
     "output_type": "stream",
     "text": [
      "Requirement already satisfied: geopy in /opt/conda/lib/python3.7/site-packages (2.0.0)\n",
      "Requirement already satisfied: geographiclib<2,>=1.49 in /opt/conda/lib/python3.7/site-packages (from geopy) (1.50)\n"
     ]
    }
   ],
   "source": [
    "!pip install geopy"
   ]
  },
  {
   "cell_type": "code",
   "execution_count": 17,
   "metadata": {},
   "outputs": [],
   "source": [
    "import geopy.distance\n",
    "from itertools import combinations\n",
    "def lat_lon_distances(frame):\n",
    "    \"\"\"\n",
    "    Given a dataframe containing fields \"location\", \"latitude\", \"longitude\" report the distance in km between all possible combinations\n",
    "    \"\"\"    \n",
    "    d = frame.groupby(\"location\").first()[[\"latitude\", \"longitude\"]]\n",
    "    \n",
    "    combs = combinations(d.index.tolist(), 2)\n",
    "    \n",
    "    pwd = {}\n",
    "    \n",
    "    for a, b in combs:\n",
    "        pwd[f\"{a} -> {b}\"] = geopy.distance.distance(d.loc[a].values.tolist(), d.loc[b].values.tolist()).km\n",
    "        \n",
    "    return pd.Series(pwd)"
   ]
  },
  {
   "cell_type": "code",
   "execution_count": 18,
   "metadata": {},
   "outputs": [],
   "source": [
    "# for separation of populations\n",
    "df_species_samples[\"PC1\"] = pca_coordinates[:, 0]\n",
    "df_species_samples[\"PC2\"] = pca_coordinates[:, 1]"
   ]
  },
  {
   "cell_type": "code",
   "execution_count": 19,
   "metadata": {},
   "outputs": [],
   "source": [
    "definition_file = \"../content/population_definitions.yml\"\n",
    "population_definitions = {}"
   ]
  },
  {
   "cell_type": "markdown",
   "metadata": {},
   "source": [
    "## 1. Gulf West Africa\n",
    "\n",
    "ie. The Gambia and Guinea Bissau.\n",
    "\n",
    "8 sampling locations in an approximate square. 5 in The Gambia, 3 in GB.\n",
    "\n",
    "Broadly there is an intermediate cluster, a gambiae cluster (small), a coluzzii cluster.\n",
    "\n",
    "Intermediate sample sites: \n",
    "1. Sare Samba Sowe\n",
    "2. Njabakunda\n",
    "3. Antula GB\n",
    "4. Safim GB\n",
    "\n",
    "Very interestingly, the IM cluster gts pulled apart by PC6. The 2 GB populations are distinct from the Gambia ones. \n",
    "As the intermediate species call isn't reliable, we use the PCA coordinates to define this grouping.\n",
    "\n",
    "Coluzzii sample sites: (all Gambia)\n",
    "1. Tankular\n",
    "2. Wali Kunda\n",
    "3. Kalataba\n",
    "4. Njabakunda\n",
    "5. Sare Samba Sowe\n",
    "\n",
    "Gambiae sample sites:\n",
    "1. Leibala - the most easterly of the GB sites. The other 2 are close, but one is more urban.\n",
    "2. Wali Kunda - the most easterly of the Gambia sites. Not quite as easterly as Leibala. (only 2 samples here)\n",
    "\n",
    "Populations:\n",
    " - All Coluzzii clearly belong in one population. Doesn't split by PCA.\n",
    " - Leibala forms it's own cluster.\n",
    " - IM: Question here is whether to make 2 or 1 cluster. Given 250km and crossing 2 major rivers. We should consider as 2.\n",
    "\n",
    "Gambia Coluzzii\n",
    "Gambia Intermediate\n",
    "Guinea-Bissau Intermediate\n",
    "Guinea-Bissau Leibala Gambiae\n",
    "\n",
    "The 2 Gambiae in Wali Kunda can't be considered a population and are not included in the population level analyses."
   ]
  },
  {
   "cell_type": "code",
   "execution_count": 20,
   "metadata": {},
   "outputs": [
    {
     "data": {
      "text/plain": [
       "Kalataba -> Njabakunda            30.632172\n",
       "Kalataba -> Sare Samba Sowe       30.846880\n",
       "Kalataba -> Tankular              47.383297\n",
       "Kalataba -> Wali Kunda            75.789248\n",
       "Njabakunda -> Sare Samba Sowe      3.650968\n",
       "Njabakunda -> Tankular            20.588217\n",
       "Njabakunda -> Wali Kunda         106.413569\n",
       "Sare Samba Sowe -> Tankular       23.337082\n",
       "Sare Samba Sowe -> Wali Kunda    106.404325\n",
       "Tankular -> Wali Kunda           121.960253\n",
       "dtype: float64"
      ]
     },
     "execution_count": 20,
     "metadata": {},
     "output_type": "execute_result"
    }
   ],
   "source": [
    "lat_lon_distances(\n",
    "    df_species_samples.query(\"country == 'Gambia, The'\"))"
   ]
  },
  {
   "cell_type": "code",
   "execution_count": 21,
   "metadata": {},
   "outputs": [
    {
     "data": {
      "text/html": [
       "<div>\n",
       "<style scoped>\n",
       "    .dataframe tbody tr th:only-of-type {\n",
       "        vertical-align: middle;\n",
       "    }\n",
       "\n",
       "    .dataframe tbody tr th {\n",
       "        vertical-align: top;\n",
       "    }\n",
       "\n",
       "    .dataframe thead th {\n",
       "        text-align: right;\n",
       "    }\n",
       "</style>\n",
       "<table border=\"1\" class=\"dataframe\">\n",
       "  <thead>\n",
       "    <tr style=\"text-align: right;\">\n",
       "      <th></th>\n",
       "      <th>partner_sample_id</th>\n",
       "      <th>contributor</th>\n",
       "      <th>country</th>\n",
       "      <th>location</th>\n",
       "      <th>year</th>\n",
       "      <th>month</th>\n",
       "      <th>latitude</th>\n",
       "      <th>longitude</th>\n",
       "      <th>sex_call</th>\n",
       "      <th>sample_set</th>\n",
       "      <th>aim_fraction_colu</th>\n",
       "      <th>aim_fraction_arab</th>\n",
       "      <th>species_gambcolu_arabiensis</th>\n",
       "      <th>species_gambiae_coluzzii</th>\n",
       "      <th>is_arabiensis</th>\n",
       "      <th>is_gamb_colu</th>\n",
       "      <th>is_gambiae</th>\n",
       "      <th>is_coluzzii</th>\n",
       "      <th>PC1</th>\n",
       "      <th>PC2</th>\n",
       "    </tr>\n",
       "    <tr>\n",
       "      <th>sample_id</th>\n",
       "      <th></th>\n",
       "      <th></th>\n",
       "      <th></th>\n",
       "      <th></th>\n",
       "      <th></th>\n",
       "      <th></th>\n",
       "      <th></th>\n",
       "      <th></th>\n",
       "      <th></th>\n",
       "      <th></th>\n",
       "      <th></th>\n",
       "      <th></th>\n",
       "      <th></th>\n",
       "      <th></th>\n",
       "      <th></th>\n",
       "      <th></th>\n",
       "      <th></th>\n",
       "      <th></th>\n",
       "      <th></th>\n",
       "      <th></th>\n",
       "    </tr>\n",
       "  </thead>\n",
       "  <tbody>\n",
       "    <tr>\n",
       "      <th>AV0043-C</th>\n",
       "      <td>KD306</td>\n",
       "      <td>Ken Vernick</td>\n",
       "      <td>Guinea</td>\n",
       "      <td>Koundara</td>\n",
       "      <td>2012</td>\n",
       "      <td>10</td>\n",
       "      <td>8.48</td>\n",
       "      <td>-9.53</td>\n",
       "      <td>F</td>\n",
       "      <td>AG1000G-GN-A</td>\n",
       "      <td>0.030</td>\n",
       "      <td>0.003</td>\n",
       "      <td>gamb_colu</td>\n",
       "      <td>gambiae</td>\n",
       "      <td>False</td>\n",
       "      <td>True</td>\n",
       "      <td>True</td>\n",
       "      <td>False</td>\n",
       "      <td>7.356262</td>\n",
       "      <td>-26.575178</td>\n",
       "    </tr>\n",
       "    <tr>\n",
       "      <th>AV0025-C</th>\n",
       "      <td>KB281</td>\n",
       "      <td>Ken Vernick</td>\n",
       "      <td>Guinea</td>\n",
       "      <td>Koraboh</td>\n",
       "      <td>2012</td>\n",
       "      <td>10</td>\n",
       "      <td>9.28</td>\n",
       "      <td>-10.03</td>\n",
       "      <td>F</td>\n",
       "      <td>AG1000G-GN-A</td>\n",
       "      <td>0.022</td>\n",
       "      <td>0.002</td>\n",
       "      <td>gamb_colu</td>\n",
       "      <td>gambiae</td>\n",
       "      <td>False</td>\n",
       "      <td>True</td>\n",
       "      <td>True</td>\n",
       "      <td>False</td>\n",
       "      <td>3.768453</td>\n",
       "      <td>-26.496941</td>\n",
       "    </tr>\n",
       "  </tbody>\n",
       "</table>\n",
       "</div>"
      ],
      "text/plain": [
       "          partner_sample_id  contributor country  location  year  month  \\\n",
       "sample_id                                                                 \n",
       "AV0043-C              KD306  Ken Vernick  Guinea  Koundara  2012     10   \n",
       "AV0025-C              KB281  Ken Vernick  Guinea   Koraboh  2012     10   \n",
       "\n",
       "           latitude  longitude sex_call    sample_set  aim_fraction_colu  \\\n",
       "sample_id                                                                  \n",
       "AV0043-C       8.48      -9.53        F  AG1000G-GN-A              0.030   \n",
       "AV0025-C       9.28     -10.03        F  AG1000G-GN-A              0.022   \n",
       "\n",
       "           aim_fraction_arab species_gambcolu_arabiensis  \\\n",
       "sample_id                                                  \n",
       "AV0043-C               0.003                   gamb_colu   \n",
       "AV0025-C               0.002                   gamb_colu   \n",
       "\n",
       "          species_gambiae_coluzzii  is_arabiensis  is_gamb_colu  is_gambiae  \\\n",
       "sample_id                                                                     \n",
       "AV0043-C                   gambiae          False          True        True   \n",
       "AV0025-C                   gambiae          False          True        True   \n",
       "\n",
       "           is_coluzzii       PC1        PC2  \n",
       "sample_id                                    \n",
       "AV0043-C         False  7.356262 -26.575178  \n",
       "AV0025-C         False  3.768453 -26.496941  "
      ]
     },
     "execution_count": 21,
     "metadata": {},
     "output_type": "execute_result"
    }
   ],
   "source": [
    "df_species_samples.query(\"country == 'Guinea'\").drop_duplicates(subset=[\"location\"])"
   ]
  },
  {
   "cell_type": "code",
   "execution_count": 22,
   "metadata": {},
   "outputs": [
    {
     "data": {
      "text/plain": [
       "Antula -> Koraboh      672.683733\n",
       "Antula -> Koundara     762.869596\n",
       "Antula -> Leibala      153.944479\n",
       "Antula -> Safim         10.323438\n",
       "Koraboh -> Koundara    104.179810\n",
       "Koraboh -> Leibala     565.398469\n",
       "Koraboh -> Safim       682.386161\n",
       "Koundara -> Leibala    663.198791\n",
       "Koundara -> Safim      772.801147\n",
       "Leibala -> Safim       159.198283\n",
       "dtype: float64"
      ]
     },
     "execution_count": 22,
     "metadata": {},
     "output_type": "execute_result"
    }
   ],
   "source": [
    "lat_lon_distances(\n",
    "    df_species_samples.query(\"country in ('Guinea', 'Guinea-Bissau')\").drop_duplicates(subset=[\"location\"]))"
   ]
  },
  {
   "cell_type": "code",
   "execution_count": 23,
   "metadata": {},
   "outputs": [
    {
     "data": {
      "text/plain": [
       "Antula -> Leibala    153.944479\n",
       "Antula -> Safim       10.323438\n",
       "Leibala -> Safim     159.198283\n",
       "dtype: float64"
      ]
     },
     "execution_count": 23,
     "metadata": {},
     "output_type": "execute_result"
    }
   ],
   "source": [
    "lat_lon_distances(\n",
    "    df_species_samples.query(\"country == 'Guinea-Bissau'\"))"
   ]
  },
  {
   "cell_type": "code",
   "execution_count": 24,
   "metadata": {},
   "outputs": [],
   "source": [
    "gulf_wa_q = 'country in (\"Gambia, The\", \"Guinea-Bissau\")'"
   ]
  },
  {
   "cell_type": "code",
   "execution_count": 25,
   "metadata": {},
   "outputs": [
    {
     "data": {
      "text/plain": [
       "Antula -> Kalataba               183.571546\n",
       "Antula -> Leibala                153.944479\n",
       "Antula -> Njabakunda             186.753122\n",
       "Antula -> Safim                   10.323438\n",
       "Antula -> Sare Samba Sowe        190.341904\n",
       "Antula -> Tankular               175.782946\n",
       "Antula -> Wali Kunda             198.980532\n",
       "Kalataba -> Leibala              207.141136\n",
       "Kalataba -> Njabakunda            30.632172\n",
       "Kalataba -> Safim                176.265411\n",
       "Kalataba -> Sare Samba Sowe       30.846880\n",
       "Kalataba -> Tankular              47.383297\n",
       "Kalataba -> Wali Kunda            75.789248\n",
       "Leibala -> Njabakunda            230.540965\n",
       "Leibala -> Safim                 159.198283\n",
       "Leibala -> Sare Samba Sowe       232.788344\n",
       "Leibala -> Tankular              233.859793\n",
       "Leibala -> Wali Kunda            161.904637\n",
       "Njabakunda -> Safim              178.326307\n",
       "Njabakunda -> Sare Samba Sowe      3.650968\n",
       "Njabakunda -> Tankular            20.588217\n",
       "Njabakunda -> Wali Kunda         106.413569\n",
       "Safim -> Sare Samba Sowe         181.934965\n",
       "Safim -> Tankular                166.815027\n",
       "Safim -> Wali Kunda              195.042010\n",
       "Sare Samba Sowe -> Tankular       23.337082\n",
       "Sare Samba Sowe -> Wali Kunda    106.404325\n",
       "Tankular -> Wali Kunda           121.960253\n",
       "dtype: float64"
      ]
     },
     "execution_count": 25,
     "metadata": {},
     "output_type": "execute_result"
    }
   ],
   "source": [
    "lat_lon_distances(\n",
    "    df_species_samples.query(gulf_wa_q))"
   ]
  },
  {
   "cell_type": "markdown",
   "metadata": {},
   "source": [
    "In terms of distance alone, there is an argument to include intermediate samples from 2 countries in same population, but given the fact we see PC6 separation, elect to keep separate."
   ]
  },
  {
   "cell_type": "code",
   "execution_count": 26,
   "metadata": {},
   "outputs": [],
   "source": [
    "pca_figure_wrapper(\"gulf_west_africa.html\", gulf_wa_q)"
   ]
  },
  {
   "cell_type": "code",
   "execution_count": 27,
   "metadata": {},
   "outputs": [],
   "source": [
    "population_definitions[\"GM_col\"] = df_species_samples.query(\n",
    "    \"country == 'Gambia, The'\").query(\n",
    "        \"species_gambiae_coluzzii == 'coluzzii'\").index.values.tolist()"
   ]
  },
  {
   "cell_type": "code",
   "execution_count": 28,
   "metadata": {},
   "outputs": [],
   "source": [
    "population_definitions[\"GM_im\"] = df_species_samples.query(\n",
    "    \"country == 'Gambia, The'\").query(\n",
    "        \"species_gambiae_coluzzii != 'coluzzii'\").query(\n",
    "            \"PC1 < 0\").index.values.tolist()"
   ]
  },
  {
   "cell_type": "code",
   "execution_count": 29,
   "metadata": {},
   "outputs": [],
   "source": [
    "population_definitions[\"GW_im\"] = df_species_samples.query(\n",
    "    \"country == 'Guinea-Bissau'\").query(\n",
    "        \"PC1 < 0\").index.values.tolist()"
   ]
  },
  {
   "cell_type": "code",
   "execution_count": 30,
   "metadata": {},
   "outputs": [],
   "source": [
    "population_definitions[\"GW_gam\"] = df_species_samples.query(\n",
    "    \"country == 'Guinea-Bissau'\").query(\n",
    "        \"PC1 > 0\").index.values.tolist()"
   ]
  },
  {
   "cell_type": "markdown",
   "metadata": {},
   "source": [
    "## 2. East Africa\n",
    "\n",
    "No coluzzii present in East Africa.\n",
    "\n",
    "--\n",
    "\n",
    "Mozambique gambiae, some similarity to KE from 2000. Mozambique gambiae all one cluster, they appear on some kind of continuum with KE. \n",
    "However, owing to large geographic distance makes a single population.\n",
    "\n",
    "Mayotte gambiae, island population in a clear cluster, clear population."
   ]
  },
  {
   "cell_type": "markdown",
   "metadata": {},
   "source": []
  },
  {
   "cell_type": "code",
   "execution_count": 31,
   "metadata": {},
   "outputs": [],
   "source": [
    "east_gambiae_q = 'country in (\"Mozambique\", \"Kenya\")'\n",
    "\n",
    "pca_figure_wrapper(\"east_africa_gambiae.html\", east_gambiae_q)"
   ]
  },
  {
   "cell_type": "code",
   "execution_count": 32,
   "metadata": {},
   "outputs": [
    {
     "data": {
      "text/plain": [
       "Furvela -> Kilifi    2289.92165\n",
       "dtype: float64"
      ]
     },
     "execution_count": 32,
     "metadata": {},
     "output_type": "execute_result"
    }
   ],
   "source": [
    "lat_lon_distances(df_species_samples.query(east_gambiae_q))"
   ]
  },
  {
   "cell_type": "code",
   "execution_count": 33,
   "metadata": {},
   "outputs": [],
   "source": [
    "population_definitions[\"MZ_gam\"] = df_species_samples.query(\n",
    "    \"country == 'Mozambique'\").query(\n",
    "        \"species_gambiae_coluzzii == 'gambiae'\").index.values.tolist()"
   ]
  },
  {
   "cell_type": "code",
   "execution_count": 34,
   "metadata": {},
   "outputs": [
    {
     "data": {
      "text/plain": [
       "gambiae    23\n",
       "Name: species_gambiae_coluzzii, dtype: int64"
      ]
     },
     "execution_count": 34,
     "metadata": {},
     "output_type": "execute_result"
    }
   ],
   "source": [
    "population_definitions[\"MY_gam\"] = df_species_samples.query(\n",
    "    \"country == 'Mayotte'\").index.values.tolist()\n",
    "\n",
    "df_species_samples.loc[population_definitions[\"MY_gam\"]].species_gambiae_coluzzii.value_counts()"
   ]
  },
  {
   "cell_type": "markdown",
   "metadata": {},
   "source": [
    "Tanzania is interesting: there are 2 clear gambiae populations, separated by a large distance: Muheza, and Muleba.\n",
    "\n",
    "There is also an intermediate population: made up of individuals from Muheza, with one Muleba individual (possible mix-up)?\n",
    "\n",
    "This intermediate population is very close to KE. And is only 190km away. However, PC4 suggests they are distinct.\n",
    "\n",
    "The Kenyan Kilifi intermediate population was sampled from the same location as the gambiae population, but 12 years apart. \n",
    "\n",
    "We use the year to define the KE populations, but PCs to define the TZ. In both cases the intermediate species group is inconsistent with the PCA."
   ]
  },
  {
   "cell_type": "code",
   "execution_count": 35,
   "metadata": {},
   "outputs": [],
   "source": [
    "coastal_africa_q = 'country in (\"Tanzania\", \"Kenya\")'"
   ]
  },
  {
   "cell_type": "code",
   "execution_count": 36,
   "metadata": {},
   "outputs": [],
   "source": [
    "pca_figure_wrapper(\"coastal_east_africa.html\", coastal_africa_q)"
   ]
  },
  {
   "cell_type": "code",
   "execution_count": 37,
   "metadata": {},
   "outputs": [
    {
     "data": {
      "text/plain": [
       "Kilifi -> Muheza    190.662252\n",
       "Kilifi -> Muleba    934.044431\n",
       "Muheza -> Muleba    875.066948\n",
       "dtype: float64"
      ]
     },
     "execution_count": 37,
     "metadata": {},
     "output_type": "execute_result"
    }
   ],
   "source": [
    "lat_lon_distances(df_species_samples.query(coastal_africa_q))"
   ]
  },
  {
   "cell_type": "code",
   "execution_count": 38,
   "metadata": {},
   "outputs": [
    {
     "data": {
      "text/plain": [
       "gambiae    19\n",
       "Name: species_gambiae_coluzzii, dtype: int64"
      ]
     },
     "execution_count": 38,
     "metadata": {},
     "output_type": "execute_result"
    }
   ],
   "source": [
    "df_species_samples.query(\n",
    "    \"country == 'Kenya'\").query(\n",
    "        \"year == 2000\").species_gambiae_coluzzii.value_counts()"
   ]
  },
  {
   "cell_type": "code",
   "execution_count": 39,
   "metadata": {},
   "outputs": [],
   "source": [
    "population_definitions[\"KE_gam\"] = df_species_samples.query(\n",
    "    \"country == 'Kenya'\").query(\n",
    "        \"year == 2000\").index.values.tolist()"
   ]
  },
  {
   "cell_type": "code",
   "execution_count": 40,
   "metadata": {},
   "outputs": [],
   "source": [
    "population_definitions[\"KE_im\"] = df_species_samples.query(\n",
    "    \"country == 'Kenya'\").query(\n",
    "        \"year == 2012\").index.values.tolist()"
   ]
  },
  {
   "cell_type": "code",
   "execution_count": 41,
   "metadata": {},
   "outputs": [],
   "source": [
    "population_definitions[\"TZ_gam_1\"] = df_species_samples.query(\n",
    "    \"country == 'Tanzania'\").query(\n",
    "    \"location == 'Muleba'\").query(\n",
    "    \"PC2 < 10\").index.values.tolist()"
   ]
  },
  {
   "cell_type": "code",
   "execution_count": 42,
   "metadata": {},
   "outputs": [],
   "source": [
    "population_definitions[\"TZ_gam_2\"] = df_species_samples.query(\n",
    "    \"country == 'Tanzania'\").query(\n",
    "    \"location == 'Muheza'\").query(\n",
    "    \"PC1 > 65\").index.values.tolist()"
   ]
  },
  {
   "cell_type": "code",
   "execution_count": 43,
   "metadata": {},
   "outputs": [],
   "source": [
    "population_definitions[\"TZ_im\"] = df_species_samples.query(\n",
    "    \"country == 'Tanzania'\").query(\n",
    "    \"PC1 < 55\").query(\n",
    "    \"PC2 > 40\").index.values.tolist()"
   ]
  },
  {
   "cell_type": "markdown",
   "metadata": {},
   "source": [
    "## 3. Central-ish Africa\n",
    "\n",
    "Clear separation of gambiae/coluzzii with no intermediates.\n",
    "\n",
    "Angola and CAR form 2 distinct coluzzii populations."
   ]
  },
  {
   "cell_type": "code",
   "execution_count": 44,
   "metadata": {},
   "outputs": [],
   "source": [
    "central_q = 'country in (\"Angola\", \"Uganda\", \"Gabon\", \"Democratic Republic of Congo\", \"Central African Republic\")'\n",
    "\n",
    "pca_figure_wrapper(\"central_africa.html\", central_q)"
   ]
  },
  {
   "cell_type": "code",
   "execution_count": 45,
   "metadata": {},
   "outputs": [
    {
     "data": {
      "text/plain": [
       "coluzzii    81\n",
       "Name: species_gambiae_coluzzii, dtype: int64"
      ]
     },
     "execution_count": 45,
     "metadata": {},
     "output_type": "execute_result"
    }
   ],
   "source": [
    "population_definitions[\"AO_col\"] = df_species_samples.query(\n",
    "    \"country == 'Angola'\").query(\n",
    "        \"species_gambiae_coluzzii == 'coluzzii'\").index.values.tolist()\n",
    "\n",
    "df_species_samples.loc[population_definitions[\"AO_col\"]].species_gambiae_coluzzii.value_counts()"
   ]
  },
  {
   "cell_type": "code",
   "execution_count": 46,
   "metadata": {},
   "outputs": [
    {
     "data": {
      "text/plain": [
       "coluzzii    18\n",
       "Name: species_gambiae_coluzzii, dtype: int64"
      ]
     },
     "execution_count": 46,
     "metadata": {},
     "output_type": "execute_result"
    }
   ],
   "source": [
    "population_definitions[\"CA_col\"] = df_species_samples.query(\n",
    "    \"country == 'Central African Republic'\").query(\n",
    "        \"species_gambiae_coluzzii == 'coluzzii'\").index.values.tolist()\n",
    "\n",
    "df_species_samples.loc[population_definitions[\"CA_col\"]].species_gambiae_coluzzii.value_counts()"
   ]
  },
  {
   "cell_type": "markdown",
   "metadata": {},
   "source": [
    "CAR gambiae also form a single group with DRC gambiae. \n",
    "\n",
    "They are not separated by any PCA, but only 270km distance... but given time better to separate."
   ]
  },
  {
   "cell_type": "code",
   "execution_count": 47,
   "metadata": {},
   "outputs": [
    {
     "data": {
      "text/plain": [
       "Bangui -> Gbadolite    270.344685\n",
       "dtype: float64"
      ]
     },
     "execution_count": 47,
     "metadata": {},
     "output_type": "execute_result"
    }
   ],
   "source": [
    "lat_lon_distances(\n",
    "    df_species_samples.query('country in (\"Democratic Republic of Congo\", \"Central African Republic\")'))"
   ]
  },
  {
   "cell_type": "code",
   "execution_count": 48,
   "metadata": {},
   "outputs": [
    {
     "data": {
      "text/plain": [
       "location\n",
       "Bangui       1993\n",
       "Gbadolite    2015\n",
       "Name: year, dtype: int64"
      ]
     },
     "execution_count": 48,
     "metadata": {},
     "output_type": "execute_result"
    }
   ],
   "source": [
    "df_species_samples.query('country in (\"Democratic Republic of Congo\", \"Central African Republic\")').groupby(\"location\").year.first()"
   ]
  },
  {
   "cell_type": "code",
   "execution_count": 49,
   "metadata": {},
   "outputs": [
    {
     "data": {
      "text/plain": [
       "gambiae    55\n",
       "Name: species_gambiae_coluzzii, dtype: int64"
      ]
     },
     "execution_count": 49,
     "metadata": {},
     "output_type": "execute_result"
    }
   ],
   "source": [
    "population_definitions[\"CA_gam\"] = df_species_samples.query(\n",
    "    \"country == 'Central African Republic'\").query(\n",
    "        \"species_gambiae_coluzzii == 'gambiae'\").index.values.tolist()\n",
    "\n",
    "df_species_samples.loc[population_definitions[\"CA_gam\"]].species_gambiae_coluzzii.value_counts()"
   ]
  },
  {
   "cell_type": "code",
   "execution_count": 50,
   "metadata": {},
   "outputs": [
    {
     "data": {
      "text/plain": [
       "gambiae    76\n",
       "Name: species_gambiae_coluzzii, dtype: int64"
      ]
     },
     "execution_count": 50,
     "metadata": {},
     "output_type": "execute_result"
    }
   ],
   "source": [
    "population_definitions[\"DC_gam\"] = df_species_samples.query(\n",
    "    \"country == 'Democratic Republic of Congo'\").query(\n",
    "        \"species_gambiae_coluzzii == 'gambiae'\").index.values.tolist()\n",
    "\n",
    "df_species_samples.loc[population_definitions[\"DC_gam\"]].species_gambiae_coluzzii.value_counts()"
   ]
  },
  {
   "cell_type": "code",
   "execution_count": 51,
   "metadata": {},
   "outputs": [
    {
     "data": {
      "text/plain": [
       "Kihihi -> Libreville       2257.217793\n",
       "Kihihi -> Nagongera         509.973365\n",
       "Libreville -> Nagongera    2735.419128\n",
       "dtype: float64"
      ]
     },
     "execution_count": 51,
     "metadata": {},
     "output_type": "execute_result"
    }
   ],
   "source": [
    "lat_lon_distances(\n",
    "    df_species_samples.query(\"country in ('Uganda', 'Gabon')\"))"
   ]
  },
  {
   "cell_type": "markdown",
   "metadata": {},
   "source": [
    "The two Uganda locations are 500km apart, so reasonable to split.\n",
    "Gabon splits out from Uganda and other Gambiae populations, so falls on its own."
   ]
  },
  {
   "cell_type": "code",
   "execution_count": 52,
   "metadata": {},
   "outputs": [
    {
     "data": {
      "text/plain": [
       "gambiae    112\n",
       "Name: species_gambiae_coluzzii, dtype: int64"
      ]
     },
     "execution_count": 52,
     "metadata": {},
     "output_type": "execute_result"
    }
   ],
   "source": [
    "population_definitions[\"UG_gam_1\"] = df_species_samples.query(\n",
    "    \"location == 'Nagongera'\").index.values.tolist()\n",
    "\n",
    "df_species_samples.loc[population_definitions[\"UG_gam_1\"]].species_gambiae_coluzzii.value_counts()"
   ]
  },
  {
   "cell_type": "code",
   "execution_count": 53,
   "metadata": {},
   "outputs": [
    {
     "data": {
      "text/plain": [
       "gambiae    95\n",
       "Name: species_gambiae_coluzzii, dtype: int64"
      ]
     },
     "execution_count": 53,
     "metadata": {},
     "output_type": "execute_result"
    }
   ],
   "source": [
    "population_definitions[\"UG_gam_2\"] = df_species_samples.query(\n",
    "    \"location == 'Kihihi'\").index.values.tolist()\n",
    "\n",
    "df_species_samples.loc[population_definitions[\"UG_gam_2\"]].species_gambiae_coluzzii.value_counts()"
   ]
  },
  {
   "cell_type": "code",
   "execution_count": 54,
   "metadata": {},
   "outputs": [
    {
     "data": {
      "text/plain": [
       "gambiae    69\n",
       "Name: species_gambiae_coluzzii, dtype: int64"
      ]
     },
     "execution_count": 54,
     "metadata": {},
     "output_type": "execute_result"
    }
   ],
   "source": [
    "population_definitions[\"GA_gam\"] = df_species_samples.query(\n",
    "    \"location == 'Libreville'\").index.values.tolist()\n",
    "\n",
    "df_species_samples.loc[population_definitions[\"GA_gam\"]].species_gambiae_coluzzii.value_counts()"
   ]
  },
  {
   "cell_type": "markdown",
   "metadata": {},
   "source": [
    "## 4, Cameroon and Bioko\n",
    "\n",
    "This is more complex, as CMS has many more sampling locations than other sites.\n",
    "\n",
    "There are some coluzzii here, so let's look at those first agains the backdrop of some CI."
   ]
  },
  {
   "cell_type": "code",
   "execution_count": 55,
   "metadata": {},
   "outputs": [],
   "source": [
    "cms_colu_q = \"(country in ('Cameroon', 'Equatorial Guinea')) & (species_gambiae_coluzzii == 'coluzzii')\""
   ]
  },
  {
   "cell_type": "code",
   "execution_count": 56,
   "metadata": {},
   "outputs": [],
   "source": [
    "cms_colu_df = df_species_samples.query(cms_colu_q)"
   ]
  },
  {
   "cell_type": "code",
   "execution_count": 57,
   "metadata": {},
   "outputs": [
    {
     "data": {
      "text/plain": [
       "Yaounde           7\n",
       "Nkolondom         5\n",
       "Douala            2\n",
       "Campo             2\n",
       "Tibati            2\n",
       "Lagdo             1\n",
       "Gakle             1\n",
       "Badankali         1\n",
       "Gamba             1\n",
       "Palama            1\n",
       "Gouna             1\n",
       "Wouro Andre       1\n",
       "Carrefour Poli    1\n",
       "Name: location, dtype: int64"
      ]
     },
     "execution_count": 57,
     "metadata": {},
     "output_type": "execute_result"
    }
   ],
   "source": [
    "cms_colu_df.location.value_counts()"
   ]
  },
  {
   "cell_type": "code",
   "execution_count": 58,
   "metadata": {},
   "outputs": [],
   "source": [
    "pca_figure_wrapper(\"cameroon_coluzzii.html\", cms_colu_q)"
   ]
  },
  {
   "cell_type": "code",
   "execution_count": 59,
   "metadata": {},
   "outputs": [
    {
     "data": {
      "text/plain": [
       "Campo -> Douala         186.960093\n",
       "Campo -> Nkolondom      259.148722\n",
       "Campo -> Yaounde        251.466303\n",
       "Douala -> Nkolondom     199.542848\n",
       "Douala -> Yaounde       199.174450\n",
       "Nkolondom -> Yaounde     10.233754\n",
       "dtype: float64"
      ]
     },
     "execution_count": 59,
     "metadata": {},
     "output_type": "execute_result"
    }
   ],
   "source": [
    "cms_south = df_species_samples.query(\"location in ('Yaounde', 'Campo', 'Nkolondom', 'Douala')\")\n",
    "lat_lon_distances(cms_south)"
   ]
  },
  {
   "cell_type": "markdown",
   "metadata": {},
   "source": [
    "These \"south\" samples form a reasonable cluster, I think it's ok to include all 4 in a cameroon south population. \n",
    "\n",
    "If we are being cautious, we could restrict to Yaounde and Campo, which are just 10km apart. Only lose 4 samples / 21."
   ]
  },
  {
   "cell_type": "code",
   "execution_count": 60,
   "metadata": {},
   "outputs": [
    {
     "data": {
      "text/plain": [
       "Nkolondom    10\n",
       "Yaounde       7\n",
       "Douala        2\n",
       "Campo         2\n",
       "Name: location, dtype: int64"
      ]
     },
     "execution_count": 60,
     "metadata": {},
     "output_type": "execute_result"
    }
   ],
   "source": [
    "cms_south.location.value_counts()"
   ]
  },
  {
   "cell_type": "code",
   "execution_count": 61,
   "metadata": {},
   "outputs": [
    {
     "data": {
      "text/plain": [
       "['AN0348-C',\n",
       " 'AN0402-C',\n",
       " 'AN0344-C',\n",
       " 'AN0601-CW',\n",
       " 'AN0616-CW',\n",
       " 'AN0619-CW',\n",
       " 'AN0603-CW',\n",
       " 'AN0604-CW',\n",
       " 'AN0607-CW',\n",
       " 'AN0621-CW',\n",
       " 'AN0622-CW',\n",
       " 'AN0623-CW']"
      ]
     },
     "execution_count": 61,
     "metadata": {},
     "output_type": "execute_result"
    }
   ],
   "source": [
    "population_definitions[\"CM_col\"] = df_species_samples.query(\n",
    "    \"location in ('Yaounde', 'Nkolondom')\").query(\n",
    "    \"species_gambiae_coluzzii == 'coluzzii'\").index.tolist()\n",
    "population_definitions[\"CM_col\"]"
   ]
  },
  {
   "cell_type": "code",
   "execution_count": 62,
   "metadata": {},
   "outputs": [],
   "source": [
    "cms_gam_q = \"(country in ('Cameroon', 'Equatorial Guinea')) & (species_gambiae_coluzzii == 'gambiae')\""
   ]
  },
  {
   "cell_type": "code",
   "execution_count": 63,
   "metadata": {},
   "outputs": [],
   "source": [
    "pca_figure_wrapper(\"cameroon_gambiae.html\", cms_gam_q)"
   ]
  },
  {
   "cell_type": "markdown",
   "metadata": {},
   "source": [
    "There is very little structure in _gambiae_, but Bioko should be considered separately if only due to it's status as an island."
   ]
  },
  {
   "cell_type": "code",
   "execution_count": 64,
   "metadata": {},
   "outputs": [],
   "source": [
    "cms_gam_df = df_species_samples.query(cms_gam_q)"
   ]
  },
  {
   "cell_type": "code",
   "execution_count": 65,
   "metadata": {},
   "outputs": [
    {
     "data": {
      "text/plain": [
       "Mayos                 110\n",
       "Daiguene               96\n",
       "Gado Badzere           73\n",
       "Zembe Borongo          24\n",
       "Manda                  11\n",
       "                     ... \n",
       "Palama                  1\n",
       "Makabay (Djarengo)      1\n",
       "Séboré                  1\n",
       "Carrefour Nari          1\n",
       "Banda                   1\n",
       "Name: location, Length: 66, dtype: int64"
      ]
     },
     "execution_count": 65,
     "metadata": {},
     "output_type": "execute_result"
    }
   ],
   "source": [
    "cms_gam_df.location.value_counts()"
   ]
  },
  {
   "cell_type": "markdown",
   "metadata": {},
   "source": [
    "66 unique locations. Considering sampling sites with >= 10 samples only gives:"
   ]
  },
  {
   "cell_type": "code",
   "execution_count": 66,
   "metadata": {},
   "outputs": [
    {
     "data": {
      "text/plain": [
       "location\n",
       "Bioko             10\n",
       "Daiguene          96\n",
       "Gado Badzere      73\n",
       "Manda             11\n",
       "Mayos            110\n",
       "Zembe Borongo     24\n",
       "dtype: int64"
      ]
     },
     "execution_count": 66,
     "metadata": {},
     "output_type": "execute_result"
    }
   ],
   "source": [
    "n_samples_by_site = cms_gam_df.groupby(\"location\").size()\n",
    "n_samples_by_site.loc[n_samples_by_site >= 10]"
   ]
  },
  {
   "cell_type": "code",
   "execution_count": 67,
   "metadata": {},
   "outputs": [],
   "source": [
    "include_locs = n_samples_by_site.loc[n_samples_by_site >= 10].index.tolist()\n",
    "include_locs.remove(\"Bioko\")"
   ]
  },
  {
   "cell_type": "code",
   "execution_count": 68,
   "metadata": {},
   "outputs": [
    {
     "data": {
      "text/html": [
       "<div>\n",
       "<style scoped>\n",
       "    .dataframe tbody tr th:only-of-type {\n",
       "        vertical-align: middle;\n",
       "    }\n",
       "\n",
       "    .dataframe tbody tr th {\n",
       "        vertical-align: top;\n",
       "    }\n",
       "\n",
       "    .dataframe thead th {\n",
       "        text-align: right;\n",
       "    }\n",
       "</style>\n",
       "<table border=\"1\" class=\"dataframe\">\n",
       "  <thead>\n",
       "    <tr style=\"text-align: right;\">\n",
       "      <th></th>\n",
       "      <th>partner_sample_id</th>\n",
       "      <th>contributor</th>\n",
       "      <th>country</th>\n",
       "      <th>year</th>\n",
       "      <th>month</th>\n",
       "      <th>latitude</th>\n",
       "      <th>longitude</th>\n",
       "      <th>sex_call</th>\n",
       "      <th>sample_set</th>\n",
       "      <th>aim_fraction_colu</th>\n",
       "      <th>aim_fraction_arab</th>\n",
       "      <th>species_gambcolu_arabiensis</th>\n",
       "      <th>species_gambiae_coluzzii</th>\n",
       "      <th>is_arabiensis</th>\n",
       "      <th>is_gamb_colu</th>\n",
       "      <th>is_gambiae</th>\n",
       "      <th>is_coluzzii</th>\n",
       "      <th>PC1</th>\n",
       "      <th>PC2</th>\n",
       "    </tr>\n",
       "    <tr>\n",
       "      <th>location</th>\n",
       "      <th></th>\n",
       "      <th></th>\n",
       "      <th></th>\n",
       "      <th></th>\n",
       "      <th></th>\n",
       "      <th></th>\n",
       "      <th></th>\n",
       "      <th></th>\n",
       "      <th></th>\n",
       "      <th></th>\n",
       "      <th></th>\n",
       "      <th></th>\n",
       "      <th></th>\n",
       "      <th></th>\n",
       "      <th></th>\n",
       "      <th></th>\n",
       "      <th></th>\n",
       "      <th></th>\n",
       "      <th></th>\n",
       "    </tr>\n",
       "  </thead>\n",
       "  <tbody>\n",
       "    <tr>\n",
       "      <th>Daiguene</th>\n",
       "      <td>CM0901912</td>\n",
       "      <td>Nora Besansky</td>\n",
       "      <td>Cameroon</td>\n",
       "      <td>2009</td>\n",
       "      <td>9</td>\n",
       "      <td>4.777</td>\n",
       "      <td>13.844</td>\n",
       "      <td>M</td>\n",
       "      <td>AG1000G-CM-A</td>\n",
       "      <td>0.039</td>\n",
       "      <td>0.002</td>\n",
       "      <td>gamb_colu</td>\n",
       "      <td>gambiae</td>\n",
       "      <td>False</td>\n",
       "      <td>True</td>\n",
       "      <td>True</td>\n",
       "      <td>False</td>\n",
       "      <td>7.974750</td>\n",
       "      <td>-19.970627</td>\n",
       "    </tr>\n",
       "    <tr>\n",
       "      <th>Gado Badzere</th>\n",
       "      <td>CM0902285</td>\n",
       "      <td>Nora Besansky</td>\n",
       "      <td>Cameroon</td>\n",
       "      <td>2009</td>\n",
       "      <td>9</td>\n",
       "      <td>5.747</td>\n",
       "      <td>14.442</td>\n",
       "      <td>M</td>\n",
       "      <td>AG1000G-CM-A</td>\n",
       "      <td>0.022</td>\n",
       "      <td>0.002</td>\n",
       "      <td>gamb_colu</td>\n",
       "      <td>gambiae</td>\n",
       "      <td>False</td>\n",
       "      <td>True</td>\n",
       "      <td>True</td>\n",
       "      <td>False</td>\n",
       "      <td>8.355163</td>\n",
       "      <td>-24.784523</td>\n",
       "    </tr>\n",
       "    <tr>\n",
       "      <th>Manda</th>\n",
       "      <td>1253</td>\n",
       "      <td>Brad White</td>\n",
       "      <td>Cameroon</td>\n",
       "      <td>2013</td>\n",
       "      <td>10</td>\n",
       "      <td>5.726</td>\n",
       "      <td>10.868</td>\n",
       "      <td>F</td>\n",
       "      <td>AG1000G-CM-C</td>\n",
       "      <td>0.026</td>\n",
       "      <td>0.002</td>\n",
       "      <td>gamb_colu</td>\n",
       "      <td>gambiae</td>\n",
       "      <td>False</td>\n",
       "      <td>True</td>\n",
       "      <td>True</td>\n",
       "      <td>False</td>\n",
       "      <td>7.557045</td>\n",
       "      <td>-27.504055</td>\n",
       "    </tr>\n",
       "    <tr>\n",
       "      <th>Mayos</th>\n",
       "      <td>CM0901778</td>\n",
       "      <td>Nora Besansky</td>\n",
       "      <td>Cameroon</td>\n",
       "      <td>2009</td>\n",
       "      <td>9</td>\n",
       "      <td>4.341</td>\n",
       "      <td>13.558</td>\n",
       "      <td>F</td>\n",
       "      <td>AG1000G-CM-A</td>\n",
       "      <td>0.027</td>\n",
       "      <td>0.002</td>\n",
       "      <td>gamb_colu</td>\n",
       "      <td>gambiae</td>\n",
       "      <td>False</td>\n",
       "      <td>True</td>\n",
       "      <td>True</td>\n",
       "      <td>False</td>\n",
       "      <td>8.435379</td>\n",
       "      <td>-22.509165</td>\n",
       "    </tr>\n",
       "    <tr>\n",
       "      <th>Zembe Borongo</th>\n",
       "      <td>CM0901968</td>\n",
       "      <td>Nora Besansky</td>\n",
       "      <td>Cameroon</td>\n",
       "      <td>2009</td>\n",
       "      <td>9</td>\n",
       "      <td>5.747</td>\n",
       "      <td>14.442</td>\n",
       "      <td>F</td>\n",
       "      <td>AG1000G-CM-A</td>\n",
       "      <td>0.022</td>\n",
       "      <td>0.002</td>\n",
       "      <td>gamb_colu</td>\n",
       "      <td>gambiae</td>\n",
       "      <td>False</td>\n",
       "      <td>True</td>\n",
       "      <td>True</td>\n",
       "      <td>False</td>\n",
       "      <td>10.258307</td>\n",
       "      <td>-21.264961</td>\n",
       "    </tr>\n",
       "  </tbody>\n",
       "</table>\n",
       "</div>"
      ],
      "text/plain": [
       "              partner_sample_id    contributor   country  year  month  \\\n",
       "location                                                                \n",
       "Daiguene              CM0901912  Nora Besansky  Cameroon  2009      9   \n",
       "Gado Badzere          CM0902285  Nora Besansky  Cameroon  2009      9   \n",
       "Manda                      1253     Brad White  Cameroon  2013     10   \n",
       "Mayos                 CM0901778  Nora Besansky  Cameroon  2009      9   \n",
       "Zembe Borongo         CM0901968  Nora Besansky  Cameroon  2009      9   \n",
       "\n",
       "               latitude  longitude sex_call    sample_set  aim_fraction_colu  \\\n",
       "location                                                                       \n",
       "Daiguene          4.777     13.844        M  AG1000G-CM-A              0.039   \n",
       "Gado Badzere      5.747     14.442        M  AG1000G-CM-A              0.022   \n",
       "Manda             5.726     10.868        F  AG1000G-CM-C              0.026   \n",
       "Mayos             4.341     13.558        F  AG1000G-CM-A              0.027   \n",
       "Zembe Borongo     5.747     14.442        F  AG1000G-CM-A              0.022   \n",
       "\n",
       "               aim_fraction_arab species_gambcolu_arabiensis  \\\n",
       "location                                                       \n",
       "Daiguene                   0.002                   gamb_colu   \n",
       "Gado Badzere               0.002                   gamb_colu   \n",
       "Manda                      0.002                   gamb_colu   \n",
       "Mayos                      0.002                   gamb_colu   \n",
       "Zembe Borongo              0.002                   gamb_colu   \n",
       "\n",
       "              species_gambiae_coluzzii  is_arabiensis  is_gamb_colu  \\\n",
       "location                                                              \n",
       "Daiguene                       gambiae          False          True   \n",
       "Gado Badzere                   gambiae          False          True   \n",
       "Manda                          gambiae          False          True   \n",
       "Mayos                          gambiae          False          True   \n",
       "Zembe Borongo                  gambiae          False          True   \n",
       "\n",
       "               is_gambiae  is_coluzzii        PC1        PC2  \n",
       "location                                                      \n",
       "Daiguene             True        False   7.974750 -19.970627  \n",
       "Gado Badzere         True        False   8.355163 -24.784523  \n",
       "Manda                True        False   7.557045 -27.504055  \n",
       "Mayos                True        False   8.435379 -22.509165  \n",
       "Zembe Borongo        True        False  10.258307 -21.264961  "
      ]
     },
     "execution_count": 68,
     "metadata": {},
     "output_type": "execute_result"
    }
   ],
   "source": [
    "cms_gam_df.query(\"location in @include_locs\").groupby(\"location\").first()"
   ]
  },
  {
   "cell_type": "code",
   "execution_count": 69,
   "metadata": {},
   "outputs": [
    {
     "data": {
      "text/plain": [
       "Daiguene -> Gado Badzere         126.096513\n",
       "Daiguene -> Manda                346.190845\n",
       "Daiguene -> Mayos                 57.721646\n",
       "Daiguene -> Zembe Borongo        126.096513\n",
       "Gado Badzere -> Manda            395.882843\n",
       "Gado Badzere -> Mayos            183.801179\n",
       "Gado Badzere -> Zembe Borongo      0.000000\n",
       "Manda -> Mayos                   335.316105\n",
       "Manda -> Zembe Borongo           395.882843\n",
       "Mayos -> Zembe Borongo           183.801179\n",
       "dtype: float64"
      ]
     },
     "execution_count": 69,
     "metadata": {},
     "output_type": "execute_result"
    }
   ],
   "source": [
    "lat_lon_distances(cms_gam_df.query(\"location in @include_locs\"))"
   ]
  },
  {
   "cell_type": "markdown",
   "metadata": {},
   "source": [
    "Logically, I think there should be 4 distinct CMS gambiae populations. \n",
    "\n",
    "The transect has 126 / 183 km between sites, but there are ~ 100 samples in each.\n",
    "\n",
    "Manda is a good distance west of the other sites- so could be important.\n",
    "\n",
    "Manda is the same site as Mfelap, so that is included. As is "
   ]
  },
  {
   "cell_type": "code",
   "execution_count": 70,
   "metadata": {},
   "outputs": [],
   "source": [
    "r = lat_lon_distances(cms_gam_df)"
   ]
  },
  {
   "cell_type": "code",
   "execution_count": 71,
   "metadata": {},
   "outputs": [
    {
     "data": {
      "text/plain": [
       "Manda -> Mfelap             0.000000\n",
       "Manchoutvi -> Manda        31.755058\n",
       "Manda -> Mangoum           40.551759\n",
       "Manda -> Mgbandji          50.961557\n",
       "Bamendi -> Manda           53.099264\n",
       "Manda -> Otibili          175.899406\n",
       "Manda -> Obala            187.700105\n",
       "Manda -> Nkolondom        206.850485\n",
       "Manda -> Tibati           211.539909\n",
       "Essos -> Manda            218.320351\n",
       "Ahala -> Manda            223.942975\n",
       "Manda -> Mbalmayo         254.246644\n",
       "Avebe -> Manda            270.465571\n",
       "Beka Goto -> Manda        272.874486\n",
       "Manda -> Tekel            281.742827\n",
       "Mabarangal'L -> Manda     282.913315\n",
       "Birsok -> Manda           287.318924\n",
       "Lougga Tapadi -> Manda    300.649096\n",
       "Foulassi I -> Manda       321.762586\n",
       "Dombé -> Manda            324.358391\n",
       "dtype: float64"
      ]
     },
     "execution_count": 71,
     "metadata": {},
     "output_type": "execute_result"
    }
   ],
   "source": [
    "x = [y for y in r.index if \"Manda\" in y]\n",
    "\n",
    "r.loc[x].sort_values()[:20]"
   ]
  },
  {
   "cell_type": "code",
   "execution_count": 72,
   "metadata": {},
   "outputs": [
    {
     "data": {
      "text/plain": [
       "(1, 2, 1)"
      ]
     },
     "execution_count": 72,
     "metadata": {},
     "output_type": "execute_result"
    }
   ],
   "source": [
    "n_samples_by_site.loc[\"Mfelap\"], n_samples_by_site.loc[\"Manchoutvi\"], n_samples_by_site.loc[\"Mangoum\"]"
   ]
  },
  {
   "cell_type": "code",
   "execution_count": 73,
   "metadata": {},
   "outputs": [],
   "source": [
    "population_definitions[\"CM_gam_1\"] = cms_gam_df.query(\"location in ('Gado Badzere', 'Zembe Borongo')\").index.tolist()"
   ]
  },
  {
   "cell_type": "code",
   "execution_count": 74,
   "metadata": {},
   "outputs": [],
   "source": [
    "population_definitions[\"CM_gam_2\"] = cms_gam_df.query(\"location == 'Daiguene'\").index.tolist()"
   ]
  },
  {
   "cell_type": "code",
   "execution_count": 75,
   "metadata": {},
   "outputs": [],
   "source": [
    "population_definitions[\"CM_gam_3\"] = cms_gam_df.query(\"location == 'Mayos'\").index.tolist()"
   ]
  },
  {
   "cell_type": "code",
   "execution_count": 76,
   "metadata": {},
   "outputs": [],
   "source": [
    "population_definitions[\"CM_gam_4\"] = cms_gam_df.query(\"location in ('Manda', 'Mfelap')\").index.tolist()"
   ]
  },
  {
   "cell_type": "code",
   "execution_count": 77,
   "metadata": {},
   "outputs": [],
   "source": [
    "population_definitions[\"BI_gam\"] = cms_gam_df.query(\"country == 'Equatorial Guinea'\").index.tolist()"
   ]
  },
  {
   "cell_type": "markdown",
   "metadata": {},
   "source": [
    "## 5, West Africa\n",
    "\n",
    "Initial plotting shows clear separation of gambiae and coluzzii. \n",
    "\n",
    "The exceptions being 2 Mali samples that are outliers from all groups. One is classed as \"intermediate\" AV0331-C. Doesn't cluster exactly with the gulf west africa samples. The other is AV0255-C, which looks coluzzii, but is distinct from all other samples. Appears to be really out on its own.\n",
    "\n",
    "Initially we look at coluzzii samples, excluding AV0255-C."
   ]
  },
  {
   "cell_type": "code",
   "execution_count": 78,
   "metadata": {},
   "outputs": [],
   "source": [
    "west_colu_q = \"(country in ('Ghana', 'Cote d\\\\'Ivoire', 'Guinea', 'Mali', 'Burkina Faso')  & (species_gambiae_coluzzii == 'coluzzii'))\""
   ]
  },
  {
   "cell_type": "code",
   "execution_count": 79,
   "metadata": {},
   "outputs": [],
   "source": [
    "pca_figure_wrapper(\"west_africa_coluzzii.html\", west_colu_q)"
   ]
  },
  {
   "cell_type": "markdown",
   "metadata": {},
   "source": [
    "There is broad separation between Ghana/Cote d'Ivoire vs Burkina, Mali, and Guinea.\n",
    "\n",
    "A question is then to include Ghana/CI as how many separate populations?"
   ]
  },
  {
   "cell_type": "code",
   "execution_count": 80,
   "metadata": {},
   "outputs": [
    {
     "data": {
      "text/plain": [
       "country        location      \n",
       "Burkina Faso   Bana              89\n",
       "               Pala              11\n",
       "               Souroukoudinga    35\n",
       "Cote d'Ivoire  Tiassale          80\n",
       "Ghana          Koforidua          1\n",
       "               Madina            14\n",
       "               Takoradi          24\n",
       "               Twifo Praso       25\n",
       "Guinea         Koundara          11\n",
       "Mali           Douna             19\n",
       "               Fanzana            6\n",
       "               Kababougou        12\n",
       "               Moribobougou       7\n",
       "               N'Gabakoro         4\n",
       "               Ouassorola         9\n",
       "               Takan             26\n",
       "               Tieneguebougou     6\n",
       "               Toumani Oulena     2\n",
       "dtype: int64"
      ]
     },
     "execution_count": 80,
     "metadata": {},
     "output_type": "execute_result"
    }
   ],
   "source": [
    "df_species_samples.query(west_colu_q).groupby([\"country\", \"location\"]).size()"
   ]
  },
  {
   "cell_type": "code",
   "execution_count": 81,
   "metadata": {},
   "outputs": [
    {
     "data": {
      "text/plain": [
       "Koforidua -> Madina          47.338640\n",
       "Koforidua -> Takoradi       212.585535\n",
       "Koforidua -> Tiassale       505.542827\n",
       "Koforidua -> Twifo Praso    152.387366\n",
       "Madina -> Takoradi          191.572299\n",
       "Madina -> Tiassale          510.556093\n",
       "Madina -> Twifo Praso       147.487682\n",
       "Takoradi -> Tiassale        355.065674\n",
       "Takoradi -> Twifo Praso      81.011919\n",
       "Tiassale -> Twifo Praso     364.040881\n",
       "dtype: float64"
      ]
     },
     "execution_count": 81,
     "metadata": {},
     "output_type": "execute_result"
    }
   ],
   "source": [
    "lat_lon_distances(\n",
    "    df_species_samples.query(\"country in ('Ghana', 'Cote d\\\\'Ivoire')\"))"
   ]
  },
  {
   "cell_type": "code",
   "execution_count": 82,
   "metadata": {},
   "outputs": [],
   "source": [
    "population_definitions[\"CI_col\"] = df_species_samples.query(west_colu_q).query(\"location == 'Tiassale'\").index.tolist()\n",
    "\n",
    "population_definitions[\"GH_col\"] = df_species_samples.query(west_colu_q).query(\"country == 'Ghana'\").index.tolist()"
   ]
  },
  {
   "cell_type": "markdown",
   "metadata": {},
   "source": [
    "Given Tiassele is at least 355km from nearest Ghanian site- and the maximum distance between ghanian sites is 212km we group as a single population.\n",
    "\n",
    "Now look at Guinea, Burkina and Mali."
   ]
  },
  {
   "cell_type": "code",
   "execution_count": 83,
   "metadata": {},
   "outputs": [
    {
     "data": {
      "text/plain": [
       "Bana -> Koundara              632.812044\n",
       "Bana -> Pala                   27.464332\n",
       "Bana -> Souroukoudinga          6.883185\n",
       "Koundara -> Pala              651.571790\n",
       "Koundara -> Souroukoudinga    626.869978\n",
       "Pala -> Souroukoudinga         34.087197\n",
       "dtype: float64"
      ]
     },
     "execution_count": 83,
     "metadata": {},
     "output_type": "execute_result"
    }
   ],
   "source": [
    "lat_lon_distances(\n",
    "    df_species_samples.query(west_colu_q).query(\"country in ('Guinea', 'Burkina Faso')\"))"
   ]
  },
  {
   "cell_type": "markdown",
   "metadata": {},
   "source": [
    "Guinean samples are a long way from BF. All BF sample sites are close together. \n",
    "\n",
    "Question only remains about Mali: Decide to take from Takan and Douna as sep populations.\n",
    "\n",
    "Takan to be included in gambiae of WA."
   ]
  },
  {
   "cell_type": "code",
   "execution_count": 84,
   "metadata": {},
   "outputs": [],
   "source": [
    "population_definitions[\"GN_col\"] = df_species_samples.query(west_colu_q).query(\"country == 'Guinea'\").index.tolist()\n",
    "population_definitions[\"BF_col\"] = df_species_samples.query(west_colu_q).query(\"country == 'Burkina Faso'\").index.tolist()"
   ]
  },
  {
   "cell_type": "code",
   "execution_count": 85,
   "metadata": {},
   "outputs": [
    {
     "data": {
      "text/plain": [
       "location\n",
       "Douna             19\n",
       "Fanzana            6\n",
       "Kababougou        12\n",
       "Moribobougou       7\n",
       "N'Gabakoro         4\n",
       "Ouassorola         9\n",
       "Takan             26\n",
       "Tieneguebougou     6\n",
       "Toumani Oulena     2\n",
       "dtype: int64"
      ]
     },
     "execution_count": 85,
     "metadata": {},
     "output_type": "execute_result"
    }
   ],
   "source": [
    "df_species_samples.query(west_colu_q).query(\"country=='Mali'\").groupby(\"location\").size()"
   ]
  },
  {
   "cell_type": "code",
   "execution_count": 86,
   "metadata": {},
   "outputs": [
    {
     "data": {
      "text/plain": [
       "contributor    location        year  species_gambiae_coluzzii\n",
       "Austin Burt    Kababougou      2014  coluzzii                    12\n",
       "                                     gambiae                     28\n",
       "               Ouassorola      2014  coluzzii                     9\n",
       "                                     gambiae                      4\n",
       "               Tieneguebougou  2014  coluzzii                     6\n",
       "                                     gambiae                      1\n",
       "Ken Vernick    Takan           2012  coluzzii                    26\n",
       "                                     gambiae                      5\n",
       "               Toumani Oulena  2012  coluzzii                     2\n",
       "                                     gambiae                     60\n",
       "                                     intermediate                 1\n",
       "Nora Besansky  Bancoumana      2004  gambiae                      9\n",
       "               Douna           2004  coluzzii                    19\n",
       "               Fanzana         2004  coluzzii                     6\n",
       "                                     gambiae                      1\n",
       "               Kela            2004  gambiae                     23\n",
       "               Moribobougou    2004  coluzzii                     7\n",
       "               N'Gabakoro      2004  coluzzii                     4\n",
       "dtype: int64"
      ]
     },
     "execution_count": 86,
     "metadata": {},
     "output_type": "execute_result"
    }
   ],
   "source": [
    "df_species_samples.query(\"country == 'Mali'\").groupby([\"contributor\", \"location\", \"year\", \"species_gambiae_coluzzii\" ]).size()"
   ]
  },
  {
   "cell_type": "code",
   "execution_count": 87,
   "metadata": {},
   "outputs": [
    {
     "data": {
      "text/plain": [
       "Kababougou -> Ouassorola         1.549765\n",
       "Kababougou -> Tieneguebougou    11.664698\n",
       "Ouassorola -> Tieneguebougou    13.211463\n",
       "dtype: float64"
      ]
     },
     "execution_count": 87,
     "metadata": {},
     "output_type": "execute_result"
    }
   ],
   "source": [
    "# Austin's sites are very close together\n",
    "lat_lon_distances(\n",
    "    df_species_samples.query(\"country == 'Mali'\").query(\"contributor == 'Austin Burt'\").groupby([\"contributor\", \"location\"]).first()\n",
    ")"
   ]
  },
  {
   "cell_type": "code",
   "execution_count": 88,
   "metadata": {},
   "outputs": [
    {
     "data": {
      "text/plain": [
       "Bancoumana -> Douna           273.652173\n",
       "Bancoumana -> Fanzana         250.570138\n",
       "Bancoumana -> Kela             44.655586\n",
       "Bancoumana -> Moribobougou     65.004420\n",
       "Bancoumana -> N'Gabakoro       65.966647\n",
       "Douna -> Fanzana               24.955389\n",
       "Douna -> Kela                 313.760344\n",
       "Douna -> Moribobougou         221.362109\n",
       "Douna -> N'Gabakoro           218.518693\n",
       "Fanzana -> Kela               291.367390\n",
       "Fanzana -> Moribobougou       197.053970\n",
       "Fanzana -> N'Gabakoro         194.265503\n",
       "Kela -> Moribobougou          109.591508\n",
       "Kela -> N'Gabakoro            110.616089\n",
       "Moribobougou -> N'Gabakoro      3.441266\n",
       "dtype: float64"
      ]
     },
     "execution_count": 88,
     "metadata": {},
     "output_type": "execute_result"
    }
   ],
   "source": [
    "lat_lon_distances(\n",
    "    df_species_samples.query(\"country == 'Mali'\").query(\"contributor == 'Nora Besansky'\").groupby([\"contributor\", \"location\"]).first()\n",
    ")"
   ]
  },
  {
   "cell_type": "code",
   "execution_count": 89,
   "metadata": {},
   "outputs": [
    {
     "data": {
      "text/plain": [
       "Takan -> Toumani Oulena    90.763862\n",
       "dtype: float64"
      ]
     },
     "execution_count": 89,
     "metadata": {},
     "output_type": "execute_result"
    }
   ],
   "source": [
    "lat_lon_distances(\n",
    "    df_species_samples.query(\"country == 'Mali'\").query(\"contributor == 'Ken Vernick'\").groupby([\"contributor\", \"location\"]).first()\n",
    ")"
   ]
  },
  {
   "cell_type": "code",
   "execution_count": 90,
   "metadata": {},
   "outputs": [],
   "source": [
    "population_definitions[\"MA_col_1\"] = df_species_samples.query(west_colu_q).query(\"location == 'Douna'\").index.tolist()\n",
    "population_definitions[\"MA_col_2\"] = df_species_samples.query(west_colu_q).query(\"location == 'Takan'\").index.tolist()\n",
    "population_definitions[\"MA_col_2\"].remove(\"AV0255-C\")\n",
    "\n",
    "\n",
    "population_definitions[\"MA_col_3\"] = df_species_samples.query(west_colu_q).query(\"location == 'Kababougou'\").index.tolist()"
   ]
  },
  {
   "cell_type": "markdown",
   "metadata": {},
   "source": [
    "Move onto gambiae"
   ]
  },
  {
   "cell_type": "code",
   "execution_count": 91,
   "metadata": {},
   "outputs": [],
   "source": [
    "west_gam_q = \"(country in ('Ghana', 'Cote d\\\\'Ivoire', 'Guinea', 'Mali', 'Burkina Faso')  & (species_gambiae_coluzzii == 'gambiae'))\""
   ]
  },
  {
   "cell_type": "code",
   "execution_count": 92,
   "metadata": {},
   "outputs": [],
   "source": [
    "pca_figure_wrapper(\"west_africa_gambiae.html\", west_gam_q)"
   ]
  },
  {
   "cell_type": "markdown",
   "metadata": {},
   "source": [
    "Almost a complete absense of structure in these West African gambiae samples."
   ]
  },
  {
   "cell_type": "code",
   "execution_count": 93,
   "metadata": {},
   "outputs": [
    {
     "data": {
      "text/plain": [
       "Koforidua -> Madina    47.33864\n",
       "dtype: float64"
      ]
     },
     "execution_count": 93,
     "metadata": {},
     "output_type": "execute_result"
    }
   ],
   "source": [
    "lat_lon_distances(\n",
    "    df_species_samples.query(west_gam_q).query(\"country == 'Ghana'\"))"
   ]
  },
  {
   "cell_type": "code",
   "execution_count": 94,
   "metadata": {},
   "outputs": [],
   "source": [
    "population_definitions[\"GH_gam\"] = df_species_samples.query(west_gam_q).query(\"country == 'Ghana'\").index.tolist()"
   ]
  },
  {
   "cell_type": "code",
   "execution_count": 95,
   "metadata": {},
   "outputs": [],
   "source": [
    "population_definitions[\"GN_gam\"] = df_species_samples.query(west_gam_q).query(\"country == 'Guinea'\").index.tolist()"
   ]
  },
  {
   "cell_type": "code",
   "execution_count": 96,
   "metadata": {},
   "outputs": [],
   "source": [
    "# burkina we exclude Monomtenga\n",
    "population_definitions[\"BF_gam\"] = df_species_samples.query(west_gam_q).query(\"location in ('Bana', 'Pala', 'Souroukoudinga')\").index.tolist()"
   ]
  },
  {
   "cell_type": "code",
   "execution_count": 97,
   "metadata": {},
   "outputs": [
    {
     "data": {
      "text/plain": [
       "Bana -> Monomtenga              371.492961\n",
       "Bana -> Pala                     27.464332\n",
       "Bana -> Souroukoudinga            6.883185\n",
       "Monomtenga -> Pala              349.087863\n",
       "Monomtenga -> Souroukoudinga    378.099973\n",
       "Pala -> Souroukoudinga           34.087197\n",
       "dtype: float64"
      ]
     },
     "execution_count": 97,
     "metadata": {},
     "output_type": "execute_result"
    }
   ],
   "source": [
    "lat_lon_distances(\n",
    "    df_species_samples.query(west_gam_q).query(\"country == 'Burkina Faso'\"))"
   ]
  },
  {
   "cell_type": "code",
   "execution_count": 98,
   "metadata": {},
   "outputs": [],
   "source": [
    "# again Mali is the most complex... we take "
   ]
  },
  {
   "cell_type": "code",
   "execution_count": 99,
   "metadata": {},
   "outputs": [
    {
     "data": {
      "text/plain": [
       "country       contributor    location        year\n",
       "Burkina Faso  Austin Burt    Bana            2012    22\n",
       "                                             2014    15\n",
       "                             Pala            2012    48\n",
       "                                             2014    16\n",
       "                             Souroukoudinga  2012    28\n",
       "                                             2014    15\n",
       "              Nora Besansky  Monomtenga      2004    13\n",
       "Ghana         David Weetman  Koforidua       2012    23\n",
       "                             Madina          2012    13\n",
       "Guinea        Ken Vernick    Koraboh         2012    60\n",
       "                             Koundara        2012    63\n",
       "Mali          Austin Burt    Kababougou      2014    28\n",
       "                             Ouassorola      2014     4\n",
       "                             Tieneguebougou  2014     1\n",
       "              Ken Vernick    Takan           2012     5\n",
       "                             Toumani Oulena  2012    60\n",
       "              Nora Besansky  Bancoumana      2004     9\n",
       "                             Fanzana         2004     1\n",
       "                             Kela            2004    23\n",
       "dtype: int64"
      ]
     },
     "execution_count": 99,
     "metadata": {},
     "output_type": "execute_result"
    }
   ],
   "source": [
    "df_species_samples.query(west_gam_q).groupby([\"country\", \"contributor\", \"location\", \"year\"]).size()"
   ]
  },
  {
   "cell_type": "code",
   "execution_count": 100,
   "metadata": {},
   "outputs": [
    {
     "data": {
      "text/plain": [
       "Bancoumana -> Fanzana               250.570138\n",
       "Bancoumana -> Kababougou             76.525587\n",
       "Bancoumana -> Kela                   44.655586\n",
       "Bancoumana -> Ouassorola             77.560629\n",
       "Bancoumana -> Takan                  81.986408\n",
       "Bancoumana -> Tieneguebougou         68.731084\n",
       "Bancoumana -> Toumani Oulena        157.406280\n",
       "Fanzana -> Kababougou               221.766673\n",
       "Fanzana -> Kela                     291.367390\n",
       "Fanzana -> Ouassorola               222.666394\n",
       "Fanzana -> Takan                    306.397274\n",
       "Fanzana -> Tieneguebougou           215.895257\n",
       "Fanzana -> Toumani Oulena           319.687080\n",
       "Kababougou -> Kela                  116.396892\n",
       "Kababougou -> Ouassorola              1.549765\n",
       "Kababougou -> Takan                 158.302420\n",
       "Kababougou -> Tieneguebougou         11.664698\n",
       "Kababougou -> Toumani Oulena        230.871116\n",
       "Kela -> Ouassorola                  117.161723\n",
       "Kela -> Takan                        47.203588\n",
       "Kela -> Tieneguebougou              110.471462\n",
       "Kela -> Toumani Oulena              135.537956\n",
       "Ouassorola -> Takan                 159.270155\n",
       "Ouassorola -> Tieneguebougou         13.211463\n",
       "Ouassorola -> Toumani Oulena        232.139512\n",
       "Takan -> Tieneguebougou             150.712204\n",
       "Takan -> Toumani Oulena              90.763862\n",
       "Tieneguebougou -> Toumani Oulena    220.996746\n",
       "dtype: float64"
      ]
     },
     "execution_count": 100,
     "metadata": {},
     "output_type": "execute_result"
    }
   ],
   "source": [
    "lat_lon_distances(\n",
    "    df_species_samples.query(west_gam_q).query(\"country == 'Mali'\"))"
   ]
  },
  {
   "cell_type": "code",
   "execution_count": 101,
   "metadata": {},
   "outputs": [],
   "source": [
    "# Ken Vernick\n",
    "population_definitions[\"MA_gam_1\"] = df_species_samples.query(west_gam_q).query(\"location == 'Toumani Oulena'\").index.tolist()"
   ]
  },
  {
   "cell_type": "code",
   "execution_count": 102,
   "metadata": {},
   "outputs": [],
   "source": [
    "# Austin's sites can be combined\n",
    "population_definitions[\"MA_gam_2\"] = df_species_samples.query(west_gam_q).query(\"country == 'Mali'\").query(\"contributor == 'Austin Burt'\").index.tolist()"
   ]
  },
  {
   "cell_type": "code",
   "execution_count": 103,
   "metadata": {},
   "outputs": [
    {
     "data": {
      "text/plain": [
       "year\n",
       "2014    33\n",
       "dtype: int64"
      ]
     },
     "execution_count": 103,
     "metadata": {},
     "output_type": "execute_result"
    }
   ],
   "source": [
    "df_species_samples.loc[population_definitions[\"MA_gam_2\"]].groupby(\"year\").size()"
   ]
  },
  {
   "cell_type": "code",
   "execution_count": 104,
   "metadata": {},
   "outputs": [],
   "source": [
    "# Nora\n",
    "population_definitions[\"MA_gam_3\"] = df_species_samples.query(west_gam_q).query(\"location == 'Kela'\").index.tolist()"
   ]
  },
  {
   "cell_type": "markdown",
   "metadata": {},
   "source": [
    "## Make a table of samples not in a \"population\"\n",
    "\n",
    "Mainly Cameroon and Mali, odd samples elsewhere"
   ]
  },
  {
   "cell_type": "code",
   "execution_count": 105,
   "metadata": {},
   "outputs": [],
   "source": [
    "included_samples = set([y for x in population_definitions.values() for y in x])"
   ]
  },
  {
   "cell_type": "code",
   "execution_count": 106,
   "metadata": {},
   "outputs": [],
   "source": [
    "excl_samples = df_species_samples.index.map(lambda y: y not in included_samples)"
   ]
  },
  {
   "cell_type": "code",
   "execution_count": 107,
   "metadata": {},
   "outputs": [],
   "source": [
    "pd.set_option('display.max_rows', 100)"
   ]
  },
  {
   "cell_type": "code",
   "execution_count": 108,
   "metadata": {},
   "outputs": [
    {
     "data": {
      "text/plain": [
       "country       location            year  species_gambiae_coluzzii\n",
       "Burkina Faso  Bana                2012  intermediate                 1\n",
       "              Monomtenga          2004  gambiae                     13\n",
       "Cameroon      Afan-Essokye        2013  gambiae                      1\n",
       "              Ahala               2005  gambiae                      4\n",
       "              Avebe               2005  gambiae                      1\n",
       "              Badankali           2005  coluzzii                     1\n",
       "              Badjawa             2005  gambiae                      3\n",
       "              Balda Bouri         2005  gambiae                      2\n",
       "              Bamendi             2005  gambiae                      3\n",
       "              Banda               2005  gambiae                      1\n",
       "              Beka Goto           2005  gambiae                      2\n",
       "              Bini                2005  gambiae                      1\n",
       "              Birsok              2005  gambiae                      1\n",
       "              Campo               2013  coluzzii                     2\n",
       "              Carrefour Nari      2005  gambiae                      1\n",
       "              Carrefour Poli      2005  coluzzii                     1\n",
       "              Djaba               2005  gambiae                      2\n",
       "              Djamboutou          2005  gambiae                      1\n",
       "              Djet                2005  gambiae                      2\n",
       "              Dolla               2005  gambiae                      1\n",
       "              Dombé               2005  gambiae                      1\n",
       "              Douala              2013  coluzzii                     2\n",
       "              Doulougou           2005  gambiae                      4\n",
       "              Essos               2005  gambiae                      1\n",
       "              Foulassi I          2005  gambiae                      1\n",
       "              Gada Mabanga        2005  gambiae                      1\n",
       "              Gakle               2005  coluzzii                     1\n",
       "              Gamba               2005  coluzzii                     1\n",
       "              Gouna               2005  coluzzii                     1\n",
       "              Guijiba             2005  gambiae                      1\n",
       "              Harr                2005  gambiae                      1\n",
       "              Karba               2005  gambiae                      2\n",
       "              Laf                 2005  gambiae                      3\n",
       "              Lagdo               2013  coluzzii                     1\n",
       "              Lainde Mbana        2005  gambiae                      2\n",
       "              Lamoudan            2005  gambiae                      1\n",
       "              Lougga Tapadi       2005  gambiae                      1\n",
       "              Lougol              2005  gambiae                      2\n",
       "              Mabarangal'L        2005  gambiae                      1\n",
       "              Makabay (Djarengo)  2005  gambiae                      1\n",
       "              Mambang             2005  gambiae                      1\n",
       "              Manchoutvi          2013  gambiae                      2\n",
       "              Mangoum             2005  gambiae                      1\n",
       "              Massila             2005  gambiae                      6\n",
       "              Mawara              2005  gambiae                      2\n",
       "              Mayo Boki           2005  gambiae                      3\n",
       "              Mayo Dafan          2005  gambiae                      1\n",
       "              Mayo Djarani        2005  gambiae                      2\n",
       "              Mayo Lebride        2005  gambiae                      2\n",
       "              Mbalmayo            2005  gambiae                      1\n",
       "              Mgbandji            2013  gambiae                      1\n",
       "              Morongo             2005  gambiae                      2\n",
       "              Moulva              2005  gambiae                      2\n",
       "              Mounda              2005  gambiae                      1\n",
       "              Moussourtouk        2005  gambiae                      1\n",
       "              Ngaouya Nga         2005  gambiae                      1\n",
       "              Nkolondom           2013  gambiae                      5\n",
       "              Nlozok              2005  gambiae                      1\n",
       "              Obala               2005  gambiae                      1\n",
       "              Otibili             2005  gambiae                      4\n",
       "              Palama              2005  coluzzii                     1\n",
       "                                        gambiae                      1\n",
       "              Rompo               2005  gambiae                      1\n",
       "              Secamde             2005  gambiae                      2\n",
       "              Sorawel             2005  gambiae                      1\n",
       "              Séboré              2005  gambiae                      1\n",
       "              Tchéré              2005  gambiae                      1\n",
       "              Tekel               2005  gambiae                      1\n",
       "              Tibati              2013  coluzzii                     2\n",
       "                                        gambiae                      2\n",
       "              Toumbouroum         2005  gambiae                      2\n",
       "              Wouro Andre         2005  coluzzii                     1\n",
       "Gambia, The   Wali Kunda          2012  gambiae                      2\n",
       "Guinea        Koraboh             2012  intermediate                 2\n",
       "Mali          Bancoumana          2004  gambiae                      9\n",
       "              Fanzana             2004  coluzzii                     6\n",
       "                                        gambiae                      1\n",
       "              Moribobougou        2004  coluzzii                     7\n",
       "              N'Gabakoro          2004  coluzzii                     4\n",
       "              Ouassorola          2014  coluzzii                     9\n",
       "              Takan               2012  coluzzii                     1\n",
       "                                        gambiae                      5\n",
       "              Tieneguebougou      2014  coluzzii                     6\n",
       "              Toumani Oulena      2012  coluzzii                     2\n",
       "                                        intermediate                 1\n",
       "dtype: int64"
      ]
     },
     "execution_count": 108,
     "metadata": {},
     "output_type": "execute_result"
    }
   ],
   "source": [
    "df_species_samples.loc[excl_samples].groupby([\"country\", \"location\", \"year\", \"species_gambiae_coluzzii\"]).size()"
   ]
  },
  {
   "cell_type": "markdown",
   "metadata": {},
   "source": [
    "## Validate and write"
   ]
  },
  {
   "cell_type": "code",
   "execution_count": 109,
   "metadata": {},
   "outputs": [],
   "source": [
    "for a, b in combinations(population_definitions.keys(), 2):\n",
    "    \n",
    "    set1 = set(population_definitions[a])\n",
    "    set2 = set(population_definitions[b])\n",
    "    assert set1.isdisjoint(set2), f\"{a} and {b} are not disjoint. Share {set1.intersection(set2)}\""
   ]
  },
  {
   "cell_type": "code",
   "execution_count": 110,
   "metadata": {},
   "outputs": [],
   "source": [
    "with open(definition_file, mode=\"w\") as wr:\n",
    "    print(yaml.dump(population_definitions), file=wr)"
   ]
  },
  {
   "cell_type": "code",
   "execution_count": null,
   "metadata": {},
   "outputs": [],
   "source": []
  }
 ],
 "metadata": {
  "kernelspec": {
   "display_name": "Python 3",
   "language": "python",
   "name": "python3"
  },
  "language_info": {
   "codemirror_mode": {
    "name": "ipython",
    "version": 3
   },
   "file_extension": ".py",
   "mimetype": "text/x-python",
   "name": "python",
   "nbconvert_exporter": "python",
   "pygments_lexer": "ipython3",
   "version": "3.7.6"
  }
 },
 "nbformat": 4,
 "nbformat_minor": 4
}
