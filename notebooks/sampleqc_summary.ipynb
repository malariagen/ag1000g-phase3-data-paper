{
 "cells": [
  {
   "cell_type": "markdown",
   "metadata": {},
   "source": [
    "## Description\n",
    "\n",
    "Update 21/3/2021 deprecate the ag3 module in favour of the public malaraigen one.\n",
    "\n",
    "This notebook calculates the number of samples dropped at each step"
   ]
  },
  {
   "cell_type": "code",
   "execution_count": 1,
   "metadata": {},
   "outputs": [],
   "source": [
    "import malariagen_data\n",
    "import pandas as pd\n",
    "from pathlib import Path"
   ]
  },
  {
   "cell_type": "code",
   "execution_count": 2,
   "metadata": {},
   "outputs": [],
   "source": [
    "tracking_dir = Path(\"../../vector-ops/tracking/release/v3\")"
   ]
  },
  {
   "cell_type": "code",
   "execution_count": 3,
   "metadata": {},
   "outputs": [],
   "source": [
    "qc_paths = [\n",
    "    \"wgs_sequence_qc/sequence_qc_filters_{sset}.tsv\",\n",
    "    \"wgs_replicate_qc/replicate_qc_filters_{sset}.tsv\",\n",
    "    \"wgs_population_qc/anomaly_qc_filters_{sset}.tsv\",\n",
    "    \"wgs_population_qc/pca_qc_filters_{sset}.tsv\"\n",
    "]"
   ]
  },
  {
   "cell_type": "code",
   "execution_count": 4,
   "metadata": {},
   "outputs": [
    {
     "data": {
      "text/plain": [
       "<malariagen_data.ag3.Ag3 at 0x7fb20fd31880>"
      ]
     },
     "execution_count": 4,
     "metadata": {},
     "output_type": "execute_result"
    }
   ],
   "source": [
    "ag3 = malariagen_data.Ag3(\"gs://vo_agam_release/\")\n",
    "ag3"
   ]
  },
  {
   "cell_type": "code",
   "execution_count": 5,
   "metadata": {},
   "outputs": [],
   "source": [
    "all_wild_sets = ag3.sample_sets(\"v3\").sample_set.tolist()\n",
    "all_wild_sets += [\"AG1000G-GA-B\"]\n",
    "all_wild_sets.remove(\"AG1000G-X\")"
   ]
  },
  {
   "cell_type": "code",
   "execution_count": 6,
   "metadata": {},
   "outputs": [],
   "source": [
    "def read_qc_data(sample_set):\n",
    "    \n",
    "    print(sample_set, tracking_dir / qc_paths[0].format(sset=sample_set))\n",
    "    \n",
    "    return pd.concat(\n",
    "        [pd.read_csv(tracking_dir / step.format(sset=sample_set), sep=\"\\t\", index_col=\"derived_sample_id\") for step in qc_paths],\n",
    "        axis=1, \n",
    "        sort=False)        "
   ]
  },
  {
   "cell_type": "code",
   "execution_count": 7,
   "metadata": {},
   "outputs": [
    {
     "name": "stdout",
     "output_type": "stream",
     "text": [
      "AG1000G-AO ../../vector-ops/tracking/release/v3/wgs_sequence_qc/sequence_qc_filters_AG1000G-AO.tsv\n",
      "AG1000G-BF-A ../../vector-ops/tracking/release/v3/wgs_sequence_qc/sequence_qc_filters_AG1000G-BF-A.tsv\n",
      "AG1000G-BF-B ../../vector-ops/tracking/release/v3/wgs_sequence_qc/sequence_qc_filters_AG1000G-BF-B.tsv\n",
      "AG1000G-BF-C ../../vector-ops/tracking/release/v3/wgs_sequence_qc/sequence_qc_filters_AG1000G-BF-C.tsv\n",
      "AG1000G-CD ../../vector-ops/tracking/release/v3/wgs_sequence_qc/sequence_qc_filters_AG1000G-CD.tsv\n",
      "AG1000G-CF ../../vector-ops/tracking/release/v3/wgs_sequence_qc/sequence_qc_filters_AG1000G-CF.tsv\n",
      "AG1000G-CI ../../vector-ops/tracking/release/v3/wgs_sequence_qc/sequence_qc_filters_AG1000G-CI.tsv\n",
      "AG1000G-CM-A ../../vector-ops/tracking/release/v3/wgs_sequence_qc/sequence_qc_filters_AG1000G-CM-A.tsv\n",
      "AG1000G-CM-B ../../vector-ops/tracking/release/v3/wgs_sequence_qc/sequence_qc_filters_AG1000G-CM-B.tsv\n",
      "AG1000G-CM-C ../../vector-ops/tracking/release/v3/wgs_sequence_qc/sequence_qc_filters_AG1000G-CM-C.tsv\n",
      "AG1000G-FR ../../vector-ops/tracking/release/v3/wgs_sequence_qc/sequence_qc_filters_AG1000G-FR.tsv\n",
      "AG1000G-GA-A ../../vector-ops/tracking/release/v3/wgs_sequence_qc/sequence_qc_filters_AG1000G-GA-A.tsv\n",
      "AG1000G-GH ../../vector-ops/tracking/release/v3/wgs_sequence_qc/sequence_qc_filters_AG1000G-GH.tsv\n",
      "AG1000G-GM-A ../../vector-ops/tracking/release/v3/wgs_sequence_qc/sequence_qc_filters_AG1000G-GM-A.tsv\n",
      "AG1000G-GM-B ../../vector-ops/tracking/release/v3/wgs_sequence_qc/sequence_qc_filters_AG1000G-GM-B.tsv\n",
      "AG1000G-GM-C ../../vector-ops/tracking/release/v3/wgs_sequence_qc/sequence_qc_filters_AG1000G-GM-C.tsv\n",
      "AG1000G-GN-A ../../vector-ops/tracking/release/v3/wgs_sequence_qc/sequence_qc_filters_AG1000G-GN-A.tsv\n",
      "AG1000G-GN-B ../../vector-ops/tracking/release/v3/wgs_sequence_qc/sequence_qc_filters_AG1000G-GN-B.tsv\n",
      "AG1000G-GQ ../../vector-ops/tracking/release/v3/wgs_sequence_qc/sequence_qc_filters_AG1000G-GQ.tsv\n",
      "AG1000G-GW ../../vector-ops/tracking/release/v3/wgs_sequence_qc/sequence_qc_filters_AG1000G-GW.tsv\n",
      "AG1000G-KE ../../vector-ops/tracking/release/v3/wgs_sequence_qc/sequence_qc_filters_AG1000G-KE.tsv\n",
      "AG1000G-ML-A ../../vector-ops/tracking/release/v3/wgs_sequence_qc/sequence_qc_filters_AG1000G-ML-A.tsv\n",
      "AG1000G-ML-B ../../vector-ops/tracking/release/v3/wgs_sequence_qc/sequence_qc_filters_AG1000G-ML-B.tsv\n",
      "AG1000G-MW ../../vector-ops/tracking/release/v3/wgs_sequence_qc/sequence_qc_filters_AG1000G-MW.tsv\n",
      "AG1000G-MZ ../../vector-ops/tracking/release/v3/wgs_sequence_qc/sequence_qc_filters_AG1000G-MZ.tsv\n",
      "AG1000G-TZ ../../vector-ops/tracking/release/v3/wgs_sequence_qc/sequence_qc_filters_AG1000G-TZ.tsv\n",
      "AG1000G-UG ../../vector-ops/tracking/release/v3/wgs_sequence_qc/sequence_qc_filters_AG1000G-UG.tsv\n",
      "AG1000G-GA-B ../../vector-ops/tracking/release/v3/wgs_sequence_qc/sequence_qc_filters_AG1000G-GA-B.tsv\n"
     ]
    }
   ],
   "source": [
    "seq_df = pd.concat(\n",
    "    [read_qc_data(x) for x in all_wild_sets], axis=0)"
   ]
  },
  {
   "cell_type": "code",
   "execution_count": 8,
   "metadata": {},
   "outputs": [
    {
     "data": {
      "text/plain": [
       "(3964, 9)"
      ]
     },
     "execution_count": 8,
     "metadata": {},
     "output_type": "execute_result"
    }
   ],
   "source": [
    "seq_df.shape"
   ]
  },
  {
   "cell_type": "code",
   "execution_count": 9,
   "metadata": {},
   "outputs": [],
   "source": [
    "# create an object that tells us which step failed, and ignore subsequent failures.\n",
    "int_fail_df = ((seq_df == \"FAIL\").cumsum(axis=1) == 1) & (seq_df == \"FAIL\")"
   ]
  },
  {
   "cell_type": "code",
   "execution_count": 10,
   "metadata": {},
   "outputs": [],
   "source": [
    "# check the max fail is 1 per row.\n",
    "assert int_fail_df.sum(1).max() == 1"
   ]
  },
  {
   "cell_type": "code",
   "execution_count": 11,
   "metadata": {},
   "outputs": [
    {
     "data": {
      "text/plain": [
       "FILTER_frac_genome_cov       220\n",
       "FILTER_median_cov            178\n",
       "FILTER_contamination         219\n",
       "FILTER_nosexcall              25\n",
       "FILTER_divergence             17\n",
       "FILTER_fail_replicateqc        8\n",
       "FILTER_second_rep_hi_skew    403\n",
       "FILTER_anomaly                82\n",
       "FILTER_pca                    28\n",
       "dtype: int64"
      ]
     },
     "execution_count": 11,
     "metadata": {},
     "output_type": "execute_result"
    }
   ],
   "source": [
    "int_fail_df.sum(0)"
   ]
  },
  {
   "cell_type": "code",
   "execution_count": 12,
   "metadata": {},
   "outputs": [
    {
     "data": {
      "text/plain": [
       "642"
      ]
     },
     "execution_count": 12,
     "metadata": {},
     "output_type": "execute_result"
    }
   ],
   "source": [
    "int_fail_df[int_fail_df.columns[:4]].sum(0).sum()"
   ]
  },
  {
   "cell_type": "code",
   "execution_count": 13,
   "metadata": {},
   "outputs": [
    {
     "data": {
      "text/plain": [
       "FILTER_frac_genome_cov    220\n",
       "FILTER_median_cov         178\n",
       "FILTER_contamination      219\n",
       "FILTER_nosexcall           25\n",
       "dtype: int64"
      ]
     },
     "execution_count": 13,
     "metadata": {},
     "output_type": "execute_result"
    }
   ],
   "source": [
    "int_fail_df[int_fail_df.columns[:4]].sum(0)"
   ]
  },
  {
   "cell_type": "code",
   "execution_count": 14,
   "metadata": {},
   "outputs": [
    {
     "data": {
      "text/plain": [
       "1180"
      ]
     },
     "execution_count": 14,
     "metadata": {},
     "output_type": "execute_result"
    }
   ],
   "source": [
    "n_fail = int_fail_df.sum(axis=0).sum()\n",
    "n_fail"
   ]
  },
  {
   "cell_type": "code",
   "execution_count": 15,
   "metadata": {},
   "outputs": [
    {
     "data": {
      "text/plain": [
       "2784"
      ]
     },
     "execution_count": 15,
     "metadata": {},
     "output_type": "execute_result"
    }
   ],
   "source": [
    "n_all_pass = (seq_df == \"PASS\").all(axis=1).sum()\n",
    "n_all_pass"
   ]
  },
  {
   "cell_type": "code",
   "execution_count": 16,
   "metadata": {},
   "outputs": [
    {
     "data": {
      "text/plain": [
       "3964"
      ]
     },
     "execution_count": 16,
     "metadata": {},
     "output_type": "execute_result"
    }
   ],
   "source": [
    "(n_all_pass + n_fail)"
   ]
  },
  {
   "cell_type": "code",
   "execution_count": 17,
   "metadata": {},
   "outputs": [
    {
     "data": {
      "text/plain": [
       "0.7023208879919274"
      ]
     },
     "execution_count": 17,
     "metadata": {},
     "output_type": "execute_result"
    }
   ],
   "source": [
    "n_all_pass / (n_all_pass + n_fail)"
   ]
  },
  {
   "cell_type": "code",
   "execution_count": 18,
   "metadata": {},
   "outputs": [],
   "source": [
    "metadata = ag3.sample_metadata(sample_sets=\"v3_wild\")"
   ]
  },
  {
   "cell_type": "code",
   "execution_count": 19,
   "metadata": {},
   "outputs": [
    {
     "data": {
      "text/plain": [
       "(2784, 17)"
      ]
     },
     "execution_count": 19,
     "metadata": {},
     "output_type": "execute_result"
    }
   ],
   "source": [
    "metadata.shape"
   ]
  },
  {
   "cell_type": "markdown",
   "metadata": {},
   "source": [
    "## What about the crosses?"
   ]
  },
  {
   "cell_type": "code",
   "execution_count": 20,
   "metadata": {},
   "outputs": [
    {
     "data": {
      "text/plain": [
       "['wgs_sequence_qc/sequence_qc_filters_{sset}.tsv',\n",
       " 'wgs_replicate_qc/replicate_qc_filters_{sset}.tsv',\n",
       " 'wgs_population_qc/anomaly_qc_filters_{sset}.tsv',\n",
       " 'wgs_population_qc/pca_qc_filters_{sset}.tsv']"
      ]
     },
     "execution_count": 20,
     "metadata": {},
     "output_type": "execute_result"
    }
   ],
   "source": [
    "qc_paths "
   ]
  },
  {
   "cell_type": "code",
   "execution_count": 21,
   "metadata": {},
   "outputs": [],
   "source": [
    "qc_paths += [\"wgs_cross_selection_qc/cross_selection_filters_{sset}.tsv\"]"
   ]
  },
  {
   "cell_type": "code",
   "execution_count": 22,
   "metadata": {},
   "outputs": [
    {
     "name": "stdout",
     "output_type": "stream",
     "text": [
      "AG1000G-X ../../vector-ops/tracking/release/v3/wgs_sequence_qc/sequence_qc_filters_AG1000G-X.tsv\n"
     ]
    }
   ],
   "source": [
    "crosses_qc = read_qc_data(\"AG1000G-X\") == \"PASS\""
   ]
  },
  {
   "cell_type": "code",
   "execution_count": 23,
   "metadata": {},
   "outputs": [
    {
     "data": {
      "text/plain": [
       "(729, 10)"
      ]
     },
     "execution_count": 23,
     "metadata": {},
     "output_type": "execute_result"
    }
   ],
   "source": [
    "crosses_qc.shape"
   ]
  },
  {
   "cell_type": "code",
   "execution_count": 24,
   "metadata": {},
   "outputs": [
    {
     "data": {
      "text/plain": [
       "298"
      ]
     },
     "execution_count": 24,
     "metadata": {},
     "output_type": "execute_result"
    }
   ],
   "source": [
    "crosses_qc[\"FILTER_cross_selected\"].sum()"
   ]
  },
  {
   "cell_type": "code",
   "execution_count": 25,
   "metadata": {},
   "outputs": [
    {
     "data": {
      "text/html": [
       "<div>\n",
       "<style scoped>\n",
       "    .dataframe tbody tr th:only-of-type {\n",
       "        vertical-align: middle;\n",
       "    }\n",
       "\n",
       "    .dataframe tbody tr th {\n",
       "        vertical-align: top;\n",
       "    }\n",
       "\n",
       "    .dataframe thead th {\n",
       "        text-align: right;\n",
       "    }\n",
       "</style>\n",
       "<table border=\"1\" class=\"dataframe\">\n",
       "  <thead>\n",
       "    <tr style=\"text-align: right;\">\n",
       "      <th></th>\n",
       "      <th>FILTER_frac_genome_cov</th>\n",
       "      <th>FILTER_median_cov</th>\n",
       "      <th>FILTER_contamination</th>\n",
       "      <th>FILTER_nosexcall</th>\n",
       "      <th>FILTER_divergence</th>\n",
       "      <th>FILTER_fail_replicateqc</th>\n",
       "      <th>FILTER_second_rep_hi_skew</th>\n",
       "      <th>FILTER_anomaly</th>\n",
       "      <th>FILTER_pca</th>\n",
       "      <th>FILTER_cross_selected</th>\n",
       "    </tr>\n",
       "    <tr>\n",
       "      <th>derived_sample_id</th>\n",
       "      <th></th>\n",
       "      <th></th>\n",
       "      <th></th>\n",
       "      <th></th>\n",
       "      <th></th>\n",
       "      <th></th>\n",
       "      <th></th>\n",
       "      <th></th>\n",
       "      <th></th>\n",
       "      <th></th>\n",
       "    </tr>\n",
       "  </thead>\n",
       "  <tbody>\n",
       "    <tr>\n",
       "      <th>AC0300-C</th>\n",
       "      <td>False</td>\n",
       "      <td>False</td>\n",
       "      <td>False</td>\n",
       "      <td>False</td>\n",
       "      <td>False</td>\n",
       "      <td>False</td>\n",
       "      <td>False</td>\n",
       "      <td>False</td>\n",
       "      <td>False</td>\n",
       "      <td>False</td>\n",
       "    </tr>\n",
       "    <tr>\n",
       "      <th>AC0301-C</th>\n",
       "      <td>False</td>\n",
       "      <td>False</td>\n",
       "      <td>False</td>\n",
       "      <td>False</td>\n",
       "      <td>False</td>\n",
       "      <td>False</td>\n",
       "      <td>False</td>\n",
       "      <td>False</td>\n",
       "      <td>False</td>\n",
       "      <td>False</td>\n",
       "    </tr>\n",
       "    <tr>\n",
       "      <th>AC0302-C</th>\n",
       "      <td>False</td>\n",
       "      <td>False</td>\n",
       "      <td>False</td>\n",
       "      <td>False</td>\n",
       "      <td>False</td>\n",
       "      <td>False</td>\n",
       "      <td>False</td>\n",
       "      <td>False</td>\n",
       "      <td>False</td>\n",
       "      <td>False</td>\n",
       "    </tr>\n",
       "    <tr>\n",
       "      <th>AC0303-C</th>\n",
       "      <td>False</td>\n",
       "      <td>False</td>\n",
       "      <td>False</td>\n",
       "      <td>False</td>\n",
       "      <td>False</td>\n",
       "      <td>False</td>\n",
       "      <td>False</td>\n",
       "      <td>False</td>\n",
       "      <td>False</td>\n",
       "      <td>False</td>\n",
       "    </tr>\n",
       "    <tr>\n",
       "      <th>AC0304-C</th>\n",
       "      <td>False</td>\n",
       "      <td>False</td>\n",
       "      <td>False</td>\n",
       "      <td>False</td>\n",
       "      <td>False</td>\n",
       "      <td>False</td>\n",
       "      <td>False</td>\n",
       "      <td>False</td>\n",
       "      <td>False</td>\n",
       "      <td>False</td>\n",
       "    </tr>\n",
       "    <tr>\n",
       "      <th>...</th>\n",
       "      <td>...</td>\n",
       "      <td>...</td>\n",
       "      <td>...</td>\n",
       "      <td>...</td>\n",
       "      <td>...</td>\n",
       "      <td>...</td>\n",
       "      <td>...</td>\n",
       "      <td>...</td>\n",
       "      <td>...</td>\n",
       "      <td>...</td>\n",
       "    </tr>\n",
       "    <tr>\n",
       "      <th>AD0494-C</th>\n",
       "      <td>False</td>\n",
       "      <td>False</td>\n",
       "      <td>False</td>\n",
       "      <td>False</td>\n",
       "      <td>False</td>\n",
       "      <td>False</td>\n",
       "      <td>False</td>\n",
       "      <td>False</td>\n",
       "      <td>False</td>\n",
       "      <td>False</td>\n",
       "    </tr>\n",
       "    <tr>\n",
       "      <th>AD0495-C</th>\n",
       "      <td>False</td>\n",
       "      <td>False</td>\n",
       "      <td>False</td>\n",
       "      <td>False</td>\n",
       "      <td>False</td>\n",
       "      <td>False</td>\n",
       "      <td>False</td>\n",
       "      <td>False</td>\n",
       "      <td>False</td>\n",
       "      <td>False</td>\n",
       "    </tr>\n",
       "    <tr>\n",
       "      <th>AD0496-C</th>\n",
       "      <td>False</td>\n",
       "      <td>False</td>\n",
       "      <td>False</td>\n",
       "      <td>False</td>\n",
       "      <td>False</td>\n",
       "      <td>False</td>\n",
       "      <td>False</td>\n",
       "      <td>False</td>\n",
       "      <td>False</td>\n",
       "      <td>False</td>\n",
       "    </tr>\n",
       "    <tr>\n",
       "      <th>AD0497-C</th>\n",
       "      <td>False</td>\n",
       "      <td>False</td>\n",
       "      <td>False</td>\n",
       "      <td>False</td>\n",
       "      <td>False</td>\n",
       "      <td>False</td>\n",
       "      <td>False</td>\n",
       "      <td>False</td>\n",
       "      <td>False</td>\n",
       "      <td>False</td>\n",
       "    </tr>\n",
       "    <tr>\n",
       "      <th>AD0498-C</th>\n",
       "      <td>False</td>\n",
       "      <td>False</td>\n",
       "      <td>False</td>\n",
       "      <td>False</td>\n",
       "      <td>False</td>\n",
       "      <td>False</td>\n",
       "      <td>False</td>\n",
       "      <td>False</td>\n",
       "      <td>False</td>\n",
       "      <td>False</td>\n",
       "    </tr>\n",
       "  </tbody>\n",
       "</table>\n",
       "<p>298 rows × 10 columns</p>\n",
       "</div>"
      ],
      "text/plain": [
       "                   FILTER_frac_genome_cov  FILTER_median_cov  \\\n",
       "derived_sample_id                                              \n",
       "AC0300-C                            False              False   \n",
       "AC0301-C                            False              False   \n",
       "AC0302-C                            False              False   \n",
       "AC0303-C                            False              False   \n",
       "AC0304-C                            False              False   \n",
       "...                                   ...                ...   \n",
       "AD0494-C                            False              False   \n",
       "AD0495-C                            False              False   \n",
       "AD0496-C                            False              False   \n",
       "AD0497-C                            False              False   \n",
       "AD0498-C                            False              False   \n",
       "\n",
       "                   FILTER_contamination  FILTER_nosexcall  FILTER_divergence  \\\n",
       "derived_sample_id                                                              \n",
       "AC0300-C                          False             False              False   \n",
       "AC0301-C                          False             False              False   \n",
       "AC0302-C                          False             False              False   \n",
       "AC0303-C                          False             False              False   \n",
       "AC0304-C                          False             False              False   \n",
       "...                                 ...               ...                ...   \n",
       "AD0494-C                          False             False              False   \n",
       "AD0495-C                          False             False              False   \n",
       "AD0496-C                          False             False              False   \n",
       "AD0497-C                          False             False              False   \n",
       "AD0498-C                          False             False              False   \n",
       "\n",
       "                   FILTER_fail_replicateqc  FILTER_second_rep_hi_skew  \\\n",
       "derived_sample_id                                                       \n",
       "AC0300-C                             False                      False   \n",
       "AC0301-C                             False                      False   \n",
       "AC0302-C                             False                      False   \n",
       "AC0303-C                             False                      False   \n",
       "AC0304-C                             False                      False   \n",
       "...                                    ...                        ...   \n",
       "AD0494-C                             False                      False   \n",
       "AD0495-C                             False                      False   \n",
       "AD0496-C                             False                      False   \n",
       "AD0497-C                             False                      False   \n",
       "AD0498-C                             False                      False   \n",
       "\n",
       "                   FILTER_anomaly  FILTER_pca  FILTER_cross_selected  \n",
       "derived_sample_id                                                     \n",
       "AC0300-C                    False       False                  False  \n",
       "AC0301-C                    False       False                  False  \n",
       "AC0302-C                    False       False                  False  \n",
       "AC0303-C                    False       False                  False  \n",
       "AC0304-C                    False       False                  False  \n",
       "...                           ...         ...                    ...  \n",
       "AD0494-C                    False       False                  False  \n",
       "AD0495-C                    False       False                  False  \n",
       "AD0496-C                    False       False                  False  \n",
       "AD0497-C                    False       False                  False  \n",
       "AD0498-C                    False       False                  False  \n",
       "\n",
       "[298 rows x 10 columns]"
      ]
     },
     "execution_count": 25,
     "metadata": {},
     "output_type": "execute_result"
    }
   ],
   "source": [
    "(crosses_qc.query(\"FILTER_cross_selected\") == \"FAIL\")"
   ]
  },
  {
   "cell_type": "code",
   "execution_count": 26,
   "metadata": {},
   "outputs": [],
   "source": [
    "x_meta = ag3.sample_metadata(\"AG1000G-X\")"
   ]
  },
  {
   "cell_type": "code",
   "execution_count": 27,
   "metadata": {},
   "outputs": [
    {
     "data": {
      "text/plain": [
       "(297, 17)"
      ]
     },
     "execution_count": 27,
     "metadata": {},
     "output_type": "execute_result"
    }
   ],
   "source": [
    "x_meta.shape"
   ]
  },
  {
   "cell_type": "code",
   "execution_count": 28,
   "metadata": {},
   "outputs": [
    {
     "data": {
      "text/plain": [
       "3081"
      ]
     },
     "execution_count": 28,
     "metadata": {},
     "output_type": "execute_result"
    }
   ],
   "source": [
    "metadata.shape[0] + x_meta.shape[0]"
   ]
  },
  {
   "cell_type": "code",
   "execution_count": 29,
   "metadata": {},
   "outputs": [
    {
     "data": {
      "text/plain": [
       "1939"
      ]
     },
     "execution_count": 29,
     "metadata": {},
     "output_type": "execute_result"
    }
   ],
   "source": [
    "3081 - 1142"
   ]
  },
  {
   "cell_type": "markdown",
   "metadata": {},
   "source": [
    "## What happened to samples in phase 2?"
   ]
  },
  {
   "cell_type": "code",
   "execution_count": 30,
   "metadata": {},
   "outputs": [],
   "source": [
    "phase2_samples = pd.read_csv(\"../data/phase2_samples.meta.txt\", sep=\"\\t\", index_col=0)"
   ]
  },
  {
   "cell_type": "code",
   "execution_count": 31,
   "metadata": {},
   "outputs": [
    {
     "data": {
      "text/plain": [
       "FILTER_frac_genome_cov         0\n",
       "FILTER_median_cov              0\n",
       "FILTER_contamination           0\n",
       "FILTER_nosexcall               1\n",
       "FILTER_divergence              0\n",
       "FILTER_fail_replicateqc        4\n",
       "FILTER_second_rep_hi_skew    172\n",
       "FILTER_anomaly                 0\n",
       "FILTER_pca                     4\n",
       "dtype: int64"
      ]
     },
     "execution_count": 31,
     "metadata": {},
     "output_type": "execute_result"
    }
   ],
   "source": [
    "phase2_filter_reasons = int_fail_df.loc[phase2_samples.index]\n",
    "phase2_filter_reasons.sum(0)\n"
   ]
  },
  {
   "cell_type": "code",
   "execution_count": 32,
   "metadata": {},
   "outputs": [
    {
     "data": {
      "text/html": [
       "<div>\n",
       "<style scoped>\n",
       "    .dataframe tbody tr th:only-of-type {\n",
       "        vertical-align: middle;\n",
       "    }\n",
       "\n",
       "    .dataframe tbody tr th {\n",
       "        vertical-align: top;\n",
       "    }\n",
       "\n",
       "    .dataframe thead th {\n",
       "        text-align: right;\n",
       "    }\n",
       "</style>\n",
       "<table border=\"1\" class=\"dataframe\">\n",
       "  <thead>\n",
       "    <tr style=\"text-align: right;\">\n",
       "      <th></th>\n",
       "      <th>FILTER_frac_genome_cov</th>\n",
       "      <th>FILTER_median_cov</th>\n",
       "      <th>FILTER_contamination</th>\n",
       "      <th>FILTER_nosexcall</th>\n",
       "      <th>FILTER_divergence</th>\n",
       "      <th>FILTER_fail_replicateqc</th>\n",
       "      <th>FILTER_second_rep_hi_skew</th>\n",
       "      <th>FILTER_anomaly</th>\n",
       "      <th>FILTER_pca</th>\n",
       "    </tr>\n",
       "    <tr>\n",
       "      <th>ox_code</th>\n",
       "      <th></th>\n",
       "      <th></th>\n",
       "      <th></th>\n",
       "      <th></th>\n",
       "      <th></th>\n",
       "      <th></th>\n",
       "      <th></th>\n",
       "      <th></th>\n",
       "      <th></th>\n",
       "    </tr>\n",
       "  </thead>\n",
       "  <tbody>\n",
       "    <tr>\n",
       "      <th>AB0085-C</th>\n",
       "      <td>False</td>\n",
       "      <td>False</td>\n",
       "      <td>False</td>\n",
       "      <td>False</td>\n",
       "      <td>False</td>\n",
       "      <td>False</td>\n",
       "      <td>True</td>\n",
       "      <td>False</td>\n",
       "      <td>False</td>\n",
       "    </tr>\n",
       "    <tr>\n",
       "      <th>AB0171-C</th>\n",
       "      <td>False</td>\n",
       "      <td>False</td>\n",
       "      <td>False</td>\n",
       "      <td>False</td>\n",
       "      <td>False</td>\n",
       "      <td>False</td>\n",
       "      <td>True</td>\n",
       "      <td>False</td>\n",
       "      <td>False</td>\n",
       "    </tr>\n",
       "    <tr>\n",
       "      <th>AB0172-C</th>\n",
       "      <td>False</td>\n",
       "      <td>False</td>\n",
       "      <td>False</td>\n",
       "      <td>False</td>\n",
       "      <td>False</td>\n",
       "      <td>False</td>\n",
       "      <td>True</td>\n",
       "      <td>False</td>\n",
       "      <td>False</td>\n",
       "    </tr>\n",
       "    <tr>\n",
       "      <th>AB0175-C</th>\n",
       "      <td>False</td>\n",
       "      <td>False</td>\n",
       "      <td>False</td>\n",
       "      <td>False</td>\n",
       "      <td>False</td>\n",
       "      <td>False</td>\n",
       "      <td>True</td>\n",
       "      <td>False</td>\n",
       "      <td>False</td>\n",
       "    </tr>\n",
       "    <tr>\n",
       "      <th>AB0176-C</th>\n",
       "      <td>False</td>\n",
       "      <td>False</td>\n",
       "      <td>False</td>\n",
       "      <td>False</td>\n",
       "      <td>False</td>\n",
       "      <td>False</td>\n",
       "      <td>True</td>\n",
       "      <td>False</td>\n",
       "      <td>False</td>\n",
       "    </tr>\n",
       "  </tbody>\n",
       "</table>\n",
       "</div>"
      ],
      "text/plain": [
       "          FILTER_frac_genome_cov  FILTER_median_cov  FILTER_contamination  \\\n",
       "ox_code                                                                     \n",
       "AB0085-C                   False              False                 False   \n",
       "AB0171-C                   False              False                 False   \n",
       "AB0172-C                   False              False                 False   \n",
       "AB0175-C                   False              False                 False   \n",
       "AB0176-C                   False              False                 False   \n",
       "\n",
       "          FILTER_nosexcall  FILTER_divergence  FILTER_fail_replicateqc  \\\n",
       "ox_code                                                                  \n",
       "AB0085-C             False              False                    False   \n",
       "AB0171-C             False              False                    False   \n",
       "AB0172-C             False              False                    False   \n",
       "AB0175-C             False              False                    False   \n",
       "AB0176-C             False              False                    False   \n",
       "\n",
       "          FILTER_second_rep_hi_skew  FILTER_anomaly  FILTER_pca  \n",
       "ox_code                                                          \n",
       "AB0085-C                       True           False       False  \n",
       "AB0171-C                       True           False       False  \n",
       "AB0172-C                       True           False       False  \n",
       "AB0175-C                       True           False       False  \n",
       "AB0176-C                       True           False       False  "
      ]
     },
     "execution_count": 32,
     "metadata": {},
     "output_type": "execute_result"
    }
   ],
   "source": [
    "# find an example of a phase 2 samples that failed 2nd replicate filter and check makes sense.\n",
    "phase2_filter_reasons.query(\"FILTER_second_rep_hi_skew\").head()"
   ]
  },
  {
   "cell_type": "code",
   "execution_count": 33,
   "metadata": {},
   "outputs": [
    {
     "data": {
      "text/html": [
       "<div>\n",
       "<style scoped>\n",
       "    .dataframe tbody tr th:only-of-type {\n",
       "        vertical-align: middle;\n",
       "    }\n",
       "\n",
       "    .dataframe tbody tr th {\n",
       "        vertical-align: top;\n",
       "    }\n",
       "\n",
       "    .dataframe thead th {\n",
       "        text-align: right;\n",
       "    }\n",
       "</style>\n",
       "<table border=\"1\" class=\"dataframe\">\n",
       "  <thead>\n",
       "    <tr style=\"text-align: right;\">\n",
       "      <th></th>\n",
       "      <th>FILTER_frac_genome_cov</th>\n",
       "      <th>FILTER_median_cov</th>\n",
       "      <th>FILTER_contamination</th>\n",
       "      <th>FILTER_nosexcall</th>\n",
       "      <th>FILTER_divergence</th>\n",
       "      <th>FILTER_fail_replicateqc</th>\n",
       "      <th>FILTER_second_rep_hi_skew</th>\n",
       "      <th>FILTER_anomaly</th>\n",
       "      <th>FILTER_pca</th>\n",
       "    </tr>\n",
       "    <tr>\n",
       "      <th>derived_sample_id</th>\n",
       "      <th></th>\n",
       "      <th></th>\n",
       "      <th></th>\n",
       "      <th></th>\n",
       "      <th></th>\n",
       "      <th></th>\n",
       "      <th></th>\n",
       "      <th></th>\n",
       "      <th></th>\n",
       "    </tr>\n",
       "  </thead>\n",
       "  <tbody>\n",
       "    <tr>\n",
       "      <th>AB0085-C</th>\n",
       "      <td>PASS</td>\n",
       "      <td>PASS</td>\n",
       "      <td>PASS</td>\n",
       "      <td>PASS</td>\n",
       "      <td>PASS</td>\n",
       "      <td>PASS</td>\n",
       "      <td>FAIL</td>\n",
       "      <td>PASS</td>\n",
       "      <td>PASS</td>\n",
       "    </tr>\n",
       "    <tr>\n",
       "      <th>AB0085-Cx</th>\n",
       "      <td>PASS</td>\n",
       "      <td>PASS</td>\n",
       "      <td>PASS</td>\n",
       "      <td>PASS</td>\n",
       "      <td>PASS</td>\n",
       "      <td>PASS</td>\n",
       "      <td>PASS</td>\n",
       "      <td>PASS</td>\n",
       "      <td>PASS</td>\n",
       "    </tr>\n",
       "  </tbody>\n",
       "</table>\n",
       "</div>"
      ],
      "text/plain": [
       "                  FILTER_frac_genome_cov FILTER_median_cov  \\\n",
       "derived_sample_id                                            \n",
       "AB0085-C                            PASS              PASS   \n",
       "AB0085-Cx                           PASS              PASS   \n",
       "\n",
       "                  FILTER_contamination FILTER_nosexcall FILTER_divergence  \\\n",
       "derived_sample_id                                                           \n",
       "AB0085-C                          PASS             PASS              PASS   \n",
       "AB0085-Cx                         PASS             PASS              PASS   \n",
       "\n",
       "                  FILTER_fail_replicateqc FILTER_second_rep_hi_skew  \\\n",
       "derived_sample_id                                                     \n",
       "AB0085-C                             PASS                      FAIL   \n",
       "AB0085-Cx                            PASS                      PASS   \n",
       "\n",
       "                  FILTER_anomaly FILTER_pca  \n",
       "derived_sample_id                            \n",
       "AB0085-C                    PASS       PASS  \n",
       "AB0085-Cx                   PASS       PASS  "
      ]
     },
     "execution_count": 33,
     "metadata": {},
     "output_type": "execute_result"
    }
   ],
   "source": [
    "seq_df.loc[[\"AB0085-C\", \"AB0085-Cx\"]]"
   ]
  },
  {
   "cell_type": "code",
   "execution_count": 34,
   "metadata": {},
   "outputs": [
    {
     "data": {
      "text/html": [
       "<div>\n",
       "<style scoped>\n",
       "    .dataframe tbody tr th:only-of-type {\n",
       "        vertical-align: middle;\n",
       "    }\n",
       "\n",
       "    .dataframe tbody tr th {\n",
       "        vertical-align: top;\n",
       "    }\n",
       "\n",
       "    .dataframe thead th {\n",
       "        text-align: right;\n",
       "    }\n",
       "</style>\n",
       "<table border=\"1\" class=\"dataframe\">\n",
       "  <thead>\n",
       "    <tr style=\"text-align: right;\">\n",
       "      <th></th>\n",
       "      <th>FILTER_frac_genome_cov</th>\n",
       "      <th>FILTER_median_cov</th>\n",
       "      <th>FILTER_contamination</th>\n",
       "      <th>FILTER_nosexcall</th>\n",
       "      <th>FILTER_divergence</th>\n",
       "      <th>FILTER_fail_replicateqc</th>\n",
       "      <th>FILTER_second_rep_hi_skew</th>\n",
       "      <th>FILTER_anomaly</th>\n",
       "      <th>FILTER_pca</th>\n",
       "    </tr>\n",
       "    <tr>\n",
       "      <th>derived_sample_id</th>\n",
       "      <th></th>\n",
       "      <th></th>\n",
       "      <th></th>\n",
       "      <th></th>\n",
       "      <th></th>\n",
       "      <th></th>\n",
       "      <th></th>\n",
       "      <th></th>\n",
       "      <th></th>\n",
       "    </tr>\n",
       "  </thead>\n",
       "  <tbody>\n",
       "    <tr>\n",
       "      <th>AB0171-C</th>\n",
       "      <td>PASS</td>\n",
       "      <td>PASS</td>\n",
       "      <td>PASS</td>\n",
       "      <td>PASS</td>\n",
       "      <td>PASS</td>\n",
       "      <td>PASS</td>\n",
       "      <td>FAIL</td>\n",
       "      <td>PASS</td>\n",
       "      <td>PASS</td>\n",
       "    </tr>\n",
       "    <tr>\n",
       "      <th>AB0171-Cx</th>\n",
       "      <td>PASS</td>\n",
       "      <td>PASS</td>\n",
       "      <td>PASS</td>\n",
       "      <td>PASS</td>\n",
       "      <td>PASS</td>\n",
       "      <td>PASS</td>\n",
       "      <td>PASS</td>\n",
       "      <td>PASS</td>\n",
       "      <td>PASS</td>\n",
       "    </tr>\n",
       "  </tbody>\n",
       "</table>\n",
       "</div>"
      ],
      "text/plain": [
       "                  FILTER_frac_genome_cov FILTER_median_cov  \\\n",
       "derived_sample_id                                            \n",
       "AB0171-C                            PASS              PASS   \n",
       "AB0171-Cx                           PASS              PASS   \n",
       "\n",
       "                  FILTER_contamination FILTER_nosexcall FILTER_divergence  \\\n",
       "derived_sample_id                                                           \n",
       "AB0171-C                          PASS             PASS              PASS   \n",
       "AB0171-Cx                         PASS             PASS              PASS   \n",
       "\n",
       "                  FILTER_fail_replicateqc FILTER_second_rep_hi_skew  \\\n",
       "derived_sample_id                                                     \n",
       "AB0171-C                             PASS                      FAIL   \n",
       "AB0171-Cx                            PASS                      PASS   \n",
       "\n",
       "                  FILTER_anomaly FILTER_pca  \n",
       "derived_sample_id                            \n",
       "AB0171-C                    PASS       PASS  \n",
       "AB0171-Cx                   PASS       PASS  "
      ]
     },
     "execution_count": 34,
     "metadata": {},
     "output_type": "execute_result"
    }
   ],
   "source": [
    "seq_df.loc[[\"AB0171-C\", \"AB0171-Cx\"]]"
   ]
  },
  {
   "cell_type": "code",
   "execution_count": 35,
   "metadata": {},
   "outputs": [
    {
     "data": {
      "text/html": [
       "<div>\n",
       "<style scoped>\n",
       "    .dataframe tbody tr th:only-of-type {\n",
       "        vertical-align: middle;\n",
       "    }\n",
       "\n",
       "    .dataframe tbody tr th {\n",
       "        vertical-align: top;\n",
       "    }\n",
       "\n",
       "    .dataframe thead th {\n",
       "        text-align: right;\n",
       "    }\n",
       "</style>\n",
       "<table border=\"1\" class=\"dataframe\">\n",
       "  <thead>\n",
       "    <tr style=\"text-align: right;\">\n",
       "      <th></th>\n",
       "      <th>FILTER_frac_genome_cov</th>\n",
       "      <th>FILTER_median_cov</th>\n",
       "      <th>FILTER_contamination</th>\n",
       "      <th>FILTER_nosexcall</th>\n",
       "      <th>FILTER_divergence</th>\n",
       "      <th>FILTER_fail_replicateqc</th>\n",
       "      <th>FILTER_second_rep_hi_skew</th>\n",
       "      <th>FILTER_anomaly</th>\n",
       "      <th>FILTER_pca</th>\n",
       "    </tr>\n",
       "    <tr>\n",
       "      <th>derived_sample_id</th>\n",
       "      <th></th>\n",
       "      <th></th>\n",
       "      <th></th>\n",
       "      <th></th>\n",
       "      <th></th>\n",
       "      <th></th>\n",
       "      <th></th>\n",
       "      <th></th>\n",
       "      <th></th>\n",
       "    </tr>\n",
       "  </thead>\n",
       "  <tbody>\n",
       "    <tr>\n",
       "      <th>AB0176-C</th>\n",
       "      <td>PASS</td>\n",
       "      <td>PASS</td>\n",
       "      <td>PASS</td>\n",
       "      <td>PASS</td>\n",
       "      <td>PASS</td>\n",
       "      <td>PASS</td>\n",
       "      <td>FAIL</td>\n",
       "      <td>PASS</td>\n",
       "      <td>PASS</td>\n",
       "    </tr>\n",
       "    <tr>\n",
       "      <th>AB0176-Cx</th>\n",
       "      <td>PASS</td>\n",
       "      <td>PASS</td>\n",
       "      <td>PASS</td>\n",
       "      <td>PASS</td>\n",
       "      <td>PASS</td>\n",
       "      <td>PASS</td>\n",
       "      <td>PASS</td>\n",
       "      <td>PASS</td>\n",
       "      <td>PASS</td>\n",
       "    </tr>\n",
       "  </tbody>\n",
       "</table>\n",
       "</div>"
      ],
      "text/plain": [
       "                  FILTER_frac_genome_cov FILTER_median_cov  \\\n",
       "derived_sample_id                                            \n",
       "AB0176-C                            PASS              PASS   \n",
       "AB0176-Cx                           PASS              PASS   \n",
       "\n",
       "                  FILTER_contamination FILTER_nosexcall FILTER_divergence  \\\n",
       "derived_sample_id                                                           \n",
       "AB0176-C                          PASS             PASS              PASS   \n",
       "AB0176-Cx                         PASS             PASS              PASS   \n",
       "\n",
       "                  FILTER_fail_replicateqc FILTER_second_rep_hi_skew  \\\n",
       "derived_sample_id                                                     \n",
       "AB0176-C                             PASS                      FAIL   \n",
       "AB0176-Cx                            PASS                      PASS   \n",
       "\n",
       "                  FILTER_anomaly FILTER_pca  \n",
       "derived_sample_id                            \n",
       "AB0176-C                    PASS       PASS  \n",
       "AB0176-Cx                   PASS       PASS  "
      ]
     },
     "execution_count": 35,
     "metadata": {},
     "output_type": "execute_result"
    }
   ],
   "source": [
    "seq_df.loc[[\"AB0176-C\", \"AB0176-Cx\"]]"
   ]
  }
 ],
 "metadata": {
  "kernelspec": {
   "display_name": "Python 3",
   "language": "python",
   "name": "python3"
  },
  "language_info": {
   "codemirror_mode": {
    "name": "ipython",
    "version": 3
   },
   "file_extension": ".py",
   "mimetype": "text/x-python",
   "name": "python",
   "nbconvert_exporter": "python",
   "pygments_lexer": "ipython3",
   "version": "3.8.3"
  }
 },
 "nbformat": 4,
 "nbformat_minor": 4
}
