{
 "cells": [
  {
   "cell_type": "code",
   "execution_count": 1,
   "metadata": {},
   "outputs": [],
   "source": [
    "import zarr\n",
    "import allel\n",
    "import numpy as np\n",
    "import pandas as pd\n",
    "import matplotlib.pyplot as plt\n",
    "import seaborn as sns\n",
    "%matplotlib inline"
   ]
  },
  {
   "cell_type": "code",
   "execution_count": 2,
   "metadata": {},
   "outputs": [
    {
     "name": "stderr",
     "output_type": "stream",
     "text": [
      "/opt/conda/lib/python3.7/site-packages/dask/dataframe/utils.py:14: FutureWarning: pandas.util.testing is deprecated. Use the functions in the public API at pandas.testing instead.\n",
      "  import pandas.util.testing as tm\n"
     ]
    }
   ],
   "source": [
    "from ag3 import release_data"
   ]
  },
  {
   "cell_type": "code",
   "execution_count": 3,
   "metadata": {},
   "outputs": [],
   "source": [
    "v3 = release_data()"
   ]
  },
  {
   "cell_type": "code",
   "execution_count": 4,
   "metadata": {},
   "outputs": [],
   "source": [
    "import fsspec\n",
    "\n",
    "import gcsfs"
   ]
  },
  {
   "cell_type": "code",
   "execution_count": 5,
   "metadata": {},
   "outputs": [],
   "source": [
    "gcsfs.core.client_config['installed']['client_id'] = '160816776314-7h1p2h6bqhe77vs1su4rr22fblso9dre.apps.googleusercontent.com'\n",
    "gcsfs.core.client_config['installed']['client_secret'] = 'SrJUwD58yKgViyJtw-NP2sz8'"
   ]
  },
  {
   "cell_type": "code",
   "execution_count": 6,
   "metadata": {},
   "outputs": [],
   "source": [
    "# create a GCSFileSystem just for the purpose of authentication\n",
    "gcs_orig = gcsfs.GCSFileSystem(project='malariagen-jupyterhub', token='cache', cache_timeout=0)\n",
    "\n",
    "# create another one with those credentials\n",
    "gcs =  gcsfs.GCSFileSystem(project='malariagen-jupyterhub', token=gcs_orig.session.credentials, cache_timeout=0)"
   ]
  },
  {
   "cell_type": "code",
   "execution_count": 7,
   "metadata": {},
   "outputs": [],
   "source": [
    "aim_path = 'gs://vo_agam_production/aim_results/{sample_set}.zarr'"
   ]
  },
  {
   "cell_type": "markdown",
   "metadata": {},
   "source": [
    "## Overview\n",
    "\n",
    "- Step 1 given large number of AIMs, lets be more discerning and filter them.\n",
    "\n",
    "What are the frequencies of each allele in gamb_colu, and arabiensis?"
   ]
  },
  {
   "cell_type": "code",
   "execution_count": 8,
   "metadata": {},
   "outputs": [],
   "source": [
    "import dask.array as da"
   ]
  },
  {
   "cell_type": "code",
   "execution_count": 63,
   "metadata": {},
   "outputs": [],
   "source": [
    "chromosomes = \"2R\", \"2L\", \"3R\", \"3L\", \"X\""
   ]
  },
  {
   "cell_type": "code",
   "execution_count": 57,
   "metadata": {},
   "outputs": [
    {
     "name": "stderr",
     "output_type": "stream",
     "text": [
      "/opt/conda/lib/python3.7/site-packages/pandas/core/computation/expressions.py:68: FutureWarning: elementwise comparison failed; returning scalar instead, but in the future will perform elementwise comparison\n",
      "  return op(a, b)\n",
      "/opt/conda/lib/python3.7/site-packages/pandas/core/computation/expressions.py:68: FutureWarning: elementwise comparison failed; returning scalar instead, but in the future will perform elementwise comparison\n",
      "  return op(a, b)\n",
      "/opt/conda/lib/python3.7/site-packages/pandas/core/computation/expressions.py:68: FutureWarning: elementwise comparison failed; returning scalar instead, but in the future will perform elementwise comparison\n",
      "  return op(a, b)\n",
      "/opt/conda/lib/python3.7/site-packages/pandas/core/computation/expressions.py:68: FutureWarning: elementwise comparison failed; returning scalar instead, but in the future will perform elementwise comparison\n",
      "  return op(a, b)\n",
      "/opt/conda/lib/python3.7/site-packages/pandas/core/computation/expressions.py:68: FutureWarning: elementwise comparison failed; returning scalar instead, but in the future will perform elementwise comparison\n",
      "  return op(a, b)\n",
      "/opt/conda/lib/python3.7/site-packages/pandas/core/computation/expressions.py:68: FutureWarning: elementwise comparison failed; returning scalar instead, but in the future will perform elementwise comparison\n",
      "  return op(a, b)\n",
      "/opt/conda/lib/python3.7/site-packages/pandas/core/computation/expressions.py:68: FutureWarning: elementwise comparison failed; returning scalar instead, but in the future will perform elementwise comparison\n",
      "  return op(a, b)\n",
      "/opt/conda/lib/python3.7/site-packages/pandas/core/computation/expressions.py:68: FutureWarning: elementwise comparison failed; returning scalar instead, but in the future will perform elementwise comparison\n",
      "  return op(a, b)\n",
      "/opt/conda/lib/python3.7/site-packages/pandas/core/computation/expressions.py:68: FutureWarning: elementwise comparison failed; returning scalar instead, but in the future will perform elementwise comparison\n",
      "  return op(a, b)\n",
      "/opt/conda/lib/python3.7/site-packages/pandas/core/computation/expressions.py:68: FutureWarning: elementwise comparison failed; returning scalar instead, but in the future will perform elementwise comparison\n",
      "  return op(a, b)\n"
     ]
    }
   ],
   "source": [
    "# loop through all samplesets and chromosomes\n",
    "keep_aim = {}\n",
    "for chrom in chromosomes:\n",
    "    ac_arabiensis = []\n",
    "    ac_gambiae = []\n",
    "    for sample_set in v3.all_wild_sample_sets:\n",
    "\n",
    "        aim_store = fsspec.get_mapper(aim_path.format(sample_set=sample_set))\n",
    "        aim_data = zarr.open_consolidated(aim_store)\n",
    "\n",
    "        metadata = v3.load_sample_set_metadata(sample_set)\n",
    "\n",
    "        subpops = metadata.groupby([\"species_gambcolu_arabiensis\"]).indices\n",
    "\n",
    "        g = allel.GenotypeArray(da.from_zarr(aim_data[\"gambcolu_vs_arab\"][chrom][\"GT_AIM\"]).compute())\n",
    "\n",
    "        ac = g.count_alleles_subpops(subpops)\n",
    "\n",
    "        try:\n",
    "            ac_arabiensis.append(ac[\"arabiensis\"])\n",
    "        except KeyError:\n",
    "            pass\n",
    "\n",
    "        try:\n",
    "            ac_gambiae.append(ac[\"gamb_colu\"])\n",
    "        except KeyError:\n",
    "            pass\n",
    "\n",
    "    ac_gambcolu = allel.AlleleCountsArray(np.stack(ac_gambiae, axis=2).sum(axis=2))\n",
    "    alt_freq_gamb_colu = ac_gambcolu.to_frequencies()[:, 1]\n",
    "\n",
    "    ac_arab = allel.AlleleCountsArray(np.stack(ac_arabiensis, axis=2).sum(axis=2))\n",
    "    alt_freq_arab = ac_arab.to_frequencies()[:, 1]\n",
    "\n",
    "    if chrom == \"X\":\n",
    "        keep_aim[chrom] = (alt_freq_arab >= 0.8) & (np.random.random(alt_freq_arab.shape[0]) > 0.9)\n",
    "    else:\n",
    "        keep_aim[chrom] = alt_freq_arab >= 0.8"
   ]
  },
  {
   "cell_type": "code",
   "execution_count": 58,
   "metadata": {},
   "outputs": [
    {
     "data": {
      "text/plain": [
       "[1658, 1439, 2176, 1981, 2439]"
      ]
     },
     "execution_count": 58,
     "metadata": {},
     "output_type": "execute_result"
    }
   ],
   "source": [
    "aims_per_chrom = [keep_aim[chrom].sum() for chrom in chromosomes]\n",
    "aims_per_chrom"
   ]
  },
  {
   "cell_type": "code",
   "execution_count": 59,
   "metadata": {},
   "outputs": [],
   "source": [
    "sample_set_sizes = [v3.load_sample_set_calldata(\"X\", sample_set).shape[1] for sample_set in v3.all_wild_sample_sets]"
   ]
  },
  {
   "cell_type": "code",
   "execution_count": 60,
   "metadata": {},
   "outputs": [],
   "source": [
    "from matplotlib.gridspec import GridSpec"
   ]
  },
  {
   "cell_type": "code",
   "execution_count": null,
   "metadata": {},
   "outputs": [
    {
     "name": "stderr",
     "output_type": "stream",
     "text": [
      "/opt/conda/lib/python3.7/site-packages/pandas/core/computation/expressions.py:68: FutureWarning: elementwise comparison failed; returning scalar instead, but in the future will perform elementwise comparison\n",
      "  return op(a, b)\n",
      "/opt/conda/lib/python3.7/site-packages/pandas/core/computation/expressions.py:68: FutureWarning: elementwise comparison failed; returning scalar instead, but in the future will perform elementwise comparison\n",
      "  return op(a, b)\n"
     ]
    }
   ],
   "source": [
    "# now compress the AIMs by the keep list, and plot.\n",
    "\n",
    "# loop through all samplesets.\n",
    "fig = plt.figure(figsize=(20, 15))\n",
    "\n",
    "gs = GridSpec(nrows=len(v3.all_wild_sample_sets), ncols=len(chromosomes), height_ratios=sample_set_sizes, width_ratios=aims_per_chrom)\n",
    "\n",
    "for i, sample_set in enumerate(v3.all_wild_sample_sets):\n",
    "    \n",
    "    aim_store = fsspec.get_mapper(aim_path.format(sample_set=sample_set))\n",
    "    aim_data = zarr.open_consolidated(aim_store)\n",
    "\n",
    "    metadata = v3.load_sample_set_metadata(sample_set)\n",
    "\n",
    "    subpops = metadata.groupby([\"species_gambcolu_arabiensis\"]).indices\n",
    "    \n",
    "    for j, chrom in enumerate(chromosomes):\n",
    "\n",
    "        g = allel.GenotypeArray(da.from_zarr(aim_data[\"gambcolu_vs_arab\"][chrom][\"GT_AIM\"]).compute()).compress(keep_aim[chrom], axis=0)\n",
    "\n",
    "        nalt = g.to_n_alt()\n",
    "        # sort by n_arab alleles.\n",
    "\n",
    "        count_arab_alleles = nalt.sum(axis=0)\n",
    "\n",
    "        ix = np.argsort(count_arab_alleles)\n",
    "        nalt_sorted = np.take(nalt, ix, axis=1)\n",
    "\n",
    "        ax = fig.add_subplot(gs[i, j])\n",
    "        ax.pcolormesh(nalt_sorted.T, cmap=\"Dark2\")\n",
    "        ax.set_yticks([])\n",
    "        ax.set_xticks([])\n",
    "        if chrom == \"2R\":\n",
    "            ax.set_ylabel(sample_set, rotation=0, horizontalalignment=\"right\", verticalalignment=\"center\")\n",
    "            \n",
    "fig.savefig(\"../content/images/aim/gambcolu_vs_arabiensis_aim.png\", dpi=200)"
   ]
  },
  {
   "cell_type": "code",
   "execution_count": null,
   "metadata": {},
   "outputs": [],
   "source": []
  }
 ],
 "metadata": {
  "kernelspec": {
   "display_name": "Python 3",
   "language": "python",
   "name": "python3"
  },
  "language_info": {
   "codemirror_mode": {
    "name": "ipython",
    "version": 3
   },
   "file_extension": ".py",
   "mimetype": "text/x-python",
   "name": "python",
   "nbconvert_exporter": "python",
   "pygments_lexer": "ipython3",
   "version": "3.7.6"
  }
 },
 "nbformat": 4,
 "nbformat_minor": 4
}
