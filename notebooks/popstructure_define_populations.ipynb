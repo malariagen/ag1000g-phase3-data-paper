{
 "cells": [
  {
   "cell_type": "markdown",
   "metadata": {},
   "source": [
    "## Overview\n",
    "\n",
    "Using `bokeh` to define populations for later structure investigation.\n",
    "\n",
    "Broadly, in theory a population is a freely breeding set of individuals. In practice, it is a set of individuals from the same location which are members of the same species. The idea of location is wooly, but broadly within 50km, and there being an absence of PCA structure within the region.\n",
    "\n",
    "Logically, the way to approach this is to:\n",
    "\n",
    "1. Look for pairs/sets of locations very close and collapse.\n",
    "\n",
    "2. For groups assign a new species, ie intermediate/gam/col/arab. \n",
    "\n",
    "3. look at groupby location/species/year and see where we can take a single set. ie >= 10.\n",
    "\n",
    "4. Assign \"unique\" locations numeric IDs.\n",
    "\n",
    "5. Assign samples to groups based on 4 "
   ]
  },
  {
   "cell_type": "code",
   "execution_count": 1,
   "metadata": {},
   "outputs": [],
   "source": [
    "import gcsfs\n",
    "import numpy as np\n",
    "import allel\n",
    "import yaml\n",
    "import zarr\n",
    "import pandas as pd"
   ]
  },
  {
   "cell_type": "code",
   "execution_count": 2,
   "metadata": {},
   "outputs": [],
   "source": [
    "# let's try bokeh...\n",
    "# imports required for `bokeh`\n",
    "from bokeh.plotting import figure, show, ColumnDataSource, output_file\n",
    "import matplotlib as mpl\n",
    "import seaborn as sns\n",
    "from bokeh.layouts import gridplot"
   ]
  },
  {
   "cell_type": "code",
   "execution_count": 3,
   "metadata": {},
   "outputs": [],
   "source": [
    "# imports needed for clustering\n",
    "from scipy.spatial.distance import _convert_to_double\n",
    "import scipy.spatial.distance as distance\n",
    "from scipy.cluster.hierarchy import linkage, dendrogram, fcluster\n",
    "from cartopy.geodesic import Geodesic\n",
    "from itertools import combinations"
   ]
  },
  {
   "cell_type": "code",
   "execution_count": 4,
   "metadata": {},
   "outputs": [
    {
     "name": "stderr",
     "output_type": "stream",
     "text": [
      "/opt/conda/lib/python3.7/site-packages/dask/dataframe/utils.py:14: FutureWarning: pandas.util.testing is deprecated. Use the functions in the public API at pandas.testing instead.\n",
      "  import pandas.util.testing as tm\n"
     ]
    }
   ],
   "source": [
    "from ag3 import release_data\n",
    "v3 = release_data()"
   ]
  },
  {
   "cell_type": "code",
   "execution_count": 5,
   "metadata": {},
   "outputs": [],
   "source": [
    "minimum_population_size = 10\n",
    "threshold_cluster_distance_km = 50"
   ]
  },
  {
   "cell_type": "code",
   "execution_count": 6,
   "metadata": {},
   "outputs": [],
   "source": [
    "country_id_codes = {\n",
    "    \"Angola\": \"ANG\",\n",
    "    \"Burkina Faso\": \"BUF\",\n",
    "    \"Cameroon\": \"CMN\",\n",
    "    \"Central African Republic\": \"CAR\",\n",
    "    \"Cote d'Ivoire\": \"CIV\",\n",
    "    \"Democratic Republic of Congo\": \"DRC\",\n",
    "    \"Gabon\": \"GAB\",\n",
    "    \"Gambia, The\": \"GAM\",\n",
    "    \"Ghana\": \"GHA\",\n",
    "    \"Guinea\": \"GUI\",\n",
    "    \"Guinea-Bissau\": \"GBU\",\n",
    "    \"Kenya\": \"KEN\",\n",
    "    \"Malawi\": \"MLW\",\n",
    "    \"Mali\": \"MAL\",\n",
    "    \"Mayotte\": \"MAY\",\n",
    "    \"Mozambique\": \"MOZ\",\n",
    "    \"Tanzania\": \"TZA\",\n",
    "    \"Uganda\": \"UGA\"\n",
    "}"
   ]
  },
  {
   "cell_type": "code",
   "execution_count": 7,
   "metadata": {},
   "outputs": [],
   "source": [
    "# Data storage, uses about 34 MB\n",
    "pca_cloud_zarr_path_template = 'vo_agam_production/ag3_data_paper/{}.pca_output.zarr'\n",
    "# Writing the PCA data to the cloud will require the appropriate authentication and authorization.\n",
    "\n",
    "# UNCOMMENT THIS TO AUTHENTICATE. YOU ONLY NEED TO RUN THIS ONCE.\n",
    "# After running this once, your authentication token should then be cached in `~/.gcs_tokens`\n",
    "# Once you have authenticated, you should comment this out again to avoid re-authenticating.\n",
    "# gcs_browser = gcsfs.GCSFileSystem(project='malariagen-jupyterhub', token='browser')\n",
    "\n",
    "# Use `cache_timeout=0` to prevent object list cache, to avoid recreating map for Zarr consolidated metadata\n",
    "auth_fs = gcsfs.GCSFileSystem(project='malariagen-jupyterhub', token='cache', cache_timeout=0)"
   ]
  },
  {
   "cell_type": "code",
   "execution_count": 8,
   "metadata": {},
   "outputs": [],
   "source": [
    "pca_cloud_zarr_path = pca_cloud_zarr_path_template.format('gamb_colu')\n",
    "pca_cloud_zarr_path\n",
    "\n",
    "# Sometimes errors with `overwrite=True`, sometimes errors without, when dir not exist\n",
    "# Keep the zarr_store for zarr.consolidate_metadata(zarr_store)\n",
    "zarr_store = auth_fs.get_mapper(pca_cloud_zarr_path)\n",
    "zarr_group = zarr.group(zarr_store)\n",
    "\n",
    "sample_names = zarr_group[\"sample_names\"][:]\n",
    "sample_names = [s.decode() for s in sample_names]\n",
    "\n",
    "pca_coordinates = zarr_group[\"coords\"]\n",
    "pca_components = zarr_group[\"components\"]\n",
    "pca_pve = zarr_group[\"explained_variance_ratio\"]"
   ]
  },
  {
   "cell_type": "code",
   "execution_count": 9,
   "metadata": {},
   "outputs": [],
   "source": [
    "def plot_pca_coords(coords, pve, pc1, pc2, fig, df, group_var, col_dict=\"auto\", query=None):\n",
    "\n",
    "    x = coords[:, pc1]\n",
    "    y = coords[:, pc2]\n",
    "    \n",
    "    qdf = df.reset_index().copy()\n",
    "    qdf[\"x\"] = x\n",
    "    qdf[\"y\"] = y\n",
    "    \n",
    "    # apply_query\n",
    "    if query is not None:\n",
    "        qdf = qdf.query(query)\n",
    "    \n",
    "    g = qdf.groupby(group_var)\n",
    "    \n",
    "    if col_dict == \"auto\":\n",
    "        cp = sns.color_palette(n_colors=len(g))\n",
    "        col_dict = {k:v for k, v in zip(g.groups, cp)}\n",
    "        \n",
    "    for label, frame in g:\n",
    "        \n",
    "        source = ColumnDataSource(data=frame)\n",
    "        \n",
    "        fig.circle(\n",
    "            'x', 'y', \n",
    "            source=source,\n",
    "            line_color='black',\n",
    "            line_width=0.5,\n",
    "            size=6,\n",
    "            fill_color=mpl.colors.rgb2hex(col_dict[label]))\n",
    "    \n",
    "    fig.xaxis.axis_label = 'PC {0} ({1:.2f}%)'.format(\n",
    "        pc1 + 1, 100 * pve[pc1])\n",
    "    \n",
    "    fig.yaxis.axis_label = 'PC {0} ({1:.2f}%)'.format(\n",
    "        pc2 + 1, 100 * pve[pc2])\n",
    "    \n",
    "    return fig"
   ]
  },
  {
   "cell_type": "code",
   "execution_count": 10,
   "metadata": {},
   "outputs": [
    {
     "name": "stderr",
     "output_type": "stream",
     "text": [
      "/opt/conda/lib/python3.7/site-packages/pandas/core/computation/expressions.py:68: FutureWarning: elementwise comparison failed; returning scalar instead, but in the future will perform elementwise comparison\n",
      "  return op(a, b)\n",
      "/opt/conda/lib/python3.7/site-packages/pandas/core/computation/expressions.py:68: FutureWarning: elementwise comparison failed; returning scalar instead, but in the future will perform elementwise comparison\n",
      "  return op(a, b)\n"
     ]
    }
   ],
   "source": [
    "all_meta = v3.load_sample_set_metadata(v3.all_wild_sample_sets, include_aim_species_calls=True)"
   ]
  },
  {
   "cell_type": "code",
   "execution_count": 11,
   "metadata": {},
   "outputs": [],
   "source": [
    "# This defines what is displayed when the mouse hovers over a point.\n",
    "# The @ values correspond to values in the table.\n",
    "TOOLTIPS = [\n",
    "    (\"ox_code\", \"@sample_id\"),\n",
    "    (\"country\", \"@country\"),\n",
    "    (\"location\", \"@location\"),\n",
    "    (\"collection year\", \"@year\"),\n",
    "    (\"species\", \"@species_gambcolu_arabiensis\"),\n",
    "    (\"species_gamcol\", \"@species_gambiae_coluzzii\"),\n",
    "    (\"(x, y)\", \"($x, $y)\"),]"
   ]
  },
  {
   "cell_type": "code",
   "execution_count": 12,
   "metadata": {},
   "outputs": [],
   "source": [
    "components = np.array(range(8)).reshape((2, 2, 2)).tolist()"
   ]
  },
  {
   "cell_type": "code",
   "execution_count": 13,
   "metadata": {},
   "outputs": [],
   "source": [
    "def pca_figure_wrapper(filename, qstring):\n",
    "\n",
    "    output_file(filename)\n",
    "    grid = []\n",
    "\n",
    "    for row in components:\n",
    "\n",
    "        l = []\n",
    "\n",
    "        for (c1, c2) in row:\n",
    "\n",
    "            p = figure(plot_width=400, plot_height=400, tooltips=TOOLTIPS)\n",
    "            l.append(\n",
    "                plot_pca_coords(\n",
    "                    pca_coordinates, \n",
    "                    pca_pve, \n",
    "                    c1, \n",
    "                    c2, \n",
    "                    p,\n",
    "                    df_species_samples,\n",
    "                    \"location\",\n",
    "                    col_dict=\"auto\",\n",
    "                    query=qstring))\n",
    "                    #\"location_label\"))\n",
    "\n",
    "        grid.append(l)\n",
    "\n",
    "    col = gridplot(grid)\n",
    "    show(col)"
   ]
  },
  {
   "cell_type": "markdown",
   "metadata": {},
   "source": [
    "## Location merging\n",
    "\n",
    "Merge locations that are very close. "
   ]
  },
  {
   "cell_type": "code",
   "execution_count": 14,
   "metadata": {},
   "outputs": [],
   "source": [
    "definition_file = \"../content/population_definitions.yml\"\n",
    "population_definitions = {}"
   ]
  },
  {
   "cell_type": "code",
   "execution_count": 15,
   "metadata": {},
   "outputs": [],
   "source": [
    "geo = Geodesic()"
   ]
  },
  {
   "cell_type": "code",
   "execution_count": 16,
   "metadata": {},
   "outputs": [
    {
     "data": {
      "text/html": [
       "<div>\n",
       "<style scoped>\n",
       "    .dataframe tbody tr th:only-of-type {\n",
       "        vertical-align: middle;\n",
       "    }\n",
       "\n",
       "    .dataframe tbody tr th {\n",
       "        vertical-align: top;\n",
       "    }\n",
       "\n",
       "    .dataframe thead th {\n",
       "        text-align: right;\n",
       "    }\n",
       "</style>\n",
       "<table border=\"1\" class=\"dataframe\">\n",
       "  <thead>\n",
       "    <tr style=\"text-align: right;\">\n",
       "      <th></th>\n",
       "      <th></th>\n",
       "      <th>latitude</th>\n",
       "      <th>longitude</th>\n",
       "    </tr>\n",
       "    <tr>\n",
       "      <th>country</th>\n",
       "      <th>location</th>\n",
       "      <th></th>\n",
       "      <th></th>\n",
       "    </tr>\n",
       "  </thead>\n",
       "  <tbody>\n",
       "    <tr>\n",
       "      <th>Angola</th>\n",
       "      <th>Luanda</th>\n",
       "      <td>-8.884</td>\n",
       "      <td>13.302</td>\n",
       "    </tr>\n",
       "    <tr>\n",
       "      <th rowspan=\"4\" valign=\"top\">Burkina Faso</th>\n",
       "      <th>Pala</th>\n",
       "      <td>11.150</td>\n",
       "      <td>-4.235</td>\n",
       "    </tr>\n",
       "    <tr>\n",
       "      <th>Bana</th>\n",
       "      <td>11.233</td>\n",
       "      <td>-4.472</td>\n",
       "    </tr>\n",
       "    <tr>\n",
       "      <th>Souroukoudinga</th>\n",
       "      <td>11.235</td>\n",
       "      <td>-4.535</td>\n",
       "    </tr>\n",
       "    <tr>\n",
       "      <th>Monomtenga</th>\n",
       "      <td>12.060</td>\n",
       "      <td>-1.170</td>\n",
       "    </tr>\n",
       "  </tbody>\n",
       "</table>\n",
       "</div>"
      ],
      "text/plain": [
       "                             latitude  longitude\n",
       "country      location                           \n",
       "Angola       Luanda            -8.884     13.302\n",
       "Burkina Faso Pala              11.150     -4.235\n",
       "             Bana              11.233     -4.472\n",
       "             Souroukoudinga    11.235     -4.535\n",
       "             Monomtenga        12.060     -1.170"
      ]
     },
     "execution_count": 16,
     "metadata": {},
     "output_type": "execute_result"
    }
   ],
   "source": [
    "locations = all_meta.drop_duplicates(subset=\"location\").reset_index()[[\"country\", \"location\", \"latitude\", \"longitude\"]].set_index([\"country\", \"location\"])\n",
    "locations.head()"
   ]
  },
  {
   "cell_type": "code",
   "execution_count": 17,
   "metadata": {},
   "outputs": [
    {
     "data": {
      "text/plain": [
       "(7875,)"
      ]
     },
     "execution_count": 17,
     "metadata": {},
     "output_type": "execute_result"
    }
   ],
   "source": [
    "condensed_dist_matrix = np.zeros((locations.shape[0] * (locations.shape[0] - 1))//2, dtype=np.float32)\n",
    "condensed_dist_matrix.shape"
   ]
  },
  {
   "cell_type": "code",
   "execution_count": 18,
   "metadata": {},
   "outputs": [
    {
     "data": {
      "text/plain": [
       "126"
      ]
     },
     "execution_count": 18,
     "metadata": {},
     "output_type": "execute_result"
    }
   ],
   "source": [
    "len(locations)"
   ]
  },
  {
   "cell_type": "code",
   "execution_count": 19,
   "metadata": {},
   "outputs": [],
   "source": [
    "for a, b in combinations(range(locations.shape[0]), 2):\n",
    "    \n",
    "    ix = allel.condensed_coords(a, b, len(locations))\n",
    "    condensed_dist_matrix[ix] = geo.geometry_length(locations.iloc[[a, b]].values) * 1e-3"
   ]
  },
  {
   "cell_type": "code",
   "execution_count": 20,
   "metadata": {},
   "outputs": [],
   "source": [
    "# Define functions\n",
    "def plot_dendrogram(dist, nhaps, method='complete'):\n",
    "    \n",
    "    # faff\n",
    "    y = _convert_to_double(np.asarray(dist, order='c'))\n",
    "    \n",
    "    # 2. get n\n",
    "    n = int(distance.num_obs_y(dist))\n",
    "    \n",
    "    # 3. do clustering\n",
    "    #method = dict(single=0, complete=1)[method]\n",
    "    z = linkage(y, method)    \n",
    "\n",
    "    # plot dendrogram\n",
    "    r = dendrogram(\n",
    "        z, no_labels=True, count_sort=True,\n",
    "        #color_threshold=color_threshold, \n",
    "        #above_threshold_color=above_threshold_color,\n",
    "        ax=None)\n",
    "    \n",
    "    return z, r"
   ]
  },
  {
   "cell_type": "code",
   "execution_count": 21,
   "metadata": {},
   "outputs": [],
   "source": [
    "# gives the haplotype indices of the haplotypes in the n largest clusters\n",
    "def find_clusters(z, n=None, threshold=50):\n",
    "    \n",
    "    # find clusters\n",
    "    f = fcluster(z, threshold, criterion='distance')\n",
    "    \n",
    "    # compute cluster sizes\n",
    "    fsz = np.bincount(f)\n",
    "    \n",
    "    # sort largest first\n",
    "    fsort = np.argsort(fsz)[::-1]\n",
    "    \n",
    "    # take largest n\n",
    "    if n is not None:\n",
    "        fsort = fsort[:n]\n",
    "    \n",
    "    # get haplotype indices for each cluster\n",
    "    clusters = [set(np.nonzero(f == i)[0]) for i in fsort]\n",
    "    \n",
    "    return clusters"
   ]
  },
  {
   "cell_type": "code",
   "execution_count": 22,
   "metadata": {},
   "outputs": [
    {
     "data": {
      "image/png": "[encoded data removed]",
      "text/plain": [
       "<Figure size 432x288 with 1 Axes>"
      ]
     },
     "metadata": {
      "needs_background": "light"
     },
     "output_type": "display_data"
    }
   ],
   "source": [
    "zz, rr = plot_dendrogram(condensed_dist_matrix, all_meta.shape[0])"
   ]
  },
  {
   "cell_type": "code",
   "execution_count": 23,
   "metadata": {},
   "outputs": [],
   "source": [
    "y = find_clusters(zz, threshold=threshold_cluster_distance_km)"
   ]
  },
  {
   "cell_type": "code",
   "execution_count": 24,
   "metadata": {},
   "outputs": [],
   "source": [
    "locations[\"new_group_id\"] = \"NA\""
   ]
  },
  {
   "cell_type": "code",
   "execution_count": 25,
   "metadata": {},
   "outputs": [],
   "source": [
    "# counts_per_loc = all_meta.groupby([\"country\", \"location\"]).size()\n",
    "\n",
    "# nsamples_in_cluster = []\n",
    "# for cluster in y:\n",
    "#     total_samples = 0\n",
    "#     for site in cluster:\n",
    "#         name = locations.iloc[site].name\n",
    "#         total_samples += counts_per_loc.loc[name]\n",
    "        \n",
    "#     nsamples_in_cluster.append(total_samples)"
   ]
  },
  {
   "cell_type": "code",
   "execution_count": 26,
   "metadata": {},
   "outputs": [],
   "source": [
    "counter = 0\n",
    "for cluster in y:\n",
    "    counter += 1\n",
    "    for site in cluster:\n",
    "        name = locations.iloc[site].name\n",
    "        locations.at[name, \"new_group_id\"] = f\"s{counter}\""
   ]
  },
  {
   "cell_type": "code",
   "execution_count": 27,
   "metadata": {},
   "outputs": [],
   "source": [
    "pd.set_option('display.max_rows', 126)"
   ]
  },
  {
   "cell_type": "code",
   "execution_count": 28,
   "metadata": {},
   "outputs": [
    {
     "data": {
      "text/html": [
       "<div>\n",
       "<style scoped>\n",
       "    .dataframe tbody tr th:only-of-type {\n",
       "        vertical-align: middle;\n",
       "    }\n",
       "\n",
       "    .dataframe tbody tr th {\n",
       "        vertical-align: top;\n",
       "    }\n",
       "\n",
       "    .dataframe thead th {\n",
       "        text-align: right;\n",
       "    }\n",
       "</style>\n",
       "<table border=\"1\" class=\"dataframe\">\n",
       "  <thead>\n",
       "    <tr style=\"text-align: right;\">\n",
       "      <th></th>\n",
       "      <th></th>\n",
       "      <th>latitude</th>\n",
       "      <th>longitude</th>\n",
       "      <th>new_group_id</th>\n",
       "    </tr>\n",
       "    <tr>\n",
       "      <th>country</th>\n",
       "      <th>location</th>\n",
       "      <th></th>\n",
       "      <th></th>\n",
       "      <th></th>\n",
       "    </tr>\n",
       "  </thead>\n",
       "  <tbody>\n",
       "    <tr>\n",
       "      <th>Angola</th>\n",
       "      <th>Luanda</th>\n",
       "      <td>-8.884</td>\n",
       "      <td>13.302</td>\n",
       "      <td>s39</td>\n",
       "    </tr>\n",
       "    <tr>\n",
       "      <th rowspan=\"4\" valign=\"top\">Burkina Faso</th>\n",
       "      <th>Pala</th>\n",
       "      <td>11.150</td>\n",
       "      <td>-4.235</td>\n",
       "      <td>s13</td>\n",
       "    </tr>\n",
       "    <tr>\n",
       "      <th>Bana</th>\n",
       "      <td>11.233</td>\n",
       "      <td>-4.472</td>\n",
       "      <td>s13</td>\n",
       "    </tr>\n",
       "    <tr>\n",
       "      <th>Souroukoudinga</th>\n",
       "      <td>11.235</td>\n",
       "      <td>-4.535</td>\n",
       "      <td>s13</td>\n",
       "    </tr>\n",
       "    <tr>\n",
       "      <th>Monomtenga</th>\n",
       "      <td>12.060</td>\n",
       "      <td>-1.170</td>\n",
       "      <td>s40</td>\n",
       "    </tr>\n",
       "  </tbody>\n",
       "</table>\n",
       "</div>"
      ],
      "text/plain": [
       "                             latitude  longitude new_group_id\n",
       "country      location                                        \n",
       "Angola       Luanda            -8.884     13.302          s39\n",
       "Burkina Faso Pala              11.150     -4.235          s13\n",
       "             Bana              11.233     -4.472          s13\n",
       "             Souroukoudinga    11.235     -4.535          s13\n",
       "             Monomtenga        12.060     -1.170          s40"
      ]
     },
     "execution_count": 28,
     "metadata": {},
     "output_type": "execute_result"
    }
   ],
   "source": [
    "locations.head()"
   ]
  },
  {
   "cell_type": "code",
   "execution_count": 29,
   "metadata": {},
   "outputs": [],
   "source": [
    "all_meta = all_meta.reset_index().merge(locations.reset_index()).set_index(\"sample_id\")"
   ]
  },
  {
   "cell_type": "code",
   "execution_count": 30,
   "metadata": {},
   "outputs": [
    {
     "data": {
      "text/plain": [
       "new_group_id  country                       location                \n",
       "s1            Cameroon                      Doulougou                     4\n",
       "                                            Gakle                         1\n",
       "                                            Laf                           3\n",
       "                                            Lougol                        2\n",
       "                                            Mambang                       1\n",
       "                                            Moulva                        2\n",
       "                                            Mounda                        1\n",
       "                                            Moussourtouk                  1\n",
       "                                            Palama                        2\n",
       "                                            Tchéré                        1\n",
       "s10           Cameroon                      Ahala                         4\n",
       "                                            Essos                         1\n",
       "                                            Nkolondom                    10\n",
       "                                            Yaounde                       7\n",
       "s11           Cameroon                      Badjawa                       3\n",
       "                                            Karba                         2\n",
       "                                            Massila                       6\n",
       "                                            Morongo                       2\n",
       "s12           Gambia, The                   Kalataba                      1\n",
       "                                            Njabakunda                   74\n",
       "                                            Sare Samba Sowe              11\n",
       "                                            Tankular                     19\n",
       "s13           Burkina Faso                  Bana                        128\n",
       "                                            Pala                         77\n",
       "                                            Souroukoudinga               78\n",
       "s14           Cameroon                      Bamendi                       3\n",
       "                                            Mangoum                       1\n",
       "s15           Cameroon                      Manchoutvi                    2\n",
       "                                            Mgbandji                      1\n",
       "s16           Cameroon                      Manda                        11\n",
       "                                            Mfelap                        1\n",
       "s17           Mali                          Douna                        20\n",
       "                                            Fanzana                       8\n",
       "s18           Ghana                         Koforidua                    24\n",
       "                                            Madina                       27\n",
       "s19           Cameroon                      Avebe                         1\n",
       "                                            Mbalmayo                      1\n",
       "s2            Cameroon                      Badankali                     1\n",
       "                                            Balda Bouri                   2\n",
       "                                            Carrefour Poli                1\n",
       "                                            Djaba                         2\n",
       "                                            Djamboutou                    1\n",
       "                                            Gouna                         1\n",
       "                                            Guijiba                       1\n",
       "                                            Mayo Boki                     3\n",
       "s20           Guinea-Bissau                 Antula                       60\n",
       "                                            Safim                        33\n",
       "s21           Mali                          Bancoumana                    9\n",
       "                                            Kela                         23\n",
       "s22           Cameroon                      Obala                         1\n",
       "                                            Otibili                       4\n",
       "s23           Cameroon                      Afan-Essokye                  1\n",
       "                                            Campo                         2\n",
       "s24           Cameroon                      Dombé                         1\n",
       "                                            Nlozok                        1\n",
       "s25           Cameroon                      Gado Badzere                 73\n",
       "                                            Zembe Borongo                24\n",
       "s26           Cameroon                      Dolla                         1\n",
       "                                            Secamde                       2\n",
       "s27           Malawi                        Chikhwawa                    41\n",
       "s28           Guinea                        Koundara                     74\n",
       "s29           Uganda                        Kihihi                       96\n",
       "s3            Mayotte                       Bouyouni                      1\n",
       "                                            Combani                       6\n",
       "                                            Karihani Lake                 3\n",
       "                                            Mont Benara                   2\n",
       "                                            Mtsamboro Forest Reserve      1\n",
       "                                            Mtsanga Charifou              7\n",
       "                                            Sada                          3\n",
       "s30           Tanzania                      Muleba                      170\n",
       "s31           Uganda                        Nagongera                   194\n",
       "s32           Mozambique                    Furvela                      74\n",
       "s33           Tanzania                      Tarime                       47\n",
       "s34           Gambia, The                   Wali Kunda                  174\n",
       "s35           Tanzania                      Moshi                        40\n",
       "s36           Tanzania                      Muheza                       43\n",
       "s37           Guinea-Bissau                 Leibala                       8\n",
       "s38           Kenya                         Kilifi                       86\n",
       "s39           Angola                        Luanda                       81\n",
       "s4            Cameroon                      Makabay (Djarengo)            1\n",
       "                                            Mayo Dafan                    1\n",
       "                                            Mayo Lebride                  2\n",
       "                                            Rompo                         1\n",
       "                                            Sorawel                       1\n",
       "                                            Séboré                        1\n",
       "s40           Burkina Faso                  Monomtenga                   13\n",
       "s41           Guinea                        Koraboh                      62\n",
       "s42           Mali                          Takan                        31\n",
       "s43           Mali                          Toumani Oulena               63\n",
       "s44           Ghana                         Twifo Praso                  25\n",
       "s45           Ghana                         Takoradi                     24\n",
       "s46           Cote d'Ivoire                 Tiassale                     80\n",
       "s47           Cameroon                      Foulassi I                    1\n",
       "s48           Cameroon                      Douala                        2\n",
       "s49           Equatorial Guinea             Bioko                        10\n",
       "s5            Mali                          Kababougou                   40\n",
       "                                            Moribobougou                  7\n",
       "                                            N'Gabakoro                    4\n",
       "                                            Ouassorola                   13\n",
       "                                            Tieneguebougou                7\n",
       "s50           Gabon                         Libreville                   69\n",
       "s51           Democratic Republic of Congo  Gbadolite                    76\n",
       "s52           Central African Republic      Bangui                       73\n",
       "s53           Cameroon                      Mayos                       110\n",
       "s54           Cameroon                      Daiguene                     96\n",
       "s55           Cameroon                      Tibati                        4\n",
       "s6            Cameroon                      Carrefour Nari                1\n",
       "                                            Lagdo                         3\n",
       "                                            Lainde Mbana                  2\n",
       "                                            Lamoudan                      1\n",
       "                                            Wouro Andre                   1\n",
       "s7            Cameroon                      Banda                         1\n",
       "                                            Djet                          2\n",
       "                                            Gamba                         1\n",
       "                                            Harr                          1\n",
       "                                            Ngaouya Nga                   1\n",
       "s8            Cameroon                      Beka Goto                     2\n",
       "                                            Birsok                        1\n",
       "                                            Lougga Tapadi                 1\n",
       "                                            Mabarangal'L                  1\n",
       "                                            Tekel                         1\n",
       "s9            Cameroon                      Bini                          1\n",
       "                                            Gada Mabanga                  1\n",
       "                                            Mawara                        2\n",
       "                                            Mayo Djarani                  2\n",
       "                                            Toumbouroum                   2\n",
       "dtype: int64"
      ]
     },
     "execution_count": 30,
     "metadata": {},
     "output_type": "execute_result"
    }
   ],
   "source": [
    "# this gives the most complete view of the grouped locations\n",
    "all_meta.groupby([\"new_group_id\", \"country\", \"location\"]).size()"
   ]
  },
  {
   "cell_type": "code",
   "execution_count": 31,
   "metadata": {},
   "outputs": [],
   "source": [
    "# # for the below- we assume that no groups cross country borders. If it did, we would need to come with new country for each group.\n",
    "# gg = all_meta.groupby(\"new_group_id\")\n",
    "# assert gg.apply(lambda y: len(y.country.unique()) == 1).all()\n",
    "\n",
    "# # now lets assign a numerical ID **within** countries.\n",
    "# g = all_meta.groupby(\"country\")\n",
    "# within_country_group = g.apply(lambda y: y.groupby(\"new_group_id\").ngroup() + 1).droplevel(0)\n",
    "\n",
    "# # indices are aligned\n",
    "# all_meta[\"within_country_group\"] = within_country_group"
   ]
  },
  {
   "cell_type": "code",
   "execution_count": 32,
   "metadata": {},
   "outputs": [],
   "source": [
    "df_species_samples = all_meta.loc[sample_names]"
   ]
  },
  {
   "cell_type": "code",
   "execution_count": 33,
   "metadata": {},
   "outputs": [],
   "source": [
    "# for separation of populations\n",
    "df_species_samples[\"PC1\"] = pca_coordinates[:, 0]\n",
    "df_species_samples[\"PC2\"] = pca_coordinates[:, 1]"
   ]
  },
  {
   "cell_type": "code",
   "execution_count": 34,
   "metadata": {},
   "outputs": [],
   "source": [
    "df_species_samples[\"species_call\"] = \"NA\""
   ]
  },
  {
   "cell_type": "markdown",
   "metadata": {},
   "source": [
    "## 1. Gulf West Africa\n",
    "\n",
    "ie. The Gambia and Guinea Bissau.\n",
    "\n",
    "8 sampling locations in an approximate square. 5 in The Gambia, 3 in GB.\n",
    "\n",
    "Broadly there is an intermediate cluster, a gambiae cluster (small), a coluzzii cluster.\n",
    "\n",
    "Intermediate sample sites: \n",
    "1. Sare Samba Sowe\n",
    "2. Njabakunda\n",
    "3. Antula GB\n",
    "4. Safim GB\n",
    "\n",
    "Very interestingly, the IM cluster gts pulled apart by PC6. The 2 GB populations are distinct from the Gambia ones. \n",
    "As the intermediate species call isn't reliable, we use the PCA coordinates to define this grouping.\n",
    "\n",
    "Coluzzii sample sites: (all Gambia)\n",
    "1. Tankular\n",
    "2. Wali Kunda\n",
    "3. Kalataba\n",
    "4. Njabakunda\n",
    "5. Sare Samba Sowe\n",
    "\n",
    "Gambiae sample sites:\n",
    "1. Leibala - the most easterly of the GB sites. The other 2 are close, but one is more urban.\n",
    "2. Wali Kunda - the most easterly of the Gambia sites. Not quite as easterly as Leibala. (only 2 samples here)\n",
    "\n",
    "Populations:\n",
    " - All Coluzzii clearly belong in one population. Doesn't split by PCA.\n",
    " - Leibala forms it's own cluster.\n",
    "\n",
    "Gambia Coluzzii\n",
    "Gambia Intermediate\n",
    "Guinea-Bissau Intermediate\n",
    "Guinea-Bissau Leibala Gambiae"
   ]
  },
  {
   "cell_type": "code",
   "execution_count": 35,
   "metadata": {},
   "outputs": [
    {
     "data": {
      "text/plain": [
       "new_group_id  year\n",
       "s12           2011     74\n",
       "              2012     31\n",
       "s34           2012    174\n",
       "dtype: int64"
      ]
     },
     "execution_count": 35,
     "metadata": {},
     "output_type": "execute_result"
    }
   ],
   "source": [
    "df_species_samples.query(\"country == 'Gambia, The'\").groupby([\"new_group_id\", \"year\"]).size()"
   ]
  },
  {
   "cell_type": "code",
   "execution_count": 36,
   "metadata": {},
   "outputs": [],
   "source": [
    "gulf_wa_q = 'country in (\"Gambia, The\", \"Guinea-Bissau\")'"
   ]
  },
  {
   "cell_type": "code",
   "execution_count": 37,
   "metadata": {},
   "outputs": [],
   "source": [
    "df_gulf = df_species_samples.query(gulf_wa_q).copy()"
   ]
  },
  {
   "cell_type": "code",
   "execution_count": 38,
   "metadata": {},
   "outputs": [],
   "source": [
    "pca_figure_wrapper(\"gulf_west_africa.html\", gulf_wa_q)"
   ]
  },
  {
   "cell_type": "code",
   "execution_count": 39,
   "metadata": {},
   "outputs": [],
   "source": [
    "df_gulf[\"species_call\"] = np.where(\n",
    "    df_gulf[\"PC2\"] > 17, \n",
    "    \"coluzzii\",\n",
    "    np.where(df_gulf[\"PC2\"] < 0, \"gambiae\", \"intermediate\"))"
   ]
  },
  {
   "cell_type": "code",
   "execution_count": 40,
   "metadata": {},
   "outputs": [
    {
     "data": {
      "text/plain": [
       "country        new_group_id  species_call  year\n",
       "Gambia, The    s12           coluzzii      2011      6\n",
       "                                           2012     22\n",
       "                             intermediate  2011     68\n",
       "                                           2012      9\n",
       "               s34           coluzzii      2012    172\n",
       "                             gambiae       2012      2\n",
       "Guinea-Bissau  s20           intermediate  2010     93\n",
       "               s37           gambiae       2010      8\n",
       "dtype: int64"
      ]
     },
     "execution_count": 40,
     "metadata": {},
     "output_type": "execute_result"
    }
   ],
   "source": [
    "df_gulf.groupby([\"country\", \"new_group_id\", \"species_call\", \"year\"]).size()"
   ]
  },
  {
   "cell_type": "code",
   "execution_count": 41,
   "metadata": {},
   "outputs": [],
   "source": [
    "df_species_samples.loc[df_gulf.index, \"species_call\"] = df_gulf.species_call"
   ]
  },
  {
   "cell_type": "markdown",
   "metadata": {},
   "source": [
    "## 2. East Africa\n",
    "\n",
    "No coluzzii present in East Africa.\n",
    "\n",
    "--\n",
    "\n",
    "Mozambique gambiae, some similarity to KE from 2000. Mozambique gambiae all one cluster, they appear on some kind of continuum with KE. \n",
    "However, owing to large geographic distance makes a single population.\n",
    "\n",
    "Mayotte gambiae, island population in a clear cluster, clear population."
   ]
  },
  {
   "cell_type": "code",
   "execution_count": 42,
   "metadata": {},
   "outputs": [],
   "source": [
    "east_africa_q = 'country in (\"Mozambique\", \"Kenya\", \"Mayotte\", \"Tanzania\")'\n",
    "\n",
    "pca_figure_wrapper(\"east_africa_gambiae.html\", east_africa_q)"
   ]
  },
  {
   "cell_type": "code",
   "execution_count": 43,
   "metadata": {},
   "outputs": [],
   "source": [
    "df_east = df_species_samples.query(east_africa_q).copy()"
   ]
  },
  {
   "cell_type": "markdown",
   "metadata": {},
   "source": [
    "Tanzania is interesting: there are 2 clear gambiae populations, separated by a large distance: Muheza, and Muleba.\n",
    "\n",
    "There is also an intermediate population: made up of individuals from Muheza, with one Muleba individual (possible mix-up)?\n",
    "\n",
    "This intermediate population is very close to KE. And is only 190km away. However, PC4 suggests they are distinct.\n",
    "\n",
    "The Kenyan Kilifi intermediate population was sampled from the same location as the gambiae population, but 12 years apart. \n",
    "\n",
    "We use the year to define the KE populations, but PCs to define the TZ. In both cases the intermediate species group is inconsistent with the PCA."
   ]
  },
  {
   "cell_type": "code",
   "execution_count": 44,
   "metadata": {},
   "outputs": [],
   "source": [
    "df_east[\"species_call\"] = np.where(\n",
    "    (df_east[\"PC2\"] > 40) & (df_east[\"PC1\"] < 60), \n",
    "    \"intermediate\",\n",
    "    \"gambiae\")"
   ]
  },
  {
   "cell_type": "code",
   "execution_count": 45,
   "metadata": {},
   "outputs": [
    {
     "data": {
      "text/plain": [
       "country     new_group_id  species_call  year\n",
       "Kenya       s38           gambiae       2000    19\n",
       "                          intermediate  2012    54\n",
       "Mayotte     s3            gambiae       2011    23\n",
       "Mozambique  s32           gambiae       2003     3\n",
       "                                        2004    71\n",
       "Tanzania    s30           gambiae       2015    32\n",
       "                          intermediate  2015     1\n",
       "            s36           gambiae       2013    32\n",
       "                          intermediate  2013    10\n",
       "dtype: int64"
      ]
     },
     "execution_count": 45,
     "metadata": {},
     "output_type": "execute_result"
    }
   ],
   "source": [
    "df_species_samples.loc[df_east.index, \"species_call\"] = df_east.species_call\n",
    "\n",
    "df_east.groupby([\"country\", \"new_group_id\", \"species_call\", \"year\"]).size()"
   ]
  },
  {
   "cell_type": "markdown",
   "metadata": {},
   "source": [
    "## 3. Central-ish Africa\n",
    "\n",
    "Clear separation of gambiae/coluzzii with no intermediates.\n",
    "\n",
    "Angola and CAR form 2 distinct coluzzii populations."
   ]
  },
  {
   "cell_type": "code",
   "execution_count": 46,
   "metadata": {},
   "outputs": [],
   "source": [
    "central_q = 'country in (\"Angola\", \"Uganda\", \"Gabon\", \"Democratic Republic of Congo\", \"Central African Republic\")'\n",
    "\n",
    "pca_figure_wrapper(\"central_africa.html\", central_q)"
   ]
  },
  {
   "cell_type": "code",
   "execution_count": 47,
   "metadata": {},
   "outputs": [],
   "source": [
    "df_cent = df_species_samples.query(central_q).copy()"
   ]
  },
  {
   "cell_type": "code",
   "execution_count": 48,
   "metadata": {},
   "outputs": [],
   "source": [
    "df_cent[\"species_call\"] = df_cent[\"species_gambiae_coluzzii\"]"
   ]
  },
  {
   "cell_type": "code",
   "execution_count": 49,
   "metadata": {},
   "outputs": [
    {
     "data": {
      "text/plain": [
       "country                       new_group_id  species_call  year\n",
       "Angola                        s39           coluzzii      2009     81\n",
       "Central African Republic      s52           coluzzii      1993      5\n",
       "                                                          1994     13\n",
       "                                            gambiae       1993      2\n",
       "                                                          1994     53\n",
       "Democratic Republic of Congo  s51           gambiae       2015     76\n",
       "Gabon                         s50           gambiae       2000     69\n",
       "Uganda                        s29           gambiae       2012     95\n",
       "                              s31           gambiae       2012    112\n",
       "dtype: int64"
      ]
     },
     "execution_count": 49,
     "metadata": {},
     "output_type": "execute_result"
    }
   ],
   "source": [
    "df_species_samples.loc[df_cent.index, \"species_call\"] = df_cent.species_call\n",
    "\n",
    "df_cent.groupby([\"country\", \"new_group_id\", \"species_call\", \"year\"]).size()"
   ]
  },
  {
   "cell_type": "markdown",
   "metadata": {},
   "source": [
    "CAR gambiae also form a single group with DRC gambiae. \n",
    "\n",
    "They are not separated by any PCA, but only 270km distance... but given time better to separate."
   ]
  },
  {
   "cell_type": "markdown",
   "metadata": {},
   "source": [
    "The two Uganda locations are 500km apart, so reasonable to split.\n",
    "Gabon splits out from Uganda and other Gambiae populations, so falls on its own."
   ]
  },
  {
   "cell_type": "markdown",
   "metadata": {},
   "source": [
    "## 4, Cameroon and Bioko\n",
    "\n",
    "This is more complex, as CMS has many more sampling locations than other sites.\n",
    "\n",
    "There are some coluzzii here, so let's look at those first agains the backdrop of some CI."
   ]
  },
  {
   "cell_type": "code",
   "execution_count": 50,
   "metadata": {},
   "outputs": [],
   "source": [
    "cms_q = \"(country in ('Cameroon', 'Equatorial Guinea'))\""
   ]
  },
  {
   "cell_type": "code",
   "execution_count": 51,
   "metadata": {},
   "outputs": [],
   "source": [
    "df_camb = df_species_samples.query(cms_q).copy()"
   ]
  },
  {
   "cell_type": "code",
   "execution_count": 52,
   "metadata": {},
   "outputs": [],
   "source": [
    "pca_figure_wrapper(\"cameroon_bioko.html\", cms_q)"
   ]
  },
  {
   "cell_type": "code",
   "execution_count": 53,
   "metadata": {},
   "outputs": [],
   "source": [
    "df_camb[\"species_call\"] = df_camb[\"species_gambiae_coluzzii\"]"
   ]
  },
  {
   "cell_type": "code",
   "execution_count": 54,
   "metadata": {},
   "outputs": [
    {
     "data": {
      "text/plain": [
       "country            new_group_id  species_call  year\n",
       "Cameroon           s1            coluzzii      2005      2\n",
       "                                 gambiae       2005     16\n",
       "                   s10           coluzzii      2013     12\n",
       "                                 gambiae       2005      5\n",
       "                                               2013      5\n",
       "                   s11           gambiae       2005     13\n",
       "                   s14           gambiae       2005      4\n",
       "                   s15           gambiae       2013      3\n",
       "                   s16           gambiae       2013     12\n",
       "                   s19           gambiae       2005      2\n",
       "                   s2            coluzzii      2005      3\n",
       "                                 gambiae       2005      9\n",
       "                   s22           gambiae       2005      5\n",
       "                   s23           coluzzii      2013      2\n",
       "                                 gambiae       2013      1\n",
       "                   s24           gambiae       2005      2\n",
       "                   s25           gambiae       2009     97\n",
       "                   s26           gambiae       2005      3\n",
       "                   s4            gambiae       2005      7\n",
       "                   s47           gambiae       2005      1\n",
       "                   s48           coluzzii      2013      2\n",
       "                   s53           gambiae       2009    110\n",
       "                   s54           gambiae       2009     96\n",
       "                   s55           coluzzii      2013      2\n",
       "                                 gambiae       2013      2\n",
       "                   s6            coluzzii      2005      1\n",
       "                                               2013      1\n",
       "                                 gambiae       2005      4\n",
       "                   s7            coluzzii      2005      1\n",
       "                                 gambiae       2005      5\n",
       "                   s8            gambiae       2005      6\n",
       "                   s9            gambiae       2005      8\n",
       "Equatorial Guinea  s49           gambiae       2002     10\n",
       "dtype: int64"
      ]
     },
     "execution_count": 54,
     "metadata": {},
     "output_type": "execute_result"
    }
   ],
   "source": [
    "df_species_samples.loc[df_camb.index, \"species_call\"] = df_camb.species_call\n",
    "\n",
    "df_camb.groupby([\"country\", \"new_group_id\", \"species_call\", \"year\"]).size()"
   ]
  },
  {
   "cell_type": "markdown",
   "metadata": {},
   "source": [
    "These \"south\" samples form a reasonable cluster, I think it's ok to include all 4 in a cameroon south population. \n",
    "\n",
    "If we are being cautious, we could restrict to Yaounde and Campo, which are just 10km apart. Only lose 4 samples / 21."
   ]
  },
  {
   "cell_type": "markdown",
   "metadata": {},
   "source": [
    "There is very little structure in _gambiae_, but Bioko should be considered separately if only due to it's status as an island."
   ]
  },
  {
   "cell_type": "markdown",
   "metadata": {},
   "source": [
    "66 unique locations. Considering sampling sites with >= 10 samples only gives:"
   ]
  },
  {
   "cell_type": "markdown",
   "metadata": {},
   "source": [
    "Logically, I think there should be 4 distinct CMS gambiae populations. \n",
    "\n",
    "The transect has 126 / 183 km between sites, but there are ~ 100 samples in each.\n",
    "\n",
    "Manda is a good distance west of the other sites- so could be important.\n",
    "\n",
    "Manda is the same site as Mfelap, so that is included. As is "
   ]
  },
  {
   "cell_type": "markdown",
   "metadata": {},
   "source": [
    "## 5, West Africa\n",
    "\n",
    "Initial plotting shows clear separation of gambiae and coluzzii. \n",
    "\n",
    "The exceptions being 2 Mali samples that are outliers from all groups. One is classed as \"intermediate\" AV0331-C. Doesn't cluster exactly with the gulf west africa samples. The other is AV0255-C, which looks coluzzii, but is distinct from all other samples. Appears to be really out on its own.\n",
    "\n",
    "Initially we look at coluzzii samples, excluding AV0255-C."
   ]
  },
  {
   "cell_type": "code",
   "execution_count": 55,
   "metadata": {},
   "outputs": [],
   "source": [
    "west_q = \"(country in ('Ghana', 'Cote d\\\\'Ivoire', 'Guinea', 'Mali', 'Burkina Faso'))\""
   ]
  },
  {
   "cell_type": "code",
   "execution_count": 56,
   "metadata": {},
   "outputs": [],
   "source": [
    "pca_figure_wrapper(\"west_africa.html\", west_q)"
   ]
  },
  {
   "cell_type": "markdown",
   "metadata": {},
   "source": [
    "There is broad separation between Ghana/Cote d'Ivoire vs Burkina, Mali, and Guinea.\n",
    "\n",
    "A question is then to include Ghana/CI as how many separate populations?"
   ]
  },
  {
   "cell_type": "code",
   "execution_count": 57,
   "metadata": {},
   "outputs": [],
   "source": [
    "df_west = df_species_samples.query(west_q).copy()"
   ]
  },
  {
   "cell_type": "code",
   "execution_count": 58,
   "metadata": {},
   "outputs": [],
   "source": [
    "df_west[\"species_call\"] = np.where(\n",
    "    df_west[\"PC1\"] > 0,\n",
    "    \"gambiae\",\n",
    "    np.where(df_west[\"PC1\"] < -25, \"coluzzii\", \"intermediate\"))"
   ]
  },
  {
   "cell_type": "code",
   "execution_count": 59,
   "metadata": {},
   "outputs": [
    {
     "data": {
      "text/plain": [
       "country        new_group_id  species_call  year\n",
       "Burkina Faso   s13           coluzzii      2012    82\n",
       "                                           2014    53\n",
       "                             gambiae       2012    99\n",
       "                                           2014    46\n",
       "               s40           gambiae       2004    13\n",
       "Cote d'Ivoire  s46           coluzzii      2012    80\n",
       "Ghana          s18           coluzzii      2012    15\n",
       "                             gambiae       2012    36\n",
       "               s44           coluzzii      2012    25\n",
       "               s45           coluzzii      2012    24\n",
       "Guinea         s28           coluzzii      2012    11\n",
       "                             gambiae       2012    63\n",
       "               s41           gambiae       2012    62\n",
       "Mali           s17           coluzzii      2004    25\n",
       "                             gambiae       2004     1\n",
       "               s21           gambiae       2004    32\n",
       "               s42           coluzzii      2012    25\n",
       "                             gambiae       2012     5\n",
       "                             intermediate  2012     1\n",
       "               s43           coluzzii      2012     2\n",
       "                             gambiae       2012    60\n",
       "                             intermediate  2012     1\n",
       "               s5            coluzzii      2004    11\n",
       "                                           2014    27\n",
       "                             gambiae       2014    33\n",
       "dtype: int64"
      ]
     },
     "execution_count": 59,
     "metadata": {},
     "output_type": "execute_result"
    }
   ],
   "source": [
    "df_species_samples.loc[df_west.index, \"species_call\"] = df_west.species_call\n",
    "df_west.groupby([\"country\", \"new_group_id\", \"species_call\", \"year\"]).size()"
   ]
  },
  {
   "cell_type": "markdown",
   "metadata": {},
   "source": [
    "Given Tiassele is at least 355km from nearest Ghanian site- and the maximum distance between ghanian sites is 212km we group as a single population.\n",
    "\n",
    "Now look at Guinea, Burkina and Mali."
   ]
  },
  {
   "cell_type": "markdown",
   "metadata": {},
   "source": [
    "Guinean samples are a long way from BF. All BF sample sites are close together. \n",
    "\n",
    "Question only remains about Mali: Decide to take from Takan and Douna as sep populations.\n",
    "\n",
    "Takan to be included in gambiae of WA."
   ]
  },
  {
   "cell_type": "markdown",
   "metadata": {},
   "source": [
    "gambiae..."
   ]
  },
  {
   "cell_type": "markdown",
   "metadata": {},
   "source": [
    "Almost a complete absense of structure in these West African gambiae samples."
   ]
  },
  {
   "cell_type": "markdown",
   "metadata": {},
   "source": [
    "## 6. Arabiensis"
   ]
  },
  {
   "cell_type": "code",
   "execution_count": 60,
   "metadata": {},
   "outputs": [],
   "source": [
    "df_arab = all_meta.query(\"species_gambcolu_arabiensis == 'arabiensis'\").copy()"
   ]
  },
  {
   "cell_type": "code",
   "execution_count": 61,
   "metadata": {},
   "outputs": [],
   "source": [
    "df_arab[\"species_call\"] = \"arabiensis\""
   ]
  },
  {
   "cell_type": "code",
   "execution_count": 62,
   "metadata": {},
   "outputs": [],
   "source": [
    "# df_all_samples = pd.concat([df_species_samples, df_arab], axis=0)"
   ]
  },
  {
   "cell_type": "markdown",
   "metadata": {},
   "source": [
    "## Some logic to define usable populations"
   ]
  },
  {
   "cell_type": "code",
   "execution_count": 63,
   "metadata": {},
   "outputs": [],
   "source": [
    "species_call = pd.concat([df_species_samples.species_call, df_arab.species_call], axis=0)"
   ]
  },
  {
   "cell_type": "code",
   "execution_count": 64,
   "metadata": {},
   "outputs": [
    {
     "data": {
      "text/plain": [
       "(2784, 19)"
      ]
     },
     "execution_count": 64,
     "metadata": {},
     "output_type": "execute_result"
    }
   ],
   "source": [
    "all_meta.shape"
   ]
  },
  {
   "cell_type": "code",
   "execution_count": 65,
   "metadata": {},
   "outputs": [
    {
     "data": {
      "text/plain": [
       "(2783,)"
      ]
     },
     "execution_count": 65,
     "metadata": {},
     "output_type": "execute_result"
    }
   ],
   "source": [
    "species_call.shape"
   ]
  },
  {
   "cell_type": "code",
   "execution_count": 66,
   "metadata": {},
   "outputs": [],
   "source": [
    "result_df = pd.concat([all_meta, species_call], axis=1).dropna(subset=[\"species_call\"])"
   ]
  },
  {
   "cell_type": "code",
   "execution_count": 67,
   "metadata": {},
   "outputs": [],
   "source": [
    "# for the below- we assume that no groups cross country borders. If it did, we would need to treat country as an annotation not\n",
    "# simply a grouping variable\n",
    "gg = result_df.groupby(\"new_group_id\")\n",
    "assert gg.apply(lambda y: len(y.country.unique()) == 1).all()"
   ]
  },
  {
   "cell_type": "code",
   "execution_count": 68,
   "metadata": {},
   "outputs": [
    {
     "data": {
      "text/plain": [
       "country                       new_group_id  species_call  year\n",
       "Angola                        s39           coluzzii      2009     81\n",
       "Burkina Faso                  s13           arabiensis    2014      3\n",
       "                                            coluzzii      2012     82\n",
       "                                                          2014     53\n",
       "                                            gambiae       2012     99\n",
       "                                                          2014     46\n",
       "                              s40           gambiae       2004     13\n",
       "Cameroon                      s1            coluzzii      2005      2\n",
       "                                            gambiae       2005     16\n",
       "                              s10           coluzzii      2013     12\n",
       "                                            gambiae       2005      5\n",
       "                                                          2013      5\n",
       "                              s11           gambiae       2005     13\n",
       "                              s14           gambiae       2005      4\n",
       "                              s15           gambiae       2013      3\n",
       "                              s16           gambiae       2013     12\n",
       "                              s19           gambiae       2005      2\n",
       "                              s2            coluzzii      2005      3\n",
       "                                            gambiae       2005      9\n",
       "                              s22           gambiae       2005      5\n",
       "                              s23           coluzzii      2013      2\n",
       "                                            gambiae       2013      1\n",
       "                              s24           gambiae       2005      2\n",
       "                              s25           gambiae       2009     97\n",
       "                              s26           gambiae       2005      3\n",
       "                              s4            gambiae       2005      7\n",
       "                              s47           gambiae       2005      1\n",
       "                              s48           coluzzii      2013      2\n",
       "                              s53           gambiae       2009    110\n",
       "                              s54           gambiae       2009     96\n",
       "                              s55           coluzzii      2013      2\n",
       "                                            gambiae       2013      2\n",
       "                              s6            arabiensis    2013      2\n",
       "                                            coluzzii      2005      1\n",
       "                                                          2013      1\n",
       "                                            gambiae       2005      4\n",
       "                              s7            coluzzii      2005      1\n",
       "                                            gambiae       2005      5\n",
       "                              s8            gambiae       2005      6\n",
       "                              s9            gambiae       2005      8\n",
       "Central African Republic      s52           coluzzii      1993      5\n",
       "                                                          1994     13\n",
       "                                            gambiae       1993      2\n",
       "                                                          1994     53\n",
       "Cote d'Ivoire                 s46           coluzzii      2012     80\n",
       "Democratic Republic of Congo  s51           gambiae       2015     76\n",
       "Equatorial Guinea             s49           gambiae       2002     10\n",
       "Gabon                         s50           gambiae       2000     69\n",
       "Gambia, The                   s12           coluzzii      2011      6\n",
       "                                                          2012     22\n",
       "                                            intermediate  2011     68\n",
       "                                                          2012      9\n",
       "                              s34           coluzzii      2012    172\n",
       "                                            gambiae       2012      2\n",
       "Ghana                         s18           coluzzii      2012     15\n",
       "                                            gambiae       2012     36\n",
       "                              s44           coluzzii      2012     25\n",
       "                              s45           coluzzii      2012     24\n",
       "Guinea                        s28           coluzzii      2012     11\n",
       "                                            gambiae       2012     63\n",
       "                              s41           gambiae       2012     62\n",
       "Guinea-Bissau                 s20           intermediate  2010     93\n",
       "                              s37           gambiae       2010      8\n",
       "Kenya                         s38           arabiensis    2007      3\n",
       "                                                          2012     10\n",
       "                                            gambiae       2000     19\n",
       "                                            intermediate  2012     54\n",
       "Malawi                        s27           arabiensis    2015     41\n",
       "Mali                          s17           arabiensis    2004      2\n",
       "                                            coluzzii      2004     25\n",
       "                                            gambiae       2004      1\n",
       "                              s21           gambiae       2004     32\n",
       "                              s42           coluzzii      2012     25\n",
       "                                            gambiae       2012      5\n",
       "                                            intermediate  2012      1\n",
       "                              s43           coluzzii      2012      2\n",
       "                                            gambiae       2012     60\n",
       "                                            intermediate  2012      1\n",
       "                              s5            coluzzii      2004     11\n",
       "                                                          2014     27\n",
       "                                            gambiae       2014     33\n",
       "Mayotte                       s3            gambiae       2011     23\n",
       "Mozambique                    s32           gambiae       2003      3\n",
       "                                                          2004     71\n",
       "Tanzania                      s30           arabiensis    2015    137\n",
       "                                            gambiae       2015     32\n",
       "                                            intermediate  2015      1\n",
       "                              s33           arabiensis    2012     47\n",
       "                              s35           arabiensis    2012     40\n",
       "                              s36           arabiensis    2013      1\n",
       "                                            gambiae       2013     32\n",
       "                                            intermediate  2013     10\n",
       "Uganda                        s29           arabiensis    2012      1\n",
       "                                            gambiae       2012     95\n",
       "                              s31           arabiensis    2012     81\n",
       "                                            gambiae       2012    112\n",
       "dtype: int64"
      ]
     },
     "execution_count": 68,
     "metadata": {},
     "output_type": "execute_result"
    }
   ],
   "source": [
    "g = result_df.groupby([\"country\", \"new_group_id\", \"species_call\", \"year\"])\n",
    "g.size()"
   ]
  },
  {
   "cell_type": "code",
   "execution_count": 69,
   "metadata": {},
   "outputs": [],
   "source": [
    "pop_group_size = g.species_call.transform(len)"
   ]
  },
  {
   "cell_type": "code",
   "execution_count": 70,
   "metadata": {},
   "outputs": [],
   "source": [
    "included_samples_df = result_df.loc[pop_group_size >= minimum_population_size].copy()"
   ]
  },
  {
   "cell_type": "code",
   "execution_count": 71,
   "metadata": {},
   "outputs": [],
   "source": [
    "## IMPORTANT: This only works because countries are not nested within groups.\n",
    "# now lets assign a numerical ID **within** countries.\n",
    "g = included_samples_df.groupby(\"country\")\n",
    "within_country_group = g.apply(lambda y: y.groupby(\"new_group_id\").ngroup() + 1).droplevel(0)\n",
    "\n",
    "# indices are aligned\n",
    "included_samples_df[\"within_country_group\"] = within_country_group"
   ]
  },
  {
   "cell_type": "code",
   "execution_count": 72,
   "metadata": {},
   "outputs": [
    {
     "data": {
      "text/plain": [
       "country                       within_country_group  species_call  year\n",
       "Angola                        1                     coluzzii      2009     81\n",
       "Burkina Faso                  1                     coluzzii      2012     82\n",
       "                                                                  2014     53\n",
       "                                                    gambiae       2012     99\n",
       "                                                                  2014     46\n",
       "                              2                     gambiae       2004     13\n",
       "Cameroon                      1                     gambiae       2005     16\n",
       "                              2                     coluzzii      2013     12\n",
       "                              3                     gambiae       2005     13\n",
       "                              4                     gambiae       2013     12\n",
       "                              5                     gambiae       2009     97\n",
       "                              6                     gambiae       2009    110\n",
       "                              7                     gambiae       2009     96\n",
       "Central African Republic      1                     coluzzii      1994     13\n",
       "                                                    gambiae       1994     53\n",
       "Cote d'Ivoire                 1                     coluzzii      2012     80\n",
       "Democratic Republic of Congo  1                     gambiae       2015     76\n",
       "Equatorial Guinea             1                     gambiae       2002     10\n",
       "Gabon                         1                     gambiae       2000     69\n",
       "Gambia, The                   1                     coluzzii      2012     22\n",
       "                                                    intermediate  2011     68\n",
       "                              2                     coluzzii      2012    172\n",
       "Ghana                         1                     coluzzii      2012     15\n",
       "                                                    gambiae       2012     36\n",
       "                              2                     coluzzii      2012     25\n",
       "                              3                     coluzzii      2012     24\n",
       "Guinea                        1                     coluzzii      2012     11\n",
       "                                                    gambiae       2012     63\n",
       "                              2                     gambiae       2012     62\n",
       "Guinea-Bissau                 1                     intermediate  2010     93\n",
       "Kenya                         1                     arabiensis    2012     10\n",
       "                                                    gambiae       2000     19\n",
       "                                                    intermediate  2012     54\n",
       "Malawi                        1                     arabiensis    2015     41\n",
       "Mali                          1                     coluzzii      2004     25\n",
       "                              2                     gambiae       2004     32\n",
       "                              3                     coluzzii      2012     25\n",
       "                              4                     gambiae       2012     60\n",
       "                              5                     coluzzii      2004     11\n",
       "                                                                  2014     27\n",
       "                                                    gambiae       2014     33\n",
       "Mayotte                       1                     gambiae       2011     23\n",
       "Mozambique                    1                     gambiae       2004     71\n",
       "Tanzania                      1                     arabiensis    2015    137\n",
       "                                                    gambiae       2015     32\n",
       "                              2                     arabiensis    2012     47\n",
       "                              3                     arabiensis    2012     40\n",
       "                              4                     gambiae       2013     32\n",
       "                                                    intermediate  2013     10\n",
       "Uganda                        1                     gambiae       2012     95\n",
       "                              2                     arabiensis    2012     81\n",
       "                                                    gambiae       2012    112\n",
       "dtype: int64"
      ]
     },
     "execution_count": 72,
     "metadata": {},
     "output_type": "execute_result"
    }
   ],
   "source": [
    "g = included_samples_df.groupby([\"country\", \"within_country_group\", \"species_call\", \"year\"])\n",
    "g.size()"
   ]
  },
  {
   "cell_type": "code",
   "execution_count": 73,
   "metadata": {},
   "outputs": [],
   "source": [
    "for key, ff in g:\n",
    "    if ff.shape[0] > minimum_population_size:\n",
    "        country_id, site_n, species_name, year_of_collection = key\n",
    "        label = f\"{country_id_codes[country_id]}_{site_n}_{species_name}_{year_of_collection}\"\n",
    "        population_definitions[label] = ff.index.tolist()"
   ]
  },
  {
   "cell_type": "markdown",
   "metadata": {},
   "source": [
    "## Make some summaries of population definitions\n"
   ]
  },
  {
   "cell_type": "code",
   "execution_count": 74,
   "metadata": {},
   "outputs": [],
   "source": [
    "# included_samples = set([y for x in population_definitions.values() for y in x])"
   ]
  },
  {
   "cell_type": "code",
   "execution_count": 75,
   "metadata": {},
   "outputs": [],
   "source": [
    "## check years by creating a reverse dictionary\n",
    "inv_map = {v: k for k, x in population_definitions.items() for v in x}"
   ]
  },
  {
   "cell_type": "code",
   "execution_count": 76,
   "metadata": {},
   "outputs": [],
   "source": [
    "df_species_samples[\"population_group\"] = df_species_samples.index.map(inv_map)"
   ]
  },
  {
   "cell_type": "code",
   "execution_count": 77,
   "metadata": {},
   "outputs": [
    {
     "data": {
      "text/plain": [
       "population_group         year\n",
       "ANG_1_coluzzii_2009      2009     81\n",
       "BUF_1_coluzzii_2012      2012     82\n",
       "BUF_1_coluzzii_2014      2014     53\n",
       "BUF_1_gambiae_2012       2012     99\n",
       "BUF_1_gambiae_2014       2014     46\n",
       "BUF_2_gambiae_2004       2004     13\n",
       "CAR_1_coluzzii_1994      1994     13\n",
       "CAR_1_gambiae_1994       1994     53\n",
       "CIV_1_coluzzii_2012      2012     80\n",
       "CMN_1_gambiae_2005       2005     16\n",
       "CMN_2_coluzzii_2013      2013     12\n",
       "CMN_3_gambiae_2005       2005     13\n",
       "CMN_4_gambiae_2013       2013     12\n",
       "CMN_5_gambiae_2009       2009     97\n",
       "CMN_6_gambiae_2009       2009    110\n",
       "CMN_7_gambiae_2009       2009     96\n",
       "DRC_1_gambiae_2015       2015     76\n",
       "GAB_1_gambiae_2000       2000     69\n",
       "GAM_1_coluzzii_2012      2012     22\n",
       "GAM_1_intermediate_2011  2011     68\n",
       "GAM_2_coluzzii_2012      2012    172\n",
       "GBU_1_intermediate_2010  2010     93\n",
       "GHA_1_coluzzii_2012      2012     15\n",
       "GHA_1_gambiae_2012       2012     36\n",
       "GHA_2_coluzzii_2012      2012     25\n",
       "GHA_3_coluzzii_2012      2012     24\n",
       "GUI_1_coluzzii_2012      2012     11\n",
       "GUI_1_gambiae_2012       2012     63\n",
       "GUI_2_gambiae_2012       2012     62\n",
       "KEN_1_gambiae_2000       2000     19\n",
       "KEN_1_intermediate_2012  2012     54\n",
       "MAL_1_coluzzii_2004      2004     25\n",
       "MAL_2_gambiae_2004       2004     32\n",
       "MAL_3_coluzzii_2012      2012     25\n",
       "MAL_4_gambiae_2012       2012     60\n",
       "MAL_5_coluzzii_2004      2004     11\n",
       "MAL_5_coluzzii_2014      2014     27\n",
       "MAL_5_gambiae_2014       2014     33\n",
       "MAY_1_gambiae_2011       2011     23\n",
       "MOZ_1_gambiae_2004       2004     71\n",
       "TZA_1_gambiae_2015       2015     32\n",
       "TZA_4_gambiae_2013       2013     32\n",
       "UGA_1_gambiae_2012       2012     95\n",
       "UGA_2_gambiae_2012       2012    112\n",
       "dtype: int64"
      ]
     },
     "execution_count": 77,
     "metadata": {},
     "output_type": "execute_result"
    }
   ],
   "source": [
    "df_species_samples.groupby([\"population_group\", \"year\"]).size()"
   ]
  },
  {
   "cell_type": "code",
   "execution_count": 78,
   "metadata": {},
   "outputs": [],
   "source": [
    "excl_samples = [x for x in all_meta.index if x not in included_samples_df.index]"
   ]
  },
  {
   "cell_type": "markdown",
   "metadata": {},
   "source": [
    "### Show where excluded samples come from"
   ]
  },
  {
   "cell_type": "code",
   "execution_count": 79,
   "metadata": {},
   "outputs": [
    {
     "data": {
      "text/plain": [
       "country                   location            species_gambcolu_arabiensis\n",
       "Burkina Faso              Bana                arabiensis                     1\n",
       "                          Pala                arabiensis                     2\n",
       "Cameroon                  Afan-Essokye        gamb_colu                      1\n",
       "                          Ahala               gamb_colu                      4\n",
       "                          Avebe               gamb_colu                      1\n",
       "                          Badankali           gamb_colu                      1\n",
       "                          Balda Bouri         gamb_colu                      2\n",
       "                          Bamendi             gamb_colu                      3\n",
       "                          Banda               gamb_colu                      1\n",
       "                          Beka Goto           gamb_colu                      2\n",
       "                          Bini                gamb_colu                      1\n",
       "                          Birsok              gamb_colu                      1\n",
       "                          Campo               gamb_colu                      2\n",
       "                          Carrefour Nari      gamb_colu                      1\n",
       "                          Carrefour Poli      gamb_colu                      1\n",
       "                          Djaba               gamb_colu                      2\n",
       "                          Djamboutou          gamb_colu                      1\n",
       "                          Djet                gamb_colu                      2\n",
       "                          Dolla               gamb_colu                      1\n",
       "                          Dombé               gamb_colu                      1\n",
       "                          Douala              gamb_colu                      2\n",
       "                          Essos               gamb_colu                      1\n",
       "                          Foulassi I          gamb_colu                      1\n",
       "                          Gada Mabanga        gamb_colu                      1\n",
       "                          Gakle               gamb_colu                      1\n",
       "                          Gamba               gamb_colu                      1\n",
       "                          Gouna               gamb_colu                      1\n",
       "                          Guijiba             gamb_colu                      1\n",
       "                          Harr                gamb_colu                      1\n",
       "                          Lagdo               arabiensis                     2\n",
       "                                              gamb_colu                      1\n",
       "                          Lainde Mbana        gamb_colu                      2\n",
       "                          Lamoudan            gamb_colu                      1\n",
       "                          Lougga Tapadi       gamb_colu                      1\n",
       "                          Mabarangal'L        gamb_colu                      1\n",
       "                          Makabay (Djarengo)  gamb_colu                      1\n",
       "                          Manchoutvi          gamb_colu                      2\n",
       "                          Mangoum             gamb_colu                      1\n",
       "                          Mawara              gamb_colu                      2\n",
       "                          Mayo Boki           gamb_colu                      3\n",
       "                          Mayo Dafan          gamb_colu                      1\n",
       "                          Mayo Djarani        gamb_colu                      2\n",
       "                          Mayo Lebride        gamb_colu                      2\n",
       "                          Mbalmayo            gamb_colu                      1\n",
       "                          Mgbandji            gamb_colu                      1\n",
       "                          Ngaouya Nga         gamb_colu                      1\n",
       "                          Nkolondom           gamb_colu                      5\n",
       "                          Nlozok              gamb_colu                      1\n",
       "                          Obala               gamb_colu                      1\n",
       "                          Otibili             gamb_colu                      4\n",
       "                          Palama              gamb_colu                      1\n",
       "                          Rompo               gamb_colu                      1\n",
       "                          Secamde             gamb_colu                      2\n",
       "                          Sorawel             gamb_colu                      1\n",
       "                          Séboré              gamb_colu                      1\n",
       "                          Tekel               gamb_colu                      1\n",
       "                          Tibati              gamb_colu                      4\n",
       "                          Toumbouroum         gamb_colu                      2\n",
       "                          Wouro Andre         gamb_colu                      1\n",
       "Central African Republic  Bangui              gamb_colu                      7\n",
       "Gambia, The               Njabakunda          gamb_colu                      6\n",
       "                          Sare Samba Sowe     gamb_colu                      9\n",
       "                          Wali Kunda          gamb_colu                      2\n",
       "Guinea-Bissau             Leibala             gamb_colu                      8\n",
       "Kenya                     Kilifi              arabiensis                     3\n",
       "Mali                      Douna               arabiensis                     1\n",
       "                          Fanzana             arabiensis                     1\n",
       "                                              gamb_colu                      1\n",
       "                          Takan               gamb_colu                      6\n",
       "                          Toumani Oulena      gamb_colu                      3\n",
       "Mozambique                Furvela             gamb_colu                      3\n",
       "Tanzania                  Muheza              arabiensis                     1\n",
       "                          Muleba              gamb_colu                      1\n",
       "Uganda                    Kihihi              arabiensis                     1\n",
       "                          Nagongera           intermediate                   1\n",
       "dtype: int64"
      ]
     },
     "execution_count": 79,
     "metadata": {},
     "output_type": "execute_result"
    }
   ],
   "source": [
    "all_meta.loc[excl_samples].groupby([\"country\", \"location\", \"species_gambcolu_arabiensis\"]).size()"
   ]
  },
  {
   "cell_type": "markdown",
   "metadata": {},
   "source": [
    "## Validate and write"
   ]
  },
  {
   "cell_type": "code",
   "execution_count": 80,
   "metadata": {},
   "outputs": [],
   "source": [
    "for a, b in combinations(population_definitions.keys(), 2):\n",
    "    \n",
    "    set1 = set(population_definitions[a])\n",
    "    set2 = set(population_definitions[b])\n",
    "    assert set1.isdisjoint(set2), f\"{a} and {b} are not disjoint. Share {set1.intersection(set2)}\""
   ]
  },
  {
   "cell_type": "code",
   "execution_count": 81,
   "metadata": {},
   "outputs": [],
   "source": [
    "with open(definition_file, mode=\"w\") as wr:\n",
    "    print(yaml.dump(population_definitions), file=wr)"
   ]
  },
  {
   "cell_type": "markdown",
   "metadata": {},
   "source": [
    "## TODO generate a map of where populations are from."
   ]
  },
  {
   "cell_type": "code",
   "execution_count": null,
   "metadata": {},
   "outputs": [],
   "source": []
  }
 ],
 "metadata": {
  "kernelspec": {
   "display_name": "Python 3",
   "language": "python",
   "name": "python3"
  },
  "language_info": {
   "codemirror_mode": {
    "name": "ipython",
    "version": 3
   },
   "file_extension": ".py",
   "mimetype": "text/x-python",
   "name": "python",
   "nbconvert_exporter": "python",
   "pygments_lexer": "ipython3",
   "version": "3.7.6"
  }
 },
 "nbformat": 4,
 "nbformat_minor": 4
}
