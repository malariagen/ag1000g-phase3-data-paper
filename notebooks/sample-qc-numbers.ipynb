{
 "cells": [
  {
   "cell_type": "markdown",
   "metadata": {},
   "source": [
    "## Description\n",
    "\n",
    "This notebook calculates the number of samples dropped at each step"
   ]
  },
  {
   "cell_type": "code",
   "execution_count": 1,
   "metadata": {},
   "outputs": [],
   "source": [
    "import pandas as pd\n",
    "from ag3 import release_data\n",
    "from pathlib import Path"
   ]
  },
  {
   "cell_type": "code",
   "execution_count": 2,
   "metadata": {},
   "outputs": [],
   "source": [
    "v3 = release_data()"
   ]
  },
  {
   "cell_type": "code",
   "execution_count": 58,
   "metadata": {},
   "outputs": [],
   "source": [
    "tracking_dir = Path(\"/home/jovyan/vector-ops/tracking/release/v3\")"
   ]
  },
  {
   "cell_type": "code",
   "execution_count": 67,
   "metadata": {},
   "outputs": [],
   "source": [
    "qc_paths = [\n",
    "    \"wgs_sequence_qc/sequence_qc_filters_{sset}.tsv\",\n",
    "    \"wgs_replicate_qc/replicate_qc_filters_{sset}.tsv\",\n",
    "    \"wgs_population_qc/anomaly_qc_filters_{sset}.tsv\",\n",
    "    \"wgs_population_qc/pca_qc_filters_{sset}.tsv\"\n",
    "]"
   ]
  },
  {
   "cell_type": "code",
   "execution_count": 68,
   "metadata": {},
   "outputs": [
    {
     "data": {
      "text/plain": [
       "['AG1000G-AO',\n",
       " 'AG1000G-BF-A',\n",
       " 'AG1000G-BF-B',\n",
       " 'AG1000G-BF-C',\n",
       " 'AG1000G-CD',\n",
       " 'AG1000G-CF',\n",
       " 'AG1000G-CI',\n",
       " 'AG1000G-CM-A',\n",
       " 'AG1000G-CM-B',\n",
       " 'AG1000G-CM-C',\n",
       " 'AG1000G-FR',\n",
       " 'AG1000G-GA-A',\n",
       " 'AG1000G-GH',\n",
       " 'AG1000G-GM-A',\n",
       " 'AG1000G-GM-B',\n",
       " 'AG1000G-GM-C',\n",
       " 'AG1000G-GN-A',\n",
       " 'AG1000G-GN-B',\n",
       " 'AG1000G-GQ',\n",
       " 'AG1000G-GW',\n",
       " 'AG1000G-KE',\n",
       " 'AG1000G-ML-A',\n",
       " 'AG1000G-ML-B',\n",
       " 'AG1000G-MW',\n",
       " 'AG1000G-MZ',\n",
       " 'AG1000G-TZ',\n",
       " 'AG1000G-UG',\n",
       " 'AG1000G-X',\n",
       " 'AG1000G-GA-B']"
      ]
     },
     "execution_count": 68,
     "metadata": {},
     "output_type": "execute_result"
    }
   ],
   "source": [
    "all_contrib_sets = v3.all_sample_sets + [\"AG1000G-GA-B\"]\n",
    "all_contrib_sets"
   ]
  },
  {
   "cell_type": "code",
   "execution_count": 95,
   "metadata": {},
   "outputs": [],
   "source": [
    "def read_qc_data(sample_set):\n",
    "    \n",
    "    print(sample_set, tracking_dir / qc_paths[0].format(sset=sample_set))\n",
    "    \n",
    "    return pd.concat(\n",
    "        [pd.read_csv(tracking_dir / step.format(sset=sample_set), sep=\"\\t\", index_col=\"derived_sample_id\") for step in qc_paths],\n",
    "        axis=1, \n",
    "        sort=False)        "
   ]
  },
  {
   "cell_type": "code",
   "execution_count": 96,
   "metadata": {},
   "outputs": [
    {
     "data": {
      "text/plain": [
       "(4693, 9)"
      ]
     },
     "execution_count": 96,
     "metadata": {},
     "output_type": "execute_result"
    }
   ],
   "source": [
    "seq_df.shape"
   ]
  },
  {
   "cell_type": "code",
   "execution_count": 97,
   "metadata": {},
   "outputs": [
    {
     "data": {
      "text/html": [
       "<div>\n",
       "<style scoped>\n",
       "    .dataframe tbody tr th:only-of-type {\n",
       "        vertical-align: middle;\n",
       "    }\n",
       "\n",
       "    .dataframe tbody tr th {\n",
       "        vertical-align: top;\n",
       "    }\n",
       "\n",
       "    .dataframe thead th {\n",
       "        text-align: right;\n",
       "    }\n",
       "</style>\n",
       "<table border=\"1\" class=\"dataframe\">\n",
       "  <thead>\n",
       "    <tr style=\"text-align: right;\">\n",
       "      <th></th>\n",
       "      <th>FILTER_frac_genome_cov</th>\n",
       "      <th>FILTER_median_cov</th>\n",
       "      <th>FILTER_contamination</th>\n",
       "      <th>FILTER_nosexcall</th>\n",
       "      <th>FILTER_divergence</th>\n",
       "      <th>FILTER_fail_replicateqc</th>\n",
       "      <th>FILTER_second_rep_hi_skew</th>\n",
       "      <th>FILTER_anomaly</th>\n",
       "      <th>FILTER_pca</th>\n",
       "    </tr>\n",
       "    <tr>\n",
       "      <th>derived_sample_id</th>\n",
       "      <th></th>\n",
       "      <th></th>\n",
       "      <th></th>\n",
       "      <th></th>\n",
       "      <th></th>\n",
       "      <th></th>\n",
       "      <th></th>\n",
       "      <th></th>\n",
       "      <th></th>\n",
       "    </tr>\n",
       "  </thead>\n",
       "  <tbody>\n",
       "    <tr>\n",
       "      <th>AR0047-C</th>\n",
       "      <td>PASS</td>\n",
       "      <td>PASS</td>\n",
       "      <td>PASS</td>\n",
       "      <td>PASS</td>\n",
       "      <td>PASS</td>\n",
       "      <td>PASS</td>\n",
       "      <td>PASS</td>\n",
       "      <td>PASS</td>\n",
       "      <td>PASS</td>\n",
       "    </tr>\n",
       "    <tr>\n",
       "      <th>AR0091-C</th>\n",
       "      <td>PASS</td>\n",
       "      <td>FAIL</td>\n",
       "      <td>PASS</td>\n",
       "      <td>FAIL</td>\n",
       "      <td>PASS</td>\n",
       "      <td>PASS</td>\n",
       "      <td>PASS</td>\n",
       "      <td>PASS</td>\n",
       "      <td>PASS</td>\n",
       "    </tr>\n",
       "    <tr>\n",
       "      <th>AR0049-C</th>\n",
       "      <td>PASS</td>\n",
       "      <td>PASS</td>\n",
       "      <td>PASS</td>\n",
       "      <td>PASS</td>\n",
       "      <td>PASS</td>\n",
       "      <td>PASS</td>\n",
       "      <td>PASS</td>\n",
       "      <td>PASS</td>\n",
       "      <td>PASS</td>\n",
       "    </tr>\n",
       "    <tr>\n",
       "      <th>AR0051-C</th>\n",
       "      <td>PASS</td>\n",
       "      <td>PASS</td>\n",
       "      <td>PASS</td>\n",
       "      <td>PASS</td>\n",
       "      <td>PASS</td>\n",
       "      <td>PASS</td>\n",
       "      <td>PASS</td>\n",
       "      <td>PASS</td>\n",
       "      <td>PASS</td>\n",
       "    </tr>\n",
       "    <tr>\n",
       "      <th>AR0061-C</th>\n",
       "      <td>PASS</td>\n",
       "      <td>PASS</td>\n",
       "      <td>PASS</td>\n",
       "      <td>PASS</td>\n",
       "      <td>PASS</td>\n",
       "      <td>PASS</td>\n",
       "      <td>PASS</td>\n",
       "      <td>PASS</td>\n",
       "      <td>PASS</td>\n",
       "    </tr>\n",
       "    <tr>\n",
       "      <th>...</th>\n",
       "      <td>...</td>\n",
       "      <td>...</td>\n",
       "      <td>...</td>\n",
       "      <td>...</td>\n",
       "      <td>...</td>\n",
       "      <td>...</td>\n",
       "      <td>...</td>\n",
       "      <td>...</td>\n",
       "      <td>...</td>\n",
       "    </tr>\n",
       "    <tr>\n",
       "      <th>AS0105-CW</th>\n",
       "      <td>PASS</td>\n",
       "      <td>FAIL</td>\n",
       "      <td>FAIL</td>\n",
       "      <td>PASS</td>\n",
       "      <td>PASS</td>\n",
       "      <td>PASS</td>\n",
       "      <td>PASS</td>\n",
       "      <td>PASS</td>\n",
       "      <td>PASS</td>\n",
       "    </tr>\n",
       "    <tr>\n",
       "      <th>AS0090-CW</th>\n",
       "      <td>PASS</td>\n",
       "      <td>PASS</td>\n",
       "      <td>FAIL</td>\n",
       "      <td>FAIL</td>\n",
       "      <td>PASS</td>\n",
       "      <td>PASS</td>\n",
       "      <td>PASS</td>\n",
       "      <td>PASS</td>\n",
       "      <td>PASS</td>\n",
       "    </tr>\n",
       "    <tr>\n",
       "      <th>AS0106-CW</th>\n",
       "      <td>PASS</td>\n",
       "      <td>FAIL</td>\n",
       "      <td>PASS</td>\n",
       "      <td>FAIL</td>\n",
       "      <td>PASS</td>\n",
       "      <td>PASS</td>\n",
       "      <td>PASS</td>\n",
       "      <td>PASS</td>\n",
       "      <td>PASS</td>\n",
       "    </tr>\n",
       "    <tr>\n",
       "      <th>AS0093-CW</th>\n",
       "      <td>PASS</td>\n",
       "      <td>PASS</td>\n",
       "      <td>FAIL</td>\n",
       "      <td>FAIL</td>\n",
       "      <td>PASS</td>\n",
       "      <td>PASS</td>\n",
       "      <td>PASS</td>\n",
       "      <td>PASS</td>\n",
       "      <td>PASS</td>\n",
       "    </tr>\n",
       "    <tr>\n",
       "      <th>AS0111-CW</th>\n",
       "      <td>PASS</td>\n",
       "      <td>PASS</td>\n",
       "      <td>FAIL</td>\n",
       "      <td>PASS</td>\n",
       "      <td>PASS</td>\n",
       "      <td>PASS</td>\n",
       "      <td>PASS</td>\n",
       "      <td>PASS</td>\n",
       "      <td>PASS</td>\n",
       "    </tr>\n",
       "  </tbody>\n",
       "</table>\n",
       "<p>4693 rows × 9 columns</p>\n",
       "</div>"
      ],
      "text/plain": [
       "                  FILTER_frac_genome_cov  ... FILTER_pca\n",
       "derived_sample_id                         ...           \n",
       "AR0047-C                            PASS  ...       PASS\n",
       "AR0091-C                            PASS  ...       PASS\n",
       "AR0049-C                            PASS  ...       PASS\n",
       "AR0051-C                            PASS  ...       PASS\n",
       "AR0061-C                            PASS  ...       PASS\n",
       "...                                  ...  ...        ...\n",
       "AS0105-CW                           PASS  ...       PASS\n",
       "AS0090-CW                           PASS  ...       PASS\n",
       "AS0106-CW                           PASS  ...       PASS\n",
       "AS0093-CW                           PASS  ...       PASS\n",
       "AS0111-CW                           PASS  ...       PASS\n",
       "\n",
       "[4693 rows x 9 columns]"
      ]
     },
     "execution_count": 97,
     "metadata": {},
     "output_type": "execute_result"
    }
   ],
   "source": [
    "seq_df"
   ]
  },
  {
   "cell_type": "code",
   "execution_count": 98,
   "metadata": {},
   "outputs": [],
   "source": [
    "# create an object that tells us which step failed, and ignore subsequent failures.\n",
    "int_fail_df = ((seq_df == \"FAIL\").cumsum(axis=1) == 1) & (seq_df == \"FAIL\")"
   ]
  },
  {
   "cell_type": "code",
   "execution_count": 99,
   "metadata": {},
   "outputs": [],
   "source": [
    "# check the max fail is 1 per row.\n",
    "assert int_fail_df.sum(1).max() == 1"
   ]
  },
  {
   "cell_type": "code",
   "execution_count": 100,
   "metadata": {},
   "outputs": [
    {
     "data": {
      "text/plain": [
       "FILTER_frac_genome_cov       227\n",
       "FILTER_median_cov            183\n",
       "FILTER_contamination         229\n",
       "FILTER_nosexcall              29\n",
       "FILTER_divergence             17\n",
       "FILTER_fail_replicateqc        8\n",
       "FILTER_second_rep_hi_skew    407\n",
       "FILTER_anomaly                82\n",
       "FILTER_pca                    28\n",
       "dtype: int64"
      ]
     },
     "execution_count": 100,
     "metadata": {},
     "output_type": "execute_result"
    }
   ],
   "source": [
    "int_fail_df.sum(0)"
   ]
  },
  {
   "cell_type": "code",
   "execution_count": 101,
   "metadata": {},
   "outputs": [
    {
     "data": {
      "text/plain": [
       "668"
      ]
     },
     "execution_count": 101,
     "metadata": {},
     "output_type": "execute_result"
    }
   ],
   "source": [
    "int_fail_df[int_fail_df.columns[:4]].sum(0).sum()"
   ]
  },
  {
   "cell_type": "code",
   "execution_count": 102,
   "metadata": {},
   "outputs": [
    {
     "data": {
      "text/plain": [
       "FILTER_frac_genome_cov    227\n",
       "FILTER_median_cov         183\n",
       "FILTER_contamination      229\n",
       "FILTER_nosexcall           29\n",
       "dtype: int64"
      ]
     },
     "execution_count": 102,
     "metadata": {},
     "output_type": "execute_result"
    }
   ],
   "source": [
    "int_fail_df[int_fail_df.columns[:4]].sum(0)"
   ]
  },
  {
   "cell_type": "code",
   "execution_count": 103,
   "metadata": {},
   "outputs": [
    {
     "data": {
      "text/plain": [
       "410"
      ]
     },
     "execution_count": 103,
     "metadata": {},
     "output_type": "execute_result"
    }
   ],
   "source": [
    "227 + 183"
   ]
  },
  {
   "cell_type": "code",
   "execution_count": 108,
   "metadata": {},
   "outputs": [
    {
     "data": {
      "text/plain": [
       "1210"
      ]
     },
     "execution_count": 108,
     "metadata": {},
     "output_type": "execute_result"
    }
   ],
   "source": [
    "n_fail = int_fail_df.sum(axis=0).sum()\n",
    "n_fail"
   ]
  },
  {
   "cell_type": "code",
   "execution_count": 107,
   "metadata": {},
   "outputs": [
    {
     "data": {
      "text/plain": [
       "3483"
      ]
     },
     "execution_count": 107,
     "metadata": {},
     "output_type": "execute_result"
    }
   ],
   "source": [
    "n_all_pass = (seq_df == \"PASS\").all(axis=1).sum()\n",
    "n_all_pass"
   ]
  },
  {
   "cell_type": "code",
   "execution_count": 110,
   "metadata": {},
   "outputs": [
    {
     "data": {
      "text/plain": [
       "0.7421691881525676"
      ]
     },
     "execution_count": 110,
     "metadata": {},
     "output_type": "execute_result"
    }
   ],
   "source": [
    "n_all_pass / (n_all_pass + n_fail)"
   ]
  },
  {
   "cell_type": "code",
   "execution_count": null,
   "metadata": {},
   "outputs": [],
   "source": []
  }
 ],
 "metadata": {
  "kernelspec": {
   "display_name": "Python 3",
   "language": "python",
   "name": "python3"
  },
  "language_info": {
   "codemirror_mode": {
    "name": "ipython",
    "version": 3
   },
   "file_extension": ".py",
   "mimetype": "text/x-python",
   "name": "python",
   "nbconvert_exporter": "python",
   "pygments_lexer": "ipython3",
   "version": "3.7.6"
  }
 },
 "nbformat": 4,
 "nbformat_minor": 4
}
