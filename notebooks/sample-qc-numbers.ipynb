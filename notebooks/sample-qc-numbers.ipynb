{
 "cells": [
  {
   "cell_type": "markdown",
   "metadata": {},
   "source": [
    "## Description\n",
    "\n",
    "This notebook calculates the number of samples dropped at each step"
   ]
  },
  {
   "cell_type": "code",
   "execution_count": 1,
   "metadata": {},
   "outputs": [],
   "source": [
    "import pandas as pd\n",
    "from ag3 import release_data\n",
    "from pathlib import Path"
   ]
  },
  {
   "cell_type": "code",
   "execution_count": 2,
   "metadata": {},
   "outputs": [],
   "source": [
    "v3 = release_data()"
   ]
  },
  {
   "cell_type": "code",
   "execution_count": 3,
   "metadata": {},
   "outputs": [],
   "source": [
    "tracking_dir = Path(\"../../vector-ops/tracking/release/v3\")"
   ]
  },
  {
   "cell_type": "code",
   "execution_count": 4,
   "metadata": {},
   "outputs": [],
   "source": [
    "qc_paths = [\n",
    "    \"wgs_sequence_qc/sequence_qc_filters_{sset}.tsv\",\n",
    "    \"wgs_replicate_qc/replicate_qc_filters_{sset}.tsv\",\n",
    "    \"wgs_population_qc/anomaly_qc_filters_{sset}.tsv\",\n",
    "    \"wgs_population_qc/pca_qc_filters_{sset}.tsv\"\n",
    "]"
   ]
  },
  {
   "cell_type": "code",
   "execution_count": 5,
   "metadata": {},
   "outputs": [
    {
     "data": {
      "text/plain": [
       "['AG1000G-AO',\n",
       " 'AG1000G-BF-A',\n",
       " 'AG1000G-BF-B',\n",
       " 'AG1000G-BF-C',\n",
       " 'AG1000G-CD',\n",
       " 'AG1000G-CF',\n",
       " 'AG1000G-CI',\n",
       " 'AG1000G-CM-A',\n",
       " 'AG1000G-CM-B',\n",
       " 'AG1000G-CM-C',\n",
       " 'AG1000G-FR',\n",
       " 'AG1000G-GA-A',\n",
       " 'AG1000G-GH',\n",
       " 'AG1000G-GM-A',\n",
       " 'AG1000G-GM-B',\n",
       " 'AG1000G-GM-C',\n",
       " 'AG1000G-GN-A',\n",
       " 'AG1000G-GN-B',\n",
       " 'AG1000G-GQ',\n",
       " 'AG1000G-GW',\n",
       " 'AG1000G-KE',\n",
       " 'AG1000G-ML-A',\n",
       " 'AG1000G-ML-B',\n",
       " 'AG1000G-MW',\n",
       " 'AG1000G-MZ',\n",
       " 'AG1000G-TZ',\n",
       " 'AG1000G-UG',\n",
       " 'AG1000G-X',\n",
       " 'AG1000G-GA-B']"
      ]
     },
     "execution_count": 5,
     "metadata": {},
     "output_type": "execute_result"
    }
   ],
   "source": [
    "all_contrib_sets = v3.all_sample_sets + [\"AG1000G-GA-B\"]\n",
    "all_contrib_sets"
   ]
  },
  {
   "cell_type": "code",
   "execution_count": 6,
   "metadata": {},
   "outputs": [],
   "source": [
    "def read_qc_data(sample_set):\n",
    "    \n",
    "    print(sample_set, tracking_dir / qc_paths[0].format(sset=sample_set))\n",
    "    \n",
    "    return pd.concat(\n",
    "        [pd.read_csv(tracking_dir / step.format(sset=sample_set), sep=\"\\t\", index_col=\"derived_sample_id\") for step in qc_paths],\n",
    "        axis=1, \n",
    "        sort=False)        "
   ]
  },
  {
   "cell_type": "code",
   "execution_count": 7,
   "metadata": {},
   "outputs": [
    {
     "name": "stdout",
     "output_type": "stream",
     "text": [
      "AG1000G-AO ../../vector-ops/tracking/release/v3/wgs_sequence_qc/sequence_qc_filters_AG1000G-AO.tsv\n",
      "AG1000G-BF-A ../../vector-ops/tracking/release/v3/wgs_sequence_qc/sequence_qc_filters_AG1000G-BF-A.tsv\n",
      "AG1000G-BF-B ../../vector-ops/tracking/release/v3/wgs_sequence_qc/sequence_qc_filters_AG1000G-BF-B.tsv\n",
      "AG1000G-BF-C ../../vector-ops/tracking/release/v3/wgs_sequence_qc/sequence_qc_filters_AG1000G-BF-C.tsv\n",
      "AG1000G-CD ../../vector-ops/tracking/release/v3/wgs_sequence_qc/sequence_qc_filters_AG1000G-CD.tsv\n",
      "AG1000G-CF ../../vector-ops/tracking/release/v3/wgs_sequence_qc/sequence_qc_filters_AG1000G-CF.tsv\n",
      "AG1000G-CI ../../vector-ops/tracking/release/v3/wgs_sequence_qc/sequence_qc_filters_AG1000G-CI.tsv\n",
      "AG1000G-CM-A ../../vector-ops/tracking/release/v3/wgs_sequence_qc/sequence_qc_filters_AG1000G-CM-A.tsv\n",
      "AG1000G-CM-B ../../vector-ops/tracking/release/v3/wgs_sequence_qc/sequence_qc_filters_AG1000G-CM-B.tsv\n",
      "AG1000G-CM-C ../../vector-ops/tracking/release/v3/wgs_sequence_qc/sequence_qc_filters_AG1000G-CM-C.tsv\n",
      "AG1000G-FR ../../vector-ops/tracking/release/v3/wgs_sequence_qc/sequence_qc_filters_AG1000G-FR.tsv\n",
      "AG1000G-GA-A ../../vector-ops/tracking/release/v3/wgs_sequence_qc/sequence_qc_filters_AG1000G-GA-A.tsv\n",
      "AG1000G-GH ../../vector-ops/tracking/release/v3/wgs_sequence_qc/sequence_qc_filters_AG1000G-GH.tsv\n",
      "AG1000G-GM-A ../../vector-ops/tracking/release/v3/wgs_sequence_qc/sequence_qc_filters_AG1000G-GM-A.tsv\n",
      "AG1000G-GM-B ../../vector-ops/tracking/release/v3/wgs_sequence_qc/sequence_qc_filters_AG1000G-GM-B.tsv\n",
      "AG1000G-GM-C ../../vector-ops/tracking/release/v3/wgs_sequence_qc/sequence_qc_filters_AG1000G-GM-C.tsv\n",
      "AG1000G-GN-A ../../vector-ops/tracking/release/v3/wgs_sequence_qc/sequence_qc_filters_AG1000G-GN-A.tsv\n",
      "AG1000G-GN-B ../../vector-ops/tracking/release/v3/wgs_sequence_qc/sequence_qc_filters_AG1000G-GN-B.tsv\n",
      "AG1000G-GQ ../../vector-ops/tracking/release/v3/wgs_sequence_qc/sequence_qc_filters_AG1000G-GQ.tsv\n",
      "AG1000G-GW ../../vector-ops/tracking/release/v3/wgs_sequence_qc/sequence_qc_filters_AG1000G-GW.tsv\n",
      "AG1000G-KE ../../vector-ops/tracking/release/v3/wgs_sequence_qc/sequence_qc_filters_AG1000G-KE.tsv\n",
      "AG1000G-ML-A ../../vector-ops/tracking/release/v3/wgs_sequence_qc/sequence_qc_filters_AG1000G-ML-A.tsv\n",
      "AG1000G-ML-B ../../vector-ops/tracking/release/v3/wgs_sequence_qc/sequence_qc_filters_AG1000G-ML-B.tsv\n",
      "AG1000G-MW ../../vector-ops/tracking/release/v3/wgs_sequence_qc/sequence_qc_filters_AG1000G-MW.tsv\n",
      "AG1000G-MZ ../../vector-ops/tracking/release/v3/wgs_sequence_qc/sequence_qc_filters_AG1000G-MZ.tsv\n",
      "AG1000G-TZ ../../vector-ops/tracking/release/v3/wgs_sequence_qc/sequence_qc_filters_AG1000G-TZ.tsv\n",
      "AG1000G-UG ../../vector-ops/tracking/release/v3/wgs_sequence_qc/sequence_qc_filters_AG1000G-UG.tsv\n",
      "AG1000G-X ../../vector-ops/tracking/release/v3/wgs_sequence_qc/sequence_qc_filters_AG1000G-X.tsv\n"
     ]
    }
   ],
   "source": [
    "seq_df = pd.concat(\n",
    "    [read_qc_data(x) for x in v3.all_sample_sets], axis=0)"
   ]
  },
  {
   "cell_type": "code",
   "execution_count": 8,
   "metadata": {},
   "outputs": [],
   "source": [
    "# create an object that tells us which step failed, and ignore subsequent failures.\n",
    "int_fail_df = ((seq_df == \"FAIL\").cumsum(axis=1) == 1) & (seq_df == \"FAIL\")"
   ]
  },
  {
   "cell_type": "code",
   "execution_count": 9,
   "metadata": {},
   "outputs": [],
   "source": [
    "# check the max fail is 1 per row.\n",
    "assert int_fail_df.sum(1).max() == 1"
   ]
  },
  {
   "cell_type": "code",
   "execution_count": 10,
   "metadata": {},
   "outputs": [
    {
     "data": {
      "text/plain": [
       "FILTER_frac_genome_cov       227\n",
       "FILTER_median_cov            154\n",
       "FILTER_contamination         192\n",
       "FILTER_nosexcall              25\n",
       "FILTER_divergence             17\n",
       "FILTER_fail_replicateqc        8\n",
       "FILTER_second_rep_hi_skew    407\n",
       "FILTER_anomaly                82\n",
       "FILTER_pca                    26\n",
       "dtype: int64"
      ]
     },
     "execution_count": 10,
     "metadata": {},
     "output_type": "execute_result"
    }
   ],
   "source": [
    "int_fail_df.sum(0)"
   ]
  },
  {
   "cell_type": "code",
   "execution_count": 11,
   "metadata": {},
   "outputs": [
    {
     "data": {
      "text/plain": [
       "598"
      ]
     },
     "execution_count": 11,
     "metadata": {},
     "output_type": "execute_result"
    }
   ],
   "source": [
    "int_fail_df[int_fail_df.columns[:4]].sum(0).sum()"
   ]
  },
  {
   "cell_type": "code",
   "execution_count": 12,
   "metadata": {},
   "outputs": [
    {
     "data": {
      "text/plain": [
       "FILTER_frac_genome_cov    227\n",
       "FILTER_median_cov         154\n",
       "FILTER_contamination      192\n",
       "FILTER_nosexcall           25\n",
       "dtype: int64"
      ]
     },
     "execution_count": 12,
     "metadata": {},
     "output_type": "execute_result"
    }
   ],
   "source": [
    "int_fail_df[int_fail_df.columns[:4]].sum(0)"
   ]
  },
  {
   "cell_type": "code",
   "execution_count": 13,
   "metadata": {},
   "outputs": [
    {
     "data": {
      "text/plain": [
       "410"
      ]
     },
     "execution_count": 13,
     "metadata": {},
     "output_type": "execute_result"
    }
   ],
   "source": [
    "227 + 183"
   ]
  },
  {
   "cell_type": "code",
   "execution_count": 14,
   "metadata": {},
   "outputs": [
    {
     "data": {
      "text/plain": [
       "1138"
      ]
     },
     "execution_count": 14,
     "metadata": {},
     "output_type": "execute_result"
    }
   ],
   "source": [
    "n_fail = int_fail_df.sum(axis=0).sum()\n",
    "n_fail"
   ]
  },
  {
   "cell_type": "code",
   "execution_count": 15,
   "metadata": {},
   "outputs": [
    {
     "data": {
      "text/plain": [
       "3483"
      ]
     },
     "execution_count": 15,
     "metadata": {},
     "output_type": "execute_result"
    }
   ],
   "source": [
    "n_all_pass = (seq_df == \"PASS\").all(axis=1).sum()\n",
    "n_all_pass"
   ]
  },
  {
   "cell_type": "code",
   "execution_count": 16,
   "metadata": {},
   "outputs": [
    {
     "data": {
      "text/plain": [
       "0.7537329582341484"
      ]
     },
     "execution_count": 16,
     "metadata": {},
     "output_type": "execute_result"
    }
   ],
   "source": [
    "n_all_pass / (n_all_pass + n_fail)"
   ]
  },
  {
   "cell_type": "markdown",
   "metadata": {},
   "source": [
    "## What happened to samples in phase 2?"
   ]
  },
  {
   "cell_type": "code",
   "execution_count": 17,
   "metadata": {},
   "outputs": [],
   "source": [
    "phase2_samples = pd.read_csv(\"../data/phase2_samples.meta.txt\", sep=\"\\t\", index_col=0)"
   ]
  },
  {
   "cell_type": "code",
   "execution_count": 18,
   "metadata": {},
   "outputs": [
    {
     "data": {
      "text/plain": [
       "FILTER_frac_genome_cov         0\n",
       "FILTER_median_cov              0\n",
       "FILTER_contamination           0\n",
       "FILTER_nosexcall               1\n",
       "FILTER_divergence              0\n",
       "FILTER_fail_replicateqc        4\n",
       "FILTER_second_rep_hi_skew    172\n",
       "FILTER_anomaly                 0\n",
       "FILTER_pca                     4\n",
       "dtype: int64"
      ]
     },
     "execution_count": 18,
     "metadata": {},
     "output_type": "execute_result"
    }
   ],
   "source": [
    "phase2_filter_reasons = int_fail_df.loc[phase2_samples.index]\n",
    "phase2_filter_reasons.sum(0)\n"
   ]
  },
  {
   "cell_type": "code",
   "execution_count": 19,
   "metadata": {},
   "outputs": [
    {
     "data": {
      "text/html": [
       "<div>\n",
       "<style scoped>\n",
       "    .dataframe tbody tr th:only-of-type {\n",
       "        vertical-align: middle;\n",
       "    }\n",
       "\n",
       "    .dataframe tbody tr th {\n",
       "        vertical-align: top;\n",
       "    }\n",
       "\n",
       "    .dataframe thead th {\n",
       "        text-align: right;\n",
       "    }\n",
       "</style>\n",
       "<table border=\"1\" class=\"dataframe\">\n",
       "  <thead>\n",
       "    <tr style=\"text-align: right;\">\n",
       "      <th></th>\n",
       "      <th>FILTER_frac_genome_cov</th>\n",
       "      <th>FILTER_median_cov</th>\n",
       "      <th>FILTER_contamination</th>\n",
       "      <th>FILTER_nosexcall</th>\n",
       "      <th>FILTER_divergence</th>\n",
       "      <th>FILTER_fail_replicateqc</th>\n",
       "      <th>FILTER_second_rep_hi_skew</th>\n",
       "      <th>FILTER_anomaly</th>\n",
       "      <th>FILTER_pca</th>\n",
       "    </tr>\n",
       "    <tr>\n",
       "      <th>ox_code</th>\n",
       "      <th></th>\n",
       "      <th></th>\n",
       "      <th></th>\n",
       "      <th></th>\n",
       "      <th></th>\n",
       "      <th></th>\n",
       "      <th></th>\n",
       "      <th></th>\n",
       "      <th></th>\n",
       "    </tr>\n",
       "  </thead>\n",
       "  <tbody>\n",
       "    <tr>\n",
       "      <th>AB0085-C</th>\n",
       "      <td>False</td>\n",
       "      <td>False</td>\n",
       "      <td>False</td>\n",
       "      <td>False</td>\n",
       "      <td>False</td>\n",
       "      <td>False</td>\n",
       "      <td>True</td>\n",
       "      <td>False</td>\n",
       "      <td>False</td>\n",
       "    </tr>\n",
       "    <tr>\n",
       "      <th>AB0171-C</th>\n",
       "      <td>False</td>\n",
       "      <td>False</td>\n",
       "      <td>False</td>\n",
       "      <td>False</td>\n",
       "      <td>False</td>\n",
       "      <td>False</td>\n",
       "      <td>True</td>\n",
       "      <td>False</td>\n",
       "      <td>False</td>\n",
       "    </tr>\n",
       "    <tr>\n",
       "      <th>AB0172-C</th>\n",
       "      <td>False</td>\n",
       "      <td>False</td>\n",
       "      <td>False</td>\n",
       "      <td>False</td>\n",
       "      <td>False</td>\n",
       "      <td>False</td>\n",
       "      <td>True</td>\n",
       "      <td>False</td>\n",
       "      <td>False</td>\n",
       "    </tr>\n",
       "    <tr>\n",
       "      <th>AB0175-C</th>\n",
       "      <td>False</td>\n",
       "      <td>False</td>\n",
       "      <td>False</td>\n",
       "      <td>False</td>\n",
       "      <td>False</td>\n",
       "      <td>False</td>\n",
       "      <td>True</td>\n",
       "      <td>False</td>\n",
       "      <td>False</td>\n",
       "    </tr>\n",
       "    <tr>\n",
       "      <th>AB0176-C</th>\n",
       "      <td>False</td>\n",
       "      <td>False</td>\n",
       "      <td>False</td>\n",
       "      <td>False</td>\n",
       "      <td>False</td>\n",
       "      <td>False</td>\n",
       "      <td>True</td>\n",
       "      <td>False</td>\n",
       "      <td>False</td>\n",
       "    </tr>\n",
       "  </tbody>\n",
       "</table>\n",
       "</div>"
      ],
      "text/plain": [
       "          FILTER_frac_genome_cov  FILTER_median_cov  FILTER_contamination  \\\n",
       "ox_code                                                                     \n",
       "AB0085-C                   False              False                 False   \n",
       "AB0171-C                   False              False                 False   \n",
       "AB0172-C                   False              False                 False   \n",
       "AB0175-C                   False              False                 False   \n",
       "AB0176-C                   False              False                 False   \n",
       "\n",
       "          FILTER_nosexcall  FILTER_divergence  FILTER_fail_replicateqc  \\\n",
       "ox_code                                                                  \n",
       "AB0085-C             False              False                    False   \n",
       "AB0171-C             False              False                    False   \n",
       "AB0172-C             False              False                    False   \n",
       "AB0175-C             False              False                    False   \n",
       "AB0176-C             False              False                    False   \n",
       "\n",
       "          FILTER_second_rep_hi_skew  FILTER_anomaly  FILTER_pca  \n",
       "ox_code                                                          \n",
       "AB0085-C                       True           False       False  \n",
       "AB0171-C                       True           False       False  \n",
       "AB0172-C                       True           False       False  \n",
       "AB0175-C                       True           False       False  \n",
       "AB0176-C                       True           False       False  "
      ]
     },
     "execution_count": 19,
     "metadata": {},
     "output_type": "execute_result"
    }
   ],
   "source": [
    "# find an example of a phase 2 samples that failed 2nd replicate filter and check makes sense.\n",
    "phase2_filter_reasons.query(\"FILTER_second_rep_hi_skew\").head()"
   ]
  },
  {
   "cell_type": "code",
   "execution_count": 20,
   "metadata": {},
   "outputs": [
    {
     "data": {
      "text/html": [
       "<div>\n",
       "<style scoped>\n",
       "    .dataframe tbody tr th:only-of-type {\n",
       "        vertical-align: middle;\n",
       "    }\n",
       "\n",
       "    .dataframe tbody tr th {\n",
       "        vertical-align: top;\n",
       "    }\n",
       "\n",
       "    .dataframe thead th {\n",
       "        text-align: right;\n",
       "    }\n",
       "</style>\n",
       "<table border=\"1\" class=\"dataframe\">\n",
       "  <thead>\n",
       "    <tr style=\"text-align: right;\">\n",
       "      <th></th>\n",
       "      <th>FILTER_frac_genome_cov</th>\n",
       "      <th>FILTER_median_cov</th>\n",
       "      <th>FILTER_contamination</th>\n",
       "      <th>FILTER_nosexcall</th>\n",
       "      <th>FILTER_divergence</th>\n",
       "      <th>FILTER_fail_replicateqc</th>\n",
       "      <th>FILTER_second_rep_hi_skew</th>\n",
       "      <th>FILTER_anomaly</th>\n",
       "      <th>FILTER_pca</th>\n",
       "    </tr>\n",
       "    <tr>\n",
       "      <th>derived_sample_id</th>\n",
       "      <th></th>\n",
       "      <th></th>\n",
       "      <th></th>\n",
       "      <th></th>\n",
       "      <th></th>\n",
       "      <th></th>\n",
       "      <th></th>\n",
       "      <th></th>\n",
       "      <th></th>\n",
       "    </tr>\n",
       "  </thead>\n",
       "  <tbody>\n",
       "    <tr>\n",
       "      <th>AB0085-C</th>\n",
       "      <td>PASS</td>\n",
       "      <td>PASS</td>\n",
       "      <td>PASS</td>\n",
       "      <td>PASS</td>\n",
       "      <td>PASS</td>\n",
       "      <td>PASS</td>\n",
       "      <td>FAIL</td>\n",
       "      <td>PASS</td>\n",
       "      <td>PASS</td>\n",
       "    </tr>\n",
       "    <tr>\n",
       "      <th>AB0085-Cx</th>\n",
       "      <td>PASS</td>\n",
       "      <td>PASS</td>\n",
       "      <td>PASS</td>\n",
       "      <td>PASS</td>\n",
       "      <td>PASS</td>\n",
       "      <td>PASS</td>\n",
       "      <td>PASS</td>\n",
       "      <td>PASS</td>\n",
       "      <td>PASS</td>\n",
       "    </tr>\n",
       "  </tbody>\n",
       "</table>\n",
       "</div>"
      ],
      "text/plain": [
       "                  FILTER_frac_genome_cov FILTER_median_cov  \\\n",
       "derived_sample_id                                            \n",
       "AB0085-C                            PASS              PASS   \n",
       "AB0085-Cx                           PASS              PASS   \n",
       "\n",
       "                  FILTER_contamination FILTER_nosexcall FILTER_divergence  \\\n",
       "derived_sample_id                                                           \n",
       "AB0085-C                          PASS             PASS              PASS   \n",
       "AB0085-Cx                         PASS             PASS              PASS   \n",
       "\n",
       "                  FILTER_fail_replicateqc FILTER_second_rep_hi_skew  \\\n",
       "derived_sample_id                                                     \n",
       "AB0085-C                             PASS                      FAIL   \n",
       "AB0085-Cx                            PASS                      PASS   \n",
       "\n",
       "                  FILTER_anomaly FILTER_pca  \n",
       "derived_sample_id                            \n",
       "AB0085-C                    PASS       PASS  \n",
       "AB0085-Cx                   PASS       PASS  "
      ]
     },
     "execution_count": 20,
     "metadata": {},
     "output_type": "execute_result"
    }
   ],
   "source": [
    "seq_df.loc[[\"AB0085-C\", \"AB0085-Cx\"]]"
   ]
  },
  {
   "cell_type": "code",
   "execution_count": 21,
   "metadata": {},
   "outputs": [
    {
     "data": {
      "text/html": [
       "<div>\n",
       "<style scoped>\n",
       "    .dataframe tbody tr th:only-of-type {\n",
       "        vertical-align: middle;\n",
       "    }\n",
       "\n",
       "    .dataframe tbody tr th {\n",
       "        vertical-align: top;\n",
       "    }\n",
       "\n",
       "    .dataframe thead th {\n",
       "        text-align: right;\n",
       "    }\n",
       "</style>\n",
       "<table border=\"1\" class=\"dataframe\">\n",
       "  <thead>\n",
       "    <tr style=\"text-align: right;\">\n",
       "      <th></th>\n",
       "      <th>FILTER_frac_genome_cov</th>\n",
       "      <th>FILTER_median_cov</th>\n",
       "      <th>FILTER_contamination</th>\n",
       "      <th>FILTER_nosexcall</th>\n",
       "      <th>FILTER_divergence</th>\n",
       "      <th>FILTER_fail_replicateqc</th>\n",
       "      <th>FILTER_second_rep_hi_skew</th>\n",
       "      <th>FILTER_anomaly</th>\n",
       "      <th>FILTER_pca</th>\n",
       "    </tr>\n",
       "    <tr>\n",
       "      <th>derived_sample_id</th>\n",
       "      <th></th>\n",
       "      <th></th>\n",
       "      <th></th>\n",
       "      <th></th>\n",
       "      <th></th>\n",
       "      <th></th>\n",
       "      <th></th>\n",
       "      <th></th>\n",
       "      <th></th>\n",
       "    </tr>\n",
       "  </thead>\n",
       "  <tbody>\n",
       "    <tr>\n",
       "      <th>AB0171-C</th>\n",
       "      <td>PASS</td>\n",
       "      <td>PASS</td>\n",
       "      <td>PASS</td>\n",
       "      <td>PASS</td>\n",
       "      <td>PASS</td>\n",
       "      <td>PASS</td>\n",
       "      <td>FAIL</td>\n",
       "      <td>PASS</td>\n",
       "      <td>PASS</td>\n",
       "    </tr>\n",
       "    <tr>\n",
       "      <th>AB0171-Cx</th>\n",
       "      <td>PASS</td>\n",
       "      <td>PASS</td>\n",
       "      <td>PASS</td>\n",
       "      <td>PASS</td>\n",
       "      <td>PASS</td>\n",
       "      <td>PASS</td>\n",
       "      <td>PASS</td>\n",
       "      <td>PASS</td>\n",
       "      <td>PASS</td>\n",
       "    </tr>\n",
       "  </tbody>\n",
       "</table>\n",
       "</div>"
      ],
      "text/plain": [
       "                  FILTER_frac_genome_cov FILTER_median_cov  \\\n",
       "derived_sample_id                                            \n",
       "AB0171-C                            PASS              PASS   \n",
       "AB0171-Cx                           PASS              PASS   \n",
       "\n",
       "                  FILTER_contamination FILTER_nosexcall FILTER_divergence  \\\n",
       "derived_sample_id                                                           \n",
       "AB0171-C                          PASS             PASS              PASS   \n",
       "AB0171-Cx                         PASS             PASS              PASS   \n",
       "\n",
       "                  FILTER_fail_replicateqc FILTER_second_rep_hi_skew  \\\n",
       "derived_sample_id                                                     \n",
       "AB0171-C                             PASS                      FAIL   \n",
       "AB0171-Cx                            PASS                      PASS   \n",
       "\n",
       "                  FILTER_anomaly FILTER_pca  \n",
       "derived_sample_id                            \n",
       "AB0171-C                    PASS       PASS  \n",
       "AB0171-Cx                   PASS       PASS  "
      ]
     },
     "execution_count": 21,
     "metadata": {},
     "output_type": "execute_result"
    }
   ],
   "source": [
    "seq_df.loc[[\"AB0171-C\", \"AB0171-Cx\"]]"
   ]
  },
  {
   "cell_type": "code",
   "execution_count": 22,
   "metadata": {},
   "outputs": [
    {
     "data": {
      "text/html": [
       "<div>\n",
       "<style scoped>\n",
       "    .dataframe tbody tr th:only-of-type {\n",
       "        vertical-align: middle;\n",
       "    }\n",
       "\n",
       "    .dataframe tbody tr th {\n",
       "        vertical-align: top;\n",
       "    }\n",
       "\n",
       "    .dataframe thead th {\n",
       "        text-align: right;\n",
       "    }\n",
       "</style>\n",
       "<table border=\"1\" class=\"dataframe\">\n",
       "  <thead>\n",
       "    <tr style=\"text-align: right;\">\n",
       "      <th></th>\n",
       "      <th>FILTER_frac_genome_cov</th>\n",
       "      <th>FILTER_median_cov</th>\n",
       "      <th>FILTER_contamination</th>\n",
       "      <th>FILTER_nosexcall</th>\n",
       "      <th>FILTER_divergence</th>\n",
       "      <th>FILTER_fail_replicateqc</th>\n",
       "      <th>FILTER_second_rep_hi_skew</th>\n",
       "      <th>FILTER_anomaly</th>\n",
       "      <th>FILTER_pca</th>\n",
       "    </tr>\n",
       "    <tr>\n",
       "      <th>derived_sample_id</th>\n",
       "      <th></th>\n",
       "      <th></th>\n",
       "      <th></th>\n",
       "      <th></th>\n",
       "      <th></th>\n",
       "      <th></th>\n",
       "      <th></th>\n",
       "      <th></th>\n",
       "      <th></th>\n",
       "    </tr>\n",
       "  </thead>\n",
       "  <tbody>\n",
       "    <tr>\n",
       "      <th>AB0176-C</th>\n",
       "      <td>PASS</td>\n",
       "      <td>PASS</td>\n",
       "      <td>PASS</td>\n",
       "      <td>PASS</td>\n",
       "      <td>PASS</td>\n",
       "      <td>PASS</td>\n",
       "      <td>FAIL</td>\n",
       "      <td>PASS</td>\n",
       "      <td>PASS</td>\n",
       "    </tr>\n",
       "    <tr>\n",
       "      <th>AB0176-Cx</th>\n",
       "      <td>PASS</td>\n",
       "      <td>PASS</td>\n",
       "      <td>PASS</td>\n",
       "      <td>PASS</td>\n",
       "      <td>PASS</td>\n",
       "      <td>PASS</td>\n",
       "      <td>PASS</td>\n",
       "      <td>PASS</td>\n",
       "      <td>PASS</td>\n",
       "    </tr>\n",
       "  </tbody>\n",
       "</table>\n",
       "</div>"
      ],
      "text/plain": [
       "                  FILTER_frac_genome_cov FILTER_median_cov  \\\n",
       "derived_sample_id                                            \n",
       "AB0176-C                            PASS              PASS   \n",
       "AB0176-Cx                           PASS              PASS   \n",
       "\n",
       "                  FILTER_contamination FILTER_nosexcall FILTER_divergence  \\\n",
       "derived_sample_id                                                           \n",
       "AB0176-C                          PASS             PASS              PASS   \n",
       "AB0176-Cx                         PASS             PASS              PASS   \n",
       "\n",
       "                  FILTER_fail_replicateqc FILTER_second_rep_hi_skew  \\\n",
       "derived_sample_id                                                     \n",
       "AB0176-C                             PASS                      FAIL   \n",
       "AB0176-Cx                            PASS                      PASS   \n",
       "\n",
       "                  FILTER_anomaly FILTER_pca  \n",
       "derived_sample_id                            \n",
       "AB0176-C                    PASS       PASS  \n",
       "AB0176-Cx                   PASS       PASS  "
      ]
     },
     "execution_count": 22,
     "metadata": {},
     "output_type": "execute_result"
    }
   ],
   "source": [
    "seq_df.loc[[\"AB0176-C\", \"AB0176-Cx\"]]"
   ]
  }
 ],
 "metadata": {
  "kernelspec": {
   "display_name": "Python 3",
   "language": "python",
   "name": "python3"
  },
  "language_info": {
   "codemirror_mode": {
    "name": "ipython",
    "version": 3
   },
   "file_extension": ".py",
   "mimetype": "text/x-python",
   "name": "python",
   "nbconvert_exporter": "python",
   "pygments_lexer": "ipython3",
   "version": "3.7.6"
  }
 },
 "nbformat": 4,
 "nbformat_minor": 4
}
