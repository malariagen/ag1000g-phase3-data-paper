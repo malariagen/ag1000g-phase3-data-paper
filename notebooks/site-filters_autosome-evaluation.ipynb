{
 "cells": [
  {
   "cell_type": "markdown",
   "metadata": {},
   "source": [
    "# Performance assessment\n",
    "\n",
    "\n",
    "## Determine binary classification statistics \n",
    "\n",
    "For the v3 site filter, vs:\n",
    "- phase 2 accessibility map\n",
    "- permissive (100% pass, 0 fail)\n",
    "\n",
    "based on:\n",
    "- Mendelian error in all crosses (autosomes)\n",
    "- male het calls (`n_male_het`, `all_males_called`) will be used instead of `mendel_error`"
   ]
  },
  {
   "cell_type": "code",
   "execution_count": 2,
   "metadata": {},
   "outputs": [],
   "source": [
    "# Imports:\n",
    "import gcsfs\n",
    "import zarr\n",
    "import dask.array as da\n",
    "from dask.distributed import Client\n",
    "import pandas as pd\n",
    "import numpy as np\n",
    "import numba\n",
    "from pathlib import Path\n",
    "#\n",
    "import ag3\n",
    "import ag2"
   ]
  },
  {
   "cell_type": "code",
   "execution_count": 3,
   "metadata": {},
   "outputs": [],
   "source": [
    "from dask_kubernetes import KubeCluster\n",
    "from dask.distributed import Client"
   ]
  },
  {
   "cell_type": "code",
   "execution_count": 4,
   "metadata": {},
   "outputs": [
    {
     "name": "stderr",
     "output_type": "stream",
     "text": [
      "distributed.scheduler - INFO - Clear task state\n",
      "distributed.scheduler - INFO -   Scheduler at:   tcp://10.32.38.21:36289\n",
      "distributed.scheduler - INFO -   dashboard at:                     :8787\n"
     ]
    },
    {
     "data": {
      "application/vnd.jupyter.widget-view+json": {
       "model_id": "abfe3f5147ad4936917342304d1aed05",
       "version_major": 2,
       "version_minor": 0
      },
      "text/plain": [
       "VBox(children=(HTML(value='<h2>KubeCluster</h2>'), HBox(children=(HTML(value='\\n<div>\\n  <style scoped>\\n    .…"
      ]
     },
     "metadata": {},
     "output_type": "display_data"
    }
   ],
   "source": [
    "#cluster = KubeCluster()\n",
    "#cluster.adapt(minimum=0, maximum=n_workers)\n",
    "cluster = KubeCluster(n_workers=20)\n",
    "cluster"
   ]
  },
  {
   "cell_type": "code",
   "execution_count": 5,
   "metadata": {},
   "outputs": [
    {
     "name": "stderr",
     "output_type": "stream",
     "text": [
      "distributed.scheduler - INFO - Receive client connection: Client-4ceaa7e4-eeaa-11ea-854f-3a25ea0b91c3\n",
      "distributed.core - INFO - Starting established connection\n"
     ]
    },
    {
     "data": {
      "text/html": [
       "<table style=\"border: 2px solid white;\">\n",
       "<tr>\n",
       "<td style=\"vertical-align: top; border: 0px solid white\">\n",
       "<h3 style=\"text-align: left;\">Client</h3>\n",
       "<ul style=\"text-align: left; list-style: none; margin: 0; padding: 0;\">\n",
       "  <li><b>Scheduler: </b>tcp://10.32.38.21:36289</li>\n",
       "  <li><b>Dashboard: </b><a href='/user/nicholasharding/proxy/8787/status' target='_blank'>/user/nicholasharding/proxy/8787/status</a>\n",
       "</ul>\n",
       "</td>\n",
       "<td style=\"vertical-align: top; border: 0px solid white\">\n",
       "<h3 style=\"text-align: left;\">Cluster</h3>\n",
       "<ul style=\"text-align: left; list-style:none; margin: 0; padding: 0;\">\n",
       "  <li><b>Workers: </b>0</li>\n",
       "  <li><b>Cores: </b>0</li>\n",
       "  <li><b>Memory: </b>0 B</li>\n",
       "</ul>\n",
       "</td>\n",
       "</tr>\n",
       "</table>"
      ],
      "text/plain": [
       "<Client: 'tcp://10.32.38.21:36289' processes=0 threads=0, memory=0 B>"
      ]
     },
     "execution_count": 5,
     "metadata": {},
     "output_type": "execute_result"
    }
   ],
   "source": [
    "client = Client(cluster)\n",
    "client"
   ]
  },
  {
   "cell_type": "code",
   "execution_count": 6,
   "metadata": {},
   "outputs": [],
   "source": [
    "# Settings:\n",
    "cross_family_ids = ['18-5', '29-2', '36-9', '37-3', '42-4', '45-1', '46-9', '47-6', '73-2', '78-2', '80-2', 'B5', 'K2', 'K4', 'K6']\n",
    "chrom_arms = ['2R', '2L', '3R', '3L']"
   ]
  },
  {
   "cell_type": "code",
   "execution_count": 48,
   "metadata": {},
   "outputs": [],
   "source": [
    "eval_family_ids = ['B5', 'K6', '73-2', '45-1', '37-3']"
   ]
  },
  {
   "cell_type": "code",
   "execution_count": 7,
   "metadata": {},
   "outputs": [
    {
     "data": {
      "text/plain": [
       "['18-5',\n",
       " '29-2',\n",
       " '36-9',\n",
       " '37-3',\n",
       " '42-4',\n",
       " '45-1',\n",
       " '46-9',\n",
       " '47-6',\n",
       " '73-2',\n",
       " '78-2',\n",
       " '80-2',\n",
       " 'B5',\n",
       " 'K2',\n",
       " 'K4',\n",
       " 'K6']"
      ]
     },
     "execution_count": 7,
     "metadata": {},
     "output_type": "execute_result"
    }
   ],
   "source": [
    "cross_family_ids"
   ]
  },
  {
   "cell_type": "markdown",
   "metadata": {},
   "source": [
    "## Determine which crosses stats (inc. Mendelian error) are predicted by each site filter\n",
    "\n",
    "Populate the confusion matrix, such that:\n",
    "- If the crosses stats imply that a position is accessible (\"good\") and the site filter also says it passes, then mark the prediction as a `True Positive` (`TP`)\n",
    "- If the crosses stats imply that a position is accessible (\"good\") but the site filter says it fails, then mark the prediction as a `False Negative` (`FN`)\n",
    "- If the crosses stats imply that a position is inaccessible (\"bad\") and the site filter also says it fails, then mark the prediction as a `True Negative` (`TN`)\n",
    "- If the crosses stats imply that a position is inaccessible (\"bad\") but the site filter says it passes, then mark the prediction as a `False Positive` (`FP`)\n",
    "- If the crosses stats cannot determine whether a position is \"good\" or \"bad\" (e.g. there were no male het calls on the X chromosome, but not all samples were called), then mark the prediction result as undetermined and exclude from subsequent stats."
   ]
  },
  {
   "cell_type": "code",
   "execution_count": 8,
   "metadata": {},
   "outputs": [],
   "source": [
    "@numba.njit\n",
    "def cross_tab_values(eval_arr, test_arr):\n",
    "    \n",
    "    out = np.zeros((2, 2))\n",
    "    \n",
    "    # TN FP\n",
    "    # FN TP\n",
    "    \n",
    "    # eval arr has \n",
    "    for i in range(eval_arr.shape[0]):\n",
    "        if eval_arr[i] == -1:\n",
    "            continue\n",
    "        \n",
    "        if test_arr[i]:\n",
    "            out[eval_arr[i], 1] += 1\n",
    "        else:\n",
    "            out[eval_arr[i], 0] += 1\n",
    "    \n",
    "    return out.reshape((1, 2, 2))"
   ]
  },
  {
   "cell_type": "code",
   "execution_count": 9,
   "metadata": {},
   "outputs": [],
   "source": [
    "ag3_release_data = ag3.release_data()\n",
    "\n",
    "def load_phase3_accessibility(chrom):\n",
    "    return ag3_release_data.load_mask(chrom, mask_id='gamb_colu')"
   ]
  },
  {
   "cell_type": "code",
   "execution_count": 10,
   "metadata": {},
   "outputs": [],
   "source": [
    "ag2_release_data = ag2.release_data()\n",
    "\n",
    "def load_phase2_accessibility(chrom):\n",
    "    \n",
    "    phase2_is_accessible = ag2_release_data.load_is_accessible(chrom)\n",
    "    filter_n = ag2_release_data.load_filter_n(chrom)\n",
    "    phase2_is_accessible_nonN = da.compress(~filter_n, phase2_is_accessible, axis=0)\n",
    "\n",
    "    # Compute chunk sizes avoids this error when concatenating arrays: ValueError: Arrays chunk sizes are unknown: (nan,)\n",
    "    phase2_is_accessible_nonN.compute_chunk_sizes() \n",
    "    return phase2_is_accessible_nonN"
   ]
  },
  {
   "cell_type": "code",
   "execution_count": 11,
   "metadata": {},
   "outputs": [],
   "source": [
    "def load_ground_truth(chrom, xid):\n",
    "    \n",
    "    if chrom == \"X\":\n",
    "        raise ValueError(\"X Not supported as hemizygous\")\n",
    "    \n",
    "    me = ag3_release_data.load_crosses(chrom, xid, 'mendel_error')\n",
    "    called = ag3_release_data.load_crosses(chrom, xid, 'n_samples_called')\n",
    "\n",
    "    training_negative = ag3_release_data.load_mask(chrom, mask_id='gamb_colu', field='training_negative')\n",
    "    training_positive = ag3_release_data.load_mask(chrom, mask_id='gamb_colu', field='training_positive')\n",
    "    training_mask = training_negative | training_positive\n",
    "\n",
    "    # Mark training sites as undetermined (-1)\n",
    "    return da.where(training_mask, -1, da.where(me > 0, 0, da.where(called == da.max(called), 1, -1)))\n"
   ]
  },
  {
   "cell_type": "code",
   "execution_count": 12,
   "metadata": {},
   "outputs": [],
   "source": [
    "def calculate_metrics_of_interest(true_neg, false_pos, false_neg, true_pos):\n",
    "    \n",
    "    r = {}\n",
    "    r[\"tpr\"] = true_pos / (true_pos + false_neg)\n",
    "    r[\"fpr\"] = false_pos / (false_pos + true_neg)\n",
    "    r[\"fdr\"] = false_pos / (true_pos + false_pos)\n",
    "    r[\"tnr\"] = 1 - (false_pos / (false_pos + true_neg))\n",
    "    r[\"youden\"] = r[\"tpr\"] + r[\"tnr\"] - 1\n",
    "    \n",
    "    return pd.Series(r)"
   ]
  },
  {
   "cell_type": "code",
   "execution_count": 13,
   "metadata": {},
   "outputs": [
    {
     "data": {
      "text/plain": [
       "['2R', '2L', '3R', '3L']"
      ]
     },
     "execution_count": 13,
     "metadata": {},
     "output_type": "execute_result"
    }
   ],
   "source": [
    "chrom_arms"
   ]
  },
  {
   "cell_type": "code",
   "execution_count": 14,
   "metadata": {},
   "outputs": [
    {
     "data": {
      "text/plain": [
       "['18-5',\n",
       " '29-2',\n",
       " '36-9',\n",
       " '37-3',\n",
       " '42-4',\n",
       " '45-1',\n",
       " '46-9',\n",
       " '47-6',\n",
       " '73-2',\n",
       " '78-2',\n",
       " '80-2',\n",
       " 'B5',\n",
       " 'K2',\n",
       " 'K4',\n",
       " 'K6']"
      ]
     },
     "execution_count": 14,
     "metadata": {},
     "output_type": "execute_result"
    }
   ],
   "source": [
    "cross_family_ids"
   ]
  },
  {
   "cell_type": "code",
   "execution_count": 15,
   "metadata": {},
   "outputs": [],
   "source": [
    "desired_chunks = (500_000,)"
   ]
  },
  {
   "cell_type": "code",
   "execution_count": 16,
   "metadata": {},
   "outputs": [
    {
     "name": "stderr",
     "output_type": "stream",
     "text": [
      "distributed.scheduler - INFO - Register tcp://10.33.155.3:34021\n",
      "distributed.scheduler - INFO - Starting worker compute stream, tcp://10.33.155.3:34021\n",
      "distributed.core - INFO - Starting established connection\n",
      "distributed.scheduler - INFO - Register tcp://10.33.170.3:42655\n",
      "distributed.scheduler - INFO - Starting worker compute stream, tcp://10.33.170.3:42655\n",
      "distributed.core - INFO - Starting established connection\n",
      "distributed.scheduler - INFO - Register tcp://10.33.142.3:39129\n",
      "distributed.scheduler - INFO - Starting worker compute stream, tcp://10.33.142.3:39129\n",
      "distributed.core - INFO - Starting established connection\n",
      "distributed.scheduler - INFO - Register tcp://10.33.178.3:42791\n",
      "distributed.scheduler - INFO - Starting worker compute stream, tcp://10.33.178.3:42791\n",
      "distributed.core - INFO - Starting established connection\n",
      "distributed.scheduler - INFO - Register tcp://10.33.173.3:46521\n",
      "distributed.scheduler - INFO - Starting worker compute stream, tcp://10.33.173.3:46521\n",
      "distributed.core - INFO - Starting established connection\n",
      "distributed.scheduler - INFO - Register tcp://10.33.174.3:32973\n",
      "distributed.scheduler - INFO - Starting worker compute stream, tcp://10.33.174.3:32973\n",
      "distributed.core - INFO - Starting established connection\n",
      "distributed.scheduler - INFO - Register tcp://10.33.169.3:37565\n",
      "distributed.scheduler - INFO - Starting worker compute stream, tcp://10.33.169.3:37565\n",
      "distributed.core - INFO - Starting established connection\n",
      "distributed.scheduler - INFO - Register tcp://10.33.152.3:42187\n",
      "distributed.scheduler - INFO - Starting worker compute stream, tcp://10.33.152.3:42187\n",
      "distributed.core - INFO - Starting established connection\n",
      "distributed.scheduler - INFO - Register tcp://10.33.149.3:38935\n",
      "distributed.scheduler - INFO - Starting worker compute stream, tcp://10.33.149.3:38935\n",
      "distributed.core - INFO - Starting established connection\n",
      "distributed.scheduler - INFO - Register tcp://10.33.156.3:39337\n",
      "distributed.scheduler - INFO - Starting worker compute stream, tcp://10.33.156.3:39337\n",
      "distributed.core - INFO - Starting established connection\n",
      "distributed.scheduler - INFO - Register tcp://10.33.159.3:37251\n",
      "distributed.scheduler - INFO - Starting worker compute stream, tcp://10.33.159.3:37251\n",
      "distributed.core - INFO - Starting established connection\n",
      "distributed.scheduler - INFO - Register tcp://10.33.179.3:38255\n",
      "distributed.scheduler - INFO - Starting worker compute stream, tcp://10.33.179.3:38255\n",
      "distributed.core - INFO - Starting established connection\n",
      "distributed.scheduler - INFO - Register tcp://10.33.161.3:42377\n",
      "distributed.scheduler - INFO - Starting worker compute stream, tcp://10.33.161.3:42377\n",
      "distributed.core - INFO - Starting established connection\n",
      "distributed.scheduler - INFO - Register tcp://10.33.162.3:32857\n",
      "distributed.scheduler - INFO - Starting worker compute stream, tcp://10.33.162.3:32857\n",
      "distributed.core - INFO - Starting established connection\n",
      "distributed.scheduler - INFO - Register tcp://10.33.158.3:46619\n",
      "distributed.scheduler - INFO - Starting worker compute stream, tcp://10.33.158.3:46619\n",
      "distributed.core - INFO - Starting established connection\n",
      "distributed.scheduler - INFO - Register tcp://10.33.150.4:35541\n",
      "distributed.scheduler - INFO - Starting worker compute stream, tcp://10.33.150.4:35541\n",
      "distributed.core - INFO - Starting established connection\n",
      "distributed.scheduler - INFO - Register tcp://10.33.144.3:39879\n",
      "distributed.scheduler - INFO - Starting worker compute stream, tcp://10.33.144.3:39879\n",
      "distributed.core - INFO - Starting established connection\n",
      "distributed.scheduler - INFO - Register tcp://10.33.160.3:39639\n",
      "distributed.scheduler - INFO - Starting worker compute stream, tcp://10.33.160.3:39639\n",
      "distributed.core - INFO - Starting established connection\n",
      "distributed.scheduler - INFO - Register tcp://10.33.27.3:41973\n",
      "distributed.scheduler - INFO - Starting worker compute stream, tcp://10.33.27.3:41973\n",
      "distributed.core - INFO - Starting established connection\n"
     ]
    },
    {
     "name": "stdout",
     "output_type": "stream",
     "text": [
      "processing 2R 18-5\n",
      "processing 2R 29-2\n",
      "processing 2R 36-9\n",
      "processing 2R 37-3\n",
      "processing 2R 42-4\n",
      "processing 2R 45-1\n",
      "processing 2R 46-9\n",
      "processing 2R 47-6\n"
     ]
    },
    {
     "name": "stderr",
     "output_type": "stream",
     "text": [
      "distributed.scheduler - INFO - Register tcp://10.33.165.2:36619\n",
      "distributed.scheduler - INFO - Starting worker compute stream, tcp://10.33.165.2:36619\n",
      "distributed.core - INFO - Starting established connection\n"
     ]
    },
    {
     "name": "stdout",
     "output_type": "stream",
     "text": [
      "processing 2R 73-2\n"
     ]
    },
    {
     "name": "stderr",
     "output_type": "stream",
     "text": [
      "distributed.utils_perf - WARNING - full garbage collections took 10% CPU time recently (threshold: 10%)\n"
     ]
    },
    {
     "name": "stdout",
     "output_type": "stream",
     "text": [
      "processing 2R 78-2\n"
     ]
    },
    {
     "name": "stderr",
     "output_type": "stream",
     "text": [
      "distributed.utils_perf - WARNING - full garbage collections took 10% CPU time recently (threshold: 10%)\n",
      "distributed.utils_perf - WARNING - full garbage collections took 10% CPU time recently (threshold: 10%)\n",
      "distributed.utils_perf - WARNING - full garbage collections took 10% CPU time recently (threshold: 10%)\n",
      "distributed.utils_perf - WARNING - full garbage collections took 10% CPU time recently (threshold: 10%)\n",
      "distributed.utils_perf - WARNING - full garbage collections took 10% CPU time recently (threshold: 10%)\n"
     ]
    },
    {
     "name": "stdout",
     "output_type": "stream",
     "text": [
      "processing 2R 80-2\n"
     ]
    },
    {
     "name": "stderr",
     "output_type": "stream",
     "text": [
      "distributed.utils_perf - WARNING - full garbage collections took 10% CPU time recently (threshold: 10%)\n",
      "distributed.utils_perf - WARNING - full garbage collections took 10% CPU time recently (threshold: 10%)\n",
      "distributed.utils_perf - WARNING - full garbage collections took 10% CPU time recently (threshold: 10%)\n"
     ]
    },
    {
     "name": "stdout",
     "output_type": "stream",
     "text": [
      "processing 2R B5\n",
      "processing 2R K2\n",
      "processing 2R K4\n"
     ]
    },
    {
     "name": "stderr",
     "output_type": "stream",
     "text": [
      "distributed.utils_perf - WARNING - full garbage collections took 10% CPU time recently (threshold: 10%)\n",
      "distributed.utils_perf - WARNING - full garbage collections took 10% CPU time recently (threshold: 10%)\n"
     ]
    },
    {
     "name": "stdout",
     "output_type": "stream",
     "text": [
      "processing 2R K6\n"
     ]
    },
    {
     "name": "stderr",
     "output_type": "stream",
     "text": [
      "distributed.utils_perf - WARNING - full garbage collections took 10% CPU time recently (threshold: 10%)\n",
      "distributed.utils_perf - WARNING - full garbage collections took 10% CPU time recently (threshold: 10%)\n",
      "distributed.utils_perf - WARNING - full garbage collections took 10% CPU time recently (threshold: 10%)\n",
      "distributed.utils_perf - WARNING - full garbage collections took 10% CPU time recently (threshold: 10%)\n",
      "distributed.utils_perf - WARNING - full garbage collections took 10% CPU time recently (threshold: 10%)\n",
      "distributed.utils_perf - WARNING - full garbage collections took 10% CPU time recently (threshold: 10%)\n",
      "distributed.utils_perf - WARNING - full garbage collections took 10% CPU time recently (threshold: 10%)\n"
     ]
    },
    {
     "name": "stdout",
     "output_type": "stream",
     "text": [
      "processing 2L 18-5\n"
     ]
    },
    {
     "name": "stderr",
     "output_type": "stream",
     "text": [
      "distributed.utils_perf - WARNING - full garbage collections took 10% CPU time recently (threshold: 10%)\n",
      "distributed.utils_perf - WARNING - full garbage collections took 10% CPU time recently (threshold: 10%)\n",
      "distributed.utils_perf - WARNING - full garbage collections took 10% CPU time recently (threshold: 10%)\n",
      "distributed.utils_perf - WARNING - full garbage collections took 10% CPU time recently (threshold: 10%)\n"
     ]
    },
    {
     "name": "stdout",
     "output_type": "stream",
     "text": [
      "processing 2L 29-2\n"
     ]
    },
    {
     "name": "stderr",
     "output_type": "stream",
     "text": [
      "distributed.utils_perf - WARNING - full garbage collections took 10% CPU time recently (threshold: 10%)\n",
      "distributed.utils_perf - WARNING - full garbage collections took 10% CPU time recently (threshold: 10%)\n",
      "distributed.utils_perf - WARNING - full garbage collections took 10% CPU time recently (threshold: 10%)\n",
      "distributed.utils_perf - WARNING - full garbage collections took 10% CPU time recently (threshold: 10%)\n"
     ]
    },
    {
     "name": "stdout",
     "output_type": "stream",
     "text": [
      "processing 2L 36-9\n"
     ]
    },
    {
     "name": "stderr",
     "output_type": "stream",
     "text": [
      "distributed.utils_perf - WARNING - full garbage collections took 10% CPU time recently (threshold: 10%)\n",
      "distributed.utils_perf - WARNING - full garbage collections took 10% CPU time recently (threshold: 10%)\n",
      "distributed.utils_perf - WARNING - full garbage collections took 10% CPU time recently (threshold: 10%)\n",
      "distributed.utils_perf - WARNING - full garbage collections took 10% CPU time recently (threshold: 10%)\n",
      "distributed.utils_perf - WARNING - full garbage collections took 10% CPU time recently (threshold: 10%)\n"
     ]
    },
    {
     "name": "stdout",
     "output_type": "stream",
     "text": [
      "processing 2L 37-3\n"
     ]
    },
    {
     "name": "stderr",
     "output_type": "stream",
     "text": [
      "distributed.utils_perf - WARNING - full garbage collections took 10% CPU time recently (threshold: 10%)\n",
      "distributed.utils_perf - WARNING - full garbage collections took 10% CPU time recently (threshold: 10%)\n",
      "distributed.utils_perf - WARNING - full garbage collections took 10% CPU time recently (threshold: 10%)\n",
      "distributed.utils_perf - WARNING - full garbage collections took 10% CPU time recently (threshold: 10%)\n"
     ]
    },
    {
     "name": "stdout",
     "output_type": "stream",
     "text": [
      "processing 2L 42-4\n"
     ]
    },
    {
     "name": "stderr",
     "output_type": "stream",
     "text": [
      "distributed.utils_perf - WARNING - full garbage collections took 10% CPU time recently (threshold: 10%)\n",
      "distributed.utils_perf - WARNING - full garbage collections took 10% CPU time recently (threshold: 10%)\n",
      "distributed.utils_perf - WARNING - full garbage collections took 10% CPU time recently (threshold: 10%)\n",
      "distributed.utils_perf - WARNING - full garbage collections took 10% CPU time recently (threshold: 10%)\n",
      "distributed.utils_perf - WARNING - full garbage collections took 10% CPU time recently (threshold: 10%)\n"
     ]
    },
    {
     "name": "stdout",
     "output_type": "stream",
     "text": [
      "processing 2L 45-1\n"
     ]
    },
    {
     "name": "stderr",
     "output_type": "stream",
     "text": [
      "distributed.utils_perf - WARNING - full garbage collections took 10% CPU time recently (threshold: 10%)\n",
      "distributed.utils_perf - WARNING - full garbage collections took 10% CPU time recently (threshold: 10%)\n",
      "distributed.utils_perf - WARNING - full garbage collections took 10% CPU time recently (threshold: 10%)\n",
      "distributed.utils_perf - WARNING - full garbage collections took 10% CPU time recently (threshold: 10%)\n"
     ]
    },
    {
     "name": "stdout",
     "output_type": "stream",
     "text": [
      "processing 2L 46-9\n"
     ]
    },
    {
     "name": "stderr",
     "output_type": "stream",
     "text": [
      "distributed.utils_perf - WARNING - full garbage collections took 10% CPU time recently (threshold: 10%)\n",
      "distributed.utils_perf - WARNING - full garbage collections took 11% CPU time recently (threshold: 10%)\n",
      "distributed.utils_perf - WARNING - full garbage collections took 11% CPU time recently (threshold: 10%)\n",
      "distributed.utils_perf - WARNING - full garbage collections took 11% CPU time recently (threshold: 10%)\n",
      "distributed.utils_perf - WARNING - full garbage collections took 10% CPU time recently (threshold: 10%)\n"
     ]
    },
    {
     "name": "stdout",
     "output_type": "stream",
     "text": [
      "processing 2L 47-6\n"
     ]
    },
    {
     "name": "stderr",
     "output_type": "stream",
     "text": [
      "distributed.utils_perf - WARNING - full garbage collections took 10% CPU time recently (threshold: 10%)\n",
      "distributed.utils_perf - WARNING - full garbage collections took 10% CPU time recently (threshold: 10%)\n",
      "distributed.utils_perf - WARNING - full garbage collections took 11% CPU time recently (threshold: 10%)\n",
      "distributed.utils_perf - WARNING - full garbage collections took 11% CPU time recently (threshold: 10%)\n"
     ]
    },
    {
     "name": "stdout",
     "output_type": "stream",
     "text": [
      "processing 2L 73-2\n"
     ]
    },
    {
     "name": "stderr",
     "output_type": "stream",
     "text": [
      "distributed.utils_perf - WARNING - full garbage collections took 11% CPU time recently (threshold: 10%)\n",
      "distributed.utils_perf - WARNING - full garbage collections took 11% CPU time recently (threshold: 10%)\n",
      "distributed.utils_perf - WARNING - full garbage collections took 11% CPU time recently (threshold: 10%)\n",
      "distributed.utils_perf - WARNING - full garbage collections took 11% CPU time recently (threshold: 10%)\n"
     ]
    },
    {
     "name": "stdout",
     "output_type": "stream",
     "text": [
      "processing 2L 78-2\n"
     ]
    },
    {
     "name": "stderr",
     "output_type": "stream",
     "text": [
      "distributed.utils_perf - WARNING - full garbage collections took 11% CPU time recently (threshold: 10%)\n",
      "distributed.utils_perf - WARNING - full garbage collections took 11% CPU time recently (threshold: 10%)\n",
      "distributed.utils_perf - WARNING - full garbage collections took 11% CPU time recently (threshold: 10%)\n",
      "distributed.utils_perf - WARNING - full garbage collections took 11% CPU time recently (threshold: 10%)\n",
      "distributed.utils_perf - WARNING - full garbage collections took 10% CPU time recently (threshold: 10%)\n"
     ]
    },
    {
     "name": "stdout",
     "output_type": "stream",
     "text": [
      "processing 2L 80-2\n"
     ]
    },
    {
     "name": "stderr",
     "output_type": "stream",
     "text": [
      "distributed.utils_perf - WARNING - full garbage collections took 10% CPU time recently (threshold: 10%)\n",
      "distributed.utils_perf - WARNING - full garbage collections took 11% CPU time recently (threshold: 10%)\n",
      "distributed.utils_perf - WARNING - full garbage collections took 11% CPU time recently (threshold: 10%)\n",
      "distributed.utils_perf - WARNING - full garbage collections took 11% CPU time recently (threshold: 10%)\n"
     ]
    },
    {
     "name": "stdout",
     "output_type": "stream",
     "text": [
      "processing 2L B5\n"
     ]
    },
    {
     "name": "stderr",
     "output_type": "stream",
     "text": [
      "distributed.utils_perf - WARNING - full garbage collections took 11% CPU time recently (threshold: 10%)\n",
      "distributed.utils_perf - WARNING - full garbage collections took 11% CPU time recently (threshold: 10%)\n",
      "distributed.utils_perf - WARNING - full garbage collections took 11% CPU time recently (threshold: 10%)\n",
      "distributed.utils_perf - WARNING - full garbage collections took 11% CPU time recently (threshold: 10%)\n"
     ]
    },
    {
     "name": "stdout",
     "output_type": "stream",
     "text": [
      "processing 2L K2\n"
     ]
    },
    {
     "name": "stderr",
     "output_type": "stream",
     "text": [
      "distributed.utils_perf - WARNING - full garbage collections took 11% CPU time recently (threshold: 10%)\n",
      "distributed.utils_perf - WARNING - full garbage collections took 11% CPU time recently (threshold: 10%)\n",
      "distributed.utils_perf - WARNING - full garbage collections took 11% CPU time recently (threshold: 10%)\n",
      "distributed.utils_perf - WARNING - full garbage collections took 11% CPU time recently (threshold: 10%)\n",
      "distributed.utils_perf - WARNING - full garbage collections took 10% CPU time recently (threshold: 10%)\n"
     ]
    },
    {
     "name": "stdout",
     "output_type": "stream",
     "text": [
      "processing 2L K4\n"
     ]
    },
    {
     "name": "stderr",
     "output_type": "stream",
     "text": [
      "distributed.utils_perf - WARNING - full garbage collections took 11% CPU time recently (threshold: 10%)\n",
      "distributed.utils_perf - WARNING - full garbage collections took 11% CPU time recently (threshold: 10%)\n",
      "distributed.utils_perf - WARNING - full garbage collections took 11% CPU time recently (threshold: 10%)\n",
      "distributed.utils_perf - WARNING - full garbage collections took 11% CPU time recently (threshold: 10%)\n"
     ]
    },
    {
     "name": "stdout",
     "output_type": "stream",
     "text": [
      "processing 2L K6\n"
     ]
    },
    {
     "name": "stderr",
     "output_type": "stream",
     "text": [
      "distributed.utils_perf - WARNING - full garbage collections took 11% CPU time recently (threshold: 10%)\n",
      "distributed.utils_perf - WARNING - full garbage collections took 11% CPU time recently (threshold: 10%)\n",
      "distributed.utils_perf - WARNING - full garbage collections took 11% CPU time recently (threshold: 10%)\n",
      "distributed.utils_perf - WARNING - full garbage collections took 11% CPU time recently (threshold: 10%)\n",
      "distributed.utils_perf - WARNING - full garbage collections took 11% CPU time recently (threshold: 10%)\n",
      "distributed.utils_perf - WARNING - full garbage collections took 12% CPU time recently (threshold: 10%)\n",
      "distributed.utils_perf - WARNING - full garbage collections took 11% CPU time recently (threshold: 10%)\n"
     ]
    },
    {
     "name": "stdout",
     "output_type": "stream",
     "text": [
      "processing 3R 18-5\n"
     ]
    },
    {
     "name": "stderr",
     "output_type": "stream",
     "text": [
      "distributed.utils_perf - WARNING - full garbage collections took 11% CPU time recently (threshold: 10%)\n",
      "distributed.utils_perf - WARNING - full garbage collections took 11% CPU time recently (threshold: 10%)\n",
      "distributed.utils_perf - WARNING - full garbage collections took 11% CPU time recently (threshold: 10%)\n",
      "distributed.utils_perf - WARNING - full garbage collections took 11% CPU time recently (threshold: 10%)\n"
     ]
    },
    {
     "name": "stdout",
     "output_type": "stream",
     "text": [
      "processing 3R 29-2\n"
     ]
    },
    {
     "name": "stderr",
     "output_type": "stream",
     "text": [
      "distributed.utils_perf - WARNING - full garbage collections took 11% CPU time recently (threshold: 10%)\n",
      "distributed.utils_perf - WARNING - full garbage collections took 11% CPU time recently (threshold: 10%)\n",
      "distributed.utils_perf - WARNING - full garbage collections took 11% CPU time recently (threshold: 10%)\n",
      "distributed.utils_perf - WARNING - full garbage collections took 11% CPU time recently (threshold: 10%)\n",
      "distributed.utils_perf - WARNING - full garbage collections took 11% CPU time recently (threshold: 10%)\n"
     ]
    },
    {
     "name": "stdout",
     "output_type": "stream",
     "text": [
      "processing 3R 36-9\n"
     ]
    },
    {
     "name": "stderr",
     "output_type": "stream",
     "text": [
      "distributed.utils_perf - WARNING - full garbage collections took 11% CPU time recently (threshold: 10%)\n",
      "distributed.utils_perf - WARNING - full garbage collections took 11% CPU time recently (threshold: 10%)\n",
      "distributed.utils_perf - WARNING - full garbage collections took 11% CPU time recently (threshold: 10%)\n",
      "distributed.utils_perf - WARNING - full garbage collections took 12% CPU time recently (threshold: 10%)\n"
     ]
    },
    {
     "name": "stdout",
     "output_type": "stream",
     "text": [
      "processing 3R 37-3\n"
     ]
    },
    {
     "name": "stderr",
     "output_type": "stream",
     "text": [
      "distributed.utils_perf - WARNING - full garbage collections took 12% CPU time recently (threshold: 10%)\n",
      "distributed.utils_perf - WARNING - full garbage collections took 11% CPU time recently (threshold: 10%)\n",
      "distributed.utils_perf - WARNING - full garbage collections took 12% CPU time recently (threshold: 10%)\n",
      "distributed.utils_perf - WARNING - full garbage collections took 12% CPU time recently (threshold: 10%)\n"
     ]
    },
    {
     "name": "stdout",
     "output_type": "stream",
     "text": [
      "processing 3R 42-4\n"
     ]
    },
    {
     "name": "stderr",
     "output_type": "stream",
     "text": [
      "distributed.utils_perf - WARNING - full garbage collections took 12% CPU time recently (threshold: 10%)\n",
      "distributed.utils_perf - WARNING - full garbage collections took 12% CPU time recently (threshold: 10%)\n",
      "distributed.utils_perf - WARNING - full garbage collections took 12% CPU time recently (threshold: 10%)\n",
      "distributed.utils_perf - WARNING - full garbage collections took 12% CPU time recently (threshold: 10%)\n"
     ]
    },
    {
     "name": "stdout",
     "output_type": "stream",
     "text": [
      "processing 3R 45-1\n"
     ]
    },
    {
     "name": "stderr",
     "output_type": "stream",
     "text": [
      "distributed.utils_perf - WARNING - full garbage collections took 12% CPU time recently (threshold: 10%)\n",
      "distributed.utils_perf - WARNING - full garbage collections took 12% CPU time recently (threshold: 10%)\n",
      "distributed.utils_perf - WARNING - full garbage collections took 12% CPU time recently (threshold: 10%)\n",
      "distributed.utils_perf - WARNING - full garbage collections took 12% CPU time recently (threshold: 10%)\n"
     ]
    },
    {
     "name": "stdout",
     "output_type": "stream",
     "text": [
      "processing 3R 46-9\n"
     ]
    },
    {
     "name": "stderr",
     "output_type": "stream",
     "text": [
      "distributed.utils_perf - WARNING - full garbage collections took 12% CPU time recently (threshold: 10%)\n",
      "distributed.utils_perf - WARNING - full garbage collections took 11% CPU time recently (threshold: 10%)\n",
      "distributed.utils_perf - INFO - full garbage collection released 11.06 MB from 56 reference cycles (threshold: 10.00 MB)\n",
      "distributed.utils_perf - WARNING - full garbage collections took 11% CPU time recently (threshold: 10%)\n",
      "distributed.utils_perf - WARNING - full garbage collections took 11% CPU time recently (threshold: 10%)\n",
      "distributed.utils_perf - WARNING - full garbage collections took 11% CPU time recently (threshold: 10%)\n"
     ]
    },
    {
     "name": "stdout",
     "output_type": "stream",
     "text": [
      "processing 3R 47-6\n"
     ]
    },
    {
     "name": "stderr",
     "output_type": "stream",
     "text": [
      "distributed.utils_perf - WARNING - full garbage collections took 11% CPU time recently (threshold: 10%)\n",
      "distributed.utils_perf - WARNING - full garbage collections took 11% CPU time recently (threshold: 10%)\n",
      "distributed.utils_perf - WARNING - full garbage collections took 11% CPU time recently (threshold: 10%)\n",
      "distributed.utils_perf - WARNING - full garbage collections took 12% CPU time recently (threshold: 10%)\n"
     ]
    },
    {
     "name": "stdout",
     "output_type": "stream",
     "text": [
      "processing 3R 73-2\n"
     ]
    },
    {
     "name": "stderr",
     "output_type": "stream",
     "text": [
      "distributed.utils_perf - WARNING - full garbage collections took 12% CPU time recently (threshold: 10%)\n",
      "distributed.utils_perf - WARNING - full garbage collections took 12% CPU time recently (threshold: 10%)\n",
      "distributed.utils_perf - WARNING - full garbage collections took 12% CPU time recently (threshold: 10%)\n",
      "distributed.utils_perf - WARNING - full garbage collections took 12% CPU time recently (threshold: 10%)\n"
     ]
    },
    {
     "name": "stdout",
     "output_type": "stream",
     "text": [
      "processing 3R 78-2\n"
     ]
    },
    {
     "name": "stderr",
     "output_type": "stream",
     "text": [
      "distributed.utils_perf - WARNING - full garbage collections took 12% CPU time recently (threshold: 10%)\n",
      "distributed.utils_perf - WARNING - full garbage collections took 12% CPU time recently (threshold: 10%)\n",
      "distributed.utils_perf - WARNING - full garbage collections took 11% CPU time recently (threshold: 10%)\n",
      "distributed.utils_perf - WARNING - full garbage collections took 12% CPU time recently (threshold: 10%)\n"
     ]
    },
    {
     "name": "stdout",
     "output_type": "stream",
     "text": [
      "processing 3R 80-2\n"
     ]
    },
    {
     "name": "stderr",
     "output_type": "stream",
     "text": [
      "distributed.utils_perf - WARNING - full garbage collections took 12% CPU time recently (threshold: 10%)\n",
      "distributed.utils_perf - WARNING - full garbage collections took 12% CPU time recently (threshold: 10%)\n",
      "distributed.utils_perf - WARNING - full garbage collections took 12% CPU time recently (threshold: 10%)\n",
      "distributed.utils_perf - WARNING - full garbage collections took 12% CPU time recently (threshold: 10%)\n"
     ]
    },
    {
     "name": "stdout",
     "output_type": "stream",
     "text": [
      "processing 3R B5\n"
     ]
    },
    {
     "name": "stderr",
     "output_type": "stream",
     "text": [
      "distributed.utils_perf - WARNING - full garbage collections took 12% CPU time recently (threshold: 10%)\n",
      "distributed.utils_perf - WARNING - full garbage collections took 12% CPU time recently (threshold: 10%)\n",
      "distributed.utils_perf - WARNING - full garbage collections took 12% CPU time recently (threshold: 10%)\n",
      "distributed.utils_perf - WARNING - full garbage collections took 13% CPU time recently (threshold: 10%)\n"
     ]
    },
    {
     "name": "stdout",
     "output_type": "stream",
     "text": [
      "processing 3R K2\n"
     ]
    },
    {
     "name": "stderr",
     "output_type": "stream",
     "text": [
      "distributed.utils_perf - WARNING - full garbage collections took 13% CPU time recently (threshold: 10%)\n",
      "distributed.utils_perf - WARNING - full garbage collections took 13% CPU time recently (threshold: 10%)\n",
      "distributed.utils_perf - WARNING - full garbage collections took 13% CPU time recently (threshold: 10%)\n",
      "distributed.utils_perf - WARNING - full garbage collections took 13% CPU time recently (threshold: 10%)\n"
     ]
    },
    {
     "name": "stdout",
     "output_type": "stream",
     "text": [
      "processing 3R K4\n"
     ]
    },
    {
     "name": "stderr",
     "output_type": "stream",
     "text": [
      "distributed.utils_perf - WARNING - full garbage collections took 13% CPU time recently (threshold: 10%)\n",
      "distributed.utils_perf - WARNING - full garbage collections took 13% CPU time recently (threshold: 10%)\n",
      "distributed.utils_perf - WARNING - full garbage collections took 13% CPU time recently (threshold: 10%)\n",
      "distributed.utils_perf - WARNING - full garbage collections took 13% CPU time recently (threshold: 10%)\n"
     ]
    },
    {
     "name": "stdout",
     "output_type": "stream",
     "text": [
      "processing 3R K6\n"
     ]
    },
    {
     "name": "stderr",
     "output_type": "stream",
     "text": [
      "distributed.utils_perf - WARNING - full garbage collections took 13% CPU time recently (threshold: 10%)\n",
      "distributed.utils_perf - WARNING - full garbage collections took 13% CPU time recently (threshold: 10%)\n",
      "distributed.utils_perf - WARNING - full garbage collections took 13% CPU time recently (threshold: 10%)\n",
      "distributed.utils_perf - WARNING - full garbage collections took 13% CPU time recently (threshold: 10%)\n",
      "distributed.utils_perf - WARNING - full garbage collections took 13% CPU time recently (threshold: 10%)\n",
      "distributed.utils_perf - WARNING - full garbage collections took 13% CPU time recently (threshold: 10%)\n"
     ]
    },
    {
     "name": "stdout",
     "output_type": "stream",
     "text": [
      "processing 3L 18-5\n"
     ]
    },
    {
     "name": "stderr",
     "output_type": "stream",
     "text": [
      "distributed.utils_perf - WARNING - full garbage collections took 13% CPU time recently (threshold: 10%)\n",
      "distributed.utils_perf - WARNING - full garbage collections took 14% CPU time recently (threshold: 10%)\n",
      "distributed.utils_perf - WARNING - full garbage collections took 14% CPU time recently (threshold: 10%)\n"
     ]
    },
    {
     "name": "stdout",
     "output_type": "stream",
     "text": [
      "processing 3L 29-2\n"
     ]
    },
    {
     "name": "stderr",
     "output_type": "stream",
     "text": [
      "distributed.utils_perf - WARNING - full garbage collections took 14% CPU time recently (threshold: 10%)\n",
      "distributed.utils_perf - WARNING - full garbage collections took 14% CPU time recently (threshold: 10%)\n",
      "distributed.utils_perf - WARNING - full garbage collections took 13% CPU time recently (threshold: 10%)\n"
     ]
    },
    {
     "name": "stdout",
     "output_type": "stream",
     "text": [
      "processing 3L 36-9\n"
     ]
    },
    {
     "name": "stderr",
     "output_type": "stream",
     "text": [
      "distributed.utils_perf - WARNING - full garbage collections took 13% CPU time recently (threshold: 10%)\n",
      "distributed.utils_perf - WARNING - full garbage collections took 14% CPU time recently (threshold: 10%)\n",
      "distributed.utils_perf - WARNING - full garbage collections took 13% CPU time recently (threshold: 10%)\n"
     ]
    },
    {
     "name": "stdout",
     "output_type": "stream",
     "text": [
      "processing 3L 37-3\n"
     ]
    },
    {
     "name": "stderr",
     "output_type": "stream",
     "text": [
      "distributed.utils_perf - WARNING - full garbage collections took 13% CPU time recently (threshold: 10%)\n",
      "distributed.utils_perf - WARNING - full garbage collections took 13% CPU time recently (threshold: 10%)\n",
      "distributed.utils_perf - WARNING - full garbage collections took 14% CPU time recently (threshold: 10%)\n"
     ]
    },
    {
     "name": "stdout",
     "output_type": "stream",
     "text": [
      "processing 3L 42-4\n"
     ]
    },
    {
     "name": "stderr",
     "output_type": "stream",
     "text": [
      "distributed.utils_perf - WARNING - full garbage collections took 14% CPU time recently (threshold: 10%)\n",
      "distributed.utils_perf - WARNING - full garbage collections took 13% CPU time recently (threshold: 10%)\n",
      "distributed.utils_perf - WARNING - full garbage collections took 13% CPU time recently (threshold: 10%)\n"
     ]
    },
    {
     "name": "stdout",
     "output_type": "stream",
     "text": [
      "processing 3L 45-1\n"
     ]
    },
    {
     "name": "stderr",
     "output_type": "stream",
     "text": [
      "distributed.utils_perf - WARNING - full garbage collections took 13% CPU time recently (threshold: 10%)\n",
      "distributed.utils_perf - WARNING - full garbage collections took 14% CPU time recently (threshold: 10%)\n",
      "distributed.utils_perf - WARNING - full garbage collections took 13% CPU time recently (threshold: 10%)\n"
     ]
    },
    {
     "name": "stdout",
     "output_type": "stream",
     "text": [
      "processing 3L 46-9\n"
     ]
    },
    {
     "name": "stderr",
     "output_type": "stream",
     "text": [
      "distributed.utils_perf - WARNING - full garbage collections took 13% CPU time recently (threshold: 10%)\n",
      "distributed.utils_perf - WARNING - full garbage collections took 13% CPU time recently (threshold: 10%)\n",
      "distributed.utils_perf - WARNING - full garbage collections took 13% CPU time recently (threshold: 10%)\n"
     ]
    },
    {
     "name": "stdout",
     "output_type": "stream",
     "text": [
      "processing 3L 47-6\n"
     ]
    },
    {
     "name": "stderr",
     "output_type": "stream",
     "text": [
      "distributed.utils_perf - WARNING - full garbage collections took 13% CPU time recently (threshold: 10%)\n",
      "distributed.utils_perf - WARNING - full garbage collections took 12% CPU time recently (threshold: 10%)\n",
      "distributed.utils_perf - WARNING - full garbage collections took 12% CPU time recently (threshold: 10%)\n"
     ]
    },
    {
     "name": "stdout",
     "output_type": "stream",
     "text": [
      "processing 3L 73-2\n"
     ]
    },
    {
     "name": "stderr",
     "output_type": "stream",
     "text": [
      "distributed.utils_perf - WARNING - full garbage collections took 12% CPU time recently (threshold: 10%)\n",
      "distributed.utils_perf - WARNING - full garbage collections took 12% CPU time recently (threshold: 10%)\n",
      "distributed.utils_perf - WARNING - full garbage collections took 12% CPU time recently (threshold: 10%)\n"
     ]
    },
    {
     "name": "stdout",
     "output_type": "stream",
     "text": [
      "processing 3L 78-2\n"
     ]
    },
    {
     "name": "stderr",
     "output_type": "stream",
     "text": [
      "distributed.utils_perf - WARNING - full garbage collections took 12% CPU time recently (threshold: 10%)\n",
      "distributed.utils_perf - WARNING - full garbage collections took 11% CPU time recently (threshold: 10%)\n",
      "distributed.utils_perf - WARNING - full garbage collections took 11% CPU time recently (threshold: 10%)\n"
     ]
    },
    {
     "name": "stdout",
     "output_type": "stream",
     "text": [
      "processing 3L 80-2\n"
     ]
    },
    {
     "name": "stderr",
     "output_type": "stream",
     "text": [
      "distributed.utils_perf - WARNING - full garbage collections took 11% CPU time recently (threshold: 10%)\n",
      "distributed.utils_perf - WARNING - full garbage collections took 11% CPU time recently (threshold: 10%)\n",
      "distributed.utils_perf - WARNING - full garbage collections took 11% CPU time recently (threshold: 10%)\n"
     ]
    },
    {
     "name": "stdout",
     "output_type": "stream",
     "text": [
      "processing 3L B5\n"
     ]
    },
    {
     "name": "stderr",
     "output_type": "stream",
     "text": [
      "distributed.utils_perf - WARNING - full garbage collections took 11% CPU time recently (threshold: 10%)\n",
      "distributed.utils_perf - WARNING - full garbage collections took 11% CPU time recently (threshold: 10%)\n",
      "distributed.utils_perf - WARNING - full garbage collections took 11% CPU time recently (threshold: 10%)\n"
     ]
    },
    {
     "name": "stdout",
     "output_type": "stream",
     "text": [
      "processing 3L K2\n"
     ]
    },
    {
     "name": "stderr",
     "output_type": "stream",
     "text": [
      "distributed.utils_perf - WARNING - full garbage collections took 11% CPU time recently (threshold: 10%)\n",
      "distributed.utils_perf - WARNING - full garbage collections took 11% CPU time recently (threshold: 10%)\n",
      "distributed.utils_perf - WARNING - full garbage collections took 10% CPU time recently (threshold: 10%)\n"
     ]
    },
    {
     "name": "stdout",
     "output_type": "stream",
     "text": [
      "processing 3L K4\n"
     ]
    },
    {
     "name": "stderr",
     "output_type": "stream",
     "text": [
      "distributed.utils_perf - WARNING - full garbage collections took 10% CPU time recently (threshold: 10%)\n",
      "distributed.utils_perf - WARNING - full garbage collections took 10% CPU time recently (threshold: 10%)\n",
      "distributed.utils_perf - WARNING - full garbage collections took 10% CPU time recently (threshold: 10%)\n"
     ]
    },
    {
     "name": "stdout",
     "output_type": "stream",
     "text": [
      "processing 3L K6\n"
     ]
    },
    {
     "name": "stderr",
     "output_type": "stream",
     "text": [
      "distributed.utils_perf - WARNING - full garbage collections took 10% CPU time recently (threshold: 10%)\n",
      "distributed.utils_perf - WARNING - full garbage collections took 10% CPU time recently (threshold: 10%)\n",
      "distributed.utils_perf - WARNING - full garbage collections took 10% CPU time recently (threshold: 10%)\n"
     ]
    },
    {
     "name": "stdout",
     "output_type": "stream",
     "text": [
      "CPU times: user 12min 55s, sys: 35.2 s, total: 13min 31s\n",
      "Wall time: 16min 37s\n"
     ]
    }
   ],
   "source": [
    "%%time\n",
    "data_holder = {}\n",
    "\n",
    "for chrom_arm in chrom_arms:\n",
    "        \n",
    "    # varies by chrom only, but need to be chunked depending on ground_truth\n",
    "    alternative_calls = {\n",
    "        \"phase2\": load_phase2_accessibility(chrom_arm).rechunk(desired_chunks),\n",
    "        \"phase3\": load_phase3_accessibility(chrom_arm).rechunk(desired_chunks)\n",
    "    }\n",
    "    \n",
    "    alternative_calls[\"r100\"] = da.ones(alternative_calls[\"phase2\"].shape[0], dtype=np.bool, chunks=desired_chunks)\n",
    "    \n",
    "    chunks = ((1, ) * alternative_calls[\"phase2\"].numblocks[0], 2, 2)\n",
    "    x = da.map_blocks(\n",
    "        cross_tab_values, \n",
    "        alternative_calls[\"phase2\"].astype(\"int\"), \n",
    "        alternative_calls[\"phase3\"], \n",
    "        chunks=chunks,\n",
    "        dtype=np.int32,\n",
    "        new_axis=[1, 2]).sum(axis=0).compute()\n",
    "\n",
    "    for cross_id in cross_family_ids:\n",
    "        \n",
    "        print(\"processing\", chrom_arm, cross_id)\n",
    "\n",
    "        # varies by cross and chrom\n",
    "        ground_truth = load_ground_truth(chrom_arm, cross_id).rechunk(desired_chunks)\n",
    "\n",
    "\n",
    "        for key, eval_data in alternative_calls.items():\n",
    "            \n",
    "            if (key, chrom_arm, cross_id) in data_holder:\n",
    "                print(\"skipping\", (key, chrom_arm, cross_id))\n",
    "                continue\n",
    "\n",
    "            chunks = ((1, ) * ground_truth.numblocks[0], 2, 2)\n",
    "            q = da.map_blocks(\n",
    "                cross_tab_values, \n",
    "                ground_truth, \n",
    "                eval_data, \n",
    "                chunks=chunks, \n",
    "                dtype=np.int32, \n",
    "                new_axis=[1, 2]).sum(axis=0)\n",
    "\n",
    "            (tn, fp), (fn, tp) = q.compute()\n",
    "\n",
    "            # frac accessible is simply TPs + FPs. / all\n",
    "            #res[\"frac_accessible\"] = eval_data.mean().compute()\n",
    "\n",
    "            data_holder[key, chrom_arm, cross_id] = pd.Series(\n",
    "                [tn, fp, fn, tp], dtype=np.int32, index=[\"TN\", \"FP\", \"FN\", \"TP\"])\n",
    "# Wall time: 39min 24s"
   ]
  },
  {
   "cell_type": "code",
   "execution_count": 17,
   "metadata": {},
   "outputs": [],
   "source": [
    "df = pd.concat(data_holder, axis=0, sort=False, names=[\"description\", \"chrom\", \"cross_id\", \"metric\"])\n",
    "df.name = \"value\""
   ]
  },
  {
   "cell_type": "code",
   "execution_count": 23,
   "metadata": {},
   "outputs": [
    {
     "data": {
      "text/plain": [
       "description  chrom  cross_id  metric\n",
       "phase2       2R     18-5      TN          506109\n",
       "                              FP          169050\n",
       "                              FN        13561823\n",
       "                              TP        38985526\n",
       "phase3       2R     18-5      TN          532775\n",
       "                                          ...   \n",
       "             3L     K6        TP        28522274\n",
       "r100         3L     K6        TN               0\n",
       "                              FP          273090\n",
       "                              FN               0\n",
       "                              TP        35983387\n",
       "Name: value, Length: 720, dtype: int32"
      ]
     },
     "execution_count": 23,
     "metadata": {},
     "output_type": "execute_result"
    }
   ],
   "source": [
    "df"
   ]
  },
  {
   "cell_type": "code",
   "execution_count": 24,
   "metadata": {},
   "outputs": [],
   "source": [
    "output = pd.pivot_table(\n",
    "    pd.DataFrame(df).reset_index(level=\"metric\"), \n",
    "    index=[\"description\", \"chrom\", \"cross_id\"], \n",
    "    columns=\"metric\", \n",
    "    values=\"value\")"
   ]
  },
  {
   "cell_type": "code",
   "execution_count": 25,
   "metadata": {},
   "outputs": [
    {
     "data": {
      "text/html": [
       "<div>\n",
       "<style scoped>\n",
       "    .dataframe tbody tr th:only-of-type {\n",
       "        vertical-align: middle;\n",
       "    }\n",
       "\n",
       "    .dataframe tbody tr th {\n",
       "        vertical-align: top;\n",
       "    }\n",
       "\n",
       "    .dataframe thead th {\n",
       "        text-align: right;\n",
       "    }\n",
       "</style>\n",
       "<table border=\"1\" class=\"dataframe\">\n",
       "  <thead>\n",
       "    <tr style=\"text-align: right;\">\n",
       "      <th></th>\n",
       "      <th>metric</th>\n",
       "      <th>FN</th>\n",
       "      <th>FP</th>\n",
       "      <th>TN</th>\n",
       "      <th>TP</th>\n",
       "    </tr>\n",
       "    <tr>\n",
       "      <th>description</th>\n",
       "      <th>cross_id</th>\n",
       "      <th></th>\n",
       "      <th></th>\n",
       "      <th></th>\n",
       "      <th></th>\n",
       "    </tr>\n",
       "  </thead>\n",
       "  <tbody>\n",
       "    <tr>\n",
       "      <th rowspan=\"15\" valign=\"top\">phase2</th>\n",
       "      <th>18-5</th>\n",
       "      <td>52462749</td>\n",
       "      <td>530938</td>\n",
       "      <td>1846531</td>\n",
       "      <td>123336581</td>\n",
       "    </tr>\n",
       "    <tr>\n",
       "      <th>29-2</th>\n",
       "      <td>51168424</td>\n",
       "      <td>714464</td>\n",
       "      <td>2066324</td>\n",
       "      <td>123078854</td>\n",
       "    </tr>\n",
       "    <tr>\n",
       "      <th>36-9</th>\n",
       "      <td>53944629</td>\n",
       "      <td>208023</td>\n",
       "      <td>1792916</td>\n",
       "      <td>123777030</td>\n",
       "    </tr>\n",
       "    <tr>\n",
       "      <th>37-3</th>\n",
       "      <td>54999285</td>\n",
       "      <td>247028</td>\n",
       "      <td>1749469</td>\n",
       "      <td>123748305</td>\n",
       "    </tr>\n",
       "    <tr>\n",
       "      <th>42-4</th>\n",
       "      <td>55349482</td>\n",
       "      <td>119417</td>\n",
       "      <td>1148603</td>\n",
       "      <td>124022245</td>\n",
       "    </tr>\n",
       "    <tr>\n",
       "      <th>45-1</th>\n",
       "      <td>54051247</td>\n",
       "      <td>196013</td>\n",
       "      <td>1474033</td>\n",
       "      <td>123837019</td>\n",
       "    </tr>\n",
       "    <tr>\n",
       "      <th>46-9</th>\n",
       "      <td>52787669</td>\n",
       "      <td>283228</td>\n",
       "      <td>1913174</td>\n",
       "      <td>123590590</td>\n",
       "    </tr>\n",
       "    <tr>\n",
       "      <th>47-6</th>\n",
       "      <td>53913301</td>\n",
       "      <td>231437</td>\n",
       "      <td>1497438</td>\n",
       "      <td>123805832</td>\n",
       "    </tr>\n",
       "    <tr>\n",
       "      <th>73-2</th>\n",
       "      <td>53611476</td>\n",
       "      <td>156703</td>\n",
       "      <td>1539479</td>\n",
       "      <td>123889152</td>\n",
       "    </tr>\n",
       "    <tr>\n",
       "      <th>78-2</th>\n",
       "      <td>54387076</td>\n",
       "      <td>157935</td>\n",
       "      <td>1296058</td>\n",
       "      <td>123921582</td>\n",
       "    </tr>\n",
       "    <tr>\n",
       "      <th>80-2</th>\n",
       "      <td>53629149</td>\n",
       "      <td>276881</td>\n",
       "      <td>1456303</td>\n",
       "      <td>123812885</td>\n",
       "    </tr>\n",
       "    <tr>\n",
       "      <th>B5</th>\n",
       "      <td>54925162</td>\n",
       "      <td>99630</td>\n",
       "      <td>1330501</td>\n",
       "      <td>123880988</td>\n",
       "    </tr>\n",
       "    <tr>\n",
       "      <th>K2</th>\n",
       "      <td>54931595</td>\n",
       "      <td>96047</td>\n",
       "      <td>1476857</td>\n",
       "      <td>123874852</td>\n",
       "    </tr>\n",
       "    <tr>\n",
       "      <th>K4</th>\n",
       "      <td>55280576</td>\n",
       "      <td>75907</td>\n",
       "      <td>1245637</td>\n",
       "      <td>123931645</td>\n",
       "    </tr>\n",
       "    <tr>\n",
       "      <th>K6</th>\n",
       "      <td>54522203</td>\n",
       "      <td>73390</td>\n",
       "      <td>1272897</td>\n",
       "      <td>123897320</td>\n",
       "    </tr>\n",
       "    <tr>\n",
       "      <th rowspan=\"15\" valign=\"top\">phase3</th>\n",
       "      <th>18-5</th>\n",
       "      <td>31085474</td>\n",
       "      <td>470500</td>\n",
       "      <td>1906969</td>\n",
       "      <td>144713856</td>\n",
       "    </tr>\n",
       "    <tr>\n",
       "      <th>29-2</th>\n",
       "      <td>29840246</td>\n",
       "      <td>657787</td>\n",
       "      <td>2123001</td>\n",
       "      <td>144407032</td>\n",
       "    </tr>\n",
       "    <tr>\n",
       "      <th>36-9</th>\n",
       "      <td>32432596</td>\n",
       "      <td>116141</td>\n",
       "      <td>1884798</td>\n",
       "      <td>145289063</td>\n",
       "    </tr>\n",
       "    <tr>\n",
       "      <th>37-3</th>\n",
       "      <td>33481368</td>\n",
       "      <td>150540</td>\n",
       "      <td>1845957</td>\n",
       "      <td>145266222</td>\n",
       "    </tr>\n",
       "    <tr>\n",
       "      <th>42-4</th>\n",
       "      <td>33958846</td>\n",
       "      <td>49268</td>\n",
       "      <td>1218752</td>\n",
       "      <td>145412881</td>\n",
       "    </tr>\n",
       "    <tr>\n",
       "      <th>45-1</th>\n",
       "      <td>32608471</td>\n",
       "      <td>100161</td>\n",
       "      <td>1569885</td>\n",
       "      <td>145279795</td>\n",
       "    </tr>\n",
       "    <tr>\n",
       "      <th>46-9</th>\n",
       "      <td>31268626</td>\n",
       "      <td>178092</td>\n",
       "      <td>2018310</td>\n",
       "      <td>145109633</td>\n",
       "    </tr>\n",
       "    <tr>\n",
       "      <th>47-6</th>\n",
       "      <td>32474572</td>\n",
       "      <td>137979</td>\n",
       "      <td>1590896</td>\n",
       "      <td>145244561</td>\n",
       "    </tr>\n",
       "    <tr>\n",
       "      <th>73-2</th>\n",
       "      <td>32107427</td>\n",
       "      <td>71830</td>\n",
       "      <td>1624352</td>\n",
       "      <td>145393201</td>\n",
       "    </tr>\n",
       "    <tr>\n",
       "      <th>78-2</th>\n",
       "      <td>32975058</td>\n",
       "      <td>64396</td>\n",
       "      <td>1389597</td>\n",
       "      <td>145333600</td>\n",
       "    </tr>\n",
       "    <tr>\n",
       "      <th>80-2</th>\n",
       "      <td>32205907</td>\n",
       "      <td>175213</td>\n",
       "      <td>1557971</td>\n",
       "      <td>145236127</td>\n",
       "    </tr>\n",
       "    <tr>\n",
       "      <th>B5</th>\n",
       "      <td>33540645</td>\n",
       "      <td>87827</td>\n",
       "      <td>1342304</td>\n",
       "      <td>145265505</td>\n",
       "    </tr>\n",
       "    <tr>\n",
       "      <th>K2</th>\n",
       "      <td>33504134</td>\n",
       "      <td>79692</td>\n",
       "      <td>1493212</td>\n",
       "      <td>145302313</td>\n",
       "    </tr>\n",
       "    <tr>\n",
       "      <th>K4</th>\n",
       "      <td>33861174</td>\n",
       "      <td>56000</td>\n",
       "      <td>1265544</td>\n",
       "      <td>145351047</td>\n",
       "    </tr>\n",
       "    <tr>\n",
       "      <th>K6</th>\n",
       "      <td>33074026</td>\n",
       "      <td>53932</td>\n",
       "      <td>1292355</td>\n",
       "      <td>145345497</td>\n",
       "    </tr>\n",
       "    <tr>\n",
       "      <th rowspan=\"15\" valign=\"top\">r100</th>\n",
       "      <th>18-5</th>\n",
       "      <td>0</td>\n",
       "      <td>2377469</td>\n",
       "      <td>0</td>\n",
       "      <td>175799330</td>\n",
       "    </tr>\n",
       "    <tr>\n",
       "      <th>29-2</th>\n",
       "      <td>0</td>\n",
       "      <td>2780788</td>\n",
       "      <td>0</td>\n",
       "      <td>174247278</td>\n",
       "    </tr>\n",
       "    <tr>\n",
       "      <th>36-9</th>\n",
       "      <td>0</td>\n",
       "      <td>2000939</td>\n",
       "      <td>0</td>\n",
       "      <td>177721659</td>\n",
       "    </tr>\n",
       "    <tr>\n",
       "      <th>37-3</th>\n",
       "      <td>0</td>\n",
       "      <td>1996497</td>\n",
       "      <td>0</td>\n",
       "      <td>178747590</td>\n",
       "    </tr>\n",
       "    <tr>\n",
       "      <th>42-4</th>\n",
       "      <td>0</td>\n",
       "      <td>1268020</td>\n",
       "      <td>0</td>\n",
       "      <td>179371727</td>\n",
       "    </tr>\n",
       "    <tr>\n",
       "      <th>45-1</th>\n",
       "      <td>0</td>\n",
       "      <td>1670046</td>\n",
       "      <td>0</td>\n",
       "      <td>177888266</td>\n",
       "    </tr>\n",
       "    <tr>\n",
       "      <th>46-9</th>\n",
       "      <td>0</td>\n",
       "      <td>2196402</td>\n",
       "      <td>0</td>\n",
       "      <td>176378259</td>\n",
       "    </tr>\n",
       "    <tr>\n",
       "      <th>47-6</th>\n",
       "      <td>0</td>\n",
       "      <td>1728875</td>\n",
       "      <td>0</td>\n",
       "      <td>177719133</td>\n",
       "    </tr>\n",
       "    <tr>\n",
       "      <th>73-2</th>\n",
       "      <td>0</td>\n",
       "      <td>1696182</td>\n",
       "      <td>0</td>\n",
       "      <td>177500628</td>\n",
       "    </tr>\n",
       "    <tr>\n",
       "      <th>78-2</th>\n",
       "      <td>0</td>\n",
       "      <td>1453993</td>\n",
       "      <td>0</td>\n",
       "      <td>178308658</td>\n",
       "    </tr>\n",
       "    <tr>\n",
       "      <th>80-2</th>\n",
       "      <td>0</td>\n",
       "      <td>1733184</td>\n",
       "      <td>0</td>\n",
       "      <td>177442034</td>\n",
       "    </tr>\n",
       "    <tr>\n",
       "      <th>B5</th>\n",
       "      <td>0</td>\n",
       "      <td>1430131</td>\n",
       "      <td>0</td>\n",
       "      <td>178806150</td>\n",
       "    </tr>\n",
       "    <tr>\n",
       "      <th>K2</th>\n",
       "      <td>0</td>\n",
       "      <td>1572904</td>\n",
       "      <td>0</td>\n",
       "      <td>178806447</td>\n",
       "    </tr>\n",
       "    <tr>\n",
       "      <th>K4</th>\n",
       "      <td>0</td>\n",
       "      <td>1321544</td>\n",
       "      <td>0</td>\n",
       "      <td>179212221</td>\n",
       "    </tr>\n",
       "    <tr>\n",
       "      <th>K6</th>\n",
       "      <td>0</td>\n",
       "      <td>1346287</td>\n",
       "      <td>0</td>\n",
       "      <td>178419523</td>\n",
       "    </tr>\n",
       "  </tbody>\n",
       "</table>\n",
       "</div>"
      ],
      "text/plain": [
       "metric                      FN       FP       TN         TP\n",
       "description cross_id                                       \n",
       "phase2      18-5      52462749   530938  1846531  123336581\n",
       "            29-2      51168424   714464  2066324  123078854\n",
       "            36-9      53944629   208023  1792916  123777030\n",
       "            37-3      54999285   247028  1749469  123748305\n",
       "            42-4      55349482   119417  1148603  124022245\n",
       "            45-1      54051247   196013  1474033  123837019\n",
       "            46-9      52787669   283228  1913174  123590590\n",
       "            47-6      53913301   231437  1497438  123805832\n",
       "            73-2      53611476   156703  1539479  123889152\n",
       "            78-2      54387076   157935  1296058  123921582\n",
       "            80-2      53629149   276881  1456303  123812885\n",
       "            B5        54925162    99630  1330501  123880988\n",
       "            K2        54931595    96047  1476857  123874852\n",
       "            K4        55280576    75907  1245637  123931645\n",
       "            K6        54522203    73390  1272897  123897320\n",
       "phase3      18-5      31085474   470500  1906969  144713856\n",
       "            29-2      29840246   657787  2123001  144407032\n",
       "            36-9      32432596   116141  1884798  145289063\n",
       "            37-3      33481368   150540  1845957  145266222\n",
       "            42-4      33958846    49268  1218752  145412881\n",
       "            45-1      32608471   100161  1569885  145279795\n",
       "            46-9      31268626   178092  2018310  145109633\n",
       "            47-6      32474572   137979  1590896  145244561\n",
       "            73-2      32107427    71830  1624352  145393201\n",
       "            78-2      32975058    64396  1389597  145333600\n",
       "            80-2      32205907   175213  1557971  145236127\n",
       "            B5        33540645    87827  1342304  145265505\n",
       "            K2        33504134    79692  1493212  145302313\n",
       "            K4        33861174    56000  1265544  145351047\n",
       "            K6        33074026    53932  1292355  145345497\n",
       "r100        18-5             0  2377469        0  175799330\n",
       "            29-2             0  2780788        0  174247278\n",
       "            36-9             0  2000939        0  177721659\n",
       "            37-3             0  1996497        0  178747590\n",
       "            42-4             0  1268020        0  179371727\n",
       "            45-1             0  1670046        0  177888266\n",
       "            46-9             0  2196402        0  176378259\n",
       "            47-6             0  1728875        0  177719133\n",
       "            73-2             0  1696182        0  177500628\n",
       "            78-2             0  1453993        0  178308658\n",
       "            80-2             0  1733184        0  177442034\n",
       "            B5               0  1430131        0  178806150\n",
       "            K2               0  1572904        0  178806447\n",
       "            K4               0  1321544        0  179212221\n",
       "            K6               0  1346287        0  178419523"
      ]
     },
     "execution_count": 25,
     "metadata": {},
     "output_type": "execute_result"
    }
   ],
   "source": [
    "output_all_chroms = output.groupby(level=[0, 2]).agg(np.sum)\n",
    "output_all_chroms"
   ]
  },
  {
   "cell_type": "code",
   "execution_count": 26,
   "metadata": {},
   "outputs": [],
   "source": [
    "output_summary = output.apply(lambda y: calculate_metrics_of_interest(*y), axis=1)"
   ]
  },
  {
   "cell_type": "code",
   "execution_count": 27,
   "metadata": {},
   "outputs": [
    {
     "data": {
      "text/html": [
       "<div>\n",
       "<style scoped>\n",
       "    .dataframe tbody tr th:only-of-type {\n",
       "        vertical-align: middle;\n",
       "    }\n",
       "\n",
       "    .dataframe tbody tr th {\n",
       "        vertical-align: top;\n",
       "    }\n",
       "\n",
       "    .dataframe thead th {\n",
       "        text-align: right;\n",
       "    }\n",
       "</style>\n",
       "<table border=\"1\" class=\"dataframe\">\n",
       "  <thead>\n",
       "    <tr style=\"text-align: right;\">\n",
       "      <th></th>\n",
       "      <th></th>\n",
       "      <th>tpr</th>\n",
       "      <th>fpr</th>\n",
       "      <th>fdr</th>\n",
       "      <th>tnr</th>\n",
       "      <th>youden</th>\n",
       "    </tr>\n",
       "    <tr>\n",
       "      <th>description</th>\n",
       "      <th>cross_id</th>\n",
       "      <th></th>\n",
       "      <th></th>\n",
       "      <th></th>\n",
       "      <th></th>\n",
       "      <th></th>\n",
       "    </tr>\n",
       "  </thead>\n",
       "  <tbody>\n",
       "    <tr>\n",
       "      <th rowspan=\"15\" valign=\"top\">phase2</th>\n",
       "      <th>18-5</th>\n",
       "      <td>0.985249</td>\n",
       "      <td>0.010019</td>\n",
       "      <td>0.004286</td>\n",
       "      <td>0.989981</td>\n",
       "      <td>0.975230</td>\n",
       "    </tr>\n",
       "    <tr>\n",
       "      <th>29-2</th>\n",
       "      <td>0.983489</td>\n",
       "      <td>0.013771</td>\n",
       "      <td>0.005771</td>\n",
       "      <td>0.986229</td>\n",
       "      <td>0.969718</td>\n",
       "    </tr>\n",
       "    <tr>\n",
       "      <th>36-9</th>\n",
       "      <td>0.985722</td>\n",
       "      <td>0.003841</td>\n",
       "      <td>0.001678</td>\n",
       "      <td>0.996159</td>\n",
       "      <td>0.981880</td>\n",
       "    </tr>\n",
       "    <tr>\n",
       "      <th>37-3</th>\n",
       "      <td>0.986060</td>\n",
       "      <td>0.004471</td>\n",
       "      <td>0.001992</td>\n",
       "      <td>0.995529</td>\n",
       "      <td>0.981588</td>\n",
       "    </tr>\n",
       "    <tr>\n",
       "      <th>42-4</th>\n",
       "      <td>0.990824</td>\n",
       "      <td>0.002153</td>\n",
       "      <td>0.000962</td>\n",
       "      <td>0.997847</td>\n",
       "      <td>0.988671</td>\n",
       "    </tr>\n",
       "    <tr>\n",
       "      <th>45-1</th>\n",
       "      <td>0.988237</td>\n",
       "      <td>0.003613</td>\n",
       "      <td>0.001580</td>\n",
       "      <td>0.996387</td>\n",
       "      <td>0.984624</td>\n",
       "    </tr>\n",
       "    <tr>\n",
       "      <th>46-9</th>\n",
       "      <td>0.984756</td>\n",
       "      <td>0.005337</td>\n",
       "      <td>0.002286</td>\n",
       "      <td>0.994663</td>\n",
       "      <td>0.979419</td>\n",
       "    </tr>\n",
       "    <tr>\n",
       "      <th>47-6</th>\n",
       "      <td>0.988049</td>\n",
       "      <td>0.004274</td>\n",
       "      <td>0.001866</td>\n",
       "      <td>0.995726</td>\n",
       "      <td>0.983775</td>\n",
       "    </tr>\n",
       "    <tr>\n",
       "      <th>73-2</th>\n",
       "      <td>0.987726</td>\n",
       "      <td>0.002914</td>\n",
       "      <td>0.001263</td>\n",
       "      <td>0.997086</td>\n",
       "      <td>0.984812</td>\n",
       "    </tr>\n",
       "    <tr>\n",
       "      <th>78-2</th>\n",
       "      <td>0.989650</td>\n",
       "      <td>0.002895</td>\n",
       "      <td>0.001273</td>\n",
       "      <td>0.997105</td>\n",
       "      <td>0.986754</td>\n",
       "    </tr>\n",
       "    <tr>\n",
       "      <th>80-2</th>\n",
       "      <td>0.988375</td>\n",
       "      <td>0.005136</td>\n",
       "      <td>0.002231</td>\n",
       "      <td>0.994864</td>\n",
       "      <td>0.983238</td>\n",
       "    </tr>\n",
       "    <tr>\n",
       "      <th>B5</th>\n",
       "      <td>0.989374</td>\n",
       "      <td>0.001811</td>\n",
       "      <td>0.000804</td>\n",
       "      <td>0.998189</td>\n",
       "      <td>0.987563</td>\n",
       "    </tr>\n",
       "    <tr>\n",
       "      <th>K2</th>\n",
       "      <td>0.988218</td>\n",
       "      <td>0.001745</td>\n",
       "      <td>0.000775</td>\n",
       "      <td>0.998255</td>\n",
       "      <td>0.986473</td>\n",
       "    </tr>\n",
       "    <tr>\n",
       "      <th>K4</th>\n",
       "      <td>0.990049</td>\n",
       "      <td>0.001371</td>\n",
       "      <td>0.000612</td>\n",
       "      <td>0.998629</td>\n",
       "      <td>0.988678</td>\n",
       "    </tr>\n",
       "    <tr>\n",
       "      <th>K6</th>\n",
       "      <td>0.989831</td>\n",
       "      <td>0.001344</td>\n",
       "      <td>0.000592</td>\n",
       "      <td>0.998656</td>\n",
       "      <td>0.988486</td>\n",
       "    </tr>\n",
       "    <tr>\n",
       "      <th rowspan=\"15\" valign=\"top\">phase3</th>\n",
       "      <th>18-5</th>\n",
       "      <td>0.986994</td>\n",
       "      <td>0.014910</td>\n",
       "      <td>0.003241</td>\n",
       "      <td>0.985090</td>\n",
       "      <td>0.972084</td>\n",
       "    </tr>\n",
       "    <tr>\n",
       "      <th>29-2</th>\n",
       "      <td>0.985511</td>\n",
       "      <td>0.021568</td>\n",
       "      <td>0.004534</td>\n",
       "      <td>0.978432</td>\n",
       "      <td>0.963943</td>\n",
       "    </tr>\n",
       "    <tr>\n",
       "      <th>36-9</th>\n",
       "      <td>0.987193</td>\n",
       "      <td>0.003568</td>\n",
       "      <td>0.000799</td>\n",
       "      <td>0.996432</td>\n",
       "      <td>0.983625</td>\n",
       "    </tr>\n",
       "    <tr>\n",
       "      <th>37-3</th>\n",
       "      <td>0.987452</td>\n",
       "      <td>0.004476</td>\n",
       "      <td>0.001035</td>\n",
       "      <td>0.995524</td>\n",
       "      <td>0.982976</td>\n",
       "    </tr>\n",
       "    <tr>\n",
       "      <th>42-4</th>\n",
       "      <td>0.991688</td>\n",
       "      <td>0.001449</td>\n",
       "      <td>0.000339</td>\n",
       "      <td>0.998551</td>\n",
       "      <td>0.990240</td>\n",
       "    </tr>\n",
       "    <tr>\n",
       "      <th>45-1</th>\n",
       "      <td>0.989310</td>\n",
       "      <td>0.003062</td>\n",
       "      <td>0.000689</td>\n",
       "      <td>0.996938</td>\n",
       "      <td>0.986247</td>\n",
       "    </tr>\n",
       "    <tr>\n",
       "      <th>46-9</th>\n",
       "      <td>0.986282</td>\n",
       "      <td>0.005663</td>\n",
       "      <td>0.001226</td>\n",
       "      <td>0.994337</td>\n",
       "      <td>0.980619</td>\n",
       "    </tr>\n",
       "    <tr>\n",
       "      <th>47-6</th>\n",
       "      <td>0.989165</td>\n",
       "      <td>0.004231</td>\n",
       "      <td>0.000949</td>\n",
       "      <td>0.995769</td>\n",
       "      <td>0.984935</td>\n",
       "    </tr>\n",
       "    <tr>\n",
       "      <th>73-2</th>\n",
       "      <td>0.988951</td>\n",
       "      <td>0.002232</td>\n",
       "      <td>0.000494</td>\n",
       "      <td>0.997768</td>\n",
       "      <td>0.986719</td>\n",
       "    </tr>\n",
       "    <tr>\n",
       "      <th>78-2</th>\n",
       "      <td>0.990529</td>\n",
       "      <td>0.001949</td>\n",
       "      <td>0.000443</td>\n",
       "      <td>0.998051</td>\n",
       "      <td>0.988580</td>\n",
       "    </tr>\n",
       "    <tr>\n",
       "      <th>80-2</th>\n",
       "      <td>0.989387</td>\n",
       "      <td>0.005411</td>\n",
       "      <td>0.001205</td>\n",
       "      <td>0.994589</td>\n",
       "      <td>0.983976</td>\n",
       "    </tr>\n",
       "    <tr>\n",
       "      <th>B5</th>\n",
       "      <td>0.990844</td>\n",
       "      <td>0.002612</td>\n",
       "      <td>0.000604</td>\n",
       "      <td>0.997388</td>\n",
       "      <td>0.988233</td>\n",
       "    </tr>\n",
       "    <tr>\n",
       "      <th>K2</th>\n",
       "      <td>0.989828</td>\n",
       "      <td>0.002373</td>\n",
       "      <td>0.000548</td>\n",
       "      <td>0.997627</td>\n",
       "      <td>0.987455</td>\n",
       "    </tr>\n",
       "    <tr>\n",
       "      <th>K4</th>\n",
       "      <td>0.991368</td>\n",
       "      <td>0.001651</td>\n",
       "      <td>0.000385</td>\n",
       "      <td>0.998349</td>\n",
       "      <td>0.989717</td>\n",
       "    </tr>\n",
       "    <tr>\n",
       "      <th>K6</th>\n",
       "      <td>0.991187</td>\n",
       "      <td>0.001628</td>\n",
       "      <td>0.000371</td>\n",
       "      <td>0.998372</td>\n",
       "      <td>0.989559</td>\n",
       "    </tr>\n",
       "    <tr>\n",
       "      <th rowspan=\"15\" valign=\"top\">r100</th>\n",
       "      <th>18-5</th>\n",
       "      <td>1.000000</td>\n",
       "      <td>1.000000</td>\n",
       "      <td>0.013343</td>\n",
       "      <td>0.000000</td>\n",
       "      <td>0.000000</td>\n",
       "    </tr>\n",
       "    <tr>\n",
       "      <th>29-2</th>\n",
       "      <td>1.000000</td>\n",
       "      <td>1.000000</td>\n",
       "      <td>0.015708</td>\n",
       "      <td>0.000000</td>\n",
       "      <td>0.000000</td>\n",
       "    </tr>\n",
       "    <tr>\n",
       "      <th>36-9</th>\n",
       "      <td>1.000000</td>\n",
       "      <td>1.000000</td>\n",
       "      <td>0.011133</td>\n",
       "      <td>0.000000</td>\n",
       "      <td>0.000000</td>\n",
       "    </tr>\n",
       "    <tr>\n",
       "      <th>37-3</th>\n",
       "      <td>1.000000</td>\n",
       "      <td>1.000000</td>\n",
       "      <td>0.011046</td>\n",
       "      <td>0.000000</td>\n",
       "      <td>0.000000</td>\n",
       "    </tr>\n",
       "    <tr>\n",
       "      <th>42-4</th>\n",
       "      <td>1.000000</td>\n",
       "      <td>1.000000</td>\n",
       "      <td>0.007020</td>\n",
       "      <td>0.000000</td>\n",
       "      <td>0.000000</td>\n",
       "    </tr>\n",
       "    <tr>\n",
       "      <th>45-1</th>\n",
       "      <td>1.000000</td>\n",
       "      <td>1.000000</td>\n",
       "      <td>0.009301</td>\n",
       "      <td>0.000000</td>\n",
       "      <td>0.000000</td>\n",
       "    </tr>\n",
       "    <tr>\n",
       "      <th>46-9</th>\n",
       "      <td>1.000000</td>\n",
       "      <td>1.000000</td>\n",
       "      <td>0.012300</td>\n",
       "      <td>0.000000</td>\n",
       "      <td>0.000000</td>\n",
       "    </tr>\n",
       "    <tr>\n",
       "      <th>47-6</th>\n",
       "      <td>1.000000</td>\n",
       "      <td>1.000000</td>\n",
       "      <td>0.009634</td>\n",
       "      <td>0.000000</td>\n",
       "      <td>0.000000</td>\n",
       "    </tr>\n",
       "    <tr>\n",
       "      <th>73-2</th>\n",
       "      <td>1.000000</td>\n",
       "      <td>1.000000</td>\n",
       "      <td>0.009465</td>\n",
       "      <td>0.000000</td>\n",
       "      <td>0.000000</td>\n",
       "    </tr>\n",
       "    <tr>\n",
       "      <th>78-2</th>\n",
       "      <td>1.000000</td>\n",
       "      <td>1.000000</td>\n",
       "      <td>0.008088</td>\n",
       "      <td>0.000000</td>\n",
       "      <td>0.000000</td>\n",
       "    </tr>\n",
       "    <tr>\n",
       "      <th>80-2</th>\n",
       "      <td>1.000000</td>\n",
       "      <td>1.000000</td>\n",
       "      <td>0.009673</td>\n",
       "      <td>0.000000</td>\n",
       "      <td>0.000000</td>\n",
       "    </tr>\n",
       "    <tr>\n",
       "      <th>B5</th>\n",
       "      <td>1.000000</td>\n",
       "      <td>1.000000</td>\n",
       "      <td>0.007935</td>\n",
       "      <td>0.000000</td>\n",
       "      <td>0.000000</td>\n",
       "    </tr>\n",
       "    <tr>\n",
       "      <th>K2</th>\n",
       "      <td>1.000000</td>\n",
       "      <td>1.000000</td>\n",
       "      <td>0.008720</td>\n",
       "      <td>0.000000</td>\n",
       "      <td>0.000000</td>\n",
       "    </tr>\n",
       "    <tr>\n",
       "      <th>K4</th>\n",
       "      <td>1.000000</td>\n",
       "      <td>1.000000</td>\n",
       "      <td>0.007320</td>\n",
       "      <td>0.000000</td>\n",
       "      <td>0.000000</td>\n",
       "    </tr>\n",
       "    <tr>\n",
       "      <th>K6</th>\n",
       "      <td>1.000000</td>\n",
       "      <td>1.000000</td>\n",
       "      <td>0.007489</td>\n",
       "      <td>0.000000</td>\n",
       "      <td>0.000000</td>\n",
       "    </tr>\n",
       "  </tbody>\n",
       "</table>\n",
       "</div>"
      ],
      "text/plain": [
       "                           tpr       fpr       fdr       tnr    youden\n",
       "description cross_id                                                  \n",
       "phase2      18-5      0.985249  0.010019  0.004286  0.989981  0.975230\n",
       "            29-2      0.983489  0.013771  0.005771  0.986229  0.969718\n",
       "            36-9      0.985722  0.003841  0.001678  0.996159  0.981880\n",
       "            37-3      0.986060  0.004471  0.001992  0.995529  0.981588\n",
       "            42-4      0.990824  0.002153  0.000962  0.997847  0.988671\n",
       "            45-1      0.988237  0.003613  0.001580  0.996387  0.984624\n",
       "            46-9      0.984756  0.005337  0.002286  0.994663  0.979419\n",
       "            47-6      0.988049  0.004274  0.001866  0.995726  0.983775\n",
       "            73-2      0.987726  0.002914  0.001263  0.997086  0.984812\n",
       "            78-2      0.989650  0.002895  0.001273  0.997105  0.986754\n",
       "            80-2      0.988375  0.005136  0.002231  0.994864  0.983238\n",
       "            B5        0.989374  0.001811  0.000804  0.998189  0.987563\n",
       "            K2        0.988218  0.001745  0.000775  0.998255  0.986473\n",
       "            K4        0.990049  0.001371  0.000612  0.998629  0.988678\n",
       "            K6        0.989831  0.001344  0.000592  0.998656  0.988486\n",
       "phase3      18-5      0.986994  0.014910  0.003241  0.985090  0.972084\n",
       "            29-2      0.985511  0.021568  0.004534  0.978432  0.963943\n",
       "            36-9      0.987193  0.003568  0.000799  0.996432  0.983625\n",
       "            37-3      0.987452  0.004476  0.001035  0.995524  0.982976\n",
       "            42-4      0.991688  0.001449  0.000339  0.998551  0.990240\n",
       "            45-1      0.989310  0.003062  0.000689  0.996938  0.986247\n",
       "            46-9      0.986282  0.005663  0.001226  0.994337  0.980619\n",
       "            47-6      0.989165  0.004231  0.000949  0.995769  0.984935\n",
       "            73-2      0.988951  0.002232  0.000494  0.997768  0.986719\n",
       "            78-2      0.990529  0.001949  0.000443  0.998051  0.988580\n",
       "            80-2      0.989387  0.005411  0.001205  0.994589  0.983976\n",
       "            B5        0.990844  0.002612  0.000604  0.997388  0.988233\n",
       "            K2        0.989828  0.002373  0.000548  0.997627  0.987455\n",
       "            K4        0.991368  0.001651  0.000385  0.998349  0.989717\n",
       "            K6        0.991187  0.001628  0.000371  0.998372  0.989559\n",
       "r100        18-5      1.000000  1.000000  0.013343  0.000000  0.000000\n",
       "            29-2      1.000000  1.000000  0.015708  0.000000  0.000000\n",
       "            36-9      1.000000  1.000000  0.011133  0.000000  0.000000\n",
       "            37-3      1.000000  1.000000  0.011046  0.000000  0.000000\n",
       "            42-4      1.000000  1.000000  0.007020  0.000000  0.000000\n",
       "            45-1      1.000000  1.000000  0.009301  0.000000  0.000000\n",
       "            46-9      1.000000  1.000000  0.012300  0.000000  0.000000\n",
       "            47-6      1.000000  1.000000  0.009634  0.000000  0.000000\n",
       "            73-2      1.000000  1.000000  0.009465  0.000000  0.000000\n",
       "            78-2      1.000000  1.000000  0.008088  0.000000  0.000000\n",
       "            80-2      1.000000  1.000000  0.009673  0.000000  0.000000\n",
       "            B5        1.000000  1.000000  0.007935  0.000000  0.000000\n",
       "            K2        1.000000  1.000000  0.008720  0.000000  0.000000\n",
       "            K4        1.000000  1.000000  0.007320  0.000000  0.000000\n",
       "            K6        1.000000  1.000000  0.007489  0.000000  0.000000"
      ]
     },
     "execution_count": 27,
     "metadata": {},
     "output_type": "execute_result"
    }
   ],
   "source": [
    "output_all_chroms_summary = output_all_chroms.apply(lambda y: calculate_metrics_of_interest(*y), axis=1)\n",
    "output_all_chroms_summary"
   ]
  },
  {
   "cell_type": "code",
   "execution_count": 29,
   "metadata": {},
   "outputs": [],
   "source": [
    "output_all_chroms.to_csv(\"../data/site-filters/performance_counts.csv\")\n",
    "output.to_csv(\"../data/site-filters/performance_counts_by_chrom.csv\")\n",
    "\n",
    "output_summary.to_csv(\"../data/site-filters/performance_metrics.csv\")\n",
    "output.to_csv(\"../data/site-filters/performance_metrics_by_chrom.csv\")"
   ]
  },
  {
   "cell_type": "code",
   "execution_count": 31,
   "metadata": {},
   "outputs": [
    {
     "data": {
      "text/plain": [
       "<matplotlib.legend.Legend at 0x7fe0b653b510>"
      ]
     },
     "execution_count": 31,
     "metadata": {},
     "output_type": "execute_result"
    },
    {
     "data": {
      "image/png": "[encoded data removed]",
      "text/plain": [
       "<Figure size 432x288 with 1 Axes>"
      ]
     },
     "metadata": {
      "needs_background": "light"
     },
     "output_type": "display_data"
    }
   ],
   "source": [
    "output_summary.groupby(['description']).mean().plot(kind='bar', grid=True, rot=0, yerr=output.groupby(['description']).std(), capsize=3).legend(loc='center left', bbox_to_anchor=(1.0, 0.5))"
   ]
  },
  {
   "cell_type": "markdown",
   "metadata": {},
   "source": [
    "## Numbers for paper"
   ]
  },
  {
   "cell_type": "code",
   "execution_count": 63,
   "metadata": {},
   "outputs": [
    {
     "data": {
      "text/html": [
       "<div>\n",
       "<style scoped>\n",
       "    .dataframe tbody tr th:only-of-type {\n",
       "        vertical-align: middle;\n",
       "    }\n",
       "\n",
       "    .dataframe tbody tr th {\n",
       "        vertical-align: top;\n",
       "    }\n",
       "\n",
       "    .dataframe thead th {\n",
       "        text-align: right;\n",
       "    }\n",
       "</style>\n",
       "<table border=\"1\" class=\"dataframe\">\n",
       "  <thead>\n",
       "    <tr style=\"text-align: right;\">\n",
       "      <th></th>\n",
       "      <th>tpr</th>\n",
       "      <th>fpr</th>\n",
       "      <th>fdr</th>\n",
       "      <th>tnr</th>\n",
       "      <th>youden</th>\n",
       "    </tr>\n",
       "  </thead>\n",
       "  <tbody>\n",
       "    <tr>\n",
       "      <th>amax</th>\n",
       "      <td>99.118676</td>\n",
       "      <td>0.447611</td>\n",
       "      <td>0.103523</td>\n",
       "      <td>99.837201</td>\n",
       "      <td>98.955877</td>\n",
       "    </tr>\n",
       "    <tr>\n",
       "      <th>amin</th>\n",
       "      <td>98.745205</td>\n",
       "      <td>0.162799</td>\n",
       "      <td>0.037092</td>\n",
       "      <td>99.552389</td>\n",
       "      <td>98.297594</td>\n",
       "    </tr>\n",
       "  </tbody>\n",
       "</table>\n",
       "</div>"
      ],
      "text/plain": [
       "            tpr       fpr       fdr        tnr     youden\n",
       "amax  99.118676  0.447611  0.103523  99.837201  98.955877\n",
       "amin  98.745205  0.162799  0.037092  99.552389  98.297594"
      ]
     },
     "execution_count": 63,
     "metadata": {},
     "output_type": "execute_result"
    }
   ],
   "source": [
    "output_all_chroms_summary.loc[\"phase3\"].loc[eval_family_ids].apply([np.max, np.min]) * 100"
   ]
  },
  {
   "cell_type": "code",
   "execution_count": 64,
   "metadata": {},
   "outputs": [
    {
     "data": {
      "text/html": [
       "<div>\n",
       "<style scoped>\n",
       "    .dataframe tbody tr th:only-of-type {\n",
       "        vertical-align: middle;\n",
       "    }\n",
       "\n",
       "    .dataframe tbody tr th {\n",
       "        vertical-align: top;\n",
       "    }\n",
       "\n",
       "    .dataframe thead th {\n",
       "        text-align: right;\n",
       "    }\n",
       "</style>\n",
       "<table border=\"1\" class=\"dataframe\">\n",
       "  <thead>\n",
       "    <tr style=\"text-align: right;\">\n",
       "      <th></th>\n",
       "      <th>tpr</th>\n",
       "      <th>fpr</th>\n",
       "      <th>fdr</th>\n",
       "      <th>tnr</th>\n",
       "      <th>youden</th>\n",
       "    </tr>\n",
       "  </thead>\n",
       "  <tbody>\n",
       "    <tr>\n",
       "      <th>amax</th>\n",
       "      <td>100.0</td>\n",
       "      <td>100.0</td>\n",
       "      <td>1.104599</td>\n",
       "      <td>0.0</td>\n",
       "      <td>0.0</td>\n",
       "    </tr>\n",
       "    <tr>\n",
       "      <th>amin</th>\n",
       "      <td>100.0</td>\n",
       "      <td>100.0</td>\n",
       "      <td>0.748912</td>\n",
       "      <td>0.0</td>\n",
       "      <td>0.0</td>\n",
       "    </tr>\n",
       "  </tbody>\n",
       "</table>\n",
       "</div>"
      ],
      "text/plain": [
       "        tpr    fpr       fdr  tnr  youden\n",
       "amax  100.0  100.0  1.104599  0.0     0.0\n",
       "amin  100.0  100.0  0.748912  0.0     0.0"
      ]
     },
     "execution_count": 64,
     "metadata": {},
     "output_type": "execute_result"
    }
   ],
   "source": [
    "output_all_chroms_summary.loc[\"r100\"].loc[eval_family_ids].apply([np.max, np.min]) * 100"
   ]
  },
  {
   "cell_type": "code",
   "execution_count": 68,
   "metadata": {},
   "outputs": [
    {
     "data": {
      "text/plain": [
       "cross_id\n",
       "B5      3.715014\n",
       "K6      4.335604\n",
       "73-2    4.260688\n",
       "45-1    3.754871\n",
       "37-3    3.415497\n",
       "Name: fdr, dtype: float64"
      ]
     },
     "execution_count": 68,
     "metadata": {},
     "output_type": "execute_result"
    }
   ],
   "source": [
    "np.log2(output_all_chroms_summary.loc[\"r100\"].loc[eval_family_ids].fdr) - \\\n",
    "np.log2(output_all_chroms_summary.loc[\"phase3\"].loc[eval_family_ids].fdr)"
   ]
  },
  {
   "cell_type": "code",
   "execution_count": 50,
   "metadata": {},
   "outputs": [
    {
     "data": {
      "text/html": [
       "<div>\n",
       "<style scoped>\n",
       "    .dataframe tbody tr th:only-of-type {\n",
       "        vertical-align: middle;\n",
       "    }\n",
       "\n",
       "    .dataframe tbody tr th {\n",
       "        vertical-align: top;\n",
       "    }\n",
       "\n",
       "    .dataframe thead th {\n",
       "        text-align: right;\n",
       "    }\n",
       "</style>\n",
       "<table border=\"1\" class=\"dataframe\">\n",
       "  <thead>\n",
       "    <tr style=\"text-align: right;\">\n",
       "      <th></th>\n",
       "      <th>tpr</th>\n",
       "      <th>fpr</th>\n",
       "      <th>fdr</th>\n",
       "      <th>tnr</th>\n",
       "      <th>youden</th>\n",
       "    </tr>\n",
       "    <tr>\n",
       "      <th>cross_id</th>\n",
       "      <th></th>\n",
       "      <th></th>\n",
       "      <th></th>\n",
       "      <th></th>\n",
       "      <th></th>\n",
       "    </tr>\n",
       "  </thead>\n",
       "  <tbody>\n",
       "    <tr>\n",
       "      <th>B5</th>\n",
       "      <td>0.989374</td>\n",
       "      <td>0.001811</td>\n",
       "      <td>0.000804</td>\n",
       "      <td>0.998189</td>\n",
       "      <td>0.987563</td>\n",
       "    </tr>\n",
       "    <tr>\n",
       "      <th>K6</th>\n",
       "      <td>0.989831</td>\n",
       "      <td>0.001344</td>\n",
       "      <td>0.000592</td>\n",
       "      <td>0.998656</td>\n",
       "      <td>0.988486</td>\n",
       "    </tr>\n",
       "    <tr>\n",
       "      <th>73-2</th>\n",
       "      <td>0.987726</td>\n",
       "      <td>0.002914</td>\n",
       "      <td>0.001263</td>\n",
       "      <td>0.997086</td>\n",
       "      <td>0.984812</td>\n",
       "    </tr>\n",
       "    <tr>\n",
       "      <th>45-1</th>\n",
       "      <td>0.988237</td>\n",
       "      <td>0.003613</td>\n",
       "      <td>0.001580</td>\n",
       "      <td>0.996387</td>\n",
       "      <td>0.984624</td>\n",
       "    </tr>\n",
       "    <tr>\n",
       "      <th>37-3</th>\n",
       "      <td>0.986060</td>\n",
       "      <td>0.004471</td>\n",
       "      <td>0.001992</td>\n",
       "      <td>0.995529</td>\n",
       "      <td>0.981588</td>\n",
       "    </tr>\n",
       "  </tbody>\n",
       "</table>\n",
       "</div>"
      ],
      "text/plain": [
       "               tpr       fpr       fdr       tnr    youden\n",
       "cross_id                                                  \n",
       "B5        0.989374  0.001811  0.000804  0.998189  0.987563\n",
       "K6        0.989831  0.001344  0.000592  0.998656  0.988486\n",
       "73-2      0.987726  0.002914  0.001263  0.997086  0.984812\n",
       "45-1      0.988237  0.003613  0.001580  0.996387  0.984624\n",
       "37-3      0.986060  0.004471  0.001992  0.995529  0.981588"
      ]
     },
     "execution_count": 50,
     "metadata": {},
     "output_type": "execute_result"
    }
   ],
   "source": [
    "output_all_chroms_summary.loc[\"phase2\"].loc[eval_family_ids]"
   ]
  },
  {
   "cell_type": "markdown",
   "metadata": {},
   "source": [
    "## Check fraction accessible matches up"
   ]
  },
  {
   "cell_type": "code",
   "execution_count": 42,
   "metadata": {},
   "outputs": [
    {
     "data": {
      "text/plain": [
       "0.7257974394490119"
      ]
     },
     "execution_count": 42,
     "metadata": {},
     "output_type": "execute_result"
    }
   ],
   "source": [
    "va = 0\n",
    "vs = 0\n",
    "\n",
    "for c in chrom_arms:\n",
    "\n",
    "    a = load_phase3_accessibility(c)\n",
    "    va += a.sum().compute()\n",
    "    vs += a.shape[0]\n",
    "    \n",
    "va/vs"
   ]
  },
  {
   "cell_type": "code",
   "execution_count": 77,
   "metadata": {},
   "outputs": [
    {
     "data": {
      "text/plain": [
       "0.6204559269110339"
      ]
     },
     "execution_count": 77,
     "metadata": {},
     "output_type": "execute_result"
    }
   ],
   "source": [
    "va = 0\n",
    "vs = 0\n",
    "\n",
    "for c in chrom_arms:\n",
    "\n",
    "    a = load_phase2_accessibility(c)\n",
    "    va += a.sum().compute()\n",
    "    vs += a.shape[0]\n",
    "    \n",
    "va/vs"
   ]
  },
  {
   "cell_type": "markdown",
   "metadata": {},
   "source": [
    "## Phase 2 vs phase 3"
   ]
  },
  {
   "cell_type": "code",
   "execution_count": 74,
   "metadata": {},
   "outputs": [
    {
     "data": {
      "text/html": [
       "<div>\n",
       "<style scoped>\n",
       "    .dataframe tbody tr th:only-of-type {\n",
       "        vertical-align: middle;\n",
       "    }\n",
       "\n",
       "    .dataframe tbody tr th {\n",
       "        vertical-align: top;\n",
       "    }\n",
       "\n",
       "    .dataframe thead th {\n",
       "        text-align: right;\n",
       "    }\n",
       "</style>\n",
       "<table border=\"1\" class=\"dataframe\">\n",
       "  <thead>\n",
       "    <tr style=\"text-align: right;\">\n",
       "      <th></th>\n",
       "      <th>tpr</th>\n",
       "      <th>fpr</th>\n",
       "      <th>fdr</th>\n",
       "      <th>tnr</th>\n",
       "      <th>youden</th>\n",
       "    </tr>\n",
       "    <tr>\n",
       "      <th>cross_id</th>\n",
       "      <th></th>\n",
       "      <th></th>\n",
       "      <th></th>\n",
       "      <th></th>\n",
       "      <th></th>\n",
       "    </tr>\n",
       "  </thead>\n",
       "  <tbody>\n",
       "    <tr>\n",
       "      <th>B5</th>\n",
       "      <td>0.989374</td>\n",
       "      <td>0.001811</td>\n",
       "      <td>0.000804</td>\n",
       "      <td>0.998189</td>\n",
       "      <td>0.987563</td>\n",
       "    </tr>\n",
       "    <tr>\n",
       "      <th>K6</th>\n",
       "      <td>0.989831</td>\n",
       "      <td>0.001344</td>\n",
       "      <td>0.000592</td>\n",
       "      <td>0.998656</td>\n",
       "      <td>0.988486</td>\n",
       "    </tr>\n",
       "    <tr>\n",
       "      <th>73-2</th>\n",
       "      <td>0.987726</td>\n",
       "      <td>0.002914</td>\n",
       "      <td>0.001263</td>\n",
       "      <td>0.997086</td>\n",
       "      <td>0.984812</td>\n",
       "    </tr>\n",
       "    <tr>\n",
       "      <th>45-1</th>\n",
       "      <td>0.988237</td>\n",
       "      <td>0.003613</td>\n",
       "      <td>0.001580</td>\n",
       "      <td>0.996387</td>\n",
       "      <td>0.984624</td>\n",
       "    </tr>\n",
       "    <tr>\n",
       "      <th>37-3</th>\n",
       "      <td>0.986060</td>\n",
       "      <td>0.004471</td>\n",
       "      <td>0.001992</td>\n",
       "      <td>0.995529</td>\n",
       "      <td>0.981588</td>\n",
       "    </tr>\n",
       "  </tbody>\n",
       "</table>\n",
       "</div>"
      ],
      "text/plain": [
       "               tpr       fpr       fdr       tnr    youden\n",
       "cross_id                                                  \n",
       "B5        0.989374  0.001811  0.000804  0.998189  0.987563\n",
       "K6        0.989831  0.001344  0.000592  0.998656  0.988486\n",
       "73-2      0.987726  0.002914  0.001263  0.997086  0.984812\n",
       "45-1      0.988237  0.003613  0.001580  0.996387  0.984624\n",
       "37-3      0.986060  0.004471  0.001992  0.995529  0.981588"
      ]
     },
     "execution_count": 74,
     "metadata": {},
     "output_type": "execute_result"
    }
   ],
   "source": [
    "p2stats = output_all_chroms_summary.loc[\"phase2\"].loc[eval_family_ids]\n",
    "p2stats"
   ]
  },
  {
   "cell_type": "code",
   "execution_count": 75,
   "metadata": {},
   "outputs": [
    {
     "data": {
      "text/html": [
       "<div>\n",
       "<style scoped>\n",
       "    .dataframe tbody tr th:only-of-type {\n",
       "        vertical-align: middle;\n",
       "    }\n",
       "\n",
       "    .dataframe tbody tr th {\n",
       "        vertical-align: top;\n",
       "    }\n",
       "\n",
       "    .dataframe thead th {\n",
       "        text-align: right;\n",
       "    }\n",
       "</style>\n",
       "<table border=\"1\" class=\"dataframe\">\n",
       "  <thead>\n",
       "    <tr style=\"text-align: right;\">\n",
       "      <th></th>\n",
       "      <th>tpr</th>\n",
       "      <th>fpr</th>\n",
       "      <th>fdr</th>\n",
       "      <th>tnr</th>\n",
       "      <th>youden</th>\n",
       "    </tr>\n",
       "    <tr>\n",
       "      <th>cross_id</th>\n",
       "      <th></th>\n",
       "      <th></th>\n",
       "      <th></th>\n",
       "      <th></th>\n",
       "      <th></th>\n",
       "    </tr>\n",
       "  </thead>\n",
       "  <tbody>\n",
       "    <tr>\n",
       "      <th>B5</th>\n",
       "      <td>0.990844</td>\n",
       "      <td>0.002612</td>\n",
       "      <td>0.000604</td>\n",
       "      <td>0.997388</td>\n",
       "      <td>0.988233</td>\n",
       "    </tr>\n",
       "    <tr>\n",
       "      <th>K6</th>\n",
       "      <td>0.991187</td>\n",
       "      <td>0.001628</td>\n",
       "      <td>0.000371</td>\n",
       "      <td>0.998372</td>\n",
       "      <td>0.989559</td>\n",
       "    </tr>\n",
       "    <tr>\n",
       "      <th>73-2</th>\n",
       "      <td>0.988951</td>\n",
       "      <td>0.002232</td>\n",
       "      <td>0.000494</td>\n",
       "      <td>0.997768</td>\n",
       "      <td>0.986719</td>\n",
       "    </tr>\n",
       "    <tr>\n",
       "      <th>45-1</th>\n",
       "      <td>0.989310</td>\n",
       "      <td>0.003062</td>\n",
       "      <td>0.000689</td>\n",
       "      <td>0.996938</td>\n",
       "      <td>0.986247</td>\n",
       "    </tr>\n",
       "    <tr>\n",
       "      <th>37-3</th>\n",
       "      <td>0.987452</td>\n",
       "      <td>0.004476</td>\n",
       "      <td>0.001035</td>\n",
       "      <td>0.995524</td>\n",
       "      <td>0.982976</td>\n",
       "    </tr>\n",
       "  </tbody>\n",
       "</table>\n",
       "</div>"
      ],
      "text/plain": [
       "               tpr       fpr       fdr       tnr    youden\n",
       "cross_id                                                  \n",
       "B5        0.990844  0.002612  0.000604  0.997388  0.988233\n",
       "K6        0.991187  0.001628  0.000371  0.998372  0.989559\n",
       "73-2      0.988951  0.002232  0.000494  0.997768  0.986719\n",
       "45-1      0.989310  0.003062  0.000689  0.996938  0.986247\n",
       "37-3      0.987452  0.004476  0.001035  0.995524  0.982976"
      ]
     },
     "execution_count": 75,
     "metadata": {},
     "output_type": "execute_result"
    }
   ],
   "source": [
    "p3stats = output_all_chroms_summary.loc[\"phase3\"].loc[eval_family_ids]\n",
    "p3stats"
   ]
  },
  {
   "cell_type": "code",
   "execution_count": 76,
   "metadata": {},
   "outputs": [
    {
     "data": {
      "text/plain": [
       "cross_id\n",
       "B5      0.000199\n",
       "K6      0.000221\n",
       "73-2    0.000769\n",
       "45-1    0.000891\n",
       "37-3    0.000957\n",
       "Name: fdr, dtype: float64"
      ]
     },
     "execution_count": 76,
     "metadata": {},
     "output_type": "execute_result"
    }
   ],
   "source": [
    "p2stats.fdr - p3stats.fdr"
   ]
  },
  {
   "cell_type": "code",
   "execution_count": null,
   "metadata": {},
   "outputs": [],
   "source": []
  }
 ],
 "metadata": {
  "kernelspec": {
   "display_name": "Python 3",
   "language": "python",
   "name": "python3"
  },
  "language_info": {
   "codemirror_mode": {
    "name": "ipython",
    "version": 3
   },
   "file_extension": ".py",
   "mimetype": "text/x-python",
   "name": "python",
   "nbconvert_exporter": "python",
   "pygments_lexer": "ipython3",
   "version": "3.7.6"
  }
 },
 "nbformat": 4,
 "nbformat_minor": 4
}
