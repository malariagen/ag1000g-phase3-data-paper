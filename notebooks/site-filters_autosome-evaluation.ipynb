{
 "cells": [
  {
   "cell_type": "markdown",
   "metadata": {},
   "source": [
    "# Performance assessment\n",
    "\n",
    "\n",
    "## Determine binary classification statistics \n",
    "\n",
    "For the v3 site filter, vs:\n",
    "- phase 2 accessibility map\n",
    "- permissive (100% pass, 0 fail)\n",
    "\n",
    "based on:\n",
    "- Mendelian error in all crosses (autosomes)\n",
    "- male het calls (`n_male_het`, `all_males_called`) will be used instead of `mendel_error`"
   ]
  },
  {
   "cell_type": "code",
   "execution_count": 1,
   "metadata": {},
   "outputs": [],
   "source": [
    "# Imports:\n",
    "import gcsfs\n",
    "import zarr\n",
    "import dask.array as da\n",
    "from dask.distributed import Client\n",
    "import pandas as pd\n",
    "pd.set_option('display.float_format', '{:.3E}'.format)\n",
    "import numpy as np\n",
    "import numba\n",
    "from pathlib import Path"
   ]
  },
  {
   "cell_type": "code",
   "execution_count": 2,
   "metadata": {},
   "outputs": [],
   "source": [
    "!pip install -q malariagen-data"
   ]
  },
  {
   "cell_type": "code",
   "execution_count": 3,
   "metadata": {},
   "outputs": [],
   "source": [
    "import malariagen_data"
   ]
  },
  {
   "cell_type": "code",
   "execution_count": 4,
   "metadata": {},
   "outputs": [],
   "source": [
    "from dask_kubernetes import KubeCluster\n",
    "from dask.distributed import Client"
   ]
  },
  {
   "cell_type": "code",
   "execution_count": 5,
   "metadata": {},
   "outputs": [
    {
     "name": "stderr",
     "output_type": "stream",
     "text": [
      "/opt/conda/lib/python3.7/site-packages/dask/dataframe/utils.py:14: FutureWarning: pandas.util.testing is deprecated. Use the functions in the public API at pandas.testing instead.\n",
      "  import pandas.util.testing as tm\n"
     ]
    }
   ],
   "source": [
    "import ag3, ag2"
   ]
  },
  {
   "cell_type": "code",
   "execution_count": 6,
   "metadata": {},
   "outputs": [
    {
     "name": "stderr",
     "output_type": "stream",
     "text": [
      "distributed.scheduler - INFO - Clear task state\n",
      "distributed.scheduler - INFO -   Scheduler at:   tcp://10.34.4.143:41071\n",
      "distributed.scheduler - INFO -   dashboard at:                     :8787\n"
     ]
    },
    {
     "data": {
      "application/vnd.jupyter.widget-view+json": {
       "model_id": "269637ffee894698a3cf18af122ee73b",
       "version_major": 2,
       "version_minor": 0
      },
      "text/plain": [
       "VBox(children=(HTML(value='<h2>KubeCluster</h2>'), HBox(children=(HTML(value='\\n<div>\\n  <style scoped>\\n    .…"
      ]
     },
     "metadata": {},
     "output_type": "display_data"
    }
   ],
   "source": [
    "cluster = KubeCluster(n_workers=40)\n",
    "cluster"
   ]
  },
  {
   "cell_type": "code",
   "execution_count": 7,
   "metadata": {},
   "outputs": [
    {
     "name": "stderr",
     "output_type": "stream",
     "text": [
      "distributed.scheduler - INFO - Receive client connection: Client-0e48acf8-8c8e-11eb-841d-6e2ef4cab083\n",
      "distributed.core - INFO - Starting established connection\n"
     ]
    },
    {
     "data": {
      "text/html": [
       "<table style=\"border: 2px solid white;\">\n",
       "<tr>\n",
       "<td style=\"vertical-align: top; border: 0px solid white\">\n",
       "<h3 style=\"text-align: left;\">Client</h3>\n",
       "<ul style=\"text-align: left; list-style: none; margin: 0; padding: 0;\">\n",
       "  <li><b>Scheduler: </b>tcp://10.34.4.143:41071</li>\n",
       "  <li><b>Dashboard: </b><a href='/user/nicholasharding/proxy/8787/status' target='_blank'>/user/nicholasharding/proxy/8787/status</a>\n",
       "</ul>\n",
       "</td>\n",
       "<td style=\"vertical-align: top; border: 0px solid white\">\n",
       "<h3 style=\"text-align: left;\">Cluster</h3>\n",
       "<ul style=\"text-align: left; list-style:none; margin: 0; padding: 0;\">\n",
       "  <li><b>Workers: </b>0</li>\n",
       "  <li><b>Cores: </b>0</li>\n",
       "  <li><b>Memory: </b>0 B</li>\n",
       "</ul>\n",
       "</td>\n",
       "</tr>\n",
       "</table>"
      ],
      "text/plain": [
       "<Client: 'tcp://10.34.4.143:41071' processes=0 threads=0, memory=0 B>"
      ]
     },
     "execution_count": 7,
     "metadata": {},
     "output_type": "execute_result"
    }
   ],
   "source": [
    "client = Client(cluster)\n",
    "client"
   ]
  },
  {
   "cell_type": "code",
   "execution_count": 8,
   "metadata": {},
   "outputs": [],
   "source": [
    "# Settings:\n",
    "cross_family_ids = ['18-5', '29-2', '36-9', '37-3', '42-4', '45-1', '46-9', '47-6', '73-2', '78-2', '80-2', 'B5', 'K2', 'K4', 'K6']\n",
    "chrom_arms = ['2R', '2L', '3R', '3L']"
   ]
  },
  {
   "cell_type": "code",
   "execution_count": 9,
   "metadata": {},
   "outputs": [],
   "source": [
    "eval_family_ids = ['B5', 'K6', '73-2', '45-1', '37-3']"
   ]
  },
  {
   "cell_type": "code",
   "execution_count": 10,
   "metadata": {},
   "outputs": [
    {
     "data": {
      "text/plain": [
       "['18-5',\n",
       " '29-2',\n",
       " '36-9',\n",
       " '37-3',\n",
       " '42-4',\n",
       " '45-1',\n",
       " '46-9',\n",
       " '47-6',\n",
       " '73-2',\n",
       " '78-2',\n",
       " '80-2',\n",
       " 'B5',\n",
       " 'K2',\n",
       " 'K4',\n",
       " 'K6']"
      ]
     },
     "execution_count": 10,
     "metadata": {},
     "output_type": "execute_result"
    }
   ],
   "source": [
    "cross_family_ids"
   ]
  },
  {
   "cell_type": "markdown",
   "metadata": {},
   "source": [
    "## Determine which crosses stats (inc. Mendelian error) are predicted by each site filter\n",
    "\n",
    "Populate the confusion matrix, such that:\n",
    "- If the crosses stats imply that a position is accessible (\"good\") and the site filter also says it passes, then mark the prediction as a `True Positive` (`TP`)\n",
    "- If the crosses stats imply that a position is accessible (\"good\") but the site filter says it fails, then mark the prediction as a `False Negative` (`FN`)\n",
    "- If the crosses stats imply that a position is inaccessible (\"bad\") and the site filter also says it fails, then mark the prediction as a `True Negative` (`TN`)\n",
    "- If the crosses stats imply that a position is inaccessible (\"bad\") but the site filter says it passes, then mark the prediction as a `False Positive` (`FP`)\n",
    "- If the crosses stats cannot determine whether a position is \"good\" or \"bad\" (e.g. there were no male het calls on the X chromosome, but not all samples were called), then mark the prediction result as undetermined and exclude from subsequent stats."
   ]
  },
  {
   "cell_type": "code",
   "execution_count": 11,
   "metadata": {},
   "outputs": [],
   "source": [
    "@numba.njit\n",
    "def cross_tab_values(eval_arr, test_arr):\n",
    "    \n",
    "    out = np.zeros((2, 2))\n",
    "    \n",
    "    # TN FP\n",
    "    # FN TP\n",
    "    \n",
    "    # eval arr has \n",
    "    for i in range(eval_arr.shape[0]):\n",
    "        if eval_arr[i] == -1:\n",
    "            continue\n",
    "        \n",
    "        if test_arr[i]:\n",
    "            out[eval_arr[i], 1] += 1\n",
    "        else:\n",
    "            out[eval_arr[i], 0] += 1\n",
    "    \n",
    "    return out.reshape((1, 2, 2))"
   ]
  },
  {
   "cell_type": "code",
   "execution_count": 12,
   "metadata": {},
   "outputs": [],
   "source": [
    "ag3_release_data = ag3.release_data()\n",
    "\n",
    "def load_phase3_accessibility(chrom, mask_id='gamb_colu'):\n",
    "    return ag3_release_data.load_mask(chrom, mask_id=mask_id)"
   ]
  },
  {
   "cell_type": "code",
   "execution_count": 13,
   "metadata": {},
   "outputs": [],
   "source": [
    "ag2_release_data = ag2.release_data()\n",
    "\n",
    "def load_phase2_accessibility(chrom):\n",
    "    \n",
    "    phase2_is_accessible = ag2_release_data.load_is_accessible(chrom)\n",
    "    filter_n = ag2_release_data.load_filter_n(chrom)\n",
    "    phase2_is_accessible_nonN = da.compress(~filter_n, phase2_is_accessible, axis=0)\n",
    "\n",
    "    # Compute chunk sizes avoids this error when concatenating arrays: ValueError: Arrays chunk sizes are unknown: (nan,)\n",
    "    phase2_is_accessible_nonN.compute_chunk_sizes() \n",
    "    return phase2_is_accessible_nonN"
   ]
  },
  {
   "cell_type": "code",
   "execution_count": 14,
   "metadata": {},
   "outputs": [],
   "source": [
    "def load_ground_truth(chrom, xid):\n",
    "    \n",
    "    if chrom == \"X\":\n",
    "        raise ValueError(\"X Not supported as hemizygous\")\n",
    "    \n",
    "    me = ag3_release_data.load_crosses(chrom, xid, 'mendel_error')\n",
    "    called = ag3_release_data.load_crosses(chrom, xid, 'n_samples_called')\n",
    "\n",
    "    training_negative = ag3_release_data.load_mask(chrom, mask_id='gamb_colu', field='training_negative')\n",
    "    training_positive = ag3_release_data.load_mask(chrom, mask_id='gamb_colu', field='training_positive')\n",
    "    training_mask = training_negative | training_positive\n",
    "\n",
    "    # Mark training sites as undetermined (-1)\n",
    "    return da.where(training_mask, -1, da.where(me > 0, 0, da.where(called == da.max(called), 1, -1)))\n"
   ]
  },
  {
   "cell_type": "code",
   "execution_count": 15,
   "metadata": {},
   "outputs": [],
   "source": [
    "def calculate_metrics_of_interest(true_neg, false_pos, false_neg, true_pos):\n",
    "    \n",
    "    r = {}\n",
    "    r[\"tpr\"] = true_pos / (true_pos + false_neg)\n",
    "    r[\"fpr\"] = false_pos / (false_pos + true_neg)\n",
    "    r[\"fdr\"] = false_pos / (true_pos + false_pos)\n",
    "    r[\"tnr\"] = 1 - (false_pos / (false_pos + true_neg))\n",
    "    r[\"youden\"] = r[\"tpr\"] + r[\"tnr\"] - 1\n",
    "    r[\"frac_pass\"] = (true_pos + false_pos) / (true_pos + false_pos + true_neg + false_neg)\n",
    "    \n",
    "    return pd.Series(r)"
   ]
  },
  {
   "cell_type": "code",
   "execution_count": 16,
   "metadata": {},
   "outputs": [
    {
     "data": {
      "text/plain": [
       "['2R', '2L', '3R', '3L']"
      ]
     },
     "execution_count": 16,
     "metadata": {},
     "output_type": "execute_result"
    }
   ],
   "source": [
    "chrom_arms"
   ]
  },
  {
   "cell_type": "code",
   "execution_count": 17,
   "metadata": {},
   "outputs": [
    {
     "data": {
      "text/plain": [
       "['18-5',\n",
       " '29-2',\n",
       " '36-9',\n",
       " '37-3',\n",
       " '42-4',\n",
       " '45-1',\n",
       " '46-9',\n",
       " '47-6',\n",
       " '73-2',\n",
       " '78-2',\n",
       " '80-2',\n",
       " 'B5',\n",
       " 'K2',\n",
       " 'K4',\n",
       " 'K6']"
      ]
     },
     "execution_count": 17,
     "metadata": {},
     "output_type": "execute_result"
    }
   ],
   "source": [
    "cross_family_ids"
   ]
  },
  {
   "cell_type": "code",
   "execution_count": 18,
   "metadata": {},
   "outputs": [],
   "source": [
    "desired_chunks = (500_000,)"
   ]
  },
  {
   "cell_type": "code",
   "execution_count": 19,
   "metadata": {},
   "outputs": [
    {
     "name": "stderr",
     "output_type": "stream",
     "text": [
      "distributed.scheduler - INFO - Register tcp://10.33.119.18:38485\n",
      "distributed.scheduler - INFO - Starting worker compute stream, tcp://10.33.119.18:38485\n",
      "distributed.core - INFO - Starting established connection\n",
      "distributed.scheduler - INFO - Register tcp://10.34.9.120:41671\n",
      "distributed.scheduler - INFO - Starting worker compute stream, tcp://10.34.9.120:41671\n",
      "distributed.core - INFO - Starting established connection\n",
      "distributed.scheduler - INFO - Register tcp://10.34.129.10:35471\n",
      "distributed.scheduler - INFO - Starting worker compute stream, tcp://10.34.129.10:35471\n",
      "distributed.core - INFO - Starting established connection\n"
     ]
    },
    {
     "name": "stdout",
     "output_type": "stream",
     "text": [
      "processing 2R 18-5\n",
      "processing 2R 29-2\n",
      "processing 2R 36-9\n",
      "processing 2R 37-3\n",
      "processing 2R 42-4\n",
      "processing 2R 45-1\n",
      "processing 2R 46-9\n",
      "processing 2R 47-6\n",
      "processing 2R 73-2\n"
     ]
    },
    {
     "name": "stderr",
     "output_type": "stream",
     "text": [
      "distributed.scheduler - INFO - Register tcp://10.35.8.2:43201\n",
      "distributed.scheduler - INFO - Starting worker compute stream, tcp://10.35.8.2:43201\n",
      "distributed.core - INFO - Starting established connection\n"
     ]
    },
    {
     "name": "stdout",
     "output_type": "stream",
     "text": [
      "processing 2R 78-2\n",
      "processing 2R 80-2\n",
      "processing 2R B5\n"
     ]
    },
    {
     "name": "stderr",
     "output_type": "stream",
     "text": [
      "distributed.scheduler - INFO - Register tcp://10.35.32.2:43105\n",
      "distributed.scheduler - INFO - Starting worker compute stream, tcp://10.35.32.2:43105\n",
      "distributed.core - INFO - Starting established connection\n",
      "distributed.scheduler - INFO - Register tcp://10.35.10.2:43955\n",
      "distributed.scheduler - INFO - Starting worker compute stream, tcp://10.35.10.2:43955\n",
      "distributed.core - INFO - Starting established connection\n",
      "distributed.scheduler - INFO - Register tcp://10.35.28.2:46605\n",
      "distributed.scheduler - INFO - Starting worker compute stream, tcp://10.35.28.2:46605\n",
      "distributed.core - INFO - Starting established connection\n",
      "distributed.scheduler - INFO - Register tcp://10.35.39.2:45687\n",
      "distributed.scheduler - INFO - Starting worker compute stream, tcp://10.35.39.2:45687\n",
      "distributed.core - INFO - Starting established connection\n",
      "distributed.scheduler - INFO - Register tcp://10.35.20.2:39473\n",
      "distributed.scheduler - INFO - Starting worker compute stream, tcp://10.35.20.2:39473\n",
      "distributed.core - INFO - Starting established connection\n",
      "distributed.scheduler - INFO - Register tcp://10.35.35.2:42045\n",
      "distributed.scheduler - INFO - Starting worker compute stream, tcp://10.35.35.2:42045\n",
      "distributed.core - INFO - Starting established connection\n",
      "distributed.scheduler - INFO - Register tcp://10.35.16.2:41347\n",
      "distributed.scheduler - INFO - Starting worker compute stream, tcp://10.35.16.2:41347\n",
      "distributed.core - INFO - Starting established connection\n",
      "distributed.scheduler - INFO - Register tcp://10.35.19.2:44139\n",
      "distributed.scheduler - INFO - Starting worker compute stream, tcp://10.35.19.2:44139\n",
      "distributed.core - INFO - Starting established connection\n"
     ]
    },
    {
     "name": "stdout",
     "output_type": "stream",
     "text": [
      "processing 2R K2\n"
     ]
    },
    {
     "name": "stderr",
     "output_type": "stream",
     "text": [
      "distributed.scheduler - INFO - Register tcp://10.35.22.2:41389\n",
      "distributed.scheduler - INFO - Starting worker compute stream, tcp://10.35.22.2:41389\n",
      "distributed.core - INFO - Starting established connection\n",
      "distributed.scheduler - INFO - Register tcp://10.35.30.2:36687\n",
      "distributed.scheduler - INFO - Starting worker compute stream, tcp://10.35.30.2:36687\n",
      "distributed.core - INFO - Starting established connection\n",
      "distributed.scheduler - INFO - Register tcp://10.35.34.2:36749\n",
      "distributed.scheduler - INFO - Starting worker compute stream, tcp://10.35.34.2:36749\n",
      "distributed.core - INFO - Starting established connection\n",
      "distributed.scheduler - INFO - Register tcp://10.35.11.2:43019\n",
      "distributed.scheduler - INFO - Starting worker compute stream, tcp://10.35.11.2:43019\n",
      "distributed.core - INFO - Starting established connection\n",
      "distributed.scheduler - INFO - Register tcp://10.35.41.2:43131\n",
      "distributed.scheduler - INFO - Starting worker compute stream, tcp://10.35.41.2:43131\n",
      "distributed.core - INFO - Starting established connection\n",
      "distributed.scheduler - INFO - Register tcp://10.35.21.2:36485\n",
      "distributed.scheduler - INFO - Starting worker compute stream, tcp://10.35.21.2:36485\n",
      "distributed.core - INFO - Starting established connection\n",
      "distributed.scheduler - INFO - Register tcp://10.35.17.2:42447\n",
      "distributed.scheduler - INFO - Starting worker compute stream, tcp://10.35.17.2:42447\n",
      "distributed.core - INFO - Starting established connection\n",
      "distributed.scheduler - INFO - Register tcp://10.35.37.2:36185\n",
      "distributed.scheduler - INFO - Starting worker compute stream, tcp://10.35.37.2:36185\n",
      "distributed.core - INFO - Starting established connection\n",
      "distributed.scheduler - INFO - Register tcp://10.35.25.2:41539\n",
      "distributed.scheduler - INFO - Starting worker compute stream, tcp://10.35.25.2:41539\n",
      "distributed.core - INFO - Starting established connection\n",
      "distributed.scheduler - INFO - Register tcp://10.35.43.2:37911\n",
      "distributed.scheduler - INFO - Starting worker compute stream, tcp://10.35.43.2:37911\n",
      "distributed.core - INFO - Starting established connection\n",
      "distributed.scheduler - INFO - Register tcp://10.35.29.2:33017\n",
      "distributed.scheduler - INFO - Starting worker compute stream, tcp://10.35.29.2:33017\n",
      "distributed.core - INFO - Starting established connection\n",
      "distributed.scheduler - INFO - Register tcp://10.35.9.2:38957\n",
      "distributed.scheduler - INFO - Starting worker compute stream, tcp://10.35.9.2:38957\n",
      "distributed.core - INFO - Starting established connection\n",
      "distributed.scheduler - INFO - Register tcp://10.35.36.2:41741\n",
      "distributed.scheduler - INFO - Starting worker compute stream, tcp://10.35.36.2:41741\n",
      "distributed.core - INFO - Starting established connection\n",
      "distributed.scheduler - INFO - Register tcp://10.35.26.2:33413\n",
      "distributed.scheduler - INFO - Starting worker compute stream, tcp://10.35.26.2:33413\n",
      "distributed.core - INFO - Starting established connection\n",
      "distributed.scheduler - INFO - Register tcp://10.35.33.2:42199\n",
      "distributed.scheduler - INFO - Starting worker compute stream, tcp://10.35.33.2:42199\n",
      "distributed.core - INFO - Starting established connection\n",
      "distributed.scheduler - INFO - Register tcp://10.35.18.2:34807\n",
      "distributed.scheduler - INFO - Starting worker compute stream, tcp://10.35.18.2:34807\n",
      "distributed.core - INFO - Starting established connection\n",
      "distributed.scheduler - INFO - Register tcp://10.35.42.2:35745\n",
      "distributed.scheduler - INFO - Starting worker compute stream, tcp://10.35.42.2:35745\n",
      "distributed.core - INFO - Starting established connection\n",
      "distributed.scheduler - INFO - Register tcp://10.35.15.2:43991\n",
      "distributed.scheduler - INFO - Starting worker compute stream, tcp://10.35.15.2:43991\n",
      "distributed.core - INFO - Starting established connection\n",
      "distributed.scheduler - INFO - Register tcp://10.35.38.2:44671\n",
      "distributed.scheduler - INFO - Starting worker compute stream, tcp://10.35.38.2:44671\n",
      "distributed.core - INFO - Starting established connection\n",
      "distributed.scheduler - INFO - Register tcp://10.35.40.2:44789\n",
      "distributed.scheduler - INFO - Starting worker compute stream, tcp://10.35.40.2:44789\n",
      "distributed.core - INFO - Starting established connection\n",
      "distributed.scheduler - INFO - Register tcp://10.35.12.2:33289\n",
      "distributed.scheduler - INFO - Starting worker compute stream, tcp://10.35.12.2:33289\n",
      "distributed.core - INFO - Starting established connection\n",
      "distributed.scheduler - INFO - Register tcp://10.35.31.2:40151\n",
      "distributed.scheduler - INFO - Starting worker compute stream, tcp://10.35.31.2:40151\n",
      "distributed.core - INFO - Starting established connection\n",
      "distributed.scheduler - INFO - Register tcp://10.35.23.2:33803\n",
      "distributed.scheduler - INFO - Starting worker compute stream, tcp://10.35.23.2:33803\n",
      "distributed.core - INFO - Starting established connection\n",
      "distributed.scheduler - INFO - Register tcp://10.35.13.2:44613\n",
      "distributed.scheduler - INFO - Starting worker compute stream, tcp://10.35.13.2:44613\n",
      "distributed.core - INFO - Starting established connection\n",
      "distributed.scheduler - INFO - Register tcp://10.35.24.2:43567\n",
      "distributed.scheduler - INFO - Starting worker compute stream, tcp://10.35.24.2:43567\n",
      "distributed.core - INFO - Starting established connection\n",
      "distributed.scheduler - INFO - Register tcp://10.35.14.2:39213\n",
      "distributed.scheduler - INFO - Starting worker compute stream, tcp://10.35.14.2:39213\n",
      "distributed.core - INFO - Starting established connection\n"
     ]
    },
    {
     "name": "stdout",
     "output_type": "stream",
     "text": [
      "processing 2R K4\n"
     ]
    },
    {
     "name": "stderr",
     "output_type": "stream",
     "text": [
      "distributed.scheduler - INFO - Register tcp://10.35.44.2:35089\n",
      "distributed.scheduler - INFO - Starting worker compute stream, tcp://10.35.44.2:35089\n",
      "distributed.core - INFO - Starting established connection\n"
     ]
    },
    {
     "name": "stdout",
     "output_type": "stream",
     "text": [
      "processing 2R K6\n",
      "processing 2L 18-5\n",
      "processing 2L 29-2\n",
      "processing 2L 36-9\n",
      "processing 2L 37-3\n",
      "processing 2L 42-4\n",
      "processing 2L 45-1\n",
      "processing 2L 46-9\n"
     ]
    },
    {
     "name": "stderr",
     "output_type": "stream",
     "text": [
      "distributed.scheduler - INFO - Register tcp://10.35.27.2:36847\n",
      "distributed.scheduler - INFO - Starting worker compute stream, tcp://10.35.27.2:36847\n",
      "distributed.core - INFO - Starting established connection\n",
      "distributed.scheduler - INFO - Remove worker tcp://10.35.22.2:41389\n",
      "distributed.core - INFO - Removing comms to tcp://10.35.22.2:41389\n",
      "distributed.batched - INFO - Batched Comm Closed: in <closed TCP>: ConnectionResetError: [Errno 104] Connection reset by peer\n"
     ]
    },
    {
     "name": "stdout",
     "output_type": "stream",
     "text": [
      "processing 2L 47-6\n",
      "processing 2L 73-2\n",
      "processing 2L 78-2\n",
      "processing 2L 80-2\n"
     ]
    },
    {
     "name": "stderr",
     "output_type": "stream",
     "text": [
      "distributed.utils_perf - WARNING - full garbage collections took 10% CPU time recently (threshold: 10%)\n",
      "distributed.utils_perf - WARNING - full garbage collections took 10% CPU time recently (threshold: 10%)\n"
     ]
    },
    {
     "name": "stdout",
     "output_type": "stream",
     "text": [
      "processing 2L B5\n"
     ]
    },
    {
     "name": "stderr",
     "output_type": "stream",
     "text": [
      "distributed.utils_perf - WARNING - full garbage collections took 10% CPU time recently (threshold: 10%)\n",
      "distributed.utils_perf - WARNING - full garbage collections took 10% CPU time recently (threshold: 10%)\n",
      "distributed.utils_perf - WARNING - full garbage collections took 10% CPU time recently (threshold: 10%)\n"
     ]
    },
    {
     "name": "stdout",
     "output_type": "stream",
     "text": [
      "processing 2L K2\n"
     ]
    },
    {
     "name": "stderr",
     "output_type": "stream",
     "text": [
      "distributed.utils_perf - WARNING - full garbage collections took 10% CPU time recently (threshold: 10%)\n",
      "distributed.utils_perf - WARNING - full garbage collections took 10% CPU time recently (threshold: 10%)\n",
      "distributed.utils_perf - WARNING - full garbage collections took 10% CPU time recently (threshold: 10%)\n",
      "distributed.utils_perf - WARNING - full garbage collections took 10% CPU time recently (threshold: 10%)\n"
     ]
    },
    {
     "name": "stdout",
     "output_type": "stream",
     "text": [
      "processing 2L K4\n"
     ]
    },
    {
     "name": "stderr",
     "output_type": "stream",
     "text": [
      "distributed.utils_perf - WARNING - full garbage collections took 10% CPU time recently (threshold: 10%)\n",
      "distributed.utils_perf - WARNING - full garbage collections took 10% CPU time recently (threshold: 10%)\n",
      "distributed.utils_perf - WARNING - full garbage collections took 10% CPU time recently (threshold: 10%)\n"
     ]
    },
    {
     "name": "stdout",
     "output_type": "stream",
     "text": [
      "processing 2L K6\n"
     ]
    },
    {
     "name": "stderr",
     "output_type": "stream",
     "text": [
      "distributed.utils_perf - WARNING - full garbage collections took 11% CPU time recently (threshold: 10%)\n",
      "distributed.utils_perf - WARNING - full garbage collections took 11% CPU time recently (threshold: 10%)\n",
      "distributed.utils_perf - WARNING - full garbage collections took 11% CPU time recently (threshold: 10%)\n",
      "distributed.utils_perf - WARNING - full garbage collections took 10% CPU time recently (threshold: 10%)\n"
     ]
    },
    {
     "name": "stdout",
     "output_type": "stream",
     "text": [
      "processing 3R 18-5\n"
     ]
    },
    {
     "name": "stderr",
     "output_type": "stream",
     "text": [
      "distributed.utils_perf - WARNING - full garbage collections took 11% CPU time recently (threshold: 10%)\n",
      "distributed.utils_perf - WARNING - full garbage collections took 11% CPU time recently (threshold: 10%)\n",
      "distributed.utils_perf - WARNING - full garbage collections took 11% CPU time recently (threshold: 10%)\n"
     ]
    },
    {
     "name": "stdout",
     "output_type": "stream",
     "text": [
      "processing 3R 29-2\n"
     ]
    },
    {
     "name": "stderr",
     "output_type": "stream",
     "text": [
      "distributed.utils_perf - WARNING - full garbage collections took 11% CPU time recently (threshold: 10%)\n",
      "distributed.utils_perf - WARNING - full garbage collections took 10% CPU time recently (threshold: 10%)\n",
      "distributed.utils_perf - WARNING - full garbage collections took 11% CPU time recently (threshold: 10%)\n",
      "distributed.utils_perf - WARNING - full garbage collections took 11% CPU time recently (threshold: 10%)\n"
     ]
    },
    {
     "name": "stdout",
     "output_type": "stream",
     "text": [
      "processing 3R 36-9\n"
     ]
    },
    {
     "name": "stderr",
     "output_type": "stream",
     "text": [
      "distributed.utils_perf - WARNING - full garbage collections took 11% CPU time recently (threshold: 10%)\n",
      "distributed.utils_perf - WARNING - full garbage collections took 11% CPU time recently (threshold: 10%)\n",
      "distributed.utils_perf - WARNING - full garbage collections took 11% CPU time recently (threshold: 10%)\n"
     ]
    },
    {
     "name": "stdout",
     "output_type": "stream",
     "text": [
      "processing 3R 37-3\n"
     ]
    },
    {
     "name": "stderr",
     "output_type": "stream",
     "text": [
      "distributed.utils_perf - WARNING - full garbage collections took 11% CPU time recently (threshold: 10%)\n",
      "distributed.utils_perf - WARNING - full garbage collections took 10% CPU time recently (threshold: 10%)\n",
      "distributed.utils_perf - WARNING - full garbage collections took 11% CPU time recently (threshold: 10%)\n",
      "distributed.utils_perf - WARNING - full garbage collections took 11% CPU time recently (threshold: 10%)\n"
     ]
    },
    {
     "name": "stdout",
     "output_type": "stream",
     "text": [
      "processing 3R 42-4\n"
     ]
    },
    {
     "name": "stderr",
     "output_type": "stream",
     "text": [
      "distributed.utils_perf - WARNING - full garbage collections took 11% CPU time recently (threshold: 10%)\n",
      "distributed.utils_perf - WARNING - full garbage collections took 11% CPU time recently (threshold: 10%)\n",
      "distributed.utils_perf - WARNING - full garbage collections took 10% CPU time recently (threshold: 10%)\n",
      "distributed.utils_perf - WARNING - full garbage collections took 10% CPU time recently (threshold: 10%)\n"
     ]
    },
    {
     "name": "stdout",
     "output_type": "stream",
     "text": [
      "processing 3R 45-1\n"
     ]
    },
    {
     "name": "stderr",
     "output_type": "stream",
     "text": [
      "distributed.utils_perf - WARNING - full garbage collections took 11% CPU time recently (threshold: 10%)\n",
      "distributed.utils_perf - WARNING - full garbage collections took 11% CPU time recently (threshold: 10%)\n",
      "distributed.utils_perf - WARNING - full garbage collections took 11% CPU time recently (threshold: 10%)\n"
     ]
    },
    {
     "name": "stdout",
     "output_type": "stream",
     "text": [
      "processing 3R 46-9\n"
     ]
    },
    {
     "name": "stderr",
     "output_type": "stream",
     "text": [
      "distributed.utils_perf - WARNING - full garbage collections took 11% CPU time recently (threshold: 10%)\n",
      "distributed.utils_perf - WARNING - full garbage collections took 11% CPU time recently (threshold: 10%)\n",
      "distributed.utils_perf - WARNING - full garbage collections took 11% CPU time recently (threshold: 10%)\n",
      "distributed.utils_perf - WARNING - full garbage collections took 11% CPU time recently (threshold: 10%)\n"
     ]
    },
    {
     "name": "stdout",
     "output_type": "stream",
     "text": [
      "processing 3R 47-6\n"
     ]
    },
    {
     "name": "stderr",
     "output_type": "stream",
     "text": [
      "distributed.utils_perf - WARNING - full garbage collections took 11% CPU time recently (threshold: 10%)\n",
      "distributed.utils_perf - WARNING - full garbage collections took 11% CPU time recently (threshold: 10%)\n",
      "distributed.utils_perf - WARNING - full garbage collections took 11% CPU time recently (threshold: 10%)\n"
     ]
    },
    {
     "name": "stdout",
     "output_type": "stream",
     "text": [
      "processing 3R 73-2\n"
     ]
    },
    {
     "name": "stderr",
     "output_type": "stream",
     "text": [
      "distributed.utils_perf - WARNING - full garbage collections took 11% CPU time recently (threshold: 10%)\n",
      "distributed.utils_perf - WARNING - full garbage collections took 11% CPU time recently (threshold: 10%)\n",
      "distributed.utils_perf - WARNING - full garbage collections took 11% CPU time recently (threshold: 10%)\n"
     ]
    },
    {
     "name": "stdout",
     "output_type": "stream",
     "text": [
      "processing 3R 78-2\n"
     ]
    },
    {
     "name": "stderr",
     "output_type": "stream",
     "text": [
      "distributed.utils_perf - WARNING - full garbage collections took 11% CPU time recently (threshold: 10%)\n",
      "distributed.utils_perf - WARNING - full garbage collections took 10% CPU time recently (threshold: 10%)\n",
      "distributed.utils_perf - WARNING - full garbage collections took 11% CPU time recently (threshold: 10%)\n",
      "distributed.utils_perf - WARNING - full garbage collections took 11% CPU time recently (threshold: 10%)\n"
     ]
    },
    {
     "name": "stdout",
     "output_type": "stream",
     "text": [
      "processing 3R 80-2\n"
     ]
    },
    {
     "name": "stderr",
     "output_type": "stream",
     "text": [
      "distributed.utils_perf - WARNING - full garbage collections took 11% CPU time recently (threshold: 10%)\n",
      "distributed.utils_perf - WARNING - full garbage collections took 11% CPU time recently (threshold: 10%)\n",
      "distributed.utils_perf - WARNING - full garbage collections took 11% CPU time recently (threshold: 10%)\n",
      "distributed.utils_perf - WARNING - full garbage collections took 10% CPU time recently (threshold: 10%)\n"
     ]
    },
    {
     "name": "stdout",
     "output_type": "stream",
     "text": [
      "processing 3R B5\n"
     ]
    },
    {
     "name": "stderr",
     "output_type": "stream",
     "text": [
      "distributed.utils_perf - WARNING - full garbage collections took 10% CPU time recently (threshold: 10%)\n",
      "distributed.utils_perf - WARNING - full garbage collections took 10% CPU time recently (threshold: 10%)\n",
      "distributed.utils_perf - WARNING - full garbage collections took 10% CPU time recently (threshold: 10%)\n"
     ]
    },
    {
     "name": "stdout",
     "output_type": "stream",
     "text": [
      "processing 3R K2\n"
     ]
    },
    {
     "name": "stderr",
     "output_type": "stream",
     "text": [
      "distributed.utils_perf - WARNING - full garbage collections took 11% CPU time recently (threshold: 10%)\n",
      "distributed.utils_perf - WARNING - full garbage collections took 11% CPU time recently (threshold: 10%)\n",
      "distributed.utils_perf - WARNING - full garbage collections took 11% CPU time recently (threshold: 10%)\n"
     ]
    },
    {
     "name": "stdout",
     "output_type": "stream",
     "text": [
      "processing 3R K4\n"
     ]
    },
    {
     "name": "stderr",
     "output_type": "stream",
     "text": [
      "distributed.utils_perf - WARNING - full garbage collections took 11% CPU time recently (threshold: 10%)\n",
      "distributed.utils_perf - WARNING - full garbage collections took 10% CPU time recently (threshold: 10%)\n",
      "distributed.utils_perf - WARNING - full garbage collections took 10% CPU time recently (threshold: 10%)\n",
      "distributed.utils_perf - WARNING - full garbage collections took 10% CPU time recently (threshold: 10%)\n"
     ]
    },
    {
     "name": "stdout",
     "output_type": "stream",
     "text": [
      "processing 3R K6\n"
     ]
    },
    {
     "name": "stderr",
     "output_type": "stream",
     "text": [
      "distributed.utils_perf - WARNING - full garbage collections took 11% CPU time recently (threshold: 10%)\n",
      "distributed.utils_perf - WARNING - full garbage collections took 11% CPU time recently (threshold: 10%)\n",
      "distributed.utils_perf - WARNING - full garbage collections took 11% CPU time recently (threshold: 10%)\n"
     ]
    },
    {
     "name": "stdout",
     "output_type": "stream",
     "text": [
      "processing 3L 18-5\n"
     ]
    },
    {
     "name": "stderr",
     "output_type": "stream",
     "text": [
      "distributed.utils_perf - WARNING - full garbage collections took 11% CPU time recently (threshold: 10%)\n",
      "distributed.utils_perf - WARNING - full garbage collections took 11% CPU time recently (threshold: 10%)\n",
      "distributed.utils_perf - WARNING - full garbage collections took 10% CPU time recently (threshold: 10%)\n"
     ]
    },
    {
     "name": "stdout",
     "output_type": "stream",
     "text": [
      "processing 3L 29-2\n"
     ]
    },
    {
     "name": "stderr",
     "output_type": "stream",
     "text": [
      "distributed.utils_perf - WARNING - full garbage collections took 10% CPU time recently (threshold: 10%)\n",
      "distributed.utils_perf - WARNING - full garbage collections took 10% CPU time recently (threshold: 10%)\n"
     ]
    },
    {
     "name": "stdout",
     "output_type": "stream",
     "text": [
      "processing 3L 36-9\n"
     ]
    },
    {
     "name": "stderr",
     "output_type": "stream",
     "text": [
      "distributed.utils_perf - WARNING - full garbage collections took 10% CPU time recently (threshold: 10%)\n",
      "distributed.utils_perf - WARNING - full garbage collections took 10% CPU time recently (threshold: 10%)\n",
      "distributed.utils_perf - WARNING - full garbage collections took 10% CPU time recently (threshold: 10%)\n"
     ]
    },
    {
     "name": "stdout",
     "output_type": "stream",
     "text": [
      "processing 3L 37-3\n"
     ]
    },
    {
     "name": "stderr",
     "output_type": "stream",
     "text": [
      "distributed.utils_perf - WARNING - full garbage collections took 10% CPU time recently (threshold: 10%)\n",
      "distributed.utils_perf - WARNING - full garbage collections took 10% CPU time recently (threshold: 10%)\n"
     ]
    },
    {
     "name": "stdout",
     "output_type": "stream",
     "text": [
      "processing 3L 42-4\n"
     ]
    },
    {
     "name": "stderr",
     "output_type": "stream",
     "text": [
      "distributed.utils_perf - WARNING - full garbage collections took 10% CPU time recently (threshold: 10%)\n",
      "distributed.utils_perf - WARNING - full garbage collections took 10% CPU time recently (threshold: 10%)\n",
      "distributed.utils_perf - WARNING - full garbage collections took 10% CPU time recently (threshold: 10%)\n"
     ]
    },
    {
     "name": "stdout",
     "output_type": "stream",
     "text": [
      "processing 3L 45-1\n"
     ]
    },
    {
     "name": "stderr",
     "output_type": "stream",
     "text": [
      "distributed.utils_perf - WARNING - full garbage collections took 10% CPU time recently (threshold: 10%)\n",
      "distributed.utils_perf - WARNING - full garbage collections took 10% CPU time recently (threshold: 10%)\n"
     ]
    },
    {
     "name": "stdout",
     "output_type": "stream",
     "text": [
      "processing 3L 46-9\n"
     ]
    },
    {
     "name": "stderr",
     "output_type": "stream",
     "text": [
      "distributed.utils_perf - WARNING - full garbage collections took 10% CPU time recently (threshold: 10%)\n"
     ]
    },
    {
     "name": "stdout",
     "output_type": "stream",
     "text": [
      "processing 3L 47-6\n",
      "processing 3L 73-2\n",
      "processing 3L 78-2\n",
      "processing 3L 80-2\n",
      "processing 3L B5\n",
      "processing 3L K2\n",
      "processing 3L K4\n",
      "processing 3L K6\n",
      "CPU times: user 10min 22s, sys: 32.7 s, total: 10min 54s\n",
      "Wall time: 13min 57s\n"
     ]
    }
   ],
   "source": [
    "%%time\n",
    "data_holder = {}\n",
    "\n",
    "for chrom_arm in chrom_arms:\n",
    "        \n",
    "    # varies by chrom only, but need to be chunked depending on ground_truth\n",
    "    alternative_calls = {\n",
    "        \"phase2\": load_phase2_accessibility(chrom_arm).rechunk(desired_chunks),\n",
    "        \"phase3\": load_phase3_accessibility(chrom_arm).rechunk(desired_chunks)\n",
    "    }\n",
    "    \n",
    "    alternative_calls[\"r100\"] = da.ones(alternative_calls[\"phase2\"].shape[0], dtype=np.bool, chunks=desired_chunks)\n",
    "    \n",
    "    chunks = ((1, ) * alternative_calls[\"phase2\"].numblocks[0], 2, 2)\n",
    "#     x = da.map_blocks(\n",
    "#         cross_tab_values, \n",
    "#         alternative_calls[\"phase2\"].astype(\"int\"), \n",
    "#         alternative_calls[\"phase3\"], \n",
    "#         chunks=chunks,\n",
    "#         dtype=np.int32,\n",
    "#         new_axis=[1, 2]).sum(axis=0).compute()\n",
    "\n",
    "    for cross_id in cross_family_ids:\n",
    "        \n",
    "        print(\"processing\", chrom_arm, cross_id)\n",
    "\n",
    "        # varies by cross and chrom\n",
    "        ground_truth = load_ground_truth(chrom_arm, cross_id).rechunk(desired_chunks)\n",
    "\n",
    "\n",
    "        for key, eval_data in alternative_calls.items():\n",
    "            \n",
    "            if (key, chrom_arm, cross_id) in data_holder:\n",
    "                print(\"skipping\", (key, chrom_arm, cross_id))\n",
    "                continue\n",
    "\n",
    "            chunks = ((1, ) * ground_truth.numblocks[0], 2, 2)\n",
    "            q = da.map_blocks(\n",
    "                cross_tab_values, \n",
    "                ground_truth, \n",
    "                eval_data, \n",
    "                chunks=chunks, \n",
    "                dtype=np.int32, \n",
    "                new_axis=[1, 2]).sum(axis=0)\n",
    "\n",
    "            (tn, fp), (fn, tp) = q.compute()\n",
    "\n",
    "            # frac accessible is simply TPs + FPs. / all\n",
    "            #res[\"frac_accessible\"] = eval_data.mean().compute()\n",
    "\n",
    "            data_holder[key, chrom_arm, cross_id] = pd.Series(\n",
    "                [tn, fp, fn, tp], dtype=np.int32, index=[\"TN\", \"FP\", \"FN\", \"TP\"])\n"
   ]
  },
  {
   "cell_type": "code",
   "execution_count": 20,
   "metadata": {},
   "outputs": [],
   "source": [
    "df = pd.concat(data_holder, axis=0, sort=False, names=[\"description\", \"chrom\", \"cross_id\", \"metric\"])\n",
    "df.name = \"value\""
   ]
  },
  {
   "cell_type": "markdown",
   "metadata": {},
   "source": [
    "## List of tables\n",
    "\n",
    "1. Autosomes: Phase 3 vs unfiltered. FDR, TNR, ie 4 cols x (5 x 4) rows\n",
    "2. X: Phase 3 vs unfiltered\n",
    "3. Autosomes: Phase 2 vs phase 3. FDR / % accessible / Youden.\n",
    "4. X: Phase 2 va phase 3\n",
    "5. Accessibility summary\n",
    "\n",
    "Accessibility is shifted to separate section, where we can pull arab + gamb_colu_arab."
   ]
  },
  {
   "cell_type": "code",
   "execution_count": 21,
   "metadata": {},
   "outputs": [],
   "source": [
    "output = pd.pivot_table(\n",
    "    pd.DataFrame(df).reset_index(level=\"metric\"), \n",
    "    index=[\"description\", \"chrom\", \"cross_id\"], \n",
    "    columns=\"metric\", \n",
    "    values=\"value\")"
   ]
  },
  {
   "cell_type": "code",
   "execution_count": 22,
   "metadata": {},
   "outputs": [
    {
     "data": {
      "text/html": [
       "<div>\n",
       "<style scoped>\n",
       "    .dataframe tbody tr th:only-of-type {\n",
       "        vertical-align: middle;\n",
       "    }\n",
       "\n",
       "    .dataframe tbody tr th {\n",
       "        vertical-align: top;\n",
       "    }\n",
       "\n",
       "    .dataframe thead th {\n",
       "        text-align: right;\n",
       "    }\n",
       "</style>\n",
       "<table border=\"1\" class=\"dataframe\">\n",
       "  <thead>\n",
       "    <tr style=\"text-align: right;\">\n",
       "      <th></th>\n",
       "      <th></th>\n",
       "      <th>metric</th>\n",
       "      <th>FN</th>\n",
       "      <th>FP</th>\n",
       "      <th>TN</th>\n",
       "      <th>TP</th>\n",
       "    </tr>\n",
       "    <tr>\n",
       "      <th>description</th>\n",
       "      <th>chrom</th>\n",
       "      <th>cross_id</th>\n",
       "      <th></th>\n",
       "      <th></th>\n",
       "      <th></th>\n",
       "      <th></th>\n",
       "    </tr>\n",
       "  </thead>\n",
       "  <tbody>\n",
       "    <tr>\n",
       "      <th rowspan=\"5\" valign=\"top\">phase2</th>\n",
       "      <th rowspan=\"5\" valign=\"top\">2L</th>\n",
       "      <th>18-5</th>\n",
       "      <td>15317681</td>\n",
       "      <td>114016</td>\n",
       "      <td>428818</td>\n",
       "      <td>27812440</td>\n",
       "    </tr>\n",
       "    <tr>\n",
       "      <th>29-2</th>\n",
       "      <td>14162876</td>\n",
       "      <td>163874</td>\n",
       "      <td>579996</td>\n",
       "      <td>27716841</td>\n",
       "    </tr>\n",
       "    <tr>\n",
       "      <th>36-9</th>\n",
       "      <td>14892225</td>\n",
       "      <td>46364</td>\n",
       "      <td>426516</td>\n",
       "      <td>27894179</td>\n",
       "    </tr>\n",
       "    <tr>\n",
       "      <th>37-3</th>\n",
       "      <td>14991818</td>\n",
       "      <td>56932</td>\n",
       "      <td>476413</td>\n",
       "      <td>27858836</td>\n",
       "    </tr>\n",
       "    <tr>\n",
       "      <th>42-4</th>\n",
       "      <td>15420518</td>\n",
       "      <td>25529</td>\n",
       "      <td>253127</td>\n",
       "      <td>27959521</td>\n",
       "    </tr>\n",
       "    <tr>\n",
       "      <th>...</th>\n",
       "      <th>...</th>\n",
       "      <th>...</th>\n",
       "      <td>...</td>\n",
       "      <td>...</td>\n",
       "      <td>...</td>\n",
       "      <td>...</td>\n",
       "    </tr>\n",
       "    <tr>\n",
       "      <th rowspan=\"5\" valign=\"top\">r100</th>\n",
       "      <th rowspan=\"5\" valign=\"top\">3R</th>\n",
       "      <th>80-2</th>\n",
       "      <td>0</td>\n",
       "      <td>490412</td>\n",
       "      <td>0</td>\n",
       "      <td>45845877</td>\n",
       "    </tr>\n",
       "    <tr>\n",
       "      <th>B5</th>\n",
       "      <td>0</td>\n",
       "      <td>449260</td>\n",
       "      <td>0</td>\n",
       "      <td>45832308</td>\n",
       "    </tr>\n",
       "    <tr>\n",
       "      <th>K2</th>\n",
       "      <td>0</td>\n",
       "      <td>487009</td>\n",
       "      <td>0</td>\n",
       "      <td>45992770</td>\n",
       "    </tr>\n",
       "    <tr>\n",
       "      <th>K4</th>\n",
       "      <td>0</td>\n",
       "      <td>428585</td>\n",
       "      <td>0</td>\n",
       "      <td>45997772</td>\n",
       "    </tr>\n",
       "    <tr>\n",
       "      <th>K6</th>\n",
       "      <td>0</td>\n",
       "      <td>423653</td>\n",
       "      <td>0</td>\n",
       "      <td>45964561</td>\n",
       "    </tr>\n",
       "  </tbody>\n",
       "</table>\n",
       "<p>180 rows × 4 columns</p>\n",
       "</div>"
      ],
      "text/plain": [
       "metric                            FN      FP      TN        TP\n",
       "description chrom cross_id                                    \n",
       "phase2      2L    18-5      15317681  114016  428818  27812440\n",
       "                  29-2      14162876  163874  579996  27716841\n",
       "                  36-9      14892225   46364  426516  27894179\n",
       "                  37-3      14991818   56932  476413  27858836\n",
       "                  42-4      15420518   25529  253127  27959521\n",
       "...                              ...     ...     ...       ...\n",
       "r100        3R    80-2             0  490412       0  45845877\n",
       "                  B5               0  449260       0  45832308\n",
       "                  K2               0  487009       0  45992770\n",
       "                  K4               0  428585       0  45997772\n",
       "                  K6               0  423653       0  45964561\n",
       "\n",
       "[180 rows x 4 columns]"
      ]
     },
     "execution_count": 22,
     "metadata": {},
     "output_type": "execute_result"
    }
   ],
   "source": [
    "output"
   ]
  },
  {
   "cell_type": "code",
   "execution_count": 23,
   "metadata": {},
   "outputs": [],
   "source": [
    "output_all_chroms = output.groupby(level=[0, 2]).agg(np.sum)"
   ]
  },
  {
   "cell_type": "code",
   "execution_count": 24,
   "metadata": {},
   "outputs": [],
   "source": [
    "output_summary = output.apply(lambda y: calculate_metrics_of_interest(*y), axis=1)"
   ]
  },
  {
   "cell_type": "code",
   "execution_count": 25,
   "metadata": {},
   "outputs": [],
   "source": [
    "output_all_chroms_summary = output_all_chroms.apply(lambda y: calculate_metrics_of_interest(*y), axis=1)"
   ]
  },
  {
   "cell_type": "markdown",
   "metadata": {},
   "source": [
    "## generate table 1."
   ]
  },
  {
   "cell_type": "code",
   "execution_count": 38,
   "metadata": {},
   "outputs": [],
   "source": [
    "f = output_summary.reorder_levels([2, 0, 1]).loc[eval_family_ids]\n",
    "f = f.drop(\"phase2\", level=1)\n",
    "\n",
    "f.rename({\n",
    "    \"fdr\": \"FalseDiscoveryRate\", \n",
    "    \"tpr\": \"TruePositiveRate\"}, axis=1, inplace=True)\n",
    "f.rename({\"phase3\": \"site_filters\", \"r100\": \"unfiltered\"}, level=1, inplace=True)\n",
    "\n",
    "tab1 = f.reset_index().pivot(\n",
    "    index=[\"chrom\", \"cross_id\"], \n",
    "    columns=[\"description\"], \n",
    "    values=[\"FalseDiscoveryRate\", \"TruePositiveRate\"])\n",
    "tab1.columns = [\".\".join(s) for s in tab1.columns.to_flat_index()]"
   ]
  },
  {
   "cell_type": "markdown",
   "metadata": {},
   "source": [
    "## generate table 3"
   ]
  },
  {
   "cell_type": "code",
   "execution_count": 42,
   "metadata": {},
   "outputs": [],
   "source": [
    "f = output_summary.reorder_levels([2, 0, 1]).loc[eval_family_ids]\n",
    "f = f.drop(\"r100\", level=1)\n",
    "\n",
    "f.rename({\n",
    "    \"fdr\": \"FalseDiscoveryRate\", \n",
    "    \"tpr\": \"TruePositiveRate\",\n",
    "    \"youden\": \"Youden_J\"}, axis=1, inplace=True)\n",
    "f.rename({\"phase3\": \"Phase3_filters\", \"phase2\": \"Phase2_filters\"}, level=1, inplace=True)\n",
    "\n",
    "tab3 = f.reset_index().pivot(\n",
    "    index=[\"chrom\", \"cross_id\"], \n",
    "    columns=[\"description\"], \n",
    "    values=[\"FalseDiscoveryRate\", \"TruePositiveRate\", \"Youden_J\"])\n",
    "\n",
    "\n",
    "tab3.columns = [\".\".join(s) for s in tab3.columns.to_flat_index()]"
   ]
  },
  {
   "cell_type": "code",
   "execution_count": 43,
   "metadata": {},
   "outputs": [
    {
     "data": {
      "text/html": [
       "<div>\n",
       "<style scoped>\n",
       "    .dataframe tbody tr th:only-of-type {\n",
       "        vertical-align: middle;\n",
       "    }\n",
       "\n",
       "    .dataframe tbody tr th {\n",
       "        vertical-align: top;\n",
       "    }\n",
       "\n",
       "    .dataframe thead th {\n",
       "        text-align: right;\n",
       "    }\n",
       "</style>\n",
       "<table border=\"1\" class=\"dataframe\">\n",
       "  <thead>\n",
       "    <tr style=\"text-align: right;\">\n",
       "      <th></th>\n",
       "      <th></th>\n",
       "      <th>FalseDiscoveryRate.site_filters</th>\n",
       "      <th>FalseDiscoveryRate.unfiltered</th>\n",
       "      <th>TruePositiveRate.site_filters</th>\n",
       "      <th>TruePositiveRate.unfiltered</th>\n",
       "    </tr>\n",
       "    <tr>\n",
       "      <th>chrom</th>\n",
       "      <th>cross_id</th>\n",
       "      <th></th>\n",
       "      <th></th>\n",
       "      <th></th>\n",
       "      <th></th>\n",
       "    </tr>\n",
       "  </thead>\n",
       "  <tbody>\n",
       "    <tr>\n",
       "      <th rowspan=\"5\" valign=\"top\">2L</th>\n",
       "      <th>37-3</th>\n",
       "      <td>1.093E-03</td>\n",
       "      <td>1.229E-02</td>\n",
       "      <td>9.864E-01</td>\n",
       "      <td>1.000E+00</td>\n",
       "    </tr>\n",
       "    <tr>\n",
       "      <th>45-1</th>\n",
       "      <td>7.734E-04</td>\n",
       "      <td>1.013E-02</td>\n",
       "      <td>9.886E-01</td>\n",
       "      <td>1.000E+00</td>\n",
       "    </tr>\n",
       "    <tr>\n",
       "      <th>73-2</th>\n",
       "      <td>5.383E-04</td>\n",
       "      <td>1.030E-02</td>\n",
       "      <td>9.883E-01</td>\n",
       "      <td>1.000E+00</td>\n",
       "    </tr>\n",
       "    <tr>\n",
       "      <th>B5</th>\n",
       "      <td>5.832E-04</td>\n",
       "      <td>7.267E-03</td>\n",
       "      <td>9.917E-01</td>\n",
       "      <td>1.000E+00</td>\n",
       "    </tr>\n",
       "    <tr>\n",
       "      <th>K6</th>\n",
       "      <td>4.129E-04</td>\n",
       "      <td>7.422E-03</td>\n",
       "      <td>9.915E-01</td>\n",
       "      <td>1.000E+00</td>\n",
       "    </tr>\n",
       "  </tbody>\n",
       "</table>\n",
       "</div>"
      ],
      "text/plain": [
       "                FalseDiscoveryRate.site_filters  \\\n",
       "chrom cross_id                                    \n",
       "2L    37-3                            1.093E-03   \n",
       "      45-1                            7.734E-04   \n",
       "      73-2                            5.383E-04   \n",
       "      B5                              5.832E-04   \n",
       "      K6                              4.129E-04   \n",
       "\n",
       "                FalseDiscoveryRate.unfiltered  TruePositiveRate.site_filters  \\\n",
       "chrom cross_id                                                                 \n",
       "2L    37-3                          1.229E-02                      9.864E-01   \n",
       "      45-1                          1.013E-02                      9.886E-01   \n",
       "      73-2                          1.030E-02                      9.883E-01   \n",
       "      B5                            7.267E-03                      9.917E-01   \n",
       "      K6                            7.422E-03                      9.915E-01   \n",
       "\n",
       "                TruePositiveRate.unfiltered  \n",
       "chrom cross_id                               \n",
       "2L    37-3                        1.000E+00  \n",
       "      45-1                        1.000E+00  \n",
       "      73-2                        1.000E+00  \n",
       "      B5                          1.000E+00  \n",
       "      K6                          1.000E+00  "
      ]
     },
     "execution_count": 43,
     "metadata": {},
     "output_type": "execute_result"
    }
   ],
   "source": [
    "tab1.head()"
   ]
  },
  {
   "cell_type": "code",
   "execution_count": 64,
   "metadata": {},
   "outputs": [],
   "source": [
    "tab1.to_csv(\n",
    "    \"../content/tables/site-filters/table1_performance.csv\", float_format='%.4E')"
   ]
  },
  {
   "cell_type": "code",
   "execution_count": 65,
   "metadata": {},
   "outputs": [],
   "source": [
    "tab3.to_csv(\n",
    "    \"../content/tables/site-filters/table2_phase2vsphase3.csv\", float_format='%.4E')"
   ]
  },
  {
   "cell_type": "markdown",
   "metadata": {},
   "source": [
    "## Numbers for paper"
   ]
  },
  {
   "cell_type": "code",
   "execution_count": 50,
   "metadata": {},
   "outputs": [],
   "source": [
    "pd.set_option('display.float_format', '{:.5f}'.format)"
   ]
  },
  {
   "cell_type": "code",
   "execution_count": 51,
   "metadata": {},
   "outputs": [
    {
     "data": {
      "text/html": [
       "<div>\n",
       "<style scoped>\n",
       "    .dataframe tbody tr th:only-of-type {\n",
       "        vertical-align: middle;\n",
       "    }\n",
       "\n",
       "    .dataframe tbody tr th {\n",
       "        vertical-align: top;\n",
       "    }\n",
       "\n",
       "    .dataframe thead th {\n",
       "        text-align: right;\n",
       "    }\n",
       "</style>\n",
       "<table border=\"1\" class=\"dataframe\">\n",
       "  <thead>\n",
       "    <tr style=\"text-align: right;\">\n",
       "      <th></th>\n",
       "      <th>tpr</th>\n",
       "      <th>fpr</th>\n",
       "      <th>fdr</th>\n",
       "      <th>tnr</th>\n",
       "      <th>youden</th>\n",
       "      <th>frac_pass</th>\n",
       "    </tr>\n",
       "  </thead>\n",
       "  <tbody>\n",
       "    <tr>\n",
       "      <th>amax</th>\n",
       "      <td>99.11868</td>\n",
       "      <td>0.44761</td>\n",
       "      <td>0.10352</td>\n",
       "      <td>99.83720</td>\n",
       "      <td>98.95588</td>\n",
       "      <td>81.17613</td>\n",
       "    </tr>\n",
       "    <tr>\n",
       "      <th>amin</th>\n",
       "      <td>98.74520</td>\n",
       "      <td>0.16280</td>\n",
       "      <td>0.03709</td>\n",
       "      <td>99.55239</td>\n",
       "      <td>98.29759</td>\n",
       "      <td>80.45451</td>\n",
       "    </tr>\n",
       "  </tbody>\n",
       "</table>\n",
       "</div>"
      ],
      "text/plain": [
       "          tpr     fpr     fdr      tnr   youden  frac_pass\n",
       "amax 99.11868 0.44761 0.10352 99.83720 98.95588   81.17613\n",
       "amin 98.74520 0.16280 0.03709 99.55239 98.29759   80.45451"
      ]
     },
     "execution_count": 51,
     "metadata": {},
     "output_type": "execute_result"
    }
   ],
   "source": [
    "output_all_chroms_summary.loc[\"phase3\"].loc[eval_family_ids].apply([np.max, np.min]) * 100"
   ]
  },
  {
   "cell_type": "code",
   "execution_count": 52,
   "metadata": {},
   "outputs": [
    {
     "data": {
      "text/html": [
       "<div>\n",
       "<style scoped>\n",
       "    .dataframe tbody tr th:only-of-type {\n",
       "        vertical-align: middle;\n",
       "    }\n",
       "\n",
       "    .dataframe tbody tr th {\n",
       "        vertical-align: top;\n",
       "    }\n",
       "\n",
       "    .dataframe thead th {\n",
       "        text-align: right;\n",
       "    }\n",
       "</style>\n",
       "<table border=\"1\" class=\"dataframe\">\n",
       "  <thead>\n",
       "    <tr style=\"text-align: right;\">\n",
       "      <th></th>\n",
       "      <th>tpr</th>\n",
       "      <th>fpr</th>\n",
       "      <th>fdr</th>\n",
       "      <th>tnr</th>\n",
       "      <th>youden</th>\n",
       "      <th>frac_pass</th>\n",
       "    </tr>\n",
       "  </thead>\n",
       "  <tbody>\n",
       "    <tr>\n",
       "      <th>amax</th>\n",
       "      <td>100.00000</td>\n",
       "      <td>100.00000</td>\n",
       "      <td>1.10460</td>\n",
       "      <td>0.00000</td>\n",
       "      <td>0.00000</td>\n",
       "      <td>100.00000</td>\n",
       "    </tr>\n",
       "    <tr>\n",
       "      <th>amin</th>\n",
       "      <td>100.00000</td>\n",
       "      <td>100.00000</td>\n",
       "      <td>0.74891</td>\n",
       "      <td>0.00000</td>\n",
       "      <td>0.00000</td>\n",
       "      <td>100.00000</td>\n",
       "    </tr>\n",
       "  </tbody>\n",
       "</table>\n",
       "</div>"
      ],
      "text/plain": [
       "           tpr       fpr     fdr     tnr  youden  frac_pass\n",
       "amax 100.00000 100.00000 1.10460 0.00000 0.00000  100.00000\n",
       "amin 100.00000 100.00000 0.74891 0.00000 0.00000  100.00000"
      ]
     },
     "execution_count": 52,
     "metadata": {},
     "output_type": "execute_result"
    }
   ],
   "source": [
    "output_all_chroms_summary.loc[\"r100\"].loc[eval_family_ids].apply([np.max, np.min]) * 100"
   ]
  },
  {
   "cell_type": "code",
   "execution_count": 53,
   "metadata": {},
   "outputs": [
    {
     "data": {
      "text/plain": [
       "cross_id\n",
       "B5     13.13199\n",
       "K6     20.19048\n",
       "73-2   19.16880\n",
       "45-1   13.49985\n",
       "37-3   10.67007\n",
       "Name: fdr, dtype: float64"
      ]
     },
     "execution_count": 53,
     "metadata": {},
     "output_type": "execute_result"
    }
   ],
   "source": [
    "output_all_chroms_summary.loc[\"r100\"].loc[eval_family_ids].fdr / output_all_chroms_summary.loc[\"phase3\"].loc[eval_family_ids].fdr"
   ]
  },
  {
   "cell_type": "code",
   "execution_count": 54,
   "metadata": {},
   "outputs": [
    {
     "data": {
      "text/html": [
       "<div>\n",
       "<style scoped>\n",
       "    .dataframe tbody tr th:only-of-type {\n",
       "        vertical-align: middle;\n",
       "    }\n",
       "\n",
       "    .dataframe tbody tr th {\n",
       "        vertical-align: top;\n",
       "    }\n",
       "\n",
       "    .dataframe thead th {\n",
       "        text-align: right;\n",
       "    }\n",
       "</style>\n",
       "<table border=\"1\" class=\"dataframe\">\n",
       "  <thead>\n",
       "    <tr style=\"text-align: right;\">\n",
       "      <th></th>\n",
       "      <th>tpr</th>\n",
       "      <th>fpr</th>\n",
       "      <th>fdr</th>\n",
       "      <th>tnr</th>\n",
       "      <th>youden</th>\n",
       "      <th>frac_pass</th>\n",
       "    </tr>\n",
       "    <tr>\n",
       "      <th>cross_id</th>\n",
       "      <th></th>\n",
       "      <th></th>\n",
       "      <th></th>\n",
       "      <th></th>\n",
       "      <th></th>\n",
       "      <th></th>\n",
       "    </tr>\n",
       "  </thead>\n",
       "  <tbody>\n",
       "    <tr>\n",
       "      <th>B5</th>\n",
       "      <td>0.98937</td>\n",
       "      <td>0.00181</td>\n",
       "      <td>0.00080</td>\n",
       "      <td>0.99819</td>\n",
       "      <td>0.98756</td>\n",
       "      <td>0.68788</td>\n",
       "    </tr>\n",
       "    <tr>\n",
       "      <th>K6</th>\n",
       "      <td>0.98983</td>\n",
       "      <td>0.00134</td>\n",
       "      <td>0.00059</td>\n",
       "      <td>0.99866</td>\n",
       "      <td>0.98849</td>\n",
       "      <td>0.68962</td>\n",
       "    </tr>\n",
       "    <tr>\n",
       "      <th>73-2</th>\n",
       "      <td>0.98773</td>\n",
       "      <td>0.00291</td>\n",
       "      <td>0.00126</td>\n",
       "      <td>0.99709</td>\n",
       "      <td>0.98481</td>\n",
       "      <td>0.69223</td>\n",
       "    </tr>\n",
       "    <tr>\n",
       "      <th>45-1</th>\n",
       "      <td>0.98824</td>\n",
       "      <td>0.00361</td>\n",
       "      <td>0.00158</td>\n",
       "      <td>0.99639</td>\n",
       "      <td>0.98462</td>\n",
       "      <td>0.69077</td>\n",
       "    </tr>\n",
       "    <tr>\n",
       "      <th>37-3</th>\n",
       "      <td>0.98606</td>\n",
       "      <td>0.00447</td>\n",
       "      <td>0.00199</td>\n",
       "      <td>0.99553</td>\n",
       "      <td>0.98159</td>\n",
       "      <td>0.68603</td>\n",
       "    </tr>\n",
       "  </tbody>\n",
       "</table>\n",
       "</div>"
      ],
      "text/plain": [
       "             tpr     fpr     fdr     tnr  youden  frac_pass\n",
       "cross_id                                                   \n",
       "B5       0.98937 0.00181 0.00080 0.99819 0.98756    0.68788\n",
       "K6       0.98983 0.00134 0.00059 0.99866 0.98849    0.68962\n",
       "73-2     0.98773 0.00291 0.00126 0.99709 0.98481    0.69223\n",
       "45-1     0.98824 0.00361 0.00158 0.99639 0.98462    0.69077\n",
       "37-3     0.98606 0.00447 0.00199 0.99553 0.98159    0.68603"
      ]
     },
     "execution_count": 54,
     "metadata": {},
     "output_type": "execute_result"
    }
   ],
   "source": [
    "output_all_chroms_summary.loc[\"phase2\"].loc[eval_family_ids]"
   ]
  },
  {
   "cell_type": "markdown",
   "metadata": {},
   "source": [
    "## Check fraction accessible matches up"
   ]
  },
  {
   "cell_type": "code",
   "execution_count": 55,
   "metadata": {},
   "outputs": [],
   "source": [
    "chromosomes = chrom_arms + [\"X\",]"
   ]
  },
  {
   "cell_type": "code",
   "execution_count": 56,
   "metadata": {},
   "outputs": [],
   "source": [
    "contig_shape = pd.DataFrame(\n",
    "    0,\n",
    "    index=chromosomes, \n",
    "    columns=[\"phase2\", \"phase3:gamb_colu\", \"phase3:arab\", \"phase3:gamb_colu_arab\"],\n",
    "    dtype=int)\n",
    "\n",
    "contig_sum_accessible = pd.DataFrame(\n",
    "    0,\n",
    "    index=chromosomes, \n",
    "    columns=[\"phase2\", \"phase3:gamb_colu\", \"phase3:arab\", \"phase3:gamb_colu_arab\"],\n",
    "    dtype=int)"
   ]
  },
  {
   "cell_type": "code",
   "execution_count": 57,
   "metadata": {},
   "outputs": [],
   "source": [
    "for c in chromosomes:\n",
    "\n",
    "    for mid in [\"arab\", \"gamb_colu\", \"gamb_colu_arab\"]:\n",
    "        a = load_phase3_accessibility(c, mid)\n",
    "        contig_sum_accessible.at[c, f\"phase3:{mid}\"] = a.sum().compute()\n",
    "        contig_shape.at[c, f\"phase3:{mid}\"] = a.shape[0]\n",
    "        \n",
    "    a = load_phase2_accessibility(c)\n",
    "    contig_sum_accessible.at[c, \"phase2\"] = a.sum().compute()\n",
    "    contig_shape.at[c, \"phase2\"] = a.shape[0]"
   ]
  },
  {
   "cell_type": "code",
   "execution_count": 58,
   "metadata": {},
   "outputs": [
    {
     "data": {
      "text/plain": [
       "<distributed.deploy.adaptive.Adaptive at 0x7f9f7a844d10>"
      ]
     },
     "execution_count": 58,
     "metadata": {},
     "output_type": "execute_result"
    }
   ],
   "source": [
    "cluster.adapt()"
   ]
  },
  {
   "cell_type": "code",
   "execution_count": 59,
   "metadata": {},
   "outputs": [
    {
     "data": {
      "text/html": [
       "<div>\n",
       "<style scoped>\n",
       "    .dataframe tbody tr th:only-of-type {\n",
       "        vertical-align: middle;\n",
       "    }\n",
       "\n",
       "    .dataframe tbody tr th {\n",
       "        vertical-align: top;\n",
       "    }\n",
       "\n",
       "    .dataframe thead th {\n",
       "        text-align: right;\n",
       "    }\n",
       "</style>\n",
       "<table border=\"1\" class=\"dataframe\">\n",
       "  <thead>\n",
       "    <tr style=\"text-align: right;\">\n",
       "      <th></th>\n",
       "      <th>phase2</th>\n",
       "      <th>phase3:gamb_colu</th>\n",
       "      <th>phase3:arab</th>\n",
       "      <th>phase3:gamb_colu_arab</th>\n",
       "    </tr>\n",
       "  </thead>\n",
       "  <tbody>\n",
       "    <tr>\n",
       "      <th>2R</th>\n",
       "      <td>0.65746</td>\n",
       "      <td>0.73903</td>\n",
       "      <td>0.73597</td>\n",
       "      <td>0.67454</td>\n",
       "    </tr>\n",
       "    <tr>\n",
       "      <th>2L</th>\n",
       "      <td>0.58099</td>\n",
       "      <td>0.74198</td>\n",
       "      <td>0.72577</td>\n",
       "      <td>0.67037</td>\n",
       "    </tr>\n",
       "    <tr>\n",
       "      <th>3R</th>\n",
       "      <td>0.62107</td>\n",
       "      <td>0.71227</td>\n",
       "      <td>0.69780</td>\n",
       "      <td>0.63935</td>\n",
       "    </tr>\n",
       "    <tr>\n",
       "      <th>3L</th>\n",
       "      <td>0.61206</td>\n",
       "      <td>0.70434</td>\n",
       "      <td>0.69681</td>\n",
       "      <td>0.63470</td>\n",
       "    </tr>\n",
       "    <tr>\n",
       "      <th>X</th>\n",
       "      <td>0.62462</td>\n",
       "      <td>0.69970</td>\n",
       "      <td>0.53318</td>\n",
       "      <td>0.47970</td>\n",
       "    </tr>\n",
       "  </tbody>\n",
       "</table>\n",
       "</div>"
      ],
      "text/plain": [
       "    phase2  phase3:gamb_colu  phase3:arab  phase3:gamb_colu_arab\n",
       "2R 0.65746           0.73903      0.73597                0.67454\n",
       "2L 0.58099           0.74198      0.72577                0.67037\n",
       "3R 0.62107           0.71227      0.69780                0.63935\n",
       "3L 0.61206           0.70434      0.69681                0.63470\n",
       "X  0.62462           0.69970      0.53318                0.47970"
      ]
     },
     "execution_count": 59,
     "metadata": {},
     "output_type": "execute_result"
    }
   ],
   "source": [
    "accessibility_sumz = contig_sum_accessible / contig_shape\n",
    "accessibility_sumz"
   ]
  },
  {
   "cell_type": "code",
   "execution_count": 60,
   "metadata": {},
   "outputs": [],
   "source": [
    "accessibility_sumz.to_csv(\"../content/tables/accessibility/table3_summary.csv\")"
   ]
  },
  {
   "cell_type": "markdown",
   "metadata": {},
   "source": [
    "## Phase 2 vs phase 3"
   ]
  },
  {
   "cell_type": "code",
   "execution_count": 61,
   "metadata": {},
   "outputs": [
    {
     "data": {
      "text/html": [
       "<div>\n",
       "<style scoped>\n",
       "    .dataframe tbody tr th:only-of-type {\n",
       "        vertical-align: middle;\n",
       "    }\n",
       "\n",
       "    .dataframe tbody tr th {\n",
       "        vertical-align: top;\n",
       "    }\n",
       "\n",
       "    .dataframe thead th {\n",
       "        text-align: right;\n",
       "    }\n",
       "</style>\n",
       "<table border=\"1\" class=\"dataframe\">\n",
       "  <thead>\n",
       "    <tr style=\"text-align: right;\">\n",
       "      <th></th>\n",
       "      <th>tpr</th>\n",
       "      <th>fpr</th>\n",
       "      <th>fdr</th>\n",
       "      <th>tnr</th>\n",
       "      <th>youden</th>\n",
       "      <th>frac_pass</th>\n",
       "    </tr>\n",
       "    <tr>\n",
       "      <th>cross_id</th>\n",
       "      <th></th>\n",
       "      <th></th>\n",
       "      <th></th>\n",
       "      <th></th>\n",
       "      <th></th>\n",
       "      <th></th>\n",
       "    </tr>\n",
       "  </thead>\n",
       "  <tbody>\n",
       "    <tr>\n",
       "      <th>B5</th>\n",
       "      <td>0.98937</td>\n",
       "      <td>0.00181</td>\n",
       "      <td>0.00080</td>\n",
       "      <td>0.99819</td>\n",
       "      <td>0.98756</td>\n",
       "      <td>0.68788</td>\n",
       "    </tr>\n",
       "    <tr>\n",
       "      <th>K6</th>\n",
       "      <td>0.98983</td>\n",
       "      <td>0.00134</td>\n",
       "      <td>0.00059</td>\n",
       "      <td>0.99866</td>\n",
       "      <td>0.98849</td>\n",
       "      <td>0.68962</td>\n",
       "    </tr>\n",
       "    <tr>\n",
       "      <th>73-2</th>\n",
       "      <td>0.98773</td>\n",
       "      <td>0.00291</td>\n",
       "      <td>0.00126</td>\n",
       "      <td>0.99709</td>\n",
       "      <td>0.98481</td>\n",
       "      <td>0.69223</td>\n",
       "    </tr>\n",
       "    <tr>\n",
       "      <th>45-1</th>\n",
       "      <td>0.98824</td>\n",
       "      <td>0.00361</td>\n",
       "      <td>0.00158</td>\n",
       "      <td>0.99639</td>\n",
       "      <td>0.98462</td>\n",
       "      <td>0.69077</td>\n",
       "    </tr>\n",
       "    <tr>\n",
       "      <th>37-3</th>\n",
       "      <td>0.98606</td>\n",
       "      <td>0.00447</td>\n",
       "      <td>0.00199</td>\n",
       "      <td>0.99553</td>\n",
       "      <td>0.98159</td>\n",
       "      <td>0.68603</td>\n",
       "    </tr>\n",
       "  </tbody>\n",
       "</table>\n",
       "</div>"
      ],
      "text/plain": [
       "             tpr     fpr     fdr     tnr  youden  frac_pass\n",
       "cross_id                                                   \n",
       "B5       0.98937 0.00181 0.00080 0.99819 0.98756    0.68788\n",
       "K6       0.98983 0.00134 0.00059 0.99866 0.98849    0.68962\n",
       "73-2     0.98773 0.00291 0.00126 0.99709 0.98481    0.69223\n",
       "45-1     0.98824 0.00361 0.00158 0.99639 0.98462    0.69077\n",
       "37-3     0.98606 0.00447 0.00199 0.99553 0.98159    0.68603"
      ]
     },
     "execution_count": 61,
     "metadata": {},
     "output_type": "execute_result"
    }
   ],
   "source": [
    "p2stats = output_all_chroms_summary.loc[\"phase2\"].loc[eval_family_ids]\n",
    "p2stats"
   ]
  },
  {
   "cell_type": "code",
   "execution_count": 62,
   "metadata": {},
   "outputs": [
    {
     "data": {
      "text/html": [
       "<div>\n",
       "<style scoped>\n",
       "    .dataframe tbody tr th:only-of-type {\n",
       "        vertical-align: middle;\n",
       "    }\n",
       "\n",
       "    .dataframe tbody tr th {\n",
       "        vertical-align: top;\n",
       "    }\n",
       "\n",
       "    .dataframe thead th {\n",
       "        text-align: right;\n",
       "    }\n",
       "</style>\n",
       "<table border=\"1\" class=\"dataframe\">\n",
       "  <thead>\n",
       "    <tr style=\"text-align: right;\">\n",
       "      <th></th>\n",
       "      <th>tpr</th>\n",
       "      <th>fpr</th>\n",
       "      <th>fdr</th>\n",
       "      <th>tnr</th>\n",
       "      <th>youden</th>\n",
       "      <th>frac_pass</th>\n",
       "    </tr>\n",
       "    <tr>\n",
       "      <th>cross_id</th>\n",
       "      <th></th>\n",
       "      <th></th>\n",
       "      <th></th>\n",
       "      <th></th>\n",
       "      <th></th>\n",
       "      <th></th>\n",
       "    </tr>\n",
       "  </thead>\n",
       "  <tbody>\n",
       "    <tr>\n",
       "      <th>B5</th>\n",
       "      <td>0.99084</td>\n",
       "      <td>0.00261</td>\n",
       "      <td>0.00060</td>\n",
       "      <td>0.99739</td>\n",
       "      <td>0.98823</td>\n",
       "      <td>0.80646</td>\n",
       "    </tr>\n",
       "    <tr>\n",
       "      <th>K6</th>\n",
       "      <td>0.99119</td>\n",
       "      <td>0.00163</td>\n",
       "      <td>0.00037</td>\n",
       "      <td>0.99837</td>\n",
       "      <td>0.98956</td>\n",
       "      <td>0.80883</td>\n",
       "    </tr>\n",
       "    <tr>\n",
       "      <th>73-2</th>\n",
       "      <td>0.98895</td>\n",
       "      <td>0.00223</td>\n",
       "      <td>0.00049</td>\n",
       "      <td>0.99777</td>\n",
       "      <td>0.98672</td>\n",
       "      <td>0.81176</td>\n",
       "    </tr>\n",
       "    <tr>\n",
       "      <th>45-1</th>\n",
       "      <td>0.98931</td>\n",
       "      <td>0.00306</td>\n",
       "      <td>0.00069</td>\n",
       "      <td>0.99694</td>\n",
       "      <td>0.98625</td>\n",
       "      <td>0.80965</td>\n",
       "    </tr>\n",
       "    <tr>\n",
       "      <th>37-3</th>\n",
       "      <td>0.98745</td>\n",
       "      <td>0.00448</td>\n",
       "      <td>0.00104</td>\n",
       "      <td>0.99552</td>\n",
       "      <td>0.98298</td>\n",
       "      <td>0.80455</td>\n",
       "    </tr>\n",
       "  </tbody>\n",
       "</table>\n",
       "</div>"
      ],
      "text/plain": [
       "             tpr     fpr     fdr     tnr  youden  frac_pass\n",
       "cross_id                                                   \n",
       "B5       0.99084 0.00261 0.00060 0.99739 0.98823    0.80646\n",
       "K6       0.99119 0.00163 0.00037 0.99837 0.98956    0.80883\n",
       "73-2     0.98895 0.00223 0.00049 0.99777 0.98672    0.81176\n",
       "45-1     0.98931 0.00306 0.00069 0.99694 0.98625    0.80965\n",
       "37-3     0.98745 0.00448 0.00104 0.99552 0.98298    0.80455"
      ]
     },
     "execution_count": 62,
     "metadata": {},
     "output_type": "execute_result"
    }
   ],
   "source": [
    "p3stats = output_all_chroms_summary.loc[\"phase3\"].loc[eval_family_ids]\n",
    "p3stats"
   ]
  },
  {
   "cell_type": "code",
   "execution_count": 63,
   "metadata": {},
   "outputs": [
    {
     "data": {
      "text/plain": [
       "cross_id\n",
       "B5     0.00020\n",
       "K6     0.00022\n",
       "73-2   0.00077\n",
       "45-1   0.00089\n",
       "37-3   0.00096\n",
       "Name: fdr, dtype: float64"
      ]
     },
     "execution_count": 63,
     "metadata": {},
     "output_type": "execute_result"
    },
    {
     "name": "stderr",
     "output_type": "stream",
     "text": [
      "distributed.scheduler - INFO - Retire worker names (0, 1, 2, 3, 4, 5, 6, 7, 8, 9, 10, 11, 12, 13, 14, 15, 16, 17, 18, 19, 20, 21, 22, 23, 24, 25, 26, 27, 28, 29, 30, 31, 32, 33, 34, 35, 36, 37, 38, 39)\n",
      "distributed.scheduler - INFO - Retire workers {<Worker 'tcp://10.35.24.2:43567', memory: 0, processing: 0>, <Worker 'tcp://10.35.32.2:43105', memory: 0, processing: 0>, <Worker 'tcp://10.35.43.2:37911', memory: 0, processing: 0>, <Worker 'tcp://10.35.23.2:33803', memory: 0, processing: 0>, <Worker 'tcp://10.35.28.2:46605', memory: 0, processing: 0>, <Worker 'tcp://10.35.9.2:38957', memory: 0, processing: 0>, <Worker 'tcp://10.33.119.18:38485', memory: 0, processing: 0>, <Worker 'tcp://10.35.10.2:43955', memory: 0, processing: 0>, <Worker 'tcp://10.35.29.2:33017', memory: 0, processing: 0>, <Worker 'tcp://10.35.11.2:43019', memory: 0, processing: 0>, <Worker 'tcp://10.34.9.120:41671', memory: 0, processing: 0>, <Worker 'tcp://10.35.36.2:41741', memory: 0, processing: 0>, <Worker 'tcp://10.35.39.2:45687', memory: 0, processing: 0>, <Worker 'tcp://10.35.44.2:35089', memory: 0, processing: 0>, <Worker 'tcp://10.35.15.2:43991', memory: 0, processing: 0>, <Worker 'tcp://10.34.129.10:35471', memory: 0, processing: 0>, <Worker 'tcp://10.35.33.2:42199', memory: 0, processing: 0>, <Worker 'tcp://10.35.38.2:44671', memory: 0, processing: 0>, <Worker 'tcp://10.35.41.2:43131', memory: 0, processing: 0>, <Worker 'tcp://10.35.21.2:36485', memory: 0, processing: 0>, <Worker 'tcp://10.35.40.2:44789', memory: 0, processing: 0>, <Worker 'tcp://10.35.20.2:39473', memory: 0, processing: 0>, <Worker 'tcp://10.35.26.2:33413', memory: 0, processing: 0>, <Worker 'tcp://10.35.42.2:35745', memory: 0, processing: 0>, <Worker 'tcp://10.35.17.2:42447', memory: 0, processing: 0>, <Worker 'tcp://10.35.12.2:33289', memory: 0, processing: 0>, <Worker 'tcp://10.35.30.2:36687', memory: 0, processing: 0>, <Worker 'tcp://10.35.35.2:42045', memory: 0, processing: 0>, <Worker 'tcp://10.35.13.2:44613', memory: 0, processing: 0>, <Worker 'tcp://10.35.14.2:39213', memory: 0, processing: 0>, <Worker 'tcp://10.35.16.2:41347', memory: 0, processing: 0>, <Worker 'tcp://10.35.18.2:34807', memory: 0, processing: 0>, <Worker 'tcp://10.35.34.2:36749', memory: 0, processing: 0>, <Worker 'tcp://10.35.37.2:36185', memory: 0, processing: 0>, <Worker 'tcp://10.35.8.2:43201', memory: 0, processing: 0>, <Worker 'tcp://10.35.25.2:41539', memory: 0, processing: 0>, <Worker 'tcp://10.35.31.2:40151', memory: 0, processing: 0>, <Worker 'tcp://10.35.19.2:44139', memory: 0, processing: 0>, <Worker 'tcp://10.35.27.2:36847', memory: 0, processing: 0>}\n",
      "distributed.scheduler - INFO - Closing worker tcp://10.35.24.2:43567\n",
      "distributed.scheduler - INFO - Remove worker tcp://10.35.24.2:43567\n",
      "distributed.core - INFO - Removing comms to tcp://10.35.24.2:43567\n",
      "distributed.scheduler - INFO - Closing worker tcp://10.35.32.2:43105\n",
      "distributed.scheduler - INFO - Remove worker tcp://10.35.32.2:43105\n",
      "distributed.core - INFO - Removing comms to tcp://10.35.32.2:43105\n",
      "distributed.scheduler - INFO - Closing worker tcp://10.35.43.2:37911\n",
      "distributed.scheduler - INFO - Remove worker tcp://10.35.43.2:37911\n",
      "distributed.core - INFO - Removing comms to tcp://10.35.43.2:37911\n",
      "distributed.scheduler - INFO - Closing worker tcp://10.35.23.2:33803\n",
      "distributed.scheduler - INFO - Remove worker tcp://10.35.23.2:33803\n",
      "distributed.core - INFO - Removing comms to tcp://10.35.23.2:33803\n",
      "distributed.scheduler - INFO - Closing worker tcp://10.35.28.2:46605\n",
      "distributed.scheduler - INFO - Remove worker tcp://10.35.28.2:46605\n",
      "distributed.core - INFO - Removing comms to tcp://10.35.28.2:46605\n",
      "distributed.scheduler - INFO - Closing worker tcp://10.35.9.2:38957\n",
      "distributed.scheduler - INFO - Remove worker tcp://10.35.9.2:38957\n",
      "distributed.core - INFO - Removing comms to tcp://10.35.9.2:38957\n",
      "distributed.scheduler - INFO - Closing worker tcp://10.33.119.18:38485\n",
      "distributed.scheduler - INFO - Remove worker tcp://10.33.119.18:38485\n",
      "distributed.core - INFO - Removing comms to tcp://10.33.119.18:38485\n",
      "distributed.scheduler - INFO - Closing worker tcp://10.35.10.2:43955\n",
      "distributed.scheduler - INFO - Remove worker tcp://10.35.10.2:43955\n",
      "distributed.core - INFO - Removing comms to tcp://10.35.10.2:43955\n",
      "distributed.scheduler - INFO - Closing worker tcp://10.35.29.2:33017\n",
      "distributed.scheduler - INFO - Remove worker tcp://10.35.29.2:33017\n",
      "distributed.core - INFO - Removing comms to tcp://10.35.29.2:33017\n",
      "distributed.scheduler - INFO - Closing worker tcp://10.35.11.2:43019\n",
      "distributed.scheduler - INFO - Remove worker tcp://10.35.11.2:43019\n",
      "distributed.core - INFO - Removing comms to tcp://10.35.11.2:43019\n",
      "distributed.scheduler - INFO - Closing worker tcp://10.34.9.120:41671\n",
      "distributed.scheduler - INFO - Remove worker tcp://10.34.9.120:41671\n",
      "distributed.core - INFO - Removing comms to tcp://10.34.9.120:41671\n",
      "distributed.scheduler - INFO - Closing worker tcp://10.35.36.2:41741\n",
      "distributed.scheduler - INFO - Remove worker tcp://10.35.36.2:41741\n",
      "distributed.core - INFO - Removing comms to tcp://10.35.36.2:41741\n",
      "distributed.scheduler - INFO - Closing worker tcp://10.35.39.2:45687\n",
      "distributed.scheduler - INFO - Remove worker tcp://10.35.39.2:45687\n",
      "distributed.core - INFO - Removing comms to tcp://10.35.39.2:45687\n",
      "distributed.scheduler - INFO - Closing worker tcp://10.35.44.2:35089\n",
      "distributed.scheduler - INFO - Remove worker tcp://10.35.44.2:35089\n",
      "distributed.core - INFO - Removing comms to tcp://10.35.44.2:35089\n",
      "distributed.scheduler - INFO - Closing worker tcp://10.35.15.2:43991\n",
      "distributed.scheduler - INFO - Remove worker tcp://10.35.15.2:43991\n",
      "distributed.core - INFO - Removing comms to tcp://10.35.15.2:43991\n",
      "distributed.scheduler - INFO - Closing worker tcp://10.34.129.10:35471\n",
      "distributed.scheduler - INFO - Remove worker tcp://10.34.129.10:35471\n",
      "distributed.core - INFO - Removing comms to tcp://10.34.129.10:35471\n",
      "distributed.scheduler - INFO - Closing worker tcp://10.35.33.2:42199\n",
      "distributed.scheduler - INFO - Remove worker tcp://10.35.33.2:42199\n",
      "distributed.core - INFO - Removing comms to tcp://10.35.33.2:42199\n",
      "distributed.scheduler - INFO - Closing worker tcp://10.35.38.2:44671\n",
      "distributed.scheduler - INFO - Remove worker tcp://10.35.38.2:44671\n",
      "distributed.core - INFO - Removing comms to tcp://10.35.38.2:44671\n",
      "distributed.scheduler - INFO - Closing worker tcp://10.35.41.2:43131\n",
      "distributed.scheduler - INFO - Remove worker tcp://10.35.41.2:43131\n",
      "distributed.core - INFO - Removing comms to tcp://10.35.41.2:43131\n",
      "distributed.scheduler - INFO - Closing worker tcp://10.35.21.2:36485\n",
      "distributed.scheduler - INFO - Remove worker tcp://10.35.21.2:36485\n",
      "distributed.core - INFO - Removing comms to tcp://10.35.21.2:36485\n",
      "distributed.scheduler - INFO - Closing worker tcp://10.35.40.2:44789\n",
      "distributed.scheduler - INFO - Remove worker tcp://10.35.40.2:44789\n",
      "distributed.core - INFO - Removing comms to tcp://10.35.40.2:44789\n",
      "distributed.scheduler - INFO - Closing worker tcp://10.35.20.2:39473\n",
      "distributed.scheduler - INFO - Remove worker tcp://10.35.20.2:39473\n",
      "distributed.core - INFO - Removing comms to tcp://10.35.20.2:39473\n",
      "distributed.scheduler - INFO - Closing worker tcp://10.35.26.2:33413\n",
      "distributed.scheduler - INFO - Remove worker tcp://10.35.26.2:33413\n",
      "distributed.core - INFO - Removing comms to tcp://10.35.26.2:33413\n",
      "distributed.scheduler - INFO - Closing worker tcp://10.35.42.2:35745\n",
      "distributed.scheduler - INFO - Remove worker tcp://10.35.42.2:35745\n",
      "distributed.core - INFO - Removing comms to tcp://10.35.42.2:35745\n",
      "distributed.scheduler - INFO - Closing worker tcp://10.35.17.2:42447\n",
      "distributed.scheduler - INFO - Remove worker tcp://10.35.17.2:42447\n",
      "distributed.core - INFO - Removing comms to tcp://10.35.17.2:42447\n",
      "distributed.scheduler - INFO - Closing worker tcp://10.35.12.2:33289\n",
      "distributed.scheduler - INFO - Remove worker tcp://10.35.12.2:33289\n",
      "distributed.core - INFO - Removing comms to tcp://10.35.12.2:33289\n",
      "distributed.scheduler - INFO - Closing worker tcp://10.35.30.2:36687\n",
      "distributed.scheduler - INFO - Remove worker tcp://10.35.30.2:36687\n",
      "distributed.core - INFO - Removing comms to tcp://10.35.30.2:36687\n",
      "distributed.scheduler - INFO - Closing worker tcp://10.35.35.2:42045\n",
      "distributed.scheduler - INFO - Remove worker tcp://10.35.35.2:42045\n",
      "distributed.core - INFO - Removing comms to tcp://10.35.35.2:42045\n",
      "distributed.scheduler - INFO - Closing worker tcp://10.35.13.2:44613\n",
      "distributed.scheduler - INFO - Remove worker tcp://10.35.13.2:44613\n",
      "distributed.core - INFO - Removing comms to tcp://10.35.13.2:44613\n",
      "distributed.scheduler - INFO - Closing worker tcp://10.35.14.2:39213\n",
      "distributed.scheduler - INFO - Remove worker tcp://10.35.14.2:39213\n",
      "distributed.core - INFO - Removing comms to tcp://10.35.14.2:39213\n",
      "distributed.scheduler - INFO - Closing worker tcp://10.35.16.2:41347\n",
      "distributed.scheduler - INFO - Remove worker tcp://10.35.16.2:41347\n",
      "distributed.core - INFO - Removing comms to tcp://10.35.16.2:41347\n",
      "distributed.scheduler - INFO - Closing worker tcp://10.35.18.2:34807\n",
      "distributed.scheduler - INFO - Remove worker tcp://10.35.18.2:34807\n",
      "distributed.core - INFO - Removing comms to tcp://10.35.18.2:34807\n",
      "distributed.scheduler - INFO - Closing worker tcp://10.35.34.2:36749\n",
      "distributed.scheduler - INFO - Remove worker tcp://10.35.34.2:36749\n",
      "distributed.core - INFO - Removing comms to tcp://10.35.34.2:36749\n",
      "distributed.scheduler - INFO - Closing worker tcp://10.35.37.2:36185\n",
      "distributed.scheduler - INFO - Remove worker tcp://10.35.37.2:36185\n",
      "distributed.core - INFO - Removing comms to tcp://10.35.37.2:36185\n",
      "distributed.scheduler - INFO - Closing worker tcp://10.35.8.2:43201\n",
      "distributed.scheduler - INFO - Remove worker tcp://10.35.8.2:43201\n",
      "distributed.core - INFO - Removing comms to tcp://10.35.8.2:43201\n",
      "distributed.scheduler - INFO - Closing worker tcp://10.35.25.2:41539\n",
      "distributed.scheduler - INFO - Remove worker tcp://10.35.25.2:41539\n",
      "distributed.core - INFO - Removing comms to tcp://10.35.25.2:41539\n",
      "distributed.scheduler - INFO - Closing worker tcp://10.35.31.2:40151\n",
      "distributed.scheduler - INFO - Remove worker tcp://10.35.31.2:40151\n",
      "distributed.core - INFO - Removing comms to tcp://10.35.31.2:40151\n",
      "distributed.scheduler - INFO - Closing worker tcp://10.35.19.2:44139\n",
      "distributed.scheduler - INFO - Remove worker tcp://10.35.19.2:44139\n",
      "distributed.core - INFO - Removing comms to tcp://10.35.19.2:44139\n",
      "distributed.scheduler - INFO - Closing worker tcp://10.35.27.2:36847\n",
      "distributed.scheduler - INFO - Remove worker tcp://10.35.27.2:36847\n",
      "distributed.core - INFO - Removing comms to tcp://10.35.27.2:36847\n",
      "distributed.scheduler - INFO - Lost all workers\n",
      "distributed.deploy.adaptive - INFO - Retiring workers [0, 1, 2, 3, 4, 5, 6, 7, 8, 9, 10, 11, 12, 13, 14, 15, 16, 17, 18, 19, 20, 21, 22, 23, 24, 25, 26, 27, 28, 29, 30, 31, 32, 33, 34, 35, 36, 37, 38, 39]\n",
      "distributed.scheduler - INFO - Register tcp://10.35.34.2:36749\n",
      "distributed.scheduler - INFO - Starting worker compute stream, tcp://10.35.34.2:36749\n",
      "distributed.core - INFO - Starting established connection\n",
      "distributed.scheduler - INFO - Register tcp://10.35.41.2:43131\n",
      "distributed.scheduler - INFO - Starting worker compute stream, tcp://10.35.41.2:43131\n",
      "distributed.core - INFO - Starting established connection\n",
      "distributed.scheduler - INFO - Register tcp://10.35.21.2:36485\n",
      "distributed.scheduler - INFO - Starting worker compute stream, tcp://10.35.21.2:36485\n",
      "distributed.core - INFO - Starting established connection\n",
      "distributed.scheduler - INFO - Remove worker tcp://10.35.34.2:36749\n",
      "distributed.core - INFO - Removing comms to tcp://10.35.34.2:36749\n",
      "distributed.scheduler - INFO - Remove worker tcp://10.35.41.2:43131\n",
      "distributed.core - INFO - Removing comms to tcp://10.35.41.2:43131\n",
      "distributed.scheduler - INFO - Remove worker tcp://10.35.21.2:36485\n",
      "distributed.core - INFO - Removing comms to tcp://10.35.21.2:36485\n",
      "distributed.scheduler - INFO - Lost all workers\n"
     ]
    }
   ],
   "source": [
    "p2stats.fdr - p3stats.fdr"
   ]
  },
  {
   "cell_type": "code",
   "execution_count": null,
   "metadata": {},
   "outputs": [],
   "source": []
  }
 ],
 "metadata": {
  "kernelspec": {
   "display_name": "Python 3",
   "language": "python",
   "name": "python3"
  },
  "language_info": {
   "codemirror_mode": {
    "name": "ipython",
    "version": 3
   },
   "file_extension": ".py",
   "mimetype": "text/x-python",
   "name": "python",
   "nbconvert_exporter": "python",
   "pygments_lexer": "ipython3",
   "version": "3.7.6"
  }
 },
 "nbformat": 4,
 "nbformat_minor": 4
}
