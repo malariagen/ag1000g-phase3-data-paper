{
 "cells": [
  {
   "cell_type": "code",
   "execution_count": 1,
   "metadata": {},
   "outputs": [],
   "source": [
    "from dask_kubernetes import KubeCluster\n",
    "from dask.distributed import Client, progress\n",
    "import dask.array as da\n",
    "import numpy as np\n",
    "import zarr\n",
    "import allel\n",
    "import sys\n",
    "import ag3\n",
    "import psutil\n",
    "from humanize import naturalsize\n",
    "import numba"
   ]
  },
  {
   "cell_type": "markdown",
   "metadata": {},
   "source": [
    "### parameters"
   ]
  },
  {
   "cell_type": "code",
   "execution_count": 2,
   "metadata": {},
   "outputs": [],
   "source": [
    "species_group = [\"gamb_colu\", \"arab\", \"gamb_colu_arab\"]\n",
    "module_path = \"../../notebooks/\"\n",
    "n_downsample = 100_000\n",
    "max_allele = 3\n",
    "random_seed = 42\n",
    "n_workers = 10\n",
    "\n",
    "#regions\n",
    "region_3L_free =  '3L', 15000000, 41000000\n",
    "region_3R_free =  '3R', 1, 37000000\n",
    "\n",
    "#I've chosen to limit gamb_colu to just 3L for ease of comparison across masks - up for discussion\n",
    "regions = {\"gamb_colu\" : region_3L_free,\n",
    "            \"arab\" : region_3L_free,\n",
    "            \"gamb_colu_arab\"  : region_3L_free\n",
    "            }\n",
    "\n",
    "\n",
    "#This is correct - gamb_colu_arab includes ALL samples\n",
    "sample_query = {\"gamb_colu\" : \"species_gambcolu_arabiensis == 'gamb_colu'\",\n",
    "                \"arab\" : \"species_gambcolu_arabiensis == 'arabiensis'\",\n",
    "                \"gamb_colu_arab\" : \"species_gambcolu_arabiensis != 'NA'\"\n",
    "                }"
   ]
  },
  {
   "cell_type": "code",
   "execution_count": 3,
   "metadata": {},
   "outputs": [],
   "source": [
    "# Data storage option, uses about 34 MB\n",
    "# Either 'local' or 'cloud'\n",
    "storage_option = 'cloud' \n",
    "\n",
    "# Specify the storage paths\n",
    "# The string \"{}\" will be replaced with each species_group\n",
    "output_local_zarr_path_template = '{}.pca_umap_input_alleles.zarr'\n",
    "output_cloud_zarr_path_template = 'vo_agam_production/ag3_data_paper/{}.pca_umap_input_alleles.zarr'"
   ]
  },
  {
   "cell_type": "markdown",
   "metadata": {},
   "source": [
    "### Check the output doesn't already exist"
   ]
  },
  {
   "cell_type": "code",
   "execution_count": 4,
   "metadata": {},
   "outputs": [
    {
     "name": "stdout",
     "output_type": "stream",
     "text": [
      "Checking for vo_agam_production/ag3_data_paper/gamb_colu.pca_umap_input_alleles.zarr/.zmetadata\n",
      "Checking for vo_agam_production/ag3_data_paper/arab.pca_umap_input_alleles.zarr/.zmetadata\n",
      "Checking for vo_agam_production/ag3_data_paper/gamb_colu_arab.pca_umap_input_alleles.zarr/.zmetadata\n"
     ]
    }
   ],
   "source": [
    "# Writing the PCA data to the cloud will require the appropriate authentication and authorization.\n",
    "if storage_option == 'cloud':\n",
    "    import gcsfs\n",
    "    # UNCOMMENT THIS TO AUTHENTICATE. YOU ONLY NEED TO RUN THIS ONCE.\n",
    "    # After running this once, your authentication token should then be cached in `~/.gcs_tokens`\n",
    "    # Once you have authenticated, you should comment this out again to avoid re-authenticating.\n",
    "    # gcs_browser = gcsfs.GCSFileSystem(project='malariagen-jupyterhub', token='browser')\n",
    "    \n",
    "    # Use `cache_timeout=0` to prevent object list cache, to avoid recreating map for Zarr consolidated metadata\n",
    "    auth_fs = gcsfs.GCSFileSystem(project='malariagen-jupyterhub', token='cache', cache_timeout=0)\n",
    "    \n",
    "    for sp in species_group:\n",
    "\n",
    "        # Check that the output's Zarr metadata file is not already on the cloud.\n",
    "        # We don't want to accidentally overwrite or delete existing data, which might have been used in downstream analysis.\n",
    "        # We don't simply check for the existence of the Zarr file here (i.e. output_cloud_zarr_path),\n",
    "        # We might want to re-run the first parts of this notebook again,\n",
    "        # so the Zarr store might legitimately exist but be incomplete.\n",
    "        # The Zarr store is not considered complete until the Zarr metadata file (.zmetadata) is present and correct.\n",
    "        # The final part of this notebook includes steps to create the Zarr metadata file and then validate it.\n",
    "\n",
    "        output_cloud_zarr_metadata_path = f'{output_cloud_zarr_path_template.format(sp)}/.zmetadata'\n",
    "        print(f'Checking for {output_cloud_zarr_metadata_path}')\n",
    "        assert not auth_fs.exists(output_cloud_zarr_metadata_path)"
   ]
  },
  {
   "cell_type": "code",
   "execution_count": 5,
   "metadata": {},
   "outputs": [],
   "source": [
    "if storage_option == 'local':\n",
    "    from os import path\n",
    "    \n",
    "    for sp in species_group:\n",
    "        output_local_zarr_metadata_path = f'{output_local_zarr_path_template.format(sp)}/.zmetadata'\n",
    "        print(f'Checking for {output_local_zarr_metadata_path}')\n",
    "        assert not path.isfile(output_local_zarr_metadata_path)"
   ]
  },
  {
   "cell_type": "markdown",
   "metadata": {},
   "source": [
    "### functions"
   ]
  },
  {
   "cell_type": "code",
   "execution_count": 6,
   "metadata": {},
   "outputs": [
    {
     "name": "stdout",
     "output_type": "stream",
     "text": [
      "1.0 GB used, 14.4 GB available, 15.8 GB total\n"
     ]
    }
   ],
   "source": [
    "def show_memory():\n",
    "      vm = psutil.virtual_memory()\n",
    "      print(f\"{naturalsize(vm.used)} used, {naturalsize(vm.available)} available, {naturalsize(vm.total)} total\")\n",
    "show_memory()"
   ]
  },
  {
   "cell_type": "code",
   "execution_count": 7,
   "metadata": {},
   "outputs": [],
   "source": [
    "# Define a function to return the genotype data for a given chromosome region, for a given sample set.\n",
    "# Use the specified intake catalog.\n",
    "def load_genotype_calldata(cat, sample_set, chrom_arm, region_slice_obj):\n",
    "    print('- load_genotype_calldata', sample_set, chrom_arm, region_slice_obj)\n",
    "    zarr_data = cat.ag3.snp_genotypes(sample_set=sample_set).to_zarr()\n",
    "    return da.from_zarr(zarr_data[chrom_arm][\"calldata\"][\"GT\"])[region_slice_obj]"
   ]
  },
  {
   "cell_type": "code",
   "execution_count": 8,
   "metadata": {},
   "outputs": [],
   "source": [
    "class Util:\n",
    "# Define a function to count the presence of each allele in a given array of genotypes (samples * variants * alleles)\n",
    "    # and return an array of allele counts with a row for each possible allele (limited by max_allele) for each sample, and column for each variant\n",
    "    @staticmethod\n",
    "    @numba.njit(numba.int8[:, :](numba.int8[:, :, :], numba.int8), nogil=True)\n",
    "    def numpy_genotype_tensor_to_allele_counts_melt(gt, max_allele):\n",
    "        # Create an array of zeros (for defaults) with the same number of colums (variants) as the genotype array but a row for each allele, for each sample\n",
    "        out = np.zeros((gt.shape[0] * (max_allele + 1), gt.shape[1]), dtype=np.int8)\n",
    "        # For each row (sample) in the genotype array\n",
    "        for i in range(gt.shape[0]):\n",
    "            # For each column (variant) in the genotype array\n",
    "            for j in range(gt.shape[1]):\n",
    "                # For each allele in the genotype array \n",
    "                for k in range(gt.shape[2]):\n",
    "                    allele = gt[i, j, k]\n",
    "                    # If the value in the genotype array at this row and colum and 3rd dimension (i.e. the allele value) is between 0 and max_allele  \n",
    "                    if 0 <= allele <= max_allele:\n",
    "                        # Increment the value of the `out` array at the row corresponding to this allele for this sample, at the corresponding variant column\n",
    "                        out[(i * (max_allele + 1)) + allele, j] += 1\n",
    "        return out"
   ]
  },
  {
   "cell_type": "markdown",
   "metadata": {},
   "source": [
    "## the only way I could get the code to work is to define this ^^ as Util otherwise the map blocks code doesn't run - why is this?"
   ]
  },
  {
   "cell_type": "code",
   "execution_count": 9,
   "metadata": {},
   "outputs": [],
   "source": [
    "# Define a function to apply the above function chunk-wise\n",
    "def dask_genotype_tensor_to_allele_counts_melt(gt, max_allele):\n",
    "    # Determine output chunks - change axis 0; preserve axis 1; drop axis 2.\n",
    "    dim0_chunks = tuple(np.array(gt.chunks[0]) * (max_allele + 1))\n",
    "    chunks = (dim0_chunks, gt.chunks[1])\n",
    "    \n",
    "    return gt.map_blocks(\n",
    "        Util.numpy_genotype_tensor_to_allele_counts_melt,\n",
    "        max_allele=max_allele,\n",
    "        chunks=chunks,\n",
    "        dtype=\"i1\",\n",
    "        drop_axis=2,\n",
    "    )"
   ]
  },
  {
   "cell_type": "code",
   "execution_count": 10,
   "metadata": {},
   "outputs": [],
   "source": [
    "#can this be improved with dask?\n",
    "def ld_prune(gn, size=500, step=200, threshold=.1, n_iter=1):\n",
    "    for i in range(n_iter):\n",
    "        loc_unlinked = allel.locate_unlinked(gn, size=size, step=step, threshold=threshold)\n",
    "        n = np.count_nonzero(loc_unlinked)\n",
    "        n_remove = gn.shape[0] - n\n",
    "        print('iteration', i+1, 'retaining', n, 'removing', n_remove, 'variants')\n",
    "        gn = gn.compress(loc_unlinked, axis=0)\n",
    "    return gn"
   ]
  },
  {
   "cell_type": "markdown",
   "metadata": {},
   "source": [
    "## run"
   ]
  },
  {
   "cell_type": "code",
   "execution_count": 11,
   "metadata": {},
   "outputs": [
    {
     "name": "stderr",
     "output_type": "stream",
     "text": [
      "distributed.scheduler - INFO - Clear task state\n",
      "distributed.scheduler - INFO -   Scheduler at:   tcp://10.32.55.11:33257\n",
      "distributed.scheduler - INFO -   dashboard at:                     :8787\n",
      "distributed.scheduler - INFO - Receive client connection: Client-2f7418b6-0679-11eb-b59b-327940786d26\n",
      "distributed.core - INFO - Starting established connection\n"
     ]
    },
    {
     "name": "stdout",
     "output_type": "stream",
     "text": [
      "/user/lee.hart@well.ox.ac.uk/proxy/8787/status\n"
     ]
    },
    {
     "name": "stderr",
     "output_type": "stream",
     "text": [
      "/opt/conda/lib/python3.7/site-packages/pandas/core/ops/array_ops.py:253: FutureWarning: elementwise comparison failed; returning scalar instead, but in the future will perform elementwise comparison\n",
      "  res_values = method(rvalues)\n"
     ]
    }
   ],
   "source": [
    "# cluster setup\n",
    "cluster = KubeCluster()\n",
    "cluster.scale_up(n_workers)\n",
    "\n",
    "# dask client setup\n",
    "client = Client(cluster)\n",
    "print(cluster.dashboard_link)\n",
    "\n",
    "# grab data from release\n",
    "v3 = ag3.release_data()\n",
    "\n",
    "sample_sets = v3.all_wild_sample_sets\n",
    "\n",
    "# load_metadata\n",
    "metadata = v3.load_sample_set_metadata(sample_sets)"
   ]
  },
  {
   "cell_type": "code",
   "execution_count": 17,
   "metadata": {},
   "outputs": [],
   "source": [
    "def build_allele_counts(selection):\n",
    "    print(\"building allele counts for\", selection)\n",
    "    \n",
    "    sample_loc = metadata.eval(sample_query[selection]).values\n",
    "    assert sample_loc.sum() > 0, \"Must select >0 samples\"\n",
    "\n",
    "    genotypes = []\n",
    "    site_filters = []\n",
    "    \n",
    "    chrom, start, stop = regions[selection]\n",
    "    print(chrom, start, stop)\n",
    "    #     \n",
    "    pos = allel.SortedIndex(v3.load_variants(chrom))\n",
    "    ix = pos.locate_range(start, stop)\n",
    "    gt = v3.load_sample_set_calldata(chrom, sample_set=sample_sets)[ix]\n",
    "    mask = v3.load_mask(chrom, selection)[ix]\n",
    "    g = da.compress(sample_loc, gt, axis=1)\n",
    "\n",
    "    genotypes.append(g)\n",
    "    site_filters.append(mask)\n",
    "\n",
    "    genotype_data = da.concatenate(genotypes, axis=0)\n",
    "    site_filters_data = da.concatenate(site_filters, axis=0)\n",
    "\n",
    "    melted_allele_counts = dask_genotype_tensor_to_allele_counts_melt(gt=genotype_data, max_allele=max_allele)\n",
    "    \n",
    "    # Get the number of genotyped samples\n",
    "    number_of_samples = genotype_data.shape[1]\n",
    "    print(\"Number of samples\", number_of_samples)\n",
    "\n",
    "    # Sum the allele counts\n",
    "    allele_count_sums = da.sum(melted_allele_counts, axis=1, dtype='int16')\n",
    "\n",
    "    # Determine which alleles meet the criteria, and record as a Boolean array.\n",
    "    loc_midfreq_alleles = (allele_count_sums >= 2) & (allele_count_sums <= ((number_of_samples * 2) - 2))\n",
    "\n",
    "    # Transform the Boolean site_filter index into the same space as the melted allele counts.\n",
    "    loc_accessible = da.repeat(site_filters_data, max_allele + 1) # 4 alleles\n",
    "\n",
    "    # Check that loc_accessible is the same shape as loc_midfreq_alleles\n",
    "    assert loc_accessible.shape == loc_midfreq_alleles.shape\n",
    "    \n",
    "    # Determine the corresponding array indices for all of the mid-frequency alleles that are accessible\n",
    "    # We use the '&' to choose sites that meet the critera AND are accessible.\n",
    "    midfreq_alleles_as_indices = da.nonzero(loc_midfreq_alleles & loc_accessible)[0]\n",
    "\n",
    "    # Compute (and bring into client memory) the midfreq_alleles_as_indices\n",
    "    ix_select = midfreq_alleles_as_indices.compute()\n",
    "    \n",
    "    # Set/reset the random seed used for random variant selection\n",
    "    # to ensure that we always select the same set of random variants\n",
    "    np.random.seed(random_seed)\n",
    "\n",
    "    # Randomly choose `n_downsample_variants` items from the array of accessible mid-frequency allele indices\n",
    "    downsampled_site_indices = np.random.choice(\n",
    "        ix_select, \n",
    "        size=n_downsample, \n",
    "        replace=False)\n",
    "\n",
    "    # Sort the indices to allow contiguous parsing\n",
    "    downsampled_site_indices.sort()\n",
    "\n",
    "    # From the melted_allele_counts array, take the corresponding indices\n",
    "    downsampled_allele_counts = da.take(melted_allele_counts, downsampled_site_indices, axis=0)   \n",
    "    computed_downsampled_allele_counts = downsampled_allele_counts.compute()\n",
    "    \n",
    "    #prune\n",
    "    pruned_downsampled_allele_counts = ld_prune(computed_downsampled_allele_counts)\n",
    "    \n",
    "    # finally save to zarr...\n",
    "    print('saving to zarr')\n",
    "    #z = zarr.ZipStore(\"../data/allele_counts_for_pca_umap/\"+selection+\".pca_umap_input_alleles.zarr.zip\")\n",
    "    #zg = zarr.group(z)\n",
    "    #zg.create_dataset(\"allele_counts_pca_ready\", data=pruned_downsampled_allele_counts)\n",
    "    \n",
    "    if storage_option == 'cloud':\n",
    "    \n",
    "        output_cloud_zarr_path = output_cloud_zarr_path_template.format(selection)\n",
    "        print('Will attempt to store at:', output_cloud_zarr_path)\n",
    "\n",
    "        # Sometimes errors with `overwrite=True`, sometimes errors without, when dir not exist\n",
    "        # Keep the zarr_store for zarr.consolidate_metadata(zarr_store)\n",
    "        zarr_store = auth_fs.get_mapper(output_cloud_zarr_path)\n",
    "        zarr_group = zarr.group(zarr_store)\n",
    "        \n",
    "    if storage_option == 'local':\n",
    "\n",
    "        # Eyeball output path\n",
    "        output_local_zarr_path =  output_local_zarr_path_template.format(selection)\n",
    "        print('Will attempt to store at:', output_local_zarr_path)\n",
    "\n",
    "        # Keep the zarr_store for zarr.consolidate_metadata(zarr_store)\n",
    "        zarr_store = zarr.DirectoryStore(output_local_zarr_path)\n",
    "        zarr_group = zarr.open(zarr_store, mode='w')\n",
    "    \n",
    "    \n",
    "    # Check the data type\n",
    "    print('type(pruned_downsampled_allele_counts):', type(pruned_downsampled_allele_counts))\n",
    "    \n",
    "    # overwrite=True, otherwise `ValueError: path 'allele_counts_pca_ready' contains an array`\n",
    "    zarr_group.create_dataset(\"allele_counts_pca_ready\", data=pruned_downsampled_allele_counts, overwrite=True)\n",
    "    \n",
    "    # Check the stored data has all its chunks initialized\n",
    "    assert zarr_group['allele_counts_pca_ready'].nchunks_initialized == zarr_group['allele_counts_pca_ready'].nchunks\n",
    "    \n",
    "    # Check the store contains the expected arrays\n",
    "    assert 'allele_counts_pca_ready/.zarray' in zarr_store\n",
    "    \n",
    "    # Consolidate the Zarr metatdata\n",
    "    zarr.consolidate_metadata(zarr_store)\n",
    "    \n",
    "    # Check the consolidated Zarr metadata\n",
    "    zarr_consolidated_metadata = zarr.open_consolidated(zarr_store)\n",
    "    assert list(zarr_consolidated_metadata.keys()) == ['allele_counts_pca_ready']\n",
    "    "
   ]
  },
  {
   "cell_type": "code",
   "execution_count": 18,
   "metadata": {},
   "outputs": [
    {
     "name": "stdout",
     "output_type": "stream",
     "text": [
      "building allele counts for gamb_colu\n",
      "3L 15000000 41000000\n",
      "Number of samples 2415\n"
     ]
    },
    {
     "name": "stderr",
     "output_type": "stream",
     "text": [
      "distributed.core - INFO - Event loop was unresponsive in Scheduler for 14.06s.  This is often caused by long-running GIL-holding functions or moving large chunks of data. This can cause timeouts and instability.\n",
      "distributed.core - INFO - Event loop was unresponsive in Scheduler for 12.15s.  This is often caused by long-running GIL-holding functions or moving large chunks of data. This can cause timeouts and instability.\n",
      "distributed.scheduler - INFO - Remove worker tcp://10.32.233.2:38611\n",
      "distributed.core - INFO - Removing comms to tcp://10.32.233.2:38611\n"
     ]
    },
    {
     "name": "stdout",
     "output_type": "stream",
     "text": [
      "iteration 1 retaining 81239 removing 18761 variants\n",
      "saving to zarr\n",
      "Will attempt to store at: vo_agam_production/ag3_data_paper/gamb_colu.pca_umap_input_alleles.zarr\n",
      "type(pruned_downsampled_allele_counts): <class 'numpy.ndarray'>\n",
      "building allele counts for arab\n",
      "3L 15000000 41000000\n",
      "Number of samples 368\n",
      "iteration 1 retaining 40862 removing 59138 variants\n",
      "saving to zarr\n",
      "Will attempt to store at: vo_agam_production/ag3_data_paper/arab.pca_umap_input_alleles.zarr\n",
      "type(pruned_downsampled_allele_counts): <class 'numpy.ndarray'>\n",
      "building allele counts for gamb_colu_arab\n",
      "3L 15000000 41000000\n",
      "Number of samples 2784\n"
     ]
    },
    {
     "name": "stderr",
     "output_type": "stream",
     "text": [
      "distributed.core - INFO - Event loop was unresponsive in Scheduler for 12.90s.  This is often caused by long-running GIL-holding functions or moving large chunks of data. This can cause timeouts and instability.\n",
      "distributed.core - INFO - Event loop was unresponsive in Scheduler for 13.42s.  This is often caused by long-running GIL-holding functions or moving large chunks of data. This can cause timeouts and instability.\n",
      "distributed.utils_perf - INFO - full garbage collection released 149.25 MB from 466 reference cycles (threshold: 10.00 MB)\n"
     ]
    },
    {
     "name": "stdout",
     "output_type": "stream",
     "text": [
      "iteration 1 retaining 81901 removing 18099 variants\n",
      "saving to zarr\n",
      "Will attempt to store at: vo_agam_production/ag3_data_paper/gamb_colu_arab.pca_umap_input_alleles.zarr\n",
      "type(pruned_downsampled_allele_counts): <class 'numpy.ndarray'>\n"
     ]
    }
   ],
   "source": [
    "for s in species_group:\n",
    "    build_allele_counts(s)"
   ]
  },
  {
   "cell_type": "code",
   "execution_count": 19,
   "metadata": {},
   "outputs": [
    {
     "name": "stderr",
     "output_type": "stream",
     "text": [
      "distributed.scheduler - INFO - Scheduler closing...\n",
      "distributed.scheduler - INFO - Scheduler closing all comms\n",
      "distributed.scheduler - INFO - Remove worker tcp://10.32.116.2:39037\n",
      "distributed.core - INFO - Removing comms to tcp://10.32.116.2:39037\n",
      "distributed.client - ERROR - Failed to reconnect to scheduler after 10.00 seconds, closing client\n",
      "distributed.utils - ERROR - \n",
      "Traceback (most recent call last):\n",
      "  File \"/opt/conda/lib/python3.7/site-packages/distributed/utils.py\", line 663, in log_errors\n",
      "    yield\n",
      "  File \"/opt/conda/lib/python3.7/site-packages/distributed/client.py\", line 1296, in _close\n",
      "    await gen.with_timeout(timedelta(seconds=2), list(coroutines))\n",
      "concurrent.futures._base.CancelledError\n",
      "distributed.utils - ERROR - \n",
      "Traceback (most recent call last):\n",
      "  File \"/opt/conda/lib/python3.7/site-packages/distributed/utils.py\", line 663, in log_errors\n",
      "    yield\n",
      "  File \"/opt/conda/lib/python3.7/site-packages/distributed/client.py\", line 1025, in _reconnect\n",
      "    await self._close()\n",
      "  File \"/opt/conda/lib/python3.7/site-packages/distributed/client.py\", line 1296, in _close\n",
      "    await gen.with_timeout(timedelta(seconds=2), list(coroutines))\n",
      "concurrent.futures._base.CancelledError\n"
     ]
    }
   ],
   "source": [
    "cluster.close()"
   ]
  },
  {
   "cell_type": "code",
   "execution_count": null,
   "metadata": {},
   "outputs": [],
   "source": []
  }
 ],
 "metadata": {
  "kernelspec": {
   "display_name": "Python 3",
   "language": "python",
   "name": "python3"
  },
  "language_info": {
   "codemirror_mode": {
    "name": "ipython",
    "version": 3
   },
   "file_extension": ".py",
   "mimetype": "text/x-python",
   "name": "python",
   "nbconvert_exporter": "python",
   "pygments_lexer": "ipython3",
   "version": "3.7.6"
  }
 },
 "nbformat": 4,
 "nbformat_minor": 4
}
