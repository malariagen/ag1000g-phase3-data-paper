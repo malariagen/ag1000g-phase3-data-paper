{
 "cells": [
  {
   "cell_type": "code",
   "execution_count": 1,
   "metadata": {},
   "outputs": [],
   "source": [
    "from dask_kubernetes import KubeCluster\n",
    "from dask.distributed import Client, progress\n",
    "import dask.array as da\n",
    "import numpy as np\n",
    "import zarr\n",
    "import allel\n",
    "import sys\n",
    "import ag3\n",
    "import psutil\n",
    "from humanize import naturalsize\n",
    "import numba"
   ]
  },
  {
   "cell_type": "code",
   "execution_count": 2,
   "metadata": {},
   "outputs": [
    {
     "name": "stdout",
     "output_type": "stream",
     "text": [
      "../../data/pca/gamb_colu.pca.zarr.zip\n",
      "../../data/pca/arab.pca.zarr.zip\n",
      "../../data/pca/gamb_colu_arab.pca.zarr.zip\n"
     ]
    }
   ],
   "source": [
    "#outputs?\n",
    "species_group=[\"gamb_colu\", \"arab\", \"gamb_colu_arab\"]\n",
    "for a in species_group:\n",
    "    ootput = (\"../../data/pca/\"+a+\".pca.zarr.zip\")\n",
    "    print(ootput)\n"
   ]
  },
  {
   "cell_type": "code",
   "execution_count": 4,
   "metadata": {},
   "outputs": [],
   "source": [
    "#params\n",
    "module_path = \"../../notebooks/\"\n",
    "n_downsample = 100_000\n",
    "max_allele = 3\n",
    "random_seed = 42\n",
    "n_workers = 10"
   ]
  },
  {
   "cell_type": "code",
   "execution_count": 5,
   "metadata": {},
   "outputs": [],
   "source": [
    "#more params\n",
    "region_3L_free =  '3L', 15000000, 41000000\n",
    "region_3R_free =  '3R', 1, 37000000\n",
    "\n",
    "regions = {\"gamb_colu\" : [region_3L_free, region_3R_free],\n",
    "           \"arab\" : region_3L_free,\n",
    "           \"gamb_colu_arab\"  : region_3L_free\n",
    "          }\n",
    "\n",
    "#is this correct?\n",
    "sample_query = {\"gamb_colu\" : \"species_gambcolu_arabiensis == 'gamb_colu'\",\n",
    "                \"arab\" : \"species_gambcolu_arabiensis == 'arabiensis'\",\n",
    "                \"gamb_colu_arab\" : \"species_gambcolu_arabiensis != 'NA'\"\n",
    "               }\n"
   ]
  },
  {
   "cell_type": "code",
   "execution_count": 6,
   "metadata": {},
   "outputs": [
    {
     "name": "stdout",
     "output_type": "stream",
     "text": [
      "1.6 GB used, 13.9 GB available, 15.8 GB total\n"
     ]
    }
   ],
   "source": [
    "def show_memory():\n",
    "      vm = psutil.virtual_memory()\n",
    "      print(f\"{naturalsize(vm.used)} used, {naturalsize(vm.available)} available, {naturalsize(vm.total)} total\")\n",
    "show_memory()"
   ]
  },
  {
   "cell_type": "code",
   "execution_count": 7,
   "metadata": {},
   "outputs": [],
   "source": [
    "# Define a function to return the genotype data for a given chromosome region, for a given sample set.\n",
    "# Use the specified intake catalog.\n",
    "def load_genotype_calldata(cat, sample_set, chrom_arm, region_slice_obj):\n",
    "    print('- load_genotype_calldata', sample_set, chrom_arm, region_slice_obj)\n",
    "    zarr_data = cat.ag3.snp_genotypes(sample_set=sample_set).to_zarr()\n",
    "    return da.from_zarr(zarr_data[chrom_arm][\"calldata\"][\"GT\"])[region_slice_obj]"
   ]
  },
  {
   "cell_type": "code",
   "execution_count": 8,
   "metadata": {},
   "outputs": [],
   "source": [
    "class Util:\n",
    "# Define a function to count the presence of each allele in a given array of genotypes (samples * variants * alleles)\n",
    "    # and return an array of allele counts with a row for each possible allele (limited by max_allele) for each sample, and column for each variant\n",
    "    @staticmethod\n",
    "    @numba.njit(numba.int8[:, :](numba.int8[:, :, :], numba.int8), nogil=True)\n",
    "    def numpy_genotype_tensor_to_allele_counts_melt(gt, max_allele):\n",
    "        # Create an array of zeros (for defaults) with the same number of colums (variants) as the genotype array but a row for each allele, for each sample\n",
    "        out = np.zeros((gt.shape[0] * (max_allele + 1), gt.shape[1]), dtype=np.int8)\n",
    "        # For each row (sample) in the genotype array\n",
    "        for i in range(gt.shape[0]):\n",
    "            # For each column (variant) in the genotype array\n",
    "            for j in range(gt.shape[1]):\n",
    "                # For each allele in the genotype array \n",
    "                for k in range(gt.shape[2]):\n",
    "                    allele = gt[i, j, k]\n",
    "                    # If the value in the genotype array at this row and colum and 3rd dimension (i.e. the allele value) is between 0 and max_allele  \n",
    "                    if 0 <= allele <= max_allele:\n",
    "                        # Increment the value of the `out` array at the row corresponding to this allele for this sample, at the corresponding variant column\n",
    "                        out[(i * (max_allele + 1)) + allele, j] += 1\n",
    "        return out"
   ]
  },
  {
   "cell_type": "markdown",
   "metadata": {},
   "source": [
    "## the only way I could get the code to work is to define this ^^ as Util otherwise the map blocks code doesn't run - why is this?"
   ]
  },
  {
   "cell_type": "code",
   "execution_count": 9,
   "metadata": {},
   "outputs": [],
   "source": [
    "# Define a function to apply the above function chunk-wise\n",
    "def dask_genotype_tensor_to_allele_counts_melt(gt, max_allele):\n",
    "    # Determine output chunks - change axis 0; preserve axis 1; drop axis 2.\n",
    "    dim0_chunks = tuple(np.array(gt.chunks[0]) * (max_allele + 1))\n",
    "    chunks = (dim0_chunks, gt.chunks[1])\n",
    "    \n",
    "    return gt.map_blocks(\n",
    "        Util.numpy_genotype_tensor_to_allele_counts_melt,\n",
    "        max_allele=max_allele,\n",
    "        chunks=chunks,\n",
    "        dtype=\"i1\",\n",
    "        drop_axis=2,\n",
    "    )"
   ]
  },
  {
   "cell_type": "markdown",
   "metadata": {},
   "source": [
    "## test using 'arab' "
   ]
  },
  {
   "cell_type": "code",
   "execution_count": 10,
   "metadata": {},
   "outputs": [],
   "source": [
    "test = 'arab'"
   ]
  },
  {
   "cell_type": "code",
   "execution_count": 11,
   "metadata": {},
   "outputs": [
    {
     "name": "stderr",
     "output_type": "stream",
     "text": [
      "distributed.scheduler - INFO - Clear task state\n",
      "distributed.scheduler - INFO -   Scheduler at: tcp://10.33.164.204:34957\n",
      "distributed.scheduler - INFO -   dashboard at:                     :8787\n"
     ]
    }
   ],
   "source": [
    "# cluster setup\n",
    "cluster = KubeCluster()\n",
    "cluster.scale_up(n_workers)"
   ]
  },
  {
   "cell_type": "code",
   "execution_count": 12,
   "metadata": {},
   "outputs": [
    {
     "name": "stderr",
     "output_type": "stream",
     "text": [
      "distributed.scheduler - INFO - Receive client connection: Client-3cb48aa8-01a7-11eb-8801-4ae43484533d\n",
      "distributed.core - INFO - Starting established connection\n"
     ]
    },
    {
     "name": "stdout",
     "output_type": "stream",
     "text": [
      "/user/c.clarkson@liverpool.ac.uk/proxy/8787/status\n"
     ]
    },
    {
     "name": "stderr",
     "output_type": "stream",
     "text": [
      "/opt/conda/lib/python3.7/site-packages/pandas/core/ops/array_ops.py:253: FutureWarning: elementwise comparison failed; returning scalar instead, but in the future will perform elementwise comparison\n",
      "  res_values = method(rvalues)\n"
     ]
    }
   ],
   "source": [
    "# dask client setup\n",
    "client = Client(cluster)\n",
    "print(cluster.dashboard_link)\n",
    "\n",
    "# grab data from release\n",
    "v3 = ag3.release_data()\n",
    "\n",
    "sample_sets = v3.all_wild_sample_sets\n",
    "\n",
    "# load_metadata\n",
    "metadata = v3.load_sample_set_metadata(sample_sets)\n",
    "\n",
    "sample_loc = metadata.eval(sample_query[test]).values\n",
    "assert sample_loc.sum() > 0, \"Must select >0 samples\"\n",
    "\n",
    "genotypes = []\n",
    "site_filters = []"
   ]
  },
  {
   "cell_type": "code",
   "execution_count": 13,
   "metadata": {},
   "outputs": [
    {
     "name": "stdout",
     "output_type": "stream",
     "text": [
      "3L 15000000 41000000\n"
     ]
    },
    {
     "name": "stderr",
     "output_type": "stream",
     "text": [
      "distributed.scheduler - INFO - Register tcp://10.32.68.4:37793\n",
      "distributed.scheduler - INFO - Starting worker compute stream, tcp://10.32.68.4:37793\n",
      "distributed.core - INFO - Starting established connection\n",
      "distributed.scheduler - INFO - Register tcp://10.32.50.4:34775\n",
      "distributed.scheduler - INFO - Starting worker compute stream, tcp://10.32.50.4:34775\n",
      "distributed.core - INFO - Starting established connection\n",
      "distributed.scheduler - INFO - Register tcp://10.32.73.3:32811\n",
      "distributed.scheduler - INFO - Starting worker compute stream, tcp://10.32.73.3:32811\n",
      "distributed.core - INFO - Starting established connection\n",
      "distributed.scheduler - INFO - Register tcp://10.32.72.3:43283\n",
      "distributed.scheduler - INFO - Starting worker compute stream, tcp://10.32.72.3:43283\n",
      "distributed.core - INFO - Starting established connection\n",
      "distributed.scheduler - INFO - Register tcp://10.32.71.4:41303\n",
      "distributed.scheduler - INFO - Starting worker compute stream, tcp://10.32.71.4:41303\n",
      "distributed.core - INFO - Starting established connection\n",
      "distributed.scheduler - INFO - Register tcp://10.32.53.5:37809\n",
      "distributed.scheduler - INFO - Starting worker compute stream, tcp://10.32.53.5:37809\n",
      "distributed.core - INFO - Starting established connection\n",
      "distributed.scheduler - INFO - Register tcp://10.32.69.5:35393\n",
      "distributed.scheduler - INFO - Starting worker compute stream, tcp://10.32.69.5:35393\n",
      "distributed.core - INFO - Starting established connection\n",
      "distributed.scheduler - INFO - Register tcp://10.32.63.5:44489\n",
      "distributed.scheduler - INFO - Starting worker compute stream, tcp://10.32.63.5:44489\n",
      "distributed.core - INFO - Starting established connection\n",
      "distributed.scheduler - INFO - Register tcp://10.32.48.5:33181\n",
      "distributed.scheduler - INFO - Starting worker compute stream, tcp://10.32.48.5:33181\n",
      "distributed.core - INFO - Starting established connection\n",
      "distributed.scheduler - INFO - Register tcp://10.32.56.5:44887\n",
      "distributed.scheduler - INFO - Starting worker compute stream, tcp://10.32.56.5:44887\n",
      "distributed.core - INFO - Starting established connection\n"
     ]
    }
   ],
   "source": [
    "chrom, start, stop = regions[test]\n",
    "print(chrom, start, stop)\n",
    "#     \n",
    "pos = allel.SortedIndex(v3.load_variants(chrom))\n",
    "ix = pos.locate_range(start, stop)\n",
    "gt = v3.load_sample_set_calldata(chrom, sample_set=sample_sets)[ix]\n",
    "mask = v3.load_mask(chrom, test)[ix]\n",
    "g = da.compress(sample_loc, gt, axis=1)\n",
    "\n",
    "genotypes.append(g)\n",
    "site_filters.append(mask)\n",
    "\n",
    "genotype_data = da.concatenate(genotypes, axis=0)\n",
    "site_filters_data = da.concatenate(site_filters, axis=0)\n",
    "\n",
    "melted_allele_counts = dask_genotype_tensor_to_allele_counts_melt(gt=genotype_data, max_allele=max_allele)"
   ]
  },
  {
   "cell_type": "code",
   "execution_count": 14,
   "metadata": {},
   "outputs": [
    {
     "name": "stdout",
     "output_type": "stream",
     "text": [
      "Number of samples 368\n"
     ]
    }
   ],
   "source": [
    "# Get the number of genotyped samples\n",
    "number_of_samples = genotype_data.shape[1]\n",
    "print(\"Number of samples\", number_of_samples)\n",
    "\n",
    "# Sum the allele counts\n",
    "allele_count_sums = da.sum(melted_allele_counts, axis=1, dtype='int16')\n",
    "\n",
    "# Determine which alleles meet the criteria, and record as a Boolean array.\n",
    "loc_midfreq_alleles = (allele_count_sums >= 2) & (allele_count_sums <= ((number_of_samples * 2) - 2))\n",
    "\n",
    "# Transform the Boolean site_filter index into the same space as the melted allele counts.\n",
    "loc_accessible = da.repeat(site_filters_data, max_allele + 1) # 4 alleles\n",
    "\n",
    "# Check that loc_accessible is the same shape as loc_midfreq_alleles\n",
    "assert loc_accessible.shape == loc_midfreq_alleles.shape"
   ]
  },
  {
   "cell_type": "code",
   "execution_count": 15,
   "metadata": {},
   "outputs": [],
   "source": [
    "# Determine the corresponding array indices for all of the mid-frequency alleles that are accessible\n",
    "# We use the '&' to choose sites that meet the critera AND are accessible.\n",
    "midfreq_alleles_as_indices = da.nonzero(loc_midfreq_alleles & loc_accessible)[0]\n",
    "\n",
    "# Compute (and bring into client memory) the midfreq_alleles_as_indices\n",
    "ix_select = midfreq_alleles_as_indices.compute()"
   ]
  },
  {
   "cell_type": "code",
   "execution_count": 16,
   "metadata": {},
   "outputs": [],
   "source": [
    "# Set/reset the random seed used for random variant selection\n",
    "# to ensure that we always select the same set of random variants\n",
    "np.random.seed(random_seed)\n",
    "\n",
    "# Randomly choose `n_downsample_variants` items from the array of accessible mid-frequency allele indices\n",
    "downsampled_site_indices = np.random.choice(\n",
    "    ix_select, \n",
    "    size=n_downsample, \n",
    "    replace=False)\n",
    "\n",
    "# Sort the indices to allow contiguous parsing\n",
    "downsampled_site_indices.sort()\n",
    "\n",
    "# From the melted_allele_counts array, take the corresponding indices\n",
    "downsampled_allele_counts = da.take(melted_allele_counts, downsampled_site_indices, axis=0)"
   ]
  },
  {
   "cell_type": "code",
   "execution_count": 17,
   "metadata": {},
   "outputs": [],
   "source": [
    "computed_downsampled_allele_counts = downsampled_allele_counts.compute()"
   ]
  },
  {
   "cell_type": "code",
   "execution_count": 20,
   "metadata": {},
   "outputs": [
    {
     "data": {
      "text/plain": [
       "(100000, 368)"
      ]
     },
     "execution_count": 20,
     "metadata": {},
     "output_type": "execute_result"
    }
   ],
   "source": [
    "computed_downsampled_allele_counts.shape"
   ]
  },
  {
   "cell_type": "code",
   "execution_count": 21,
   "metadata": {},
   "outputs": [
    {
     "name": "stderr",
     "output_type": "stream",
     "text": [
      "distributed.scheduler - INFO - Scheduler closing...\n",
      "distributed.scheduler - INFO - Scheduler closing all comms\n",
      "distributed.scheduler - INFO - Remove worker tcp://10.32.68.4:37793\n",
      "distributed.core - INFO - Removing comms to tcp://10.32.68.4:37793\n",
      "distributed.client - ERROR - Failed to reconnect to scheduler after 10.00 seconds, closing client\n",
      "distributed.utils - ERROR - \n",
      "Traceback (most recent call last):\n",
      "  File \"/opt/conda/lib/python3.7/site-packages/distributed/utils.py\", line 663, in log_errors\n",
      "    yield\n",
      "  File \"/opt/conda/lib/python3.7/site-packages/distributed/client.py\", line 1296, in _close\n",
      "    await gen.with_timeout(timedelta(seconds=2), list(coroutines))\n",
      "concurrent.futures._base.CancelledError\n",
      "distributed.utils - ERROR - \n",
      "Traceback (most recent call last):\n",
      "  File \"/opt/conda/lib/python3.7/site-packages/distributed/utils.py\", line 663, in log_errors\n",
      "    yield\n",
      "  File \"/opt/conda/lib/python3.7/site-packages/distributed/client.py\", line 1025, in _reconnect\n",
      "    await self._close()\n",
      "  File \"/opt/conda/lib/python3.7/site-packages/distributed/client.py\", line 1296, in _close\n",
      "    await gen.with_timeout(timedelta(seconds=2), list(coroutines))\n",
      "concurrent.futures._base.CancelledError\n"
     ]
    }
   ],
   "source": [
    "cluster.close()"
   ]
  },
  {
   "cell_type": "code",
   "execution_count": null,
   "metadata": {},
   "outputs": [],
   "source": []
  }
 ],
 "metadata": {
  "kernelspec": {
   "display_name": "Python 3",
   "language": "python",
   "name": "python3"
  },
  "language_info": {
   "codemirror_mode": {
    "name": "ipython",
    "version": 3
   },
   "file_extension": ".py",
   "mimetype": "text/x-python",
   "name": "python",
   "nbconvert_exporter": "python",
   "pygments_lexer": "ipython3",
   "version": "3.7.6"
  }
 },
 "nbformat": 4,
 "nbformat_minor": 4
}
