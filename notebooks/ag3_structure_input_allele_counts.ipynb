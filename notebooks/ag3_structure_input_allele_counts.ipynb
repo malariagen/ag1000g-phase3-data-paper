{
 "cells": [
  {
   "cell_type": "code",
   "execution_count": 1,
   "metadata": {},
   "outputs": [],
   "source": [
    "import traceback\n",
    "import logging\n",
    "\n",
    "logger = logging.getLogger('produce-allele-counts')\n",
    "logger.setLevel(logging.DEBUG)\n",
    "\n",
    "# create console handler with a higher log level\n",
    "ch = logging.StreamHandler()\n",
    "ch.setLevel(logging.INFO)\n",
    "\n",
    "# create formatter and add it to the handlers\n",
    "formatter = logging.Formatter('%(asctime)s - %(name)s - %(levelname)s - %(message)s')\n",
    "ch.setFormatter(formatter)\n",
    "# add the handlers to logger\n",
    "logger.addHandler(ch)"
   ]
  },
  {
   "cell_type": "code",
   "execution_count": 2,
   "metadata": {},
   "outputs": [],
   "source": [
    "from dask_kubernetes import KubeCluster\n",
    "from dask.distributed import Client, progress\n",
    "import dask.array as da\n",
    "import numpy as np\n",
    "import zarr\n",
    "import allel\n",
    "import sys\n",
    "import ag3\n",
    "import psutil\n",
    "from humanize import naturalsize\n",
    "import numba"
   ]
  },
  {
   "cell_type": "markdown",
   "metadata": {},
   "source": [
    "### parameters"
   ]
  },
  {
   "cell_type": "code",
   "execution_count": 3,
   "metadata": {},
   "outputs": [],
   "source": [
    "species_group = [\"gamb_colu\", \"arab\", \"gamb_colu_arab\"]\n",
    "n_downsample = 100_000\n",
    "max_allele = 3\n",
    "random_seed = 42\n",
    "n_workers = 10\n",
    "\n",
    "#regions\n",
    "region_3L_free =  '3L', 15000000, 41000000\n",
    "region_3R_free =  '3R', 1, 37000000\n",
    "\n",
    "regions = {\"gamb_colu\" : [region_3L_free, region_3R_free],\n",
    "           \"arab\" : [region_3L_free,],\n",
    "           \"gamb_colu_arab\"  : [region_3L_free,]\n",
    "          }\n",
    "\n",
    "\n",
    "sample_query = {\"gamb_colu\" : \"species_gambcolu_arabiensis == 'gamb_colu'\",\n",
    "                \"arab\" : \"species_gambcolu_arabiensis == 'arabiensis'\",\n",
    "                \"gamb_colu_arab\" : \"species_gambcolu_arabiensis in ('gamb_colu', 'arabiensis', 'intermediate')\"\n",
    "               }"
   ]
  },
  {
   "cell_type": "markdown",
   "metadata": {},
   "source": [
    "### cloud storage"
   ]
  },
  {
   "cell_type": "code",
   "execution_count": 4,
   "metadata": {},
   "outputs": [],
   "source": [
    "# Data storage, uses about 34 MB\n",
    "output_cloud_zarr_path_template = 'vo_agam_production/ag3_data_paper/{}.pca_umap_input_alleles.zarr'\n",
    "# Writing the PCA data to the cloud will require the appropriate authentication and authorization.\n",
    "\n",
    "import gcsfs\n",
    "# UNCOMMENT THIS TO AUTHENTICATE. YOU ONLY NEED TO RUN THIS ONCE.\n",
    "# After running this once, your authentication token should then be cached in `~/.gcs_tokens`\n",
    "# Once you have authenticated, you should comment this out again to avoid re-authenticating.\n",
    "# gcs_browser = gcsfs.GCSFileSystem(project='malariagen-jupyterhub', token='browser')\n",
    "\n",
    "# Use `cache_timeout=0` to prevent object list cache, to avoid recreating map for Zarr consolidated metadata\n",
    "auth_fs = gcsfs.GCSFileSystem(project='malariagen-jupyterhub', token='cache', cache_timeout=0)"
   ]
  },
  {
   "cell_type": "code",
   "execution_count": 6,
   "metadata": {},
   "outputs": [
    {
     "name": "stdout",
     "output_type": "stream",
     "text": [
      "Checking for vo_agam_production/ag3_data_paper/gamb_colu.pca_umap_input_alleles.zarr/.zmetadata\n",
      "Checking for vo_agam_production/ag3_data_paper/arab.pca_umap_input_alleles.zarr/.zmetadata\n",
      "Checking for vo_agam_production/ag3_data_paper/gamb_colu_arab.pca_umap_input_alleles.zarr/.zmetadata\n"
     ]
    }
   ],
   "source": [
    "for sp in species_group:\n",
    "\n",
    "    # Check that the output's Zarr metadata file is not already on the cloud.\n",
    "    # We don't want to accidentally overwrite or delete existing data, which might have been used in downstream analysis.\n",
    "    # We don't simply check for the existence of the Zarr file here (i.e. output_cloud_zarr_path),\n",
    "    # We might want to re-run the first parts of this notebook again,\n",
    "    # so the Zarr store might legitimately exist but be incomplete.\n",
    "    # The Zarr store is not considered complete until the Zarr metadata file (.zmetadata) is present and correct.\n",
    "    # The final part of this notebook includes steps to create the Zarr metadata file and then validate it.\n",
    "\n",
    "    output_cloud_zarr_metadata_path = f'{output_cloud_zarr_path_template.format(sp)}/.zmetadata'\n",
    "    print(f'Checking for {output_cloud_zarr_metadata_path}')\n",
    "    assert not auth_fs.exists(output_cloud_zarr_metadata_path)"
   ]
  },
  {
   "cell_type": "markdown",
   "metadata": {},
   "source": [
    "### functions"
   ]
  },
  {
   "cell_type": "code",
   "execution_count": 7,
   "metadata": {},
   "outputs": [
    {
     "name": "stdout",
     "output_type": "stream",
     "text": [
      "1.9 GB used, 13.6 GB available, 15.8 GB total\n"
     ]
    }
   ],
   "source": [
    "def show_memory():\n",
    "      vm = psutil.virtual_memory()\n",
    "      print(f\"{naturalsize(vm.used)} used, {naturalsize(vm.available)} available, {naturalsize(vm.total)} total\")\n",
    "show_memory()"
   ]
  },
  {
   "cell_type": "code",
   "execution_count": 8,
   "metadata": {},
   "outputs": [],
   "source": [
    "@numba.njit(numba.int8[:, :](numba.int8[:, :, :], numba.int8), nogil=True)\n",
    "def numpy_genotype_tensor_to_allele_counts_melt(gt, max_allele):\n",
    "    # Create an array of zeros (for defaults) with the same number of colums (variants) as the genotype array but a row for each allele, for each sample\n",
    "    out = np.zeros((gt.shape[0] * (max_allele + 1), gt.shape[1]), dtype=np.int8)\n",
    "    # For each row (sample) in the genotype array\n",
    "    for i in range(gt.shape[0]):\n",
    "        # For each column (variant) in the genotype array\n",
    "        for j in range(gt.shape[1]):\n",
    "            # For each allele in the genotype array \n",
    "            for k in range(gt.shape[2]):\n",
    "                allele = gt[i, j, k]\n",
    "                # If the value in the genotype array at this row and colum and 3rd dimension (i.e. the allele value) is between 0 and max_allele  \n",
    "                if 0 <= allele <= max_allele:\n",
    "                    # Increment the value of the `out` array at the row corresponding to this allele for this sample, at the corresponding variant column\n",
    "                    out[(i * (max_allele + 1)) + allele, j] += 1\n",
    "    return out"
   ]
  },
  {
   "cell_type": "code",
   "execution_count": 9,
   "metadata": {},
   "outputs": [],
   "source": [
    "# Define a function to apply the above function chunk-wise\n",
    "def dask_genotype_tensor_to_allele_counts_melt(gt, max_allele):\n",
    "    # Determine output chunks - change axis 0; preserve axis 1; drop axis 2.\n",
    "    dim0_chunks = tuple(np.array(gt.chunks[0]) * (max_allele + 1))\n",
    "    chunks = (dim0_chunks, gt.chunks[1])\n",
    "    \n",
    "    return gt.map_blocks(\n",
    "        numpy_genotype_tensor_to_allele_counts_melt,\n",
    "        max_allele=max_allele,\n",
    "        chunks=chunks,\n",
    "        dtype=\"i1\",\n",
    "        drop_axis=2,\n",
    "    )"
   ]
  },
  {
   "cell_type": "code",
   "execution_count": 10,
   "metadata": {},
   "outputs": [],
   "source": [
    "# Slowest point- difficult to improve with Dask\n",
    "def ld_prune(gn, size=500, step=200, threshold=.1, n_iter=1):\n",
    "    for i in range(n_iter):\n",
    "        loc_unlinked = allel.locate_unlinked(gn, size=size, step=step, threshold=threshold)\n",
    "        n = np.count_nonzero(loc_unlinked)\n",
    "        n_remove = gn.shape[0] - n\n",
    "        logger.info(f'iteration {i+1}: retaining {n}, removing {n_remove} variants')\n",
    "        gn = gn.compress(loc_unlinked, axis=0)\n",
    "    return gn"
   ]
  },
  {
   "cell_type": "markdown",
   "metadata": {},
   "source": [
    "## run"
   ]
  },
  {
   "cell_type": "code",
   "execution_count": 11,
   "metadata": {},
   "outputs": [
    {
     "name": "stderr",
     "output_type": "stream",
     "text": [
      "distributed.scheduler - INFO - Clear task state\n",
      "distributed.scheduler - INFO -   Scheduler at: tcp://10.33.164.221:40769\n",
      "distributed.scheduler - INFO -   dashboard at:                     :8787\n"
     ]
    }
   ],
   "source": [
    "# cluster setup\n",
    "cluster = KubeCluster()\n",
    "cluster.scale_up(n_workers)"
   ]
  },
  {
   "cell_type": "code",
   "execution_count": 12,
   "metadata": {},
   "outputs": [
    {
     "name": "stderr",
     "output_type": "stream",
     "text": [
      "distributed.scheduler - INFO - Receive client connection: Client-a5f7bbc2-095a-11eb-876c-c6bfdf39bfce\n",
      "distributed.core - INFO - Starting established connection\n"
     ]
    },
    {
     "data": {
      "text/html": [
       "<table style=\"border: 2px solid white;\">\n",
       "<tr>\n",
       "<td style=\"vertical-align: top; border: 0px solid white\">\n",
       "<h3 style=\"text-align: left;\">Client</h3>\n",
       "<ul style=\"text-align: left; list-style: none; margin: 0; padding: 0;\">\n",
       "  <li><b>Scheduler: </b>tcp://10.33.164.221:40769</li>\n",
       "  <li><b>Dashboard: </b><a href='/user/nicholasharding/proxy/8787/status' target='_blank'>/user/nicholasharding/proxy/8787/status</a>\n",
       "</ul>\n",
       "</td>\n",
       "<td style=\"vertical-align: top; border: 0px solid white\">\n",
       "<h3 style=\"text-align: left;\">Cluster</h3>\n",
       "<ul style=\"text-align: left; list-style:none; margin: 0; padding: 0;\">\n",
       "  <li><b>Workers: </b>0</li>\n",
       "  <li><b>Cores: </b>0</li>\n",
       "  <li><b>Memory: </b>0 B</li>\n",
       "</ul>\n",
       "</td>\n",
       "</tr>\n",
       "</table>"
      ],
      "text/plain": [
       "<Client: 'tcp://10.33.164.221:40769' processes=0 threads=0, memory=0 B>"
      ]
     },
     "execution_count": 12,
     "metadata": {},
     "output_type": "execute_result"
    }
   ],
   "source": [
    "# dask client setup\n",
    "client = Client(cluster)\n",
    "client"
   ]
  },
  {
   "cell_type": "code",
   "execution_count": 13,
   "metadata": {},
   "outputs": [],
   "source": [
    "# grab data from release\n",
    "v3 = ag3.release_data()"
   ]
  },
  {
   "cell_type": "code",
   "execution_count": 14,
   "metadata": {},
   "outputs": [],
   "source": [
    "sample_sets = v3.all_wild_sample_sets"
   ]
  },
  {
   "cell_type": "code",
   "execution_count": 15,
   "metadata": {},
   "outputs": [
    {
     "name": "stderr",
     "output_type": "stream",
     "text": [
      "distributed.scheduler - INFO - Register tcp://10.33.75.9:45439\n",
      "distributed.scheduler - INFO - Starting worker compute stream, tcp://10.33.75.9:45439\n",
      "distributed.core - INFO - Starting established connection\n",
      "distributed.scheduler - INFO - Register tcp://10.33.81.4:34107\n",
      "distributed.scheduler - INFO - Starting worker compute stream, tcp://10.33.81.4:34107\n",
      "distributed.core - INFO - Starting established connection\n",
      "distributed.scheduler - INFO - Register tcp://10.32.247.4:43017\n",
      "distributed.scheduler - INFO - Starting worker compute stream, tcp://10.32.247.4:43017\n",
      "distributed.core - INFO - Starting established connection\n",
      "distributed.scheduler - INFO - Register tcp://10.33.74.8:43411\n",
      "distributed.scheduler - INFO - Starting worker compute stream, tcp://10.33.74.8:43411\n",
      "distributed.core - INFO - Starting established connection\n",
      "distributed.scheduler - INFO - Register tcp://10.32.254.7:34109\n",
      "distributed.scheduler - INFO - Starting worker compute stream, tcp://10.32.254.7:34109\n",
      "distributed.core - INFO - Starting established connection\n",
      "distributed.scheduler - INFO - Register tcp://10.32.250.9:38351\n",
      "distributed.scheduler - INFO - Starting worker compute stream, tcp://10.32.250.9:38351\n",
      "distributed.core - INFO - Starting established connection\n",
      "distributed.scheduler - INFO - Register tcp://10.33.55.8:41773\n",
      "distributed.scheduler - INFO - Starting worker compute stream, tcp://10.33.55.8:41773\n",
      "distributed.core - INFO - Starting established connection\n",
      "distributed.scheduler - INFO - Register tcp://10.33.10.8:40875\n",
      "distributed.scheduler - INFO - Starting worker compute stream, tcp://10.33.10.8:40875\n",
      "distributed.core - INFO - Starting established connection\n",
      "distributed.scheduler - INFO - Register tcp://10.33.85.5:36459\n",
      "distributed.scheduler - INFO - Starting worker compute stream, tcp://10.33.85.5:36459\n",
      "distributed.core - INFO - Starting established connection\n",
      "distributed.scheduler - INFO - Register tcp://10.33.60.8:41881\n",
      "distributed.scheduler - INFO - Starting worker compute stream, tcp://10.33.60.8:41881\n",
      "distributed.core - INFO - Starting established connection\n",
      "/opt/conda/lib/python3.7/site-packages/pandas/core/ops/array_ops.py:253: FutureWarning: elementwise comparison failed; returning scalar instead, but in the future will perform elementwise comparison\n",
      "  res_values = method(rvalues)\n"
     ]
    }
   ],
   "source": [
    "# load_metadata\n",
    "metadata = v3.load_sample_set_metadata(sample_sets)"
   ]
  },
  {
   "cell_type": "code",
   "execution_count": 16,
   "metadata": {},
   "outputs": [],
   "source": [
    "def build_allele_counts(selection):\n",
    "    \n",
    "    logger.info(f\"building allele counts for {selection}\")\n",
    "    \n",
    "    sample_loc = metadata.eval(sample_query[selection]).values\n",
    "    assert sample_loc.sum() > 0, \"Must select >0 samples\"\n",
    "\n",
    "    genotypes = []\n",
    "    site_filters = []\n",
    "        \n",
    "    for reg in (regions[selection]):      \n",
    "        chrom, start, stop = reg\n",
    "        logger.info(f\"{chrom}: {start}-{stop}\")\n",
    "\n",
    "        pos = allel.SortedIndex(v3.load_variants(chrom))\n",
    "        ix = pos.locate_range(start, stop)\n",
    "        gt = v3.load_sample_set_calldata(chrom, sample_set=sample_sets)[ix]\n",
    "        mask = v3.load_mask(chrom, selection)[ix]\n",
    "        g = da.compress(sample_loc, gt, axis=1)\n",
    "\n",
    "        genotypes.append(g)\n",
    "        site_filters.append(mask)\n",
    "\n",
    "    genotype_data = da.concatenate(genotypes, axis=0)\n",
    "    site_filters_data = da.concatenate(site_filters, axis=0)\n",
    "\n",
    "    melted_allele_counts = dask_genotype_tensor_to_allele_counts_melt(gt=genotype_data, max_allele=max_allele)\n",
    "\n",
    "    # Get the number of genotyped samples\n",
    "    number_of_samples = genotype_data.shape[1]\n",
    "    logger.info(f\"Number of samples {number_of_samples}\")\n",
    "\n",
    "    # Sum the allele counts\n",
    "    allele_count_sums = da.sum(melted_allele_counts, axis=1, dtype='int16')\n",
    "\n",
    "    # Determine which alleles meet the criteria, and record as a Boolean array.\n",
    "    loc_midfreq_alleles = (allele_count_sums >= 2) & (allele_count_sums <= ((number_of_samples * 2) - 2))\n",
    "\n",
    "    # Transform the Boolean site_filter index into the same space as the melted allele counts.\n",
    "    loc_accessible = da.repeat(site_filters_data, max_allele + 1) # 4 alleles\n",
    "\n",
    "    # Check that loc_accessible is the same shape as loc_midfreq_alleles\n",
    "    assert loc_accessible.shape == loc_midfreq_alleles.shape\n",
    "\n",
    "    # Determine the corresponding array indices for all of the mid-frequency alleles that are accessible\n",
    "    # We use the '&' to choose sites that meet the critera AND are accessible.\n",
    "    midfreq_alleles_as_indices = da.nonzero(loc_midfreq_alleles & loc_accessible)[0]\n",
    "\n",
    "    # Compute (and bring into client memory) the midfreq_alleles_as_indices\n",
    "    ix_select = midfreq_alleles_as_indices.compute()\n",
    "    \n",
    "    # Set/reset the random seed used for random variant selection\n",
    "    # to ensure that we always select the same set of random variants\n",
    "    np.random.seed(random_seed)\n",
    "\n",
    "    logger.info(f\"Performing downsampling to {n_downsample}\")\n",
    "    \n",
    "    # Randomly choose `n_downsample_variants` items from the array of accessible mid-frequency allele indices\n",
    "    downsampled_site_indices = np.random.choice(\n",
    "        ix_select, \n",
    "        size=n_downsample, \n",
    "        replace=False)\n",
    "\n",
    "    # Sort the indices to allow contiguous parsing\n",
    "    downsampled_site_indices.sort()\n",
    "\n",
    "    # From the melted_allele_counts array, take the corresponding indices\n",
    "    downsampled_allele_counts = da.take(melted_allele_counts, downsampled_site_indices, axis=0)   \n",
    "    computed_downsampled_allele_counts = downsampled_allele_counts.compute()\n",
    "    \n",
    "    \n",
    "    logger.info(\"Performing LD pruning.\")\n",
    "    # prune\n",
    "    pruned_downsampled_allele_counts = ld_prune(computed_downsampled_allele_counts)\n",
    "    \n",
    "    # finally save to zarr...\n",
    "    output_cloud_zarr_path = output_cloud_zarr_path_template.format(selection)\n",
    "    logger.info(f\"Storing at {output_cloud_zarr_path}\")\n",
    "\n",
    "    # Sometimes errors with `overwrite=True`, sometimes errors without, when dir not exist\n",
    "    # Keep the zarr_store for zarr.consolidate_metadata(zarr_store)\n",
    "    zarr_store = auth_fs.get_mapper(output_cloud_zarr_path)\n",
    "    zarr_group = zarr.group(zarr_store)\n",
    "\n",
    "    # Check the data type\n",
    "    logger.info(f\"type(pruned_downsampled_allele_counts): {type(pruned_downsampled_allele_counts)}\")\n",
    "    \n",
    "    # overwrite=True, otherwise `ValueError: path 'allele_counts_pca_ready' contains an array`\n",
    "    zarr_group.create_dataset(\"allele_counts_pca_ready\", data=pruned_downsampled_allele_counts, overwrite=True)\n",
    "    \n",
    "    # Check the stored data has all its chunks initialized\n",
    "    assert zarr_group['allele_counts_pca_ready'].nchunks_initialized == zarr_group['allele_counts_pca_ready'].nchunks\n",
    "    \n",
    "    # Check the store contains the expected arrays\n",
    "    assert 'allele_counts_pca_ready/.zarray' in zarr_store\n",
    "    \n",
    "    # Consolidate the Zarr metatdata\n",
    "    zarr.consolidate_metadata(zarr_store)\n",
    "    \n",
    "    # Check the consolidated Zarr metadata\n",
    "    zarr_consolidated_metadata = zarr.open_consolidated(zarr_store)\n",
    "    assert list(zarr_consolidated_metadata.keys()) == ['allele_counts_pca_ready']"
   ]
  },
  {
   "cell_type": "code",
   "execution_count": 17,
   "metadata": {},
   "outputs": [
    {
     "name": "stderr",
     "output_type": "stream",
     "text": [
      "2020-10-08 11:37:36,538 - produce-allele-counts - INFO - building allele counts for gamb_colu\n",
      "2020-10-08 11:37:36,547 - produce-allele-counts - INFO - 3L: 15000000-41000000\n",
      "2020-10-08 11:37:44,433 - produce-allele-counts - INFO - 3R: 1-37000000\n",
      "2020-10-08 11:37:49,683 - produce-allele-counts - INFO - Number of samples 2415\n",
      "distributed.core - INFO - Event loop was unresponsive in Scheduler for 26.27s.  This is often caused by long-running GIL-holding functions or moving large chunks of data. This can cause timeouts and instability.\n",
      "distributed.utils_perf - INFO - full garbage collection released 12.75 MB from 0 reference cycles (threshold: 10.00 MB)\n",
      "distributed.utils_perf - WARNING - full garbage collections took 19% CPU time recently (threshold: 10%)\n",
      "distributed.utils_perf - WARNING - full garbage collections took 19% CPU time recently (threshold: 10%)\n",
      "distributed.utils_perf - WARNING - full garbage collections took 19% CPU time recently (threshold: 10%)\n",
      "distributed.utils_perf - WARNING - full garbage collections took 19% CPU time recently (threshold: 10%)\n",
      "distributed.utils_perf - WARNING - full garbage collections took 18% CPU time recently (threshold: 10%)\n",
      "distributed.utils_perf - WARNING - full garbage collections took 18% CPU time recently (threshold: 10%)\n",
      "distributed.utils_perf - WARNING - full garbage collections took 17% CPU time recently (threshold: 10%)\n",
      "distributed.utils_perf - WARNING - full garbage collections took 17% CPU time recently (threshold: 10%)\n",
      "distributed.utils_perf - WARNING - full garbage collections took 17% CPU time recently (threshold: 10%)\n",
      "distributed.utils_perf - WARNING - full garbage collections took 16% CPU time recently (threshold: 10%)\n",
      "distributed.utils_perf - WARNING - full garbage collections took 16% CPU time recently (threshold: 10%)\n",
      "distributed.utils_perf - WARNING - full garbage collections took 16% CPU time recently (threshold: 10%)\n",
      "2020-10-08 11:44:35,037 - produce-allele-counts - INFO - Performing downsampling to 100000\n",
      "distributed.utils_perf - WARNING - full garbage collections took 16% CPU time recently (threshold: 10%)\n",
      "distributed.utils_perf - WARNING - full garbage collections took 16% CPU time recently (threshold: 10%)\n",
      "distributed.utils_perf - WARNING - full garbage collections took 16% CPU time recently (threshold: 10%)\n",
      "distributed.utils_perf - WARNING - full garbage collections took 16% CPU time recently (threshold: 10%)\n",
      "distributed.utils_perf - WARNING - full garbage collections took 16% CPU time recently (threshold: 10%)\n",
      "distributed.utils_perf - WARNING - full garbage collections took 16% CPU time recently (threshold: 10%)\n",
      "distributed.utils_perf - WARNING - full garbage collections took 14% CPU time recently (threshold: 10%)\n",
      "distributed.utils_perf - WARNING - full garbage collections took 13% CPU time recently (threshold: 10%)\n",
      "distributed.utils_perf - WARNING - full garbage collections took 13% CPU time recently (threshold: 10%)\n",
      "distributed.core - INFO - Event loop was unresponsive in Scheduler for 27.59s.  This is often caused by long-running GIL-holding functions or moving large chunks of data. This can cause timeouts and instability.\n",
      "distributed.utils_perf - WARNING - full garbage collections took 13% CPU time recently (threshold: 10%)\n",
      "distributed.utils_perf - WARNING - full garbage collections took 13% CPU time recently (threshold: 10%)\n",
      "distributed.utils_perf - WARNING - full garbage collections took 13% CPU time recently (threshold: 10%)\n",
      "distributed.utils_perf - WARNING - full garbage collections took 13% CPU time recently (threshold: 10%)\n",
      "distributed.utils_perf - WARNING - full garbage collections took 13% CPU time recently (threshold: 10%)\n",
      "distributed.utils_perf - WARNING - full garbage collections took 13% CPU time recently (threshold: 10%)\n",
      "distributed.utils_perf - WARNING - full garbage collections took 13% CPU time recently (threshold: 10%)\n",
      "distributed.utils_perf - WARNING - full garbage collections took 13% CPU time recently (threshold: 10%)\n",
      "distributed.comm.tcp - WARNING - Closing dangling stream in <TCP  local=tcp://10.33.164.221:50714 remote=tcp://10.33.164.221:40769>\n",
      "distributed.utils_perf - WARNING - full garbage collections took 13% CPU time recently (threshold: 10%)\n",
      "distributed.utils_perf - WARNING - full garbage collections took 13% CPU time recently (threshold: 10%)\n",
      "distributed.utils_perf - WARNING - full garbage collections took 13% CPU time recently (threshold: 10%)\n",
      "distributed.utils_perf - WARNING - full garbage collections took 13% CPU time recently (threshold: 10%)\n",
      "distributed.utils_perf - WARNING - full garbage collections took 13% CPU time recently (threshold: 10%)\n",
      "distributed.utils_perf - WARNING - full garbage collections took 13% CPU time recently (threshold: 10%)\n",
      "distributed.utils_perf - WARNING - full garbage collections took 13% CPU time recently (threshold: 10%)\n",
      "distributed.utils_perf - WARNING - full garbage collections took 13% CPU time recently (threshold: 10%)\n",
      "distributed.utils_perf - WARNING - full garbage collections took 13% CPU time recently (threshold: 10%)\n",
      "distributed.utils_perf - WARNING - full garbage collections took 13% CPU time recently (threshold: 10%)\n",
      "distributed.utils_perf - WARNING - full garbage collections took 13% CPU time recently (threshold: 10%)\n",
      "distributed.utils_perf - WARNING - full garbage collections took 12% CPU time recently (threshold: 10%)\n",
      "2020-10-08 11:50:22,279 - produce-allele-counts - INFO - Performing LD pruning.\n",
      "2020-10-08 11:54:45,070 - produce-allele-counts - INFO - iteration 1: retaining 82912, removing 17088 variants\n",
      "2020-10-08 11:54:45,155 - produce-allele-counts - INFO - Storing at vo_agam_production/ag3_data_paper/gamb_colu.pca_umap_input_alleles.zarr\n",
      "2020-10-08 11:54:45,879 - produce-allele-counts - INFO - type(pruned_downsampled_allele_counts): <class 'numpy.ndarray'>\n",
      "2020-10-08 11:55:05,226 - produce-allele-counts - INFO - building allele counts for arab\n",
      "2020-10-08 11:55:05,234 - produce-allele-counts - INFO - 3L: 15000000-41000000\n",
      "2020-10-08 11:55:10,248 - produce-allele-counts - INFO - Number of samples 368\n",
      "distributed.utils_perf - WARNING - full garbage collections took 12% CPU time recently (threshold: 10%)\n",
      "distributed.utils_perf - WARNING - full garbage collections took 11% CPU time recently (threshold: 10%)\n",
      "distributed.utils_perf - WARNING - full garbage collections took 11% CPU time recently (threshold: 10%)\n",
      "distributed.utils_perf - WARNING - full garbage collections took 11% CPU time recently (threshold: 10%)\n",
      "2020-10-08 11:55:43,437 - produce-allele-counts - INFO - Performing downsampling to 100000\n",
      "distributed.utils_perf - WARNING - full garbage collections took 11% CPU time recently (threshold: 10%)\n",
      "distributed.utils_perf - WARNING - full garbage collections took 11% CPU time recently (threshold: 10%)\n",
      "distributed.utils_perf - WARNING - full garbage collections took 11% CPU time recently (threshold: 10%)\n",
      "2020-10-08 11:56:09,825 - produce-allele-counts - INFO - Performing LD pruning.\n",
      "2020-10-08 11:56:27,093 - produce-allele-counts - INFO - iteration 1: retaining 40862, removing 59138 variants\n",
      "2020-10-08 11:56:27,100 - produce-allele-counts - INFO - Storing at vo_agam_production/ag3_data_paper/arab.pca_umap_input_alleles.zarr\n",
      "2020-10-08 11:56:27,794 - produce-allele-counts - INFO - type(pruned_downsampled_allele_counts): <class 'numpy.ndarray'>\n",
      "2020-10-08 11:56:33,389 - produce-allele-counts - INFO - building allele counts for gamb_colu_arab\n",
      "2020-10-08 11:56:33,396 - produce-allele-counts - INFO - 3L: 15000000-41000000\n",
      "distributed.utils_perf - WARNING - full garbage collections took 11% CPU time recently (threshold: 10%)\n",
      "2020-10-08 11:56:38,281 - produce-allele-counts - INFO - Number of samples 2784\n",
      "distributed.utils_perf - WARNING - full garbage collections took 11% CPU time recently (threshold: 10%)\n",
      "distributed.utils_perf - WARNING - full garbage collections took 11% CPU time recently (threshold: 10%)\n",
      "distributed.utils_perf - WARNING - full garbage collections took 11% CPU time recently (threshold: 10%)\n",
      "distributed.utils_perf - WARNING - full garbage collections took 11% CPU time recently (threshold: 10%)\n",
      "distributed.utils_perf - WARNING - full garbage collections took 12% CPU time recently (threshold: 10%)\n",
      "distributed.core - INFO - Event loop was unresponsive in Scheduler for 12.75s.  This is often caused by long-running GIL-holding functions or moving large chunks of data. This can cause timeouts and instability.\n",
      "distributed.utils_perf - WARNING - full garbage collections took 12% CPU time recently (threshold: 10%)\n",
      "distributed.utils_perf - WARNING - full garbage collections took 13% CPU time recently (threshold: 10%)\n",
      "distributed.utils_perf - WARNING - full garbage collections took 13% CPU time recently (threshold: 10%)\n",
      "distributed.utils_perf - WARNING - full garbage collections took 13% CPU time recently (threshold: 10%)\n",
      "distributed.utils_perf - WARNING - full garbage collections took 13% CPU time recently (threshold: 10%)\n",
      "distributed.utils_perf - WARNING - full garbage collections took 13% CPU time recently (threshold: 10%)\n",
      "distributed.utils_perf - WARNING - full garbage collections took 13% CPU time recently (threshold: 10%)\n",
      "distributed.utils_perf - WARNING - full garbage collections took 12% CPU time recently (threshold: 10%)\n",
      "distributed.utils_perf - WARNING - full garbage collections took 12% CPU time recently (threshold: 10%)\n",
      "distributed.utils_perf - WARNING - full garbage collections took 12% CPU time recently (threshold: 10%)\n",
      "distributed.utils_perf - WARNING - full garbage collections took 11% CPU time recently (threshold: 10%)\n",
      "2020-10-08 11:59:42,919 - produce-allele-counts - INFO - Performing downsampling to 100000\n",
      "distributed.utils_perf - WARNING - full garbage collections took 11% CPU time recently (threshold: 10%)\n",
      "distributed.utils_perf - WARNING - full garbage collections took 11% CPU time recently (threshold: 10%)\n",
      "distributed.utils_perf - WARNING - full garbage collections took 10% CPU time recently (threshold: 10%)\n",
      "distributed.utils_perf - WARNING - full garbage collections took 10% CPU time recently (threshold: 10%)\n",
      "distributed.utils_perf - WARNING - full garbage collections took 10% CPU time recently (threshold: 10%)\n",
      "distributed.core - INFO - Event loop was unresponsive in Scheduler for 13.56s.  This is often caused by long-running GIL-holding functions or moving large chunks of data. This can cause timeouts and instability.\n",
      "distributed.utils_perf - WARNING - full garbage collections took 10% CPU time recently (threshold: 10%)\n",
      "distributed.utils_perf - WARNING - full garbage collections took 10% CPU time recently (threshold: 10%)\n",
      "distributed.utils_perf - WARNING - full garbage collections took 10% CPU time recently (threshold: 10%)\n",
      "distributed.utils_perf - WARNING - full garbage collections took 10% CPU time recently (threshold: 10%)\n",
      "distributed.utils_perf - WARNING - full garbage collections took 10% CPU time recently (threshold: 10%)\n",
      "distributed.utils_perf - WARNING - full garbage collections took 10% CPU time recently (threshold: 10%)\n",
      "distributed.utils_perf - WARNING - full garbage collections took 10% CPU time recently (threshold: 10%)\n",
      "distributed.utils_perf - WARNING - full garbage collections took 12% CPU time recently (threshold: 10%)\n",
      "distributed.utils_perf - WARNING - full garbage collections took 12% CPU time recently (threshold: 10%)\n",
      "2020-10-08 12:02:24,750 - produce-allele-counts - INFO - Performing LD pruning.\n",
      "2020-10-08 12:07:24,055 - produce-allele-counts - INFO - iteration 1: retaining 81901, removing 18099 variants\n",
      "2020-10-08 12:07:24,150 - produce-allele-counts - INFO - Storing at vo_agam_production/ag3_data_paper/gamb_colu_arab.pca_umap_input_alleles.zarr\n",
      "2020-10-08 12:07:24,704 - produce-allele-counts - INFO - type(pruned_downsampled_allele_counts): <class 'numpy.ndarray'>\n"
     ]
    }
   ],
   "source": [
    "for s in species_group:\n",
    "    build_allele_counts(s)"
   ]
  },
  {
   "cell_type": "code",
   "execution_count": 18,
   "metadata": {},
   "outputs": [
    {
     "name": "stderr",
     "output_type": "stream",
     "text": [
      "distributed.scheduler - INFO - Scheduler closing...\n",
      "distributed.scheduler - INFO - Scheduler closing all comms\n",
      "distributed.scheduler - INFO - Remove worker tcp://10.32.247.4:43017\n",
      "distributed.core - INFO - Removing comms to tcp://10.32.247.4:43017\n",
      "distributed.scheduler - INFO - Remove worker tcp://10.33.75.9:45439\n",
      "distributed.core - INFO - Removing comms to tcp://10.33.75.9:45439\n",
      "distributed.client - ERROR - Failed to reconnect to scheduler after 10.00 seconds, closing client\n",
      "distributed.utils - ERROR - \n",
      "Traceback (most recent call last):\n",
      "  File \"/opt/conda/lib/python3.7/site-packages/distributed/utils.py\", line 663, in log_errors\n",
      "    yield\n",
      "  File \"/opt/conda/lib/python3.7/site-packages/distributed/client.py\", line 1296, in _close\n",
      "    await gen.with_timeout(timedelta(seconds=2), list(coroutines))\n",
      "concurrent.futures._base.CancelledError\n",
      "distributed.utils - ERROR - \n",
      "Traceback (most recent call last):\n",
      "  File \"/opt/conda/lib/python3.7/site-packages/distributed/utils.py\", line 663, in log_errors\n",
      "    yield\n",
      "  File \"/opt/conda/lib/python3.7/site-packages/distributed/client.py\", line 1025, in _reconnect\n",
      "    await self._close()\n",
      "  File \"/opt/conda/lib/python3.7/site-packages/distributed/client.py\", line 1296, in _close\n",
      "    await gen.with_timeout(timedelta(seconds=2), list(coroutines))\n",
      "concurrent.futures._base.CancelledError\n"
     ]
    }
   ],
   "source": [
    "cluster.close()"
   ]
  },
  {
   "cell_type": "code",
   "execution_count": null,
   "metadata": {},
   "outputs": [],
   "source": []
  }
 ],
 "metadata": {
  "kernelspec": {
   "display_name": "Python 3",
   "language": "python",
   "name": "python3"
  },
  "language_info": {
   "codemirror_mode": {
    "name": "ipython",
    "version": 3
   },
   "file_extension": ".py",
   "mimetype": "text/x-python",
   "name": "python",
   "nbconvert_exporter": "python",
   "pygments_lexer": "ipython3",
   "version": "3.7.6"
  }
 },
 "nbformat": 4,
 "nbformat_minor": 4
}
